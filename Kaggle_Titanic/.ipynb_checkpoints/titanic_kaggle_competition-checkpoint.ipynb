{
 "cells": [
  {
   "cell_type": "code",
   "execution_count": 1,
   "metadata": {
    "ExecuteTime": {
     "end_time": "2021-05-01T07:32:33.130454Z",
     "start_time": "2021-05-01T07:32:30.460872Z"
    },
    "cell_id": "00000-6cb311e5-63f7-478d-8f00-e685488bb974",
    "deepnote_cell_type": "code",
    "deepnote_to_be_reexecuted": false,
    "execution_millis": 13,
    "execution_start": 1619786083556,
    "source_hash": "78cd830d",
    "tags": []
   },
   "outputs": [
    {
     "name": "stdout",
     "output_type": "stream",
     "text": [
      "setup complete\n"
     ]
    }
   ],
   "source": [
    "# Start writing code here...\n",
    "\n",
    "#import the libraries\n",
    "import numpy as np\n",
    "import pandas as pd\n",
    "from pandas_profiling import ProfileReport\n",
    "from ipywidgets import widget\n",
    "\n",
    "import matplotlib.pyplot as plt\n",
    "import seaborn as sns\n",
    "%matplotlib inline\n",
    "\n",
    "from sklearn.model_selection import train_test_split\n",
    "from sklearn.ensemble import RandomForestClassifier\n",
    "from sklearn.metrics import classification_report, confusion_matrix\n",
    "from sklearn import metrics\n",
    "from sklearn.preprocessing import MinMaxScaler\n",
    "from sklearn.impute import KNNImputer\n",
    "\n",
    "print('setup complete')"
   ]
  },
  {
   "cell_type": "code",
   "execution_count": 2,
   "metadata": {
    "ExecuteTime": {
     "end_time": "2021-05-01T07:34:20.494342Z",
     "start_time": "2021-05-01T07:34:20.462425Z"
    },
    "cell_id": "00001-32538cdc-ad62-473e-834a-1eb0fae2ebab",
    "deepnote_cell_type": "code",
    "deepnote_to_be_reexecuted": false,
    "execution_millis": 21,
    "execution_start": 1619774653077,
    "source_hash": "87c26472",
    "tags": []
   },
   "outputs": [],
   "source": [
    "#import the data\n",
    "\n",
    "train_data = pd.read_csv('train.csv')\n",
    "test_data = pd.read_csv('test.csv')\n",
    "\n",
    "sample_submission = pd.read_csv('gender_submission.csv')"
   ]
  },
  {
   "cell_type": "code",
   "execution_count": null,
   "metadata": {},
   "outputs": [],
   "source": [
    "#report = ProfileReport(train_data, title=\"Titanic_Profiling_Report\")  # df1\n",
    "#report"
   ]
  },
  {
   "cell_type": "code",
   "execution_count": 3,
   "metadata": {
    "ExecuteTime": {
     "end_time": "2021-05-01T07:34:21.618237Z",
     "start_time": "2021-05-01T07:34:21.594279Z"
    },
    "cell_id": "00003-83a00dcc-2608-46b4-b8fb-eda461558df1",
    "deepnote_cell_type": "code",
    "deepnote_to_be_reexecuted": false,
    "execution_millis": 1,
    "execution_start": 1619786070421,
    "source_hash": "b6097e65",
    "tags": []
   },
   "outputs": [],
   "source": [
    "## columns not needed Name, Ticker, Embarked, Cabin, PassengerId \n",
    "\n",
    "#create a correlation heatmap\n",
    "heatmap_data = train_data.drop(['Name', 'Ticket', 'Cabin','PassengerId'], axis=1) #Embarked\n",
    "heatmap_data['Sex'] = heatmap_data['Sex'].replace({'male':1, 'female':0})\n",
    "heatmap_data['Embarked'] = heatmap_data['Embarked'].replace({'C':0, 'Q':1, 'S':2})\n",
    "\n",
    "#co-relation for overall data --- uncomment to see the heatmap\n",
    "\n",
    "#plt.figure(figsize=(14,12))\n",
    "#sns.heatmap(heatmap_data.astype(float).corr(),linewidths=0.1, \n",
    "#           square=True,  linecolor='white', annot=True)"
   ]
  },
  {
   "cell_type": "code",
   "execution_count": 4,
   "metadata": {
    "ExecuteTime": {
     "end_time": "2021-05-01T07:34:22.811271Z",
     "start_time": "2021-05-01T07:34:22.718701Z"
    },
    "cell_id": "00003-a3677425-15d5-4272-ab66-81cbaa80b45a",
    "deepnote_cell_type": "code",
    "deepnote_to_be_reexecuted": false,
    "execution_millis": 118,
    "execution_start": 1619783456272,
    "source_hash": "24e9efe4",
    "tags": []
   },
   "outputs": [
    {
     "data": {
      "text/html": [
       "<div>\n",
       "<style scoped>\n",
       "    .dataframe tbody tr th:only-of-type {\n",
       "        vertical-align: middle;\n",
       "    }\n",
       "\n",
       "    .dataframe tbody tr th {\n",
       "        vertical-align: top;\n",
       "    }\n",
       "\n",
       "    .dataframe thead th {\n",
       "        text-align: right;\n",
       "    }\n",
       "</style>\n",
       "<table border=\"1\" class=\"dataframe\">\n",
       "  <thead>\n",
       "    <tr style=\"text-align: right;\">\n",
       "      <th></th>\n",
       "      <th>Pclass</th>\n",
       "      <th>Sex</th>\n",
       "      <th>Age</th>\n",
       "      <th>SibSp</th>\n",
       "      <th>Parch</th>\n",
       "      <th>Fare</th>\n",
       "      <th>Embarked</th>\n",
       "    </tr>\n",
       "  </thead>\n",
       "  <tbody>\n",
       "    <tr>\n",
       "      <th>0</th>\n",
       "      <td>1.0</td>\n",
       "      <td>1.0</td>\n",
       "      <td>0.271174</td>\n",
       "      <td>0.125</td>\n",
       "      <td>0.0</td>\n",
       "      <td>0.014151</td>\n",
       "      <td>1.0</td>\n",
       "    </tr>\n",
       "    <tr>\n",
       "      <th>1</th>\n",
       "      <td>0.0</td>\n",
       "      <td>0.0</td>\n",
       "      <td>0.472229</td>\n",
       "      <td>0.125</td>\n",
       "      <td>0.0</td>\n",
       "      <td>0.139136</td>\n",
       "      <td>0.0</td>\n",
       "    </tr>\n",
       "    <tr>\n",
       "      <th>2</th>\n",
       "      <td>1.0</td>\n",
       "      <td>0.0</td>\n",
       "      <td>0.321438</td>\n",
       "      <td>0.000</td>\n",
       "      <td>0.0</td>\n",
       "      <td>0.015469</td>\n",
       "      <td>1.0</td>\n",
       "    </tr>\n",
       "    <tr>\n",
       "      <th>3</th>\n",
       "      <td>0.0</td>\n",
       "      <td>0.0</td>\n",
       "      <td>0.434531</td>\n",
       "      <td>0.125</td>\n",
       "      <td>0.0</td>\n",
       "      <td>0.103644</td>\n",
       "      <td>1.0</td>\n",
       "    </tr>\n",
       "    <tr>\n",
       "      <th>4</th>\n",
       "      <td>1.0</td>\n",
       "      <td>1.0</td>\n",
       "      <td>0.434531</td>\n",
       "      <td>0.000</td>\n",
       "      <td>0.0</td>\n",
       "      <td>0.015713</td>\n",
       "      <td>1.0</td>\n",
       "    </tr>\n",
       "  </tbody>\n",
       "</table>\n",
       "</div>"
      ],
      "text/plain": [
       "   Pclass  Sex       Age  SibSp  Parch      Fare  Embarked\n",
       "0     1.0  1.0  0.271174  0.125    0.0  0.014151       1.0\n",
       "1     0.0  0.0  0.472229  0.125    0.0  0.139136       0.0\n",
       "2     1.0  0.0  0.321438  0.000    0.0  0.015469       1.0\n",
       "3     0.0  0.0  0.434531  0.125    0.0  0.103644       1.0\n",
       "4     1.0  1.0  0.434531  0.000    0.0  0.015713       1.0"
      ]
     },
     "execution_count": 4,
     "metadata": {},
     "output_type": "execute_result"
    }
   ],
   "source": [
    "#\n",
    "features = heatmap_data.drop(['Survived'], axis=1)  # x\n",
    "target = heatmap_data['Survived']                   # y\n",
    "\n",
    "#scaling/normalization before imputing\n",
    "scaler = MinMaxScaler()\n",
    "norm_features = pd.DataFrame(scaler.fit_transform(features), columns = features.columns)\n",
    "\n",
    "#imputation\n",
    "imputer = KNNImputer(n_neighbors=3)  # sqrt \n",
    "final_features = pd.DataFrame(imputer.fit_transform(norm_features),columns = norm_features.columns)\n",
    "\n",
    "final_features.head()"
   ]
  },
  {
   "cell_type": "code",
   "execution_count": 15,
   "metadata": {
    "ExecuteTime": {
     "end_time": "2021-05-01T07:48:11.046733Z",
     "start_time": "2021-05-01T07:48:10.874668Z"
    },
    "cell_id": "00005-e06b315f-cdf7-4fb4-b738-46c8a37cb02d",
    "deepnote_cell_type": "code",
    "deepnote_to_be_reexecuted": false,
    "execution_millis": 189,
    "execution_start": 1619787588233,
    "source_hash": "fae9e556",
    "tags": []
   },
   "outputs": [
    {
     "name": "stdout",
     "output_type": "stream",
     "text": [
      "[[48 11]\n",
      " [ 5 26]]\n",
      "Accuracy: 0.8222222222222222\n"
     ]
    }
   ],
   "source": [
    "#Model-2 --> RandomForestClassifier\n",
    "\n",
    "X = final_features.values\n",
    "y = target.values\n",
    "\n",
    "#do the split\n",
    "X_train, X_test, y_train, y_test = train_test_split(X,y, test_size=0.1, random_state = 13)\n",
    "\n",
    "#create the model\n",
    "clf=RandomForestClassifier(n_estimators=100)\n",
    "\n",
    "#fit the data to model and predict using test data\n",
    "clf.fit(X_train,y_train)   \n",
    "y_pred = clf.predict(X_test) \n",
    "\n",
    "#print the results\n",
    "print(confusion_matrix(y_test, y_pred))\n",
    "#print(classification_report(y_test, y_pred))\n",
    "print(\"Accuracy:\",metrics.accuracy_score(y_test, y_pred))"
   ]
  },
  {
   "cell_type": "code",
   "execution_count": 14,
   "metadata": {
    "ExecuteTime": {
     "end_time": "2021-05-01T07:47:51.419616Z",
     "start_time": "2021-05-01T07:47:51.372772Z"
    },
    "cell_id": "00006-d6c9024b-8b36-4a97-ad4f-33ad42df1a69",
    "deepnote_cell_type": "code",
    "deepnote_to_be_reexecuted": false,
    "execution_millis": 42,
    "execution_start": 1619788104411,
    "source_hash": "34fde34d",
    "tags": []
   },
   "outputs": [],
   "source": [
    "# preprocessing test data\n",
    "df = test_data\n",
    "df1 = df.drop(['Name', 'Ticket', 'Cabin','PassengerId'], axis=1) \n",
    "df1['Sex'] = df['Sex'].replace({'male':1, 'female':0})\n",
    "df1['Embarked'] = df['Embarked'].replace({'C':0, 'Q':1, 'S':2})\n",
    "\n",
    "scaler = MinMaxScaler()\n",
    "norm_features = pd.DataFrame(scaler.fit_transform(df1), columns = df1.columns)\n",
    "\n",
    "#imputation\n",
    "imputer = KNNImputer(n_neighbors=3)  # sqrt \n",
    "test_final_features = pd.DataFrame(imputer.fit_transform(norm_features),columns = norm_features.columns)\n",
    "test_final_features.head()\n",
    "\n",
    "survivor=clf.predict(test_final_features) # survivor\n",
    "df_survivor= pd.DataFrame(survivor, columns= ['Survived'])\n",
    "\n",
    "#df_survivor.head()\n",
    "#survivor"
   ]
  },
  {
   "cell_type": "code",
   "execution_count": 11,
   "metadata": {
    "ExecuteTime": {
     "end_time": "2021-05-01T07:38:47.423220Z",
     "start_time": "2021-05-01T07:38:47.414222Z"
    },
    "cell_id": "00007-67ebaece-3852-4041-b82d-2e9c762ef5dc",
    "deepnote_cell_type": "code",
    "deepnote_to_be_reexecuted": false,
    "execution_millis": 2,
    "execution_start": 1619788374373,
    "source_hash": "1c91ab72",
    "tags": []
   },
   "outputs": [],
   "source": [
    "submission = pd.DataFrame({'PassengerId':df['PassengerId'],'Survived':survivor})\n",
    "submission.head()\n",
    "submission.to_csv('submission.csv', index = False)"
   ]
  }
 ],
 "metadata": {
  "deepnote": {
   "is_reactive": false
  },
  "deepnote_execution_queue": [],
  "deepnote_notebook_id": "13f78a2f-0784-4f75-9a4e-081b63726cd9",
  "kernelspec": {
   "display_name": "Python 3",
   "language": "python",
   "name": "python3"
  },
  "language_info": {
   "codemirror_mode": {
    "name": "ipython",
    "version": 3
   },
   "file_extension": ".py",
   "mimetype": "text/x-python",
   "name": "python",
   "nbconvert_exporter": "python",
   "pygments_lexer": "ipython3",
   "version": "3.8.8"
  }
 },
 "nbformat": 4,
 "nbformat_minor": 2
}
