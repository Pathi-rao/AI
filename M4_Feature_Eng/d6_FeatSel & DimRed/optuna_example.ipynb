{
 "cells": [
  {
   "cell_type": "code",
   "execution_count": 1,
   "id": "f47dc5b7",
   "metadata": {
    "ExecuteTime": {
     "end_time": "2021-05-11T12:50:57.010755Z",
     "start_time": "2021-05-11T12:50:54.972909Z"
    }
   },
   "outputs": [],
   "source": [
    "import numpy as np\n",
    "import pandas as pd\n",
    "#import sklearn \n",
    "#from sklearn"
   ]
  },
  {
   "cell_type": "code",
   "execution_count": null,
   "id": "b5d99f35",
   "metadata": {},
   "outputs": [],
   "source": []
  }
 ],
 "metadata": {
  "kernelspec": {
   "display_name": "Python 3",
   "language": "python",
   "name": "python3"
  },
  "language_info": {
   "codemirror_mode": {
    "name": "ipython",
    "version": 3
   },
   "file_extension": ".py",
   "mimetype": "text/x-python",
   "name": "python",
   "nbconvert_exporter": "python",
   "pygments_lexer": "ipython3",
   "version": "3.8.8"
  }
 },
 "nbformat": 4,
 "nbformat_minor": 5
}
