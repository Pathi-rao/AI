{
 "cells": [
  {
   "cell_type": "code",
   "execution_count": null,
   "id": "80d09579",
   "metadata": {
    "ExecuteTime": {
     "end_time": "2021-05-08T10:00:26.053798Z",
     "start_time": "2021-05-08T10:00:11.387822Z"
    }
   },
   "outputs": [],
   "source": [
    "#do the imports\n",
    "import numpy as np\n",
    "import pandas as pd\n",
    "from pandas_profiling import ProfileReport\n",
    "import matplotlib.pyplot as plt\n",
    "import seaborn as sns\n",
    "\n",
    "import smote_variants as sv #lib for sampling techniques\n",
    "print('setup complete')"
   ]
  },
  {
   "cell_type": "code",
   "execution_count": null,
   "id": "b67473a9",
   "metadata": {
    "ExecuteTime": {
     "end_time": "2021-05-08T10:00:26.134147Z",
     "start_time": "2021-05-08T10:00:26.058917Z"
    }
   },
   "outputs": [],
   "source": [
    "#load the dataset\n",
    "df = pd.read_csv('heart.csv')\n",
    "df.head()\n",
    "#print(df[df.target == 0])\n",
    "\n",
    "#165 rows of target 1\n",
    "#138 rows of target 0  --> Total 303 rows of data, we need to add 50% more --> total 454 rows of data "
   ]
  },
  {
   "cell_type": "code",
   "execution_count": null,
   "id": "eabb5237",
   "metadata": {},
   "outputs": [],
   "source": []
  },
  {
   "cell_type": "code",
   "execution_count": null,
   "id": "0b438899",
   "metadata": {
    "ExecuteTime": {
     "end_time": "2021-05-08T10:00:27.980219Z",
     "start_time": "2021-05-08T10:00:27.853508Z"
    }
   },
   "outputs": [],
   "source": [
    "#generate a EDA report\n",
    "\n",
    "report = ProfileReport(df, title=\"heart_attack_report\")\n"
   ]
  },
  {
   "cell_type": "code",
   "execution_count": null,
   "id": "79dbe125",
   "metadata": {
    "ExecuteTime": {
     "end_time": "2021-05-07T10:12:31.987190Z",
     "start_time": "2021-05-07T10:12:31.968156Z"
    }
   },
   "outputs": [],
   "source": [
    "#create a correlation heatmap --> uncomment the following lines to plot the heatmap\n",
    "#plt.figure(figsize=(10,8))\n",
    "#sns.heatmap(df.astype(float).corr(),linewidths=0.1, \n",
    "#           square=True,  linecolor='white', annot=True)"
   ]
  },
  {
   "cell_type": "code",
   "execution_count": null,
   "id": "728972c3",
   "metadata": {
    "ExecuteTime": {
     "end_time": "2021-05-08T10:00:33.198434Z",
     "start_time": "2021-05-08T10:00:33.186367Z"
    }
   },
   "outputs": [],
   "source": [
    "oversamplers= sv.get_all_oversamplers() #gives the list of available classifiers\n",
    "#oversamplers"
   ]
  },
  {
   "cell_type": "code",
   "execution_count": null,
   "id": "ba8ee727",
   "metadata": {
    "ExecuteTime": {
     "end_time": "2021-05-07T10:21:23.755080Z",
     "start_time": "2021-05-07T10:21:23.677013Z"
    },
    "scrolled": true
   },
   "outputs": [],
   "source": [
    "# Tried to find best sampler with respect to best classifier. but this sampler balances the imbalanced\n",
    "# classes and thats not what we want. so ignoring this cell\n",
    "\n",
    "from sklearn.tree import DecisionTreeClassifier\n",
    "from sklearn.neighbors import KNeighborsClassifier\n",
    "from sklearn.ensemble import RandomForestClassifier\n",
    "\n",
    "\n",
    "datasets= dataset #[imbd.load_glass2] polynom-fit-SMOTE\n",
    "oversamplers= [sv.SMOTE_ENN, sv.NEATER, sv.Lee, sv.polynom_fit_SMOTE]\n",
    "classifiers= [KNeighborsClassifier(n_neighbors= 3),\n",
    "                KNeighborsClassifier(n_neighbors= 5),\n",
    "                DecisionTreeClassifier(),\n",
    "             RandomForestClassifier()]\n",
    "\n",
    "cache_path= '/home/<user>/smote_validation/'\n",
    "\n",
    "sampler, classifier= sv.model_selection(dataset = datasets,\n",
    "                                        samplers = oversamplers,\n",
    "                                        classifiers = classifiers,\n",
    "                                        cache_path= cache_path,\n",
    "                                        n_jobs= 10,\n",
    "                                        max_samp_par_comb= 35)"
   ]
  },
  {
   "cell_type": "code",
   "execution_count": null,
   "id": "2305e9ef",
   "metadata": {
    "ExecuteTime": {
     "end_time": "2021-05-08T10:01:51.652074Z",
     "start_time": "2021-05-08T10:01:51.592368Z"
    },
    "scrolled": true
   },
   "outputs": [],
   "source": [
    "import smote_variants as sv\n",
    "\n",
    "dataset= df\n",
    "X = dataset.drop(['target'], axis = 1).values\n",
    "y = dataset['target'].values\n",
    "\n",
    "print(type(X))\n",
    "print(len(y))\n",
    "\n",
    "# How SMOTE balances the imbalanced targets\n",
    "oversampler= sv.distance_SMOTE()\n",
    "\n",
    "# X_samp and y_samp contain the oversampled dataset\n",
    "X_samp, y_samp= oversampler.sample(X, y)\n",
    "print(len(X_samp))\n",
    "print(len(y_samp))"
   ]
  },
  {
   "cell_type": "code",
   "execution_count": null,
   "id": "9d8b8115",
   "metadata": {
    "ExecuteTime": {
     "end_time": "2021-05-08T10:03:33.508997Z",
     "start_time": "2021-05-08T10:03:32.751256Z"
    }
   },
   "outputs": [],
   "source": [
    "#create an empty dataframe\n",
    "new_df = df.drop(['target'], axis = 1)\n",
    "df2 = pd.DataFrame(columns = new_dfcolumn_names)\n",
    "\n",
    "#loop in through all columns and generate new rows based on min. and max. value of that column\n",
    "for col in new_df.columns:\n",
    "    df2[col] = np.random.randint (df[col].min(), df[col].max() + 1, size=df.shape[0] // 2)\n",
    "\n",
    "#df2.to_csv('only_augumented_heart_data.csv', index = False)\n",
    "\n",
    "#create target separetly because python excludes last number    \n",
    "df2['target'] = np.random.randint(0, 2, size=df.shape[0] // 2)\n",
    "print(df2)\n",
    "\n",
    "frames = [df, df2]\n",
    "result = pd.concat(frames)\n",
    "\n",
    "result.to_csv('final_heart_data.csv', index = False)"
   ]
  }
 ],
 "metadata": {
  "kernelspec": {
   "display_name": "Python 3",
   "language": "python",
   "name": "python3"
  },
  "language_info": {
   "codemirror_mode": {
    "name": "ipython",
    "version": 3
   },
   "file_extension": ".py",
   "mimetype": "text/x-python",
   "name": "python",
   "nbconvert_exporter": "python",
   "pygments_lexer": "ipython3",
   "version": "3.8.8"
  }
 },
 "nbformat": 4,
 "nbformat_minor": 5
}
