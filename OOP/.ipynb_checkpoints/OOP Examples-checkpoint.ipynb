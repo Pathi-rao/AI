{
 "cells": [
  {
   "cell_type": "markdown",
   "metadata": {},
   "source": [
    "# Object Oriented Programming Examples\n",
    "\n",
    "This is a gentle introduction to Object Oriented Programming in Python. \n",
    "\n",
    "This is pretty much the notebook you have seen in the class. The following example contains two classes: the Student class and the Course class. This example has the goal to show you how you can use classes to simulate an online school register."
   ]
  },
  {
   "cell_type": "code",
   "execution_count": 18,
   "metadata": {
    "ExecuteTime": {
     "end_time": "2021-04-26T20:07:50.844234Z",
     "start_time": "2021-04-26T20:07:50.827947Z"
    }
   },
   "outputs": [],
   "source": [
    "class Student:\n",
    "    def __init__(self, name, age):\n",
    "        self.name = name\n",
    "        self.age = age\n",
    "        self.courses = []\n",
    "        self.grades = []\n",
    "    \n",
    "    \n",
    "    def add_course(self, course):\n",
    "        if course: #whats this line doing?\n",
    "            if course not in self.courses: #why self.courses and not courses ?\n",
    "                self.courses.append(course)\n",
    "            else:\n",
    "                print(f\"You have already added {course.name} to your courses.\") # why course.name & not course? \n",
    "    \n",
    "    \n",
    "    def add_grades(self, grades):\n",
    "        if type(grades) == int:\n",
    "            self.grades.append(grades)\n",
    "        elif type(grades) == list:\n",
    "            for grade in grades:\n",
    "                self.grades.append(grade)\n",
    "        else:\n",
    "            print(\"Add a valid list of grades\")\n",
    "    \n",
    "    def get_average(self):\n",
    "        if len(self.grades)>0:\n",
    "            return sum(self.grades)/len(self.grades)\n",
    "        else:\n",
    "            print(\"No registered grades.\")\n",
    "    \n",
    "    def get_courses(self):\n",
    "        if len(self.courses) == 0:\n",
    "            print(\"You did not enroll in any course.\")\n",
    "            return [] #is it returning an empty list?\n",
    "        else:\n",
    "            return [course.name for course in self.courses]\n",
    "            \n",
    "    def is_enrolled_in(self, course):\n",
    "        return course in self.courses"
   ]
  },
  {
   "cell_type": "markdown",
   "metadata": {},
   "source": [
    "Create instances for the Student class."
   ]
  },
  {
   "cell_type": "code",
   "execution_count": 19,
   "metadata": {
    "ExecuteTime": {
     "end_time": "2021-04-26T20:07:54.097624Z",
     "start_time": "2021-04-26T20:07:54.092390Z"
    }
   },
   "outputs": [],
   "source": [
    "antonio = Student(\"Antonio Marsella\", 25)\n",
    "jan = Student(\"Jan Carbonell\", 26)\n",
    "pathi = Student(\"Pathi-rao\", 25)\n",
    "student = Student(\"The Eldest\", 100)"
   ]
  },
  {
   "cell_type": "code",
   "execution_count": 20,
   "metadata": {
    "ExecuteTime": {
     "end_time": "2021-04-26T20:07:56.398773Z",
     "start_time": "2021-04-26T20:07:56.393537Z"
    }
   },
   "outputs": [],
   "source": [
    "pathi.add_course('ML')"
   ]
  },
  {
   "cell_type": "code",
   "execution_count": 21,
   "metadata": {
    "ExecuteTime": {
     "end_time": "2021-04-26T20:08:02.842428Z",
     "start_time": "2021-04-26T20:08:02.821766Z"
    }
   },
   "outputs": [
    {
     "ename": "AttributeError",
     "evalue": "'str' object has no attribute 'name'",
     "output_type": "error",
     "traceback": [
      "\u001b[1;31m---------------------------------------------------------------------------\u001b[0m",
      "\u001b[1;31mAttributeError\u001b[0m                            Traceback (most recent call last)",
      "\u001b[1;32m<ipython-input-21-699c7a68173d>\u001b[0m in \u001b[0;36m<module>\u001b[1;34m\u001b[0m\n\u001b[1;32m----> 1\u001b[1;33m \u001b[0mpathi\u001b[0m\u001b[1;33m.\u001b[0m\u001b[0madd_course\u001b[0m\u001b[1;33m(\u001b[0m\u001b[1;34m'ML'\u001b[0m\u001b[1;33m)\u001b[0m\u001b[1;33m\u001b[0m\u001b[1;33m\u001b[0m\u001b[0m\n\u001b[0m",
      "\u001b[1;32m<ipython-input-18-49fe5b4decd1>\u001b[0m in \u001b[0;36madd_course\u001b[1;34m(self, course)\u001b[0m\n\u001b[0;32m     12\u001b[0m                 \u001b[0mself\u001b[0m\u001b[1;33m.\u001b[0m\u001b[0mcourses\u001b[0m\u001b[1;33m.\u001b[0m\u001b[0mappend\u001b[0m\u001b[1;33m(\u001b[0m\u001b[0mcourse\u001b[0m\u001b[1;33m)\u001b[0m\u001b[1;33m\u001b[0m\u001b[1;33m\u001b[0m\u001b[0m\n\u001b[0;32m     13\u001b[0m             \u001b[1;32melse\u001b[0m\u001b[1;33m:\u001b[0m\u001b[1;33m\u001b[0m\u001b[1;33m\u001b[0m\u001b[0m\n\u001b[1;32m---> 14\u001b[1;33m                 \u001b[0mprint\u001b[0m\u001b[1;33m(\u001b[0m\u001b[1;34mf\"You have already added {course.name} to your courses.\"\u001b[0m\u001b[1;33m)\u001b[0m \u001b[1;31m# why course.name & not course?\u001b[0m\u001b[1;33m\u001b[0m\u001b[1;33m\u001b[0m\u001b[0m\n\u001b[0m\u001b[0;32m     15\u001b[0m \u001b[1;33m\u001b[0m\u001b[0m\n\u001b[0;32m     16\u001b[0m \u001b[1;33m\u001b[0m\u001b[0m\n",
      "\u001b[1;31mAttributeError\u001b[0m: 'str' object has no attribute 'name'"
     ]
    }
   ],
   "source": [
    "pathi.add_course('ML') #not returning the print statement"
   ]
  },
  {
   "cell_type": "code",
   "execution_count": 22,
   "metadata": {
    "ExecuteTime": {
     "end_time": "2021-04-26T20:10:44.974185Z",
     "start_time": "2021-04-26T20:10:44.955317Z"
    }
   },
   "outputs": [],
   "source": [
    "antonio.add_grades([10, 7, 6, 8, 9, 6])\n",
    "antonio.add_grades([7, 9])"
   ]
  },
  {
   "cell_type": "code",
   "execution_count": 23,
   "metadata": {
    "ExecuteTime": {
     "end_time": "2021-04-26T20:10:47.147039Z",
     "start_time": "2021-04-26T20:10:47.131382Z"
    }
   },
   "outputs": [
    {
     "data": {
      "text/plain": [
       "7.75"
      ]
     },
     "execution_count": 23,
     "metadata": {},
     "output_type": "execute_result"
    }
   ],
   "source": [
    "antonio.get_average()"
   ]
  },
  {
   "cell_type": "code",
   "execution_count": 24,
   "metadata": {
    "ExecuteTime": {
     "end_time": "2021-04-26T20:10:48.963512Z",
     "start_time": "2021-04-26T20:10:48.950505Z"
    }
   },
   "outputs": [
    {
     "name": "stdout",
     "output_type": "stream",
     "text": [
      "You did not enroll in any course.\n"
     ]
    },
    {
     "data": {
      "text/plain": [
       "[]"
      ]
     },
     "execution_count": 24,
     "metadata": {},
     "output_type": "execute_result"
    }
   ],
   "source": [
    "antonio.get_courses()"
   ]
  },
  {
   "cell_type": "code",
   "execution_count": 25,
   "metadata": {
    "ExecuteTime": {
     "end_time": "2021-04-26T20:10:53.005622Z",
     "start_time": "2021-04-26T20:10:52.994912Z"
    }
   },
   "outputs": [],
   "source": [
    "class Course:\n",
    "    def __init__(self, course_name, hours):\n",
    "        self.name = course_name\n",
    "        self.hours = hours\n",
    "        self.students = []\n",
    "    \n",
    "    def enroll(self, student):\n",
    "        if student:\n",
    "            if student not in self.students:\n",
    "                self.students.append(student)\n",
    "                student.add_course(self) #why not seflf.student\n",
    "            else:\n",
    "                print(student.name, \"already enrolled in\", self.name)\n",
    "                \n",
    "    def get_students_names(self):\n",
    "        return [student.name for student in self.students]"
   ]
  },
  {
   "cell_type": "code",
   "execution_count": 26,
   "metadata": {
    "ExecuteTime": {
     "end_time": "2021-04-26T20:10:55.089474Z",
     "start_time": "2021-04-26T20:10:55.076758Z"
    }
   },
   "outputs": [],
   "source": [
    "ai = Course(\"AI\", 300)\n",
    "fullstack = Course(\"FullStack\", 500)"
   ]
  },
  {
   "cell_type": "code",
   "execution_count": 27,
   "metadata": {
    "ExecuteTime": {
     "end_time": "2021-04-26T20:10:57.179828Z",
     "start_time": "2021-04-26T20:10:57.174285Z"
    }
   },
   "outputs": [],
   "source": [
    "ai.enroll(antonio)\n",
    "fullstack.enroll(random)\n",
    "ai.enroll(jan)\n",
    "fullstack.enroll(student)"
   ]
  },
  {
   "cell_type": "code",
   "execution_count": 28,
   "metadata": {
    "ExecuteTime": {
     "end_time": "2021-04-26T20:10:59.345906Z",
     "start_time": "2021-04-26T20:10:59.334039Z"
    }
   },
   "outputs": [
    {
     "data": {
      "text/plain": [
       "['AI']"
      ]
     },
     "execution_count": 28,
     "metadata": {},
     "output_type": "execute_result"
    }
   ],
   "source": [
    "antonio.get_courses()"
   ]
  },
  {
   "cell_type": "code",
   "execution_count": 29,
   "metadata": {
    "ExecuteTime": {
     "end_time": "2021-04-26T20:11:01.144605Z",
     "start_time": "2021-04-26T20:11:01.124942Z"
    }
   },
   "outputs": [
    {
     "data": {
      "text/plain": [
       "True"
      ]
     },
     "execution_count": 29,
     "metadata": {},
     "output_type": "execute_result"
    }
   ],
   "source": [
    "antonio.is_enrolled_in(ai)"
   ]
  },
  {
   "cell_type": "code",
   "execution_count": 30,
   "metadata": {
    "ExecuteTime": {
     "end_time": "2021-04-26T20:11:03.123550Z",
     "start_time": "2021-04-26T20:11:03.105843Z"
    }
   },
   "outputs": [
    {
     "data": {
      "text/plain": [
       "['Antonio Marsella', 'Jan Carbonell']"
      ]
     },
     "execution_count": 30,
     "metadata": {},
     "output_type": "execute_result"
    }
   ],
   "source": [
    "ai.get_students_names()"
   ]
  },
  {
   "cell_type": "code",
   "execution_count": 32,
   "metadata": {
    "ExecuteTime": {
     "end_time": "2021-04-26T20:11:07.339317Z",
     "start_time": "2021-04-26T20:11:07.329206Z"
    }
   },
   "outputs": [
    {
     "data": {
      "text/plain": [
       "['Random Student', 'The Eldest']"
      ]
     },
     "execution_count": 32,
     "metadata": {},
     "output_type": "execute_result"
    }
   ],
   "source": [
    "fullstack.get_students_names()"
   ]
  },
  {
   "cell_type": "code",
   "execution_count": 33,
   "metadata": {
    "ExecuteTime": {
     "end_time": "2021-04-26T20:11:09.842131Z",
     "start_time": "2021-04-26T20:11:09.834270Z"
    }
   },
   "outputs": [
    {
     "name": "stdout",
     "output_type": "stream",
     "text": [
      "Antonio Marsella already enrolled in AI\n"
     ]
    }
   ],
   "source": [
    "ai.enroll(antonio)"
   ]
  },
  {
   "cell_type": "code",
   "execution_count": 35,
   "metadata": {
    "ExecuteTime": {
     "end_time": "2021-04-26T20:11:13.618537Z",
     "start_time": "2021-04-26T20:11:13.605720Z"
    }
   },
   "outputs": [
    {
     "name": "stdout",
     "output_type": "stream",
     "text": [
      "You have already added AI to your courses.\n"
     ]
    }
   ],
   "source": [
    "antonio.add_course(ai)"
   ]
  },
  {
   "cell_type": "code",
   "execution_count": 36,
   "metadata": {
    "ExecuteTime": {
     "end_time": "2021-04-26T20:11:16.748005Z",
     "start_time": "2021-04-26T20:11:16.732056Z"
    }
   },
   "outputs": [
    {
     "ename": "NameError",
     "evalue": "name 'lr_model' is not defined",
     "output_type": "error",
     "traceback": [
      "\u001b[1;31m---------------------------------------------------------------------------\u001b[0m",
      "\u001b[1;31mNameError\u001b[0m                                 Traceback (most recent call last)",
      "\u001b[1;32m<ipython-input-36-8bc47332ae50>\u001b[0m in \u001b[0;36m<module>\u001b[1;34m\u001b[0m\n\u001b[1;32m----> 1\u001b[1;33m \u001b[0mlr_model\u001b[0m\u001b[1;33m.\u001b[0m\u001b[0mY_rpe\u001b[0m\u001b[1;33m\u001b[0m\u001b[1;33m\u001b[0m\u001b[0m\n\u001b[0m",
      "\u001b[1;31mNameError\u001b[0m: name 'lr_model' is not defined"
     ]
    }
   ],
   "source": [
    "lr_model.Y_rpe"
   ]
  },
  {
   "cell_type": "code",
   "execution_count": null,
   "metadata": {},
   "outputs": [],
   "source": []
  }
 ],
 "metadata": {
  "kernelspec": {
   "display_name": "Python 3",
   "language": "python",
   "name": "python3"
  },
  "language_info": {
   "codemirror_mode": {
    "name": "ipython",
    "version": 3
   },
   "file_extension": ".py",
   "mimetype": "text/x-python",
   "name": "python",
   "nbconvert_exporter": "python",
   "pygments_lexer": "ipython3",
   "version": "3.8.8"
  }
 },
 "nbformat": 4,
 "nbformat_minor": 4
}
