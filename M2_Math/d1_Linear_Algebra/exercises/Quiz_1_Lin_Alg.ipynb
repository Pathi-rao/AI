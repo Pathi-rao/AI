{
 "cells": [
  {
   "cell_type": "markdown",
   "metadata": {},
   "source": [
    "## Linear Algebra Quiz #1\n",
    "\n",
    "![title](./img/1_0.jpeg)\n",
    "\n",
    "We strongly suggest working with numpy :)"
   ]
  },
  {
   "cell_type": "code",
   "execution_count": 1,
   "metadata": {
    "ExecuteTime": {
     "end_time": "2021-03-30T14:07:05.303204Z",
     "start_time": "2021-03-30T14:07:02.195039Z"
    }
   },
   "outputs": [],
   "source": [
    "#Do your imports here\n",
    "import numpy as np  \n",
    "\n",
    "\n",
    "\n",
    "\n",
    "#This exercise is half solved and being solved as you read this. Thanks"
   ]
  },
  {
   "cell_type": "markdown",
   "metadata": {},
   "source": [
    "![title](./img/1_1.png)"
   ]
  },
  {
   "cell_type": "code",
   "execution_count": null,
   "metadata": {
    "ExecuteTime": {
     "end_time": "2021-03-29T14:33:20.845043Z",
     "start_time": "2021-03-29T14:33:20.831051Z"
    }
   },
   "outputs": [],
   "source": [
    "# type a function that given a 3_dimensional vector it is able to calculate its magnitude\n",
    "\n",
    "def magnitude_3(a,b,c):\n",
    "    vector = [a,b,c]\n",
    "    magnitude = np.linalg.norm(vector)\n",
    "    return magnitude\n",
    "\n",
    "# type a function that given a n_dimensional vector it is able to calculate its magnitude\n",
    "# if you want to try this from python (not jupyter notebook) https://docs.python.org/3/library/argparse.html would be a good addition\n",
    "# if you are doing this from a jupyter notebook only, you can try to promt the user for an input  \n",
    "\n",
    "def magnitude_complete(#inputs): #Imcomplete due to lack of time"
   ]
  },
  {
   "cell_type": "markdown",
   "metadata": {},
   "source": [
    "uncomment the following line when you are ready to test"
   ]
  },
  {
   "cell_type": "code",
   "execution_count": null,
   "metadata": {},
   "outputs": [],
   "source": [
    "#magnitude_complete(1) == 1.0\n",
    "#magnitude_complete(1,2) >= 2.236\n",
    "#magnitude_complete(1,2,3) >= 3.741\n",
    "#magnitude_complete(1,2,3,4,5) >= 5.477\n",
    "#magnitude_complete(1,2,3,4,5) >= 7.416"
   ]
  },
  {
   "cell_type": "markdown",
   "metadata": {},
   "source": [
    "![title](./img/1_2.png)"
   ]
  },
  {
   "cell_type": "code",
   "execution_count": null,
   "metadata": {},
   "outputs": [],
   "source": [
    "def magnitude_vectors(a, b):\n",
    "    #checks that size is equal\n",
    "            \n",
    "    #returns the magnitude"
   ]
  },
  {
   "cell_type": "markdown",
   "metadata": {},
   "source": [
    "![title](./img/1_3.png)"
   ]
  },
  {
   "cell_type": "code",
   "execution_count": null,
   "metadata": {},
   "outputs": [],
   "source": [
    "def direction_vectors(a, b):\n",
    "    #checks that size is equal\n",
    "\n",
    "    #returns the magnitude\n",
    "    \n",
    "# or if you want to do it all in one batch:\n",
    "def magdir_vectors(a, b):\n",
    "    #checks that size is equal\n",
    "    if len(a) != len(b):\n",
    "        raise ('Lengths must be equal')\n",
    "    else:\n",
    "        vector = [a,b]\n",
    "        magnitude = np.linalg.norm(vector)\n",
    "        \n",
    "    angle = np.array(a)+np.array(b)\n",
    "    ans = print(f'The magnitude of {a}+{b} is {magnitude} and angle is {angle}')\n",
    "    return ans                                     \n",
    "    #returns the magnitude and direction in a nicely printed format \n",
    "    #\"The magnitude of a + b is X and the direction is Y\""
   ]
  },
  {
   "cell_type": "markdown",
   "metadata": {},
   "source": [
    "![title](./img/1_4.png)\n",
    "- What is the magnitude of αx⃗? \n",
    "- If α>0, will the direction of the resulting vector change?\n",
    "- If α<0, will the direction of the resulting vector change?\n",
    "- If −1<α<1, will ∥αx⃗∥  increase, decrease or stay the same?"
   ]
  },
  {
   "cell_type": "code",
   "execution_count": 9,
   "metadata": {
    "ExecuteTime": {
     "end_time": "2021-03-30T14:08:41.912874Z",
     "start_time": "2021-03-30T14:08:41.893767Z"
    }
   },
   "outputs": [],
   "source": [
    "def alpha_magnitude(alpha, b):\n",
    "    vector = np.array(b)\n",
    "    final_vector = alpha * b\n",
    "    \n",
    "    absl = np.absolute(final_vector)\n",
    "    \n",
    "    if np.sign(alpha) > 0\n",
    "        print('No change in direction')\n",
    "    else:\n",
    "        print('There is a change in direction')\n",
    "    return (vector, np.linalg.norm(vector), absl)\n",
    "\n"
   ]
  },
  {
   "cell_type": "code",
   "execution_count": 15,
   "metadata": {
    "ExecuteTime": {
     "end_time": "2021-03-30T14:11:54.414121Z",
     "start_time": "2021-03-30T14:11:54.393872Z"
    }
   },
   "outputs": [
    {
     "name": "stdout",
     "output_type": "stream",
     "text": [
      "No change in direction\n"
     ]
    },
    {
     "data": {
      "text/plain": [
       "(array([1, 1]), 1.4142135623730951, array([1, 1, 1, 1, 1, 1, 1, 1, 1, 1]))"
      ]
     },
     "execution_count": 15,
     "metadata": {},
     "output_type": "execute_result"
    }
   ],
   "source": [
    "#alpha_magnitude(-8, [1,1])\n",
    "alpha_magnitude(5, [1,1])"
   ]
  }
 ],
 "metadata": {
  "kernelspec": {
   "display_name": "Python 3",
   "language": "python",
   "name": "python3"
  },
  "language_info": {
   "codemirror_mode": {
    "name": "ipython",
    "version": 3
   },
   "file_extension": ".py",
   "mimetype": "text/x-python",
   "name": "python",
   "nbconvert_exporter": "python",
   "pygments_lexer": "ipython3",
   "version": "3.8.8"
  }
 },
 "nbformat": 4,
 "nbformat_minor": 2
}
