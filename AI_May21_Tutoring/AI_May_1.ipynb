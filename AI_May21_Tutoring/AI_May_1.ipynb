{
 "cells": [
  {
   "cell_type": "markdown",
   "id": "czech-microwave",
   "metadata": {},
   "source": [
    "## Let's talk about *Regular Expressions*\n",
    "\n",
    "A regular expression (regex or regexp for short) is a special text string for describing a search pattern. You can think of regular expressions as wildcards on steroids.\n",
    "\n",
    "### \n",
    "\n",
    "### Why to use them?\n",
    "-  regex are fun (scary at first but trust me)\n",
    "-  They can match just about anything\n",
    "-  They help you write short code and much more...\n",
    "\n",
    "###  \n",
    "\n",
    "### Some useful resources\n",
    "- [regex playground](https://regexr.com/)\n",
    "- [documentation](https://docs.python.org/3/library/re.html)\n",
    "- [cheatsheet](https://medium.com/factory-mind/regex-tutorial-a-simple-cheatsheet-by-examples-649dc1c3f285)\n",
    "\n"
   ]
  },
  {
   "cell_type": "markdown",
   "id": "speaking-interpretation",
   "metadata": {},
   "source": []
  },
  {
   "cell_type": "markdown",
   "id": "pregnant-friend",
   "metadata": {},
   "source": [
    "## Let's play "
   ]
  },
  {
   "cell_type": "code",
   "execution_count": null,
   "id": "southern-pastor",
   "metadata": {
    "ExecuteTime": {
     "end_time": "2021-06-02T19:23:51.653194Z",
     "start_time": "2021-06-02T19:23:51.639817Z"
    },
    "scrolled": true
   },
   "outputs": [],
   "source": [
    "# How to do you import it?\n"
   ]
  },
  {
   "cell_type": "code",
   "execution_count": null,
   "id": "rotary-coast",
   "metadata": {
    "ExecuteTime": {
     "end_time": "2021-06-02T19:30:22.082441Z",
     "start_time": "2021-06-02T19:30:22.066226Z"
    }
   },
   "outputs": [],
   "source": [
    "#ex1\n",
    "\n",
    "my_txt = \"Hello!!!!! everyone, Welcome to Strive......\"\n",
    "\n",
    "new_txt = re.sub('[^A-Za-z0-9]+', ' ', my_txt)\n",
    "#new_txt\n",
    "\n",
    "print(new_txt)"
   ]
  },
  {
   "cell_type": "code",
   "execution_count": null,
   "id": "impressed-brooks",
   "metadata": {
    "ExecuteTime": {
     "end_time": "2021-06-02T20:07:41.816873Z",
     "start_time": "2021-06-02T20:07:41.805092Z"
    }
   },
   "outputs": [],
   "source": [
    "#ex2\n",
    "\n",
    "my_info = \"Hello, I am 180 cm tall and I weigh 79 kg\"\n",
    "\n",
    "new_info = \n",
    "\n",
    "print(new_info)"
   ]
  },
  {
   "cell_type": "code",
   "execution_count": null,
   "id": "revolutionary-diploma",
   "metadata": {
    "ExecuteTime": {
     "end_time": "2021-06-02T20:37:55.994824Z",
     "start_time": "2021-06-02T20:37:55.987089Z"
    }
   },
   "outputs": [],
   "source": [
    "#ex3\n",
    "\n",
    "my_email = \"This is my email: myfakeemail@gmail.com\"\n",
    "\n",
    "email  = \n",
    "\n",
    "print(email)"
   ]
  },
  {
   "cell_type": "markdown",
   "id": "unique-scoop",
   "metadata": {},
   "source": []
  },
  {
   "cell_type": "markdown",
   "id": "honest-catering",
   "metadata": {},
   "source": [
    "### We need to go *Deeper* (only if you want to)"
   ]
  },
  {
   "cell_type": "markdown",
   "id": "pretty-console",
   "metadata": {},
   "source": [
    "### Can you answer these?\n",
    "- What's numpy?\n",
    "- Why do we use numpy?\n",
    "- Which is fast numpy or python list?\n",
    "- Why?"
   ]
  },
  {
   "cell_type": "code",
   "execution_count": null,
   "id": "straight-dining",
   "metadata": {
    "ExecuteTime": {
     "end_time": "2021-06-02T21:04:58.039813Z",
     "start_time": "2021-06-02T21:04:58.025478Z"
    }
   },
   "outputs": [],
   "source": [
    "import numpy as np\n",
    "import sys\n",
    " \n",
    "#intialize a random list\n",
    "S = range(1000)\n",
    "  \n",
    "# printing size of each element of the list\n",
    "print(\"Size of each element of list in bytes: \",sys.getsizeof(S))\n",
    "  \n",
    "# printing size of the whole list\n",
    "print(\"Size of the whole list in bytes: \",sys.getsizeof(S)*len(S))\n",
    "  \n",
    "\n",
    "# do the same using numpy\n",
    "D= np.arange(1000)\n",
    "  \n",
    "# printing size of each element of the Numpy array\n",
    "print(f\"Size of each element of the Numpy array in bytes: {D.itemsize}\")\n",
    "  \n",
    "# printing size of the whole Numpy array\n",
    "print(f\"Size of the whole Numpy array in bytes: {D.size*D.itemsize}\")"
   ]
  },
  {
   "cell_type": "code",
   "execution_count": null,
   "id": "aggregate-worst",
   "metadata": {
    "ExecuteTime": {
     "end_time": "2021-06-02T21:30:36.626542Z",
     "start_time": "2021-06-02T21:30:35.454416Z"
    }
   },
   "outputs": [],
   "source": [
    "import time\n",
    "import numpy as np"
   ]
  },
  {
   "cell_type": "code",
   "execution_count": null,
   "id": "driving-juvenile",
   "metadata": {
    "ExecuteTime": {
     "end_time": "2021-06-02T21:30:58.340096Z",
     "start_time": "2021-06-02T21:30:53.284167Z"
    }
   },
   "outputs": [],
   "source": [
    "# time taken by a python list\n",
    "\n",
    "list1 = [i for i in range(10000)]\n",
    "list2 = [i for i in range(10000)]\n",
    "\n",
    "start_time = time.time()\n",
    "list_dot = 0\n",
    "\n",
    "for i,j in zip(list1, list2):\n",
    "    list_dot += i*j\n",
    "#end_time = time.time()\n",
    "\n",
    "print(\"--- %s seconds ---\" % (time.time() - start_time))"
   ]
  },
  {
   "cell_type": "code",
   "execution_count": null,
   "id": "military-spiritual",
   "metadata": {
    "ExecuteTime": {
     "end_time": "2021-06-02T21:31:10.165683Z",
     "start_time": "2021-06-02T21:31:06.205394Z"
    }
   },
   "outputs": [],
   "source": [
    "#time taken by a numpy array\n",
    "\n",
    "array1 = np.array([i for i in range(10000)])\n",
    "array2 = np.array([i for i in range(10000)])\n",
    "\n",
    "start_time = time.time()\n",
    "np_dot = np.dot(array1, array2)\n",
    "\n",
    "print(\"--- %s seconds ---\" % (time.time() - start_time))"
   ]
  }
 ],
 "metadata": {
  "kernelspec": {
   "display_name": "Python 3",
   "language": "python",
   "name": "python3"
  },
  "language_info": {
   "codemirror_mode": {
    "name": "ipython",
    "version": 3
   },
   "file_extension": ".py",
   "mimetype": "text/x-python",
   "name": "python",
   "nbconvert_exporter": "python",
   "pygments_lexer": "ipython3",
   "version": "3.8.8"
  }
 },
 "nbformat": 4,
 "nbformat_minor": 5
}
