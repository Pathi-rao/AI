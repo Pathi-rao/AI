{
 "cells": [
  {
   "cell_type": "code",
   "execution_count": null,
   "id": "155a01f5",
   "metadata": {},
   "outputs": [],
   "source": [
    "import pandas as pd\n",
    "from sklearn.tree import DecisionTreeClassifier\n",
    "from sklearn.model_selection import train_test_split\n",
    "from sklearn.metrics import accuracy_score\n",
    "\n",
    "\n",
    "# with open('zoo.data') as my_file:\n",
    "#     data = my_file.read()\n",
    "zoo_df = pd.read_csv('zoo.data', header=None)\n",
    "#print(zoo_df.head())\n",
    "#zoo_df = pd.DataFrame(data[0], index=None)\n",
    "X = zoo_df.iloc[:, 1:16]\n",
    "y = zoo_df[17]\n",
    "\n",
    "X_train, X_test, y_train, y_test = train_test_split(X, y, random_state=0)\n",
    "model = DecisionTreeClassifier(random_state=6)\n",
    "model.fit(X_train, y_train)\n",
    "predictions = model.predict(X_test)\n",
    "print(predictions)\n",
    "print(y_test.values)"
   ]
  },
  {
   "cell_type": "code",
   "execution_count": null,
   "id": "2dc07d7d",
   "metadata": {},
   "outputs": [],
   "source": []
  }
 ],
 "metadata": {
  "kernelspec": {
   "display_name": "Python 3",
   "language": "python",
   "name": "python3"
  },
  "language_info": {
   "codemirror_mode": {
    "name": "ipython",
    "version": 3
   },
   "file_extension": ".py",
   "mimetype": "text/x-python",
   "name": "python",
   "nbconvert_exporter": "python",
   "pygments_lexer": "ipython3",
   "version": "3.8.8"
  }
 },
 "nbformat": 4,
 "nbformat_minor": 5
}
