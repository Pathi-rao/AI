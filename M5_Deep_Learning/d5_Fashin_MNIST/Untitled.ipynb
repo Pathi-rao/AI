{
 "cells": [
  {
   "cell_type": "code",
   "execution_count": 1,
   "id": "3dfccc88",
   "metadata": {
    "ExecuteTime": {
     "end_time": "2021-05-31T14:19:49.350694Z",
     "start_time": "2021-05-31T14:19:47.799647Z"
    }
   },
   "outputs": [
    {
     "name": "stdout",
     "output_type": "stream",
     "text": [
      "setup complete\n"
     ]
    }
   ],
   "source": [
    "import time\n",
    "import numpy as np\n",
    "import pandas as pd\n",
    "import matplotlib.pyplot as plt\n",
    "\n",
    "import torch\n",
    "import torch.nn as nn\n",
    "import torch.nn.functional as F\n",
    "from torch import optim\n",
    "from torch.autograd import Variable\n",
    "\n",
    "import torchvision\n",
    "import torchvision.transforms as transforms\n",
    "from torch.utils.data import Dataset, DataLoader\n",
    "from sklearn.metrics import confusion_matrix\n",
    "\n",
    "print('setup complete')"
   ]
  },
  {
   "cell_type": "code",
   "execution_count": 2,
   "id": "9b7e2670",
   "metadata": {
    "ExecuteTime": {
     "end_time": "2021-05-31T14:19:49.365626Z",
     "start_time": "2021-05-31T14:19:49.355652Z"
    }
   },
   "outputs": [
    {
     "data": {
      "text/plain": [
       "device(type='cpu')"
      ]
     },
     "execution_count": 2,
     "metadata": {},
     "output_type": "execute_result"
    }
   ],
   "source": [
    "# Use GPU if available else use CPU\n",
    "\n",
    "device = torch.device(\"cuda:0\" if torch.cuda.is_available() else \"cpu\")\n",
    "device"
   ]
  },
  {
   "cell_type": "code",
   "execution_count": 3,
   "id": "f94feb9b",
   "metadata": {
    "ExecuteTime": {
     "end_time": "2021-05-31T14:19:49.427460Z",
     "start_time": "2021-05-31T14:19:49.370620Z"
    },
    "scrolled": true
   },
   "outputs": [],
   "source": [
    "#Taking the dataset directly from torchvision\n",
    "\n",
    "train_data = torchvision.datasets.FashionMNIST(\"./data\", download=True, transform=\n",
    "                                                transforms.Compose([transforms.ToTensor()]))\n",
    "\n",
    "test_data = torchvision.datasets.FashionMNIST(\"./data\", download=True, train=False, transform=\n",
    "                                               transforms.Compose([transforms.ToTensor()]))  \n"
   ]
  },
  {
   "cell_type": "code",
   "execution_count": 4,
   "id": "d82d6b52",
   "metadata": {
    "ExecuteTime": {
     "end_time": "2021-05-31T14:19:49.443422Z",
     "start_time": "2021-05-31T14:19:49.429454Z"
    }
   },
   "outputs": [
    {
     "data": {
      "text/plain": [
       "<torch.utils.data.dataloader.DataLoader at 0x1c815658bb0>"
      ]
     },
     "execution_count": 4,
     "metadata": {},
     "output_type": "execute_result"
    }
   ],
   "source": [
    "#create trainloader and testloader\n",
    "trainloader =  torch.utils.data.DataLoader(train_data, batch_size=4, shuffle=True)\n",
    "testloader =   torch.utils.data.DataLoader(test_data, batch_size=4, shuffle=False)\n",
    "\n",
    "trainloader"
   ]
  },
  {
   "cell_type": "code",
   "execution_count": 5,
   "id": "ca7faf3b",
   "metadata": {
    "ExecuteTime": {
     "end_time": "2021-05-31T14:19:49.458572Z",
     "start_time": "2021-05-31T14:19:49.444414Z"
    }
   },
   "outputs": [],
   "source": [
    "# get better understanding\n",
    "\n",
    "# def imshow(image, ax=None, title=None, normalize=True):\n",
    "#     \"\"\"Imshow for Tensor.\"\"\"\n",
    "#     if ax is None:\n",
    "#         fig, ax = plt.subplots()\n",
    "#     image = image.numpy().transpose((1, 2, 0))\n",
    "\n",
    "#     if normalize:\n",
    "#         mean = np.array([0.485, 0.456, 0.406])\n",
    "#         std = np.array([0.229, 0.224, 0.225])\n",
    "#         image = std * image + mean\n",
    "#         image = np.clip(image, 0, 1)\n",
    "\n",
    "#     ax.imshow(image)\n",
    "#     ax.spines['top'].set_visible(False)\n",
    "#     ax.spines['right'].set_visible(False)\n",
    "#     ax.spines['left'].set_visible(False)\n",
    "#     ax.spines['bottom'].set_visible(False)\n",
    "#     ax.tick_params(axis='both', length=0)\n",
    "#     ax.set_xticklabels('')\n",
    "#     ax.set_yticklabels('')\n",
    "\n",
    "#     return ax\n",
    "\n",
    "# Run this to test your data loaders\n",
    "# images, labels = next(iter(trainloader))\n",
    "# print(images, labels)\n",
    "# imshow(images[1], normalize=False)\n",
    "# imshow(images[2], normalize=False)\n"
   ]
  },
  {
   "cell_type": "code",
   "execution_count": 6,
   "id": "0444e474",
   "metadata": {
    "ExecuteTime": {
     "end_time": "2021-05-31T14:19:49.600590Z",
     "start_time": "2021-05-31T14:19:49.461575Z"
    }
   },
   "outputs": [
    {
     "name": "stdout",
     "output_type": "stream",
     "text": [
      "labels of this image is:  9\n",
      "torch.Size([1, 28, 28])\n"
     ]
    },
    {
     "data": {
      "image/png": "[encoded data removed]",
      "text/plain": [
       "<Figure size 432x288 with 1 Axes>"
      ]
     },
     "metadata": {
      "needs_background": "light"
     },
     "output_type": "display_data"
    }
   ],
   "source": [
    "#alternative way to show single image but with less code\n",
    "image, label = next(iter(train_data))\n",
    "plt.imshow(image.squeeze(), cmap=\"gray\")\n",
    "print('labels of this image is: ', label)\n",
    "\n",
    "image,label=train_data[0]\n",
    "print(image.shape)\n",
    "\n",
    "#output shape is 1 which means its a grayscale"
   ]
  },
  {
   "cell_type": "code",
   "execution_count": 7,
   "id": "41ee83a4",
   "metadata": {
    "ExecuteTime": {
     "end_time": "2021-05-31T14:19:49.775049Z",
     "start_time": "2021-05-31T14:19:49.605510Z"
    }
   },
   "outputs": [
    {
     "data": {
      "image/png": "[encoded data removed]",
      "text/plain": [
       "<Figure size 432x288 with 1 Axes>"
      ]
     },
     "metadata": {
      "needs_background": "light"
     },
     "output_type": "display_data"
    }
   ],
   "source": [
    "#alternative code to show images but a grid of them\n",
    "def imshow(img):\n",
    "    img=img/2+0.5\n",
    "    npimg=img.numpy()\n",
    "    plt.imshow(np.transpose(npimg,(1,2,0)))\n",
    "    plt.show()\n",
    "    \n",
    "dataiter=iter(trainloader)\n",
    "images,labels=dataiter.next()\n",
    "\n",
    "imshow(torchvision.utils.make_grid(images))"
   ]
  },
  {
   "cell_type": "code",
   "execution_count": 8,
   "id": "ebf8e5a2",
   "metadata": {
    "ExecuteTime": {
     "end_time": "2021-05-31T14:19:49.791006Z",
     "start_time": "2021-05-31T14:19:49.782046Z"
    }
   },
   "outputs": [],
   "source": [
    "#This is a sequential API approach, creating a class would be \n",
    "\n",
    "model = nn.Sequential(\n",
    "    #First COnv2d\n",
    "    nn.Conv2d(1, 32, kernel_size=3, stride=1, padding=1),\n",
    "    # ((28 - 3(kernel size) + 2 * 1(padding))/ s (stride)) + 1\n",
    "    # the dimension of the image after first conv2d is  28*28\n",
    "    nn.ReLU(),\n",
    "    \n",
    "    nn.MaxPool2d(2, 2),\n",
    "    # after this the dimension of the image would be  14*14\n",
    "\n",
    "    #Second Conv2d\n",
    "    nn.Conv2d(32, 64, kernel_size=3,stride=1,padding=1),\n",
    "    nn.ReLU(),\n",
    "    \n",
    "    nn.Flatten(),\n",
    "    \n",
    "    #First venilla layer\n",
    "    nn.Linear(64*14*14, 1024), #we can choose this 1024 neurons\n",
    "    nn.ReLU(),\n",
    "    \n",
    "    #second venilla layer\n",
    "    nn.Linear(1024, 512),\n",
    "    nn.ReLU(),\n",
    "    \n",
    "    nn.Linear(512,10))"
   ]
  },
  {
   "cell_type": "code",
   "execution_count": 9,
   "id": "b5a55554",
   "metadata": {
    "ExecuteTime": {
     "end_time": "2021-05-31T14:19:49.838906Z",
     "start_time": "2021-05-31T14:19:49.793004Z"
    }
   },
   "outputs": [
    {
     "data": {
      "text/plain": [
       "CNN(\n",
       "  (conv1): Sequential(\n",
       "    (0): Conv2d(1, 32, kernel_size=(3, 3), stride=(1, 1), padding=(1, 1))\n",
       "    (1): ReLU()\n",
       "    (2): MaxPool2d(kernel_size=2, stride=2, padding=0, dilation=1, ceil_mode=False)\n",
       "  )\n",
       "  (conv2): Sequential(\n",
       "    (0): Conv2d(32, 64, kernel_size=(3, 3), stride=(1, 1))\n",
       "    (1): ReLU()\n",
       "    (2): MaxPool2d(kernel_size=2, stride=2, padding=0, dilation=1, ceil_mode=False)\n",
       "  )\n",
       "  (fc1): Linear(in_features=2304, out_features=1024, bias=True)\n",
       "  (fc2): Linear(in_features=1024, out_features=512, bias=True)\n",
       "  (fc3): Linear(in_features=512, out_features=10, bias=True)\n",
       ")"
      ]
     },
     "execution_count": 9,
     "metadata": {},
     "output_type": "execute_result"
    }
   ],
   "source": [
    "# Class with sequential API\n",
    "\n",
    "class CNN(nn.Module):\n",
    "    \n",
    "    def __init__(self):\n",
    "        super(CNN, self).__init__()\n",
    "        \n",
    "        self.conv1 = nn.Sequential(\n",
    "            nn.Conv2d(in_channels=1, out_channels=32, kernel_size=3, padding=1),\n",
    "            nn.ReLU(),\n",
    "            nn.MaxPool2d(kernel_size=2, stride=2)\n",
    "        )\n",
    "        \n",
    "        self.conv2 = nn.Sequential(\n",
    "            nn.Conv2d(in_channels=32, out_channels=64, kernel_size=3),\n",
    "            nn.ReLU(),\n",
    "            nn.MaxPool2d(kernel_size=2, stride=2)\n",
    "        )\n",
    "        \n",
    "        self.fc1 = nn.Linear(in_features=64*6*6, out_features=1024)\n",
    "        #self.drop = nn.Dropout2d(0.25)\n",
    "        self.fc2 = nn.Linear(in_features=1024, out_features=512)\n",
    "        self.fc3 = nn.Linear(in_features=512, out_features=10)\n",
    "        \n",
    "        \n",
    "    def forward(self, x):\n",
    "        #in forward function, we define how our data flows through these layers\n",
    "        out = self.conv1(x)\n",
    "        out = self.conv2(out)\n",
    "        out = out.reshape(out.size(0), -1)\n",
    "        #out = nn.Flatten()\n",
    "        #out = self.drop_out(out)\n",
    "        out = self.fc1(out)\n",
    "        out = F.relu(out)\n",
    "        out = self.fc2(out)\n",
    "        out = F.relu(out)\n",
    "        out = self.fc3(out)\n",
    "        out = F.softmax(out, dim=1)\n",
    "        return out\n",
    "\n",
    "model = CNN()\n",
    "model"
   ]
  },
  {
   "cell_type": "code",
   "execution_count": 10,
   "id": "bb70f375",
   "metadata": {
    "ExecuteTime": {
     "end_time": "2021-05-31T14:19:49.918690Z",
     "start_time": "2021-05-31T14:19:49.847883Z"
    },
    "scrolled": true
   },
   "outputs": [
    {
     "name": "stdout",
     "output_type": "stream",
     "text": [
      "Initial weights -  Parameter containing:\n",
      "tensor([[-0.0155, -0.0013,  0.0073,  ..., -0.0118, -0.0141,  0.0055],\n",
      "        [-0.0021, -0.0157, -0.0137,  ..., -0.0057,  0.0203,  0.0005],\n",
      "        [ 0.0168,  0.0005,  0.0035,  ...,  0.0175, -0.0163, -0.0163],\n",
      "        ...,\n",
      "        [-0.0162, -0.0141,  0.0014,  ...,  0.0046,  0.0186, -0.0015],\n",
      "        [-0.0014,  0.0180,  0.0095,  ...,  0.0059, -0.0168, -0.0105],\n",
      "        [-0.0096,  0.0190,  0.0006,  ...,  0.0084,  0.0093, -0.0007]],\n",
      "       requires_grad=True)\n",
      "Gradient - tensor([[-2.7065e-05, -3.4256e-05, -5.1555e-05,  ...,  0.0000e+00,\n",
      "          0.0000e+00,  0.0000e+00],\n",
      "        [-1.8641e-06,  1.4674e-06,  1.5817e-05,  ...,  0.0000e+00,\n",
      "          0.0000e+00,  0.0000e+00],\n",
      "        [-1.2430e-05, -1.2386e-05, -2.9460e-05,  ...,  0.0000e+00,\n",
      "          0.0000e+00,  0.0000e+00],\n",
      "        ...,\n",
      "        [ 0.0000e+00,  0.0000e+00,  0.0000e+00,  ...,  0.0000e+00,\n",
      "          0.0000e+00,  0.0000e+00],\n",
      "        [ 2.7341e-05,  4.3163e-05,  7.7808e-05,  ...,  0.0000e+00,\n",
      "          0.0000e+00,  0.0000e+00],\n",
      "        [ 3.2012e-05,  4.2711e-05,  4.3626e-05,  ...,  0.0000e+00,\n",
      "          0.0000e+00,  0.0000e+00]])\n"
     ]
    }
   ],
   "source": [
    "#define the optimizer and the loss\n",
    "optimizer = optim.SGD(model.parameters(), lr=0.001, momentum=0.9)\n",
    "criterion = nn.NLLLoss()\n",
    "\n",
    "print('Initial weights - ', model.fc1.weight)\n",
    "\n",
    "images, labels = next(iter(trainloader))\n",
    "\n",
    "# Clear the gradients, do this because gradients are accumulated\n",
    "optimizer.zero_grad()\n",
    "\n",
    "# Forward pass, then backward pass, then update weights\n",
    "output = model.forward(images)\n",
    "loss = criterion(output, labels)\n",
    "loss.backward()\n",
    "\n",
    "print('Gradient -', model.fc1.weight.grad)\n",
    "optimizer.step()"
   ]
  },
  {
   "cell_type": "code",
   "execution_count": 12,
   "id": "1da32257",
   "metadata": {
    "ExecuteTime": {
     "end_time": "2021-05-31T14:40:37.119234Z",
     "start_time": "2021-05-31T14:34:10.514268Z"
    }
   },
   "outputs": [
    {
     "name": "stdout",
     "output_type": "stream",
     "text": [
      "Epoch: 1/3\n",
      "\tIteration: 0\t Loss: -0.0025\n",
      "\tIteration: 40\t Loss: -0.1004\n",
      "\tIteration: 80\t Loss: -0.1007\n",
      "\tIteration: 120\t Loss: -0.1002\n",
      "\tIteration: 160\t Loss: -0.1000\n",
      "\tIteration: 200\t Loss: -0.1001\n",
      "\tIteration: 240\t Loss: -0.1003\n",
      "\tIteration: 280\t Loss: -0.1007\n",
      "\tIteration: 320\t Loss: -0.1007\n",
      "\tIteration: 360\t Loss: -0.1004\n",
      "\tIteration: 400\t Loss: -0.1006\n",
      "\tIteration: 440\t Loss: -0.1008\n",
      "\tIteration: 480\t Loss: -0.1010\n",
      "\tIteration: 520\t Loss: -0.1015\n",
      "\tIteration: 560\t Loss: -0.1009\n",
      "\tIteration: 600\t Loss: -0.1011\n",
      "\tIteration: 640\t Loss: -0.1014\n",
      "\tIteration: 680\t Loss: -0.1011\n",
      "\tIteration: 720\t Loss: -0.1018\n",
      "\tIteration: 760\t Loss: -0.1012\n",
      "\tIteration: 800\t Loss: -0.1012\n",
      "\tIteration: 840\t Loss: -0.1013\n",
      "\tIteration: 880\t Loss: -0.1018\n",
      "\tIteration: 920\t Loss: -0.1014\n",
      "\tIteration: 960\t Loss: -0.1020\n",
      "\tIteration: 1000\t Loss: -0.1020\n",
      "\tIteration: 1040\t Loss: -0.1024\n",
      "\tIteration: 1080\t Loss: -0.1021\n",
      "\tIteration: 1120\t Loss: -0.1021\n",
      "\tIteration: 1160\t Loss: -0.1022\n",
      "\tIteration: 1200\t Loss: -0.1024\n",
      "\tIteration: 1240\t Loss: -0.1028\n",
      "\tIteration: 1280\t Loss: -0.1027\n",
      "\tIteration: 1320\t Loss: -0.1027\n",
      "\tIteration: 1360\t Loss: -0.1035\n",
      "\tIteration: 1400\t Loss: -0.1039\n",
      "\tIteration: 1440\t Loss: -0.1030\n",
      "\tIteration: 1480\t Loss: -0.1032\n",
      "\tIteration: 1520\t Loss: -0.1032\n",
      "\tIteration: 1560\t Loss: -0.1037\n",
      "\tIteration: 1600\t Loss: -0.1045\n",
      "\tIteration: 1640\t Loss: -0.1044\n",
      "\tIteration: 1680\t Loss: -0.1040\n",
      "\tIteration: 1720\t Loss: -0.1038\n",
      "\tIteration: 1760\t Loss: -0.1049\n",
      "\tIteration: 1800\t Loss: -0.1052\n",
      "\tIteration: 1840\t Loss: -0.1052\n",
      "\tIteration: 1880\t Loss: -0.1058\n",
      "\tIteration: 1920\t Loss: -0.1059\n",
      "\tIteration: 1960\t Loss: -0.1046\n",
      "\tIteration: 2000\t Loss: -0.1059\n",
      "\tIteration: 2040\t Loss: -0.1066\n",
      "\tIteration: 2080\t Loss: -0.1067\n",
      "\tIteration: 2120\t Loss: -0.1069\n",
      "\tIteration: 2160\t Loss: -0.1079\n",
      "\tIteration: 2200\t Loss: -0.1086\n",
      "\tIteration: 2240\t Loss: -0.1096\n",
      "\tIteration: 2280\t Loss: -0.1084\n",
      "\tIteration: 2320\t Loss: -0.1105\n",
      "\tIteration: 2360\t Loss: -0.1089\n",
      "\tIteration: 2400\t Loss: -0.1121\n",
      "\tIteration: 2440\t Loss: -0.1116\n",
      "\tIteration: 2480\t Loss: -0.1135\n",
      "\tIteration: 2520\t Loss: -0.1120\n",
      "\tIteration: 2560\t Loss: -0.1137\n",
      "\tIteration: 2600\t Loss: -0.1149\n",
      "\tIteration: 2640\t Loss: -0.1174\n",
      "\tIteration: 2680\t Loss: -0.1155\n",
      "\tIteration: 2720\t Loss: -0.1160\n",
      "\tIteration: 2760\t Loss: -0.1205\n",
      "\tIteration: 2800\t Loss: -0.1213\n",
      "\tIteration: 2840\t Loss: -0.1255\n",
      "\tIteration: 2880\t Loss: -0.1286\n",
      "\tIteration: 2920\t Loss: -0.1287\n",
      "\tIteration: 2960\t Loss: -0.1328\n",
      "\tIteration: 3000\t Loss: -0.1332\n",
      "\tIteration: 3040\t Loss: -0.1379\n",
      "\tIteration: 3080\t Loss: -0.1439\n",
      "\tIteration: 3120\t Loss: -0.1562\n",
      "\tIteration: 3160\t Loss: -0.1716\n",
      "\tIteration: 3200\t Loss: -0.2177\n",
      "\tIteration: 3240\t Loss: -0.2088\n",
      "\tIteration: 3280\t Loss: -0.2350\n",
      "\tIteration: 3320\t Loss: -0.2582\n",
      "\tIteration: 3360\t Loss: -0.2807\n",
      "\tIteration: 3400\t Loss: -0.2966\n",
      "\tIteration: 3440\t Loss: -0.3507\n",
      "\tIteration: 3480\t Loss: -0.3062\n",
      "\tIteration: 3520\t Loss: -0.3655\n",
      "\tIteration: 3560\t Loss: -0.3982\n",
      "\tIteration: 3600\t Loss: -0.3780\n",
      "\tIteration: 3640\t Loss: -0.4037\n",
      "\tIteration: 3680\t Loss: -0.4597\n",
      "\tIteration: 3720\t Loss: -0.4244\n",
      "\tIteration: 3760\t Loss: -0.4788\n",
      "\tIteration: 3800\t Loss: -0.4821\n",
      "\tIteration: 3840\t Loss: -0.4271\n",
      "\tIteration: 3880\t Loss: -0.5012\n",
      "\tIteration: 3920\t Loss: -0.4200\n",
      "\tIteration: 3960\t Loss: -0.4923\n",
      "\tIteration: 4000\t Loss: -0.4621\n",
      "\tIteration: 4040\t Loss: -0.4900\n",
      "\tIteration: 4080\t Loss: -0.4762\n",
      "\tIteration: 4120\t Loss: -0.5496\n",
      "\tIteration: 4160\t Loss: -0.4964\n",
      "\tIteration: 4200\t Loss: -0.4566\n",
      "\tIteration: 4240\t Loss: -0.5048\n",
      "\tIteration: 4280\t Loss: -0.5108\n",
      "\tIteration: 4320\t Loss: -0.5201\n",
      "\tIteration: 4360\t Loss: -0.5450\n",
      "\tIteration: 4400\t Loss: -0.4752\n",
      "\tIteration: 4440\t Loss: -0.5310\n",
      "\tIteration: 4480\t Loss: -0.5585\n",
      "\tIteration: 4520\t Loss: -0.4416\n",
      "\tIteration: 4560\t Loss: -0.4934\n",
      "\tIteration: 4600\t Loss: -0.5013\n",
      "\tIteration: 4640\t Loss: -0.5507\n",
      "\tIteration: 4680\t Loss: -0.5743\n",
      "\tIteration: 4720\t Loss: -0.5544\n",
      "\tIteration: 4760\t Loss: -0.5593\n",
      "\tIteration: 4800\t Loss: -0.5288\n",
      "\tIteration: 4840\t Loss: -0.5813\n",
      "\tIteration: 4880\t Loss: -0.5204\n",
      "\tIteration: 4920\t Loss: -0.4654\n",
      "\tIteration: 4960\t Loss: -0.5214\n",
      "\tIteration: 5000\t Loss: -0.5750\n",
      "\tIteration: 5040\t Loss: -0.5189\n",
      "\tIteration: 5080\t Loss: -0.4446\n",
      "\tIteration: 5120\t Loss: -0.5807\n",
      "\tIteration: 5160\t Loss: -0.5240\n",
      "\tIteration: 5200\t Loss: -0.5812\n",
      "\tIteration: 5240\t Loss: -0.5713\n",
      "\tIteration: 5280\t Loss: -0.5653\n",
      "\tIteration: 5320\t Loss: -0.5197\n",
      "\tIteration: 5360\t Loss: -0.5255\n",
      "\tIteration: 5400\t Loss: -0.5090\n",
      "\tIteration: 5440\t Loss: -0.5781\n",
      "\tIteration: 5480\t Loss: -0.5443\n",
      "\tIteration: 5520\t Loss: -0.4956\n",
      "\tIteration: 5560\t Loss: -0.5022\n",
      "\tIteration: 5600\t Loss: -0.5999\n",
      "\tIteration: 5640\t Loss: -0.5023\n",
      "\tIteration: 5680\t Loss: -0.4927\n",
      "\tIteration: 5720\t Loss: -0.4970\n",
      "\tIteration: 5760\t Loss: -0.5142\n",
      "\tIteration: 5800\t Loss: -0.5546\n",
      "\tIteration: 5840\t Loss: -0.4419\n",
      "\tIteration: 5880\t Loss: -0.5614\n",
      "\tIteration: 5920\t Loss: -0.5053\n",
      "\tIteration: 5960\t Loss: -0.5138\n",
      "\tIteration: 6000\t Loss: -0.6063\n",
      "\tIteration: 6040\t Loss: -0.4683\n",
      "\tIteration: 6080\t Loss: -0.5353\n",
      "\tIteration: 6120\t Loss: -0.6087\n",
      "\tIteration: 6160\t Loss: -0.5324\n",
      "\tIteration: 6200\t Loss: -0.4928\n",
      "\tIteration: 6240\t Loss: -0.5623\n",
      "\tIteration: 6280\t Loss: -0.5285\n",
      "\tIteration: 6320\t Loss: -0.5877\n",
      "\tIteration: 6360\t Loss: -0.5391\n",
      "\tIteration: 6400\t Loss: -0.5312\n",
      "\tIteration: 6440\t Loss: -0.5179\n",
      "\tIteration: 6480\t Loss: -0.5667\n",
      "\tIteration: 6520\t Loss: -0.5559\n",
      "\tIteration: 6560\t Loss: -0.5905\n",
      "\tIteration: 6600\t Loss: -0.5472\n",
      "\tIteration: 6640\t Loss: -0.5208\n",
      "\tIteration: 6680\t Loss: -0.5878\n",
      "\tIteration: 6720\t Loss: -0.5988\n",
      "\tIteration: 6760\t Loss: -0.5873\n",
      "\tIteration: 6800\t Loss: -0.5494\n",
      "\tIteration: 6840\t Loss: -0.6154\n",
      "\tIteration: 6880\t Loss: -0.5182\n",
      "\tIteration: 6920\t Loss: -0.5998\n",
      "\tIteration: 6960\t Loss: -0.5445\n",
      "\tIteration: 7000\t Loss: -0.5424\n",
      "\tIteration: 7040\t Loss: -0.5531\n",
      "\tIteration: 7080\t Loss: -0.5531\n",
      "\tIteration: 7120\t Loss: -0.5359\n",
      "\tIteration: 7160\t Loss: -0.5570\n",
      "\tIteration: 7200\t Loss: -0.6394\n",
      "\tIteration: 7240\t Loss: -0.6519\n",
      "\tIteration: 7280\t Loss: -0.5473\n",
      "\tIteration: 7320\t Loss: -0.5845\n",
      "\tIteration: 7360\t Loss: -0.5355\n",
      "\tIteration: 7400\t Loss: -0.5786\n",
      "\tIteration: 7440\t Loss: -0.6224\n",
      "\tIteration: 7480\t Loss: -0.6220\n",
      "\tIteration: 7520\t Loss: -0.6364\n",
      "\tIteration: 7560\t Loss: -0.6118\n",
      "\tIteration: 7600\t Loss: -0.6170\n",
      "\tIteration: 7640\t Loss: -0.5776\n",
      "\tIteration: 7680\t Loss: -0.5521\n",
      "\tIteration: 7720\t Loss: -0.6105\n",
      "\tIteration: 7760\t Loss: -0.6206\n",
      "\tIteration: 7800\t Loss: -0.6633\n",
      "\tIteration: 7840\t Loss: -0.6958\n",
      "\tIteration: 7880\t Loss: -0.5666\n",
      "\tIteration: 7920\t Loss: -0.5355\n",
      "\tIteration: 7960\t Loss: -0.5521\n",
      "\tIteration: 8000\t Loss: -0.6657\n",
      "\tIteration: 8040\t Loss: -0.5916\n",
      "\tIteration: 8080\t Loss: -0.6026\n",
      "\tIteration: 8120\t Loss: -0.6154\n",
      "\tIteration: 8160\t Loss: -0.6005\n",
      "\tIteration: 8200\t Loss: -0.6184\n",
      "\tIteration: 8240\t Loss: -0.5860\n",
      "\tIteration: 8280\t Loss: -0.6050\n",
      "\tIteration: 8320\t Loss: -0.6043\n",
      "\tIteration: 8360\t Loss: -0.6281\n",
      "\tIteration: 8400\t Loss: -0.7294\n",
      "\tIteration: 8440\t Loss: -0.5421\n",
      "\tIteration: 8480\t Loss: -0.5774\n",
      "\tIteration: 8520\t Loss: -0.6236\n",
      "\tIteration: 8560\t Loss: -0.6365\n",
      "\tIteration: 8600\t Loss: -0.6290\n",
      "\tIteration: 8640\t Loss: -0.6811\n",
      "\tIteration: 8680\t Loss: -0.6324\n",
      "\tIteration: 8720\t Loss: -0.5231\n",
      "\tIteration: 8760\t Loss: -0.6236\n",
      "\tIteration: 8800\t Loss: -0.6721\n",
      "\tIteration: 8840\t Loss: -0.6239\n",
      "\tIteration: 8880\t Loss: -0.6736\n",
      "\tIteration: 8920\t Loss: -0.6715\n",
      "\tIteration: 8960\t Loss: -0.6128\n",
      "\tIteration: 9000\t Loss: -0.5832\n",
      "\tIteration: 9040\t Loss: -0.6657\n",
      "\tIteration: 9080\t Loss: -0.6585\n",
      "\tIteration: 9120\t Loss: -0.6076\n",
      "\tIteration: 9160\t Loss: -0.5315\n",
      "\tIteration: 9200\t Loss: -0.5274\n",
      "\tIteration: 9240\t Loss: -0.6876\n",
      "\tIteration: 9280\t Loss: -0.6316\n",
      "\tIteration: 9320\t Loss: -0.6587\n",
      "\tIteration: 9360\t Loss: -0.6871\n",
      "\tIteration: 9400\t Loss: -0.6794\n",
      "\tIteration: 9440\t Loss: -0.6778\n",
      "\tIteration: 9480\t Loss: -0.5787\n",
      "\tIteration: 9520\t Loss: -0.6508\n",
      "\tIteration: 9560\t Loss: -0.6573\n",
      "\tIteration: 9600\t Loss: -0.6980\n",
      "\tIteration: 9640\t Loss: -0.6899\n",
      "\tIteration: 9680\t Loss: -0.7017\n",
      "\tIteration: 9720\t Loss: -0.6922\n",
      "\tIteration: 9760\t Loss: -0.6226\n",
      "\tIteration: 9800\t Loss: -0.7110\n",
      "\tIteration: 9840\t Loss: -0.6081\n",
      "\tIteration: 9880\t Loss: -0.6389\n",
      "\tIteration: 9920\t Loss: -0.6793\n",
      "\tIteration: 9960\t Loss: -0.6812\n",
      "\tIteration: 10000\t Loss: -0.7079\n",
      "\tIteration: 10040\t Loss: -0.6711\n",
      "\tIteration: 10080\t Loss: -0.6579\n",
      "\tIteration: 10120\t Loss: -0.6676\n",
      "\tIteration: 10160\t Loss: -0.6765\n",
      "\tIteration: 10200\t Loss: -0.6403\n",
      "\tIteration: 10240\t Loss: -0.6804\n"
     ]
    },
    {
     "name": "stdout",
     "output_type": "stream",
     "text": [
      "\tIteration: 10280\t Loss: -0.7373\n",
      "\tIteration: 10320\t Loss: -0.5964\n",
      "\tIteration: 10360\t Loss: -0.7578\n",
      "\tIteration: 10400\t Loss: -0.6182\n",
      "\tIteration: 10440\t Loss: -0.6449\n",
      "\tIteration: 10480\t Loss: -0.6671\n",
      "\tIteration: 10520\t Loss: -0.6200\n",
      "\tIteration: 10560\t Loss: -0.6762\n",
      "\tIteration: 10600\t Loss: -0.7020\n",
      "\tIteration: 10640\t Loss: -0.6956\n",
      "\tIteration: 10680\t Loss: -0.6596\n",
      "\tIteration: 10720\t Loss: -0.6726\n",
      "\tIteration: 10760\t Loss: -0.6446\n",
      "\tIteration: 10800\t Loss: -0.7365\n",
      "\tIteration: 10840\t Loss: -0.6922\n",
      "\tIteration: 10880\t Loss: -0.7467\n",
      "\tIteration: 10920\t Loss: -0.7664\n",
      "\tIteration: 10960\t Loss: -0.6387\n",
      "\tIteration: 11000\t Loss: -0.6770\n",
      "\tIteration: 11040\t Loss: -0.7105\n",
      "\tIteration: 11080\t Loss: -0.6891\n",
      "\tIteration: 11120\t Loss: -0.6876\n",
      "\tIteration: 11160\t Loss: -0.7318\n",
      "\tIteration: 11200\t Loss: -0.7137\n",
      "\tIteration: 11240\t Loss: -0.6981\n",
      "\tIteration: 11280\t Loss: -0.6486\n",
      "\tIteration: 11320\t Loss: -0.6993\n",
      "\tIteration: 11360\t Loss: -0.7406\n",
      "\tIteration: 11400\t Loss: -0.6708\n",
      "\tIteration: 11440\t Loss: -0.7364\n",
      "\tIteration: 11480\t Loss: -0.6581\n",
      "\tIteration: 11520\t Loss: -0.6940\n",
      "\tIteration: 11560\t Loss: -0.6725\n",
      "\tIteration: 11600\t Loss: -0.6735\n",
      "\tIteration: 11640\t Loss: -0.6468\n",
      "\tIteration: 11680\t Loss: -0.6872\n",
      "\tIteration: 11720\t Loss: -0.6565\n",
      "\tIteration: 11760\t Loss: -0.7146\n",
      "\tIteration: 11800\t Loss: -0.6817\n",
      "\tIteration: 11840\t Loss: -0.7880\n",
      "\tIteration: 11880\t Loss: -0.7123\n",
      "\tIteration: 11920\t Loss: -0.7143\n",
      "\tIteration: 11960\t Loss: -0.7054\n",
      "\tIteration: 12000\t Loss: -0.6787\n",
      "\tIteration: 12040\t Loss: -0.6807\n",
      "\tIteration: 12080\t Loss: -0.6713\n",
      "\tIteration: 12120\t Loss: -0.7291\n",
      "\tIteration: 12160\t Loss: -0.7672\n",
      "\tIteration: 12200\t Loss: -0.7170\n",
      "\tIteration: 12240\t Loss: -0.6972\n",
      "\tIteration: 12280\t Loss: -0.6500\n",
      "\tIteration: 12320\t Loss: -0.8183\n",
      "\tIteration: 12360\t Loss: -0.6755\n",
      "\tIteration: 12400\t Loss: -0.7006\n",
      "\tIteration: 12440\t Loss: -0.7155\n",
      "\tIteration: 12480\t Loss: -0.7498\n",
      "\tIteration: 12520\t Loss: -0.6373\n",
      "\tIteration: 12560\t Loss: -0.6844\n",
      "\tIteration: 12600\t Loss: -0.6585\n",
      "\tIteration: 12640\t Loss: -0.7800\n",
      "\tIteration: 12680\t Loss: -0.7264\n",
      "\tIteration: 12720\t Loss: -0.6800\n",
      "\tIteration: 12760\t Loss: -0.6836\n",
      "\tIteration: 12800\t Loss: -0.7216\n",
      "\tIteration: 12840\t Loss: -0.6414\n",
      "\tIteration: 12880\t Loss: -0.7286\n",
      "\tIteration: 12920\t Loss: -0.7345\n",
      "\tIteration: 12960\t Loss: -0.6779\n",
      "\tIteration: 13000\t Loss: -0.7701\n",
      "\tIteration: 13040\t Loss: -0.6805\n",
      "\tIteration: 13080\t Loss: -0.7007\n",
      "\tIteration: 13120\t Loss: -0.7496\n",
      "\tIteration: 13160\t Loss: -0.7581\n",
      "\tIteration: 13200\t Loss: -0.7063\n",
      "\tIteration: 13240\t Loss: -0.7254\n",
      "\tIteration: 13280\t Loss: -0.7699\n",
      "\tIteration: 13320\t Loss: -0.7342\n",
      "\tIteration: 13360\t Loss: -0.7055\n",
      "\tIteration: 13400\t Loss: -0.6431\n",
      "\tIteration: 13440\t Loss: -0.7249\n",
      "\tIteration: 13480\t Loss: -0.7288\n",
      "\tIteration: 13520\t Loss: -0.6511\n",
      "\tIteration: 13560\t Loss: -0.6901\n",
      "\tIteration: 13600\t Loss: -0.7567\n",
      "\tIteration: 13640\t Loss: -0.7466\n",
      "\tIteration: 13680\t Loss: -0.7495\n",
      "\tIteration: 13720\t Loss: -0.6916\n",
      "\tIteration: 13760\t Loss: -0.6854\n",
      "\tIteration: 13800\t Loss: -0.6689\n",
      "\tIteration: 13840\t Loss: -0.6471\n",
      "\tIteration: 13880\t Loss: -0.6978\n",
      "\tIteration: 13920\t Loss: -0.6851\n",
      "\tIteration: 13960\t Loss: -0.7023\n"
     ]
    },
    {
     "ename": "KeyboardInterrupt",
     "evalue": "",
     "output_type": "error",
     "traceback": [
      "\u001b[1;31m---------------------------------------------------------------------------\u001b[0m",
      "\u001b[1;31mKeyboardInterrupt\u001b[0m                         Traceback (most recent call last)",
      "\u001b[1;32m<ipython-input-12-f4eea807430e>\u001b[0m in \u001b[0;36m<module>\u001b[1;34m\u001b[0m\n\u001b[0;32m     15\u001b[0m         \u001b[0moutput\u001b[0m \u001b[1;33m=\u001b[0m \u001b[0mmodel\u001b[0m\u001b[1;33m.\u001b[0m\u001b[0mforward\u001b[0m\u001b[1;33m(\u001b[0m\u001b[0mimages\u001b[0m\u001b[1;33m)\u001b[0m   \u001b[1;31m# 1) Forward pass\u001b[0m\u001b[1;33m\u001b[0m\u001b[1;33m\u001b[0m\u001b[0m\n\u001b[0;32m     16\u001b[0m         \u001b[0mloss\u001b[0m \u001b[1;33m=\u001b[0m \u001b[0mcriterion\u001b[0m\u001b[1;33m(\u001b[0m\u001b[0moutput\u001b[0m\u001b[1;33m,\u001b[0m \u001b[0mlabels\u001b[0m\u001b[1;33m)\u001b[0m \u001b[1;31m# 2) Compute loss\u001b[0m\u001b[1;33m\u001b[0m\u001b[1;33m\u001b[0m\u001b[0m\n\u001b[1;32m---> 17\u001b[1;33m         \u001b[0mloss\u001b[0m\u001b[1;33m.\u001b[0m\u001b[0mbackward\u001b[0m\u001b[1;33m(\u001b[0m\u001b[1;33m)\u001b[0m                  \u001b[1;31m# 3) Backward pass\u001b[0m\u001b[1;33m\u001b[0m\u001b[1;33m\u001b[0m\u001b[0m\n\u001b[0m\u001b[0;32m     18\u001b[0m         \u001b[0moptimizer\u001b[0m\u001b[1;33m.\u001b[0m\u001b[0mstep\u001b[0m\u001b[1;33m(\u001b[0m\u001b[1;33m)\u001b[0m                 \u001b[1;31m# 4) Update model\u001b[0m\u001b[1;33m\u001b[0m\u001b[1;33m\u001b[0m\u001b[0m\n\u001b[0;32m     19\u001b[0m \u001b[1;33m\u001b[0m\u001b[0m\n",
      "\u001b[1;32m~\\anaconda3\\envs\\pytorch\\lib\\site-packages\\torch\\tensor.py\u001b[0m in \u001b[0;36mbackward\u001b[1;34m(self, gradient, retain_graph, create_graph, inputs)\u001b[0m\n\u001b[0;32m    243\u001b[0m                 \u001b[0mcreate_graph\u001b[0m\u001b[1;33m=\u001b[0m\u001b[0mcreate_graph\u001b[0m\u001b[1;33m,\u001b[0m\u001b[1;33m\u001b[0m\u001b[1;33m\u001b[0m\u001b[0m\n\u001b[0;32m    244\u001b[0m                 inputs=inputs)\n\u001b[1;32m--> 245\u001b[1;33m         \u001b[0mtorch\u001b[0m\u001b[1;33m.\u001b[0m\u001b[0mautograd\u001b[0m\u001b[1;33m.\u001b[0m\u001b[0mbackward\u001b[0m\u001b[1;33m(\u001b[0m\u001b[0mself\u001b[0m\u001b[1;33m,\u001b[0m \u001b[0mgradient\u001b[0m\u001b[1;33m,\u001b[0m \u001b[0mretain_graph\u001b[0m\u001b[1;33m,\u001b[0m \u001b[0mcreate_graph\u001b[0m\u001b[1;33m,\u001b[0m \u001b[0minputs\u001b[0m\u001b[1;33m=\u001b[0m\u001b[0minputs\u001b[0m\u001b[1;33m)\u001b[0m\u001b[1;33m\u001b[0m\u001b[1;33m\u001b[0m\u001b[0m\n\u001b[0m\u001b[0;32m    246\u001b[0m \u001b[1;33m\u001b[0m\u001b[0m\n\u001b[0;32m    247\u001b[0m     \u001b[1;32mdef\u001b[0m \u001b[0mregister_hook\u001b[0m\u001b[1;33m(\u001b[0m\u001b[0mself\u001b[0m\u001b[1;33m,\u001b[0m \u001b[0mhook\u001b[0m\u001b[1;33m)\u001b[0m\u001b[1;33m:\u001b[0m\u001b[1;33m\u001b[0m\u001b[1;33m\u001b[0m\u001b[0m\n",
      "\u001b[1;32m~\\anaconda3\\envs\\pytorch\\lib\\site-packages\\torch\\autograd\\__init__.py\u001b[0m in \u001b[0;36mbackward\u001b[1;34m(tensors, grad_tensors, retain_graph, create_graph, grad_variables, inputs)\u001b[0m\n\u001b[0;32m    143\u001b[0m         \u001b[0mretain_graph\u001b[0m \u001b[1;33m=\u001b[0m \u001b[0mcreate_graph\u001b[0m\u001b[1;33m\u001b[0m\u001b[1;33m\u001b[0m\u001b[0m\n\u001b[0;32m    144\u001b[0m \u001b[1;33m\u001b[0m\u001b[0m\n\u001b[1;32m--> 145\u001b[1;33m     Variable._execution_engine.run_backward(\n\u001b[0m\u001b[0;32m    146\u001b[0m         \u001b[0mtensors\u001b[0m\u001b[1;33m,\u001b[0m \u001b[0mgrad_tensors_\u001b[0m\u001b[1;33m,\u001b[0m \u001b[0mretain_graph\u001b[0m\u001b[1;33m,\u001b[0m \u001b[0mcreate_graph\u001b[0m\u001b[1;33m,\u001b[0m \u001b[0minputs\u001b[0m\u001b[1;33m,\u001b[0m\u001b[1;33m\u001b[0m\u001b[1;33m\u001b[0m\u001b[0m\n\u001b[0;32m    147\u001b[0m         allow_unreachable=True, accumulate_grad=True)  # allow_unreachable flag\n",
      "\u001b[1;31mKeyboardInterrupt\u001b[0m: "
     ]
    }
   ],
   "source": [
    "epochs = 3\n",
    "print_every = 40\n",
    "\n",
    "for e in range(epochs):\n",
    "    running_loss = 0\n",
    "    print(f\"Epoch: {e+1}/{epochs}\")\n",
    "\n",
    "    for i, (images, labels) in enumerate(iter(trainloader)):\n",
    "\n",
    "        # Flatten MNIST images into a 784 long vector\n",
    "        #images.resize_(images.size()[0], 784)\n",
    "        \n",
    "        optimizer.zero_grad()\n",
    "        \n",
    "        output = model.forward(images)   # 1) Forward pass\n",
    "        loss = criterion(output, labels) # 2) Compute loss\n",
    "        loss.backward()                  # 3) Backward pass\n",
    "        optimizer.step()                 # 4) Update model\n",
    "        \n",
    "        running_loss += loss.item()\n",
    "        \n",
    "        if i % print_every == 0:\n",
    "            print(f\"\\tIteration: {i}\\t Loss: {running_loss/print_every:.4f}\")\n",
    "            running_loss = 0 "
   ]
  }
 ],
 "metadata": {
  "kernelspec": {
   "display_name": "Python 3",
   "language": "python",
   "name": "python3"
  },
  "language_info": {
   "codemirror_mode": {
    "name": "ipython",
    "version": 3
   },
   "file_extension": ".py",
   "mimetype": "text/x-python",
   "name": "python",
   "nbconvert_exporter": "python",
   "pygments_lexer": "ipython3",
   "version": "3.8.10"
  }
 },
 "nbformat": 4,
 "nbformat_minor": 5
}
