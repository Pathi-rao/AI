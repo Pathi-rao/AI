{
  "nbformat": 4,
  "nbformat_minor": 0,
  "metadata": {
    "colab": {
      "name": "MNIST_95%acc.ipynb",
      "provenance": []
    },
    "kernelspec": {
      "name": "python3",
      "display_name": "Python 3"
    },
    "language_info": {
      "name": "python"
    }
  },
  "cells": [
    {
      "cell_type": "markdown",
      "metadata": {
        "id": "EANxMTaoylrB"
      },
      "source": [
        "\n",
        "*   Step 1: Load Dataset\n",
        "*   Step 2: Make Dataset Iterable\n",
        "*   Step 3: Create Model Class\n",
        "*   Step 4: Instantiate Model Class\n",
        "*   Step 5: Instantiate Loss Class\n",
        "*   Step 6: Instantiate Optimizer Class\n",
        "*   Step 7: Train Model\n"
      ]
    },
    {
      "cell_type": "code",
      "metadata": {
        "colab": {
          "base_uri": "https://localhost:8080/"
        },
        "id": "RqtJ2i6fUZ-5",
        "outputId": "3fa02d34-d706-4b17-91f1-f22e0bc1f09e"
      },
      "source": [
        "%matplotlib inline\n",
        "%config InlineBackend.figure_format = 'retina'\n",
        "\n",
        "from collections import OrderedDict\n",
        "\n",
        "import numpy as np\n",
        "import matplotlib.pyplot as plt\n",
        "import time\n",
        "\n",
        "import torch\n",
        "from torch import nn\n",
        "from torch import optim\n",
        "import torch.nn.functional as F\n",
        "\n",
        "from torchvision import datasets, transforms\n",
        "\n",
        "print('setup complete')"
      ],
      "execution_count": null,
      "outputs": [
        {
          "output_type": "stream",
          "text": [
            "setup complete\n"
          ],
          "name": "stdout"
        }
      ]
    },
    {
      "cell_type": "code",
      "metadata": {
        "colab": {
          "base_uri": "https://localhost:8080/"
        },
        "id": "csRBy5BrdW8n",
        "outputId": "f1981224-10a7-450d-f6fc-747cb034434c"
      },
      "source": [
        "#switch to gpu if available\n",
        "device = torch.device(\"cuda:0\" if torch.cuda.is_available() else \"cpu\")\n",
        "device"
      ],
      "execution_count": null,
      "outputs": [
        {
          "output_type": "execute_result",
          "data": {
            "text/plain": [
              "device(type='cpu')"
            ]
          },
          "metadata": {
            "tags": []
          },
          "execution_count": 3
        }
      ]
    },
    {
      "cell_type": "code",
      "metadata": {
        "id": "3lsAtfnTQn0g"
      },
      "source": [
        "#helper function which we will use lateron to plot after classifying \n",
        "\n",
        "def view_classify(img, ps):\n",
        "\n",
        "    ps = ps.data.numpy().squeeze()\n",
        "\n",
        "    fig, (ax1, ax2) = plt.subplots(figsize=(6,9), ncols=2)\n",
        "    ax1.imshow(img.resize_(1, 28, 28).numpy().squeeze())\n",
        "    ax1.axis('off')\n",
        "    ax2.barh(np.arange(10), ps)\n",
        "    ax2.set_aspect(0.1)\n",
        "    ax2.set_yticks(np.arange(10))\n",
        "    ax2.set_yticklabels(np.arange(10))\n",
        "    ax2.set_title('Class Probability')\n",
        "    ax2.set_xlim(0, 1.1)"
      ],
      "execution_count": null,
      "outputs": []
    },
    {
      "cell_type": "code",
      "metadata": {
        "colab": {
          "base_uri": "https://localhost:8080/"
        },
        "id": "o4i8o9ZsQz9d",
        "outputId": "06c90889-66c8-4847-ce7b-7e05a54f76fb"
      },
      "source": [
        "#custom transformation\n",
        "transform = transforms.Compose([transforms.ToTensor(), transforms.Normalize((0.5), (0.5)) ])\n",
        "\n",
        "#Download and load the training data and testing data\n",
        "train_data = datasets.MNIST('MNIST_data/', download=True, train=True, transform=transform)\n",
        "test_data    = datasets.MNIST('MNIST_data/', download=True, train=False, transform=transform)\n",
        "\n",
        "#Define the trianloader and testloader\n",
        "trainloader = torch.utils.data.DataLoader(train_data, batch_size=32, shuffle=True)\n",
        "testloader = torch.utils.data.DataLoader(test_data, batch_size=32, shuffle=True)\n",
        "\n",
        "trainloader"
      ],
      "execution_count": null,
      "outputs": [
        {
          "output_type": "execute_result",
          "data": {
            "text/plain": [
              "<torch.utils.data.dataloader.DataLoader at 0x7eff62d4a590>"
            ]
          },
          "metadata": {
            "tags": []
          },
          "execution_count": 28
        }
      ]
    },
    {
      "cell_type": "code",
      "metadata": {
        "colab": {
          "base_uri": "https://localhost:8080/"
        },
        "id": "8asUxb26tE4P",
        "outputId": "d8dc62fb-506f-4e07-810c-fdcb6f570b98"
      },
      "source": [
        "print(len(train_data), len(test_data))"
      ],
      "execution_count": null,
      "outputs": [
        {
          "output_type": "stream",
          "text": [
            "60000 10000\n"
          ],
          "name": "stdout"
        }
      ]
    },
    {
      "cell_type": "code",
      "metadata": {
        "colab": {
          "base_uri": "https://localhost:8080/",
          "height": 300
        },
        "id": "l9ZA1M6hdQ7G",
        "outputId": "4f1bbfc5-f0c5-4f52-9e30-ff081bd31605"
      },
      "source": [
        "#show a sample image\n",
        "dataiter = iter(trainloader)\n",
        "images, labels = dataiter.next()\n",
        "# image, label = next(iter(test_data))\n",
        "# plt.imshow(image.squeeze(), cmap=\"gray\")\n",
        "print('labels of this image is: ', labels)\n",
        "\n",
        "plt.imshow(images[1].numpy().squeeze(), cmap='Greys_r');\n",
        "\n",
        "# image,label=test_data[0]\n",
        "# print(image.shape)\n",
        "\n",
        "#output shape is 1 which means its a grayscale"
      ],
      "execution_count": null,
      "outputs": [
        {
          "output_type": "stream",
          "text": [
            "labels of this image is:  tensor([1, 0, 6, 9, 5, 7, 6, 4, 2, 2, 5, 8, 9, 4, 7, 0, 6, 0, 0, 7, 8, 9, 2, 5,\n",
            "        0, 9, 5, 4, 5, 0, 1, 2])\n"
          ],
          "name": "stdout"
        },
        {
          "output_type": "display_data",
          "data": {
            "image/png": "[encoded data removed]",
            "text/plain": [
              "<Figure size 432x288 with 1 Axes>"
            ]
          },
          "metadata": {
            "tags": [],
            "image/png": {
              "width": 251,
              "height": 248
            },
            "needs_background": "light"
          }
        }
      ]
    },
    {
      "cell_type": "code",
      "metadata": {
        "id": "ur3Gd_O0SChc"
      },
      "source": [
        "dataiter = iter(trainloader)\n",
        "images, labels = dataiter.next()"
      ],
      "execution_count": null,
      "outputs": []
    },
    {
      "cell_type": "code",
      "metadata": {
        "colab": {
          "base_uri": "https://localhost:8080/",
          "height": 265
        },
        "id": "MNjQePVsSDXQ",
        "outputId": "5aacd347-58a5-43d0-ec44-1f5d3bf842ba"
      },
      "source": [
        "plt.imshow(images[1].numpy().squeeze(), cmap='Greys_r');"
      ],
      "execution_count": null,
      "outputs": [
        {
          "output_type": "display_data",
          "data": {
            "image/png": "[encoded data removed]",
            "text/plain": [
              "<Figure size 432x288 with 1 Axes>"
            ]
          },
          "metadata": {
            "tags": [],
            "image/png": {
              "width": 251,
              "height": 248
            },
            "needs_background": "light"
          }
        }
      ]
    },
    {
      "cell_type": "code",
      "metadata": {
        "id": "OTUldlfChgNm"
      },
      "source": [
        "#alternative code to show images but a grid of them\n",
        "def imshow(img):\n",
        "    img = img/2+0.5\n",
        "    npimg = img.numpy()\n",
        "    plt.imshow(np.transpose(npimg, (1,2,0)))\n",
        "    plt.show()\n",
        "    \n",
        "dataiter = iter(trainloader)\n",
        "images, labels = dataiter.next()\n",
        "\n",
        "imshow(torchvision.utils.make_grid(images))"
      ],
      "execution_count": null,
      "outputs": []
    },
    {
      "cell_type": "code",
      "metadata": {
        "id": "nAW3tQO1shgP"
      },
      "source": [
        "dataiter = iter(trainloader)\n",
        "images, labels = dataiter.next()\n",
        "\n",
        "def print_sample_digit(index):\n",
        "    print(str.format('Label: {}',labels[index]))\n",
        "    plt.figure(num=None, figsize=(1, 1), dpi=56, facecolor='w', edgecolor='k')\n",
        "    plt.imshow(images[index].numpy().squeeze(), cmap='Greys_r');\n",
        "\n",
        "labels"
      ],
      "execution_count": null,
      "outputs": []
    },
    {
      "cell_type": "code",
      "metadata": {
        "id": "DZMF1IXquS2v"
      },
      "source": [
        "len(labels) #loads the labels per batch"
      ],
      "execution_count": null,
      "outputs": []
    },
    {
      "cell_type": "code",
      "metadata": {
        "id": "Tg3KHcWfto1c"
      },
      "source": [
        "# for i in range(0, len(labels)):\n",
        "#   print_sample_digit(i)"
      ],
      "execution_count": null,
      "outputs": []
    },
    {
      "cell_type": "code",
      "metadata": {
        "id": "leb0x6znuetb"
      },
      "source": [
        "# class FeedforwardNeuralNetModel(nn.Module):\n",
        "#     def __init__(self, input_dim, hidden_dim, output_dim):\n",
        "#         super(FeedforwardNeuralNetModel, self).__init__()\n",
        "#         # Linear function\n",
        "#         self.fc1 = nn.Linear(input_dim, hidden_dim) \n",
        "#         # Non-linearity\n",
        "#         self.relu = nn.ReLU()\n",
        "#         # Linear function (readout)\n",
        "#         self.fc2 = nn.Linear(hidden_dim, output_dim)  \n",
        "\n",
        "#     def forward(self, x):\n",
        "#         # Linear function\n",
        "#         out = self.fc1(x)\n",
        "#         # Non-linearity\n",
        "#         out = self.relu(out)\n",
        "#         # Linear function (readout)\n",
        "#         out = self.fc2(out)\n",
        "#         return out"
      ],
      "execution_count": null,
      "outputs": []
    },
    {
      "cell_type": "code",
      "metadata": {
        "id": "YrMyhXkex6vt"
      },
      "source": [
        "\n",
        "# Class with sequential API\n",
        "\n",
        "class Net(nn.Module):\n",
        "    \n",
        "    def __init__(self):\n",
        "\n",
        "      super(Net, self).__init__()\n",
        "      \n",
        "      #first conv layer\n",
        "      self.conv1 = nn.Conv2d(in_channels=1, out_channels=16, kernel_size=5, stride=1, padding=0)\n",
        "      self.relu1 = nn.ReLU()\n",
        "      # Max pool 1\n",
        "      self.maxpool1 = nn.MaxPool2d(kernel_size=2)\n",
        "\n",
        "      # Convolution 2\n",
        "      self.conv2 = nn.Conv2d(in_channels=16, out_channels=32, kernel_size=5, stride=1, padding=0)\n",
        "      self.relu2 = nn.ReLU()\n",
        "\n",
        "      # Max pool 2\n",
        "      self.maxpool2 = nn.MaxPool2d(kernel_size=2)\n",
        "\n",
        "      # Fully connected 1 (readout)\n",
        "      self.fc1 = nn.Linear(32 * 4 * 4, 10)\n",
        "\n",
        "\n",
        "    def forward(self, x):\n",
        "      # Convolution 1\n",
        "      out = self.conv1(x)\n",
        "      out = self.relu1(out)\n",
        "      # Max pool 1\n",
        "      out = self.maxpool1(out)\n",
        "\n",
        "      # Convolution 2 \n",
        "      out = self.conv2(out)\n",
        "      out = self.relu2(out)\n",
        "      # Max pool 2 \n",
        "      out = self.maxpool2(out)\n",
        "\n",
        "      # Resize\n",
        "      out = out.view(out.size(0), -1)\n",
        "\n",
        "      # Linear function (readout)\n",
        "      out = self.fc1(out)\n",
        "      out = F.softmax(out, dim=1)\n",
        "\n",
        "      return out"
      ],
      "execution_count": null,
      "outputs": []
    },
    {
      "cell_type": "code",
      "metadata": {
        "id": "UIT0SyRkvrzJ"
      },
      "source": [
        "model = Net()\n",
        "model"
      ],
      "execution_count": null,
      "outputs": []
    },
    {
      "cell_type": "code",
      "metadata": {
        "id": "-HqOzSPW52Ok"
      },
      "source": [
        "#define the optimizer and the loss\n",
        "optimizer = optim.SGD(model.parameters(), lr=0.001, momentum=0.9)\n",
        "#scheduler = ReduceLROnPlateau(optimizer, 'max', factor = 0.5, verbose=True)\n",
        "criterion = nn.NLLLoss()\n"
      ],
      "execution_count": null,
      "outputs": []
    },
    {
      "cell_type": "code",
      "metadata": {
        "id": "GAGufSQy6DN6"
      },
      "source": [
        "epochs = 3\n",
        "print_every = 40\n",
        "\n",
        "train_loss = []\n",
        "val_loss = []\n",
        "#torch.autograd.set_detect_anomaly(True)\n",
        "\n",
        "for e in range(epochs):\n",
        "    running_loss = 0\n",
        "    print(f\"Epoch: {e+1}/{epochs}\")\n",
        "\n",
        "    for i, (images, labels) in enumerate(iter(trainloader)):\n",
        "\n",
        "        # Flatten MNIST images into a 784 long vector\n",
        "        #images.resize_(images.size()[0], 784)\n",
        "        \n",
        "        optimizer.zero_grad()\n",
        "        \n",
        "        output = model(images)   # 1) Forward pass\n",
        "        loss = criterion(output, labels) # 2) Compute loss\n",
        "        loss.backward()                  # 3) Backward pass\n",
        "        optimizer.step()                 # 4) Update model\n",
        "        \n",
        "        running_loss += loss.item()\n",
        "        \n",
        "        if i % print_every == 0:\n",
        "            print(f\"\\tIteration: {i}\\t Loss: {running_loss/print_every:.4f}\")\n",
        "            running_loss = 0\n",
        "    train_loss.append(running_loss/images.shape[0])\n",
        "\n",
        "    correct = 0\n",
        "    total = 0\n",
        "    # since we're not training, we don't need to calculate the gradients for our outputs\n",
        "    with torch.no_grad():\n",
        "        for i, (images, labels) in enumerate(iter(testloader)):\n",
        "            #images, labels = data\n",
        "            # calculate outputs by running images through the network\n",
        "            #images = images.resize_(images.size()[0],  784)\n",
        "            outputs = model(images)\n",
        "            v_loss = criterion(outputs, labels)\n",
        "            # the class with the highest energy is what we choose as prediction\n",
        "            _, predicted = torch.max(outputs.data, 1)\n",
        "            total += labels.size(0)\n",
        "            correct += (predicted == labels).sum().item()\n",
        "        val_loss.append(v_loss/images.shape[0])\n",
        "\n",
        "    print('Accuracy of the network on the 10000 test images: %d %%' % (\n",
        "        100 * correct / total))"
      ],
      "execution_count": null,
      "outputs": []
    }
  ]
}