{
 "cells": [
  {
   "cell_type": "code",
   "execution_count": null,
   "id": "common-daisy",
   "metadata": {},
   "outputs": [],
   "source": [
    "# Install torch and torchvision on your computer\n",
    "# It's convenient to create a virtual env for that"
   ]
  },
  {
   "cell_type": "code",
   "execution_count": 1,
   "id": "romance-document",
   "metadata": {
    "ExecuteTime": {
     "end_time": "2021-05-26T08:21:19.150218Z",
     "start_time": "2021-05-26T08:21:16.656180Z"
    }
   },
   "outputs": [],
   "source": [
    "import torch\n",
    "import torch.nn as nn\n",
    "import numpy as np"
   ]
  },
  {
   "cell_type": "code",
   "execution_count": 2,
   "id": "younger-champagne",
   "metadata": {
    "ExecuteTime": {
     "end_time": "2021-05-26T08:24:22.439262Z",
     "start_time": "2021-05-26T08:24:22.386719Z"
    }
   },
   "outputs": [
    {
     "data": {
      "text/plain": [
       "<torch._C.Generator at 0x25630bcedf0>"
      ]
     },
     "execution_count": 2,
     "metadata": {},
     "output_type": "execute_result"
    }
   ],
   "source": [
    "# set the torch manual seed to 42\n",
    "torch.manual_seed(42)"
   ]
  },
  {
   "cell_type": "code",
   "execution_count": 5,
   "id": "informative-hammer",
   "metadata": {
    "ExecuteTime": {
     "end_time": "2021-05-26T13:47:40.206381Z",
     "start_time": "2021-05-26T13:47:40.079621Z"
    }
   },
   "outputs": [
    {
     "data": {
      "text/plain": [
       "tensor([0.8823, 0.9150, 0.3829, 0.9593, 0.3904])"
      ]
     },
     "execution_count": 5,
     "metadata": {},
     "output_type": "execute_result"
    }
   ],
   "source": [
    "# Create a tensor of shape (5,) and store in the features variable\n",
    "features = torch.rand(5,)\n",
    "features"
   ]
  },
  {
   "cell_type": "code",
   "execution_count": 6,
   "id": "piano-breach",
   "metadata": {
    "ExecuteTime": {
     "end_time": "2021-05-26T13:48:52.159682Z",
     "start_time": "2021-05-26T13:48:52.139711Z"
    }
   },
   "outputs": [
    {
     "data": {
      "text/plain": [
       "tensor([0.6009, 0.2566, 0.7936, 0.9408, 0.1332])"
      ]
     },
     "execution_count": 6,
     "metadata": {},
     "output_type": "execute_result"
    }
   ],
   "source": [
    "# Generate a tensor called weights with the same shape of features\n",
    "# Hint: search torch.rand_like\n",
    "weights = torch.rand_like(features)\n",
    "weights"
   ]
  },
  {
   "cell_type": "code",
   "execution_count": 7,
   "id": "offensive-interpretation",
   "metadata": {
    "ExecuteTime": {
     "end_time": "2021-05-26T13:48:57.773259Z",
     "start_time": "2021-05-26T13:48:57.757302Z"
    }
   },
   "outputs": [],
   "source": [
    "assert weights.shape == features.shape"
   ]
  },
  {
   "cell_type": "code",
   "execution_count": 27,
   "id": "neither-sample",
   "metadata": {
    "ExecuteTime": {
     "end_time": "2021-05-26T05:53:22.262490Z",
     "start_time": "2021-05-26T05:53:22.256392Z"
    }
   },
   "outputs": [
    {
     "data": {
      "text/plain": [
       "tensor([-0.2384, -0.0499,  0.5263, -0.0085,  0.7291])"
      ]
     },
     "execution_count": 27,
     "metadata": {},
     "output_type": "execute_result"
    }
   ],
   "source": [
    "weights"
   ]
  },
  {
   "cell_type": "code",
   "execution_count": 8,
   "id": "collected-measure",
   "metadata": {
    "ExecuteTime": {
     "end_time": "2021-05-26T13:49:01.748734Z",
     "start_time": "2021-05-26T13:49:01.730773Z"
    }
   },
   "outputs": [],
   "source": [
    "bias = torch.randn((1,1))"
   ]
  },
  {
   "cell_type": "code",
   "execution_count": 9,
   "id": "informal-enclosure",
   "metadata": {
    "ExecuteTime": {
     "end_time": "2021-05-26T13:49:03.755280Z",
     "start_time": "2021-05-26T13:49:03.736294Z"
    }
   },
   "outputs": [
    {
     "data": {
      "text/plain": [
       "tensor([[-2.4661]])"
      ]
     },
     "execution_count": 9,
     "metadata": {},
     "output_type": "execute_result"
    }
   ],
   "source": [
    "bias"
   ]
  },
  {
   "cell_type": "code",
   "execution_count": 10,
   "id": "cultural-freeze",
   "metadata": {
    "ExecuteTime": {
     "end_time": "2021-05-26T14:11:24.422903Z",
     "start_time": "2021-05-26T14:11:24.409936Z"
    }
   },
   "outputs": [],
   "source": [
    "# Implement the sigmoid function by using torch\n",
    "def sigmoid(x):\n",
    "    return torch.sigmoid(x)"
   ]
  },
  {
   "cell_type": "code",
   "execution_count": 11,
   "id": "caroline-assignment",
   "metadata": {
    "ExecuteTime": {
     "end_time": "2021-05-26T14:11:37.191539Z",
     "start_time": "2021-05-26T14:11:37.162171Z"
    }
   },
   "outputs": [],
   "source": [
    "# Use torch.dot function for multiplying weights and features and\n",
    "# add the bias to the result. Store the result into the score variable\n",
    "\n",
    "score = 0\n",
    "score = torch.dot(weights, features) + bias"
   ]
  },
  {
   "cell_type": "code",
   "execution_count": 12,
   "id": "complicated-radar",
   "metadata": {
    "ExecuteTime": {
     "end_time": "2021-05-26T14:11:39.426478Z",
     "start_time": "2021-05-26T14:11:39.411009Z"
    }
   },
   "outputs": [],
   "source": [
    "assert score.shape == (1,1)"
   ]
  },
  {
   "cell_type": "code",
   "execution_count": 14,
   "id": "saved-martin",
   "metadata": {
    "ExecuteTime": {
     "end_time": "2021-05-26T14:11:59.330829Z",
     "start_time": "2021-05-26T14:11:59.312161Z"
    }
   },
   "outputs": [
    {
     "data": {
      "text/plain": [
       "tensor([[0.3911]])"
      ]
     },
     "execution_count": 14,
     "metadata": {},
     "output_type": "execute_result"
    }
   ],
   "source": [
    "# Use the defined sigmoid function to activate the score.\n",
    "# Store the result in the prob variable\n",
    "\n",
    "prob = 0\n",
    "prob = sigmoid(score)\n",
    "prob"
   ]
  },
  {
   "cell_type": "code",
   "execution_count": 15,
   "id": "portuguese-nursery",
   "metadata": {
    "ExecuteTime": {
     "end_time": "2021-05-26T14:12:24.310420Z",
     "start_time": "2021-05-26T14:12:24.294463Z"
    }
   },
   "outputs": [],
   "source": [
    "assert prob.shape == (1,1)"
   ]
  },
  {
   "cell_type": "code",
   "execution_count": 16,
   "id": "latter-firewall",
   "metadata": {
    "ExecuteTime": {
     "end_time": "2021-05-26T14:12:27.926450Z",
     "start_time": "2021-05-26T14:12:27.883597Z"
    }
   },
   "outputs": [
    {
     "name": "stdout",
     "output_type": "stream",
     "text": [
      "[[0.05576519 0.64486851 0.45234265]\n",
      " [0.47761707 0.12925766 0.66209929]\n",
      " [0.0291431  0.32781074 0.00787023]\n",
      " [0.32090798 0.70957919 0.83347465]]\n"
     ]
    },
    {
     "data": {
      "text/plain": [
       "tensor([[0.0558, 0.6449, 0.4523],\n",
       "        [0.4776, 0.1293, 0.6621],\n",
       "        [0.0291, 0.3278, 0.0079],\n",
       "        [0.3209, 0.7096, 0.8335]], dtype=torch.float64)"
      ]
     },
     "execution_count": 16,
     "metadata": {},
     "output_type": "execute_result"
    }
   ],
   "source": [
    "# Convert the a numpy array into a torch tensor\n",
    "# Store it in the b variable\n",
    "a = np.random.rand(4, 3)\n",
    "print(a)\n",
    "b = torch.tensor(a)\n",
    "b"
   ]
  },
  {
   "cell_type": "code",
   "execution_count": 17,
   "id": "historical-passenger",
   "metadata": {
    "ExecuteTime": {
     "end_time": "2021-05-26T14:12:31.067220Z",
     "start_time": "2021-05-26T14:12:31.062219Z"
    }
   },
   "outputs": [],
   "source": [
    "assert b.shape == (4,3) "
   ]
  },
  {
   "cell_type": "code",
   "execution_count": 18,
   "id": "medieval-cabin",
   "metadata": {
    "ExecuteTime": {
     "end_time": "2021-05-26T14:12:47.466208Z",
     "start_time": "2021-05-26T14:12:47.442272Z"
    }
   },
   "outputs": [
    {
     "name": "stdout",
     "output_type": "stream",
     "text": [
      "tensor([1, 2])\n"
     ]
    },
    {
     "data": {
      "text/plain": [
       "array([1, 2], dtype=int64)"
      ]
     },
     "execution_count": 18,
     "metadata": {},
     "output_type": "execute_result"
    }
   ],
   "source": [
    "# Do the opposite now. From the given tensor a convert it a numpy array\n",
    "# Store the result in b\n",
    "a = torch.tensor([1,2])\n",
    "print(a)\n",
    "b = np.array(a)\n",
    "b"
   ]
  },
  {
   "cell_type": "code",
   "execution_count": 19,
   "id": "solar-conspiracy",
   "metadata": {
    "ExecuteTime": {
     "end_time": "2021-05-26T14:12:49.787464Z",
     "start_time": "2021-05-26T14:12:49.769505Z"
    }
   },
   "outputs": [],
   "source": [
    "assert type(b) == np.ndarray"
   ]
  },
  {
   "cell_type": "code",
   "execution_count": 20,
   "id": "unsigned-defeat",
   "metadata": {
    "ExecuteTime": {
     "end_time": "2021-05-26T14:13:04.572372Z",
     "start_time": "2021-05-26T14:13:04.549793Z"
    }
   },
   "outputs": [
    {
     "data": {
      "text/plain": [
       "torch.Size([10, 10])"
      ]
     },
     "execution_count": 20,
     "metadata": {},
     "output_type": "execute_result"
    }
   ],
   "source": [
    "# Reshape the given v tensor in a 10x10 tensor.\n",
    "# Store the result in v_reshaped\n",
    "# You can use various methods: reshape, view, resize... Check all of them\n",
    "\n",
    "v = torch.randn((100,1))\n",
    "\n",
    "v_reshaped = torch.reshape(v, (10,10))\n",
    "v_reshaped.shape\n"
   ]
  },
  {
   "cell_type": "code",
   "execution_count": 21,
   "id": "violent-kuwait",
   "metadata": {
    "ExecuteTime": {
     "end_time": "2021-05-26T14:13:18.773248Z",
     "start_time": "2021-05-26T14:13:18.725392Z"
    }
   },
   "outputs": [
    {
     "data": {
      "text/plain": [
       "torch.Size([16, 32, 32, 3])"
      ]
     },
     "execution_count": 21,
     "metadata": {},
     "output_type": "execute_result"
    }
   ],
   "source": [
    "# create a tensor with shape (16, 32, 32, 3) containing only ones\n",
    "# Store it in the ones variable\n",
    "ones = 0\n",
    "ones = torch.ones((16,32,32,3))\n",
    "ones.shape"
   ]
  },
  {
   "cell_type": "code",
   "execution_count": 22,
   "id": "otherwise-tourism",
   "metadata": {
    "ExecuteTime": {
     "end_time": "2021-05-26T14:13:20.598655Z",
     "start_time": "2021-05-26T14:13:20.585690Z"
    }
   },
   "outputs": [],
   "source": [
    "assert ones.shape == (16, 32, 32, 3)"
   ]
  },
  {
   "cell_type": "code",
   "execution_count": 25,
   "id": "united-nebraska",
   "metadata": {
    "ExecuteTime": {
     "end_time": "2021-05-26T14:15:47.000646Z",
     "start_time": "2021-05-26T14:15:46.584877Z"
    }
   },
   "outputs": [
    {
     "data": {
      "text/html": [
       "<div>\n",
       "<style scoped>\n",
       "    .dataframe tbody tr th:only-of-type {\n",
       "        vertical-align: middle;\n",
       "    }\n",
       "\n",
       "    .dataframe tbody tr th {\n",
       "        vertical-align: top;\n",
       "    }\n",
       "\n",
       "    .dataframe thead th {\n",
       "        text-align: right;\n",
       "    }\n",
       "</style>\n",
       "<table border=\"1\" class=\"dataframe\">\n",
       "  <thead>\n",
       "    <tr style=\"text-align: right;\">\n",
       "      <th></th>\n",
       "      <th>0</th>\n",
       "      <th>1</th>\n",
       "      <th>2</th>\n",
       "    </tr>\n",
       "  </thead>\n",
       "  <tbody>\n",
       "    <tr>\n",
       "      <th>0</th>\n",
       "      <td>0.78051</td>\n",
       "      <td>-0.063669</td>\n",
       "      <td>1</td>\n",
       "    </tr>\n",
       "    <tr>\n",
       "      <th>1</th>\n",
       "      <td>0.28774</td>\n",
       "      <td>0.291390</td>\n",
       "      <td>1</td>\n",
       "    </tr>\n",
       "    <tr>\n",
       "      <th>2</th>\n",
       "      <td>0.40714</td>\n",
       "      <td>0.178780</td>\n",
       "      <td>1</td>\n",
       "    </tr>\n",
       "    <tr>\n",
       "      <th>3</th>\n",
       "      <td>0.29230</td>\n",
       "      <td>0.421700</td>\n",
       "      <td>1</td>\n",
       "    </tr>\n",
       "    <tr>\n",
       "      <th>4</th>\n",
       "      <td>0.50922</td>\n",
       "      <td>0.352560</td>\n",
       "      <td>1</td>\n",
       "    </tr>\n",
       "    <tr>\n",
       "      <th>...</th>\n",
       "      <td>...</td>\n",
       "      <td>...</td>\n",
       "      <td>...</td>\n",
       "    </tr>\n",
       "    <tr>\n",
       "      <th>95</th>\n",
       "      <td>0.77029</td>\n",
       "      <td>0.701400</td>\n",
       "      <td>0</td>\n",
       "    </tr>\n",
       "    <tr>\n",
       "      <th>96</th>\n",
       "      <td>0.73156</td>\n",
       "      <td>0.717820</td>\n",
       "      <td>0</td>\n",
       "    </tr>\n",
       "    <tr>\n",
       "      <th>97</th>\n",
       "      <td>0.44556</td>\n",
       "      <td>0.579910</td>\n",
       "      <td>0</td>\n",
       "    </tr>\n",
       "    <tr>\n",
       "      <th>98</th>\n",
       "      <td>0.85275</td>\n",
       "      <td>0.859870</td>\n",
       "      <td>0</td>\n",
       "    </tr>\n",
       "    <tr>\n",
       "      <th>99</th>\n",
       "      <td>0.51912</td>\n",
       "      <td>0.623590</td>\n",
       "      <td>0</td>\n",
       "    </tr>\n",
       "  </tbody>\n",
       "</table>\n",
       "<p>100 rows × 3 columns</p>\n",
       "</div>"
      ],
      "text/plain": [
       "          0         1  2\n",
       "0   0.78051 -0.063669  1\n",
       "1   0.28774  0.291390  1\n",
       "2   0.40714  0.178780  1\n",
       "3   0.29230  0.421700  1\n",
       "4   0.50922  0.352560  1\n",
       "..      ...       ... ..\n",
       "95  0.77029  0.701400  0\n",
       "96  0.73156  0.717820  0\n",
       "97  0.44556  0.579910  0\n",
       "98  0.85275  0.859870  0\n",
       "99  0.51912  0.623590  0\n",
       "\n",
       "[100 rows x 3 columns]"
      ]
     },
     "execution_count": 25,
     "metadata": {},
     "output_type": "execute_result"
    }
   ],
   "source": [
    "import pandas as pd\n",
    "import matplotlib.pyplot as plt\n",
    "# load and plot the data using scatterplot with different colors for labels\n",
    "data = pd.read_csv('data.csv', header=None)\n",
    "data"
   ]
  },
  {
   "cell_type": "code",
   "execution_count": 26,
   "id": "increased-schedule",
   "metadata": {
    "ExecuteTime": {
     "end_time": "2021-05-26T14:16:19.602312Z",
     "start_time": "2021-05-26T14:16:18.610937Z"
    }
   },
   "outputs": [
    {
     "data": {
      "image/png": "[encoded data removed]",
      "text/plain": [
       "<Figure size 432x288 with 1 Axes>"
      ]
     },
     "metadata": {
      "needs_background": "light"
     },
     "output_type": "display_data"
    }
   ],
   "source": [
    "data[2].value_counts()\n",
    "cdict = {0:\"r\",1:\"b\"}\n",
    "for x,y,label in data.values:\n",
    "    plt.scatter(x,y, c=cdict[label])"
   ]
  },
  {
   "cell_type": "code",
   "execution_count": 27,
   "id": "circular-surgery",
   "metadata": {
    "ExecuteTime": {
     "end_time": "2021-05-26T14:16:30.381313Z",
     "start_time": "2021-05-26T14:16:30.364389Z"
    }
   },
   "outputs": [
    {
     "data": {
      "text/plain": [
       "tensor([0.0001])"
      ]
     },
     "execution_count": 27,
     "metadata": {},
     "output_type": "execute_result"
    }
   ],
   "source": [
    "sigmoid(torch.tensor([-9]))"
   ]
  }
 ],
 "metadata": {
  "kernelspec": {
   "display_name": "Python 3",
   "language": "python",
   "name": "python3"
  },
  "language_info": {
   "codemirror_mode": {
    "name": "ipython",
    "version": 3
   },
   "file_extension": ".py",
   "mimetype": "text/x-python",
   "name": "python",
   "nbconvert_exporter": "python",
   "pygments_lexer": "ipython3",
   "version": "3.8.10"
  },
  "varInspector": {
   "cols": {
    "lenName": 16,
    "lenType": 16,
    "lenVar": 40
   },
   "kernels_config": {
    "python": {
     "delete_cmd_postfix": "",
     "delete_cmd_prefix": "del ",
     "library": "var_list.py",
     "varRefreshCmd": "print(var_dic_list())"
    },
    "r": {
     "delete_cmd_postfix": ") ",
     "delete_cmd_prefix": "rm(",
     "library": "var_list.r",
     "varRefreshCmd": "cat(var_dic_list()) "
    }
   },
   "types_to_exclude": [
    "module",
    "function",
    "builtin_function_or_method",
    "instance",
    "_Feature"
   ],
   "window_display": false
  }
 },
 "nbformat": 4,
 "nbformat_minor": 5
}
