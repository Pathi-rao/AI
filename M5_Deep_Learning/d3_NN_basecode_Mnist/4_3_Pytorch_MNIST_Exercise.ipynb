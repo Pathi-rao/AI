{
  "nbformat": 4,
  "nbformat_minor": 0,
  "metadata": {
    "kernelspec": {
      "display_name": "Python 3",
      "language": "python",
      "name": "python3"
    },
    "language_info": {
      "codemirror_mode": {
        "name": "ipython",
        "version": 3
      },
      "file_extension": ".py",
      "mimetype": "text/x-python",
      "name": "python",
      "nbconvert_exporter": "python",
      "pygments_lexer": "ipython3",
      "version": "3.8.10"
    },
    "varInspector": {
      "cols": {
        "lenName": 16,
        "lenType": 16,
        "lenVar": 40
      },
      "kernels_config": {
        "python": {
          "delete_cmd_postfix": "",
          "delete_cmd_prefix": "del ",
          "library": "var_list.py",
          "varRefreshCmd": "print(var_dic_list())"
        },
        "r": {
          "delete_cmd_postfix": ") ",
          "delete_cmd_prefix": "rm(",
          "library": "var_list.r",
          "varRefreshCmd": "cat(var_dic_list()) "
        }
      },
      "types_to_exclude": [
        "module",
        "function",
        "builtin_function_or_method",
        "instance",
        "_Feature"
      ],
      "window_display": false
    },
    "colab": {
      "name": "4.3 Pytorch MNIST - Exercise.ipynb",
      "provenance": [],
      "collapsed_sections": []
    }
  },
  "cells": [
    {
      "cell_type": "markdown",
      "metadata": {
        "id": "aLfgh8zGap0Q"
      },
      "source": [
        "<div style=\"background:#222222; color:#ffffff; padding:20px\">\n",
        "    <h2 align=\"center\">Deep Learning Fundamentals</h2>\n",
        "    <h2 align=\"center\" style=\"color:#01ff84\">Multiclass Classification: MNIST</h2>\n",
        "<div>"
      ]
    },
    {
      "cell_type": "markdown",
      "metadata": {
        "id": "RVwvCN_2ap0g"
      },
      "source": [
        "## Imports"
      ]
    },
    {
      "cell_type": "code",
      "metadata": {
        "ExecuteTime": {
          "end_time": "2021-05-27T10:10:28.828826Z",
          "start_time": "2021-05-27T10:10:28.727896Z"
        },
        "colab": {
          "base_uri": "https://localhost:8080/"
        },
        "id": "lPJOpWceap0j",
        "outputId": "45b2ce7f-a339-4fa1-d9c9-d9ed029b4450"
      },
      "source": [
        "%matplotlib inline\n",
        "%config InlineBackend.figure_format = 'retina'\n",
        "\n",
        "from collections import OrderedDict\n",
        "\n",
        "import numpy as np\n",
        "import matplotlib.pyplot as plt\n",
        "import time\n",
        "\n",
        "import torch\n",
        "from torch import nn\n",
        "from torch import optim\n",
        "import torch.nn.functional as F\n",
        "\n",
        "from torchvision import datasets, transforms\n",
        "\n",
        "print('setup complete')"
      ],
      "execution_count": 3,
      "outputs": [
        {
          "output_type": "stream",
          "text": [
            "setup complete\n"
          ],
          "name": "stdout"
        }
      ]
    },
    {
      "cell_type": "markdown",
      "metadata": {
        "id": "8VIYQD2kap0n"
      },
      "source": [
        "## Auxliary plotting function"
      ]
    },
    {
      "cell_type": "code",
      "metadata": {
        "ExecuteTime": {
          "end_time": "2021-05-27T10:15:56.618301Z",
          "start_time": "2021-05-27T10:15:56.603174Z"
        },
        "id": "wKotty_lap0o"
      },
      "source": [
        "# https://discuss.pytorch.org/t/view-classify-in-module-helper/30279/6\n",
        "\n",
        "def view_classify(img, ps):\n",
        "\n",
        "    ps = ps.data.numpy().squeeze()\n",
        "\n",
        "    fig, (ax1, ax2) = plt.subplots(figsize=(6,9), ncols=2)\n",
        "    ax1.imshow(img.resize_(1, 28, 28).numpy().squeeze())\n",
        "    ax1.axis('off')\n",
        "    ax2.barh(np.arange(10), ps)\n",
        "    ax2.set_aspect(0.1)\n",
        "    ax2.set_yticks(np.arange(10))\n",
        "    ax2.set_yticklabels(np.arange(10))\n",
        "    ax2.set_title('Class Probability')\n",
        "    ax2.set_xlim(0, 1.1)"
      ],
      "execution_count": 5,
      "outputs": []
    },
    {
      "cell_type": "markdown",
      "metadata": {
        "id": "GpoUrJ99ap0q"
      },
      "source": [
        "# Load MNIST Dataset\n",
        "First up, we need to get our dataset. This is provided through the `torchvision` package. The code below will download the MNIST dataset, then create training and test datasets for us. Don't worry too much about the details here, you'll learn more about this later."
      ]
    },
    {
      "cell_type": "code",
      "metadata": {
        "ExecuteTime": {
          "end_time": "2021-05-27T10:34:08.957222Z",
          "start_time": "2021-05-27T10:28:18.480507Z"
        },
        "id": "KHf7W6iSap0s"
      },
      "source": [
        "# Define a transform to normalize the data (Preprocessing)\n",
        "transform = transforms.Compose([transforms.ToTensor(), transforms.Normalize((0.5), (0.5)) ])\n",
        "\n",
        "# Download and load the training data\n",
        "trainset    = datasets.MNIST('data/', download=True, train=True, transform=transform)\n",
        "trainloader = torch.utils.data.DataLoader(trainset, batch_size=16, shuffle=True)\n",
        "\n",
        "# Download and load the test data\n",
        "testset    = datasets.MNIST('data/', download=True, train=False, transform=transform)\n",
        "testloader = torch.utils.data.DataLoader(testset, batch_size=16, shuffle=True)"
      ],
      "execution_count": null,
      "outputs": []
    },
    {
      "cell_type": "code",
      "metadata": {
        "ExecuteTime": {
          "end_time": "2021-05-27T10:39:10.144997Z",
          "start_time": "2021-05-27T10:39:10.084253Z"
        },
        "id": "-du6VosXap0y"
      },
      "source": [
        "dataiter = iter(trainloader) #does this line make the images as iterable?\n",
        "#print(trainloader)\n",
        "#print(dataiter)\n",
        "images, labels = dataiter.next()\n",
        "#print(images)\n",
        "#print(labels)"
      ],
      "execution_count": 15,
      "outputs": []
    },
    {
      "cell_type": "markdown",
      "metadata": {
        "id": "yqxjvBg8ap00"
      },
      "source": [
        "We have the training data loaded into `trainloader` and we make that an iterator with `iter(trainloader)`. We'd use this to loop through the dataset for training, but here I'm just grabbing the first batch so we can check out the data. We can see below that `images` is just a tensor with size (64, 1, 28, 28). So, 64 images per batch, 1 color channel, and 28x28 images."
      ]
    },
    {
      "cell_type": "code",
      "metadata": {
        "ExecuteTime": {
          "end_time": "2021-05-26T22:26:39.407000Z",
          "start_time": "2021-05-26T22:26:39.265256Z"
        },
        "colab": {
          "base_uri": "https://localhost:8080/",
          "height": 265
        },
        "id": "dL_7m7Ipap02",
        "outputId": "6441bffb-1918-4a13-c704-95f7419c0d14"
      },
      "source": [
        "plt.imshow(images[1].numpy().squeeze(), cmap='Greys_r'); #squeeze removes the 1"
      ],
      "execution_count": 16,
      "outputs": [
        {
          "output_type": "display_data",
          "data": {
            "image/png": "[encoded data removed]",
            "text/plain": [
              "<Figure size 432x288 with 1 Axes>"
            ]
          },
          "metadata": {
            "tags": [],
            "image/png": {
              "width": 251,
              "height": 248
            },
            "needs_background": "light"
          }
        }
      ]
    },
    {
      "cell_type": "markdown",
      "metadata": {
        "id": "OvpNeNCqap04"
      },
      "source": [
        "## Building networks with PyTorch\n",
        "\n",
        "Here I'll use PyTorch to build a simple feedfoward network to classify the MNIST images. That is, the network will receive a digit image as input and predict the digit in the image.\n",
        "\n",
        "<img src=\"assets/mlp_mnist.png\" width=600px>\n",
        "\n",
        "To build a neural network with PyTorch, you use the `torch.nn` module. The network itself is a class inheriting from `torch.nn.Module`. You define each of the operations separately, like `nn.Linear(784, 128)` for a fully connected linear layer with 784 inputs and 128 units.\n",
        "\n",
        "The class needs to include a `forward` method that implements the forward pass through the network. In this method, you pass some input tensor `x` through each of the operations you defined earlier. The `torch.nn` module also has functional equivalents for things like ReLUs in `torch.nn.functional`. This module is usually imported as `F`. Then to use a ReLU activation on some layer (which is just a tensor), you'd do `F.relu(x)`. Below are a few different commonly used activation functions.\n",
        "\n",
        "<img src=\"assets/activation.png\" width=700px>\n",
        "\n",
        "So, for this network, I'll build it with three fully connected layers, then a softmax output for predicting classes. The softmax function is similar to the sigmoid in that it squashes inputs between 0 and 1, but it's also normalized so that all the values sum to one like a proper probability distribution."
      ]
    },
    {
      "cell_type": "code",
      "metadata": {
        "ExecuteTime": {
          "end_time": "2021-05-26T22:26:39.961531Z",
          "start_time": "2021-05-26T22:26:39.946776Z"
        },
        "colab": {
          "base_uri": "https://localhost:8080/"
        },
        "id": "8gqQ_5jQap07",
        "outputId": "8bc8e0af-fd8a-4609-8888-a365523e7224"
      },
      "source": [
        "class Network(nn.Module):\n",
        "    \n",
        "    # Defining the layers, 32, 16, 10 units each\n",
        "    def __init__(self):\n",
        "        super().__init__()\n",
        "        self.fc1 = nn.Linear(784, 32)\n",
        "        self.fc2 = nn.Linear(32, 16)\n",
        "        self.fc3 = nn.Linear(16, 10)\n",
        "        \n",
        "    # Forward pass through the network, returns the output logits\n",
        "    def forward(self, x):\n",
        "        x = self.fc1(x)\n",
        "        x = F.relu(x)\n",
        "        x = self.fc2(x)\n",
        "        x = F.relu(x)\n",
        "        x = self.fc3(x)\n",
        "        x = F.softmax(x, dim=1)\n",
        "        return x\n",
        "\n",
        "model = Network()\n",
        "model"
      ],
      "execution_count": 17,
      "outputs": [
        {
          "output_type": "execute_result",
          "data": {
            "text/plain": [
              "Network(\n",
              "  (fc1): Linear(in_features=784, out_features=32, bias=True)\n",
              "  (fc2): Linear(in_features=32, out_features=16, bias=True)\n",
              "  (fc3): Linear(in_features=16, out_features=10, bias=True)\n",
              ")"
            ]
          },
          "metadata": {
            "tags": []
          },
          "execution_count": 17
        }
      ]
    },
    {
      "cell_type": "markdown",
      "metadata": {
        "id": "xiWOXOArap0-"
      },
      "source": [
        "Why the input features are 784? Because the input images have size 28 pixels x 28 pixels for a total of 784 features. Since a Multilayer perceptron accepts only flatten inputs, we need to flatten a 28x28 grid into a 784 array."
      ]
    },
    {
      "cell_type": "markdown",
      "metadata": {
        "id": "KotTTzbsap1B"
      },
      "source": [
        "### Sequential API\n",
        "PyTorch provides a convenient way to build networks like this where a tensor is passed sequentially through operations, `nn.Sequential` ([documentation](https://pytorch.org/docs/master/nn.html#torch.nn.Sequential)). Using this to build the equivalent network:"
      ]
    },
    {
      "cell_type": "code",
      "metadata": {
        "ExecuteTime": {
          "end_time": "2021-05-26T22:26:41.213448Z",
          "start_time": "2021-05-26T22:26:41.205216Z"
        },
        "colab": {
          "base_uri": "https://localhost:8080/"
        },
        "id": "i-mTba0map1C",
        "outputId": "a86f20d3-253c-478d-a9ac-6feae3dc25b7"
      },
      "source": [
        "# Hyperparameters for our network\n",
        "input_size   = 784\n",
        "hidden_sizes = [4, 4]\n",
        "output_size   = 10\n",
        "\n",
        "# Build a feed-forward network\n",
        "model = nn.Sequential(nn.Linear(input_size, hidden_sizes[0]),\n",
        "                      nn.ReLU(),\n",
        "                      nn.Linear(hidden_sizes[0], hidden_sizes[1]),\n",
        "                      nn.ReLU(),\n",
        "                      nn.Linear(hidden_sizes[1], output_size),\n",
        "                      nn.Softmax(dim=1))\n",
        "print(model)"
      ],
      "execution_count": 18,
      "outputs": [
        {
          "output_type": "stream",
          "text": [
            "Sequential(\n",
            "  (0): Linear(in_features=784, out_features=4, bias=True)\n",
            "  (1): ReLU()\n",
            "  (2): Linear(in_features=4, out_features=4, bias=True)\n",
            "  (3): ReLU()\n",
            "  (4): Linear(in_features=4, out_features=10, bias=True)\n",
            "  (5): Softmax(dim=1)\n",
            ")\n"
          ],
          "name": "stdout"
        }
      ]
    },
    {
      "cell_type": "markdown",
      "metadata": {
        "id": "VL79zT5Fap1F"
      },
      "source": [
        "You can also pass in an `OrderedDict` to name the individual layers and operations. Note that a dictionary keys must be unique, so _each operation must have a different name_."
      ]
    },
    {
      "cell_type": "code",
      "metadata": {
        "ExecuteTime": {
          "end_time": "2021-05-26T22:26:42.300216Z",
          "start_time": "2021-05-26T22:26:42.289009Z"
        },
        "colab": {
          "base_uri": "https://localhost:8080/"
        },
        "id": "YMUvOiKnap1G",
        "outputId": "392f84d7-3161-42fe-cf5b-e6dbcb9358e0"
      },
      "source": [
        "model = nn.Sequential(OrderedDict([\n",
        "          ('fc1',   nn.Linear(input_size, hidden_sizes[0])),\n",
        "          ('relu1', nn.ReLU()),\n",
        "          ('fc2',   nn.Linear(hidden_sizes[0], hidden_sizes[1])),\n",
        "          ('relu2', nn.ReLU()),\n",
        "          ('output', nn.Linear(hidden_sizes[1], output_size)),\n",
        "          ('softmax', nn.Softmax(dim=1))]))\n",
        "model"
      ],
      "execution_count": 21,
      "outputs": [
        {
          "output_type": "execute_result",
          "data": {
            "text/plain": [
              "Sequential(\n",
              "  (fc1): Linear(in_features=784, out_features=4, bias=True)\n",
              "  (relu1): ReLU()\n",
              "  (fc2): Linear(in_features=4, out_features=4, bias=True)\n",
              "  (relu2): ReLU()\n",
              "  (output): Linear(in_features=4, out_features=10, bias=True)\n",
              "  (softmax): Softmax(dim=1)\n",
              ")"
            ]
          },
          "metadata": {
            "tags": []
          },
          "execution_count": 21
        }
      ]
    },
    {
      "cell_type": "markdown",
      "metadata": {
        "id": "6GCR2Ytdap1H"
      },
      "source": [
        "### Initializing weights and biases\n",
        "\n",
        "The weights and such are automatically initialized for you, but it's possible to customize how they are initialized. The weights and biases are tensors attached to the layer you defined, you can get them with `model.fc1.weight` for instance."
      ]
    },
    {
      "cell_type": "code",
      "metadata": {
        "ExecuteTime": {
          "end_time": "2021-05-26T22:26:42.972699Z",
          "start_time": "2021-05-26T22:26:42.963913Z"
        },
        "colab": {
          "base_uri": "https://localhost:8080/"
        },
        "id": "8ZMUnv5tap1I",
        "outputId": "2b1a7b8c-2ede-4a97-a42b-18dd296983e5"
      },
      "source": [
        "print(model.fc1.weight)\n",
        "print(model.fc1.bias)"
      ],
      "execution_count": 22,
      "outputs": [
        {
          "output_type": "stream",
          "text": [
            "Parameter containing:\n",
            "tensor([[-0.0237,  0.0286,  0.0237,  ...,  0.0298,  0.0238, -0.0278],\n",
            "        [ 0.0229,  0.0349,  0.0034,  ...,  0.0006, -0.0054, -0.0055],\n",
            "        [ 0.0192, -0.0202,  0.0230,  ..., -0.0242, -0.0110,  0.0066],\n",
            "        [ 0.0341,  0.0007, -0.0077,  ...,  0.0021,  0.0172,  0.0118]],\n",
            "       requires_grad=True)\n",
            "Parameter containing:\n",
            "tensor([-1.6921e-02,  3.1744e-02, -2.5066e-02,  8.2706e-05],\n",
            "       requires_grad=True)\n"
          ],
          "name": "stdout"
        }
      ]
    },
    {
      "cell_type": "markdown",
      "metadata": {
        "id": "J2tqGndRap1K"
      },
      "source": [
        "For custom initialization, we want to modify these tensors in place. These are actually autograd *Variables*, so we need to get back the actual tensors with `model.fc1.weight.data`. Once we have the tensors, we can fill them with zeros (for biases) or random normal values."
      ]
    },
    {
      "cell_type": "code",
      "metadata": {
        "ExecuteTime": {
          "end_time": "2021-05-26T22:26:43.889729Z",
          "start_time": "2021-05-26T22:26:43.883940Z"
        },
        "colab": {
          "base_uri": "https://localhost:8080/"
        },
        "id": "X22HaItgap1L",
        "outputId": "7eb82450-25e0-4ddc-ffa1-bf39527ddff5"
      },
      "source": [
        "# Set biases to all zeros\n",
        "model.fc1.bias.data.fill_(0)"
      ],
      "execution_count": 23,
      "outputs": [
        {
          "output_type": "execute_result",
          "data": {
            "text/plain": [
              "tensor([0., 0., 0., 0.])"
            ]
          },
          "metadata": {
            "tags": []
          },
          "execution_count": 23
        }
      ]
    },
    {
      "cell_type": "code",
      "metadata": {
        "ExecuteTime": {
          "end_time": "2021-05-26T22:26:44.084097Z",
          "start_time": "2021-05-26T22:26:44.076738Z"
        },
        "colab": {
          "base_uri": "https://localhost:8080/"
        },
        "id": "b2bnCs6gap1M",
        "outputId": "11e09078-4810-46ca-b296-d3b3fb5fd879"
      },
      "source": [
        "# sample from random normal with standard dev = 0.01\n",
        "model.fc1.weight.data.normal_(std=0.01)"
      ],
      "execution_count": 24,
      "outputs": [
        {
          "output_type": "execute_result",
          "data": {
            "text/plain": [
              "tensor([[ 0.0018,  0.0096, -0.0021,  ..., -0.0017,  0.0033, -0.0093],\n",
              "        [ 0.0090,  0.0039,  0.0015,  ..., -0.0124,  0.0082, -0.0107],\n",
              "        [-0.0120, -0.0056,  0.0084,  ..., -0.0029,  0.0114,  0.0028],\n",
              "        [-0.0057,  0.0092,  0.0177,  ...,  0.0035, -0.0053,  0.0209]])"
            ]
          },
          "metadata": {
            "tags": []
          },
          "execution_count": 24
        }
      ]
    },
    {
      "cell_type": "markdown",
      "metadata": {
        "id": "M-3VcP7Sap1O"
      },
      "source": [
        "### STEP 1: Forward pass\n",
        "\n",
        "Now that we have a network, let's see what happens when we pass in an image. This is called the forward pass. We're going to convert the image data into a tensor, then pass it through the operations defined by the network architecture."
      ]
    },
    {
      "cell_type": "code",
      "metadata": {
        "ExecuteTime": {
          "end_time": "2021-05-26T22:26:44.506324Z",
          "start_time": "2021-05-26T22:26:44.491847Z"
        },
        "id": "RACTpv_7ap1P"
      },
      "source": [
        "# Grab some data \n",
        "dataiter = iter(trainloader)\n",
        "images, labels = dataiter.next()"
      ],
      "execution_count": 32,
      "outputs": []
    },
    {
      "cell_type": "code",
      "metadata": {
        "ExecuteTime": {
          "end_time": "2021-05-26T22:26:44.596541Z",
          "start_time": "2021-05-26T22:26:44.594169Z"
        },
        "colab": {
          "base_uri": "https://localhost:8080/"
        },
        "id": "oJpt8NAkap1Q",
        "outputId": "409740ca-cf36-482c-aa72-442c5cb320f0"
      },
      "source": [
        "images.shape"
      ],
      "execution_count": 33,
      "outputs": [
        {
          "output_type": "execute_result",
          "data": {
            "text/plain": [
              "torch.Size([16, 1, 28, 28])"
            ]
          },
          "metadata": {
            "tags": []
          },
          "execution_count": 33
        }
      ]
    },
    {
      "cell_type": "code",
      "metadata": {
        "ExecuteTime": {
          "end_time": "2021-05-26T22:26:44.851894Z",
          "start_time": "2021-05-26T22:26:44.845888Z"
        },
        "colab": {
          "base_uri": "https://localhost:8080/"
        },
        "id": "QSk-MmQoap1R",
        "outputId": "b17e4eaf-43f8-44d4-9aae-747e16748008"
      },
      "source": [
        "model"
      ],
      "execution_count": 34,
      "outputs": [
        {
          "output_type": "execute_result",
          "data": {
            "text/plain": [
              "Sequential(\n",
              "  (fc1): Linear(in_features=784, out_features=4, bias=True)\n",
              "  (relu1): ReLU()\n",
              "  (fc2): Linear(in_features=4, out_features=4, bias=True)\n",
              "  (relu2): ReLU()\n",
              "  (output): Linear(in_features=4, out_features=10, bias=True)\n",
              "  (softmax): Softmax(dim=1)\n",
              ")"
            ]
          },
          "metadata": {
            "tags": []
          },
          "execution_count": 34
        }
      ]
    },
    {
      "cell_type": "code",
      "metadata": {
        "ExecuteTime": {
          "end_time": "2021-05-26T22:26:46.121246Z",
          "start_time": "2021-05-26T22:26:46.112022Z"
        },
        "colab": {
          "base_uri": "https://localhost:8080/"
        },
        "id": "EDHVSGOTap1S",
        "outputId": "e56de7c0-b5f3-4930-8697-43204ea8b5c5"
      },
      "source": [
        "# Resize images into a 1D vector, new shape is (batch size, color channels, image pixels) \n",
        "images.resize_(images.shape[0], 1, 784)\n",
        "# or images.resize_(images.shape[0], 1, 784) to not automatically get batch size"
      ],
      "execution_count": 35,
      "outputs": [
        {
          "output_type": "execute_result",
          "data": {
            "text/plain": [
              "tensor([[[-1., -1., -1.,  ..., -1., -1., -1.]],\n",
              "\n",
              "        [[-1., -1., -1.,  ..., -1., -1., -1.]],\n",
              "\n",
              "        [[-1., -1., -1.,  ..., -1., -1., -1.]],\n",
              "\n",
              "        ...,\n",
              "\n",
              "        [[-1., -1., -1.,  ..., -1., -1., -1.]],\n",
              "\n",
              "        [[-1., -1., -1.,  ..., -1., -1., -1.]],\n",
              "\n",
              "        [[-1., -1., -1.,  ..., -1., -1., -1.]]])"
            ]
          },
          "metadata": {
            "tags": []
          },
          "execution_count": 35
        }
      ]
    },
    {
      "cell_type": "code",
      "metadata": {
        "ExecuteTime": {
          "end_time": "2021-05-26T22:26:46.519895Z",
          "start_time": "2021-05-26T22:26:46.514137Z"
        },
        "colab": {
          "base_uri": "https://localhost:8080/"
        },
        "id": "_ktvi4ZPap1T",
        "outputId": "c4330c08-d15b-4e13-eda5-1d3cc334a028"
      },
      "source": [
        "img_idx = 0\n",
        "images[img_idx,:].shape"
      ],
      "execution_count": 36,
      "outputs": [
        {
          "output_type": "execute_result",
          "data": {
            "text/plain": [
              "torch.Size([1, 784])"
            ]
          },
          "metadata": {
            "tags": []
          },
          "execution_count": 36
        }
      ]
    },
    {
      "cell_type": "code",
      "metadata": {
        "ExecuteTime": {
          "end_time": "2021-05-26T22:26:47.945952Z",
          "start_time": "2021-05-26T22:26:47.888846Z"
        },
        "id": "dvBI9pCwap1V"
      },
      "source": [
        "# Forward pass through the network\n",
        "img_idx = 0\n",
        "ps = model(images[img_idx,:])"
      ],
      "execution_count": 37,
      "outputs": []
    },
    {
      "cell_type": "code",
      "metadata": {
        "ExecuteTime": {
          "end_time": "2021-05-26T22:26:50.561845Z",
          "start_time": "2021-05-26T22:26:50.411449Z"
        },
        "colab": {
          "base_uri": "https://localhost:8080/",
          "height": 212
        },
        "id": "YWOXT9KVap1V",
        "outputId": "29328509-1164-4ec5-d1d9-bf5780197b5d"
      },
      "source": [
        "img = images[img_idx]\n",
        "view_classify(img.view(1, 28, 28), ps)"
      ],
      "execution_count": 38,
      "outputs": [
        {
          "output_type": "display_data",
          "data": {
            "image/png": "[encoded data removed]",
            "text/plain": [
              "<Figure size 432x648 with 2 Axes>"
            ]
          },
          "metadata": {
            "tags": [],
            "image/png": {
              "width": 349,
              "height": 195
            },
            "needs_background": "light"
          }
        }
      ]
    },
    {
      "cell_type": "markdown",
      "metadata": {
        "id": "W7nl8Bdhap1X"
      },
      "source": [
        "As you can see above, our network has basically no idea what this digit is. It's because we haven't trained it yet, all the weights are random!"
      ]
    },
    {
      "cell_type": "markdown",
      "metadata": {
        "id": "n3mFFggPap1Y"
      },
      "source": [
        "# Training Neural Networks\n",
        "\n",
        "The network we built isn't so smart, it doesn't know anything about our handwritten digits. Neural networks with non-linear activations work like universal function approximators. There is some function that maps your input to the output. For example, images of handwritten digits to class probabilities. The power of neural networks is that we can train them to approximate this function, and basically any function given enough data and compute time.\n",
        "\n",
        "<img src=\"assets/function_approx.png\" width=500px>\n",
        "\n",
        "At first the network is naive, it doesn't know the function mapping the inputs to the outputs. We train the network by showing it examples of real data, then adjusting the network parameters such that it approximates this function.\n",
        "\n",
        "To find these parameters, we need to know how poorly the network is predicting the real outputs. For this we calculate a **loss function** (also called the cost), a measure of our prediction error. For example, the mean squared loss is often used in regression and binary classification problems\n",
        "\n",
        "$$\n",
        "\\ell = \\frac{1}{2n}\\sum_i^n{\\left(y_i - \\hat{y}_i\\right)^2}\n",
        "$$\n",
        "\n",
        "where $n$ is the number of training examples, $y_i$ are the true labels, and $\\hat{y}_i$ are the predicted labels.\n",
        "\n",
        "By minimizing this loss with respect to the network parameters, we can find configurations where the loss is at a minimum and the network is able to predict the correct labels with high accuracy. We find this minimum using a process called **gradient descent**. The gradient is the slope of the loss function and points in the direction of fastest change. To get to the minimum in the least amount of time, we then want to follow the gradient (downwards). You can think of this like descending a mountain by following the steepest slope to the base.\n",
        "\n",
        "<img src='assets/gradient_descent.png' width=350px>"
      ]
    },
    {
      "cell_type": "markdown",
      "metadata": {
        "id": "X63Iv-FKap1Z"
      },
      "source": [
        "## Backpropagation\n",
        "\n",
        "For single layer networks, gradient descent is simple to implement. However, it's more complicated for deeper, multilayer neural networks like the one we've built. Complicated enough that it took about 30 years before researchers figured out how to train multilayer networks, although it's straightforward once you learn about it. \n",
        "\n",
        "This is done through **backpropagation** which is really just an application of the chain rule from calculus. It's easiest to understand if we convert a two layer network into a graph representation.\n",
        "\n",
        "<img src='assets/w1_backprop_graph.png' width=400px>\n",
        "\n",
        "In the forward pass through the network, our data and operations go from right to left here. To train the weights with gradient descent, we propagate the gradient of the cost backwards through the network. Mathematically, this is really just calculating the gradient of the loss with respect to the weights using the chain rule.\n",
        "\n",
        "$$\n",
        "\\frac{\\partial \\ell}{\\partial w_1} = \\frac{\\partial l_1}{\\partial w_1} \\frac{\\partial s}{\\partial l_1} \\frac{\\partial l_2}{\\partial s} \\frac{\\partial \\ell}{\\partial l_2}\n",
        "$$\n",
        "\n",
        "We update our weights using this gradient with some learning rate $\\alpha$. \n",
        "\n",
        "$$\n",
        "w^\\prime = w - \\alpha \\frac{\\partial \\ell}{\\partial w}\n",
        "$$\n",
        "\n",
        "The learning rate is set such that the weight update steps are small enough that the iterative method settles in a minimum.\n",
        "\n",
        "The first thing we need to do for training is define our loss function. In PyTorch, you'll usually see this as `criterion`. Here we're using softmax output, so we want to use `criterion = nn.CrossEntropyLoss()` as our loss. Later when training, you use `loss = criterion(output, targets)` to calculate the actual loss.\n",
        "\n",
        "We also need to define the optimizer we're using, SGD or Adam, or something along those lines. Here I'll just use SGD with `torch.optim.SGD`, passing in the network parameters and the learning rate."
      ]
    },
    {
      "cell_type": "markdown",
      "metadata": {
        "id": "NSbv8_J9ap1l"
      },
      "source": [
        "## Autograd\n",
        "\n",
        "Torch provides a module, `autograd`, for automatically calculating the gradient of tensors. It does this by keeping track of operations performed on tensors. To make sure PyTorch keeps track of operations on a tensor and calculates the gradients, you need to set `requires_grad` on a tensor. You can do this at creation with the `requires_grad` keyword, or at any time with `x.requires_grad_(True)`.\n",
        "\n",
        "You can turn off gradients for a block of code with the `torch.no_grad()` content:\n",
        "```python\n",
        "x = torch.zeros(1, requires_grad=True)\n",
        ">>> with torch.no_grad():\n",
        "...     y = x * 2\n",
        ">>> y.requires_grad\n",
        "False\n",
        "```\n",
        "\n",
        "Also, you can turn on or off gradients altogether with `torch.set_grad_enabled(True|False)`.\n",
        "\n",
        "The gradients are computed with respect to some variable `z` with `z.backward()`. This does a backward pass through the operations that created `z`."
      ]
    },
    {
      "cell_type": "code",
      "metadata": {
        "ExecuteTime": {
          "end_time": "2021-05-26T22:26:52.867509Z",
          "start_time": "2021-05-26T22:26:52.860629Z"
        },
        "colab": {
          "base_uri": "https://localhost:8080/"
        },
        "id": "oz6_RAagap1m",
        "outputId": "00096aee-8753-4029-be47-84601113e973"
      },
      "source": [
        "x = torch.randn(2,2, requires_grad=True)\n",
        "print(x)"
      ],
      "execution_count": 40,
      "outputs": [
        {
          "output_type": "stream",
          "text": [
            "tensor([[-1.8910,  0.2154],\n",
            "        [-0.4413, -0.2368]], requires_grad=True)\n"
          ],
          "name": "stdout"
        }
      ]
    },
    {
      "cell_type": "code",
      "metadata": {
        "ExecuteTime": {
          "end_time": "2021-05-26T22:26:53.383436Z",
          "start_time": "2021-05-26T22:26:53.375536Z"
        },
        "colab": {
          "base_uri": "https://localhost:8080/"
        },
        "id": "DiJ3BtnWap1n",
        "outputId": "fc8d90d9-6410-4408-d967-9ddb06848bde"
      },
      "source": [
        "y = x**2\n",
        "print(y)"
      ],
      "execution_count": 41,
      "outputs": [
        {
          "output_type": "stream",
          "text": [
            "tensor([[3.5757, 0.0464],\n",
            "        [0.1947, 0.0561]], grad_fn=<PowBackward0>)\n"
          ],
          "name": "stdout"
        }
      ]
    },
    {
      "cell_type": "markdown",
      "metadata": {
        "id": "KqX7XBgcap1o"
      },
      "source": [
        "Below we can see the operation that created `y`, a power operation `PowBackward0`."
      ]
    },
    {
      "cell_type": "code",
      "metadata": {
        "ExecuteTime": {
          "end_time": "2021-05-26T22:26:53.870654Z",
          "start_time": "2021-05-26T22:26:53.867424Z"
        },
        "colab": {
          "base_uri": "https://localhost:8080/"
        },
        "id": "VC0N1hqjap1p",
        "outputId": "d8de1c7c-8f72-4ec3-8d60-69a552f35329"
      },
      "source": [
        "## grad_fn shows the function that generated this variable\n",
        "print(y.grad_fn)"
      ],
      "execution_count": 42,
      "outputs": [
        {
          "output_type": "stream",
          "text": [
            "<PowBackward0 object at 0x7ff0c4105e50>\n"
          ],
          "name": "stdout"
        }
      ]
    },
    {
      "cell_type": "markdown",
      "metadata": {
        "id": "qCDy-8_vap1q"
      },
      "source": [
        "The autgrad module keeps track of these operations and knows how to calculate the gradient for each one. In this way, it's able to calculate the gradients for a chain of operations, with respect to any one tensor. Let's reduce the tensor `y` to a scalar value, the mean."
      ]
    },
    {
      "cell_type": "code",
      "metadata": {
        "ExecuteTime": {
          "end_time": "2021-05-26T22:26:54.831912Z",
          "start_time": "2021-05-26T22:26:54.824631Z"
        },
        "colab": {
          "base_uri": "https://localhost:8080/"
        },
        "id": "Y38BV13eap1r",
        "outputId": "9ccb7921-41d4-486c-f569-c0d3eb6fe252"
      },
      "source": [
        "z = y.mean()\n",
        "print(z)"
      ],
      "execution_count": 43,
      "outputs": [
        {
          "output_type": "stream",
          "text": [
            "tensor(0.9682, grad_fn=<MeanBackward0>)\n"
          ],
          "name": "stdout"
        }
      ]
    },
    {
      "cell_type": "markdown",
      "metadata": {
        "id": "KmAZBElcap1t"
      },
      "source": [
        "You can check the gradients for `x` and `y` but they are empty currently."
      ]
    },
    {
      "cell_type": "code",
      "metadata": {
        "ExecuteTime": {
          "end_time": "2021-05-26T22:26:55.546143Z",
          "start_time": "2021-05-26T22:26:55.541213Z"
        },
        "colab": {
          "base_uri": "https://localhost:8080/"
        },
        "id": "2vbaQXugap1t",
        "outputId": "74eef24b-196a-4bc1-dec1-247db8881517"
      },
      "source": [
        "print(x.grad)"
      ],
      "execution_count": 44,
      "outputs": [
        {
          "output_type": "stream",
          "text": [
            "None\n"
          ],
          "name": "stdout"
        }
      ]
    },
    {
      "cell_type": "markdown",
      "metadata": {
        "id": "rXn4Wn1uap1u"
      },
      "source": [
        "To calculate the gradients, you need to run the `.backward` method on a Variable, `z` for example. This will calculate the gradient for `z` with respect to `x`\n",
        "\n",
        "$$\n",
        "\\frac{\\partial z}{\\partial x} = \\frac{\\partial}{\\partial x}\\left[\\frac{1}{n}\\sum_i^n x_i^2\\right] = \\frac{x}{2}\n",
        "$$"
      ]
    },
    {
      "cell_type": "code",
      "metadata": {
        "ExecuteTime": {
          "end_time": "2021-05-26T22:26:56.607560Z",
          "start_time": "2021-05-26T22:26:56.594993Z"
        },
        "colab": {
          "base_uri": "https://localhost:8080/"
        },
        "id": "cZVu4iJ-ap1v",
        "outputId": "12bd444a-6bcf-454c-d42f-6656bbe1c4e1"
      },
      "source": [
        "z.backward()\n",
        "print(x.grad)\n",
        "print(x/2)"
      ],
      "execution_count": 45,
      "outputs": [
        {
          "output_type": "stream",
          "text": [
            "tensor([[-0.9455,  0.1077],\n",
            "        [-0.2207, -0.1184]])\n",
            "tensor([[-0.9455,  0.1077],\n",
            "        [-0.2207, -0.1184]], grad_fn=<DivBackward0>)\n"
          ],
          "name": "stdout"
        }
      ]
    },
    {
      "cell_type": "markdown",
      "metadata": {
        "id": "ib4AFaNhap1w"
      },
      "source": [
        "These gradients calculations are particularly useful for neural networks. For training we need the gradients of the weights with respect to the cost. With PyTorch, we run data forward through the network to calculate the cost, then, go backwards to calculate the gradients with respect to the cost. Once we have the gradients we can make a gradient descent step. "
      ]
    },
    {
      "cell_type": "markdown",
      "metadata": {
        "id": "d6V3uQPHap1x"
      },
      "source": [
        "I'll build a network with `nn.Sequential` here. Only difference from the last part is I'm not actually using softmax on the output, but instead just using the raw output from the last layer. This is because the output from softmax is a probability distribution. Often, the output will have values really close to zero or really close to one. Due to [inaccuracies with representing numbers as floating points](https://docs.python.org/3/tutorial/floatingpoint.html), computations with a softmax output can lose accuracy and become unstable. To get around this, we'll use the raw output, called the **logits**, to calculate the loss."
      ]
    },
    {
      "cell_type": "code",
      "metadata": {
        "ExecuteTime": {
          "end_time": "2021-05-26T22:26:56.944759Z",
          "start_time": "2021-05-26T22:26:56.936939Z"
        },
        "id": "2Ewh7Yr_ap1y"
      },
      "source": [
        "# Hyperparameters for our network\n",
        "input_size   = 784\n",
        "hidden_sizes = [128, 64]\n",
        "output_size  = 10\n",
        "\n",
        "# Build a feed-forward network\n",
        "model = nn.Sequential(OrderedDict([\n",
        "          ('fc1', nn.Linear(input_size, hidden_sizes[0])),\n",
        "          ('relu1', nn.ReLU()),\n",
        "          ('fc2', nn.Linear(hidden_sizes[0], hidden_sizes[1])),\n",
        "          ('relu2', nn.ReLU()),\n",
        "          ('logits', nn.Linear(hidden_sizes[1], output_size))]))"
      ],
      "execution_count": 46,
      "outputs": []
    },
    {
      "cell_type": "markdown",
      "metadata": {
        "id": "Bdp66W9-ap1y"
      },
      "source": [
        "## Training the network!\n",
        "\n",
        "The first thing we need to do for training is define our loss function. In PyTorch, you'll usually see this as `criterion`. Here we're using softmax output, so we want to use `criterion = nn.CrossEntropyLoss()` as our loss. Later when training, you use `loss = criterion(output, targets)` to calculate the actual loss.\n",
        "\n",
        "We also need to define the optimizer we're using, SGD or Adam, or something along those lines. Here I'll just use SGD with `torch.optim.SGD`, passing in the network parameters and the learning rate."
      ]
    },
    {
      "cell_type": "code",
      "metadata": {
        "ExecuteTime": {
          "end_time": "2021-05-26T22:26:57.317614Z",
          "start_time": "2021-05-26T22:26:57.313022Z"
        },
        "id": "NhiVBaRiap1z"
      },
      "source": [
        "criterion = nn.CrossEntropyLoss()\n",
        "optimizer = optim.SGD(model.parameters(), lr=0.01)"
      ],
      "execution_count": 47,
      "outputs": []
    },
    {
      "cell_type": "markdown",
      "metadata": {
        "id": "gWyrnChpap10"
      },
      "source": [
        "First, let's consider just one learning step before looping through all the data. The general process with PyTorch:\n",
        "\n",
        "* Make a forward pass through the network to get the logits \n",
        "* Use the logits to calculate the loss\n",
        "* Perform a backward pass through the network with `loss.backward()` to calculate the gradients\n",
        "* Take a step with the optimizer to update the weights\n",
        "\n",
        "Below I'll go through one training step and print out the weights and gradients so you can see how it changes."
      ]
    },
    {
      "cell_type": "code",
      "metadata": {
        "ExecuteTime": {
          "end_time": "2021-05-26T22:27:07.408433Z",
          "start_time": "2021-05-26T22:27:07.373358Z"
        },
        "colab": {
          "base_uri": "https://localhost:8080/"
        },
        "id": "mlAalVdzap11",
        "outputId": "42cf2a39-9575-4736-b205-7cdc87584860"
      },
      "source": [
        "print('Initial weights - ', model.fc1.weight)\n",
        "\n",
        "images, labels = next(iter(trainloader))\n",
        "images.resize_(16, 784)\n",
        "\n",
        "# Clear the gradients, do this because gradients are accumulated\n",
        "optimizer.zero_grad()\n",
        "\n",
        "# Forward pass, then backward pass, then update weights\n",
        "output = model.forward(images)\n",
        "loss = criterion(output, labels)\n",
        "loss.backward()\n",
        "print('Gradient -', model.fc1.weight.grad)\n",
        "optimizer.step()"
      ],
      "execution_count": 48,
      "outputs": [
        {
          "output_type": "stream",
          "text": [
            "Initial weights -  Parameter containing:\n",
            "tensor([[-0.0073,  0.0298, -0.0201,  ...,  0.0276,  0.0146, -0.0004],\n",
            "        [ 0.0218,  0.0320, -0.0242,  ...,  0.0014, -0.0303, -0.0284],\n",
            "        [-0.0144,  0.0178, -0.0320,  ..., -0.0083, -0.0004,  0.0155],\n",
            "        ...,\n",
            "        [-0.0351, -0.0109, -0.0242,  ...,  0.0329, -0.0036,  0.0302],\n",
            "        [ 0.0138, -0.0189,  0.0237,  ...,  0.0077,  0.0155, -0.0298],\n",
            "        [-0.0220,  0.0218, -0.0053,  ..., -0.0116,  0.0194,  0.0085]],\n",
            "       requires_grad=True)\n",
            "Gradient - tensor([[-0.0003, -0.0003, -0.0003,  ..., -0.0003, -0.0003, -0.0003],\n",
            "        [ 0.0000,  0.0000,  0.0000,  ...,  0.0000,  0.0000,  0.0000],\n",
            "        [ 0.0067,  0.0067,  0.0067,  ...,  0.0067,  0.0067,  0.0067],\n",
            "        ...,\n",
            "        [-0.0008, -0.0008, -0.0008,  ..., -0.0008, -0.0008, -0.0008],\n",
            "        [ 0.0010,  0.0010,  0.0010,  ...,  0.0010,  0.0010,  0.0010],\n",
            "        [ 0.0008,  0.0008,  0.0008,  ...,  0.0008,  0.0008,  0.0008]])\n"
          ],
          "name": "stdout"
        }
      ]
    },
    {
      "cell_type": "code",
      "metadata": {
        "ExecuteTime": {
          "end_time": "2021-05-26T22:27:07.915247Z",
          "start_time": "2021-05-26T22:27:07.908155Z"
        },
        "colab": {
          "base_uri": "https://localhost:8080/"
        },
        "id": "JD1G7dkVap12",
        "outputId": "e288bcd3-cfbf-47f9-c0de-fbc0f62cdbc1"
      },
      "source": [
        "print('Updated weights - ', model.fc1.weight)"
      ],
      "execution_count": 49,
      "outputs": [
        {
          "output_type": "stream",
          "text": [
            "Updated weights -  Parameter containing:\n",
            "tensor([[-0.0073,  0.0298, -0.0201,  ...,  0.0276,  0.0146, -0.0004],\n",
            "        [ 0.0218,  0.0320, -0.0242,  ...,  0.0014, -0.0303, -0.0284],\n",
            "        [-0.0145,  0.0177, -0.0321,  ..., -0.0083, -0.0004,  0.0154],\n",
            "        ...,\n",
            "        [-0.0351, -0.0109, -0.0242,  ...,  0.0329, -0.0036,  0.0302],\n",
            "        [ 0.0138, -0.0189,  0.0237,  ...,  0.0077,  0.0155, -0.0298],\n",
            "        [-0.0220,  0.0218, -0.0053,  ..., -0.0117,  0.0194,  0.0085]],\n",
            "       requires_grad=True)\n"
          ],
          "name": "stdout"
        }
      ]
    },
    {
      "cell_type": "markdown",
      "metadata": {
        "id": "MMff1i5eap13"
      },
      "source": [
        "### Training for real\n",
        "\n",
        "Now we'll put this algorithm into a loop so we can go through all the images. This is fairly straightforward. We'll loop through the mini-batches in our dataset, pass the data through the network to calculate the losses, get the gradients, then run the optimizer."
      ]
    },
    {
      "cell_type": "code",
      "metadata": {
        "ExecuteTime": {
          "end_time": "2021-05-26T22:27:08.816179Z",
          "start_time": "2021-05-26T22:27:08.812807Z"
        },
        "id": "XELGKbVdap14"
      },
      "source": [
        "optimizer = optim.SGD(model.parameters(), lr=0.003)"
      ],
      "execution_count": 50,
      "outputs": []
    },
    {
      "cell_type": "code",
      "metadata": {
        "ExecuteTime": {
          "end_time": "2021-05-26T22:27:36.083537Z",
          "start_time": "2021-05-26T22:27:09.280769Z"
        },
        "colab": {
          "base_uri": "https://localhost:8080/"
        },
        "id": "LAwEFQ02ap14",
        "outputId": "61dd4c80-a0ca-4a8c-f1b7-69db69bcbfaf"
      },
      "source": [
        "epochs = 3\n",
        "print_every = 40\n",
        "\n",
        "for e in range(epochs):\n",
        "    running_loss = 0\n",
        "    print(f\"Epoch: {e+1}/{epochs}\")\n",
        "\n",
        "    for i, (images, labels) in enumerate(iter(trainloader)):\n",
        "\n",
        "        # Flatten MNIST images into a 784 long vector\n",
        "        images.resize_(images.size()[0], 784)\n",
        "        \n",
        "        optimizer.zero_grad()\n",
        "        \n",
        "        output = model.forward(images)   # 1) Forward pass\n",
        "        loss = criterion(output, labels) # 2) Compute loss\n",
        "        loss.backward()                  # 3) Backward pass\n",
        "        optimizer.step()                 # 4) Update model\n",
        "        \n",
        "        running_loss += loss.item()\n",
        "        \n",
        "        if i % print_every == 0:\n",
        "            print(f\"\\tIteration: {i}\\t Loss: {running_loss/print_every:.4f}\")\n",
        "            running_loss = 0 "
      ],
      "execution_count": 51,
      "outputs": [
        {
          "output_type": "stream",
          "text": [
            "Epoch: 1/3\n",
            "\tIteration: 0\t Loss: 0.0574\n",
            "\tIteration: 40\t Loss: 2.2907\n",
            "\tIteration: 80\t Loss: 2.2761\n",
            "\tIteration: 120\t Loss: 2.2636\n",
            "\tIteration: 160\t Loss: 2.2500\n",
            "\tIteration: 200\t Loss: 2.2262\n",
            "\tIteration: 240\t Loss: 2.2064\n",
            "\tIteration: 280\t Loss: 2.1827\n",
            "\tIteration: 320\t Loss: 2.1537\n",
            "\tIteration: 360\t Loss: 2.1216\n",
            "\tIteration: 400\t Loss: 2.0937\n",
            "\tIteration: 440\t Loss: 2.0629\n",
            "\tIteration: 480\t Loss: 2.0250\n",
            "\tIteration: 520\t Loss: 1.9785\n",
            "\tIteration: 560\t Loss: 1.9316\n",
            "\tIteration: 600\t Loss: 1.8641\n",
            "\tIteration: 640\t Loss: 1.8230\n",
            "\tIteration: 680\t Loss: 1.7599\n",
            "\tIteration: 720\t Loss: 1.6869\n",
            "\tIteration: 760\t Loss: 1.6356\n",
            "\tIteration: 800\t Loss: 1.5572\n",
            "\tIteration: 840\t Loss: 1.4904\n",
            "\tIteration: 880\t Loss: 1.4211\n",
            "\tIteration: 920\t Loss: 1.3681\n",
            "\tIteration: 960\t Loss: 1.3147\n",
            "\tIteration: 1000\t Loss: 1.2458\n",
            "\tIteration: 1040\t Loss: 1.2286\n",
            "\tIteration: 1080\t Loss: 1.1149\n",
            "\tIteration: 1120\t Loss: 1.0977\n",
            "\tIteration: 1160\t Loss: 1.0616\n",
            "\tIteration: 1200\t Loss: 1.0513\n",
            "\tIteration: 1240\t Loss: 1.0016\n",
            "\tIteration: 1280\t Loss: 0.9414\n",
            "\tIteration: 1320\t Loss: 0.9141\n",
            "\tIteration: 1360\t Loss: 0.8901\n",
            "\tIteration: 1400\t Loss: 0.8510\n",
            "\tIteration: 1440\t Loss: 0.8794\n",
            "\tIteration: 1480\t Loss: 0.7997\n",
            "\tIteration: 1520\t Loss: 0.8055\n",
            "\tIteration: 1560\t Loss: 0.7925\n",
            "\tIteration: 1600\t Loss: 0.7357\n",
            "\tIteration: 1640\t Loss: 0.7284\n",
            "\tIteration: 1680\t Loss: 0.7137\n",
            "\tIteration: 1720\t Loss: 0.7138\n",
            "\tIteration: 1760\t Loss: 0.6605\n",
            "\tIteration: 1800\t Loss: 0.6505\n",
            "\tIteration: 1840\t Loss: 0.7073\n",
            "\tIteration: 1880\t Loss: 0.6241\n",
            "\tIteration: 1920\t Loss: 0.6549\n",
            "\tIteration: 1960\t Loss: 0.6337\n",
            "\tIteration: 2000\t Loss: 0.6549\n",
            "\tIteration: 2040\t Loss: 0.6036\n",
            "\tIteration: 2080\t Loss: 0.7014\n",
            "\tIteration: 2120\t Loss: 0.5966\n",
            "\tIteration: 2160\t Loss: 0.5934\n",
            "\tIteration: 2200\t Loss: 0.5540\n",
            "\tIteration: 2240\t Loss: 0.5999\n",
            "\tIteration: 2280\t Loss: 0.5868\n",
            "\tIteration: 2320\t Loss: 0.5858\n",
            "\tIteration: 2360\t Loss: 0.5640\n",
            "\tIteration: 2400\t Loss: 0.5107\n",
            "\tIteration: 2440\t Loss: 0.5112\n",
            "\tIteration: 2480\t Loss: 0.5506\n",
            "\tIteration: 2520\t Loss: 0.5394\n",
            "\tIteration: 2560\t Loss: 0.5441\n",
            "\tIteration: 2600\t Loss: 0.4806\n",
            "\tIteration: 2640\t Loss: 0.4739\n",
            "\tIteration: 2680\t Loss: 0.4743\n",
            "\tIteration: 2720\t Loss: 0.4979\n",
            "\tIteration: 2760\t Loss: 0.4855\n",
            "\tIteration: 2800\t Loss: 0.4990\n",
            "\tIteration: 2840\t Loss: 0.4751\n",
            "\tIteration: 2880\t Loss: 0.4611\n",
            "\tIteration: 2920\t Loss: 0.4958\n",
            "\tIteration: 2960\t Loss: 0.4553\n",
            "\tIteration: 3000\t Loss: 0.4789\n",
            "\tIteration: 3040\t Loss: 0.4854\n",
            "\tIteration: 3080\t Loss: 0.5104\n",
            "\tIteration: 3120\t Loss: 0.5370\n",
            "\tIteration: 3160\t Loss: 0.4548\n",
            "\tIteration: 3200\t Loss: 0.3594\n",
            "\tIteration: 3240\t Loss: 0.3989\n",
            "\tIteration: 3280\t Loss: 0.4399\n",
            "\tIteration: 3320\t Loss: 0.4466\n",
            "\tIteration: 3360\t Loss: 0.4389\n",
            "\tIteration: 3400\t Loss: 0.4256\n",
            "\tIteration: 3440\t Loss: 0.4406\n",
            "\tIteration: 3480\t Loss: 0.3995\n",
            "\tIteration: 3520\t Loss: 0.4461\n",
            "\tIteration: 3560\t Loss: 0.4780\n",
            "\tIteration: 3600\t Loss: 0.3690\n",
            "\tIteration: 3640\t Loss: 0.3588\n",
            "\tIteration: 3680\t Loss: 0.4789\n",
            "\tIteration: 3720\t Loss: 0.3749\n",
            "Epoch: 2/3\n",
            "\tIteration: 0\t Loss: 0.0073\n",
            "\tIteration: 40\t Loss: 0.3931\n",
            "\tIteration: 80\t Loss: 0.4093\n",
            "\tIteration: 120\t Loss: 0.3958\n",
            "\tIteration: 160\t Loss: 0.4241\n",
            "\tIteration: 200\t Loss: 0.4666\n",
            "\tIteration: 240\t Loss: 0.3450\n",
            "\tIteration: 280\t Loss: 0.4086\n",
            "\tIteration: 320\t Loss: 0.3861\n",
            "\tIteration: 360\t Loss: 0.4043\n",
            "\tIteration: 400\t Loss: 0.4527\n",
            "\tIteration: 440\t Loss: 0.3811\n",
            "\tIteration: 480\t Loss: 0.4351\n",
            "\tIteration: 520\t Loss: 0.3976\n",
            "\tIteration: 560\t Loss: 0.4074\n",
            "\tIteration: 600\t Loss: 0.3644\n",
            "\tIteration: 640\t Loss: 0.3795\n",
            "\tIteration: 680\t Loss: 0.3849\n",
            "\tIteration: 720\t Loss: 0.3657\n",
            "\tIteration: 760\t Loss: 0.3666\n",
            "\tIteration: 800\t Loss: 0.3837\n",
            "\tIteration: 840\t Loss: 0.3480\n",
            "\tIteration: 880\t Loss: 0.4326\n",
            "\tIteration: 920\t Loss: 0.3937\n",
            "\tIteration: 960\t Loss: 0.3628\n",
            "\tIteration: 1000\t Loss: 0.3719\n",
            "\tIteration: 1040\t Loss: 0.4056\n",
            "\tIteration: 1080\t Loss: 0.4018\n",
            "\tIteration: 1120\t Loss: 0.4426\n",
            "\tIteration: 1160\t Loss: 0.3657\n",
            "\tIteration: 1200\t Loss: 0.3286\n",
            "\tIteration: 1240\t Loss: 0.3793\n",
            "\tIteration: 1280\t Loss: 0.4074\n",
            "\tIteration: 1320\t Loss: 0.3189\n",
            "\tIteration: 1360\t Loss: 0.2964\n",
            "\tIteration: 1400\t Loss: 0.3840\n",
            "\tIteration: 1440\t Loss: 0.3731\n",
            "\tIteration: 1480\t Loss: 0.3798\n",
            "\tIteration: 1520\t Loss: 0.3358\n",
            "\tIteration: 1560\t Loss: 0.3709\n",
            "\tIteration: 1600\t Loss: 0.3080\n",
            "\tIteration: 1640\t Loss: 0.3491\n",
            "\tIteration: 1680\t Loss: 0.3435\n",
            "\tIteration: 1720\t Loss: 0.3492\n",
            "\tIteration: 1760\t Loss: 0.3748\n",
            "\tIteration: 1800\t Loss: 0.3635\n",
            "\tIteration: 1840\t Loss: 0.3601\n",
            "\tIteration: 1880\t Loss: 0.3847\n",
            "\tIteration: 1920\t Loss: 0.4101\n",
            "\tIteration: 1960\t Loss: 0.3415\n",
            "\tIteration: 2000\t Loss: 0.4177\n",
            "\tIteration: 2040\t Loss: 0.3891\n",
            "\tIteration: 2080\t Loss: 0.3810\n",
            "\tIteration: 2120\t Loss: 0.3767\n",
            "\tIteration: 2160\t Loss: 0.3704\n",
            "\tIteration: 2200\t Loss: 0.4234\n",
            "\tIteration: 2240\t Loss: 0.3272\n",
            "\tIteration: 2280\t Loss: 0.3791\n",
            "\tIteration: 2320\t Loss: 0.3560\n",
            "\tIteration: 2360\t Loss: 0.3600\n",
            "\tIteration: 2400\t Loss: 0.3606\n",
            "\tIteration: 2440\t Loss: 0.3511\n",
            "\tIteration: 2480\t Loss: 0.3841\n",
            "\tIteration: 2520\t Loss: 0.3915\n",
            "\tIteration: 2560\t Loss: 0.2819\n",
            "\tIteration: 2600\t Loss: 0.2953\n",
            "\tIteration: 2640\t Loss: 0.3894\n",
            "\tIteration: 2680\t Loss: 0.3246\n",
            "\tIteration: 2720\t Loss: 0.3666\n",
            "\tIteration: 2760\t Loss: 0.3197\n",
            "\tIteration: 2800\t Loss: 0.3110\n",
            "\tIteration: 2840\t Loss: 0.3156\n",
            "\tIteration: 2880\t Loss: 0.3624\n",
            "\tIteration: 2920\t Loss: 0.2818\n",
            "\tIteration: 2960\t Loss: 0.3210\n",
            "\tIteration: 3000\t Loss: 0.3143\n",
            "\tIteration: 3040\t Loss: 0.3247\n",
            "\tIteration: 3080\t Loss: 0.3073\n",
            "\tIteration: 3120\t Loss: 0.3610\n",
            "\tIteration: 3160\t Loss: 0.3924\n",
            "\tIteration: 3200\t Loss: 0.2921\n",
            "\tIteration: 3240\t Loss: 0.3766\n",
            "\tIteration: 3280\t Loss: 0.3681\n",
            "\tIteration: 3320\t Loss: 0.3386\n",
            "\tIteration: 3360\t Loss: 0.3638\n",
            "\tIteration: 3400\t Loss: 0.3753\n",
            "\tIteration: 3440\t Loss: 0.3334\n",
            "\tIteration: 3480\t Loss: 0.2966\n",
            "\tIteration: 3520\t Loss: 0.3595\n",
            "\tIteration: 3560\t Loss: 0.3688\n",
            "\tIteration: 3600\t Loss: 0.3746\n",
            "\tIteration: 3640\t Loss: 0.2869\n",
            "\tIteration: 3680\t Loss: 0.3219\n",
            "\tIteration: 3720\t Loss: 0.3253\n",
            "Epoch: 3/3\n",
            "\tIteration: 0\t Loss: 0.0046\n",
            "\tIteration: 40\t Loss: 0.3187\n",
            "\tIteration: 80\t Loss: 0.3760\n",
            "\tIteration: 120\t Loss: 0.3993\n",
            "\tIteration: 160\t Loss: 0.3154\n",
            "\tIteration: 200\t Loss: 0.3373\n",
            "\tIteration: 240\t Loss: 0.3076\n",
            "\tIteration: 280\t Loss: 0.3337\n",
            "\tIteration: 320\t Loss: 0.3083\n",
            "\tIteration: 360\t Loss: 0.3756\n",
            "\tIteration: 400\t Loss: 0.2629\n",
            "\tIteration: 440\t Loss: 0.3549\n",
            "\tIteration: 480\t Loss: 0.2688\n",
            "\tIteration: 520\t Loss: 0.3515\n",
            "\tIteration: 560\t Loss: 0.3540\n",
            "\tIteration: 600\t Loss: 0.3253\n",
            "\tIteration: 640\t Loss: 0.2923\n",
            "\tIteration: 680\t Loss: 0.3289\n",
            "\tIteration: 720\t Loss: 0.3022\n",
            "\tIteration: 760\t Loss: 0.3316\n",
            "\tIteration: 800\t Loss: 0.3519\n",
            "\tIteration: 840\t Loss: 0.3568\n",
            "\tIteration: 880\t Loss: 0.3386\n",
            "\tIteration: 920\t Loss: 0.2876\n",
            "\tIteration: 960\t Loss: 0.2823\n",
            "\tIteration: 1000\t Loss: 0.3193\n",
            "\tIteration: 1040\t Loss: 0.3166\n",
            "\tIteration: 1080\t Loss: 0.2879\n",
            "\tIteration: 1120\t Loss: 0.3615\n",
            "\tIteration: 1160\t Loss: 0.3287\n",
            "\tIteration: 1200\t Loss: 0.3526\n",
            "\tIteration: 1240\t Loss: 0.2724\n",
            "\tIteration: 1280\t Loss: 0.3605\n",
            "\tIteration: 1320\t Loss: 0.3026\n",
            "\tIteration: 1360\t Loss: 0.3022\n",
            "\tIteration: 1400\t Loss: 0.3214\n",
            "\tIteration: 1440\t Loss: 0.3297\n",
            "\tIteration: 1480\t Loss: 0.3465\n",
            "\tIteration: 1520\t Loss: 0.2978\n",
            "\tIteration: 1560\t Loss: 0.2816\n",
            "\tIteration: 1600\t Loss: 0.3303\n",
            "\tIteration: 1640\t Loss: 0.3471\n",
            "\tIteration: 1680\t Loss: 0.2915\n",
            "\tIteration: 1720\t Loss: 0.2999\n",
            "\tIteration: 1760\t Loss: 0.3345\n",
            "\tIteration: 1800\t Loss: 0.3322\n",
            "\tIteration: 1840\t Loss: 0.3475\n",
            "\tIteration: 1880\t Loss: 0.4424\n",
            "\tIteration: 1920\t Loss: 0.2859\n",
            "\tIteration: 1960\t Loss: 0.3064\n",
            "\tIteration: 2000\t Loss: 0.3300\n",
            "\tIteration: 2040\t Loss: 0.3432\n",
            "\tIteration: 2080\t Loss: 0.3208\n",
            "\tIteration: 2120\t Loss: 0.2163\n",
            "\tIteration: 2160\t Loss: 0.2774\n",
            "\tIteration: 2200\t Loss: 0.2923\n",
            "\tIteration: 2240\t Loss: 0.3288\n",
            "\tIteration: 2280\t Loss: 0.2557\n",
            "\tIteration: 2320\t Loss: 0.3681\n",
            "\tIteration: 2360\t Loss: 0.3279\n",
            "\tIteration: 2400\t Loss: 0.3292\n",
            "\tIteration: 2440\t Loss: 0.2287\n",
            "\tIteration: 2480\t Loss: 0.2643\n",
            "\tIteration: 2520\t Loss: 0.3620\n",
            "\tIteration: 2560\t Loss: 0.3368\n",
            "\tIteration: 2600\t Loss: 0.3147\n",
            "\tIteration: 2640\t Loss: 0.3016\n",
            "\tIteration: 2680\t Loss: 0.2976\n",
            "\tIteration: 2720\t Loss: 0.2839\n",
            "\tIteration: 2760\t Loss: 0.2824\n",
            "\tIteration: 2800\t Loss: 0.2811\n",
            "\tIteration: 2840\t Loss: 0.3396\n",
            "\tIteration: 2880\t Loss: 0.2636\n",
            "\tIteration: 2920\t Loss: 0.3003\n",
            "\tIteration: 2960\t Loss: 0.2783\n",
            "\tIteration: 3000\t Loss: 0.3337\n",
            "\tIteration: 3040\t Loss: 0.2623\n",
            "\tIteration: 3080\t Loss: 0.2739\n",
            "\tIteration: 3120\t Loss: 0.3217\n",
            "\tIteration: 3160\t Loss: 0.2897\n",
            "\tIteration: 3200\t Loss: 0.2629\n",
            "\tIteration: 3240\t Loss: 0.3109\n",
            "\tIteration: 3280\t Loss: 0.2657\n",
            "\tIteration: 3320\t Loss: 0.2954\n",
            "\tIteration: 3360\t Loss: 0.3219\n",
            "\tIteration: 3400\t Loss: 0.3234\n",
            "\tIteration: 3440\t Loss: 0.3209\n",
            "\tIteration: 3480\t Loss: 0.3048\n",
            "\tIteration: 3520\t Loss: 0.2945\n",
            "\tIteration: 3560\t Loss: 0.2821\n",
            "\tIteration: 3600\t Loss: 0.2706\n",
            "\tIteration: 3640\t Loss: 0.2545\n",
            "\tIteration: 3680\t Loss: 0.2744\n",
            "\tIteration: 3720\t Loss: 0.3001\n"
          ],
          "name": "stdout"
        }
      ]
    },
    {
      "cell_type": "markdown",
      "metadata": {
        "id": "SseuAhReap15"
      },
      "source": [
        "With the network trained, we can check out it's predictions."
      ]
    },
    {
      "cell_type": "code",
      "metadata": {
        "ExecuteTime": {
          "end_time": "2021-05-26T22:30:00.206666Z",
          "start_time": "2021-05-26T22:29:59.954325Z"
        },
        "colab": {
          "base_uri": "https://localhost:8080/",
          "height": 212
        },
        "id": "MnbxoNslap16",
        "outputId": "d3c75004-d330-4d4d-ac0c-2426aed9e545"
      },
      "source": [
        "images, labels = next(iter(trainloader))\n",
        "\n",
        "img = images[0].view(1, 784)\n",
        "# Turn off gradients to speed up this part\n",
        "with torch.no_grad():\n",
        "    logits = model.forward(img)\n",
        "\n",
        "# Output of the network are logits, need to take softmax for probabilities\n",
        "ps = F.softmax(logits, dim=1)\n",
        "view_classify(img.view(1, 28, 28), ps)"
      ],
      "execution_count": 52,
      "outputs": [
        {
          "output_type": "display_data",
          "data": {
            "image/png": "[encoded data removed]",
            "text/plain": [
              "<Figure size 432x648 with 2 Axes>"
            ]
          },
          "metadata": {
            "tags": [],
            "image/png": {
              "width": 349,
              "height": 195
            },
            "needs_background": "light"
          }
        }
      ]
    },
    {
      "cell_type": "markdown",
      "metadata": {
        "id": "QNci7XU4ap17"
      },
      "source": [
        "Now our network is brilliant. It can accurately predict the digits in our images."
      ]
    },
    {
      "cell_type": "markdown",
      "metadata": {
        "id": "k885vZxRap18"
      },
      "source": [
        "<div style=\"background:#222222; color:#ffffff; padding:20px\">\n",
        "    <h2 align=\"center\" style=\"color:#01ff84\">EMNIST Classification: Exercise</h2>\n",
        "<div>"
      ]
    },
    {
      "cell_type": "markdown",
      "metadata": {
        "id": "J1yNxYnwap18"
      },
      "source": [
        "<div style=\"background:#222222; color:#ffffff; padding:20px\">\n",
        "  <h3 style=\"color:#01ff84; margin-top:4px\">Exercise 1:</h3>\n",
        "  <p>Now it's your turn to build a simple network, use any method I've covered so far. In the next notebook, you'll learn how to train a network so it can make good predictions.</p>\n",
        "  <p>Build a network to classify the MNIST images with 3 hidden layers. Use 16 units in the first hidden layer, 32 units in the second layer, and 8 units in the third layer. Each hidden layer should have a ReLU activation function, and use softmax on the output layer.</p>\n",
        "<div>"
      ]
    },
    {
      "cell_type": "code",
      "metadata": {
        "colab": {
          "base_uri": "https://localhost:8080/"
        },
        "id": "RmSTBPNmap19",
        "outputId": "c46b525f-27fc-49f5-f359-ee0f01fdd82c"
      },
      "source": [
        "## TODO: Your network here\n",
        "\n",
        "# Hyperparameters for our network\n",
        "input_size   = 784\n",
        "hidden_sizes = [16, 32, 8]\n",
        "output_size  = 10\n",
        "\n",
        "# Build a feed-forward network\n",
        "model = nn.Sequential(OrderedDict([\n",
        "          ('fc1', nn.Linear(input_size, hidden_sizes[0])),\n",
        "          ('relu1', nn.ReLU()),\n",
        "          ('fc2', nn.Linear(hidden_sizes[0], hidden_sizes[1])),\n",
        "          ('relu2', nn.ReLU()),\n",
        "          ('fc3', nn.Linear(hidden_sizes[1], hidden_sizes[2])),\n",
        "          ('relu2', nn.ReLU()),\n",
        "          ('output', nn.Linear(hidden_sizes[2], output_size)),\n",
        "          ('softmax', nn.Softmax(dim=1))]))\n",
        "\n",
        "model"
      ],
      "execution_count": 80,
      "outputs": [
        {
          "output_type": "execute_result",
          "data": {
            "text/plain": [
              "Sequential(\n",
              "  (fc1): Linear(in_features=784, out_features=16, bias=True)\n",
              "  (relu1): ReLU()\n",
              "  (fc2): Linear(in_features=16, out_features=32, bias=True)\n",
              "  (relu2): ReLU()\n",
              "  (fc3): Linear(in_features=32, out_features=8, bias=True)\n",
              "  (output): Linear(in_features=8, out_features=10, bias=True)\n",
              "  (softmax): Softmax(dim=1)\n",
              ")"
            ]
          },
          "metadata": {
            "tags": []
          },
          "execution_count": 80
        }
      ]
    },
    {
      "cell_type": "code",
      "metadata": {
        "colab": {
          "base_uri": "https://localhost:8080/",
          "height": 212
        },
        "id": "EmfUy4Hjap1-",
        "outputId": "da311284-75e3-4f3a-963e-6742103aea1d"
      },
      "source": [
        "# Run this cell with your model to make sure it works\n",
        "# Forward pass through the network and display output\n",
        "images, labels = next(iter(trainloader))\n",
        "\n",
        "images.resize_(images.shape[0], 1, 784)\n",
        "ps = model.forward(images[0,:]) \n",
        "\n",
        "view_classify(images[0].view(1, 28, 28), ps)"
      ],
      "execution_count": 81,
      "outputs": [
        {
          "output_type": "display_data",
          "data": {
            "image/png": "[encoded data removed]",
            "text/plain": [
              "<Figure size 432x648 with 2 Axes>"
            ]
          },
          "metadata": {
            "tags": [],
            "image/png": {
              "width": 349,
              "height": 195
            },
            "needs_background": "light"
          }
        }
      ]
    },
    {
      "cell_type": "markdown",
      "metadata": {
        "id": "D-82APvFap2A"
      },
      "source": [
        "<div style=\"background:#222222; color:#ffffff; padding:20px\">\n",
        "  <h3 style=\"color:#01ff84; margin-top:4px\">Exercise 2:</h3>\n",
        "  <p>Train your network implementing the Pytorch training loop and <strong style=\"color:#01ff84\">after each epoch, use the model for predicting the test (validation) MNIST data.</strong></p>\n",
        "  <p>Note: If your model does not fit with the final softmax layer, you can remove this layer.</p>\n",
        "  <p>Hint: <a href=\"https://discuss.pytorch.org/t/training-loop-checking-validation-accuracy/78399\">Training loop checking validation accuracy\n",
        "</a></p>\n",
        "  <p>Research about <code>model.train()</code>, <code>model.eval()</code> and <code>with torch.no_grad()</code> in Pytorch.\n",
        "<div>"
      ]
    },
    {
      "cell_type": "code",
      "metadata": {
        "colab": {
          "base_uri": "https://localhost:8080/"
        },
        "id": "w5zDyqIUap2A",
        "outputId": "0148ee75-5143-40a5-8eb7-60603011b29b"
      },
      "source": [
        "## TODO: Your training loop here\n",
        "\n",
        "criterion = nn.CrossEntropyLoss()\n",
        "optimizer = optim.SGD(model.parameters(), lr=0.03)\n",
        "\n",
        "epochs = 3\n",
        "print_every = 40\n",
        "\n",
        "for e in range(epochs):\n",
        "\n",
        "    running_loss = 0\n",
        "\n",
        "    print(f\"Epoch: {e+1}/{epochs}\")\n",
        "\n",
        "    for i, (images, labels) in enumerate(iter(trainloader)):\n",
        "\n",
        "        # Flatten MNIST images into a 784 long vector\n",
        "        images.resize_(images.size()[0],  784)\n",
        "        \n",
        "        optimizer.zero_grad()\n",
        "        \n",
        "        #model.train()\n",
        "\n",
        "        output = model.forward(images)   # 1) Forward pass\n",
        "        loss = criterion(output, labels) # 2) Compute loss\n",
        "        loss.backward()                  # 3) Backward pass\n",
        "        optimizer.step()                 # 4) Update model\n",
        "        \n",
        "        running_loss += loss.item()\n",
        "        \n",
        "        if i % print_every == 0:\n",
        "            print(f\"\\tIteration: {i}\\t Loss: {running_loss/print_every:.4f}\")\n",
        "            running_loss = 0 \n",
        "\n",
        "    correct = 0\n",
        "    total = 0\n",
        "    # since we're not training, we don't need to calculate the gradients for our outputs\n",
        "    with torch.no_grad():\n",
        "        for i, (images, labels) in enumerate(iter(testloader)):\n",
        "            #images, labels = data\n",
        "            # calculate outputs by running images through the network\n",
        "            images.resize_(images.size()[0],  784)\n",
        "            outputs = model(images)\n",
        "            # the class with the highest energy is what we choose as prediction\n",
        "            _, predicted = torch.max(outputs.data, 1)\n",
        "            total += labels.size(0)\n",
        "            correct += (predicted == labels).sum().item()\n",
        "\n",
        "    print('Accuracy of the network on the 10000 test images: %d %%' % (\n",
        "        100 * correct / total))"
      ],
      "execution_count": 97,
      "outputs": [
        {
          "output_type": "stream",
          "text": [
            "Epoch: 1/3\n",
            "\tIteration: 0\t Loss: 0.0412\n",
            "\tIteration: 40\t Loss: 1.6326\n",
            "\tIteration: 80\t Loss: 1.6116\n",
            "\tIteration: 120\t Loss: 1.6280\n",
            "\tIteration: 160\t Loss: 1.5948\n",
            "\tIteration: 200\t Loss: 1.6632\n",
            "\tIteration: 240\t Loss: 1.6280\n",
            "\tIteration: 280\t Loss: 1.6577\n",
            "\tIteration: 320\t Loss: 1.6022\n",
            "\tIteration: 360\t Loss: 1.6311\n",
            "\tIteration: 400\t Loss: 1.6209\n",
            "\tIteration: 440\t Loss: 1.6149\n",
            "\tIteration: 480\t Loss: 1.6168\n",
            "\tIteration: 520\t Loss: 1.6117\n",
            "\tIteration: 560\t Loss: 1.6407\n",
            "\tIteration: 600\t Loss: 1.6232\n",
            "\tIteration: 640\t Loss: 1.6197\n",
            "\tIteration: 680\t Loss: 1.6410\n",
            "\tIteration: 720\t Loss: 1.6288\n",
            "\tIteration: 760\t Loss: 1.5975\n",
            "\tIteration: 800\t Loss: 1.6090\n",
            "\tIteration: 840\t Loss: 1.6557\n",
            "\tIteration: 880\t Loss: 1.6228\n",
            "\tIteration: 920\t Loss: 1.6191\n",
            "\tIteration: 960\t Loss: 1.6345\n",
            "\tIteration: 1000\t Loss: 1.5892\n",
            "\tIteration: 1040\t Loss: 1.6387\n",
            "\tIteration: 1080\t Loss: 1.5977\n",
            "\tIteration: 1120\t Loss: 1.6301\n",
            "\tIteration: 1160\t Loss: 1.6277\n",
            "\tIteration: 1200\t Loss: 1.6403\n",
            "\tIteration: 1240\t Loss: 1.6204\n",
            "\tIteration: 1280\t Loss: 1.6399\n",
            "\tIteration: 1320\t Loss: 1.6274\n",
            "\tIteration: 1360\t Loss: 1.6090\n",
            "\tIteration: 1400\t Loss: 1.6040\n",
            "\tIteration: 1440\t Loss: 1.6032\n",
            "\tIteration: 1480\t Loss: 1.6230\n",
            "\tIteration: 1520\t Loss: 1.5836\n",
            "\tIteration: 1560\t Loss: 1.6151\n",
            "\tIteration: 1600\t Loss: 1.6362\n",
            "\tIteration: 1640\t Loss: 1.6258\n",
            "\tIteration: 1680\t Loss: 1.6082\n",
            "\tIteration: 1720\t Loss: 1.5970\n",
            "\tIteration: 1760\t Loss: 1.6168\n",
            "\tIteration: 1800\t Loss: 1.6195\n",
            "\tIteration: 1840\t Loss: 1.6014\n",
            "\tIteration: 1880\t Loss: 1.6218\n",
            "\tIteration: 1920\t Loss: 1.6113\n",
            "\tIteration: 1960\t Loss: 1.6364\n",
            "\tIteration: 2000\t Loss: 1.6177\n",
            "\tIteration: 2040\t Loss: 1.6087\n",
            "\tIteration: 2080\t Loss: 1.6401\n",
            "\tIteration: 2120\t Loss: 1.6097\n",
            "\tIteration: 2160\t Loss: 1.6109\n",
            "\tIteration: 2200\t Loss: 1.6132\n",
            "\tIteration: 2240\t Loss: 1.6097\n",
            "\tIteration: 2280\t Loss: 1.6337\n",
            "\tIteration: 2320\t Loss: 1.6207\n",
            "\tIteration: 2360\t Loss: 1.6248\n",
            "\tIteration: 2400\t Loss: 1.6264\n",
            "\tIteration: 2440\t Loss: 1.6160\n",
            "\tIteration: 2480\t Loss: 1.6181\n",
            "\tIteration: 2520\t Loss: 1.6472\n",
            "\tIteration: 2560\t Loss: 1.6051\n",
            "\tIteration: 2600\t Loss: 1.6212\n",
            "\tIteration: 2640\t Loss: 1.6343\n",
            "\tIteration: 2680\t Loss: 1.6377\n",
            "\tIteration: 2720\t Loss: 1.6130\n",
            "\tIteration: 2760\t Loss: 1.6188\n",
            "\tIteration: 2800\t Loss: 1.5832\n",
            "\tIteration: 2840\t Loss: 1.6791\n",
            "\tIteration: 2880\t Loss: 1.6204\n",
            "\tIteration: 2920\t Loss: 1.6098\n",
            "\tIteration: 2960\t Loss: 1.6293\n",
            "\tIteration: 3000\t Loss: 1.6370\n",
            "\tIteration: 3040\t Loss: 1.6346\n",
            "\tIteration: 3080\t Loss: 1.6247\n",
            "\tIteration: 3120\t Loss: 1.5858\n",
            "\tIteration: 3160\t Loss: 1.6327\n",
            "\tIteration: 3200\t Loss: 1.6005\n",
            "\tIteration: 3240\t Loss: 1.6272\n",
            "\tIteration: 3280\t Loss: 1.6269\n",
            "\tIteration: 3320\t Loss: 1.5985\n",
            "\tIteration: 3360\t Loss: 1.6338\n",
            "\tIteration: 3400\t Loss: 1.6136\n",
            "\tIteration: 3440\t Loss: 1.6324\n",
            "\tIteration: 3480\t Loss: 1.6210\n",
            "\tIteration: 3520\t Loss: 1.6153\n",
            "\tIteration: 3560\t Loss: 1.6227\n",
            "\tIteration: 3600\t Loss: 1.6230\n",
            "\tIteration: 3640\t Loss: 1.6245\n",
            "\tIteration: 3680\t Loss: 1.6345\n",
            "\tIteration: 3720\t Loss: 1.6350\n",
            "Accuracy of the network on the 10000 test images: 83 %\n",
            "Epoch: 2/3\n",
            "\tIteration: 0\t Loss: 0.0412\n",
            "\tIteration: 40\t Loss: 1.6318\n",
            "\tIteration: 80\t Loss: 1.6227\n",
            "\tIteration: 120\t Loss: 1.6315\n",
            "\tIteration: 160\t Loss: 1.6139\n",
            "\tIteration: 200\t Loss: 1.6169\n",
            "\tIteration: 240\t Loss: 1.5867\n",
            "\tIteration: 280\t Loss: 1.6332\n",
            "\tIteration: 320\t Loss: 1.6302\n",
            "\tIteration: 360\t Loss: 1.6102\n",
            "\tIteration: 400\t Loss: 1.6312\n",
            "\tIteration: 440\t Loss: 1.6082\n",
            "\tIteration: 480\t Loss: 1.6050\n",
            "\tIteration: 520\t Loss: 1.6284\n",
            "\tIteration: 560\t Loss: 1.6175\n",
            "\tIteration: 600\t Loss: 1.6178\n",
            "\tIteration: 640\t Loss: 1.6032\n",
            "\tIteration: 680\t Loss: 1.6032\n",
            "\tIteration: 720\t Loss: 1.6193\n",
            "\tIteration: 760\t Loss: 1.6238\n",
            "\tIteration: 800\t Loss: 1.6279\n",
            "\tIteration: 840\t Loss: 1.6095\n",
            "\tIteration: 880\t Loss: 1.5947\n",
            "\tIteration: 920\t Loss: 1.6222\n",
            "\tIteration: 960\t Loss: 1.6181\n",
            "\tIteration: 1000\t Loss: 1.6375\n",
            "\tIteration: 1040\t Loss: 1.6263\n",
            "\tIteration: 1080\t Loss: 1.6249\n",
            "\tIteration: 1120\t Loss: 1.6196\n",
            "\tIteration: 1160\t Loss: 1.6155\n",
            "\tIteration: 1200\t Loss: 1.6261\n",
            "\tIteration: 1240\t Loss: 1.6155\n",
            "\tIteration: 1280\t Loss: 1.6263\n",
            "\tIteration: 1320\t Loss: 1.6343\n",
            "\tIteration: 1360\t Loss: 1.6291\n",
            "\tIteration: 1400\t Loss: 1.6215\n",
            "\tIteration: 1440\t Loss: 1.6245\n",
            "\tIteration: 1480\t Loss: 1.6206\n",
            "\tIteration: 1520\t Loss: 1.6031\n",
            "\tIteration: 1560\t Loss: 1.6307\n",
            "\tIteration: 1600\t Loss: 1.6091\n",
            "\tIteration: 1640\t Loss: 1.5969\n",
            "\tIteration: 1680\t Loss: 1.6168\n",
            "\tIteration: 1720\t Loss: 1.6065\n",
            "\tIteration: 1760\t Loss: 1.6067\n",
            "\tIteration: 1800\t Loss: 1.5912\n",
            "\tIteration: 1840\t Loss: 1.6206\n",
            "\tIteration: 1880\t Loss: 1.6495\n",
            "\tIteration: 1920\t Loss: 1.6331\n",
            "\tIteration: 1960\t Loss: 1.5996\n",
            "\tIteration: 2000\t Loss: 1.6333\n",
            "\tIteration: 2040\t Loss: 1.6131\n",
            "\tIteration: 2080\t Loss: 1.6078\n",
            "\tIteration: 2120\t Loss: 1.6346\n",
            "\tIteration: 2160\t Loss: 1.6037\n",
            "\tIteration: 2200\t Loss: 1.6044\n",
            "\tIteration: 2240\t Loss: 1.6109\n",
            "\tIteration: 2280\t Loss: 1.6259\n",
            "\tIteration: 2320\t Loss: 1.5842\n",
            "\tIteration: 2360\t Loss: 1.6398\n",
            "\tIteration: 2400\t Loss: 1.6277\n",
            "\tIteration: 2440\t Loss: 1.6080\n",
            "\tIteration: 2480\t Loss: 1.6010\n",
            "\tIteration: 2520\t Loss: 1.6162\n",
            "\tIteration: 2560\t Loss: 1.6171\n",
            "\tIteration: 2600\t Loss: 1.6144\n",
            "\tIteration: 2640\t Loss: 1.5958\n",
            "\tIteration: 2680\t Loss: 1.6290\n",
            "\tIteration: 2720\t Loss: 1.6181\n",
            "\tIteration: 2760\t Loss: 1.6141\n",
            "\tIteration: 2800\t Loss: 1.6060\n",
            "\tIteration: 2840\t Loss: 1.6089\n",
            "\tIteration: 2880\t Loss: 1.6285\n",
            "\tIteration: 2920\t Loss: 1.6072\n",
            "\tIteration: 2960\t Loss: 1.6268\n",
            "\tIteration: 3000\t Loss: 1.6072\n",
            "\tIteration: 3040\t Loss: 1.6195\n",
            "\tIteration: 3080\t Loss: 1.6099\n",
            "\tIteration: 3120\t Loss: 1.6184\n",
            "\tIteration: 3160\t Loss: 1.6285\n",
            "\tIteration: 3200\t Loss: 1.6284\n",
            "\tIteration: 3240\t Loss: 1.6212\n",
            "\tIteration: 3280\t Loss: 1.6249\n",
            "\tIteration: 3320\t Loss: 1.6426\n",
            "\tIteration: 3360\t Loss: 1.5988\n",
            "\tIteration: 3400\t Loss: 1.6127\n",
            "\tIteration: 3440\t Loss: 1.6084\n",
            "\tIteration: 3480\t Loss: 1.6100\n",
            "\tIteration: 3520\t Loss: 1.6077\n",
            "\tIteration: 3560\t Loss: 1.6143\n",
            "\tIteration: 3600\t Loss: 1.6188\n",
            "\tIteration: 3640\t Loss: 1.6396\n",
            "\tIteration: 3680\t Loss: 1.6194\n",
            "\tIteration: 3720\t Loss: 1.6052\n",
            "Accuracy of the network on the 10000 test images: 84 %\n",
            "Epoch: 3/3\n",
            "\tIteration: 0\t Loss: 0.0396\n",
            "\tIteration: 40\t Loss: 1.6281\n",
            "\tIteration: 80\t Loss: 1.6214\n",
            "\tIteration: 120\t Loss: 1.6131\n",
            "\tIteration: 160\t Loss: 1.6145\n",
            "\tIteration: 200\t Loss: 1.6105\n",
            "\tIteration: 240\t Loss: 1.6169\n",
            "\tIteration: 280\t Loss: 1.6089\n",
            "\tIteration: 320\t Loss: 1.6022\n",
            "\tIteration: 360\t Loss: 1.5895\n",
            "\tIteration: 400\t Loss: 1.6123\n",
            "\tIteration: 440\t Loss: 1.6203\n",
            "\tIteration: 480\t Loss: 1.6153\n",
            "\tIteration: 520\t Loss: 1.6387\n",
            "\tIteration: 560\t Loss: 1.6275\n",
            "\tIteration: 600\t Loss: 1.6217\n",
            "\tIteration: 640\t Loss: 1.5969\n",
            "\tIteration: 680\t Loss: 1.5885\n",
            "\tIteration: 720\t Loss: 1.6104\n",
            "\tIteration: 760\t Loss: 1.6108\n",
            "\tIteration: 800\t Loss: 1.6383\n",
            "\tIteration: 840\t Loss: 1.6078\n",
            "\tIteration: 880\t Loss: 1.6124\n",
            "\tIteration: 920\t Loss: 1.6141\n",
            "\tIteration: 960\t Loss: 1.6197\n",
            "\tIteration: 1000\t Loss: 1.6099\n",
            "\tIteration: 1040\t Loss: 1.6277\n",
            "\tIteration: 1080\t Loss: 1.6222\n",
            "\tIteration: 1120\t Loss: 1.5931\n",
            "\tIteration: 1160\t Loss: 1.6276\n",
            "\tIteration: 1200\t Loss: 1.6149\n",
            "\tIteration: 1240\t Loss: 1.5976\n",
            "\tIteration: 1280\t Loss: 1.6184\n",
            "\tIteration: 1320\t Loss: 1.6197\n",
            "\tIteration: 1360\t Loss: 1.6218\n",
            "\tIteration: 1400\t Loss: 1.6077\n",
            "\tIteration: 1440\t Loss: 1.6093\n",
            "\tIteration: 1480\t Loss: 1.6063\n",
            "\tIteration: 1520\t Loss: 1.6263\n",
            "\tIteration: 1560\t Loss: 1.6193\n",
            "\tIteration: 1600\t Loss: 1.6247\n",
            "\tIteration: 1640\t Loss: 1.6206\n",
            "\tIteration: 1680\t Loss: 1.6029\n",
            "\tIteration: 1720\t Loss: 1.6023\n",
            "\tIteration: 1760\t Loss: 1.6385\n",
            "\tIteration: 1800\t Loss: 1.6111\n",
            "\tIteration: 1840\t Loss: 1.6445\n",
            "\tIteration: 1880\t Loss: 1.6014\n",
            "\tIteration: 1920\t Loss: 1.6181\n",
            "\tIteration: 1960\t Loss: 1.6294\n",
            "\tIteration: 2000\t Loss: 1.5903\n",
            "\tIteration: 2040\t Loss: 1.6123\n",
            "\tIteration: 2080\t Loss: 1.6175\n",
            "\tIteration: 2120\t Loss: 1.6191\n",
            "\tIteration: 2160\t Loss: 1.6084\n",
            "\tIteration: 2200\t Loss: 1.6133\n",
            "\tIteration: 2240\t Loss: 1.6112\n",
            "\tIteration: 2280\t Loss: 1.6338\n",
            "\tIteration: 2320\t Loss: 1.6196\n",
            "\tIteration: 2360\t Loss: 1.6144\n",
            "\tIteration: 2400\t Loss: 1.6330\n",
            "\tIteration: 2440\t Loss: 1.6167\n",
            "\tIteration: 2480\t Loss: 1.6161\n",
            "\tIteration: 2520\t Loss: 1.6197\n",
            "\tIteration: 2560\t Loss: 1.6128\n",
            "\tIteration: 2600\t Loss: 1.6292\n",
            "\tIteration: 2640\t Loss: 1.6083\n",
            "\tIteration: 2680\t Loss: 1.6178\n",
            "\tIteration: 2720\t Loss: 1.6037\n",
            "\tIteration: 2760\t Loss: 1.6253\n",
            "\tIteration: 2800\t Loss: 1.5941\n",
            "\tIteration: 2840\t Loss: 1.6032\n",
            "\tIteration: 2880\t Loss: 1.6190\n",
            "\tIteration: 2920\t Loss: 1.6234\n",
            "\tIteration: 2960\t Loss: 1.6005\n",
            "\tIteration: 3000\t Loss: 1.5949\n",
            "\tIteration: 3040\t Loss: 1.5808\n",
            "\tIteration: 3080\t Loss: 1.6070\n",
            "\tIteration: 3120\t Loss: 1.6262\n",
            "\tIteration: 3160\t Loss: 1.6105\n",
            "\tIteration: 3200\t Loss: 1.6039\n",
            "\tIteration: 3240\t Loss: 1.6024\n",
            "\tIteration: 3280\t Loss: 1.6086\n",
            "\tIteration: 3320\t Loss: 1.5958\n",
            "\tIteration: 3360\t Loss: 1.6116\n",
            "\tIteration: 3400\t Loss: 1.6185\n",
            "\tIteration: 3440\t Loss: 1.6076\n",
            "\tIteration: 3480\t Loss: 1.6051\n",
            "\tIteration: 3520\t Loss: 1.6122\n",
            "\tIteration: 3560\t Loss: 1.6033\n",
            "\tIteration: 3600\t Loss: 1.6206\n",
            "\tIteration: 3640\t Loss: 1.6059\n",
            "\tIteration: 3680\t Loss: 1.6112\n",
            "\tIteration: 3720\t Loss: 1.6207\n",
            "Accuracy of the network on the 10000 test images: 84 %\n"
          ],
          "name": "stdout"
        }
      ]
    },
    {
      "cell_type": "code",
      "metadata": {
        "colab": {
          "base_uri": "https://localhost:8080/"
        },
        "id": "8wbg1CE6Yk9j",
        "outputId": "88407601-1b06-4878-e18c-681b6b0408fc"
      },
      "source": [
        "#print(predicted)\n",
        "#print(outputs.data)\n",
        "torch.max(outputs.data, 1)"
      ],
      "execution_count": 93,
      "outputs": [
        {
          "output_type": "execute_result",
          "data": {
            "text/plain": [
              "torch.return_types.max(values=tensor([1.0000, 1.0000, 1.0000, 1.0000, 0.7946, 1.0000, 0.9999, 0.9986, 1.0000,\n",
              "        1.0000, 1.0000, 1.0000, 1.0000, 1.0000, 0.9998, 0.9990]), indices=tensor([0, 1, 7, 3, 6, 5, 1, 4, 3, 3, 0, 4, 0, 1, 7, 5]))"
            ]
          },
          "metadata": {
            "tags": []
          },
          "execution_count": 93
        }
      ]
    },
    {
      "cell_type": "code",
      "metadata": {
        "colab": {
          "base_uri": "https://localhost:8080/",
          "height": 212
        },
        "id": "6u_00pWDap2B",
        "outputId": "b292154c-d8a4-4b39-94c2-135f029fa19b"
      },
      "source": [
        "# Run this cell with your model to make sure it works and predicts well for the validation data\n",
        "images, labels = next(iter(testloader))\n",
        "images.resize_(images.shape[0], 1, 784)\n",
        "ps = model.forward(images[0,:])\n",
        "view_classify(images[0].view(1, 28, 28), ps)"
      ],
      "execution_count": 95,
      "outputs": [
        {
          "output_type": "display_data",
          "data": {
            "image/png": "[encoded data removed]",
            "text/plain": [
              "<Figure size 432x648 with 2 Axes>"
            ]
          },
          "metadata": {
            "tags": [],
            "image/png": {
              "width": 349,
              "height": 195
            },
            "needs_background": "light"
          }
        }
      ]
    },
    {
      "cell_type": "markdown",
      "metadata": {
        "id": "CDK80F-Wap2C"
      },
      "source": [
        "<div style=\"background:#222222; color:#ffffff; padding:20px\">\n",
        "  <h3 style=\"color:#01ff84; margin-top:4px\">Exercise 3:</h3>\n",
        "  <p>Write the code for adding <strong style=\"color:#01ff84\">Early Stopping with patience = 2</strong> to the training loop from scratch.</p>\n",
        "  <p><strong style=\"color:#01ff84\">Hint:</strong> Monitor the Validation loss every epoch, and if in 2 epochs, the validation loss does not improve, stop the training loop with <code>break</code>.</p>\n",
        "<div>"
      ]
    },
    {
      "cell_type": "code",
      "metadata": {
        "id": "GDY4cB4hap2D"
      },
      "source": [
        "## TODO: Your training loop here"
      ],
      "execution_count": null,
      "outputs": []
    },
    {
      "cell_type": "markdown",
      "metadata": {
        "id": "6dPDGtVBap2E"
      },
      "source": [
        "<div style=\"background:#222222; color:#ffffff; padding:20px\">\n",
        "  <h3 style=\"color:#01ff84; margin-top:4px\">Optional:</h3>\n",
        "  <p>Don't you want to use MNIST? Try EMNIST instead! Maybe using the first 10 letters of the alphabet!</p>\n"
      ]
    },
    {
      "cell_type": "code",
      "metadata": {
        "ExecuteTime": {
          "end_time": "2021-05-26T22:35:26.981584Z",
          "start_time": "2021-05-26T22:35:26.954522Z"
        },
        "id": "vkSpz363ap2F"
      },
      "source": [
        "# we will need a custom visualization function\n",
        "def view_classify_emnist(img, ps):\n",
        "\n",
        "    ps = ps.data.numpy().squeeze()\n",
        "\n",
        "    fig, (ax1, ax2) = plt.subplots(figsize=(6,9), ncols=2)\n",
        "    ax1.imshow(img.resize_(1, 28, 28).numpy().squeeze())\n",
        "    ax1.axis('off')\n",
        "    ax2.barh(list(\"abcdefghij\"), ps)\n",
        "    ax2.set_aspect(0.1)\n",
        "    ax2.set_yticks(np.arange(10))\n",
        "    ax2.set_yticklabels(np.arange(10))\n",
        "    ax2.set_title('Class Probability')\n",
        "    ax2.set_xlim(0, 1.1)"
      ],
      "execution_count": null,
      "outputs": []
    },
    {
      "cell_type": "code",
      "metadata": {
        "ExecuteTime": {
          "end_time": "2021-05-26T22:50:57.571260Z",
          "start_time": "2021-05-26T22:50:57.322172Z"
        },
        "id": "Jrpsb-isap2F"
      },
      "source": [
        "# Define a transform to normalize the data (Preprocessing)\n",
        "transform = transforms.Compose([transforms.ToTensor(), transforms.Normalize((0.5), (0.5)) ])\n",
        "def my_collate(batch):\n",
        "    modified_batch = []\n",
        "    for item in batch:\n",
        "        image, label = item\n",
        "        if label < 10: # only the first ten letters\n",
        "            modified_batch.append(item)\n",
        "    return torch.utils.data._utils.collate.default_collate(modified_batch)\n",
        "\n",
        "\n",
        "# Download and load the training data\n",
        "trainset    = datasets.EMNIST('EMNIST_data/', split=\"letters\", download=True, train=True, transform=transform)\n",
        "trainloader = torch.utils.data.DataLoader(trainset, batch_size=16, shuffle=True, collate_fn=my_collate)\n",
        "\n",
        "# Download and load the test data\n",
        "testset    = datasets.EMNIST('EMNIST_data/', split=\"letters\", download=True, train=False, transform=transform)\n",
        "testloader = torch.utils.data.DataLoader(testset, batch_size=16, shuffle=True, collate_fn=my_collate)"
      ],
      "execution_count": null,
      "outputs": []
    },
    {
      "cell_type": "code",
      "metadata": {
        "ExecuteTime": {
          "end_time": "2021-05-26T22:51:02.493175Z",
          "start_time": "2021-05-26T22:51:02.464301Z"
        },
        "id": "p0ob7AyPap2G"
      },
      "source": [
        "dataiter = iter(trainloader)\n",
        "images, labels = dataiter.next()"
      ],
      "execution_count": null,
      "outputs": []
    },
    {
      "cell_type": "code",
      "metadata": {
        "ExecuteTime": {
          "end_time": "2021-05-26T22:51:03.118421Z",
          "start_time": "2021-05-26T22:51:02.978678Z"
        },
        "id": "684lJRsIap2H",
        "outputId": "b33e3019-60c0-4ddf-e02e-7277efe6cd30"
      },
      "source": [
        "plt.imshow(images[5].numpy().squeeze(), cmap='Greys_r');"
      ],
      "execution_count": null,
      "outputs": [
        {
          "output_type": "display_data",
          "data": {
            "image/png": "[encoded data removed]",
            "text/plain": [
              "<Figure size 432x288 with 1 Axes>"
            ]
          },
          "metadata": {
            "tags": [],
            "image/png": {
              "height": 248,
              "width": 251
            },
            "needs_background": "light"
          }
        }
      ]
    },
    {
      "cell_type": "code",
      "metadata": {
        "ExecuteTime": {
          "end_time": "2021-05-26T22:51:06.653639Z",
          "start_time": "2021-05-26T22:51:06.647991Z"
        },
        "id": "QEKYt9xpap2I",
        "outputId": "1fcf2efa-c6ce-47aa-83c9-7ba71f80dbbb"
      },
      "source": [
        "labels"
      ],
      "execution_count": null,
      "outputs": [
        {
          "output_type": "execute_result",
          "data": {
            "text/plain": [
              "tensor([1, 9, 6, 7, 5, 1, 9, 3])"
            ]
          },
          "metadata": {
            "tags": []
          },
          "execution_count": 53
        }
      ]
    },
    {
      "cell_type": "code",
      "metadata": {
        "id": "UzLa9sz9ap2J"
      },
      "source": [
        ""
      ],
      "execution_count": null,
      "outputs": []
    }
  ]
}