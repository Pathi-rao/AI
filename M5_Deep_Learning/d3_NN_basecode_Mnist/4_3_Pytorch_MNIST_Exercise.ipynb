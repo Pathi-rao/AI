{
  "nbformat": 4,
  "nbformat_minor": 0,
  "metadata": {
    "kernelspec": {
      "display_name": "Python 3",
      "language": "python",
      "name": "python3"
    },
    "language_info": {
      "codemirror_mode": {
        "name": "ipython",
        "version": 3
      },
      "file_extension": ".py",
      "mimetype": "text/x-python",
      "name": "python",
      "nbconvert_exporter": "python",
      "pygments_lexer": "ipython3",
      "version": "3.8.10"
    },
    "varInspector": {
      "cols": {
        "lenName": 16,
        "lenType": 16,
        "lenVar": 40
      },
      "kernels_config": {
        "python": {
          "delete_cmd_postfix": "",
          "delete_cmd_prefix": "del ",
          "library": "var_list.py",
          "varRefreshCmd": "print(var_dic_list())"
        },
        "r": {
          "delete_cmd_postfix": ") ",
          "delete_cmd_prefix": "rm(",
          "library": "var_list.r",
          "varRefreshCmd": "cat(var_dic_list()) "
        }
      },
      "types_to_exclude": [
        "module",
        "function",
        "builtin_function_or_method",
        "instance",
        "_Feature"
      ],
      "window_display": false
    },
    "colab": {
      "name": "4.3 Pytorch MNIST - Exercise.ipynb",
      "provenance": [],
      "collapsed_sections": []
    }
  },
  "cells": [
    {
      "cell_type": "markdown",
      "metadata": {
        "id": "aLfgh8zGap0Q"
      },
      "source": [
        "<div style=\"background:#222222; color:#ffffff; padding:20px\">\n",
        "    <h2 align=\"center\">Deep Learning Fundamentals</h2>\n",
        "    <h2 align=\"center\" style=\"color:#01ff84\">Multiclass Classification: MNIST</h2>\n",
        "<div>"
      ]
    },
    {
      "cell_type": "markdown",
      "metadata": {
        "id": "RVwvCN_2ap0g"
      },
      "source": [
        "## Imports"
      ]
    },
    {
      "cell_type": "code",
      "metadata": {
        "ExecuteTime": {
          "end_time": "2021-05-27T10:10:28.828826Z",
          "start_time": "2021-05-27T10:10:28.727896Z"
        },
        "colab": {
          "base_uri": "https://localhost:8080/"
        },
        "id": "lPJOpWceap0j",
        "outputId": "16fd3875-d54c-4308-94cf-ce0a77dcaef0"
      },
      "source": [
        "%matplotlib inline\n",
        "%config InlineBackend.figure_format = 'retina'\n",
        "\n",
        "from collections import OrderedDict\n",
        "\n",
        "import numpy as np\n",
        "import matplotlib.pyplot as plt\n",
        "import time\n",
        "\n",
        "import torch\n",
        "from torch import nn\n",
        "from torch import optim\n",
        "import torch.nn.functional as F\n",
        "\n",
        "from torchvision import datasets, transforms\n",
        "\n",
        "print('setup complete')"
      ],
      "execution_count": 1,
      "outputs": [
        {
          "output_type": "stream",
          "text": [
            "setup complete\n"
          ],
          "name": "stdout"
        }
      ]
    },
    {
      "cell_type": "markdown",
      "metadata": {
        "id": "8VIYQD2kap0n"
      },
      "source": [
        "## Auxliary plotting function"
      ]
    },
    {
      "cell_type": "code",
      "metadata": {
        "ExecuteTime": {
          "end_time": "2021-05-27T10:15:56.618301Z",
          "start_time": "2021-05-27T10:15:56.603174Z"
        },
        "id": "wKotty_lap0o"
      },
      "source": [
        "# https://discuss.pytorch.org/t/view-classify-in-module-helper/30279/6\n",
        "\n",
        "def view_classify(img, ps):\n",
        "\n",
        "    ps = ps.data.numpy().squeeze()\n",
        "\n",
        "    fig, (ax1, ax2) = plt.subplots(figsize=(6,9), ncols=2)\n",
        "    ax1.imshow(img.resize_(1, 28, 28).numpy().squeeze())\n",
        "    ax1.axis('off')\n",
        "    ax2.barh(np.arange(10), ps)\n",
        "    ax2.set_aspect(0.1)\n",
        "    ax2.set_yticks(np.arange(10))\n",
        "    ax2.set_yticklabels(np.arange(10))\n",
        "    ax2.set_title('Class Probability')\n",
        "    ax2.set_xlim(0, 1.1)"
      ],
      "execution_count": 2,
      "outputs": []
    },
    {
      "cell_type": "markdown",
      "metadata": {
        "id": "GpoUrJ99ap0q"
      },
      "source": [
        "# Load MNIST Dataset\n",
        "First up, we need to get our dataset. This is provided through the `torchvision` package. The code below will download the MNIST dataset, then create training and test datasets for us. Don't worry too much about the details here, you'll learn more about this later."
      ]
    },
    {
      "cell_type": "code",
      "metadata": {
        "ExecuteTime": {
          "end_time": "2021-05-27T10:34:08.957222Z",
          "start_time": "2021-05-27T10:28:18.480507Z"
        },
        "id": "KHf7W6iSap0s"
      },
      "source": [
        "# Define a transform to normalize the data (Preprocessing)\n",
        "transform = transforms.Compose([transforms.ToTensor(), transforms.Normalize((0.5), (0.5)) ])\n",
        "\n",
        "# Download and load the training data\n",
        "trainset    = datasets.MNIST('data/', download=True, train=True, transform=transform)\n",
        "trainloader = torch.utils.data.DataLoader(trainset, batch_size=16, shuffle=True)\n",
        "\n",
        "# Download and load the test data\n",
        "testset    = datasets.MNIST('data/', download=True, train=False, transform=transform)\n",
        "testloader = torch.utils.data.DataLoader(testset, batch_size=16, shuffle=True)"
      ],
      "execution_count": 3,
      "outputs": []
    },
    {
      "cell_type": "code",
      "metadata": {
        "ExecuteTime": {
          "end_time": "2021-05-27T10:39:10.144997Z",
          "start_time": "2021-05-27T10:39:10.084253Z"
        },
        "id": "-du6VosXap0y"
      },
      "source": [
        "dataiter = iter(trainloader) #does this line make the images as iterable?\n",
        "#print(trainloader)\n",
        "#print(dataiter)\n",
        "images, labels = dataiter.next()\n",
        "#print(images)\n",
        "#print(labels)"
      ],
      "execution_count": 4,
      "outputs": []
    },
    {
      "cell_type": "markdown",
      "metadata": {
        "id": "yqxjvBg8ap00"
      },
      "source": [
        "We have the training data loaded into `trainloader` and we make that an iterator with `iter(trainloader)`. We'd use this to loop through the dataset for training, but here I'm just grabbing the first batch so we can check out the data. We can see below that `images` is just a tensor with size (64, 1, 28, 28). So, 64 images per batch, 1 color channel, and 28x28 images."
      ]
    },
    {
      "cell_type": "code",
      "metadata": {
        "ExecuteTime": {
          "end_time": "2021-05-26T22:26:39.407000Z",
          "start_time": "2021-05-26T22:26:39.265256Z"
        },
        "colab": {
          "base_uri": "https://localhost:8080/",
          "height": 265
        },
        "id": "dL_7m7Ipap02",
        "outputId": "b647c328-36c2-4392-91f9-05cb29fad98a"
      },
      "source": [
        "plt.imshow(images[1].numpy().squeeze(), cmap='Greys_r'); #squeeze removes the 1"
      ],
      "execution_count": 5,
      "outputs": [
        {
          "output_type": "display_data",
          "data": {
            "image/png": "[encoded data removed]",
            "text/plain": [
              "<Figure size 432x288 with 1 Axes>"
            ]
          },
          "metadata": {
            "tags": [],
            "image/png": {
              "width": 251,
              "height": 248
            },
            "needs_background": "light"
          }
        }
      ]
    },
    {
      "cell_type": "markdown",
      "metadata": {
        "id": "OvpNeNCqap04"
      },
      "source": [
        "## Building networks with PyTorch\n",
        "\n",
        "Here I'll use PyTorch to build a simple feedfoward network to classify the MNIST images. That is, the network will receive a digit image as input and predict the digit in the image.\n",
        "\n",
        "<img src=\"assets/mlp_mnist.png\" width=600px>\n",
        "\n",
        "To build a neural network with PyTorch, you use the `torch.nn` module. The network itself is a class inheriting from `torch.nn.Module`. You define each of the operations separately, like `nn.Linear(784, 128)` for a fully connected linear layer with 784 inputs and 128 units.\n",
        "\n",
        "The class needs to include a `forward` method that implements the forward pass through the network. In this method, you pass some input tensor `x` through each of the operations you defined earlier. The `torch.nn` module also has functional equivalents for things like ReLUs in `torch.nn.functional`. This module is usually imported as `F`. Then to use a ReLU activation on some layer (which is just a tensor), you'd do `F.relu(x)`. Below are a few different commonly used activation functions.\n",
        "\n",
        "<img src=\"assets/activation.png\" width=700px>\n",
        "\n",
        "So, for this network, I'll build it with three fully connected layers, then a softmax output for predicting classes. The softmax function is similar to the sigmoid in that it squashes inputs between 0 and 1, but it's also normalized so that all the values sum to one like a proper probability distribution."
      ]
    },
    {
      "cell_type": "code",
      "metadata": {
        "ExecuteTime": {
          "end_time": "2021-05-26T22:26:39.961531Z",
          "start_time": "2021-05-26T22:26:39.946776Z"
        },
        "colab": {
          "base_uri": "https://localhost:8080/"
        },
        "id": "8gqQ_5jQap07",
        "outputId": "cfd0dfd1-51a9-4220-9abc-70ccbd350714"
      },
      "source": [
        "class Network(nn.Module):\n",
        "    \n",
        "    # Defining the layers, 32, 16, 10 units each\n",
        "    def __init__(self):\n",
        "        super().__init__()\n",
        "        self.fc1 = nn.Linear(784, 32)\n",
        "        self.fc2 = nn.Linear(32, 16)\n",
        "        self.fc3 = nn.Linear(16, 10)\n",
        "        \n",
        "    # Forward pass through the network, returns the output logits\n",
        "    def forward(self, x):\n",
        "        x = self.fc1(x)\n",
        "        x = F.relu(x)\n",
        "        x = self.fc2(x)\n",
        "        x = F.relu(x)\n",
        "        x = self.fc3(x)\n",
        "        x = F.softmax(x, dim=1)\n",
        "        return x\n",
        "\n",
        "model = Network()\n",
        "model"
      ],
      "execution_count": 6,
      "outputs": [
        {
          "output_type": "execute_result",
          "data": {
            "text/plain": [
              "Network(\n",
              "  (fc1): Linear(in_features=784, out_features=32, bias=True)\n",
              "  (fc2): Linear(in_features=32, out_features=16, bias=True)\n",
              "  (fc3): Linear(in_features=16, out_features=10, bias=True)\n",
              ")"
            ]
          },
          "metadata": {
            "tags": []
          },
          "execution_count": 6
        }
      ]
    },
    {
      "cell_type": "markdown",
      "metadata": {
        "id": "xiWOXOArap0-"
      },
      "source": [
        "Why the input features are 784? Because the input images have size 28 pixels x 28 pixels for a total of 784 features. Since a Multilayer perceptron accepts only flatten inputs, we need to flatten a 28x28 grid into a 784 array."
      ]
    },
    {
      "cell_type": "markdown",
      "metadata": {
        "id": "KotTTzbsap1B"
      },
      "source": [
        "### Sequential API\n",
        "PyTorch provides a convenient way to build networks like this where a tensor is passed sequentially through operations, `nn.Sequential` ([documentation](https://pytorch.org/docs/master/nn.html#torch.nn.Sequential)). Using this to build the equivalent network:"
      ]
    },
    {
      "cell_type": "code",
      "metadata": {
        "ExecuteTime": {
          "end_time": "2021-05-26T22:26:41.213448Z",
          "start_time": "2021-05-26T22:26:41.205216Z"
        },
        "colab": {
          "base_uri": "https://localhost:8080/"
        },
        "id": "i-mTba0map1C",
        "outputId": "28bf475e-0015-4688-946c-9db71e810d08"
      },
      "source": [
        "# Hyperparameters for our network\n",
        "input_size   = 784\n",
        "hidden_sizes = [4, 4]\n",
        "output_size   = 10\n",
        "\n",
        "# Build a feed-forward network\n",
        "model = nn.Sequential(nn.Linear(input_size, hidden_sizes[0]),\n",
        "                      nn.ReLU(),\n",
        "                      nn.Linear(hidden_sizes[0], hidden_sizes[1]),\n",
        "                      nn.ReLU(),\n",
        "                      nn.Linear(hidden_sizes[1], output_size),\n",
        "                      nn.Softmax(dim=1))\n",
        "print(model)"
      ],
      "execution_count": 7,
      "outputs": [
        {
          "output_type": "stream",
          "text": [
            "Sequential(\n",
            "  (0): Linear(in_features=784, out_features=4, bias=True)\n",
            "  (1): ReLU()\n",
            "  (2): Linear(in_features=4, out_features=4, bias=True)\n",
            "  (3): ReLU()\n",
            "  (4): Linear(in_features=4, out_features=10, bias=True)\n",
            "  (5): Softmax(dim=1)\n",
            ")\n"
          ],
          "name": "stdout"
        }
      ]
    },
    {
      "cell_type": "markdown",
      "metadata": {
        "id": "VL79zT5Fap1F"
      },
      "source": [
        "You can also pass in an `OrderedDict` to name the individual layers and operations. Note that a dictionary keys must be unique, so _each operation must have a different name_."
      ]
    },
    {
      "cell_type": "code",
      "metadata": {
        "ExecuteTime": {
          "end_time": "2021-05-26T22:26:42.300216Z",
          "start_time": "2021-05-26T22:26:42.289009Z"
        },
        "colab": {
          "base_uri": "https://localhost:8080/"
        },
        "id": "YMUvOiKnap1G",
        "outputId": "e5e913ad-abc0-430a-a13f-13452ec2c830"
      },
      "source": [
        "model = nn.Sequential(OrderedDict([\n",
        "          ('fc1',   nn.Linear(input_size, hidden_sizes[0])),\n",
        "          ('relu1', nn.ReLU()),\n",
        "          ('fc2',   nn.Linear(hidden_sizes[0], hidden_sizes[1])),\n",
        "          ('relu2', nn.ReLU()),\n",
        "          ('output', nn.Linear(hidden_sizes[1], output_size)),\n",
        "          ('softmax', nn.Softmax(dim=1))]))\n",
        "model"
      ],
      "execution_count": 8,
      "outputs": [
        {
          "output_type": "execute_result",
          "data": {
            "text/plain": [
              "Sequential(\n",
              "  (fc1): Linear(in_features=784, out_features=4, bias=True)\n",
              "  (relu1): ReLU()\n",
              "  (fc2): Linear(in_features=4, out_features=4, bias=True)\n",
              "  (relu2): ReLU()\n",
              "  (output): Linear(in_features=4, out_features=10, bias=True)\n",
              "  (softmax): Softmax(dim=1)\n",
              ")"
            ]
          },
          "metadata": {
            "tags": []
          },
          "execution_count": 8
        }
      ]
    },
    {
      "cell_type": "markdown",
      "metadata": {
        "id": "6GCR2Ytdap1H"
      },
      "source": [
        "### Initializing weights and biases\n",
        "\n",
        "The weights and such are automatically initialized for you, but it's possible to customize how they are initialized. The weights and biases are tensors attached to the layer you defined, you can get them with `model.fc1.weight` for instance."
      ]
    },
    {
      "cell_type": "code",
      "metadata": {
        "ExecuteTime": {
          "end_time": "2021-05-26T22:26:42.972699Z",
          "start_time": "2021-05-26T22:26:42.963913Z"
        },
        "colab": {
          "base_uri": "https://localhost:8080/"
        },
        "id": "8ZMUnv5tap1I",
        "outputId": "a61927bc-cef8-4983-85fc-a5323a545725"
      },
      "source": [
        "print(model.fc1.weight)\n",
        "print(model.fc1.bias)"
      ],
      "execution_count": 9,
      "outputs": [
        {
          "output_type": "stream",
          "text": [
            "Parameter containing:\n",
            "tensor([[-0.0305, -0.0061,  0.0236,  ...,  0.0022, -0.0082, -0.0102],\n",
            "        [-0.0158, -0.0244, -0.0006,  ...,  0.0060,  0.0128,  0.0119],\n",
            "        [ 0.0010, -0.0162,  0.0351,  ...,  0.0094,  0.0131, -0.0260],\n",
            "        [-0.0040, -0.0120,  0.0092,  ...,  0.0237,  0.0019, -0.0277]],\n",
            "       requires_grad=True)\n",
            "Parameter containing:\n",
            "tensor([-0.0335,  0.0125,  0.0115,  0.0241], requires_grad=True)\n"
          ],
          "name": "stdout"
        }
      ]
    },
    {
      "cell_type": "markdown",
      "metadata": {
        "id": "J2tqGndRap1K"
      },
      "source": [
        "For custom initialization, we want to modify these tensors in place. These are actually autograd *Variables*, so we need to get back the actual tensors with `model.fc1.weight.data`. Once we have the tensors, we can fill them with zeros (for biases) or random normal values."
      ]
    },
    {
      "cell_type": "code",
      "metadata": {
        "ExecuteTime": {
          "end_time": "2021-05-26T22:26:43.889729Z",
          "start_time": "2021-05-26T22:26:43.883940Z"
        },
        "colab": {
          "base_uri": "https://localhost:8080/"
        },
        "id": "X22HaItgap1L",
        "outputId": "fadc9530-7814-47f0-bc98-5541d44c0bee"
      },
      "source": [
        "# Set biases to all zeros\n",
        "model.fc1.bias.data.fill_(0)"
      ],
      "execution_count": 10,
      "outputs": [
        {
          "output_type": "execute_result",
          "data": {
            "text/plain": [
              "tensor([0., 0., 0., 0.])"
            ]
          },
          "metadata": {
            "tags": []
          },
          "execution_count": 10
        }
      ]
    },
    {
      "cell_type": "code",
      "metadata": {
        "ExecuteTime": {
          "end_time": "2021-05-26T22:26:44.084097Z",
          "start_time": "2021-05-26T22:26:44.076738Z"
        },
        "colab": {
          "base_uri": "https://localhost:8080/"
        },
        "id": "b2bnCs6gap1M",
        "outputId": "4452986d-d070-4f36-8cfd-26b458a20eb6"
      },
      "source": [
        "# sample from random normal with standard dev = 0.01\n",
        "model.fc1.weight.data.normal_(std=0.01)"
      ],
      "execution_count": 11,
      "outputs": [
        {
          "output_type": "execute_result",
          "data": {
            "text/plain": [
              "tensor([[-0.0007, -0.0045, -0.0086,  ..., -0.0027,  0.0178,  0.0081],\n",
              "        [ 0.0041, -0.0153,  0.0039,  ..., -0.0025, -0.0059, -0.0079],\n",
              "        [ 0.0277, -0.0014,  0.0020,  ...,  0.0208,  0.0076, -0.0041],\n",
              "        [-0.0111, -0.0226,  0.0131,  ...,  0.0093, -0.0156, -0.0017]])"
            ]
          },
          "metadata": {
            "tags": []
          },
          "execution_count": 11
        }
      ]
    },
    {
      "cell_type": "markdown",
      "metadata": {
        "id": "M-3VcP7Sap1O"
      },
      "source": [
        "### STEP 1: Forward pass\n",
        "\n",
        "Now that we have a network, let's see what happens when we pass in an image. This is called the forward pass. We're going to convert the image data into a tensor, then pass it through the operations defined by the network architecture."
      ]
    },
    {
      "cell_type": "code",
      "metadata": {
        "ExecuteTime": {
          "end_time": "2021-05-26T22:26:44.506324Z",
          "start_time": "2021-05-26T22:26:44.491847Z"
        },
        "id": "RACTpv_7ap1P"
      },
      "source": [
        "# Grab some data \n",
        "dataiter = iter(trainloader)\n",
        "images, labels = dataiter.next()"
      ],
      "execution_count": 12,
      "outputs": []
    },
    {
      "cell_type": "code",
      "metadata": {
        "ExecuteTime": {
          "end_time": "2021-05-26T22:26:44.596541Z",
          "start_time": "2021-05-26T22:26:44.594169Z"
        },
        "colab": {
          "base_uri": "https://localhost:8080/"
        },
        "id": "oJpt8NAkap1Q",
        "outputId": "01925301-b24d-4877-8c1d-6bc0e70a1b23"
      },
      "source": [
        "images.shape"
      ],
      "execution_count": 13,
      "outputs": [
        {
          "output_type": "execute_result",
          "data": {
            "text/plain": [
              "torch.Size([16, 1, 28, 28])"
            ]
          },
          "metadata": {
            "tags": []
          },
          "execution_count": 13
        }
      ]
    },
    {
      "cell_type": "code",
      "metadata": {
        "ExecuteTime": {
          "end_time": "2021-05-26T22:26:44.851894Z",
          "start_time": "2021-05-26T22:26:44.845888Z"
        },
        "colab": {
          "base_uri": "https://localhost:8080/"
        },
        "id": "QSk-MmQoap1R",
        "outputId": "04903009-8322-40d8-b8bb-fa47335ddcfd"
      },
      "source": [
        "model"
      ],
      "execution_count": 14,
      "outputs": [
        {
          "output_type": "execute_result",
          "data": {
            "text/plain": [
              "Sequential(\n",
              "  (fc1): Linear(in_features=784, out_features=4, bias=True)\n",
              "  (relu1): ReLU()\n",
              "  (fc2): Linear(in_features=4, out_features=4, bias=True)\n",
              "  (relu2): ReLU()\n",
              "  (output): Linear(in_features=4, out_features=10, bias=True)\n",
              "  (softmax): Softmax(dim=1)\n",
              ")"
            ]
          },
          "metadata": {
            "tags": []
          },
          "execution_count": 14
        }
      ]
    },
    {
      "cell_type": "code",
      "metadata": {
        "ExecuteTime": {
          "end_time": "2021-05-26T22:26:46.121246Z",
          "start_time": "2021-05-26T22:26:46.112022Z"
        },
        "colab": {
          "base_uri": "https://localhost:8080/"
        },
        "id": "EDHVSGOTap1S",
        "outputId": "ff89fab6-6d8c-4f7c-ccbd-519aab6df674"
      },
      "source": [
        "# Resize images into a 1D vector, new shape is (batch size, color channels, image pixels) \n",
        "images.resize_(images.shape[0], 1, 784)\n",
        "# or images.resize_(images.shape[0], 1, 784) to not automatically get batch size"
      ],
      "execution_count": 15,
      "outputs": [
        {
          "output_type": "execute_result",
          "data": {
            "text/plain": [
              "tensor([[[-1., -1., -1.,  ..., -1., -1., -1.]],\n",
              "\n",
              "        [[-1., -1., -1.,  ..., -1., -1., -1.]],\n",
              "\n",
              "        [[-1., -1., -1.,  ..., -1., -1., -1.]],\n",
              "\n",
              "        ...,\n",
              "\n",
              "        [[-1., -1., -1.,  ..., -1., -1., -1.]],\n",
              "\n",
              "        [[-1., -1., -1.,  ..., -1., -1., -1.]],\n",
              "\n",
              "        [[-1., -1., -1.,  ..., -1., -1., -1.]]])"
            ]
          },
          "metadata": {
            "tags": []
          },
          "execution_count": 15
        }
      ]
    },
    {
      "cell_type": "code",
      "metadata": {
        "ExecuteTime": {
          "end_time": "2021-05-26T22:26:46.519895Z",
          "start_time": "2021-05-26T22:26:46.514137Z"
        },
        "colab": {
          "base_uri": "https://localhost:8080/"
        },
        "id": "_ktvi4ZPap1T",
        "outputId": "157c23a4-6cc0-4331-cb84-3c53dcd573c6"
      },
      "source": [
        "img_idx = 0\n",
        "images[img_idx,:].shape"
      ],
      "execution_count": 16,
      "outputs": [
        {
          "output_type": "execute_result",
          "data": {
            "text/plain": [
              "torch.Size([1, 784])"
            ]
          },
          "metadata": {
            "tags": []
          },
          "execution_count": 16
        }
      ]
    },
    {
      "cell_type": "code",
      "metadata": {
        "ExecuteTime": {
          "end_time": "2021-05-26T22:26:47.945952Z",
          "start_time": "2021-05-26T22:26:47.888846Z"
        },
        "id": "dvBI9pCwap1V"
      },
      "source": [
        "# Forward pass through the network\n",
        "img_idx = 0\n",
        "ps = model(images[img_idx,:])"
      ],
      "execution_count": 17,
      "outputs": []
    },
    {
      "cell_type": "code",
      "metadata": {
        "ExecuteTime": {
          "end_time": "2021-05-26T22:26:50.561845Z",
          "start_time": "2021-05-26T22:26:50.411449Z"
        },
        "colab": {
          "base_uri": "https://localhost:8080/",
          "height": 212
        },
        "id": "YWOXT9KVap1V",
        "outputId": "4266ed64-3511-420d-f579-e3d3348a59ba"
      },
      "source": [
        "img = images[img_idx]\n",
        "view_classify(img.view(1, 28, 28), ps)"
      ],
      "execution_count": 18,
      "outputs": [
        {
          "output_type": "display_data",
          "data": {
            "image/png": "[encoded data removed]",
            "text/plain": [
              "<Figure size 432x648 with 2 Axes>"
            ]
          },
          "metadata": {
            "tags": [],
            "image/png": {
              "width": 349,
              "height": 195
            },
            "needs_background": "light"
          }
        }
      ]
    },
    {
      "cell_type": "markdown",
      "metadata": {
        "id": "W7nl8Bdhap1X"
      },
      "source": [
        "As you can see above, our network has basically no idea what this digit is. It's because we haven't trained it yet, all the weights are random!"
      ]
    },
    {
      "cell_type": "markdown",
      "metadata": {
        "id": "n3mFFggPap1Y"
      },
      "source": [
        "# Training Neural Networks\n",
        "\n",
        "The network we built isn't so smart, it doesn't know anything about our handwritten digits. Neural networks with non-linear activations work like universal function approximators. There is some function that maps your input to the output. For example, images of handwritten digits to class probabilities. The power of neural networks is that we can train them to approximate this function, and basically any function given enough data and compute time.\n",
        "\n",
        "<img src=\"assets/function_approx.png\" width=500px>\n",
        "\n",
        "At first the network is naive, it doesn't know the function mapping the inputs to the outputs. We train the network by showing it examples of real data, then adjusting the network parameters such that it approximates this function.\n",
        "\n",
        "To find these parameters, we need to know how poorly the network is predicting the real outputs. For this we calculate a **loss function** (also called the cost), a measure of our prediction error. For example, the mean squared loss is often used in regression and binary classification problems\n",
        "\n",
        "$$\n",
        "\\ell = \\frac{1}{2n}\\sum_i^n{\\left(y_i - \\hat{y}_i\\right)^2}\n",
        "$$\n",
        "\n",
        "where $n$ is the number of training examples, $y_i$ are the true labels, and $\\hat{y}_i$ are the predicted labels.\n",
        "\n",
        "By minimizing this loss with respect to the network parameters, we can find configurations where the loss is at a minimum and the network is able to predict the correct labels with high accuracy. We find this minimum using a process called **gradient descent**. The gradient is the slope of the loss function and points in the direction of fastest change. To get to the minimum in the least amount of time, we then want to follow the gradient (downwards). You can think of this like descending a mountain by following the steepest slope to the base.\n",
        "\n",
        "<img src='assets/gradient_descent.png' width=350px>"
      ]
    },
    {
      "cell_type": "markdown",
      "metadata": {
        "id": "X63Iv-FKap1Z"
      },
      "source": [
        "## Backpropagation\n",
        "\n",
        "For single layer networks, gradient descent is simple to implement. However, it's more complicated for deeper, multilayer neural networks like the one we've built. Complicated enough that it took about 30 years before researchers figured out how to train multilayer networks, although it's straightforward once you learn about it. \n",
        "\n",
        "This is done through **backpropagation** which is really just an application of the chain rule from calculus. It's easiest to understand if we convert a two layer network into a graph representation.\n",
        "\n",
        "<img src='assets/w1_backprop_graph.png' width=400px>\n",
        "\n",
        "In the forward pass through the network, our data and operations go from right to left here. To train the weights with gradient descent, we propagate the gradient of the cost backwards through the network. Mathematically, this is really just calculating the gradient of the loss with respect to the weights using the chain rule.\n",
        "\n",
        "$$\n",
        "\\frac{\\partial \\ell}{\\partial w_1} = \\frac{\\partial l_1}{\\partial w_1} \\frac{\\partial s}{\\partial l_1} \\frac{\\partial l_2}{\\partial s} \\frac{\\partial \\ell}{\\partial l_2}\n",
        "$$\n",
        "\n",
        "We update our weights using this gradient with some learning rate $\\alpha$. \n",
        "\n",
        "$$\n",
        "w^\\prime = w - \\alpha \\frac{\\partial \\ell}{\\partial w}\n",
        "$$\n",
        "\n",
        "The learning rate is set such that the weight update steps are small enough that the iterative method settles in a minimum.\n",
        "\n",
        "The first thing we need to do for training is define our loss function. In PyTorch, you'll usually see this as `criterion`. Here we're using softmax output, so we want to use `criterion = nn.CrossEntropyLoss()` as our loss. Later when training, you use `loss = criterion(output, targets)` to calculate the actual loss.\n",
        "\n",
        "We also need to define the optimizer we're using, SGD or Adam, or something along those lines. Here I'll just use SGD with `torch.optim.SGD`, passing in the network parameters and the learning rate."
      ]
    },
    {
      "cell_type": "markdown",
      "metadata": {
        "id": "NSbv8_J9ap1l"
      },
      "source": [
        "## Autograd\n",
        "\n",
        "Torch provides a module, `autograd`, for automatically calculating the gradient of tensors. It does this by keeping track of operations performed on tensors. To make sure PyTorch keeps track of operations on a tensor and calculates the gradients, you need to set `requires_grad` on a tensor. You can do this at creation with the `requires_grad` keyword, or at any time with `x.requires_grad_(True)`.\n",
        "\n",
        "You can turn off gradients for a block of code with the `torch.no_grad()` content:\n",
        "```python\n",
        "x = torch.zeros(1, requires_grad=True)\n",
        ">>> with torch.no_grad():\n",
        "...     y = x * 2\n",
        ">>> y.requires_grad\n",
        "False\n",
        "```\n",
        "\n",
        "Also, you can turn on or off gradients altogether with `torch.set_grad_enabled(True|False)`.\n",
        "\n",
        "The gradients are computed with respect to some variable `z` with `z.backward()`. This does a backward pass through the operations that created `z`."
      ]
    },
    {
      "cell_type": "code",
      "metadata": {
        "ExecuteTime": {
          "end_time": "2021-05-26T22:26:52.867509Z",
          "start_time": "2021-05-26T22:26:52.860629Z"
        },
        "colab": {
          "base_uri": "https://localhost:8080/"
        },
        "id": "oz6_RAagap1m",
        "outputId": "3d1bb217-94bc-4c53-d5e3-1b73e0876824"
      },
      "source": [
        "x = torch.randn(2,2, requires_grad=True)\n",
        "print(x)"
      ],
      "execution_count": 19,
      "outputs": [
        {
          "output_type": "stream",
          "text": [
            "tensor([[ 1.5746, -0.1783],\n",
            "        [-0.8114, -0.4971]], requires_grad=True)\n"
          ],
          "name": "stdout"
        }
      ]
    },
    {
      "cell_type": "code",
      "metadata": {
        "ExecuteTime": {
          "end_time": "2021-05-26T22:26:53.383436Z",
          "start_time": "2021-05-26T22:26:53.375536Z"
        },
        "colab": {
          "base_uri": "https://localhost:8080/"
        },
        "id": "DiJ3BtnWap1n",
        "outputId": "994127b0-629c-4a70-f55f-68b8aa4f9219"
      },
      "source": [
        "y = x**2\n",
        "print(y)"
      ],
      "execution_count": 20,
      "outputs": [
        {
          "output_type": "stream",
          "text": [
            "tensor([[2.4794, 0.0318],\n",
            "        [0.6584, 0.2471]], grad_fn=<PowBackward0>)\n"
          ],
          "name": "stdout"
        }
      ]
    },
    {
      "cell_type": "markdown",
      "metadata": {
        "id": "KqX7XBgcap1o"
      },
      "source": [
        "Below we can see the operation that created `y`, a power operation `PowBackward0`."
      ]
    },
    {
      "cell_type": "code",
      "metadata": {
        "ExecuteTime": {
          "end_time": "2021-05-26T22:26:53.870654Z",
          "start_time": "2021-05-26T22:26:53.867424Z"
        },
        "colab": {
          "base_uri": "https://localhost:8080/"
        },
        "id": "VC0N1hqjap1p",
        "outputId": "bf9a96b2-8f4b-4f91-8b29-5e28c11abc8c"
      },
      "source": [
        "## grad_fn shows the function that generated this variable\n",
        "print(y.grad_fn)"
      ],
      "execution_count": 21,
      "outputs": [
        {
          "output_type": "stream",
          "text": [
            "<PowBackward0 object at 0x7f1c55592050>\n"
          ],
          "name": "stdout"
        }
      ]
    },
    {
      "cell_type": "markdown",
      "metadata": {
        "id": "qCDy-8_vap1q"
      },
      "source": [
        "The autgrad module keeps track of these operations and knows how to calculate the gradient for each one. In this way, it's able to calculate the gradients for a chain of operations, with respect to any one tensor. Let's reduce the tensor `y` to a scalar value, the mean."
      ]
    },
    {
      "cell_type": "code",
      "metadata": {
        "ExecuteTime": {
          "end_time": "2021-05-26T22:26:54.831912Z",
          "start_time": "2021-05-26T22:26:54.824631Z"
        },
        "colab": {
          "base_uri": "https://localhost:8080/"
        },
        "id": "Y38BV13eap1r",
        "outputId": "62e80b43-52c7-47d4-c0c2-4c954d83a095"
      },
      "source": [
        "z = y.mean()\n",
        "print(z)"
      ],
      "execution_count": 22,
      "outputs": [
        {
          "output_type": "stream",
          "text": [
            "tensor(0.8542, grad_fn=<MeanBackward0>)\n"
          ],
          "name": "stdout"
        }
      ]
    },
    {
      "cell_type": "markdown",
      "metadata": {
        "id": "KmAZBElcap1t"
      },
      "source": [
        "You can check the gradients for `x` and `y` but they are empty currently."
      ]
    },
    {
      "cell_type": "code",
      "metadata": {
        "ExecuteTime": {
          "end_time": "2021-05-26T22:26:55.546143Z",
          "start_time": "2021-05-26T22:26:55.541213Z"
        },
        "colab": {
          "base_uri": "https://localhost:8080/"
        },
        "id": "2vbaQXugap1t",
        "outputId": "b2f67ba1-e6ed-48d9-ef9d-710d133889fb"
      },
      "source": [
        "print(x.grad)"
      ],
      "execution_count": 23,
      "outputs": [
        {
          "output_type": "stream",
          "text": [
            "None\n"
          ],
          "name": "stdout"
        }
      ]
    },
    {
      "cell_type": "markdown",
      "metadata": {
        "id": "rXn4Wn1uap1u"
      },
      "source": [
        "To calculate the gradients, you need to run the `.backward` method on a Variable, `z` for example. This will calculate the gradient for `z` with respect to `x`\n",
        "\n",
        "$$\n",
        "\\frac{\\partial z}{\\partial x} = \\frac{\\partial}{\\partial x}\\left[\\frac{1}{n}\\sum_i^n x_i^2\\right] = \\frac{x}{2}\n",
        "$$"
      ]
    },
    {
      "cell_type": "code",
      "metadata": {
        "ExecuteTime": {
          "end_time": "2021-05-26T22:26:56.607560Z",
          "start_time": "2021-05-26T22:26:56.594993Z"
        },
        "colab": {
          "base_uri": "https://localhost:8080/"
        },
        "id": "cZVu4iJ-ap1v",
        "outputId": "90b798f1-e50f-48cb-edcb-04acb958cf06"
      },
      "source": [
        "z.backward()\n",
        "print(x.grad)\n",
        "print(x/2)"
      ],
      "execution_count": 24,
      "outputs": [
        {
          "output_type": "stream",
          "text": [
            "tensor([[ 0.7873, -0.0892],\n",
            "        [-0.4057, -0.2486]])\n",
            "tensor([[ 0.7873, -0.0892],\n",
            "        [-0.4057, -0.2486]], grad_fn=<DivBackward0>)\n"
          ],
          "name": "stdout"
        }
      ]
    },
    {
      "cell_type": "markdown",
      "metadata": {
        "id": "ib4AFaNhap1w"
      },
      "source": [
        "These gradients calculations are particularly useful for neural networks. For training we need the gradients of the weights with respect to the cost. With PyTorch, we run data forward through the network to calculate the cost, then, go backwards to calculate the gradients with respect to the cost. Once we have the gradients we can make a gradient descent step. "
      ]
    },
    {
      "cell_type": "markdown",
      "metadata": {
        "id": "d6V3uQPHap1x"
      },
      "source": [
        "I'll build a network with `nn.Sequential` here. Only difference from the last part is I'm not actually using softmax on the output, but instead just using the raw output from the last layer. This is because the output from softmax is a probability distribution. Often, the output will have values really close to zero or really close to one. Due to [inaccuracies with representing numbers as floating points](https://docs.python.org/3/tutorial/floatingpoint.html), computations with a softmax output can lose accuracy and become unstable. To get around this, we'll use the raw output, called the **logits**, to calculate the loss."
      ]
    },
    {
      "cell_type": "code",
      "metadata": {
        "ExecuteTime": {
          "end_time": "2021-05-26T22:26:56.944759Z",
          "start_time": "2021-05-26T22:26:56.936939Z"
        },
        "id": "2Ewh7Yr_ap1y"
      },
      "source": [
        "# Hyperparameters for our network\n",
        "input_size   = 784\n",
        "hidden_sizes = [128, 64]\n",
        "output_size  = 10\n",
        "\n",
        "# Build a feed-forward network\n",
        "model = nn.Sequential(OrderedDict([\n",
        "          ('fc1', nn.Linear(input_size, hidden_sizes[0])),\n",
        "          ('relu1', nn.ReLU()),\n",
        "          ('fc2', nn.Linear(hidden_sizes[0], hidden_sizes[1])),\n",
        "          ('relu2', nn.ReLU()),\n",
        "          ('logits', nn.Linear(hidden_sizes[1], output_size))]))"
      ],
      "execution_count": 25,
      "outputs": []
    },
    {
      "cell_type": "markdown",
      "metadata": {
        "id": "Bdp66W9-ap1y"
      },
      "source": [
        "## Training the network!\n",
        "\n",
        "The first thing we need to do for training is define our loss function. In PyTorch, you'll usually see this as `criterion`. Here we're using softmax output, so we want to use `criterion = nn.CrossEntropyLoss()` as our loss. Later when training, you use `loss = criterion(output, targets)` to calculate the actual loss.\n",
        "\n",
        "We also need to define the optimizer we're using, SGD or Adam, or something along those lines. Here I'll just use SGD with `torch.optim.SGD`, passing in the network parameters and the learning rate."
      ]
    },
    {
      "cell_type": "code",
      "metadata": {
        "ExecuteTime": {
          "end_time": "2021-05-26T22:26:57.317614Z",
          "start_time": "2021-05-26T22:26:57.313022Z"
        },
        "id": "NhiVBaRiap1z"
      },
      "source": [
        "criterion = nn.CrossEntropyLoss()\n",
        "optimizer = optim.SGD(model.parameters(), lr=0.01)"
      ],
      "execution_count": 26,
      "outputs": []
    },
    {
      "cell_type": "markdown",
      "metadata": {
        "id": "gWyrnChpap10"
      },
      "source": [
        "First, let's consider just one learning step before looping through all the data. The general process with PyTorch:\n",
        "\n",
        "* Make a forward pass through the network to get the logits \n",
        "* Use the logits to calculate the loss\n",
        "* Perform a backward pass through the network with `loss.backward()` to calculate the gradients\n",
        "* Take a step with the optimizer to update the weights\n",
        "\n",
        "Below I'll go through one training step and print out the weights and gradients so you can see how it changes."
      ]
    },
    {
      "cell_type": "code",
      "metadata": {
        "ExecuteTime": {
          "end_time": "2021-05-26T22:27:07.408433Z",
          "start_time": "2021-05-26T22:27:07.373358Z"
        },
        "colab": {
          "base_uri": "https://localhost:8080/"
        },
        "id": "mlAalVdzap11",
        "outputId": "4b31dd3a-d321-4149-91b0-bd313c3effc8"
      },
      "source": [
        "print('Initial weights - ', model.fc1.weight)\n",
        "\n",
        "images, labels = next(iter(trainloader))\n",
        "images.resize_(16, 784)\n",
        "\n",
        "# Clear the gradients, do this because gradients are accumulated\n",
        "optimizer.zero_grad()\n",
        "\n",
        "# Forward pass, then backward pass, then update weights\n",
        "output = model.forward(images)\n",
        "loss = criterion(output, labels)\n",
        "loss.backward()\n",
        "print('Gradient -', model.fc1.weight.grad)\n",
        "optimizer.step()"
      ],
      "execution_count": 27,
      "outputs": [
        {
          "output_type": "stream",
          "text": [
            "Initial weights -  Parameter containing:\n",
            "tensor([[ 0.0115,  0.0185,  0.0182,  ...,  0.0277, -0.0019, -0.0197],\n",
            "        [ 0.0207, -0.0085,  0.0200,  ...,  0.0160, -0.0259,  0.0040],\n",
            "        [ 0.0127,  0.0337,  0.0222,  ...,  0.0193, -0.0196,  0.0345],\n",
            "        ...,\n",
            "        [ 0.0135,  0.0323, -0.0056,  ..., -0.0168, -0.0051,  0.0285],\n",
            "        [-0.0098,  0.0020,  0.0115,  ..., -0.0216, -0.0159, -0.0194],\n",
            "        [-0.0096, -0.0213,  0.0311,  ..., -0.0180,  0.0052, -0.0254]],\n",
            "       requires_grad=True)\n",
            "Gradient - tensor([[ 0.0022,  0.0022,  0.0022,  ...,  0.0022,  0.0022,  0.0022],\n",
            "        [ 0.0000,  0.0000,  0.0000,  ...,  0.0000,  0.0000,  0.0000],\n",
            "        [ 0.0016,  0.0016,  0.0016,  ...,  0.0016,  0.0016,  0.0016],\n",
            "        ...,\n",
            "        [ 0.0005,  0.0005,  0.0005,  ...,  0.0005,  0.0005,  0.0005],\n",
            "        [-0.0020, -0.0020, -0.0020,  ..., -0.0020, -0.0020, -0.0020],\n",
            "        [-0.0023, -0.0023, -0.0023,  ..., -0.0023, -0.0023, -0.0023]])\n"
          ],
          "name": "stdout"
        }
      ]
    },
    {
      "cell_type": "code",
      "metadata": {
        "ExecuteTime": {
          "end_time": "2021-05-26T22:27:07.915247Z",
          "start_time": "2021-05-26T22:27:07.908155Z"
        },
        "colab": {
          "base_uri": "https://localhost:8080/"
        },
        "id": "JD1G7dkVap12",
        "outputId": "f1f9d74e-1b4b-4efb-aae7-68c8db3acb06"
      },
      "source": [
        "print('Updated weights - ', model.fc1.weight)"
      ],
      "execution_count": 28,
      "outputs": [
        {
          "output_type": "stream",
          "text": [
            "Updated weights -  Parameter containing:\n",
            "tensor([[ 0.0115,  0.0185,  0.0182,  ...,  0.0277, -0.0020, -0.0198],\n",
            "        [ 0.0207, -0.0085,  0.0200,  ...,  0.0160, -0.0259,  0.0040],\n",
            "        [ 0.0127,  0.0337,  0.0221,  ...,  0.0192, -0.0196,  0.0344],\n",
            "        ...,\n",
            "        [ 0.0135,  0.0323, -0.0056,  ..., -0.0168, -0.0051,  0.0285],\n",
            "        [-0.0098,  0.0020,  0.0116,  ..., -0.0216, -0.0159, -0.0193],\n",
            "        [-0.0095, -0.0213,  0.0312,  ..., -0.0180,  0.0052, -0.0254]],\n",
            "       requires_grad=True)\n"
          ],
          "name": "stdout"
        }
      ]
    },
    {
      "cell_type": "markdown",
      "metadata": {
        "id": "MMff1i5eap13"
      },
      "source": [
        "### Training for real\n",
        "\n",
        "Now we'll put this algorithm into a loop so we can go through all the images. This is fairly straightforward. We'll loop through the mini-batches in our dataset, pass the data through the network to calculate the losses, get the gradients, then run the optimizer."
      ]
    },
    {
      "cell_type": "code",
      "metadata": {
        "ExecuteTime": {
          "end_time": "2021-05-26T22:27:08.816179Z",
          "start_time": "2021-05-26T22:27:08.812807Z"
        },
        "id": "XELGKbVdap14"
      },
      "source": [
        "optimizer = optim.SGD(model.parameters(), lr=0.003)"
      ],
      "execution_count": 29,
      "outputs": []
    },
    {
      "cell_type": "code",
      "metadata": {
        "ExecuteTime": {
          "end_time": "2021-05-26T22:27:36.083537Z",
          "start_time": "2021-05-26T22:27:09.280769Z"
        },
        "colab": {
          "base_uri": "https://localhost:8080/"
        },
        "id": "LAwEFQ02ap14",
        "outputId": "6897159a-6549-43f6-c3c0-7d5fa5c0f087"
      },
      "source": [
        "epochs = 3\n",
        "print_every = 40\n",
        "\n",
        "for e in range(epochs):\n",
        "    running_loss = 0\n",
        "    print(f\"Epoch: {e+1}/{epochs}\")\n",
        "\n",
        "    for i, (images, labels) in enumerate(iter(trainloader)):\n",
        "\n",
        "        # Flatten MNIST images into a 784 long vector\n",
        "        images.resize_(images.size()[0], 784)\n",
        "        \n",
        "        optimizer.zero_grad()\n",
        "        \n",
        "        output = model.forward(images)   # 1) Forward pass\n",
        "        loss = criterion(output, labels) # 2) Compute loss\n",
        "        loss.backward()                  # 3) Backward pass\n",
        "        optimizer.step()                 # 4) Update model\n",
        "        \n",
        "        running_loss += loss.item()\n",
        "        \n",
        "        if i % print_every == 0:\n",
        "            print(f\"\\tIteration: {i}\\t Loss: {running_loss/print_every:.4f}\")\n",
        "            running_loss = 0 "
      ],
      "execution_count": 30,
      "outputs": [
        {
          "output_type": "stream",
          "text": [
            "Epoch: 1/3\n",
            "\tIteration: 0\t Loss: 0.0586\n",
            "\tIteration: 40\t Loss: 2.2978\n",
            "\tIteration: 80\t Loss: 2.2893\n",
            "\tIteration: 120\t Loss: 2.2678\n",
            "\tIteration: 160\t Loss: 2.2471\n",
            "\tIteration: 200\t Loss: 2.2319\n",
            "\tIteration: 240\t Loss: 2.2144\n",
            "\tIteration: 280\t Loss: 2.1966\n",
            "\tIteration: 320\t Loss: 2.1543\n",
            "\tIteration: 360\t Loss: 2.1374\n",
            "\tIteration: 400\t Loss: 2.0969\n",
            "\tIteration: 440\t Loss: 2.0658\n",
            "\tIteration: 480\t Loss: 2.0039\n",
            "\tIteration: 520\t Loss: 1.9729\n",
            "\tIteration: 560\t Loss: 1.9319\n",
            "\tIteration: 600\t Loss: 1.9024\n",
            "\tIteration: 640\t Loss: 1.8331\n",
            "\tIteration: 680\t Loss: 1.7822\n",
            "\tIteration: 720\t Loss: 1.7371\n",
            "\tIteration: 760\t Loss: 1.6261\n",
            "\tIteration: 800\t Loss: 1.5880\n",
            "\tIteration: 840\t Loss: 1.5497\n",
            "\tIteration: 880\t Loss: 1.4818\n",
            "\tIteration: 920\t Loss: 1.4216\n",
            "\tIteration: 960\t Loss: 1.3797\n",
            "\tIteration: 1000\t Loss: 1.3029\n",
            "\tIteration: 1040\t Loss: 1.2131\n",
            "\tIteration: 1080\t Loss: 1.1349\n",
            "\tIteration: 1120\t Loss: 1.1074\n",
            "\tIteration: 1160\t Loss: 1.0410\n",
            "\tIteration: 1200\t Loss: 1.0419\n",
            "\tIteration: 1240\t Loss: 0.9879\n",
            "\tIteration: 1280\t Loss: 0.9534\n",
            "\tIteration: 1320\t Loss: 0.9095\n",
            "\tIteration: 1360\t Loss: 0.8812\n",
            "\tIteration: 1400\t Loss: 0.8866\n",
            "\tIteration: 1440\t Loss: 0.8198\n",
            "\tIteration: 1480\t Loss: 0.8827\n",
            "\tIteration: 1520\t Loss: 0.8318\n",
            "\tIteration: 1560\t Loss: 0.7824\n",
            "\tIteration: 1600\t Loss: 0.7898\n",
            "\tIteration: 1640\t Loss: 0.7471\n",
            "\tIteration: 1680\t Loss: 0.7449\n",
            "\tIteration: 1720\t Loss: 0.7452\n",
            "\tIteration: 1760\t Loss: 0.6605\n",
            "\tIteration: 1800\t Loss: 0.6261\n",
            "\tIteration: 1840\t Loss: 0.6494\n",
            "\tIteration: 1880\t Loss: 0.6699\n",
            "\tIteration: 1920\t Loss: 0.6148\n",
            "\tIteration: 1960\t Loss: 0.6607\n",
            "\tIteration: 2000\t Loss: 0.5978\n",
            "\tIteration: 2040\t Loss: 0.5529\n",
            "\tIteration: 2080\t Loss: 0.6435\n",
            "\tIteration: 2120\t Loss: 0.5551\n",
            "\tIteration: 2160\t Loss: 0.6177\n",
            "\tIteration: 2200\t Loss: 0.5420\n",
            "\tIteration: 2240\t Loss: 0.5108\n",
            "\tIteration: 2280\t Loss: 0.5479\n",
            "\tIteration: 2320\t Loss: 0.5300\n",
            "\tIteration: 2360\t Loss: 0.5094\n",
            "\tIteration: 2400\t Loss: 0.4504\n",
            "\tIteration: 2440\t Loss: 0.5559\n",
            "\tIteration: 2480\t Loss: 0.4645\n",
            "\tIteration: 2520\t Loss: 0.5341\n",
            "\tIteration: 2560\t Loss: 0.5091\n",
            "\tIteration: 2600\t Loss: 0.4722\n",
            "\tIteration: 2640\t Loss: 0.4053\n",
            "\tIteration: 2680\t Loss: 0.4865\n",
            "\tIteration: 2720\t Loss: 0.5285\n",
            "\tIteration: 2760\t Loss: 0.4502\n",
            "\tIteration: 2800\t Loss: 0.4384\n",
            "\tIteration: 2840\t Loss: 0.4794\n",
            "\tIteration: 2880\t Loss: 0.4938\n",
            "\tIteration: 2920\t Loss: 0.4473\n",
            "\tIteration: 2960\t Loss: 0.3937\n",
            "\tIteration: 3000\t Loss: 0.4592\n",
            "\tIteration: 3040\t Loss: 0.4544\n",
            "\tIteration: 3080\t Loss: 0.4985\n",
            "\tIteration: 3120\t Loss: 0.4885\n",
            "\tIteration: 3160\t Loss: 0.4589\n",
            "\tIteration: 3200\t Loss: 0.4537\n",
            "\tIteration: 3240\t Loss: 0.4380\n",
            "\tIteration: 3280\t Loss: 0.5693\n",
            "\tIteration: 3320\t Loss: 0.4021\n",
            "\tIteration: 3360\t Loss: 0.4384\n",
            "\tIteration: 3400\t Loss: 0.4893\n",
            "\tIteration: 3440\t Loss: 0.4564\n",
            "\tIteration: 3480\t Loss: 0.4654\n",
            "\tIteration: 3520\t Loss: 0.4249\n",
            "\tIteration: 3560\t Loss: 0.4573\n",
            "\tIteration: 3600\t Loss: 0.4491\n",
            "\tIteration: 3640\t Loss: 0.4225\n",
            "\tIteration: 3680\t Loss: 0.3774\n",
            "\tIteration: 3720\t Loss: 0.4633\n",
            "Epoch: 2/3\n",
            "\tIteration: 0\t Loss: 0.0122\n",
            "\tIteration: 40\t Loss: 0.3984\n",
            "\tIteration: 80\t Loss: 0.4420\n",
            "\tIteration: 120\t Loss: 0.3708\n",
            "\tIteration: 160\t Loss: 0.4094\n",
            "\tIteration: 200\t Loss: 0.4120\n",
            "\tIteration: 240\t Loss: 0.4111\n",
            "\tIteration: 280\t Loss: 0.3750\n",
            "\tIteration: 320\t Loss: 0.3946\n",
            "\tIteration: 360\t Loss: 0.4395\n",
            "\tIteration: 400\t Loss: 0.4090\n",
            "\tIteration: 440\t Loss: 0.4342\n",
            "\tIteration: 480\t Loss: 0.3932\n",
            "\tIteration: 520\t Loss: 0.3770\n",
            "\tIteration: 560\t Loss: 0.3876\n",
            "\tIteration: 600\t Loss: 0.4279\n",
            "\tIteration: 640\t Loss: 0.3919\n",
            "\tIteration: 680\t Loss: 0.3599\n",
            "\tIteration: 720\t Loss: 0.3694\n",
            "\tIteration: 760\t Loss: 0.3943\n",
            "\tIteration: 800\t Loss: 0.3921\n",
            "\tIteration: 840\t Loss: 0.4307\n",
            "\tIteration: 880\t Loss: 0.3576\n",
            "\tIteration: 920\t Loss: 0.3464\n",
            "\tIteration: 960\t Loss: 0.3684\n",
            "\tIteration: 1000\t Loss: 0.4467\n",
            "\tIteration: 1040\t Loss: 0.3306\n",
            "\tIteration: 1080\t Loss: 0.4055\n",
            "\tIteration: 1120\t Loss: 0.3862\n",
            "\tIteration: 1160\t Loss: 0.2772\n",
            "\tIteration: 1200\t Loss: 0.3894\n",
            "\tIteration: 1240\t Loss: 0.3641\n",
            "\tIteration: 1280\t Loss: 0.3724\n",
            "\tIteration: 1320\t Loss: 0.3521\n",
            "\tIteration: 1360\t Loss: 0.3395\n",
            "\tIteration: 1400\t Loss: 0.3337\n",
            "\tIteration: 1440\t Loss: 0.3334\n",
            "\tIteration: 1480\t Loss: 0.3803\n",
            "\tIteration: 1520\t Loss: 0.4081\n",
            "\tIteration: 1560\t Loss: 0.4037\n",
            "\tIteration: 1600\t Loss: 0.3531\n",
            "\tIteration: 1640\t Loss: 0.3179\n",
            "\tIteration: 1680\t Loss: 0.4091\n",
            "\tIteration: 1720\t Loss: 0.3928\n",
            "\tIteration: 1760\t Loss: 0.3813\n",
            "\tIteration: 1800\t Loss: 0.3516\n",
            "\tIteration: 1840\t Loss: 0.4282\n",
            "\tIteration: 1880\t Loss: 0.4066\n",
            "\tIteration: 1920\t Loss: 0.3659\n",
            "\tIteration: 1960\t Loss: 0.3175\n",
            "\tIteration: 2000\t Loss: 0.3201\n",
            "\tIteration: 2040\t Loss: 0.4043\n",
            "\tIteration: 2080\t Loss: 0.3977\n",
            "\tIteration: 2120\t Loss: 0.3376\n",
            "\tIteration: 2160\t Loss: 0.3330\n",
            "\tIteration: 2200\t Loss: 0.3017\n",
            "\tIteration: 2240\t Loss: 0.4212\n",
            "\tIteration: 2280\t Loss: 0.3453\n",
            "\tIteration: 2320\t Loss: 0.3210\n",
            "\tIteration: 2360\t Loss: 0.3232\n",
            "\tIteration: 2400\t Loss: 0.3358\n",
            "\tIteration: 2440\t Loss: 0.3277\n",
            "\tIteration: 2480\t Loss: 0.3478\n",
            "\tIteration: 2520\t Loss: 0.3476\n",
            "\tIteration: 2560\t Loss: 0.3315\n",
            "\tIteration: 2600\t Loss: 0.3845\n",
            "\tIteration: 2640\t Loss: 0.3309\n",
            "\tIteration: 2680\t Loss: 0.3228\n",
            "\tIteration: 2720\t Loss: 0.3033\n",
            "\tIteration: 2760\t Loss: 0.3265\n",
            "\tIteration: 2800\t Loss: 0.2863\n",
            "\tIteration: 2840\t Loss: 0.3613\n",
            "\tIteration: 2880\t Loss: 0.3305\n",
            "\tIteration: 2920\t Loss: 0.3056\n",
            "\tIteration: 2960\t Loss: 0.3403\n",
            "\tIteration: 3000\t Loss: 0.3426\n",
            "\tIteration: 3040\t Loss: 0.3485\n",
            "\tIteration: 3080\t Loss: 0.2844\n",
            "\tIteration: 3120\t Loss: 0.3047\n",
            "\tIteration: 3160\t Loss: 0.3288\n",
            "\tIteration: 3200\t Loss: 0.3078\n",
            "\tIteration: 3240\t Loss: 0.3124\n",
            "\tIteration: 3280\t Loss: 0.3604\n",
            "\tIteration: 3320\t Loss: 0.3264\n",
            "\tIteration: 3360\t Loss: 0.3779\n",
            "\tIteration: 3400\t Loss: 0.3996\n",
            "\tIteration: 3440\t Loss: 0.3078\n",
            "\tIteration: 3480\t Loss: 0.3388\n",
            "\tIteration: 3520\t Loss: 0.3690\n",
            "\tIteration: 3560\t Loss: 0.4051\n",
            "\tIteration: 3600\t Loss: 0.3720\n",
            "\tIteration: 3640\t Loss: 0.3193\n",
            "\tIteration: 3680\t Loss: 0.3214\n",
            "\tIteration: 3720\t Loss: 0.3340\n",
            "Epoch: 3/3\n",
            "\tIteration: 0\t Loss: 0.0070\n",
            "\tIteration: 40\t Loss: 0.3010\n",
            "\tIteration: 80\t Loss: 0.3121\n",
            "\tIteration: 120\t Loss: 0.3248\n",
            "\tIteration: 160\t Loss: 0.3402\n",
            "\tIteration: 200\t Loss: 0.2805\n",
            "\tIteration: 240\t Loss: 0.3997\n",
            "\tIteration: 280\t Loss: 0.2853\n",
            "\tIteration: 320\t Loss: 0.2673\n",
            "\tIteration: 360\t Loss: 0.3582\n",
            "\tIteration: 400\t Loss: 0.2476\n",
            "\tIteration: 440\t Loss: 0.3243\n",
            "\tIteration: 480\t Loss: 0.3165\n",
            "\tIteration: 520\t Loss: 0.2974\n",
            "\tIteration: 560\t Loss: 0.3284\n",
            "\tIteration: 600\t Loss: 0.3324\n",
            "\tIteration: 640\t Loss: 0.2717\n",
            "\tIteration: 680\t Loss: 0.3202\n",
            "\tIteration: 720\t Loss: 0.3262\n",
            "\tIteration: 760\t Loss: 0.3444\n",
            "\tIteration: 800\t Loss: 0.3349\n",
            "\tIteration: 840\t Loss: 0.3303\n",
            "\tIteration: 880\t Loss: 0.3378\n",
            "\tIteration: 920\t Loss: 0.3272\n",
            "\tIteration: 960\t Loss: 0.2855\n",
            "\tIteration: 1000\t Loss: 0.2828\n",
            "\tIteration: 1040\t Loss: 0.2922\n",
            "\tIteration: 1080\t Loss: 0.3429\n",
            "\tIteration: 1120\t Loss: 0.3453\n",
            "\tIteration: 1160\t Loss: 0.3180\n",
            "\tIteration: 1200\t Loss: 0.3233\n",
            "\tIteration: 1240\t Loss: 0.2907\n",
            "\tIteration: 1280\t Loss: 0.3234\n",
            "\tIteration: 1320\t Loss: 0.3401\n",
            "\tIteration: 1360\t Loss: 0.3120\n",
            "\tIteration: 1400\t Loss: 0.3105\n",
            "\tIteration: 1440\t Loss: 0.3028\n",
            "\tIteration: 1480\t Loss: 0.2564\n",
            "\tIteration: 1520\t Loss: 0.2970\n",
            "\tIteration: 1560\t Loss: 0.3042\n",
            "\tIteration: 1600\t Loss: 0.3990\n",
            "\tIteration: 1640\t Loss: 0.2862\n",
            "\tIteration: 1680\t Loss: 0.2894\n",
            "\tIteration: 1720\t Loss: 0.3007\n",
            "\tIteration: 1760\t Loss: 0.3317\n",
            "\tIteration: 1800\t Loss: 0.2811\n",
            "\tIteration: 1840\t Loss: 0.3244\n",
            "\tIteration: 1880\t Loss: 0.3427\n",
            "\tIteration: 1920\t Loss: 0.2770\n",
            "\tIteration: 1960\t Loss: 0.3001\n",
            "\tIteration: 2000\t Loss: 0.2942\n",
            "\tIteration: 2040\t Loss: 0.3312\n",
            "\tIteration: 2080\t Loss: 0.2840\n",
            "\tIteration: 2120\t Loss: 0.2940\n",
            "\tIteration: 2160\t Loss: 0.3616\n",
            "\tIteration: 2200\t Loss: 0.3242\n",
            "\tIteration: 2240\t Loss: 0.3062\n",
            "\tIteration: 2280\t Loss: 0.3188\n",
            "\tIteration: 2320\t Loss: 0.3212\n",
            "\tIteration: 2360\t Loss: 0.2994\n",
            "\tIteration: 2400\t Loss: 0.2704\n",
            "\tIteration: 2440\t Loss: 0.2687\n",
            "\tIteration: 2480\t Loss: 0.3243\n",
            "\tIteration: 2520\t Loss: 0.3100\n",
            "\tIteration: 2560\t Loss: 0.2576\n",
            "\tIteration: 2600\t Loss: 0.2935\n",
            "\tIteration: 2640\t Loss: 0.2735\n",
            "\tIteration: 2680\t Loss: 0.3633\n",
            "\tIteration: 2720\t Loss: 0.2680\n",
            "\tIteration: 2760\t Loss: 0.3125\n",
            "\tIteration: 2800\t Loss: 0.2770\n",
            "\tIteration: 2840\t Loss: 0.3171\n",
            "\tIteration: 2880\t Loss: 0.2777\n",
            "\tIteration: 2920\t Loss: 0.2330\n",
            "\tIteration: 2960\t Loss: 0.3155\n",
            "\tIteration: 3000\t Loss: 0.3120\n",
            "\tIteration: 3040\t Loss: 0.2965\n",
            "\tIteration: 3080\t Loss: 0.2818\n",
            "\tIteration: 3120\t Loss: 0.2942\n",
            "\tIteration: 3160\t Loss: 0.3021\n",
            "\tIteration: 3200\t Loss: 0.3484\n",
            "\tIteration: 3240\t Loss: 0.2634\n",
            "\tIteration: 3280\t Loss: 0.3341\n",
            "\tIteration: 3320\t Loss: 0.3202\n",
            "\tIteration: 3360\t Loss: 0.3149\n",
            "\tIteration: 3400\t Loss: 0.2579\n",
            "\tIteration: 3440\t Loss: 0.3100\n",
            "\tIteration: 3480\t Loss: 0.3073\n",
            "\tIteration: 3520\t Loss: 0.2754\n",
            "\tIteration: 3560\t Loss: 0.3196\n",
            "\tIteration: 3600\t Loss: 0.2373\n",
            "\tIteration: 3640\t Loss: 0.2645\n",
            "\tIteration: 3680\t Loss: 0.2963\n",
            "\tIteration: 3720\t Loss: 0.3519\n"
          ],
          "name": "stdout"
        }
      ]
    },
    {
      "cell_type": "markdown",
      "metadata": {
        "id": "SseuAhReap15"
      },
      "source": [
        "With the network trained, we can check out it's predictions."
      ]
    },
    {
      "cell_type": "code",
      "metadata": {
        "ExecuteTime": {
          "end_time": "2021-05-26T22:30:00.206666Z",
          "start_time": "2021-05-26T22:29:59.954325Z"
        },
        "colab": {
          "base_uri": "https://localhost:8080/",
          "height": 212
        },
        "id": "MnbxoNslap16",
        "outputId": "3eee04ba-fc23-4225-b494-ed2a75cc6421"
      },
      "source": [
        "images, labels = next(iter(trainloader))\n",
        "\n",
        "img = images[0].view(1, 784)\n",
        "# Turn off gradients to speed up this part\n",
        "with torch.no_grad():\n",
        "    logits = model.forward(img)\n",
        "\n",
        "# Output of the network are logits, need to take softmax for probabilities\n",
        "ps = F.softmax(logits, dim=1)\n",
        "view_classify(img.view(1, 28, 28), ps)"
      ],
      "execution_count": 31,
      "outputs": [
        {
          "output_type": "display_data",
          "data": {
            "image/png": "[encoded data removed]",
            "text/plain": [
              "<Figure size 432x648 with 2 Axes>"
            ]
          },
          "metadata": {
            "tags": [],
            "image/png": {
              "width": 349,
              "height": 195
            },
            "needs_background": "light"
          }
        }
      ]
    },
    {
      "cell_type": "markdown",
      "metadata": {
        "id": "QNci7XU4ap17"
      },
      "source": [
        "Now our network is brilliant. It can accurately predict the digits in our images."
      ]
    },
    {
      "cell_type": "markdown",
      "metadata": {
        "id": "k885vZxRap18"
      },
      "source": [
        "<div style=\"background:#222222; color:#ffffff; padding:20px\">\n",
        "    <h2 align=\"center\" style=\"color:#01ff84\">EMNIST Classification: Exercise</h2>\n",
        "<div>"
      ]
    },
    {
      "cell_type": "markdown",
      "metadata": {
        "id": "J1yNxYnwap18"
      },
      "source": [
        "<div style=\"background:#222222; color:#ffffff; padding:20px\">\n",
        "  <h3 style=\"color:#01ff84; margin-top:4px\">Exercise 1:</h3>\n",
        "  <p>Now it's your turn to build a simple network, use any method I've covered so far. In the next notebook, you'll learn how to train a network so it can make good predictions.</p>\n",
        "  <p>Build a network to classify the MNIST images with 3 hidden layers. Use 16 units in the first hidden layer, 32 units in the second layer, and 8 units in the third layer. Each hidden layer should have a ReLU activation function, and use softmax on the output layer.</p>\n",
        "<div>"
      ]
    },
    {
      "cell_type": "code",
      "metadata": {
        "colab": {
          "base_uri": "https://localhost:8080/"
        },
        "id": "RmSTBPNmap19",
        "outputId": "3d6ce9f6-6e3d-40a5-a41b-aa397c34da45"
      },
      "source": [
        "## TODO: Your network here\n",
        "\n",
        "# Hyperparameters for our network\n",
        "input_size   = 784\n",
        "hidden_sizes = [16, 32, 8]\n",
        "output_size  = 10\n",
        "\n",
        "# Build a feed-forward network\n",
        "model = nn.Sequential(OrderedDict([\n",
        "          ('fc1', nn.Linear(input_size, hidden_sizes[0])),\n",
        "          ('relu1', nn.ReLU()),\n",
        "          ('fc2', nn.Linear(hidden_sizes[0], hidden_sizes[1])),\n",
        "          ('relu2', nn.ReLU()),\n",
        "          ('fc3', nn.Linear(hidden_sizes[1], hidden_sizes[2])),\n",
        "          ('relu3', nn.ReLU()),\n",
        "          ('output', nn.Linear(hidden_sizes[2], output_size)),\n",
        "          ('softmax', nn.Softmax(dim=1))]))\n",
        "\n",
        "model"
      ],
      "execution_count": 32,
      "outputs": [
        {
          "output_type": "execute_result",
          "data": {
            "text/plain": [
              "Sequential(\n",
              "  (fc1): Linear(in_features=784, out_features=16, bias=True)\n",
              "  (relu1): ReLU()\n",
              "  (fc2): Linear(in_features=16, out_features=32, bias=True)\n",
              "  (relu2): ReLU()\n",
              "  (fc3): Linear(in_features=32, out_features=8, bias=True)\n",
              "  (relu3): ReLU()\n",
              "  (output): Linear(in_features=8, out_features=10, bias=True)\n",
              "  (softmax): Softmax(dim=1)\n",
              ")"
            ]
          },
          "metadata": {
            "tags": []
          },
          "execution_count": 32
        }
      ]
    },
    {
      "cell_type": "code",
      "metadata": {
        "colab": {
          "base_uri": "https://localhost:8080/",
          "height": 212
        },
        "id": "EmfUy4Hjap1-",
        "outputId": "f7b69741-d73f-4809-89c8-27f2949ba204"
      },
      "source": [
        "# Run this cell with your model to make sure it works\n",
        "# Forward pass through the network and display output\n",
        "images, labels = next(iter(trainloader))\n",
        "\n",
        "images.resize_(images.shape[0], 1, 784)\n",
        "ps = model.forward(images[0,:]) \n",
        "\n",
        "view_classify(images[0].view(1, 28, 28), ps)"
      ],
      "execution_count": 33,
      "outputs": [
        {
          "output_type": "display_data",
          "data": {
            "image/png": "[encoded data removed]",
            "text/plain": [
              "<Figure size 432x648 with 2 Axes>"
            ]
          },
          "metadata": {
            "tags": [],
            "image/png": {
              "width": 349,
              "height": 195
            },
            "needs_background": "light"
          }
        }
      ]
    },
    {
      "cell_type": "markdown",
      "metadata": {
        "id": "D-82APvFap2A"
      },
      "source": [
        "<div style=\"background:#222222; color:#ffffff; padding:20px\">\n",
        "  <h3 style=\"color:#01ff84; margin-top:4px\">Exercise 2:</h3>\n",
        "  <p>Train your network implementing the Pytorch training loop and <strong style=\"color:#01ff84\">after each epoch, use the model for predicting the test (validation) MNIST data.</strong></p>\n",
        "  <p>Note: If your model does not fit with the final softmax layer, you can remove this layer.</p>\n",
        "  <p>Hint: <a href=\"https://discuss.pytorch.org/t/training-loop-checking-validation-accuracy/78399\">Training loop checking validation accuracy\n",
        "</a></p>\n",
        "  <p>Research about <code>model.train()</code>, <code>model.eval()</code> and <code>with torch.no_grad()</code> in Pytorch.\n",
        "<div>"
      ]
    },
    {
      "cell_type": "code",
      "metadata": {
        "colab": {
          "base_uri": "https://localhost:8080/"
        },
        "id": "w5zDyqIUap2A",
        "outputId": "56643b94-b696-436d-955e-7e61e967fca5"
      },
      "source": [
        "## TODO: Your training loop here\n",
        "\n",
        "criterion = nn.CrossEntropyLoss()\n",
        "optimizer = optim.SGD(model.parameters(), lr=0.03)\n",
        "\n",
        "epochs = 3\n",
        "print_every = 40\n",
        "\n",
        "for e in range(epochs):\n",
        "\n",
        "    running_loss = 0\n",
        "\n",
        "    print(f\"Epoch: {e+1}/{epochs}\")\n",
        "\n",
        "    for i, (images, labels) in enumerate(iter(trainloader)):\n",
        "\n",
        "        # Flatten MNIST images into a 784 long vector\n",
        "        images.resize_(images.size()[0],  784)\n",
        "        \n",
        "        optimizer.zero_grad()\n",
        "        \n",
        "        #model.train()\n",
        "\n",
        "        output = model.forward(images)   # 1) Forward pass\n",
        "        loss = criterion(output, labels) # 2) Compute loss\n",
        "        loss.backward()                  # 3) Backward pass\n",
        "        optimizer.step()                 # 4) Update model\n",
        "        \n",
        "        running_loss += loss.item()\n",
        "        \n",
        "        if i % print_every == 0:\n",
        "            print(f\"\\tIteration: {i}\\t Loss: {running_loss/print_every:.4f}\")\n",
        "            running_loss = 0 \n",
        "\n",
        "    correct = 0\n",
        "    total = 0\n",
        "    # since we're not training, we don't need to calculate the gradients for our outputs\n",
        "    with torch.no_grad():\n",
        "        for i, (images, labels) in enumerate(iter(testloader)):\n",
        "            #images, labels = data\n",
        "            # calculate outputs by running images through the network\n",
        "            images.resize_(images.size()[0],  784)\n",
        "            outputs = model(images)\n",
        "            # the class with the highest energy is what we choose as prediction\n",
        "            _, predicted = torch.max(outputs.data, 1)\n",
        "            total += labels.size(0)\n",
        "            correct += (predicted == labels).sum().item()\n",
        "\n",
        "    print('Accuracy of the network on the 10000 test images: %d %%' % (\n",
        "        100 * correct / total))"
      ],
      "execution_count": 34,
      "outputs": [
        {
          "output_type": "stream",
          "text": [
            "Epoch: 1/3\n",
            "\tIteration: 0\t Loss: 0.0576\n",
            "\tIteration: 40\t Loss: 2.3031\n",
            "\tIteration: 80\t Loss: 2.3036\n",
            "\tIteration: 120\t Loss: 2.3008\n",
            "\tIteration: 160\t Loss: 2.3018\n",
            "\tIteration: 200\t Loss: 2.3013\n",
            "\tIteration: 240\t Loss: 2.3015\n",
            "\tIteration: 280\t Loss: 2.3004\n",
            "\tIteration: 320\t Loss: 2.3005\n",
            "\tIteration: 360\t Loss: 2.3007\n",
            "\tIteration: 400\t Loss: 2.3011\n",
            "\tIteration: 440\t Loss: 2.3000\n",
            "\tIteration: 480\t Loss: 2.3013\n",
            "\tIteration: 520\t Loss: 2.2991\n",
            "\tIteration: 560\t Loss: 2.3006\n",
            "\tIteration: 600\t Loss: 2.2986\n",
            "\tIteration: 640\t Loss: 2.2986\n",
            "\tIteration: 680\t Loss: 2.2984\n",
            "\tIteration: 720\t Loss: 2.2981\n",
            "\tIteration: 760\t Loss: 2.2965\n",
            "\tIteration: 800\t Loss: 2.2971\n",
            "\tIteration: 840\t Loss: 2.2959\n",
            "\tIteration: 880\t Loss: 2.2942\n",
            "\tIteration: 920\t Loss: 2.2943\n",
            "\tIteration: 960\t Loss: 2.2935\n",
            "\tIteration: 1000\t Loss: 2.2918\n",
            "\tIteration: 1040\t Loss: 2.2913\n",
            "\tIteration: 1080\t Loss: 2.2892\n",
            "\tIteration: 1120\t Loss: 2.2875\n",
            "\tIteration: 1160\t Loss: 2.2851\n",
            "\tIteration: 1200\t Loss: 2.2799\n",
            "\tIteration: 1240\t Loss: 2.2745\n",
            "\tIteration: 1280\t Loss: 2.2680\n",
            "\tIteration: 1320\t Loss: 2.2579\n",
            "\tIteration: 1360\t Loss: 2.2590\n",
            "\tIteration: 1400\t Loss: 2.2412\n",
            "\tIteration: 1440\t Loss: 2.2451\n",
            "\tIteration: 1480\t Loss: 2.1972\n",
            "\tIteration: 1520\t Loss: 2.1811\n",
            "\tIteration: 1560\t Loss: 2.1900\n",
            "\tIteration: 1600\t Loss: 2.1569\n",
            "\tIteration: 1640\t Loss: 2.1679\n",
            "\tIteration: 1680\t Loss: 2.1536\n",
            "\tIteration: 1720\t Loss: 2.1571\n",
            "\tIteration: 1760\t Loss: 2.1545\n",
            "\tIteration: 1800\t Loss: 2.1444\n",
            "\tIteration: 1840\t Loss: 2.1436\n",
            "\tIteration: 1880\t Loss: 2.1076\n",
            "\tIteration: 1920\t Loss: 2.0736\n",
            "\tIteration: 1960\t Loss: 2.0642\n",
            "\tIteration: 2000\t Loss: 2.0892\n",
            "\tIteration: 2040\t Loss: 2.0536\n",
            "\tIteration: 2080\t Loss: 2.0333\n",
            "\tIteration: 2120\t Loss: 2.0143\n",
            "\tIteration: 2160\t Loss: 2.0276\n",
            "\tIteration: 2200\t Loss: 2.0316\n",
            "\tIteration: 2240\t Loss: 2.0090\n",
            "\tIteration: 2280\t Loss: 1.9934\n",
            "\tIteration: 2320\t Loss: 2.0022\n",
            "\tIteration: 2360\t Loss: 2.0009\n",
            "\tIteration: 2400\t Loss: 1.9787\n",
            "\tIteration: 2440\t Loss: 1.9701\n",
            "\tIteration: 2480\t Loss: 1.9748\n",
            "\tIteration: 2520\t Loss: 1.9685\n",
            "\tIteration: 2560\t Loss: 1.9588\n",
            "\tIteration: 2600\t Loss: 1.9115\n",
            "\tIteration: 2640\t Loss: 1.9215\n",
            "\tIteration: 2680\t Loss: 1.9220\n",
            "\tIteration: 2720\t Loss: 1.9328\n",
            "\tIteration: 2760\t Loss: 1.9202\n",
            "\tIteration: 2800\t Loss: 1.9223\n",
            "\tIteration: 2840\t Loss: 1.8878\n",
            "\tIteration: 2880\t Loss: 1.8820\n",
            "\tIteration: 2920\t Loss: 1.8954\n",
            "\tIteration: 2960\t Loss: 1.8961\n",
            "\tIteration: 3000\t Loss: 1.8872\n",
            "\tIteration: 3040\t Loss: 1.8900\n",
            "\tIteration: 3080\t Loss: 1.8535\n",
            "\tIteration: 3120\t Loss: 1.8781\n",
            "\tIteration: 3160\t Loss: 1.8706\n",
            "\tIteration: 3200\t Loss: 1.8566\n",
            "\tIteration: 3240\t Loss: 1.9034\n",
            "\tIteration: 3280\t Loss: 1.8380\n",
            "\tIteration: 3320\t Loss: 1.8477\n",
            "\tIteration: 3360\t Loss: 1.8551\n",
            "\tIteration: 3400\t Loss: 1.8435\n",
            "\tIteration: 3440\t Loss: 1.8659\n",
            "\tIteration: 3480\t Loss: 1.8542\n",
            "\tIteration: 3520\t Loss: 1.8475\n",
            "\tIteration: 3560\t Loss: 1.8585\n",
            "\tIteration: 3600\t Loss: 1.8456\n",
            "\tIteration: 3640\t Loss: 1.8500\n",
            "\tIteration: 3680\t Loss: 1.8935\n",
            "\tIteration: 3720\t Loss: 1.8498\n",
            "Accuracy of the network on the 10000 test images: 62 %\n",
            "Epoch: 2/3\n",
            "\tIteration: 0\t Loss: 0.0464\n",
            "\tIteration: 40\t Loss: 1.8628\n",
            "\tIteration: 80\t Loss: 1.8126\n",
            "\tIteration: 120\t Loss: 1.8414\n",
            "\tIteration: 160\t Loss: 1.8050\n",
            "\tIteration: 200\t Loss: 1.8483\n",
            "\tIteration: 240\t Loss: 1.8376\n",
            "\tIteration: 280\t Loss: 1.8340\n",
            "\tIteration: 320\t Loss: 1.8414\n",
            "\tIteration: 360\t Loss: 1.8560\n",
            "\tIteration: 400\t Loss: 1.7936\n",
            "\tIteration: 440\t Loss: 1.8355\n",
            "\tIteration: 480\t Loss: 1.8183\n",
            "\tIteration: 520\t Loss: 1.8440\n",
            "\tIteration: 560\t Loss: 1.8095\n",
            "\tIteration: 600\t Loss: 1.8393\n",
            "\tIteration: 640\t Loss: 1.8322\n",
            "\tIteration: 680\t Loss: 1.7902\n",
            "\tIteration: 720\t Loss: 1.8012\n",
            "\tIteration: 760\t Loss: 1.8041\n",
            "\tIteration: 800\t Loss: 1.7823\n",
            "\tIteration: 840\t Loss: 1.7840\n",
            "\tIteration: 880\t Loss: 1.7938\n",
            "\tIteration: 920\t Loss: 1.8047\n",
            "\tIteration: 960\t Loss: 1.7510\n",
            "\tIteration: 1000\t Loss: 1.7999\n",
            "\tIteration: 1040\t Loss: 1.8037\n",
            "\tIteration: 1080\t Loss: 1.7736\n",
            "\tIteration: 1120\t Loss: 1.7908\n",
            "\tIteration: 1160\t Loss: 1.7851\n",
            "\tIteration: 1200\t Loss: 1.7513\n",
            "\tIteration: 1240\t Loss: 1.7682\n",
            "\tIteration: 1280\t Loss: 1.7673\n",
            "\tIteration: 1320\t Loss: 1.7663\n",
            "\tIteration: 1360\t Loss: 1.7583\n",
            "\tIteration: 1400\t Loss: 1.7613\n",
            "\tIteration: 1440\t Loss: 1.7671\n",
            "\tIteration: 1480\t Loss: 1.7963\n",
            "\tIteration: 1520\t Loss: 1.7627\n",
            "\tIteration: 1560\t Loss: 1.7569\n",
            "\tIteration: 1600\t Loss: 1.7445\n",
            "\tIteration: 1640\t Loss: 1.7749\n",
            "\tIteration: 1680\t Loss: 1.7774\n",
            "\tIteration: 1720\t Loss: 1.7410\n",
            "\tIteration: 1760\t Loss: 1.7605\n",
            "\tIteration: 1800\t Loss: 1.7157\n",
            "\tIteration: 1840\t Loss: 1.7827\n",
            "\tIteration: 1880\t Loss: 1.7766\n",
            "\tIteration: 1920\t Loss: 1.8172\n",
            "\tIteration: 1960\t Loss: 1.7346\n",
            "\tIteration: 2000\t Loss: 1.7683\n",
            "\tIteration: 2040\t Loss: 1.7477\n",
            "\tIteration: 2080\t Loss: 1.7278\n",
            "\tIteration: 2120\t Loss: 1.7458\n",
            "\tIteration: 2160\t Loss: 1.7633\n",
            "\tIteration: 2200\t Loss: 1.7474\n",
            "\tIteration: 2240\t Loss: 1.7431\n",
            "\tIteration: 2280\t Loss: 1.7407\n",
            "\tIteration: 2320\t Loss: 1.7950\n",
            "\tIteration: 2360\t Loss: 1.7613\n",
            "\tIteration: 2400\t Loss: 1.7445\n",
            "\tIteration: 2440\t Loss: 1.7366\n",
            "\tIteration: 2480\t Loss: 1.7366\n",
            "\tIteration: 2520\t Loss: 1.7293\n",
            "\tIteration: 2560\t Loss: 1.7254\n",
            "\tIteration: 2600\t Loss: 1.7140\n",
            "\tIteration: 2640\t Loss: 1.7361\n",
            "\tIteration: 2680\t Loss: 1.7182\n",
            "\tIteration: 2720\t Loss: 1.7153\n",
            "\tIteration: 2760\t Loss: 1.7446\n",
            "\tIteration: 2800\t Loss: 1.7206\n",
            "\tIteration: 2840\t Loss: 1.7305\n",
            "\tIteration: 2880\t Loss: 1.7142\n",
            "\tIteration: 2920\t Loss: 1.7216\n",
            "\tIteration: 2960\t Loss: 1.7236\n",
            "\tIteration: 3000\t Loss: 1.7054\n",
            "\tIteration: 3040\t Loss: 1.7242\n",
            "\tIteration: 3080\t Loss: 1.7084\n",
            "\tIteration: 3120\t Loss: 1.7076\n",
            "\tIteration: 3160\t Loss: 1.7215\n",
            "\tIteration: 3200\t Loss: 1.7137\n",
            "\tIteration: 3240\t Loss: 1.7385\n",
            "\tIteration: 3280\t Loss: 1.6812\n",
            "\tIteration: 3320\t Loss: 1.6949\n",
            "\tIteration: 3360\t Loss: 1.7011\n",
            "\tIteration: 3400\t Loss: 1.7291\n",
            "\tIteration: 3440\t Loss: 1.7079\n",
            "\tIteration: 3480\t Loss: 1.6891\n",
            "\tIteration: 3520\t Loss: 1.7022\n",
            "\tIteration: 3560\t Loss: 1.7115\n",
            "\tIteration: 3600\t Loss: 1.6725\n",
            "\tIteration: 3640\t Loss: 1.6805\n",
            "\tIteration: 3680\t Loss: 1.6980\n",
            "\tIteration: 3720\t Loss: 1.6663\n",
            "Accuracy of the network on the 10000 test images: 71 %\n",
            "Epoch: 3/3\n",
            "\tIteration: 0\t Loss: 0.0473\n",
            "\tIteration: 40\t Loss: 1.6908\n",
            "\tIteration: 80\t Loss: 1.6840\n",
            "\tIteration: 120\t Loss: 1.7100\n",
            "\tIteration: 160\t Loss: 1.6767\n",
            "\tIteration: 200\t Loss: 1.6612\n",
            "\tIteration: 240\t Loss: 1.6659\n",
            "\tIteration: 280\t Loss: 1.6866\n",
            "\tIteration: 320\t Loss: 1.6726\n",
            "\tIteration: 360\t Loss: 1.6689\n",
            "\tIteration: 400\t Loss: 1.7010\n",
            "\tIteration: 440\t Loss: 1.6831\n",
            "\tIteration: 480\t Loss: 1.6782\n",
            "\tIteration: 520\t Loss: 1.6887\n",
            "\tIteration: 560\t Loss: 1.6749\n",
            "\tIteration: 600\t Loss: 1.6717\n",
            "\tIteration: 640\t Loss: 1.7005\n",
            "\tIteration: 680\t Loss: 1.7000\n",
            "\tIteration: 720\t Loss: 1.6802\n",
            "\tIteration: 760\t Loss: 1.6608\n",
            "\tIteration: 800\t Loss: 1.6643\n",
            "\tIteration: 840\t Loss: 1.7002\n",
            "\tIteration: 880\t Loss: 1.6809\n",
            "\tIteration: 920\t Loss: 1.6732\n",
            "\tIteration: 960\t Loss: 1.7038\n",
            "\tIteration: 1000\t Loss: 1.6710\n",
            "\tIteration: 1040\t Loss: 1.6360\n",
            "\tIteration: 1080\t Loss: 1.6743\n",
            "\tIteration: 1120\t Loss: 1.6927\n",
            "\tIteration: 1160\t Loss: 1.6850\n",
            "\tIteration: 1200\t Loss: 1.6826\n",
            "\tIteration: 1240\t Loss: 1.6732\n",
            "\tIteration: 1280\t Loss: 1.6989\n",
            "\tIteration: 1320\t Loss: 1.6787\n",
            "\tIteration: 1360\t Loss: 1.6742\n",
            "\tIteration: 1400\t Loss: 1.6909\n",
            "\tIteration: 1440\t Loss: 1.6644\n",
            "\tIteration: 1480\t Loss: 1.6671\n",
            "\tIteration: 1520\t Loss: 1.6716\n",
            "\tIteration: 1560\t Loss: 1.6912\n",
            "\tIteration: 1600\t Loss: 1.6805\n",
            "\tIteration: 1640\t Loss: 1.6766\n",
            "\tIteration: 1680\t Loss: 1.6456\n",
            "\tIteration: 1720\t Loss: 1.6655\n",
            "\tIteration: 1760\t Loss: 1.6909\n",
            "\tIteration: 1800\t Loss: 1.6444\n",
            "\tIteration: 1840\t Loss: 1.6476\n",
            "\tIteration: 1880\t Loss: 1.6617\n",
            "\tIteration: 1920\t Loss: 1.6653\n",
            "\tIteration: 1960\t Loss: 1.6591\n",
            "\tIteration: 2000\t Loss: 1.6553\n",
            "\tIteration: 2040\t Loss: 1.6544\n",
            "\tIteration: 2080\t Loss: 1.6586\n",
            "\tIteration: 2120\t Loss: 1.6872\n",
            "\tIteration: 2160\t Loss: 1.6645\n",
            "\tIteration: 2200\t Loss: 1.6726\n",
            "\tIteration: 2240\t Loss: 1.6745\n",
            "\tIteration: 2280\t Loss: 1.6805\n",
            "\tIteration: 2320\t Loss: 1.6840\n",
            "\tIteration: 2360\t Loss: 1.6603\n",
            "\tIteration: 2400\t Loss: 1.6617\n",
            "\tIteration: 2440\t Loss: 1.6836\n",
            "\tIteration: 2480\t Loss: 1.6498\n",
            "\tIteration: 2520\t Loss: 1.6887\n",
            "\tIteration: 2560\t Loss: 1.6904\n",
            "\tIteration: 2600\t Loss: 1.6716\n",
            "\tIteration: 2640\t Loss: 1.6567\n",
            "\tIteration: 2680\t Loss: 1.6793\n",
            "\tIteration: 2720\t Loss: 1.6919\n",
            "\tIteration: 2760\t Loss: 1.6749\n",
            "\tIteration: 2800\t Loss: 1.7024\n",
            "\tIteration: 2840\t Loss: 1.6512\n",
            "\tIteration: 2880\t Loss: 1.6569\n",
            "\tIteration: 2920\t Loss: 1.6527\n",
            "\tIteration: 2960\t Loss: 1.6914\n",
            "\tIteration: 3000\t Loss: 1.6683\n",
            "\tIteration: 3040\t Loss: 1.6516\n",
            "\tIteration: 3080\t Loss: 1.6843\n",
            "\tIteration: 3120\t Loss: 1.6732\n",
            "\tIteration: 3160\t Loss: 1.6619\n",
            "\tIteration: 3200\t Loss: 1.6571\n",
            "\tIteration: 3240\t Loss: 1.6713\n",
            "\tIteration: 3280\t Loss: 1.6944\n",
            "\tIteration: 3320\t Loss: 1.6760\n",
            "\tIteration: 3360\t Loss: 1.6504\n",
            "\tIteration: 3400\t Loss: 1.6672\n",
            "\tIteration: 3440\t Loss: 1.6614\n",
            "\tIteration: 3480\t Loss: 1.6731\n",
            "\tIteration: 3520\t Loss: 1.6810\n",
            "\tIteration: 3560\t Loss: 1.6906\n",
            "\tIteration: 3600\t Loss: 1.6644\n",
            "\tIteration: 3640\t Loss: 1.6596\n",
            "\tIteration: 3680\t Loss: 1.6606\n",
            "\tIteration: 3720\t Loss: 1.6720\n",
            "Accuracy of the network on the 10000 test images: 79 %\n"
          ],
          "name": "stdout"
        }
      ]
    },
    {
      "cell_type": "code",
      "metadata": {
        "colab": {
          "base_uri": "https://localhost:8080/"
        },
        "id": "8wbg1CE6Yk9j",
        "outputId": "9f4f2d7d-8add-4118-a73a-e0e741bab091"
      },
      "source": [
        "#print(predicted)\n",
        "#print(outputs.data)\n",
        "torch.max(outputs.data, 1)"
      ],
      "execution_count": 35,
      "outputs": [
        {
          "output_type": "execute_result",
          "data": {
            "text/plain": [
              "torch.return_types.max(values=tensor([0.9081, 1.0000, 0.9989, 0.6051, 1.0000, 0.9943, 0.9999, 0.8680, 1.0000,\n",
              "        1.0000, 0.9020, 0.9979, 0.9999, 1.0000, 0.9999, 1.0000]), indices=tensor([9, 9, 1, 9, 6, 7, 1, 3, 8, 5, 8, 6, 0, 6, 1, 0]))"
            ]
          },
          "metadata": {
            "tags": []
          },
          "execution_count": 35
        }
      ]
    },
    {
      "cell_type": "code",
      "metadata": {
        "colab": {
          "base_uri": "https://localhost:8080/",
          "height": 212
        },
        "id": "6u_00pWDap2B",
        "outputId": "02709f71-b9fe-43a5-e387-b758b7759fc2"
      },
      "source": [
        "# Run this cell with your model to make sure it works and predicts well for the validation data\n",
        "images, labels = next(iter(testloader))\n",
        "images.resize_(images.shape[0], 1, 784)\n",
        "ps = model.forward(images[0,:])\n",
        "view_classify(images[0].view(1, 28, 28), ps)"
      ],
      "execution_count": 39,
      "outputs": [
        {
          "output_type": "display_data",
          "data": {
            "image/png": "[encoded data removed]",
            "text/plain": [
              "<Figure size 432x648 with 2 Axes>"
            ]
          },
          "metadata": {
            "tags": [],
            "image/png": {
              "width": 349,
              "height": 195
            },
            "needs_background": "light"
          }
        }
      ]
    },
    {
      "cell_type": "markdown",
      "metadata": {
        "id": "CDK80F-Wap2C"
      },
      "source": [
        "<div style=\"background:#222222; color:#ffffff; padding:20px\">\n",
        "  <h3 style=\"color:#01ff84; margin-top:4px\">Exercise 3:</h3>\n",
        "  <p>Write the code for adding <strong style=\"color:#01ff84\">Early Stopping with patience = 2</strong> to the training loop from scratch.</p>\n",
        "  <p><strong style=\"color:#01ff84\">Hint:</strong> Monitor the Validation loss every epoch, and if in 2 epochs, the validation loss does not improve, stop the training loop with <code>break</code>.</p>\n",
        "<div>"
      ]
    },
    {
      "cell_type": "code",
      "metadata": {
        "id": "GDY4cB4hap2D"
      },
      "source": [
        "## TODO: Your training loop here"
      ],
      "execution_count": null,
      "outputs": []
    },
    {
      "cell_type": "markdown",
      "metadata": {
        "id": "6dPDGtVBap2E"
      },
      "source": [
        "<div style=\"background:#222222; color:#ffffff; padding:20px\">\n",
        "  <h3 style=\"color:#01ff84; margin-top:4px\">Optional:</h3>\n",
        "  <p>Don't you want to use MNIST? Try EMNIST instead! Maybe using the first 10 letters of the alphabet!</p>\n"
      ]
    },
    {
      "cell_type": "code",
      "metadata": {
        "ExecuteTime": {
          "end_time": "2021-05-26T22:35:26.981584Z",
          "start_time": "2021-05-26T22:35:26.954522Z"
        },
        "id": "vkSpz363ap2F"
      },
      "source": [
        "# we will need a custom visualization function\n",
        "def view_classify_emnist(img, ps):\n",
        "\n",
        "    ps = ps.data.numpy().squeeze()\n",
        "\n",
        "    fig, (ax1, ax2) = plt.subplots(figsize=(6,9), ncols=2)\n",
        "    ax1.imshow(img.resize_(1, 28, 28).numpy().squeeze())\n",
        "    ax1.axis('off')\n",
        "    ax2.barh(list(\"abcdefghij\"), ps)\n",
        "    ax2.set_aspect(0.1)\n",
        "    ax2.set_yticks(np.arange(10))\n",
        "    ax2.set_yticklabels(np.arange(10))\n",
        "    ax2.set_title('Class Probability')\n",
        "    ax2.set_xlim(0, 1.1)"
      ],
      "execution_count": null,
      "outputs": []
    },
    {
      "cell_type": "code",
      "metadata": {
        "ExecuteTime": {
          "end_time": "2021-05-26T22:50:57.571260Z",
          "start_time": "2021-05-26T22:50:57.322172Z"
        },
        "id": "Jrpsb-isap2F"
      },
      "source": [
        "# Define a transform to normalize the data (Preprocessing)\n",
        "transform = transforms.Compose([transforms.ToTensor(), transforms.Normalize((0.5), (0.5)) ])\n",
        "def my_collate(batch):\n",
        "    modified_batch = []\n",
        "    for item in batch:\n",
        "        image, label = item\n",
        "        if label < 10: # only the first ten letters\n",
        "            modified_batch.append(item)\n",
        "    return torch.utils.data._utils.collate.default_collate(modified_batch)\n",
        "\n",
        "\n",
        "# Download and load the training data\n",
        "trainset    = datasets.EMNIST('EMNIST_data/', split=\"letters\", download=True, train=True, transform=transform)\n",
        "trainloader = torch.utils.data.DataLoader(trainset, batch_size=16, shuffle=True, collate_fn=my_collate)\n",
        "\n",
        "# Download and load the test data\n",
        "testset    = datasets.EMNIST('EMNIST_data/', split=\"letters\", download=True, train=False, transform=transform)\n",
        "testloader = torch.utils.data.DataLoader(testset, batch_size=16, shuffle=True, collate_fn=my_collate)"
      ],
      "execution_count": null,
      "outputs": []
    },
    {
      "cell_type": "code",
      "metadata": {
        "ExecuteTime": {
          "end_time": "2021-05-26T22:51:02.493175Z",
          "start_time": "2021-05-26T22:51:02.464301Z"
        },
        "id": "p0ob7AyPap2G"
      },
      "source": [
        "dataiter = iter(trainloader)\n",
        "images, labels = dataiter.next()"
      ],
      "execution_count": null,
      "outputs": []
    },
    {
      "cell_type": "code",
      "metadata": {
        "ExecuteTime": {
          "end_time": "2021-05-26T22:51:03.118421Z",
          "start_time": "2021-05-26T22:51:02.978678Z"
        },
        "id": "684lJRsIap2H",
        "outputId": "b33e3019-60c0-4ddf-e02e-7277efe6cd30"
      },
      "source": [
        "plt.imshow(images[5].numpy().squeeze(), cmap='Greys_r');"
      ],
      "execution_count": null,
      "outputs": [
        {
          "output_type": "display_data",
          "data": {
            "image/png": "[encoded data removed]",
            "text/plain": [
              "<Figure size 432x288 with 1 Axes>"
            ]
          },
          "metadata": {
            "tags": [],
            "image/png": {
              "height": 248,
              "width": 251
            },
            "needs_background": "light"
          }
        }
      ]
    },
    {
      "cell_type": "code",
      "metadata": {
        "ExecuteTime": {
          "end_time": "2021-05-26T22:51:06.653639Z",
          "start_time": "2021-05-26T22:51:06.647991Z"
        },
        "id": "QEKYt9xpap2I",
        "outputId": "1fcf2efa-c6ce-47aa-83c9-7ba71f80dbbb"
      },
      "source": [
        "labels"
      ],
      "execution_count": null,
      "outputs": [
        {
          "output_type": "execute_result",
          "data": {
            "text/plain": [
              "tensor([1, 9, 6, 7, 5, 1, 9, 3])"
            ]
          },
          "metadata": {
            "tags": []
          },
          "execution_count": 53
        }
      ]
    },
    {
      "cell_type": "code",
      "metadata": {
        "id": "UzLa9sz9ap2J"
      },
      "source": [
        ""
      ],
      "execution_count": null,
      "outputs": []
    }
  ]
}