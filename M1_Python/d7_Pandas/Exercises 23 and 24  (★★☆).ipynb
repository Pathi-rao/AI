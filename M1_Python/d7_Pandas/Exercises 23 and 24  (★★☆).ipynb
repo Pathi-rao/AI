{
 "cells": [
  {
   "cell_type": "code",
   "execution_count": 3,
   "id": "comic-license",
   "metadata": {
    "ExecuteTime": {
     "end_time": "2021-03-23T12:04:31.473022Z",
     "start_time": "2021-03-23T12:04:31.443398Z"
    }
   },
   "outputs": [
    {
     "data": {
      "text/html": [
       "<div>\n",
       "<style scoped>\n",
       "    .dataframe tbody tr th:only-of-type {\n",
       "        vertical-align: middle;\n",
       "    }\n",
       "\n",
       "    .dataframe tbody tr th {\n",
       "        vertical-align: top;\n",
       "    }\n",
       "\n",
       "    .dataframe thead th {\n",
       "        text-align: right;\n",
       "    }\n",
       "</style>\n",
       "<table border=\"1\" class=\"dataframe\">\n",
       "  <thead>\n",
       "    <tr style=\"text-align: right;\">\n",
       "      <th></th>\n",
       "      <th>0</th>\n",
       "      <th>1</th>\n",
       "      <th>2</th>\n",
       "    </tr>\n",
       "  </thead>\n",
       "  <tbody>\n",
       "    <tr>\n",
       "      <th>0</th>\n",
       "      <td>0.446113</td>\n",
       "      <td>0.565564</td>\n",
       "      <td>0.983500</td>\n",
       "    </tr>\n",
       "    <tr>\n",
       "      <th>1</th>\n",
       "      <td>0.754862</td>\n",
       "      <td>0.493328</td>\n",
       "      <td>0.448125</td>\n",
       "    </tr>\n",
       "    <tr>\n",
       "      <th>2</th>\n",
       "      <td>0.999566</td>\n",
       "      <td>0.342656</td>\n",
       "      <td>0.890886</td>\n",
       "    </tr>\n",
       "    <tr>\n",
       "      <th>3</th>\n",
       "      <td>0.864406</td>\n",
       "      <td>0.522440</td>\n",
       "      <td>0.456561</td>\n",
       "    </tr>\n",
       "    <tr>\n",
       "      <th>4</th>\n",
       "      <td>0.913069</td>\n",
       "      <td>0.953524</td>\n",
       "      <td>0.334946</td>\n",
       "    </tr>\n",
       "  </tbody>\n",
       "</table>\n",
       "</div>"
      ],
      "text/plain": [
       "          0         1         2\n",
       "0  0.446113  0.565564  0.983500\n",
       "1  0.754862  0.493328  0.448125\n",
       "2  0.999566  0.342656  0.890886\n",
       "3  0.864406  0.522440  0.456561\n",
       "4  0.913069  0.953524  0.334946"
      ]
     },
     "execution_count": 3,
     "metadata": {},
     "output_type": "execute_result"
    }
   ],
   "source": [
    "# import the needed libraries and datasets\n",
    "import numpy as np\n",
    "import pandas as pd\n",
    "\n",
    "df = pd.DataFrame(np.random.random(size=(5, 3)))\n",
    "df"
   ]
  },
  {
   "cell_type": "markdown",
   "id": "after-lithuania",
   "metadata": {},
   "source": [
    "**23.** Given a DataFrame of numeric values, say\n",
    "```python\n",
    "df = pd.DataFrame(np.random.random(size=(5, 3))) # a 5x3 frame of float values\n",
    "```\n",
    "\n",
    "how do you subtract the row mean from each element in the row?"
   ]
  },
  {
   "cell_type": "code",
   "execution_count": 5,
   "id": "supported-bicycle",
   "metadata": {
    "ExecuteTime": {
     "end_time": "2021-03-23T12:12:26.475928Z",
     "start_time": "2021-03-23T12:12:26.452005Z"
    }
   },
   "outputs": [
    {
     "name": "stdout",
     "output_type": "stream",
     "text": [
      "          0         1         2\n",
      "0 -0.218946 -0.099495  0.318441\n",
      "1  0.189424 -0.072111 -0.117313\n",
      "2  0.255196 -0.401713  0.146517\n",
      "3  0.249937 -0.092029 -0.157908\n",
      "4  0.179222  0.219678 -0.398900\n"
     ]
    }
   ],
   "source": [
    "df_mean = df.mean(axis=1)\n",
    "print(df.sub(df_mean, axis=0))\n",
    "\n",
    "df.sub(df.mean(axis =1), axis=0)       #or in single line like this"
   ]
  },
  {
   "cell_type": "markdown",
   "id": "severe-count",
   "metadata": {},
   "source": [
    "**24.** Suppose you have DataFrame with 10 columns of real numbers, for example:\n",
    "\n",
    "```python\n",
    "df = pd.DataFrame(np.random.random(size=(5, 10)), columns=list('abcdefghij'))\n",
    "```\n",
    "Which column of numbers has the smallest sum? (Find that column's label.)"
   ]
  },
  {
   "cell_type": "code",
   "execution_count": 13,
   "id": "czech-superior",
   "metadata": {
    "ExecuteTime": {
     "end_time": "2021-03-23T12:35:46.055275Z",
     "start_time": "2021-03-23T12:35:46.038852Z"
    }
   },
   "outputs": [
    {
     "name": "stdout",
     "output_type": "stream",
     "text": [
      "a    3.262114\n",
      "b    3.132727\n",
      "c    1.972121\n",
      "d    2.913844\n",
      "e    2.044928\n",
      "f    2.326093\n",
      "g    2.480883\n",
      "h    2.698406\n",
      "i    1.977432\n",
      "j    2.820833\n",
      "dtype: float64\n",
      "1.9721208120237153\n"
     ]
    }
   ],
   "source": [
    "df = pd.DataFrame(np.random.random(size=(5, 10)), columns=list('abcdefghij'))\n",
    "col_sum = df.sum(axis = 0)\n",
    "print(col_sum)\n",
    "print(min(col_sum))"
   ]
  },
  {
   "cell_type": "code",
   "execution_count": null,
   "id": "metric-racing",
   "metadata": {},
   "outputs": [],
   "source": []
  }
 ],
 "metadata": {
  "kernelspec": {
   "display_name": "Python 3",
   "language": "python",
   "name": "python3"
  },
  "language_info": {
   "codemirror_mode": {
    "name": "ipython",
    "version": 3
   },
   "file_extension": ".py",
   "mimetype": "text/x-python",
   "name": "python",
   "nbconvert_exporter": "python",
   "pygments_lexer": "ipython3",
   "version": "3.8.8"
  }
 },
 "nbformat": 4,
 "nbformat_minor": 5
}
