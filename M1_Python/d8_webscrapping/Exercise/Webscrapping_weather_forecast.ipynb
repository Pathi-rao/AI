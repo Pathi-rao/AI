{
 "cells": [
  {
   "cell_type": "code",
   "execution_count": 175,
   "metadata": {
    "ExecuteTime": {
     "end_time": "2021-03-24T23:03:50.376095Z",
     "start_time": "2021-03-24T23:03:50.364331Z"
    },
    "cell_id": "00000-c99319d9-c9e7-433e-ae77-3e21f4e39067",
    "deepnote_cell_type": "code",
    "deepnote_to_be_reexecuted": false,
    "execution_millis": 6,
    "execution_start": 1616600011500,
    "source_hash": "574f156f",
    "tags": []
   },
   "outputs": [],
   "source": [
    "#Import the libraries\n",
    "\n",
    "import requests\n",
    "from bs4 import BeautifulSoup\n",
    "import numpy as np\n",
    "import pandas as pd\n",
    "import datetime\n",
    "from datetime import timedelta, date\n",
    "import re"
   ]
  },
  {
   "cell_type": "code",
   "execution_count": 158,
   "metadata": {
    "ExecuteTime": {
     "end_time": "2021-03-24T22:24:52.683404Z",
     "start_time": "2021-03-24T22:24:52.461401Z"
    },
    "cell_id": "00002-1049ca29-59a4-43d2-86d7-de4efea73d9f",
    "deepnote_cell_type": "code",
    "deepnote_to_be_reexecuted": false,
    "execution_millis": 61,
    "execution_start": 1616600025149,
    "source_hash": "549b73fa",
    "tags": []
   },
   "outputs": [],
   "source": [
    "#Get the webpage and parse it as html\n",
    "\n",
    "page = requests.get(\"https://forecast.weather.gov/MapClick.php?lat=37.777120000000025&lon=-122.41963999999996#.YFs1e6_7QdW\")\n",
    "soup = BeautifulSoup(page.content, 'html.parser')\n",
    "html = list(soup.children)[2]\n",
    "body = list(html.children)[3]        # Required data is nested here"
   ]
  },
  {
   "cell_type": "code",
   "execution_count": 159,
   "metadata": {
    "ExecuteTime": {
     "end_time": "2021-03-24T22:24:53.318734Z",
     "start_time": "2021-03-24T22:24:53.306415Z"
    },
    "cell_id": "00003-fde16340-078a-407d-ad20-fc4ff22fc641",
    "deepnote_cell_type": "code",
    "deepnote_to_be_reexecuted": false,
    "execution_millis": 3,
    "execution_start": 1616600052724,
    "source_hash": "cbe1fd33",
    "tags": []
   },
   "outputs": [],
   "source": [
    "#Retrieve the day names nested in body \n",
    "\n",
    "day_names = body.find_all('div', class_ = 'col-sm-2 forecast-label') #day names are in this tag\n",
    "list_of_days = []\n",
    "\n",
    "for each_day in day_names:\n",
    "    e = each_day.text                #'.text' returns the text inside the Tag\n",
    "    list_of_days.append(e)\n",
    "\n",
    "dict['Day'] = list_of_days\n",
    "#dict.to_csv('')                     #tansform to csv so that others can import and work on the file"
   ]
  },
  {
   "cell_type": "code",
   "execution_count": 199,
   "metadata": {
    "ExecuteTime": {
     "end_time": "2021-03-24T23:19:35.807165Z",
     "start_time": "2021-03-24T23:19:35.783664Z"
    },
    "cell_id": "00005-fa90adcb-fc67-40e5-9be1-35c0cc74bd86",
    "deepnote_cell_type": "code",
    "deepnote_to_be_reexecuted": false,
    "execution_millis": 4,
    "execution_start": 1616600107626,
    "source_hash": "c769f6e8",
    "tags": []
   },
   "outputs": [
    {
     "name": "stdout",
     "output_type": "stream",
     "text": [
      "['Partly cloudy, with a low around 48. West northwest wind 14 to 18 mph, with gusts as high as 32 mph. ', 'Sunny, with a high near 62. West wind 6 to 16 mph, with gusts as high as 26 mph. ', 'Clear, with a low around 46. West wind 9 to 14 mph becoming light west northwest. Winds could gust as high as 21 mph. ', 'Sunny, with a high near 68. North wind around 8 mph. ', 'Clear, with a low around 47. West wind 5 to 8 mph becoming calm  in the evening. ', 'Sunny, with a high near 70.', 'Clear, with a low around 48.', 'Sunny, with a high near 68.', 'Mostly clear, with a low around 48.', 'Sunny, with a high near 64.', 'Clear, with a low around 47.', 'Sunny, with a high near 69.', 'Clear, with a low around 49.', 'Sunny, with a high near 72.']\n"
     ]
    }
   ],
   "source": [
    "#Retrieve the weather summary nested inside the body and extract the necessary data\n",
    "\n",
    "day_summary = body.find_all('div', class_ = 'col-sm-10 forecast-text') #day summary is in this tag\n",
    "\n",
    "summary_list = []\n",
    "for summary in day_summary:\n",
    "    e = summary.text              \n",
    "    summary_list.append(e)\n",
    "print(summary_list)\n",
    "\n",
    "summary_string = ' '.join(summary_list) #.split('.')  #convert list to string to retrieve other information\n",
    "\n",
    "temp = re.findall(\"[0-9]\\d[.]\", summary_string) #regex searches for eg. '40.' pattern\n",
    "dict['Temperature'] = temp\n",
    "df = pd.DataFrame(dict)\n",
    "\n",
    "\n",
    "\n",
    "\n",
    "\n"
   ]
  },
  {
   "cell_type": "code",
   "execution_count": 196,
   "metadata": {
    "ExecuteTime": {
     "end_time": "2021-03-24T23:18:13.993794Z",
     "start_time": "2021-03-24T23:18:13.970896Z"
    },
    "cell_id": "00006-9f21b689-ee7d-4346-aba7-b43d11bef6a9",
    "deepnote_cell_type": "code",
    "deepnote_to_be_reexecuted": false,
    "execution_millis": 13,
    "execution_start": 1616600885038,
    "source_hash": "9a250090",
    "tags": []
   },
   "outputs": [
    {
     "name": "stdout",
     "output_type": "stream",
     "text": [
      "DatetimeIndex(['2021-03-25', '2021-03-25', '2021-03-26', '2021-03-26',\n",
      "               '2021-03-27', '2021-03-27', '2021-03-28', '2021-03-28',\n",
      "               '2021-03-29', '2021-03-29', '2021-03-30', '2021-03-30',\n",
      "               '2021-03-31', '2021-03-31'],\n",
      "              dtype='datetime64[ns]', freq=None)\n"
     ]
    }
   ],
   "source": [
    "#create a dynamic date format\n",
    "\n",
    "todays_date = date.today()\n",
    "final_date = todays_date + timedelta(days=6)\n",
    "delta = todays_date - final_date          # as timedelta\n",
    "date_range = pd.date_range(start=todays_date, end=final_date) #for a week\n",
    "date_range = date_range.repeat(2) #Each day has morning and evening\n",
    "print(date_range)"
   ]
  },
  {
   "cell_type": "code",
   "execution_count": null,
   "metadata": {},
   "outputs": [],
   "source": [
    "#Convert Fahrenheit to celcius \n",
    "def celcius(f):\n",
    "    return int(f*(5/9))"
   ]
  },
  {
   "cell_type": "code",
   "execution_count": null,
   "metadata": {
    "ExecuteTime": {
     "end_time": "2021-03-24T22:22:03.586695Z",
     "start_time": "2021-03-24T22:22:03.571748Z"
    },
    "cell_id": "00007-edd6e783-ab14-4e61-9b39-c0638804082b",
    "deepnote_cell_type": "code",
    "tags": []
   },
   "outputs": [],
   "source": [
    "#for day in day_container:\n",
    " #   x = day_container.find('p', class_ ='period-name')\n",
    "  #  my_dummy_list.append(x)\n",
    "#print(my_dummy_list)\n",
    "x = day_container.find_all('p', class_ ='period-name')\n",
    "#print(x)\n",
    "\n",
    "s = str(x[0])\n",
    "s = s.split(\"<br/><br/>\")"
   ]
  },
  {
   "cell_type": "code",
   "execution_count": null,
   "metadata": {
    "ExecuteTime": {
     "end_time": "2021-03-24T22:22:03.610566Z",
     "start_time": "2021-03-24T22:22:03.590867Z"
    },
    "cell_id": "00008-ea35e258-a296-4b9b-ba18-5c955af4f634",
    "deepnote_cell_type": "code",
    "deepnote_to_be_reexecuted": false,
    "execution_millis": 0,
    "execution_start": 1616601031038,
    "source_hash": "bd3d49a0",
    "tags": []
   },
   "outputs": [],
   "source": [
    "\n",
    "\n",
    "\n",
    "period_name = body.find('p', class_ = 'period-name')\n",
    "period_name.text\n",
    "\n"
   ]
  },
  {
   "cell_type": "code",
   "execution_count": null,
   "metadata": {
    "ExecuteTime": {
     "end_time": "2021-03-24T22:22:03.634785Z",
     "start_time": "2021-03-24T22:22:03.617603Z"
    },
    "cell_id": "00009-2bfc3164-9fda-48c6-8146-eb986807439d",
    "deepnote_cell_type": "code",
    "tags": []
   },
   "outputs": [],
   "source": [
    "#body1 = list(body.children)[1]\n",
    "\n",
    "#print(body1)\n"
   ]
  },
  {
   "cell_type": "code",
   "execution_count": null,
   "metadata": {
    "ExecuteTime": {
     "end_time": "2021-03-24T22:22:03.650280Z",
     "start_time": "2021-03-24T22:22:03.641630Z"
    },
    "cell_id": "00010-f9349535-846f-401f-8d08-11c9168ef6f6",
    "deepnote_cell_type": "code",
    "tags": []
   },
   "outputs": [],
   "source": [
    "#target parents\n",
    "#go deeper into childen\n",
    "#find p element or relevant class\n",
    "#target 7\n",
    "#target temperature\n",
    "#target summary\n",
    "#save into a list\n",
    "#save into a dictionary?"
   ]
  },
  {
   "cell_type": "code",
   "execution_count": null,
   "metadata": {
    "ExecuteTime": {
     "end_time": "2021-03-24T22:22:03.667972Z",
     "start_time": "2021-03-24T22:22:03.656359Z"
    },
    "cell_id": "00011-9f85e85f-c4e8-4260-94c4-a3ac49066ef2",
    "deepnote_cell_type": "code",
    "tags": []
   },
   "outputs": [],
   "source": [
    "#{\"day1\":[\"sunday\", \"54\", 'today was a great sunny day '], \"day2\":[\"monday\", \"54\", 'today was a great sunny day ']}"
   ]
  },
  {
   "cell_type": "code",
   "execution_count": null,
   "metadata": {
    "ExecuteTime": {
     "end_time": "2021-03-24T22:22:03.682921Z",
     "start_time": "2021-03-24T22:22:03.673170Z"
    },
    "cell_id": "00012-a00d58e2-c2e6-4f8e-b1e0-9ac63187ead5",
    "deepnote_cell_type": "code",
    "tags": []
   },
   "outputs": [],
   "source": [
    "#load dict into pandas\n",
    "# create column names if needed"
   ]
  },
  {
   "cell_type": "markdown",
   "metadata": {
    "created_in_deepnote_cell": true,
    "deepnote_cell_type": "markdown",
    "tags": []
   },
   "source": [
    "<a style='text-decoration:none;line-height:16px;display:flex;color:#5B5B62;padding:10px;justify-content:end;' href='https://deepnote.com?utm_source=created-in-deepnote-cell&projectId=4b76008c-93f2-488a-b8d9-c179cb7406d1' target=\"_blank\">\n",
    "<img style='display:inline;max-height:16px;margin:0px;margin-right:7.5px;' src='data:image/svg+xml;base64,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' > </img>\n",
    "Created in <span style='font-weight:600;margin-left:4px;'>Deepnote</span></a>"
   ]
  }
 ],
 "metadata": {
  "deepnote": {},
  "deepnote_execution_queue": [],
  "deepnote_notebook_id": "2b9d4798-0ba4-4107-b948-e5d015b257e8",
  "kernelspec": {
   "display_name": "Python 3",
   "language": "python",
   "name": "python3"
  },
  "language_info": {
   "codemirror_mode": {
    "name": "ipython",
    "version": 3
   },
   "file_extension": ".py",
   "mimetype": "text/x-python",
   "name": "python",
   "nbconvert_exporter": "python",
   "pygments_lexer": "ipython3",
   "version": "3.8.8"
  }
 },
 "nbformat": 4,
 "nbformat_minor": 2
}
