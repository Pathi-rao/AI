{
 "cells": [
  {
   "cell_type": "code",
   "execution_count": 74,
   "id": "divine-genome",
   "metadata": {
    "ExecuteTime": {
     "end_time": "2021-03-26T13:47:19.379254Z",
     "start_time": "2021-03-26T13:47:19.367487Z"
    }
   },
   "outputs": [],
   "source": [
    "#import the libraries\n",
    "\n",
    "from bs4 import BeautifulSoup\n",
    "import requests\n",
    "import numpy as np\n",
    "import pandas as pd\n",
    "import datetime\n",
    "from datetime import timedelta, date\n",
    "import re"
   ]
  },
  {
   "cell_type": "code",
   "execution_count": 75,
   "id": "architectural-certification",
   "metadata": {
    "ExecuteTime": {
     "end_time": "2021-03-26T13:47:20.909619Z",
     "start_time": "2021-03-26T13:47:19.387539Z"
    }
   },
   "outputs": [],
   "source": [
    "#Get the webpage and parse it as html\n",
    "\n",
    "page = requests.get(\"https://www.imdb.com/search/title/?title_type=feature&num_votes=25000,&genres=sci-fi&sort=user_rating,desc&start=51&ref_=adv_nxt\")\n",
    "soup = BeautifulSoup(page.content, 'html.parser')\n",
    "#print(soup)"
   ]
  },
  {
   "cell_type": "code",
   "execution_count": 76,
   "id": "controlling-beach",
   "metadata": {
    "ExecuteTime": {
     "end_time": "2021-03-26T13:47:20.973067Z",
     "start_time": "2021-03-26T13:47:20.915705Z"
    }
   },
   "outputs": [
    {
     "name": "stdout",
     "output_type": "stream",
     "text": [
      "['X-Men: Zukunft ist Vergangenheit', 'Edge of Tomorrow - Live. Die. Repeat', 'Moon', 'District 9', 'Star Trek', 'The Man from Earth', 'Iron Man', 'Cowboy Bebop - Der Film', 'Children of Men', 'Brazil', 'King Kong und die weiße Frau', 'Star Wars: Rogue One', 'The First Avenger: Civil War', 'Baymax - Riesiges Robowabohu', 'Alles eine Frage der Zeit', 'Avatar - Aufbruch nach Pandora', 'Mr. Nobody', 'Serenity: Flucht in neue Welten', 'Gattaca', 'Zurück in die Zukunft II', 'Predator', 'Ghostbusters - Die Geisterjäger', 'E.T. - Der Außerirdische', 'Der phantastische Planet', 'Frankensteins Braut', 'Frankenstein', 'Deadpool 2', 'The Return of the First Avenger', 'Gravity', 'Star Trek Into Darkness', 'X-Men: Erste Entscheidung', 'Paprika', 'Das Mädchen, das durch die Zeit sprang', 'Ex Machina', 'Vampire Hunter D: Bloodlust', 'Virtual Nightmare - Open Your Eyes', 'Das fünfte Element', 'Star Trek II: Der Zorn des Khan', 'Die Invasion der Körperfresser', 'Der Tag, an dem die Erde stillstand', 'Der Unsichtbare', 'Guardians of the Galaxy Vol. 2', 'Die Unglaublichen 2', 'Who Am I: Kein System ist sicher', 'Planet der Affen: Revolution', 'Planet der Affen: Prevolution', 'Zombieland', 'Watchmen: Die Wächter', 'Butterfly Effect', '28 Tage später']\n"
     ]
    }
   ],
   "source": [
    "#Get the movie names#\n",
    "\n",
    "all_movies = soup.find_all('div', class_= 'lister-item mode-advanced')\n",
    "fifty_movies = all_movies[0:50]\n",
    "\n",
    "movie_names = []\n",
    "for each_movie in fifty_movies:\n",
    "    movie_name = each_movie.h3.a.text\n",
    "    movie_names.append(movie_name)\n",
    "    \n",
    "print(movie_names)"
   ]
  },
  {
   "cell_type": "code",
   "execution_count": 77,
   "id": "atmospheric-romania",
   "metadata": {
    "ExecuteTime": {
     "end_time": "2021-03-26T13:47:21.034114Z",
     "start_time": "2021-03-26T13:47:20.979108Z"
    }
   },
   "outputs": [
    {
     "name": "stdout",
     "output_type": "stream",
     "text": [
      "['8.8', '8.7', '8.7', '8.6', '8.6', '8.5', '8.5', '8.5', '8.4', '8.4', '8.4', '8.4', '8.4', '8.3', '8.3', '8.3', '8.3', '8.3', '8.3', '8.3', '8.2', '8.2', '8.1', '8.1', '8.1', '8.1', '8.1', '8.1', '8.1', '8.1', '8.1', '8.0', '8.0', '8.0', '8.0', '8.0', '8.0', '8.0', '8.0', '8.0', '8.0', '8.0', '8.0', '8.0', '8.0', '8.0', '7.9', '7.9', '7.9', '7.9']\n"
     ]
    }
   ],
   "source": [
    "#Get the rating\n",
    "\n",
    "movie_rating = soup.find_all('div', class_ = 'inline-block ratings-imdb-rating')\n",
    "movie_rating_list = []\n",
    "for each_movie in movie_rating:\n",
    "    e = each_movie.text\n",
    "    movie_rating_list.append(e)\n",
    "\n",
    "movie_rating_string = ' '.join(movies_rating_list)  \n",
    "movie_rating = re.findall(\"[\\d][.][\\d]\", movie_rating_string)\n",
    "movie_rating = movie_rating[0:50]\n",
    "print(movie_rating)"
   ]
  },
  {
   "cell_type": "code",
   "execution_count": 78,
   "id": "handmade-religion",
   "metadata": {
    "ExecuteTime": {
     "end_time": "2021-03-26T13:47:21.116078Z",
     "start_time": "2021-03-26T13:47:21.040083Z"
    }
   },
   "outputs": [
    {
     "name": "stdout",
     "output_type": "stream",
     "text": [
      "['2014', '2014', '2009', '2009', '2009', '2007', '2008', '2001', '2006', '1985', '1933', '2016', '2016', '2014', '2013', '2009', '2009', '2005', '1997', '1989', '1987', '1984', '1982', '1973', '1935', '1931', '2018', '2014', '2013', '2013', '2011', '2006', '2006', '2014', '2000', '1997', '1997', '1982', '1956', '1951', '1933', '2017', '2018', '2014', '2014', '2011', '2009', '2009', '2004', '2002']\n"
     ]
    }
   ],
   "source": [
    "#Get the movie year\n",
    "\n",
    "year = soup.find_all('span', class_= 'lister-item-year text-muted unbold')\n",
    "\n",
    "movies_year_list = []\n",
    "for each_movie in year:\n",
    "    e = each_movie.text\n",
    "    movies_year_list.append(e)\n",
    "\n",
    "movie_year_string = ' '.join(movies_year_list)  \n",
    "movie_year = re.findall(\"[0-9]+\", movie_year_string)\n",
    "print(movie_year)                                    #cleaned movie year"
   ]
  },
  {
   "cell_type": "code",
   "execution_count": 79,
   "id": "regulation-glossary",
   "metadata": {
    "ExecuteTime": {
     "end_time": "2021-03-26T13:47:21.205396Z",
     "start_time": "2021-03-26T13:47:21.118361Z"
    }
   },
   "outputs": [
    {
     "name": "stdout",
     "output_type": "stream",
     "text": [
      "['132', '113', '97', '112', '127', '87', '126', '115', '109', '132', '100', '133', '147', '102', '123', '162', '141', '119', '106', '108', '107', '105', '115', '72', '75', '70', '119', '136', '91', '132', '131', '90', '98', '108', '103', '119', '126', '113', '80', '85', '71', '136', '118', '102', '130', '105', '88', '162', '113', '113']\n"
     ]
    }
   ],
   "source": [
    "#Get the duration\n",
    "\n",
    "runtime = soup.find_all('span', class_ = 'runtime')\n",
    "\n",
    "movies_runtime_list = []\n",
    "for each_movie in runtime:\n",
    "    e = each_movie.text\n",
    "    movies_runtime_list.append(e)\n",
    "\n",
    "movie_runtime_string = ' '.join(movies_runtime_list)  \n",
    "movie_runtime = re.findall(\"[0-9]+\", movie_runtime_string)\n",
    "print(movie_runtime)                                        #cleaned movie runtime\n"
   ]
  },
  {
   "cell_type": "code",
   "execution_count": 80,
   "id": "abstract-stocks",
   "metadata": {
    "ExecuteTime": {
     "end_time": "2021-03-26T13:47:21.217367Z",
     "start_time": "2021-03-26T13:47:21.205396Z"
    }
   },
   "outputs": [],
   "source": [
    "#Get the director name\n",
    "\n",
    "#director = soup.find_all('div', class_ = 'lister-item-content')\n",
    "\n",
    "\n",
    "#movie = director[0]\n",
    "#movie = movie.a.href.text\n",
    "#a = movie.find_all('p', class_ = 'director')\n",
    "#print(a)\n",
    "#movie_names = []\n",
    "#for each_movie in fifty_movies:\n",
    " #   movie_name = each_movie.h3.a.text\n",
    "  #  movie_names.append(movie_name)\n",
    "\n",
    "\n",
    "\n"
   ]
  },
  {
   "cell_type": "code",
   "execution_count": 81,
   "id": "adopted-fields",
   "metadata": {
    "ExecuteTime": {
     "end_time": "2021-03-26T13:47:21.244616Z",
     "start_time": "2021-03-26T13:47:21.223460Z"
    }
   },
   "outputs": [],
   "source": [
    "#create the dataframe\n",
    "\n",
    "df = pd.DataFrame({'Movie':movie_names, 'Rating':movie_rating, 'Year':movie_year,'Runtime':movie_runtime}) \n",
    "#df = pd.read_csv(\"ProjectWork.csv\")\n",
    "#df[\"Movie\"] = movie_names\n",
    "#df[\"Rating\"] = movie_rating\n",
    "#df[\"Year\"] = movie_year\n",
    "#df[\"Runtime\"] = movie_runtime\n",
    "#df.to_csv(\"ProjectWork.csv\", index=False)\n",
    "df\n",
    "\n",
    "df.to_csv('Movies50_100.csv', index=False) #write the df to a csv file"
   ]
  }
 ],
 "metadata": {
  "kernelspec": {
   "display_name": "Python 3",
   "language": "python",
   "name": "python3"
  },
  "language_info": {
   "codemirror_mode": {
    "name": "ipython",
    "version": 3
   },
   "file_extension": ".py",
   "mimetype": "text/x-python",
   "name": "python",
   "nbconvert_exporter": "python",
   "pygments_lexer": "ipython3",
   "version": "3.8.8"
  }
 },
 "nbformat": 4,
 "nbformat_minor": 5
}
