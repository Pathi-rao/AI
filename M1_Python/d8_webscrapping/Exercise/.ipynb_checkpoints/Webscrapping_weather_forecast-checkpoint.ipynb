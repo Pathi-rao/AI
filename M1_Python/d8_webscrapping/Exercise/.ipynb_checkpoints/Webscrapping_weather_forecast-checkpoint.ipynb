{
 "cells": [
  {
   "cell_type": "code",
   "execution_count": 2,
   "metadata": {
    "ExecuteTime": {
     "end_time": "2021-03-25T07:41:30.978794Z",
     "start_time": "2021-03-25T07:41:28.933342Z"
    },
    "cell_id": "00000-c99319d9-c9e7-433e-ae77-3e21f4e39067",
    "deepnote_cell_type": "code",
    "deepnote_to_be_reexecuted": false,
    "execution_millis": 6,
    "execution_start": 1616600011500,
    "source_hash": "574f156f",
    "tags": []
   },
   "outputs": [],
   "source": [
    "#Import the libraries\n",
    "\n",
    "import requests\n",
    "from bs4 import BeautifulSoup\n",
    "import numpy as np\n",
    "import pandas as pd\n",
    "import datetime\n",
    "from datetime import timedelta, date\n",
    "import re"
   ]
  },
  {
   "cell_type": "code",
   "execution_count": 4,
   "metadata": {
    "ExecuteTime": {
     "end_time": "2021-03-25T07:41:36.654736Z",
     "start_time": "2021-03-25T07:41:36.557804Z"
    },
    "cell_id": "00002-1049ca29-59a4-43d2-86d7-de4efea73d9f",
    "deepnote_cell_type": "code",
    "deepnote_to_be_reexecuted": false,
    "execution_millis": 61,
    "execution_start": 1616600025149,
    "source_hash": "549b73fa",
    "tags": []
   },
   "outputs": [],
   "source": [
    "#Get the webpage and parse it as html\n",
    "\n",
    "page = requests.get(\"https://forecast.weather.gov/MapClick.php?lat=37.777120000000025&lon=-122.41963999999996#.YFs1e6_7QdW\")\n",
    "soup = BeautifulSoup(page.content, 'html.parser')\n",
    "html = list(soup.children)[2]\n",
    "body = list(html.children)[3]        # Required data is nested here"
   ]
  },
  {
   "cell_type": "code",
   "execution_count": 7,
   "metadata": {
    "ExecuteTime": {
     "end_time": "2021-03-25T07:42:12.289198Z",
     "start_time": "2021-03-25T07:42:12.268253Z"
    },
    "cell_id": "00003-fde16340-078a-407d-ad20-fc4ff22fc641",
    "deepnote_cell_type": "code",
    "deepnote_to_be_reexecuted": false,
    "execution_millis": 3,
    "execution_start": 1616600052724,
    "source_hash": "cbe1fd33",
    "tags": []
   },
   "outputs": [
    {
     "name": "stdout",
     "output_type": "stream",
     "text": [
      "['Overnight', 'Thursday', 'Thursday Night', 'Friday', 'Friday Night', 'Saturday', 'Saturday Night', 'Sunday', 'Sunday Night', 'Monday', 'Monday Night', 'Tuesday', 'Tuesday Night', 'Wednesday']\n"
     ]
    }
   ],
   "source": [
    "#Retrieve the day names nested in body \n",
    "\n",
    "day_names = body.find_all('div', class_ = 'col-sm-2 forecast-label') #day names are in this tag\n",
    "list_of_days = []\n",
    "\n",
    "for each_day in day_names:\n",
    "    e = each_day.text                #'.text' returns the text inside the Tag\n",
    "    list_of_days.append(e)\n",
    "print(list_of_days)\n",
    "\n",
    "#dict['Day'] = list_of_days\n",
    "#dict.to_csv('')                     #tansform to csv so that others can import and work on the file"
   ]
  },
  {
   "cell_type": "code",
   "execution_count": 30,
   "metadata": {
    "ExecuteTime": {
     "end_time": "2021-03-25T10:08:06.256257Z",
     "start_time": "2021-03-25T10:08:06.238341Z"
    },
    "cell_id": "00005-fa90adcb-fc67-40e5-9be1-35c0cc74bd86",
    "deepnote_cell_type": "code",
    "deepnote_to_be_reexecuted": false,
    "execution_millis": 4,
    "execution_start": 1616600107626,
    "source_hash": "c769f6e8",
    "tags": []
   },
   "outputs": [
    {
     "name": "stdout",
     "output_type": "stream",
     "text": [
      "['48', '62', '46', '68', '47', '70', '48', '68', '48', '64', '47', '69', '49', '72']\n"
     ]
    }
   ],
   "source": [
    "#Retrieve the weather summary nested inside the body and find temperatures\n",
    "\n",
    "day_summary = body.find_all('div', class_ = 'col-sm-10 forecast-text') #day summary is in this tag\n",
    "\n",
    "summary_list = []\n",
    "for summary in day_summary:\n",
    "    e = summary.text              \n",
    "    summary_list.append(e)\n",
    "    \n",
    "df = pd.DataFrame(summary_list)     \n",
    "\n",
    "summary_string = ' '.join(summary_list)              #convert list to string to retrieve other information\n",
    "temp = re.findall(\"[0-9]\\d[.]\", summary_string)      #regex searches the temp. Eg. '40.' pattern\n",
    "temp = ' '.join(temp).replace('.','').split()        #remove the period at the end of each number\n"
   ]
  },
  {
   "cell_type": "code",
   "execution_count": 48,
   "metadata": {
    "ExecuteTime": {
     "end_time": "2021-03-25T10:47:01.503394Z",
     "start_time": "2021-03-25T10:47:01.499891Z"
    }
   },
   "outputs": [],
   "source": [
    "#Convert Fahrenheit to celcius \n",
    "temp_celcius = []\n",
    "def celcius(temp):\n",
    "    for each_temp in temp:\n",
    "        each_temp = int(each_temp)*(5/9)         #converting to int type as it gives an error for float\n",
    "        new_temp = round(each_temp)\n",
    "        temp_celcius.append(f'{new_temp} °C')\n",
    "    return temp_celcius\n",
    "#celcius(temp)"
   ]
  },
  {
   "cell_type": "code",
   "execution_count": 49,
   "metadata": {
    "ExecuteTime": {
     "end_time": "2021-03-25T10:47:16.463475Z",
     "start_time": "2021-03-25T10:47:16.443534Z"
    },
    "cell_id": "00006-9f21b689-ee7d-4346-aba7-b43d11bef6a9",
    "deepnote_cell_type": "code",
    "deepnote_to_be_reexecuted": false,
    "execution_millis": 13,
    "execution_start": 1616600885038,
    "source_hash": "9a250090",
    "tags": []
   },
   "outputs": [],
   "source": [
    "#create a dynamic date format\n",
    "\n",
    "todays_date = date.today()\n",
    "final_date = todays_date + timedelta(days=6)\n",
    "delta = todays_date - final_date                     # make a delta for range\n",
    "date_range = pd.date_range(start=todays_date, end=final_date) \n",
    "date_range = date_range.repeat(2)                    #Each day has morning and evening\n",
    "#print(date_range)"
   ]
  },
  {
   "cell_type": "code",
   "execution_count": null,
   "metadata": {},
   "outputs": [],
   "source": []
  }
 ],
 "metadata": {
  "deepnote": {},
  "deepnote_execution_queue": [],
  "deepnote_notebook_id": "2b9d4798-0ba4-4107-b948-e5d015b257e8",
  "kernelspec": {
   "display_name": "Python 3",
   "language": "python",
   "name": "python3"
  },
  "language_info": {
   "codemirror_mode": {
    "name": "ipython",
    "version": 3
   },
   "file_extension": ".py",
   "mimetype": "text/x-python",
   "name": "python",
   "nbconvert_exporter": "python",
   "pygments_lexer": "ipython3",
   "version": "3.8.5"
  }
 },
 "nbformat": 4,
 "nbformat_minor": 2
}
