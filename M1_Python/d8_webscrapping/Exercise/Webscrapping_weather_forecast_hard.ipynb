{
 "cells": [
  {
   "cell_type": "code",
   "execution_count": 1,
   "metadata": {
    "ExecuteTime": {
     "end_time": "2021-03-26T07:36:17.663104Z",
     "start_time": "2021-03-26T07:36:17.645916Z"
    },
    "cell_id": "00000-d6d9ac8a-e1bd-4ed1-814a-51beb8244e3c",
    "deepnote_cell_type": "code",
    "deepnote_to_be_reexecuted": false,
    "execution_millis": 4108,
    "execution_start": 1616684485830,
    "source_hash": "6c3283c9",
    "tags": []
   },
   "outputs": [],
   "source": [
    "#!pip install bs4==0.0.1 #if running in virtual notebook "
   ]
  },
  {
   "cell_type": "code",
   "execution_count": 23,
   "metadata": {
    "ExecuteTime": {
     "end_time": "2021-03-26T07:58:20.481180Z",
     "start_time": "2021-03-26T07:58:20.475883Z"
    },
    "cell_id": "00000-be5448d8-9de5-4054-bb96-d36775235a8e",
    "deepnote_cell_type": "code",
    "deepnote_to_be_reexecuted": false,
    "execution_millis": 97,
    "execution_start": 1616684489946,
    "source_hash": "f9013310",
    "tags": []
   },
   "outputs": [],
   "source": [
    "#Import the libraries\n",
    "\n",
    "from bs4 import BeautifulSoup\n",
    "import requests\n",
    "import numpy as np\n",
    "import pandas as pd\n",
    "import datetime\n",
    "from datetime import timedelta, date\n",
    "import re"
   ]
  },
  {
   "cell_type": "code",
   "execution_count": 24,
   "metadata": {
    "ExecuteTime": {
     "end_time": "2021-03-26T07:58:23.977283Z",
     "start_time": "2021-03-26T07:58:22.964845Z"
    },
    "cell_id": "00001-0131f0b7-7330-4a10-9116-e55445e34b95",
    "deepnote_cell_type": "code",
    "deepnote_to_be_reexecuted": false,
    "execution_millis": 751,
    "execution_start": 1616684490053,
    "source_hash": "c79711c8",
    "tags": []
   },
   "outputs": [],
   "source": [
    "#Get the webpage and parse it as html\n",
    "\n",
    "page = requests.get(\"https://weather.com/weather/tenday/l/San+Francisco+CA?canonicalCityId=dfdaba8cbe3a4d12a8796e1f7b1ccc7174b4b0a2d5ddb1c8566ae9f154fa638c\")\n",
    "soup = BeautifulSoup(page.content, 'html.parser')"
   ]
  },
  {
   "cell_type": "code",
   "execution_count": 46,
   "metadata": {
    "ExecuteTime": {
     "end_time": "2021-03-26T08:55:42.675829Z",
     "start_time": "2021-03-26T08:55:42.654992Z"
    },
    "cell_id": "00003-a356b9ed-d7d1-4403-ab62-f30b4c581396",
    "deepnote_cell_type": "code",
    "deepnote_to_be_reexecuted": false,
    "execution_millis": 13,
    "execution_start": 1616687987496,
    "source_hash": "250aafa5",
    "tags": []
   },
   "outputs": [
    {
     "name": "stdout",
     "output_type": "stream",
     "text": [
      "[' Night']\n",
      "['Night', 'Day', 'Night', 'Day', 'Night', 'Day', 'Night', 'Day', 'Night', 'Day']\n"
     ]
    }
   ],
   "source": [
    "#Retrieve the day names nested in body \n",
    "\n",
    "day_names = soup.find_all('h3', class_ = 'DailyContent--daypartName--3G5Y8') #day names are in this tag\n",
    "\n",
    "list_of_days = []\n",
    "for each_day in day_names:\n",
    "    e = each_day.text                #'.text' returns the text inside the Tag\n",
    "    list_of_days.append(e)\n",
    "\n",
    "list_of_days = list_of_days[0:10]    #only getting the first 10 days details\n",
    "\n",
    "#First pattern for the DATE\n",
    "date_string = ' '.join(list_of_days)  \n",
    "date = re.findall(\"[A-Z][a-z]+ [0-9]+\", date_string) #use regex to filter the date \n",
    "\n",
    "#Second pattern for Day and Night. \n",
    "first_day = list_of_days[0]           #check for first day and create a list based on that\n",
    "day_checker =re.findall(\" [A-Z][a-z]+\",first_day)\n",
    "print(day_checker)\n",
    "\n",
    "if ' Night' in day_checker:\n",
    "    type_of_day = ['Night','Day']*5   \n",
    "elif ' Day' in day_checker:\n",
    "    type_of_day = ['Day','Night']*5   #Day and Night is a repetitive pattern, so creating it is easy rather than extracting it \n",
    "print(type_of_day)"
   ]
  },
  {
   "cell_type": "code",
   "execution_count": 5,
   "metadata": {
    "ExecuteTime": {
     "end_time": "2021-03-26T07:36:23.558717Z",
     "start_time": "2021-03-26T07:36:23.505455Z"
    },
    "cell_id": "00004-98698962-e2fa-4692-bef2-b0f8d5f30304",
    "deepnote_cell_type": "code",
    "deepnote_to_be_reexecuted": false,
    "execution_millis": 25,
    "execution_start": 1616687283799,
    "source_hash": "e230d137",
    "tags": []
   },
   "outputs": [
    {
     "name": "stdout",
     "output_type": "stream",
     "text": [
      "['45', '63', '42', '63', '44', '59', '47', '62', '48', '67', '51', '71', '50', '69', '47', '63', '46', '60', '45', '58', '45', '59', '44', '58', '44', '59', '44', '58', '44']\n"
     ]
    }
   ],
   "source": [
    "#Retrieve the weather summary nested inside the body and find temperatures\n",
    "\n",
    "day_temp = soup.find_all('div', class_ = 'DetailsSummary--temperature--3FMlw') \n",
    "\n",
    "temp_list = []\n",
    "for summary in day_temp:\n",
    "    e = summary.text              \n",
    "    temp_list.append(e)\n",
    "\n",
    "#Extract the temperature by searching for a regex pattern and filter it further\n",
    "temp_string = ' '.join(temp_list)            \n",
    "temp = re.findall(\"([0-9]\\d[°])\", temp_string)      \n",
    "temp = ' '.join(temp).replace('°',' ').split()     \n",
    "print(temp)\n"
   ]
  },
  {
   "cell_type": "code",
   "execution_count": 6,
   "metadata": {
    "ExecuteTime": {
     "end_time": "2021-03-26T07:36:23.582762Z",
     "start_time": "2021-03-26T07:36:23.564875Z"
    },
    "cell_id": "00006-94c05eb6-2e14-4b0c-9a35-64d4641b5833",
    "deepnote_cell_type": "code",
    "deepnote_to_be_reexecuted": false,
    "execution_millis": 16,
    "execution_start": 1616686647681,
    "source_hash": "c6a7766d",
    "tags": []
   },
   "outputs": [],
   "source": [
    "#Convert Fahrenheit to celcius \n",
    "\n",
    "temp_celcius = []\n",
    "def celcius(temp):\n",
    "    for each_temp in temp:\n",
    "        each_temp = (int(each_temp)- 32) * (5/9)    #converting to int type as it gives an error for float\n",
    "        new_temp = round(each_temp)\n",
    "        temp_celcius.append(f'{new_temp} °C')\n",
    "    return temp_celcius\n",
    "celcius(temp)\n",
    "\n",
    "temp_celcius = temp_celcius[0:10]"
   ]
  },
  {
   "cell_type": "code",
   "execution_count": 7,
   "metadata": {
    "ExecuteTime": {
     "end_time": "2021-03-26T07:36:23.610717Z",
     "start_time": "2021-03-26T07:36:23.582762Z"
    },
    "cell_id": "00005-d1c833f3-57d3-4da7-87f6-576890e61608",
    "deepnote_cell_type": "code",
    "deepnote_to_be_reexecuted": false,
    "execution_millis": 25,
    "execution_start": 1616686944993,
    "source_hash": "d04a1a5f",
    "tags": []
   },
   "outputs": [],
   "source": [
    "#Extracting the summary description\n",
    "summary = soup.find_all('p', class_ = 'DailyContent--narrative--3AcXd')\n",
    "\n",
    "summary_list = []\n",
    "for summary in summary:\n",
    "    e = summary.text              \n",
    "    summary_list.append(e)\n",
    "\n",
    "summary_list = summary_list[0:10]"
   ]
  },
  {
   "cell_type": "code",
   "execution_count": 50,
   "metadata": {
    "ExecuteTime": {
     "end_time": "2021-03-26T08:58:18.650779Z",
     "start_time": "2021-03-26T08:58:18.634730Z"
    },
    "cell_id": "00007-1a79665a-0da5-4c24-b746-4087ef70e0d9",
    "deepnote_cell_type": "code",
    "deepnote_to_be_reexecuted": false,
    "execution_millis": 21,
    "execution_start": 1616687877069,
    "source_hash": "db685f2",
    "tags": []
   },
   "outputs": [
    {
     "name": "stdout",
     "output_type": "stream",
     "text": [
      "     Date    Day   Temp                                            summary\n",
      "0  Thu 25  Night   7 °C  Clear skies. Low around 45F. Winds N at 5 to 1...\n",
      "1  Fri 26    Day  17 °C  Sunny. High 63F. NNE winds shifting to WNW at ...\n",
      "2  Fri 26  Night   6 °C           Clear. Low 42F. Winds SW at 5 to 10 mph.\n",
      "3  Sat 27    Day  17 °C  Mainly sunny. High 63F. SSE winds shifting to ...\n",
      "4  Sat 27  Night   7 °C  A mostly clear sky. Low 44F. Winds SW at 5 to ...\n",
      "5  Sun 28    Day  15 °C  Sunshine along with some cloudy intervals. Hig...\n",
      "6  Sun 28  Night   8 °C  A few clouds from time to time. Low 47F. Winds...\n",
      "7  Mon 29    Day  17 °C  A mainly sunny sky. High 62F. Winds WNW at 10 ...\n",
      "8  Mon 29  Night   9 °C  A mostly clear sky. Low 48F. Winds NNW at 10 t...\n",
      "9  Tue 30    Day  19 °C  A mainly sunny sky. High 67F. Winds N at 10 to...\n"
     ]
    }
   ],
   "source": [
    "#creating the dataf\n",
    "\n",
    "df = pd.DataFrame({'Date':date,'Day':type_of_day,'Temp':temp_celcius,'summary':summary_list}) \n",
    "print(df)\n",
    "\n",
    "#df.to_csv('Weather_forecast_Hard.csv', index=False) #write the df to a csv file"
   ]
  }
 ],
 "metadata": {
  "deepnote": {},
  "deepnote_execution_queue": [],
  "deepnote_notebook_id": "f734bdcd-dfeb-4a43-9478-afd9ce048361",
  "kernelspec": {
   "display_name": "Python 3",
   "language": "python",
   "name": "python3"
  },
  "language_info": {
   "codemirror_mode": {
    "name": "ipython",
    "version": 3
   },
   "file_extension": ".py",
   "mimetype": "text/x-python",
   "name": "python",
   "nbconvert_exporter": "python",
   "pygments_lexer": "ipython3",
   "version": "3.9.1"
  }
 },
 "nbformat": 4,
 "nbformat_minor": 2
}
