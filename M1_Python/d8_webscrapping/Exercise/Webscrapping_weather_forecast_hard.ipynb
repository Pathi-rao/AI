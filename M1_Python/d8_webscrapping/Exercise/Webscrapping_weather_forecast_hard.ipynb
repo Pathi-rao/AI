{
 "cells": [
  {
   "cell_type": "code",
   "execution_count": 1,
   "metadata": {
    "ExecuteTime": {
     "end_time": "2021-06-10T12:15:19.145838Z",
     "start_time": "2021-06-10T12:15:19.128852Z"
    },
    "cell_id": "00000-d6d9ac8a-e1bd-4ed1-814a-51beb8244e3c",
    "deepnote_cell_type": "code",
    "deepnote_to_be_reexecuted": false,
    "execution_millis": 4108,
    "execution_start": 1616684485830,
    "source_hash": "6c3283c9",
    "tags": []
   },
   "outputs": [],
   "source": [
    "#!pip install bs4==0.0.1 #if running in virtual notebook "
   ]
  },
  {
   "cell_type": "code",
   "execution_count": 2,
   "metadata": {
    "ExecuteTime": {
     "end_time": "2021-06-10T12:15:19.551298Z",
     "start_time": "2021-06-10T12:15:19.147802Z"
    },
    "cell_id": "00000-be5448d8-9de5-4054-bb96-d36775235a8e",
    "deepnote_cell_type": "code",
    "deepnote_to_be_reexecuted": false,
    "execution_millis": 97,
    "execution_start": 1616684489946,
    "source_hash": "f9013310",
    "tags": []
   },
   "outputs": [],
   "source": [
    "#Import the libraries\n",
    "\n",
    "from bs4 import BeautifulSoup\n",
    "import requests\n",
    "import numpy as np\n",
    "import pandas as pd\n",
    "import datetime\n",
    "from datetime import timedelta, date\n",
    "import re"
   ]
  },
  {
   "cell_type": "code",
   "execution_count": 3,
   "metadata": {
    "ExecuteTime": {
     "end_time": "2021-06-10T12:15:19.819991Z",
     "start_time": "2021-06-10T12:15:19.553293Z"
    },
    "cell_id": "00001-0131f0b7-7330-4a10-9116-e55445e34b95",
    "deepnote_cell_type": "code",
    "deepnote_to_be_reexecuted": false,
    "execution_millis": 751,
    "execution_start": 1616684490053,
    "source_hash": "c79711c8",
    "tags": []
   },
   "outputs": [],
   "source": [
    "#Get the webpage and parse it as html\n",
    "\n",
    "page = requests.get(\"https://weather.com/weather/tenday/l/San+Francisco+CA?canonicalCityId=dfdaba8cbe3a4d12a8796e1f7b1ccc7174b4b0a2d5ddb1c8566ae9f154fa638c\")\n",
    "soup = BeautifulSoup(page.content, 'html.parser')"
   ]
  },
  {
   "cell_type": "code",
   "execution_count": 11,
   "metadata": {
    "ExecuteTime": {
     "end_time": "2021-06-10T12:51:21.246430Z",
     "start_time": "2021-06-10T12:51:21.229447Z"
    },
    "cell_id": "00003-a356b9ed-d7d1-4403-ab62-f30b4c581396",
    "deepnote_cell_type": "code",
    "deepnote_to_be_reexecuted": false,
    "execution_millis": 13,
    "execution_start": 1616687987496,
    "source_hash": "250aafa5",
    "tags": []
   },
   "outputs": [
    {
     "name": "stdout",
     "output_type": "stream",
     "text": [
      "[' Day']\n",
      "['Day', 'Night', 'Day', 'Night', 'Day', 'Night', 'Day', 'Night', 'Day', 'Night']\n"
     ]
    }
   ],
   "source": [
    "#Retrieve the day names nested in body \n",
    "\n",
    "day_names = soup.find_all('h3', class_ = 'DailyContent--daypartName--3G5Y8') #day names are in this tag\n",
    "\n",
    "list_of_days = []\n",
    "for each_day in day_names:\n",
    "    e = each_day.text                #'.text' returns the text inside the Tag\n",
    "    list_of_days.append(e)\n",
    "\n",
    "list_of_days = list_of_days[0:10]    #only getting the first 10 days details\n",
    "#print(list_of_days)\n",
    "\n",
    "#First pattern for the DATE\n",
    "date_string = ' '.join(list_of_days)  \n",
    "print(date_string)\n",
    "date = re.findall(\"[A-Z][a-z]+ [0-9]+\", date_string) #use regex to filter the date \n",
    "\n",
    "#Second pattern for Day and Night. \n",
    "first_day = list_of_days[0]           #check for first day and create a list based on that\n",
    "day_checker =re.findall(\" [A-Z][a-z]+\",first_day)\n",
    "print(day_checker)\n",
    "\n",
    "if ' Night' in day_checker:\n",
    "    type_of_day = ['Night','Day']*5   \n",
    "elif ' Day' in day_checker:\n",
    "    type_of_day = ['Day','Night']*5   #Day and Night is a repetitive pattern, so creating it is easy rather than extracting it \n",
    "print(type_of_day)"
   ]
  },
  {
   "cell_type": "code",
   "execution_count": 13,
   "metadata": {
    "ExecuteTime": {
     "end_time": "2021-06-10T12:56:07.992300Z",
     "start_time": "2021-06-10T12:56:07.974378Z"
    },
    "cell_id": "00004-98698962-e2fa-4692-bef2-b0f8d5f30304",
    "deepnote_cell_type": "code",
    "deepnote_to_be_reexecuted": false,
    "execution_millis": 25,
    "execution_start": 1616687283799,
    "source_hash": "e230d137",
    "tags": []
   },
   "outputs": [
    {
     "name": "stdout",
     "output_type": "stream",
     "text": [
      "['60°/50°', '62°/54°', '64°/54°', '63°/55°', '63°/52°', '65°/52°', '67°/52°', '69°/52°', '67°/51°', '64°/51°', '65°/50°', '66°/51°', '67°/51°', '66°/51°', '67°/52°']\n",
      "['60', '50', '62', '54', '64', '54', '63', '55', '63', '52', '65', '52', '67', '52', '69', '52', '67', '51', '64', '51', '65', '50', '66', '51', '67', '51', '66', '51', '67', '52']\n"
     ]
    }
   ],
   "source": [
    "#Retrieve the weather summary nested inside the body and find temperatures\n",
    "\n",
    "day_temp = soup.find_all('div', class_ = 'DetailsSummary--temperature--3FMlw') \n",
    "\n",
    "temp_list = []\n",
    "for summary in day_temp:\n",
    "    e = summary.text              \n",
    "    temp_list.append(e)\n",
    "\n",
    "#Extract the temperature by searching for a regex pattern and filter it further\n",
    "#print(temp_list)\n",
    "temp_string = ' '.join(temp_list)            \n",
    "temp = re.findall(\"([0-9]\\d[°])\", temp_string)      \n",
    "temp = ' '.join(temp).replace('°',' ').split()     \n",
    "print(temp)\n"
   ]
  },
  {
   "cell_type": "code",
   "execution_count": 12,
   "metadata": {
    "ExecuteTime": {
     "end_time": "2021-06-10T12:53:47.243474Z",
     "start_time": "2021-06-10T12:53:47.231506Z"
    },
    "cell_id": "00006-94c05eb6-2e14-4b0c-9a35-64d4641b5833",
    "deepnote_cell_type": "code",
    "deepnote_to_be_reexecuted": false,
    "execution_millis": 16,
    "execution_start": 1616686647681,
    "source_hash": "c6a7766d",
    "tags": []
   },
   "outputs": [],
   "source": [
    "#Convert Fahrenheit to celcius \n",
    "\n",
    "temp_celcius = []\n",
    "def celcius(temp):\n",
    "    for each_temp in temp:\n",
    "        each_temp = (int(each_temp)- 32) * (5/9)    #converting to int type as it gives an error for float\n",
    "        new_temp = round(each_temp)\n",
    "        temp_celcius.append(f'{new_temp} °C')\n",
    "    return temp_celcius\n",
    "celcius(temp)\n",
    "\n",
    "temp_celcius = temp_celcius[0:10]"
   ]
  },
  {
   "cell_type": "code",
   "execution_count": 7,
   "metadata": {
    "ExecuteTime": {
     "end_time": "2021-06-10T12:15:19.883070Z",
     "start_time": "2021-06-10T12:15:19.870890Z"
    },
    "cell_id": "00005-d1c833f3-57d3-4da7-87f6-576890e61608",
    "deepnote_cell_type": "code",
    "deepnote_to_be_reexecuted": false,
    "execution_millis": 25,
    "execution_start": 1616686944993,
    "source_hash": "d04a1a5f",
    "tags": []
   },
   "outputs": [],
   "source": [
    "#Extracting the summary description\n",
    "summary = soup.find_all('p', class_ = 'DailyContent--narrative--3AcXd')\n",
    "\n",
    "summary_list = []\n",
    "for summary in summary:\n",
    "    e = summary.text              \n",
    "    summary_list.append(e)\n",
    "\n",
    "summary_list = summary_list[0:10]"
   ]
  },
  {
   "cell_type": "code",
   "execution_count": 8,
   "metadata": {
    "ExecuteTime": {
     "end_time": "2021-06-10T12:15:22.646196Z",
     "start_time": "2021-06-10T12:15:22.619268Z"
    },
    "cell_id": "00007-1a79665a-0da5-4c24-b746-4087ef70e0d9",
    "deepnote_cell_type": "code",
    "deepnote_to_be_reexecuted": false,
    "execution_millis": 21,
    "execution_start": 1616687877069,
    "source_hash": "db685f2",
    "tags": []
   },
   "outputs": [
    {
     "name": "stdout",
     "output_type": "stream",
     "text": [
      "     Date    Day   Temp                                            summary\n",
      "0  Thu 10    Day  16 °C  Abundant sunshine. High around 60F. Winds W at...\n",
      "1  Thu 10  Night  10 °C    A few clouds. Low 49F. Winds W at 10 to 20 mph.\n",
      "2  Fri 11    Day  17 °C  Intervals of clouds and sunshine. High 62F. Wi...\n",
      "3  Fri 11  Night  12 °C  A few clouds from time to time. Low 54F. Winds...\n",
      "4  Sat 12    Day  18 °C  Partly cloudy skies. High 64F. Winds WSW at 10...\n",
      "5  Sat 12  Night  12 °C  Partly cloudy during the evening followed by c...\n",
      "6  Sun 13    Day  17 °C  Cloudy skies early, followed by partial cleari...\n",
      "7  Sun 13  Night  13 °C  Cloudy skies. Low around 55F. Winds WSW at 10 ...\n",
      "8  Mon 14    Day  17 °C  Cloudy early with partial sunshine expected la...\n",
      "9  Mon 14  Night  11 °C  Partly cloudy skies. Low 52F. Winds WNW at 10 ...\n"
     ]
    }
   ],
   "source": [
    "#creating the dataf\n",
    "\n",
    "df = pd.DataFrame({'Date':date,'Day':type_of_day,'Temp':temp_celcius,'summary':summary_list}) \n",
    "print(df)\n",
    "\n",
    "#df.to_csv('Weather_forecast_Hard.csv', index=False) #write the df to a csv file"
   ]
  }
 ],
 "metadata": {
  "deepnote": {},
  "deepnote_execution_queue": [],
  "deepnote_notebook_id": "f734bdcd-dfeb-4a43-9478-afd9ce048361",
  "kernelspec": {
   "display_name": "Python 3",
   "language": "python",
   "name": "python3"
  },
  "language_info": {
   "codemirror_mode": {
    "name": "ipython",
    "version": 3
   },
   "file_extension": ".py",
   "mimetype": "text/x-python",
   "name": "python",
   "nbconvert_exporter": "python",
   "pygments_lexer": "ipython3",
   "version": "3.8.8"
  }
 },
 "nbformat": 4,
 "nbformat_minor": 2
}
