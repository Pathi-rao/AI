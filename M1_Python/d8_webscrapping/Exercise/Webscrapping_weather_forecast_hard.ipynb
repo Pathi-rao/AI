{
  "cells": [
    {
      "cell_type": "code",
      "source": "!pip install bs4==0.0.1",
      "metadata": {
        "tags": [],
        "cell_id": "00000-d6d9ac8a-e1bd-4ed1-814a-51beb8244e3c",
        "deepnote_to_be_reexecuted": false,
        "source_hash": "6c3283c9",
        "execution_millis": 4108,
        "execution_start": 1616684485830,
        "deepnote_cell_type": "code"
      },
      "outputs": [
        {
          "name": "stdout",
          "text": "Requirement already satisfied: bs4==0.0.1 in /root/venv/lib/python3.7/site-packages (0.0.1)\nRequirement already satisfied: beautifulsoup4 in /root/venv/lib/python3.7/site-packages (from bs4==0.0.1) (4.9.3)\nRequirement already satisfied: soupsieve>1.2; python_version >= \"3.0\" in /root/venv/lib/python3.7/site-packages (from beautifulsoup4->bs4==0.0.1) (2.2.1)\n\u001b[33mWARNING: You are using pip version 20.1.1; however, version 21.0.1 is available.\nYou should consider upgrading via the '/root/venv/bin/python -m pip install --upgrade pip' command.\u001b[0m\n",
          "output_type": "stream"
        }
      ],
      "execution_count": 1
    },
    {
      "cell_type": "code",
      "metadata": {
        "tags": [],
        "cell_id": "00000-be5448d8-9de5-4054-bb96-d36775235a8e",
        "deepnote_to_be_reexecuted": false,
        "source_hash": "f9013310",
        "execution_millis": 97,
        "execution_start": 1616684489946,
        "deepnote_cell_type": "code"
      },
      "source": "#Import the libraries\n\nfrom bs4 import BeautifulSoup\nimport requests\nimport numpy as np\nimport pandas as pd\nimport datetime\nfrom datetime import timedelta, date\nimport re\n",
      "execution_count": 2,
      "outputs": []
    },
    {
      "cell_type": "code",
      "source": "#Get the webpage and parse it as html\n\npage = requests.get(\"https://weather.com/weather/tenday/l/San+Francisco+CA?canonicalCityId=dfdaba8cbe3a4d12a8796e1f7b1ccc7174b4b0a2d5ddb1c8566ae9f154fa638c\")\nsoup = BeautifulSoup(page.content, 'html.parser')\n\n",
      "metadata": {
        "tags": [],
        "cell_id": "00001-0131f0b7-7330-4a10-9116-e55445e34b95",
        "deepnote_to_be_reexecuted": false,
        "source_hash": "c79711c8",
        "execution_millis": 751,
        "execution_start": 1616684490053,
        "deepnote_cell_type": "code"
      },
      "outputs": [],
      "execution_count": 3
    },
    {
      "cell_type": "code",
      "source": "#Retrieve the day names nested in body \n\nday_names = soup.find_all('h3', class_ = 'DailyContent--daypartName--3G5Y8') #day names are in this tag\n\nlist_of_days = []\nfor each_day in day_names:\n    e = each_day.text                #'.text' returns the text inside the Tag\n    list_of_days.append(e)\n    \nlist_of_days = list_of_days[0:10]\nprint(list_of_days)",
      "metadata": {
        "tags": [],
        "cell_id": "00003-a356b9ed-d7d1-4403-ab62-f30b4c581396",
        "deepnote_to_be_reexecuted": false,
        "source_hash": "250aafa5",
        "execution_millis": 13,
        "execution_start": 1616687987496,
        "deepnote_cell_type": "code"
      },
      "outputs": [
        {
          "name": "stdout",
          "text": "['Thu 25 | Day', 'Thu 25 | Night', 'Fri 26 | Day', 'Fri 26 | Night', 'Sat 27 | Day', 'Sat 27 | Night', 'Sun 28 | Day', 'Sun 28 | Night', 'Mon 29 | Day', 'Mon 29 | Night']\n",
          "output_type": "stream"
        }
      ],
      "execution_count": 40
    },
    {
      "cell_type": "code",
      "source": "#Retrieve the weather summary nested inside the body and find temperatures\n\nday_temp = soup.find_all('div', class_ = 'DetailsSummary--temperature--3FMlw') \n\ntemp_list = []\nfor summary in day_temp:\n    e = summary.text              \n    temp_list.append(e)\n\ntemp_string = ' '.join(temp_list)            \ntemp = re.findall(\"([0-9]\\d[°])\", temp_string)      \ntemp = ' '.join(temp).replace('°',' ').split()  \nprint(len(temp))      \n\nhigh = temp[0::2]\nlow = temp[1::2]\n\nprint(\"The Day tempeatures are\", high)\nprint(f'The Night temperatures are {low}')\n",
      "metadata": {
        "tags": [],
        "cell_id": "00004-98698962-e2fa-4692-bef2-b0f8d5f30304",
        "deepnote_to_be_reexecuted": false,
        "source_hash": "e230d137",
        "execution_millis": 25,
        "execution_start": 1616687283799,
        "deepnote_cell_type": "code"
      },
      "outputs": [
        {
          "name": "stdout",
          "text": "30\nThe Day tempeatures are ['58', '63', '63', '61', '59', '66', '70', '70', '64', '60', '59', '58', '58', '58', '59']\nThe Night temperatures are ['46', '44', '45', '46', '46', '49', '49', '48', '46', '45', '44', '45', '44', '44', '44']\n",
          "output_type": "stream"
        }
      ],
      "execution_count": 30
    },
    {
      "cell_type": "code",
      "source": "#Extracting the summary description\nsummary = soup.find_all('p', class_ = 'DailyContent--narrative--3AcXd')\n\nsummary_list = []\nfor summary in summary:\n    e = summary.text              \n    summary_list.append(e)\n\nprint(summary_list)\n\n",
      "metadata": {
        "tags": [],
        "cell_id": "00005-d1c833f3-57d3-4da7-87f6-576890e61608",
        "deepnote_to_be_reexecuted": false,
        "source_hash": "d04a1a5f",
        "execution_millis": 25,
        "execution_start": 1616686944993,
        "deepnote_cell_type": "code"
      },
      "outputs": [
        {
          "name": "stdout",
          "text": "30\n",
          "output_type": "stream"
        }
      ],
      "execution_count": 29
    },
    {
      "cell_type": "code",
      "source": "#Temp here\n#Convert Fahrenheit to celcius \ntemp_celcius = []\ndef celcius(temp):\n    for each_temp in temp:\n        each_temp = (int(each_temp)- 32) * (5/9)         #converting to int type as it gives an error for float\n        new_temp = round(each_temp)\n        temp_celcius.append(f'{new_temp} °C')\n    return temp_celcius\ncelcius(temp)",
      "metadata": {
        "tags": [],
        "cell_id": "00006-94c05eb6-2e14-4b0c-9a35-64d4641b5833",
        "deepnote_to_be_reexecuted": false,
        "source_hash": "c6a7766d",
        "execution_millis": 16,
        "execution_start": 1616686647681,
        "deepnote_cell_type": "code"
      },
      "outputs": [
        {
          "output_type": "execute_result",
          "execution_count": 26,
          "data": {
            "text/plain": "['14 °C',\n '8 °C',\n '17 °C',\n '7 °C',\n '17 °C',\n '7 °C',\n '16 °C',\n '8 °C',\n '15 °C',\n '8 °C',\n '19 °C',\n '9 °C',\n '21 °C',\n '9 °C',\n '21 °C',\n '9 °C',\n '18 °C',\n '8 °C',\n '16 °C',\n '7 °C',\n '15 °C',\n '7 °C',\n '14 °C',\n '7 °C',\n '14 °C',\n '7 °C',\n '14 °C',\n '7 °C',\n '15 °C',\n '7 °C']"
          },
          "metadata": {}
        }
      ],
      "execution_count": 26
    },
    {
      "cell_type": "code",
      "source": "#creating the dataf\ndf = pd.DataFrame({'Day':list_of_days, 'Temperature':temp,\n                   'summary':summary_list}) \nprint(df)\n\n#df.to_csv('Weather_forecast_easy.csv', index=False)",
      "metadata": {
        "tags": [],
        "cell_id": "00007-1a79665a-0da5-4c24-b746-4087ef70e0d9",
        "deepnote_to_be_reexecuted": false,
        "source_hash": "db685f2",
        "execution_millis": 21,
        "execution_start": 1616687877069,
        "deepnote_cell_type": "code"
      },
      "outputs": [
        {
          "name": "stdout",
          "text": "               Day Temperature  \\\n0     Thu 25 | Day          58   \n1   Thu 25 | Night          46   \n2     Fri 26 | Day          63   \n3   Fri 26 | Night          44   \n4     Sat 27 | Day          63   \n5   Sat 27 | Night          45   \n6     Sun 28 | Day          61   \n7   Sun 28 | Night          46   \n8     Mon 29 | Day          59   \n9   Mon 29 | Night          46   \n10    Tue 30 | Day          66   \n11  Tue 30 | Night          49   \n12    Wed 31 | Day          70   \n13  Wed 31 | Night          49   \n14    Thu 01 | Day          70   \n15  Thu 01 | Night          48   \n16    Fri 02 | Day          64   \n17  Fri 02 | Night          46   \n18    Sat 03 | Day          60   \n19  Sat 03 | Night          45   \n20    Sun 04 | Day          59   \n21  Sun 04 | Night          44   \n22    Mon 05 | Day          58   \n23  Mon 05 | Night          45   \n24    Tue 06 | Day          58   \n25  Tue 06 | Night          44   \n26    Wed 07 | Day          58   \n27  Wed 07 | Night          44   \n28    Thu 08 | Day          59   \n29  Thu 08 | Night          44   \n\n                                              summary  \n0   Some clouds early. Mostly sunny skies along wi...  \n1   Clear skies. Low 46F. NW winds at 10 to 20 mph...  \n2         Sunny. High 63F. Winds NNW at 10 to 20 mph.  \n3   A mostly clear sky. Low 44F. Winds SW at 10 to...  \n4   A mainly sunny sky. High 63F. SE winds shiftin...  \n5   A mostly clear sky. Low near 45F. Winds SW at ...  \n6   Partly cloudy skies. High 61F. Winds W at 10 t...  \n7   Mostly clear skies. Low 46F. Winds W at 5 to 1...  \n8   Mainly sunny. High 59F. Winds WNW at 15 to 25 ...  \n9   A mostly clear sky. Low 46F. Winds NNW at 10 t...  \n10  Sunny skies. High 66F. Winds NNW at 10 to 20 mph.  \n11           Clear. Low 49F. Winds N at 10 to 15 mph.  \n12  Mainly sunny. High near 70F. Winds NNE at 10 t...  \n13      Clear skies. Low 49F. Winds N at 5 to 10 mph.  \n14  Sunshine. High around 70F. NE winds shifting t...  \n15     Mostly clear. Low 48F. Winds W at 5 to 10 mph.  \n16  A few clouds from time to time. High 64F. Wind...  \n17  A few clouds from time to time. Low 46F. Winds...  \n18  Partly cloudy skies. High around 60F. Winds W ...  \n19  Partly cloudy. Low around 45F. Winds WNW at 10...  \n20  Sun and a few passing clouds. High 59F. Winds ...  \n21  Mostly clear skies. Low 44F. Winds W at 10 to ...  \n22  Partly cloudy skies. High 58F. Winds W at 10 t...  \n23  Partly cloudy skies. Low around 45F. Winds W a...  \n24  Partly cloudy. High 58F. Winds W at 10 to 20 mph.  \n25   Partly cloudy. Low 44F. Winds W at 10 to 20 mph.  \n26  Sunshine and clouds mixed. High 58F. Winds W a...  \n27  Partly cloudy skies early giving way to a few ...  \n28  Partly cloudy. High 59F. Winds W at 10 to 20 mph.  \n29  Cloudy with a few showers. Low 44F. Winds WNW ...  \n",
          "output_type": "stream"
        }
      ],
      "execution_count": 37
    },
    {
      "cell_type": "markdown",
      "source": "<a style='text-decoration:none;line-height:16px;display:flex;color:#5B5B62;padding:10px;justify-content:end;' href='https://deepnote.com?utm_source=created-in-deepnote-cell&projectId=4b76008c-93f2-488a-b8d9-c179cb7406d1' target=\"_blank\">\n<img style='display:inline;max-height:16px;margin:0px;margin-right:7.5px;' src='data:image/svg+xml;base64,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' > </img>\nCreated in <span style='font-weight:600;margin-left:4px;'>Deepnote</span></a>",
      "metadata": {
        "tags": [],
        "created_in_deepnote_cell": true,
        "deepnote_cell_type": "markdown"
      }
    }
  ],
  "nbformat": 4,
  "nbformat_minor": 2,
  "metadata": {
    "orig_nbformat": 2,
    "deepnote_notebook_id": "f734bdcd-dfeb-4a43-9478-afd9ce048361",
    "deepnote": {},
    "deepnote_execution_queue": []
  }
}