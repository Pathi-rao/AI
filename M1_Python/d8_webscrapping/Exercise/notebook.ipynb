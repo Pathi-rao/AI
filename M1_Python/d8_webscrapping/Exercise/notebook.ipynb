{
  "cells": [
    {
      "cell_type": "code",
      "source": "!pip install bs4==0.0.1",
      "metadata": {
        "tags": [],
        "cell_id": "00000-77ddde42-dc7b-45d3-95ff-a160f3f0f5aa",
        "deepnote_to_be_reexecuted": false,
        "source_hash": "6c3283c9",
        "execution_millis": 3777,
        "execution_start": 1616599614587,
        "deepnote_cell_type": "code"
      },
      "outputs": [
        {
          "name": "stdout",
          "text": "Requirement already satisfied: bs4==0.0.1 in /root/venv/lib/python3.7/site-packages (0.0.1)\nRequirement already satisfied: beautifulsoup4 in /root/venv/lib/python3.7/site-packages (from bs4==0.0.1) (4.9.3)\nRequirement already satisfied: soupsieve>1.2; python_version >= \"3.0\" in /root/venv/lib/python3.7/site-packages (from beautifulsoup4->bs4==0.0.1) (2.2.1)\n\u001b[33mWARNING: You are using pip version 20.1.1; however, version 21.0.1 is available.\nYou should consider upgrading via the '/root/venv/bin/python -m pip install --upgrade pip' command.\u001b[0m\n",
          "output_type": "stream"
        }
      ],
      "execution_count": 1
    },
    {
      "cell_type": "code",
      "metadata": {
        "tags": [],
        "cell_id": "00000-c99319d9-c9e7-433e-ae77-3e21f4e39067",
        "deepnote_to_be_reexecuted": false,
        "source_hash": "574f156f",
        "execution_millis": 6,
        "execution_start": 1616600011500,
        "deepnote_cell_type": "code"
      },
      "source": "import requests\nfrom bs4 import BeautifulSoup",
      "execution_count": 6,
      "outputs": []
    },
    {
      "cell_type": "code",
      "source": "page = requests.get(\"https://forecast.weather.gov/MapClick.php?lat=37.777120000000025&lon=-122.41963999999996#.YFs1e6_7QdW\")\nsoup = BeautifulSoup(page.content, 'html.parser')",
      "metadata": {
        "tags": [],
        "cell_id": "00002-1049ca29-59a4-43d2-86d7-de4efea73d9f",
        "deepnote_to_be_reexecuted": false,
        "source_hash": "549b73fa",
        "execution_millis": 61,
        "execution_start": 1616600025149,
        "deepnote_cell_type": "code"
      },
      "outputs": [],
      "execution_count": 9
    },
    {
      "cell_type": "code",
      "source": "html = list(soup.children)[2]\nbody = list(html.children)[3]\n",
      "metadata": {
        "tags": [],
        "cell_id": "00003-fde16340-078a-407d-ad20-fc4ff22fc641",
        "deepnote_to_be_reexecuted": false,
        "source_hash": "cbe1fd33",
        "execution_start": 1616600052724,
        "execution_millis": 3,
        "deepnote_cell_type": "code"
      },
      "outputs": [],
      "execution_count": 10
    },
    {
      "cell_type": "code",
      "source": "panel_body = body.find_all('div', class_='panel-body')\nprint(panel_body)",
      "metadata": {
        "tags": [],
        "cell_id": "00004-62227393-fe74-43ca-b87e-3cf04338df9d",
        "deepnote_to_be_reexecuted": false,
        "source_hash": "4bdfed2e",
        "execution_start": 1616600054634,
        "execution_millis": 52,
        "deepnote_cell_type": "code"
      },
      "outputs": [
        {
          "name": "stdout",
          "text": "[<div class=\"panel-body\" id=\"current-conditions-body\">\n<!-- Graphic and temperatures -->\n<div class=\"pull-left\" id=\"current_conditions-summary\">\n<p class=\"myforecast-current\">NA</p>\n<p class=\"myforecast-current-lrg\">55°F</p>\n<p class=\"myforecast-current-sm\">13°C</p>\n</div>\n<div class=\"pull-left\" id=\"current_conditions_detail\">\n<table>\n<tr>\n<td class=\"text-right\"><b>Humidity</b></td>\n<td>31%</td>\n</tr>\n<tr>\n<td class=\"text-right\"><b>Wind Speed</b></td>\n<td>NA NA MPH</td>\n</tr>\n<tr>\n<td class=\"text-right\"><b>Barometer</b></td>\n<td>NA</td>\n</tr>\n<tr>\n<td class=\"text-right\"><b>Dewpoint</b></td>\n<td>25°F (-4°C)</td>\n</tr>\n<tr>\n<td class=\"text-right\"><b>Visibility</b></td>\n<td>NA</td>\n</tr>\n<tr>\n<td class=\"text-right\"><b>Last update</b></td>\n<td>\n                24 Mar 07:43 AM PDT            </td>\n</tr>\n</table>\n</div>\n<div id=\"current_conditions_station\">\n<div class=\"current-conditions-extra\">\n<!-- Right hand section -->\n<p class=\"moreInfo\"><b>More Information:</b></p><p><a href=\"https://www.weather.gov/mtr\" id=\"localWFO\" title=\"San Francisco Bay Area/Monterey, CA\"><span class=\"hideText\">Local</span> Forecast Office</a><a href=\"https://www.weather.gov/wrh/LocalWeather?zone=CAZ006\" id=\"moreWx\">More Local Wx</a><a href=\"https://www.wrh.noaa.gov/mesowest/getobext.php?wfo=mtr&amp;sid=SFOC1&amp;num=72&amp;raw=0\">3 Day History</a><a href=\"//mobile.weather.gov/index.php?lat=37.7771&amp;lon=-122.4196&amp;unit=0&amp;lg=english\" id=\"mobileWxLink\">Mobile Weather</a><a href=\"MapClick.php?lat=37.7771&amp;lon=-122.4196&amp;unit=0&amp;lg=english&amp;FcstType=graphical\" id=\"wxGraph\">Hourly <span class=\"hideText\">Weather </span>Forecast</a></p> </div>\n<!-- /current_conditions_station -->\n</div>\n<!-- /current-conditions-body -->\n</div>, <div class=\"panel-body\" id=\"seven-day-forecast-body\">\n<div id=\"seven-day-forecast-container\"><ul class=\"list-unstyled\" id=\"seven-day-forecast-list\"><li class=\"forecast-tombstone\">\n<div class=\"tombstone-container\">\n<p class=\"period-name\">Today<br/><br/></p>\n<p><img alt=\"Today: Mostly sunny, with a high near 66. Light and variable wind becoming west 8 to 13 mph in the morning. \" class=\"forecast-icon\" src=\"newimages/medium/sct.png\" title=\"Today: Mostly sunny, with a high near 66. Light and variable wind becoming west 8 to 13 mph in the morning. \"/></p><p class=\"short-desc\">Mostly Sunny</p><p class=\"temp temp-high\">High: 66 °F</p></div></li><li class=\"forecast-tombstone\">\n<div class=\"tombstone-container\">\n<p class=\"period-name\">Tonight<br/><br/></p>\n<p><img alt=\"Tonight: Partly cloudy, with a low around 48. West wind 10 to 17 mph, with gusts as high as 23 mph. \" class=\"forecast-icon\" src=\"newimages/medium/nsct.png\" title=\"Tonight: Partly cloudy, with a low around 48. West wind 10 to 17 mph, with gusts as high as 23 mph. \"/></p><p class=\"short-desc\">Partly Cloudy</p><p class=\"temp temp-low\">Low: 48 °F</p></div></li><li class=\"forecast-tombstone\">\n<div class=\"tombstone-container\">\n<p class=\"period-name\">Thursday<br/><br/></p>\n<p><img alt=\"Thursday: Sunny, with a high near 61. West wind 7 to 17 mph, with gusts as high as 23 mph. \" class=\"forecast-icon\" src=\"newimages/medium/few.png\" title=\"Thursday: Sunny, with a high near 61. West wind 7 to 17 mph, with gusts as high as 23 mph. \"/></p><p class=\"short-desc\">Sunny</p><p class=\"temp temp-high\">High: 61 °F</p></div></li><li class=\"forecast-tombstone\">\n<div class=\"tombstone-container\">\n<p class=\"period-name\">Thursday<br/>Night</p>\n<p><img alt=\"Thursday Night: Clear, with a low around 46. Northwest wind 5 to 14 mph, with gusts as high as 18 mph. \" class=\"forecast-icon\" src=\"newimages/medium/nskc.png\" title=\"Thursday Night: Clear, with a low around 46. Northwest wind 5 to 14 mph, with gusts as high as 18 mph. \"/></p><p class=\"short-desc\">Clear</p><p class=\"temp temp-low\">Low: 46 °F</p></div></li><li class=\"forecast-tombstone\">\n<div class=\"tombstone-container\">\n<p class=\"period-name\">Friday<br/><br/></p>\n<p><img alt=\"Friday: Sunny, with a high near 69. North wind 8 to 10 mph. \" class=\"forecast-icon\" src=\"newimages/medium/skc.png\" title=\"Friday: Sunny, with a high near 69. North wind 8 to 10 mph. \"/></p><p class=\"short-desc\">Sunny</p><p class=\"temp temp-high\">High: 69 °F</p></div></li><li class=\"forecast-tombstone\">\n<div class=\"tombstone-container\">\n<p class=\"period-name\">Friday<br/>Night</p>\n<p><img alt=\"Friday Night: Clear, with a low around 47.\" class=\"forecast-icon\" src=\"newimages/medium/nskc.png\" title=\"Friday Night: Clear, with a low around 47.\"/></p><p class=\"short-desc\">Clear</p><p class=\"temp temp-low\">Low: 47 °F</p></div></li><li class=\"forecast-tombstone\">\n<div class=\"tombstone-container\">\n<p class=\"period-name\">Saturday<br/><br/></p>\n<p><img alt=\"Saturday: Sunny, with a high near 74.\" class=\"forecast-icon\" src=\"newimages/medium/skc.png\" title=\"Saturday: Sunny, with a high near 74.\"/></p><p class=\"short-desc\">Sunny</p><p class=\"temp temp-high\">High: 74 °F</p></div></li><li class=\"forecast-tombstone\">\n<div class=\"tombstone-container\">\n<p class=\"period-name\">Saturday<br/>Night</p>\n<p><img alt=\"Saturday Night: Clear, with a low around 49.\" class=\"forecast-icon\" src=\"newimages/medium/nskc.png\" title=\"Saturday Night: Clear, with a low around 49.\"/></p><p class=\"short-desc\">Clear</p><p class=\"temp temp-low\">Low: 49 °F</p></div></li><li class=\"forecast-tombstone\">\n<div class=\"tombstone-container\">\n<p class=\"period-name\">Sunday<br/><br/></p>\n<p><img alt=\"Sunday: Sunny, with a high near 69.\" class=\"forecast-icon\" src=\"newimages/medium/few.png\" title=\"Sunday: Sunny, with a high near 69.\"/></p><p class=\"short-desc\">Sunny</p><p class=\"temp temp-high\">High: 69 °F</p></div></li></ul></div>\n<script type=\"text/javascript\">\n// equalize forecast heights\n$(function () {\n\tvar maxh = 0;\n\t$(\".forecast-tombstone .short-desc\").each(function () {\n\t\tvar h = $(this).height();\n\t\tif (h > maxh) { maxh = h; }\n\t});\n\t$(\".forecast-tombstone .short-desc\").height(maxh);\n});\n</script> </div>, <div class=\"panel-body\" id=\"detailed-forecast-body\">\n<div class=\"row row-odd row-forecast\"><div class=\"col-sm-2 forecast-label\"><b>Today</b></div><div class=\"col-sm-10 forecast-text\">Mostly sunny, with a high near 66. Light and variable wind becoming west 8 to 13 mph in the morning. </div></div><div class=\"row row-even row-forecast\"><div class=\"col-sm-2 forecast-label\"><b>Tonight</b></div><div class=\"col-sm-10 forecast-text\">Partly cloudy, with a low around 48. West wind 10 to 17 mph, with gusts as high as 23 mph. </div></div><div class=\"row row-odd row-forecast\"><div class=\"col-sm-2 forecast-label\"><b>Thursday</b></div><div class=\"col-sm-10 forecast-text\">Sunny, with a high near 61. West wind 7 to 17 mph, with gusts as high as 23 mph. </div></div><div class=\"row row-even row-forecast\"><div class=\"col-sm-2 forecast-label\"><b>Thursday Night</b></div><div class=\"col-sm-10 forecast-text\">Clear, with a low around 46. Northwest wind 5 to 14 mph, with gusts as high as 18 mph. </div></div><div class=\"row row-odd row-forecast\"><div class=\"col-sm-2 forecast-label\"><b>Friday</b></div><div class=\"col-sm-10 forecast-text\">Sunny, with a high near 69. North wind 8 to 10 mph. </div></div><div class=\"row row-even row-forecast\"><div class=\"col-sm-2 forecast-label\"><b>Friday Night</b></div><div class=\"col-sm-10 forecast-text\">Clear, with a low around 47.</div></div><div class=\"row row-odd row-forecast\"><div class=\"col-sm-2 forecast-label\"><b>Saturday</b></div><div class=\"col-sm-10 forecast-text\">Sunny, with a high near 74.</div></div><div class=\"row row-even row-forecast\"><div class=\"col-sm-2 forecast-label\"><b>Saturday Night</b></div><div class=\"col-sm-10 forecast-text\">Clear, with a low around 49.</div></div><div class=\"row row-odd row-forecast\"><div class=\"col-sm-2 forecast-label\"><b>Sunday</b></div><div class=\"col-sm-10 forecast-text\">Sunny, with a high near 69.</div></div><div class=\"row row-even row-forecast\"><div class=\"col-sm-2 forecast-label\"><b>Sunday Night</b></div><div class=\"col-sm-10 forecast-text\">Mostly clear, with a low around 49.</div></div><div class=\"row row-odd row-forecast\"><div class=\"col-sm-2 forecast-label\"><b>Monday</b></div><div class=\"col-sm-10 forecast-text\">Sunny, with a high near 66.</div></div><div class=\"row row-even row-forecast\"><div class=\"col-sm-2 forecast-label\"><b>Monday Night</b></div><div class=\"col-sm-10 forecast-text\">Clear, with a low around 48.</div></div><div class=\"row row-odd row-forecast\"><div class=\"col-sm-2 forecast-label\"><b>Tuesday</b></div><div class=\"col-sm-10 forecast-text\">Sunny, with a high near 69.</div></div> </div>, <div class=\"panel-body\" id=\"additional-forecasts-body\">\n<p class=\"myforecast-location\"><a href=\"MapClick.php?zoneid=CAZ006\">Zone Area Forecast for San Francisco County, CA</a></p>\n<!-- First nine-ten links -->\n<div id=\"linkBlockContainer\">\n<div class=\"linkBlock\">\n<ul class=\"list-unstyled\">\n<li><a href=\"//forecast.weather.gov/product.php?site=MTR&amp;issuedby=MTR&amp;product=AFD&amp;format=CI&amp;version=1&amp;glossary=1\">Forecast Discussion</a></li>\n<li><a href=\"MapClick.php?lat=37.7771&amp;lon=-122.4196&amp;unit=0&amp;lg=english&amp;FcstType=text&amp;TextType=2\">Printable Forecast</a></li>\n<li><a href=\"MapClick.php?lat=37.7771&amp;lon=-122.4196&amp;unit=0&amp;lg=english&amp;FcstType=text&amp;TextType=1\">Text Only Forecast</a></li>\n</ul>\n</div>\n<div class=\"linkBlock\">\n<ul class=\"list-unstyled\">\n<li><a href=\"MapClick.php?lat=37.7771&amp;lon=-122.4196&amp;unit=0&amp;lg=english&amp;FcstType=graphical\">Hourly Weather Forecast</a></li>\n<li><a href=\"MapClick.php?lat=37.7771&amp;lon=-122.4196&amp;unit=0&amp;lg=english&amp;FcstType=digital\">Tabular Forecast</a></li>\n<!-- <li><a href=\"afm/PointClick.php?lat=37.7771&lon=-122.4196\">Quick Forecast</a></li> -->\n</ul>\n</div>\n<div class=\"linkBlock\">\n<ul class=\"list-unstyled\">\n<li><a href=\"//weather.gov/aq/probe_aq_data.php?latitude=37.7771&amp;longitude=-122.4196\">Air Quality Forecasts</a></li>\n<li><a href=\"MapClick.php?lat=37.7771&amp;lon=-122.4196&amp;FcstType=text&amp;unit=1&amp;lg=en\">International System of Units</a></li>\n<li><a href=\"//www.wrh.noaa.gov/forecast/wxtables/index.php?lat=37.7771&amp;lon=-122.4196\">Forecast Weather Table Interface</a></li>\n</ul>\n</div>\n<!-- /First nine-ten links -->\n<!-- Additional links -->\n<div class=\"linkBlock\"><ul class=\"list-unstyled\"><li><a href=\"http://www.wrh.noaa.gov/mtr/versprod.php?pil=RR8&amp;sid=RSA\" target=\"_self\">Hourly River Stages</a></li><li><a href=\"http://www.wrh.noaa.gov/mtr/versprod.php?pil=RR5&amp;sid=RSA\" target=\"_self\">Hourly Rainfall</a></li></ul></div><div class=\"linkBlock\"><ul class=\"list-unstyled\"><li><a href=\"http://www.wrh.noaa.gov/mtr/wxlinks.php\" target=\"_self\">NWS Office Map</a></li><li><a href=\"http://www.wrh.noaa.gov/mtr/wx_calculator.php\" target=\"_self\">Weather Calculator</a></li></ul></div><div class=\"linkBlock\"><ul class=\"list-unstyled\"><li><a href=\"http://www.nws.noaa.gov/wtf/udaf/area/?site=mtr\" target=\"_self\">User Defined Area</a></li></ul></div>\n</div> <!-- /linkBlockContainer -->\n</div>, <div class=\"panel-body\">\n<!-- Radar & Satellite Images -->\n<div class=\"subItem\" id=\"radar\">\n<h4>Radar &amp; Satellite Image</h4>\n<a href=\"https://radar.weather.gov/?settings=v1_eyJhZ2VuZGEiOnsiaWQiOiJsb2NhbCIsImNlbnRlciI6Wy0xMjEuODgyLDM3LjU4OF0sInpvb20iOjgsImZpbHRlciI6IldTUi04OEQiLCJsYXllciI6ImNyZWYiLCJzdGF0aW9uIjoiS01VWCIsInRyYW5zcGFyZW50Ijp0cnVlLCJhbGVydHNPdmVybGF5Ijp0cnVlLCJzdGF0aW9uSWNvbnNPdmVybGF5Ijp0cnVlfSwiYmFzZSI6InN0YW5kYXJkIiwiY291bnR5Ijp0cnVlLCJjd2EiOmZhbHNlLCJzdGF0ZSI6dHJ1ZSwibWVudSI6dHJ1ZSwic2hvcnRGdXNlZE9ubHkiOnRydWV9#/\"><img alt=\"Link to Local Radar Data\" class=\"radar-thumb\" src=\"//radar.weather.gov/ridge/lite/KMUX_0.gif\" title=\"Link to Local Radar Data\"/></a> <a href=\"https://www.star.nesdis.noaa.gov/GOES/sector.php?sat=G17§or=psw\"><img alt=\"Link to Satellite Data\" class=\"satellite-thumb\" src=\"https://cdn.star.nesdis.noaa.gov/GOES17/ABI/SECTOR/psw/GEOCOLOR/600x600.jpg\" title=\"Link to Satellite Data\"/></a> </div>\n<!-- /Radar & Satellite Images -->\n<!-- Hourly Weather Forecast -->\n<div class=\"subItem\" id=\"feature\">\n<h4>Hourly Weather Forecast</h4>\n<a href=\"MapClick.php?lat=37.7771&amp;lon=-122.4196&amp;unit=0&amp;lg=english&amp;FcstType=graphical\"><img class=\"img-responsive\" src=\"newimages/medium/hourlyweather.png\"/></a>\n</div>\n<!-- /Hourly Weather Forecast -->\n<!-- NDFD -->\n<div class=\"subItem\" id=\"NDFD\">\n<h4>National Digital Forecast Database</h4>\n<div class=\"one-sixth-first\"><a href=\"//graphical.weather.gov/sectors/pacsouthwest.php?element=MaxT\"><img alt=\"National Digital Forecast Database Maximum Temperature Forecast\" border=\"0\" height=\"150\" src=\"//graphical.weather.gov/images/thumbnail/latest_MaxMinT_pacsouthwest_thumbnail.png\" title=\"National Digital Forecast Database Maximum Temperature Forecast\" width=\"147\"/></a>\n<p><a href=\"//graphical.weather.gov/sectors/pacsouthwest.php?element=MaxT\">High Temperature</a></p></div><div class=\"one-sixth-first\"><a href=\"//graphical.weather.gov/sectors/pacsouthwest.php?element=Wx\"><img alt=\"National Digital Forecast Database Weather Element Forecast\" border=\"0\" height=\"150\" src=\"//graphical.weather.gov/images/thumbnail/latest_Wx_pacsouthwest_thumbnail.png\" title=\"National Digital Forecast Database Weather Element Forecast\" width=\"147\"/></a>\n<p><a href=\"//graphical.weather.gov/sectors/pacsouthwest.php?element=Wx\">Chance of Precipitation</a></p></div> </div>\n<!-- /NDFD -->\n</div>, <div class=\"sitemap-section-body panel-body collapsable collapse\" id=\"sitemap-1\">\n<ul class=\"list-unstyled\">\n<li><a href=\" http://www.cpc.ncep.noaa.gov/products/MD_index.shtml\">Climate Monitoring </a></li>\n<li><a href=\"https://w2.weather.gov/climate/\">Past Weather </a></li>\n<li><a href=\" http://www.nws.noaa.gov/climate/\">Monthly Temps </a></li>\n<li><a href=\" http://www.nws.noaa.gov/climate/\">Records </a></li>\n<li><a href=\"https://www.esrl.noaa.gov/gmd/grad/solcalc/sunrise.html\">Astronomical Data </a></li>\n<li><a href=\"https://www.climate.gov/maps-data/dataset/past-weather-zip-code-data-table\">Certified Weather Data </a></li>\n</ul>\n</div>, <div class=\"sitemap-section-body panel-body collapsable collapse\" id=\"sitemap-2\">\n<ul class=\"list-unstyled\">\n<li><a href=\" http://alerts.weather.gov\">Warnings By State</a></li>\n<li><a href=\" http://www.wpc.ncep.noaa.gov/ww.shtml\">Excessive Rainfall and Winter Weather Forecasts</a></li>\n<li><a href=\"http://water.weather.gov/ahps/?current_color=flood&amp;current_type=all&amp;fcst_type=obs&amp;conus_map=d_map\">River Flooding </a></li>\n<li><a href=\" http://www.weather.gov\">Latest Warnings</a></li>\n<li><a href=\" http://www.spc.noaa.gov/products/outlook/\">Thunderstorm/Tornado Outlook </a></li>\n<li><a href=\" http://www.nhc.noaa.gov/\">Hurricanes </a></li>\n<li><a href=\" http://www.spc.noaa.gov/products/fire_wx/\">Fire Weather Outlooks </a></li>\n<li><a href=\" http://www.cpc.ncep.noaa.gov/products/stratosphere/uv_index/uv_alert.shtml\">UV Alerts </a></li>\n<li><a href=\" http://www.drought.gov/\">Drought </a></li>\n<li><a href=\"http://www.swpc.noaa.gov/products/alerts-watches-and-warnings\">Space Weather </a></li>\n<li><a href=\" http://www.nws.noaa.gov/nwr/\">NOAA Weather Radio </a></li>\n<li><a href=\" http://alerts.weather.gov/\">NWS CAP Feeds </a></li>\n</ul>\n</div>, <div class=\"sitemap-section-body panel-body collapsable collapse\" id=\"sitemap-3\">\n<ul class=\"list-unstyled\">\n<li><a href=\" https://radar.weather.gov\">Radar </a></li>\n<li><a href=\"http://www.cpc.ncep.noaa.gov/products/monitoring_and_data/\">Climate Monitoring </a></li>\n<li><a href=\" http://water.weather.gov/ahps/\">River Levels </a></li>\n<li><a href=\" http://water.weather.gov/precip/\">Observed Precipitation </a></li>\n<li><a href=\"https://www.wpc.ncep.noaa.gov/sfc/sfcobs/sfcobs.shtml\">Surface Weather </a></li>\n<li><a href=\"http://www.spc.noaa.gov/obswx/maps/\">Upper Air </a></li>\n<li><a href=\" http://www.ndbc.noaa.gov/\">Marine and Buoy Reports </a></li>\n<li><a href=\"http://www.nohrsc.noaa.gov/interactive/html/map.html\">Snow Cover </a></li>\n<li><a href=\" http://www.weather.gov/satellite\">Satellite </a></li>\n<li><a href=\" http://www.swpc.noaa.gov/\">Space Weather </a></li>\n<li><a href=\"http://www.weather.gov/pr\">International Observations</a></li>\n</ul>\n</div>, <div class=\"sitemap-section-body panel-body collapsable collapse\" id=\"sitemap-4\">\n<ul class=\"list-unstyled\">\n<li><a href=\" http://www.weather.gov/\">Local Forecast </a></li>\n<li><a href=\"http://www.weather.gov/pr\">International Forecasts</a></li>\n<li><a href=\" http://www.spc.noaa.gov/\">Severe Weather </a></li>\n<li><a href=\" http://www.wpc.ncep.noaa.gov/\">Current Outlook Maps </a></li>\n<li><a href=\"http://www.cpc.ncep.noaa.gov/products/Drought\">Drought </a></li>\n<li><a href=\"http://www.weather.gov/fire\">Fire Weather </a></li>\n<li><a href=\" http://www.wpc.ncep.noaa.gov/\">Fronts/Precipitation Maps </a></li>\n<li><a href=\" http://www.nws.noaa.gov/forecasts/graphical/\">Current Graphical Forecast Maps </a></li>\n<li><a href=\"http://water.weather.gov/ahps/forecasts.php\">Rivers </a></li>\n<li><a href=\"https://www.weather.gov/marine/\">Marine </a></li>\n<li><a href=\"https://ocean.weather.gov/marine_areas.php\">Offshore and High Seas</a></li>\n<li><a href=\" http://www.nhc.noaa.gov/\">Hurricanes </a></li>\n<li><a href=\" http://aviationweather.gov\">Aviation Weather </a></li>\n<li><a href=\"http://www.cpc.ncep.noaa.gov/products/OUTLOOKS_index.shtml\">Climatic Outlook </a></li>\n</ul>\n</div>, <div class=\"sitemap-section-body panel-body collapsable collapse\" id=\"sitemap-5\">\n<ul class=\"list-unstyled\">\n<li><a href=\" http://www.spaceweather.gov\">Space Weather </a></li>\n<li><a href=\"http://www.weather.gov/briefing/\">Daily Briefing </a></li>\n<li><a href=\" http://www.nws.noaa.gov/om/marine/home.htm\">Marine </a></li>\n<li><a href=\"http://www.nws.noaa.gov/climate\">Climate </a></li>\n<li><a href=\"http://www.weather.gov/fire\">Fire Weather </a></li>\n<li><a href=\" http://www.aviationweather.gov/\">Aviation </a></li>\n<li><a href=\"http://mag.ncep.noaa.gov/\">Forecast Models </a></li>\n<li><a href=\"http://water.weather.gov/ahps/\">Water </a></li>\n<li><a href=\"https://www.weather.gov/gis/\">GIS</a></li>\n<li><a href=\" http://www.nws.noaa.gov/om/coop/\">Cooperative Observers </a></li>\n<li><a href=\"https://www.weather.gov/skywarn/\">Storm Spotters </a></li>\n<li><a href=\"http://www.tsunami.gov\">Tsunami Warning System</a></li>\n<li><a href=\"http://water.noaa.gov/\">National Water Center</a></li>\n<li><a href=\"http://www.weather.gov/pr\">International Weather</a></li>\n</ul>\n</div>, <div class=\"sitemap-section-body panel-body collapsable collapse\" id=\"sitemap-6\">\n<ul class=\"list-unstyled\">\n<li><a href=\"http://www.weather.gov/nwr/\">NOAA Weather Radio</a></li>\n<li><a href=\"http://www.weather.gov/stormready/\">StormReady</a></li>\n<li><a href=\"http://www.nws.noaa.gov/om/heat/index.shtml\">Heat </a></li>\n<li><a href=\"https://www.weather.gov/safety/lightning\">Lightning </a></li>\n<li><a href=\" http://www.nhc.noaa.gov/prepare/\">Hurricanes </a></li>\n<li><a href=\"http://www.nws.noaa.gov/om/thunderstorm/\">Thunderstorms </a></li>\n<li><a href=\"https://www.weather.gov/safety/tornado\">Tornadoes </a></li>\n<li><a href=\"https://www.weather.gov/safety/ripcurrent\">Rip Currents </a></li>\n<li><a href=\"https://www.weather.gov/safety/flood\">Floods </a></li>\n<li><a href=\"https://www.weather.gov/safety/tsunami\">Tsunamis</a></li>\n<li><a href=\"https://www.weather.gov/tsunamiready/\">TsunamiReady</a></li>\n<li><a href=\" http://www.weather.gov/om/winter/index.shtml\">Winter Weather </a></li>\n<li><a href=\"http://www.nws.noaa.gov/om/heat/uv.shtml\">Ultra Violet Radiation </a></li>\n<li><a href=\" http://www.weather.gov/airquality/\">Air Quality </a></li>\n<li><a href=\" http://www.weather.gov/om/hazstats.shtml\">Damage/Fatality/Injury Statistics </a></li>\n<li><a href=\" http://www.redcross.org/\">Red Cross </a></li>\n<li><a href=\" http://www.fema.gov/\">Federal Emergency Management Agency (FEMA) </a></li>\n<li><a href=\" http://www.weather.gov/om/brochures.shtml\">Brochures </a></li>\n<li><a href=\"http://www.nws.noaa.gov/os/marine/safeboating/\">Safe Boating</a></li>\n</ul>\n</div>, <div class=\"sitemap-section-body panel-body collapsable collapse\" id=\"sitemap-7\">\n<ul class=\"list-unstyled\">\n<li><a href=\" http://weather.gov/news\">Newsroom</a></li>\n<li><a href=\" http://weather.gov/socialmedia\">Social Media </a></li>\n<li><a href=\"http://www.nws.noaa.gov/com/weatherreadynation/calendar.html\">Events</a></li>\n<li><a href=\" http://www.weather.gov/om/brochures.shtml\">Pubs/Brochures/Booklets </a></li>\n</ul>\n</div>, <div class=\"sitemap-section-body panel-body collapsable collapse\" id=\"sitemap-8\">\n<ul class=\"list-unstyled\">\n<li><a href=\"http://weather.gov/education\">NWS Education Home</a></li>\n<li><a href=\"http://www.nws.noaa.gov/com/weatherreadynation/force.html\">Be A Force of Nature</a></li>\n<li><a href=\" http://www.education.noaa.gov/Weather_and_Atmosphere/\">NOAA Education Resources </a></li>\n<li><a href=\" http://www.weather.gov/glossary/\">Glossary </a></li>\n<li><a href=\"https://www.weather.gov/jetstream/\">JetStream </a></li>\n<li><a href=\" http://www.weather.gov/training/\">NWS Training Portal </a></li>\n<li><a href=\"https://library.noaa.gov/\">NOAA Library </a></li>\n<li><a href=\"http://weather.gov/owlie\">For Students, Parents and Teachers</a></li>\n<li><a href=\"http://www.weather.gov/owlie/publication_brochures\">Brochures </a></li>\n</ul>\n</div>, <div class=\"sitemap-section-body panel-body collapsable collapse\" id=\"sitemap-9\">\n<ul class=\"list-unstyled\">\n<li><a href=\"http://weather.gov/organization\">Organization </a></li>\n<li><a href=\"https://www.weather.gov/media/wrn/NWS_Weather-Ready-Nation_Strategic_Plan_2019-2022.pdf\">Strategic Plan </a></li>\n<li><a href=\"https://sites.google.com/a/noaa.gov/nws-best-practices/\">For NWS Employees </a></li>\n<li><a href=\"https://www.weather.gov/international/\">International </a></li>\n<li><a href=\"http://www.ncep.noaa.gov/\">National Centers </a></li>\n<li><a href=\" http://www.weather.gov/tg/\">Products and Services </a></li>\n<li><a href=\"http://www.weather.gov/careers/\">Careers</a></li>\n<li><a href=\" http://www.weather.gov/glossary/\">Glossary </a></li>\n<li><a href=\"http://weather.gov/contact\">Contact Us </a></li>\n</ul>\n</div>]\n",
          "output_type": "stream"
        }
      ],
      "execution_count": 11
    },
    {
      "cell_type": "code",
      "source": "#tombstone_container = body.find('div', class_ = 'tombstone-container')\n#print(tombstone_container)\n\nday_container = body.find('ul', class_ = 'list-unstyled')\nprint(day_container)",
      "metadata": {
        "tags": [],
        "cell_id": "00005-fa90adcb-fc67-40e5-9be1-35c0cc74bd86",
        "deepnote_to_be_reexecuted": false,
        "source_hash": "c769f6e8",
        "execution_millis": 4,
        "execution_start": 1616600107626,
        "deepnote_cell_type": "code"
      },
      "outputs": [
        {
          "name": "stdout",
          "text": "<ul class=\"list-unstyled\" id=\"seven-day-forecast-list\"><li class=\"forecast-tombstone\">\n<div class=\"tombstone-container\">\n<p class=\"period-name\">Today<br/><br/></p>\n<p><img alt=\"Today: Mostly sunny, with a high near 66. Light and variable wind becoming west 8 to 13 mph in the morning. \" class=\"forecast-icon\" src=\"newimages/medium/sct.png\" title=\"Today: Mostly sunny, with a high near 66. Light and variable wind becoming west 8 to 13 mph in the morning. \"/></p><p class=\"short-desc\">Mostly Sunny</p><p class=\"temp temp-high\">High: 66 °F</p></div></li><li class=\"forecast-tombstone\">\n<div class=\"tombstone-container\">\n<p class=\"period-name\">Tonight<br/><br/></p>\n<p><img alt=\"Tonight: Partly cloudy, with a low around 48. West wind 10 to 17 mph, with gusts as high as 23 mph. \" class=\"forecast-icon\" src=\"newimages/medium/nsct.png\" title=\"Tonight: Partly cloudy, with a low around 48. West wind 10 to 17 mph, with gusts as high as 23 mph. \"/></p><p class=\"short-desc\">Partly Cloudy</p><p class=\"temp temp-low\">Low: 48 °F</p></div></li><li class=\"forecast-tombstone\">\n<div class=\"tombstone-container\">\n<p class=\"period-name\">Thursday<br/><br/></p>\n<p><img alt=\"Thursday: Sunny, with a high near 61. West wind 7 to 17 mph, with gusts as high as 23 mph. \" class=\"forecast-icon\" src=\"newimages/medium/few.png\" title=\"Thursday: Sunny, with a high near 61. West wind 7 to 17 mph, with gusts as high as 23 mph. \"/></p><p class=\"short-desc\">Sunny</p><p class=\"temp temp-high\">High: 61 °F</p></div></li><li class=\"forecast-tombstone\">\n<div class=\"tombstone-container\">\n<p class=\"period-name\">Thursday<br/>Night</p>\n<p><img alt=\"Thursday Night: Clear, with a low around 46. Northwest wind 5 to 14 mph, with gusts as high as 18 mph. \" class=\"forecast-icon\" src=\"newimages/medium/nskc.png\" title=\"Thursday Night: Clear, with a low around 46. Northwest wind 5 to 14 mph, with gusts as high as 18 mph. \"/></p><p class=\"short-desc\">Clear</p><p class=\"temp temp-low\">Low: 46 °F</p></div></li><li class=\"forecast-tombstone\">\n<div class=\"tombstone-container\">\n<p class=\"period-name\">Friday<br/><br/></p>\n<p><img alt=\"Friday: Sunny, with a high near 69. North wind 8 to 10 mph. \" class=\"forecast-icon\" src=\"newimages/medium/skc.png\" title=\"Friday: Sunny, with a high near 69. North wind 8 to 10 mph. \"/></p><p class=\"short-desc\">Sunny</p><p class=\"temp temp-high\">High: 69 °F</p></div></li><li class=\"forecast-tombstone\">\n<div class=\"tombstone-container\">\n<p class=\"period-name\">Friday<br/>Night</p>\n<p><img alt=\"Friday Night: Clear, with a low around 47.\" class=\"forecast-icon\" src=\"newimages/medium/nskc.png\" title=\"Friday Night: Clear, with a low around 47.\"/></p><p class=\"short-desc\">Clear</p><p class=\"temp temp-low\">Low: 47 °F</p></div></li><li class=\"forecast-tombstone\">\n<div class=\"tombstone-container\">\n<p class=\"period-name\">Saturday<br/><br/></p>\n<p><img alt=\"Saturday: Sunny, with a high near 74.\" class=\"forecast-icon\" src=\"newimages/medium/skc.png\" title=\"Saturday: Sunny, with a high near 74.\"/></p><p class=\"short-desc\">Sunny</p><p class=\"temp temp-high\">High: 74 °F</p></div></li><li class=\"forecast-tombstone\">\n<div class=\"tombstone-container\">\n<p class=\"period-name\">Saturday<br/>Night</p>\n<p><img alt=\"Saturday Night: Clear, with a low around 49.\" class=\"forecast-icon\" src=\"newimages/medium/nskc.png\" title=\"Saturday Night: Clear, with a low around 49.\"/></p><p class=\"short-desc\">Clear</p><p class=\"temp temp-low\">Low: 49 °F</p></div></li><li class=\"forecast-tombstone\">\n<div class=\"tombstone-container\">\n<p class=\"period-name\">Sunday<br/><br/></p>\n<p><img alt=\"Sunday: Sunny, with a high near 69.\" class=\"forecast-icon\" src=\"newimages/medium/few.png\" title=\"Sunday: Sunny, with a high near 69.\"/></p><p class=\"short-desc\">Sunny</p><p class=\"temp temp-high\">High: 69 °F</p></div></li></ul>\n",
          "output_type": "stream"
        }
      ],
      "execution_count": 13
    },
    {
      "cell_type": "code",
      "source": "#my_dummy_list = []\nx = day_container.find_all('p', class_ ='period-name')\n#print(x)\n\ns = str(x[0])\ns = s.split(\"<br/><br/>\")\n",
      "metadata": {
        "tags": [],
        "cell_id": "00006-9f21b689-ee7d-4346-aba7-b43d11bef6a9",
        "deepnote_to_be_reexecuted": false,
        "source_hash": "9a250090",
        "execution_millis": 13,
        "execution_start": 1616600885038,
        "deepnote_cell_type": "code"
      },
      "outputs": [
        {
          "name": "stdout",
          "text": "['<p class=\"period-name\">Today', '</p>']\n",
          "output_type": "stream"
        }
      ],
      "execution_count": 21
    },
    {
      "cell_type": "code",
      "source": "#for day in day_container:\n #   x = day_container.find('p', class_ ='period-name')\n  #  my_dummy_list.append(x)\n#print(my_dummy_list)",
      "metadata": {
        "tags": [],
        "cell_id": "00007-edd6e783-ab14-4e61-9b39-c0638804082b",
        "deepnote_cell_type": "code"
      },
      "outputs": [],
      "execution_count": null
    },
    {
      "cell_type": "code",
      "source": "\n\n\nperiod_name = body.find('p', class_ = 'period-name')\nperiod_name.text\n\n",
      "metadata": {
        "tags": [],
        "cell_id": "00008-ea35e258-a296-4b9b-ba18-5c955af4f634",
        "deepnote_to_be_reexecuted": false,
        "source_hash": "bd3d49a0",
        "execution_start": 1616601031038,
        "execution_millis": 0,
        "deepnote_cell_type": "code"
      },
      "outputs": [
        {
          "output_type": "execute_result",
          "execution_count": 22,
          "data": {
            "text/plain": "'Today'"
          },
          "metadata": {}
        }
      ],
      "execution_count": 22
    },
    {
      "cell_type": "code",
      "source": "#body1 = list(body.children)[1]\n\n#print(body1)\n",
      "metadata": {
        "tags": [],
        "cell_id": "00009-2bfc3164-9fda-48c6-8146-eb986807439d",
        "deepnote_cell_type": "code"
      },
      "outputs": [],
      "execution_count": null
    },
    {
      "cell_type": "code",
      "source": "#target parents\n#go deeper into childen\n#find p element or relevant class\n#target 7\n#target temperature\n#target summary\n#save into a list\n#save into a dictionary?",
      "metadata": {
        "tags": [],
        "cell_id": "00010-f9349535-846f-401f-8d08-11c9168ef6f6",
        "deepnote_cell_type": "code"
      },
      "outputs": [],
      "execution_count": null
    },
    {
      "cell_type": "code",
      "source": "#{\"day1\":[\"sunday\", \"54\", 'today was a great sunny day '], \"day2\":[\"monday\", \"54\", 'today was a great sunny day ']}",
      "metadata": {
        "tags": [],
        "cell_id": "00011-9f85e85f-c4e8-4260-94c4-a3ac49066ef2",
        "deepnote_cell_type": "code"
      },
      "outputs": [],
      "execution_count": null
    },
    {
      "cell_type": "code",
      "source": "#load dict into pandas\n# create column names if needed",
      "metadata": {
        "tags": [],
        "cell_id": "00012-a00d58e2-c2e6-4f8e-b1e0-9ac63187ead5",
        "deepnote_cell_type": "code"
      },
      "outputs": [],
      "execution_count": null
    },
    {
      "cell_type": "markdown",
      "source": "<a style='text-decoration:none;line-height:16px;display:flex;color:#5B5B62;padding:10px;justify-content:end;' href='https://deepnote.com?utm_source=created-in-deepnote-cell&projectId=4b76008c-93f2-488a-b8d9-c179cb7406d1' target=\"_blank\">\n<img style='display:inline;max-height:16px;margin:0px;margin-right:7.5px;' src='data:image/svg+xml;base64,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' > </img>\nCreated in <span style='font-weight:600;margin-left:4px;'>Deepnote</span></a>",
      "metadata": {
        "tags": [],
        "created_in_deepnote_cell": true,
        "deepnote_cell_type": "markdown"
      }
    }
  ],
  "nbformat": 4,
  "nbformat_minor": 2,
  "metadata": {
    "orig_nbformat": 2,
    "deepnote_notebook_id": "2b9d4798-0ba4-4107-b948-e5d015b257e8",
    "deepnote": {},
    "deepnote_execution_queue": []
  }
}