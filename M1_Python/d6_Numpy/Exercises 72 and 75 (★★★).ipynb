{
 "cells": [
  {
   "cell_type": "code",
   "execution_count": null,
   "id": "complimentary-handbook",
   "metadata": {
    "ExecuteTime": {
     "end_time": "2021-03-22T17:08:47.652139Z",
     "start_time": "2021-03-22T17:08:47.450887Z"
    },
    "slideshow": {
     "slide_type": "slide"
    }
   },
   "outputs": [],
   "source": [
    "# Import the needed libraries\n",
    "import numpy as np\n"
   ]
  },
  {
   "cell_type": "markdown",
   "id": "pacific-kentucky",
   "metadata": {},
   "source": [
    "**72. How to swap two rows of an array?** "
   ]
  },
  {
   "cell_type": "code",
   "execution_count": null,
   "id": "proper-reservoir",
   "metadata": {
    "ExecuteTime": {
     "end_time": "2021-03-22T14:41:26.203468Z",
     "start_time": "2021-03-22T14:41:26.181776Z"
    }
   },
   "outputs": [],
   "source": [
    "arr = np.array([[1,2,3],[4,5,6]])\n",
    "print(f'Array before swaping is:\\n{arr}')\n",
    "\n",
    "arr[[0,1]] = arr[[1,0]]\n",
    "print(f'Array after swaping is:\\n{arr}')"
   ]
  },
  {
   "cell_type": "code",
   "execution_count": null,
   "id": "surface-uzbekistan",
   "metadata": {
    "ExecuteTime": {
     "end_time": "2021-03-22T17:08:50.661475Z",
     "start_time": "2021-03-22T17:08:50.652124Z"
    }
   },
   "outputs": [],
   "source": [
    "array = np.random.randn((10))\n",
    "ans = np.cumsum(array)\n",
    "print(ans)"
   ]
  },
  {
   "cell_type": "markdown",
   "id": "outer-encoding",
   "metadata": {},
   "source": [
    "**75. How to compute averages using a sliding window over an array?**"
   ]
  },
  {
   "cell_type": "code",
   "execution_count": null,
   "id": "active-reply",
   "metadata": {
    "ExecuteTime": {
     "end_time": "2021-03-22T15:51:27.412605Z",
     "start_time": "2021-03-22T15:51:27.404599Z"
    }
   },
   "outputs": [],
   "source": [
    "def sliding_window(array, S): \n",
    "    \n",
    "    cumsum = np.cumsum(np.insert(array, 0, 0))  \n",
    "    #print(np.insert(array,0 ,0))\n",
    "    #print( )\n",
    "    #print(cumsum)\n",
    "    #print( )\n",
    "    #print(cumsum[S:])\n",
    "    #print( )\n",
    "    #print(cumsum[:-S])\n",
    "    return (cumsum[S:] - cumsum[:-S]) / float(S)\n",
    "\n",
    "\n",
    "array = np.random.randn((10))                   #randn takes normal distribution\n",
    "S = 3                                           #Slider to define how much the window should slide\n",
    "#print(array)\n",
    "#print( )\n",
    "\n",
    "sliding_window(array, S)\n"
   ]
  },
  {
   "cell_type": "code",
   "execution_count": null,
   "id": "nonprofit-injury",
   "metadata": {
    "ExecuteTime": {
     "end_time": "2021-03-22T17:44:39.704156Z",
     "start_time": "2021-03-22T17:44:39.699263Z"
    }
   },
   "outputs": [],
   "source": [
    "Z = np.arange(20)\n",
    "print(Z)"
   ]
  },
  {
   "cell_type": "code",
   "execution_count": 11,
   "id": "announced-steam",
   "metadata": {
    "ExecuteTime": {
     "end_time": "2021-03-22T17:49:47.214571Z",
     "start_time": "2021-03-22T17:49:47.202606Z"
    },
    "scrolled": true
   },
   "outputs": [
    {
     "name": "stdout",
     "output_type": "stream",
     "text": [
      "[ 0  1  2  3  4  5  6  7  8  9 10 11 12 13 14 15 16 17 18 19]\n",
      "**********\n",
      "[  0.   1.   3.   6.  10.  15.  21.  28.  36.  45.  55.  66.  78.  91.\n",
      " 105. 120. 136. 153. 171. 190.]\n",
      "*********\n",
      "[ 6.  9. 12. 15. 18. 21. 24. 27. 30. 33. 36. 39. 42. 45. 48. 51. 54.]\n",
      "******** \n",
      "[ 1.  2.  3.  4.  5.  6.  7.  8.  9. 10. 11. 12. 13. 14. 15. 16. 17. 18.]\n"
     ]
    }
   ],
   "source": [
    "def moving_average(a, n=3) :\n",
    "    ret = np.cumsum(a, dtype=float)\n",
    "    print(ret)\n",
    "    print('*********' )\n",
    "    ret[n:] = ret[n:] - ret[:-n] # Whats the underlying math here?\n",
    "    print(ret[n:])\n",
    "    print('******** ')\n",
    "    return ret[n - 1:] / n       # and here\n",
    "\n",
    "\n",
    "Z = np.arange(20)\n",
    "print(Z)\n",
    "print('**********')\n",
    "print(moving_average(Z, n=3))"
   ]
  },
  {
   "cell_type": "code",
   "execution_count": null,
   "id": "found-pressing",
   "metadata": {},
   "outputs": [],
   "source": []
  }
 ],
 "metadata": {
  "kernelspec": {
   "display_name": "Python 3",
   "language": "python",
   "name": "python3"
  },
  "language_info": {
   "codemirror_mode": {
    "name": "ipython",
    "version": 3
   },
   "file_extension": ".py",
   "mimetype": "text/x-python",
   "name": "python",
   "nbconvert_exporter": "python",
   "pygments_lexer": "ipython3",
   "version": "3.8.8"
  }
 },
 "nbformat": 4,
 "nbformat_minor": 5
}
