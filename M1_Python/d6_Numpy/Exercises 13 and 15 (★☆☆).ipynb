{
 "cells": [
  {
   "cell_type": "code",
   "execution_count": null,
   "id": "biological-worcester",
   "metadata": {},
   "outputs": [],
   "source": [
    "# Import the needed libraries"
   ]
  },
  {
   "cell_type": "markdown",
   "id": "champion-greensboro",
   "metadata": {},
   "source": [
    "**13. Create a 10x10 array with random values and find the minimum and maximum values**"
   ]
  },
  {
   "cell_type": "code",
   "execution_count": 16,
   "id": "joint-explorer",
   "metadata": {
    "ExecuteTime": {
     "end_time": "2021-03-22T12:31:00.462191Z",
     "start_time": "2021-03-22T12:31:00.452517Z"
    }
   },
   "outputs": [
    {
     "name": "stdout",
     "output_type": "stream",
     "text": [
      "The minimum value of the array is: 0.011992054840637145\n",
      "The maximum value of the array is: 0.9841947820652329\n"
     ]
    }
   ],
   "source": [
    "import numpy as np \n",
    "\n",
    "arr = np.random.random((10,10)) #Creates a 10_by_10 random array \n",
    "\n",
    "#print(a)\n",
    "#print( )\n",
    "\n",
    "#Find min and max of that array\n",
    "min_ = arr.min()\n",
    "max_ = arr.max()\n",
    "print(f'The minimum value of the array is: {min_}')\n",
    "print(f'The maximum value of the array is: {max_}')\n",
    "\n",
    "\n",
    "\n"
   ]
  },
  {
   "cell_type": "markdown",
   "id": "exempt-organ",
   "metadata": {},
   "source": [
    "**15. Create a 2d array with 1 on the border and 0 inside**"
   ]
  },
  {
   "cell_type": "code",
   "execution_count": 27,
   "id": "sufficient-facility",
   "metadata": {
    "ExecuteTime": {
     "end_time": "2021-03-22T13:19:56.719138Z",
     "start_time": "2021-03-22T13:19:56.698197Z"
    }
   },
   "outputs": [
    {
     "data": {
      "text/plain": [
       "array([[1., 1., 1., 1., 1.],\n",
       "       [1., 1., 1., 1., 1.],\n",
       "       [1., 1., 1., 1., 1.],\n",
       "       [1., 1., 1., 1., 1.],\n",
       "       [1., 1., 1., 1., 1.]])"
      ]
     },
     "execution_count": 27,
     "metadata": {},
     "output_type": "execute_result"
    }
   ],
   "source": [
    "arr = np.ones((5,5))\n",
    "arr"
   ]
  },
  {
   "cell_type": "code",
   "execution_count": 31,
   "id": "satisfactory-punishment",
   "metadata": {
    "ExecuteTime": {
     "end_time": "2021-03-22T13:22:34.639157Z",
     "start_time": "2021-03-22T13:22:34.603511Z"
    }
   },
   "outputs": [
    {
     "data": {
      "text/plain": [
       "array([[1., 1., 1., 1., 1.],\n",
       "       [1., 0., 0., 0., 1.],\n",
       "       [1., 0., 0., 0., 1.],\n",
       "       [1., 0., 0., 0., 1.],\n",
       "       [1., 1., 1., 1., 1.]])"
      ]
     },
     "execution_count": 31,
     "metadata": {},
     "output_type": "execute_result"
    }
   ],
   "source": [
    "# arr(2:end-1,2:end-1) = 0  --> MATLAB ref.\n",
    "\n",
    "arr[1:-1, 1:-1] = 0\n",
    "arr"
   ]
  },
  {
   "cell_type": "code",
   "execution_count": 54,
   "id": "israeli-watch",
   "metadata": {
    "ExecuteTime": {
     "end_time": "2021-03-22T13:47:10.615634Z",
     "start_time": "2021-03-22T13:47:10.600243Z"
    }
   },
   "outputs": [],
   "source": [
    "#arr[-1] and arr[-1:]  #both returns the last row of the array\n"
   ]
  },
  {
   "cell_type": "code",
   "execution_count": null,
   "id": "empty-prerequisite",
   "metadata": {},
   "outputs": [],
   "source": []
  }
 ],
 "metadata": {
  "kernelspec": {
   "display_name": "Python 3",
   "language": "python",
   "name": "python3"
  },
  "language_info": {
   "codemirror_mode": {
    "name": "ipython",
    "version": 3
   },
   "file_extension": ".py",
   "mimetype": "text/x-python",
   "name": "python",
   "nbconvert_exporter": "python",
   "pygments_lexer": "ipython3",
   "version": "3.8.8"
  }
 },
 "nbformat": 4,
 "nbformat_minor": 5
}
