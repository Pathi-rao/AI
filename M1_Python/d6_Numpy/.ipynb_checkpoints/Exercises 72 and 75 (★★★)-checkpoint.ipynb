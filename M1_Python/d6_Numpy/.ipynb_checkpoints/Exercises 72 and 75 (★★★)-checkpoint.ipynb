{
 "cells": [
  {
   "cell_type": "code",
   "execution_count": 2,
   "id": "complimentary-handbook",
   "metadata": {
    "ExecuteTime": {
     "end_time": "2021-03-22T14:32:56.514490Z",
     "start_time": "2021-03-22T14:32:56.271189Z"
    },
    "slideshow": {
     "slide_type": "slide"
    }
   },
   "outputs": [],
   "source": [
    "# Import the needed libraries\n",
    "import numpy as np\n"
   ]
  },
  {
   "cell_type": "markdown",
   "id": "pacific-kentucky",
   "metadata": {},
   "source": [
    "**72. How to swap two rows of an array?** "
   ]
  },
  {
   "cell_type": "code",
   "execution_count": 18,
   "id": "proper-reservoir",
   "metadata": {
    "ExecuteTime": {
     "end_time": "2021-03-22T14:41:26.203468Z",
     "start_time": "2021-03-22T14:41:26.181776Z"
    }
   },
   "outputs": [
    {
     "name": "stdout",
     "output_type": "stream",
     "text": [
      "Array before swaping is:\n",
      "[[1 2 3]\n",
      " [4 5 6]]\n",
      "Array after swaping is:\n",
      "[[4 5 6]\n",
      " [1 2 3]]\n"
     ]
    }
   ],
   "source": [
    "arr = np.array([[1,2,3],[4,5,6]])\n",
    "print(f'Array before swaping is:\\n{arr}')\n",
    "\n",
    "arr[[0,1]] = arr[[1,0]]\n",
    "print(f'Array after swaping is:\\n{arr}')"
   ]
  },
  {
   "cell_type": "markdown",
   "id": "outer-encoding",
   "metadata": {},
   "source": [
    "**75. How to compute averages using a sliding window over an array?**"
   ]
  },
  {
   "cell_type": "code",
   "execution_count": 72,
   "id": "active-reply",
   "metadata": {
    "ExecuteTime": {
     "end_time": "2021-03-22T15:51:27.412605Z",
     "start_time": "2021-03-22T15:51:27.404599Z"
    }
   },
   "outputs": [
    {
     "name": "stdout",
     "output_type": "stream",
     "text": [
      "[-0.70021952 -1.88588479 -1.21097812 -0.7640274   0.52099475  0.6055028\n",
      " -2.05217232  0.15310235 -0.32768127 -0.82920541]\n",
      "\n",
      "\n",
      "[ 0.         -0.70021952 -2.58610431 -3.79708243 -4.56110982 -4.04011507\n",
      " -3.43461227 -5.48678459 -5.33368224 -5.66136352 -6.49056893]\n",
      "\n",
      "[-3.79708243 -4.56110982 -4.04011507 -3.43461227 -5.48678459 -5.33368224\n",
      " -5.66136352 -6.49056893]\n",
      "\n",
      "[ 0.         -0.70021952 -2.58610431 -3.79708243 -4.56110982 -4.04011507\n",
      " -3.43461227 -5.48678459]\n"
     ]
    },
    {
     "data": {
      "text/plain": [
       "array([-1.26569414, -1.28696343, -0.48467025,  0.12082339, -0.30855826,\n",
       "       -0.43118906, -0.74225042, -0.33459478])"
      ]
     },
     "execution_count": 72,
     "metadata": {},
     "output_type": "execute_result"
    }
   ],
   "source": [
    "def sliding_window(array, S): \n",
    "    \n",
    "    cumsum = np.cumsum(np.insert(array, 0, 0))  #Insert a zero before the array and cal. its cum. sum\n",
    "    #print(np.insert(array,0 ,0))\n",
    "    #print( )\n",
    "    #print(cumsum)\n",
    "    #print( )\n",
    "    #print(cumsum[S:])\n",
    "    #print( )\n",
    "    #print(cumsum[:-S])\n",
    "    return (cumsum[S:] - cumsum[:-S]) / float(S) #diff of S elements from array startnig and excluding S elements from array ending\n",
    "\n",
    "\n",
    "array = np.random.randn((10))                   #randn takes normal distribution\n",
    "S = 3                                           #Slider to define how much the window should slide\n",
    "#print(array)\n",
    "#print( )\n",
    "\n",
    "sliding_window(array, S)\n"
   ]
  },
  {
   "cell_type": "code",
   "execution_count": null,
   "id": "nonprofit-injury",
   "metadata": {},
   "outputs": [],
   "source": []
  }
 ],
 "metadata": {
  "kernelspec": {
   "display_name": "Python 3",
   "language": "python",
   "name": "python3"
  },
  "language_info": {
   "codemirror_mode": {
    "name": "ipython",
    "version": 3
   },
   "file_extension": ".py",
   "mimetype": "text/x-python",
   "name": "python",
   "nbconvert_exporter": "python",
   "pygments_lexer": "ipython3",
   "version": "3.8.8"
  }
 },
 "nbformat": 4,
 "nbformat_minor": 5
}
