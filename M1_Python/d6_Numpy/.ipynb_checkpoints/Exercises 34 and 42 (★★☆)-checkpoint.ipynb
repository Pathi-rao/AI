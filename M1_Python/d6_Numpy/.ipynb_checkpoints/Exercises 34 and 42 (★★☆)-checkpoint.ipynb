{
 "cells": [
  {
   "cell_type": "code",
   "execution_count": 2,
   "id": "written-optics",
   "metadata": {
    "ExecuteTime": {
     "end_time": "2021-03-22T14:20:03.515640Z",
     "start_time": "2021-03-22T14:20:01.128325Z"
    }
   },
   "outputs": [],
   "source": [
    "# Import the needed libraries\n",
    "import numpy as np"
   ]
  },
  {
   "cell_type": "markdown",
   "id": "polyphonic-finland",
   "metadata": {},
   "source": [
    "**34. How to get all the dates corresponding to the month of July 2016**"
   ]
  },
  {
   "cell_type": "code",
   "execution_count": 28,
   "id": "plastic-aaron",
   "metadata": {
    "ExecuteTime": {
     "end_time": "2021-03-22T14:30:59.238840Z",
     "start_time": "2021-03-22T14:30:59.220227Z"
    }
   },
   "outputs": [
    {
     "name": "stdout",
     "output_type": "stream",
     "text": [
      "Getting all the dates of July, 2016: \n",
      "\n",
      "['2016-07-01' '2016-07-02' '2016-07-03' '2016-07-04' '2016-07-05'\n",
      " '2016-07-06' '2016-07-07' '2016-07-08' '2016-07-09' '2016-07-10'\n",
      " '2016-07-11' '2016-07-12' '2016-07-13' '2016-07-14' '2016-07-15'\n",
      " '2016-07-16' '2016-07-17' '2016-07-18' '2016-07-19' '2016-07-20'\n",
      " '2016-07-21' '2016-07-22' '2016-07-23' '2016-07-24' '2016-07-25'\n",
      " '2016-07-26' '2016-07-27' '2016-07-28' '2016-07-29' '2016-07-30'\n",
      " '2016-07-31']\n"
     ]
    }
   ],
   "source": [
    "print(\"Getting all the dates of July, 2016: \")\n",
    "print( )\n",
    "print(np.arange('2016-07', '2016-08', dtype='datetime64[D]')) #using the datatype of datetime and giving 1 month range\n"
   ]
  },
  {
   "cell_type": "markdown",
   "id": "opposite-impact",
   "metadata": {},
   "source": [
    "**42. Consider two random array A and B, check if they are equal**"
   ]
  },
  {
   "cell_type": "code",
   "execution_count": 27,
   "id": "missing-reception",
   "metadata": {
    "ExecuteTime": {
     "end_time": "2021-03-22T14:29:47.627414Z",
     "start_time": "2021-03-22T14:29:47.611754Z"
    }
   },
   "outputs": [
    {
     "name": "stdout",
     "output_type": "stream",
     "text": [
      "The elementwise comparison is: \n",
      " [[False False False]\n",
      " [False False False]\n",
      " [False False False]] \n",
      "\n",
      " The overall comparision is: False \n"
     ]
    }
   ],
   "source": [
    "A = np.random.random((3,3))\n",
    "B = np.random.random((3,3))\n",
    "\n",
    "comparing = A == B \n",
    "print(f'The elementwise comparison is: \\n {comparing} ')\n",
    "overall = comparing.all()\n",
    "print(f'\\n The overall comparision is: {overall} ')"
   ]
  },
  {
   "cell_type": "code",
   "execution_count": null,
   "id": "chief-arena",
   "metadata": {},
   "outputs": [],
   "source": []
  }
 ],
 "metadata": {
  "kernelspec": {
   "display_name": "Python 3",
   "language": "python",
   "name": "python3"
  },
  "language_info": {
   "codemirror_mode": {
    "name": "ipython",
    "version": 3
   },
   "file_extension": ".py",
   "mimetype": "text/x-python",
   "name": "python",
   "nbconvert_exporter": "python",
   "pygments_lexer": "ipython3",
   "version": "3.8.8"
  }
 },
 "nbformat": 4,
 "nbformat_minor": 5
}
