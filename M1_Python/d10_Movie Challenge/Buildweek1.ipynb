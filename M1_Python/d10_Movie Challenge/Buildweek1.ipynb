{
 "cells": [
  {
   "cell_type": "code",
   "execution_count": 1,
   "id": "vertical-diesel",
   "metadata": {
    "ExecuteTime": {
     "end_time": "2021-04-12T13:35:42.719869Z",
     "start_time": "2021-04-12T13:35:40.457771Z"
    }
   },
   "outputs": [
    {
     "name": "stdout",
     "output_type": "stream",
     "text": [
      "setup complete\n"
     ]
    }
   ],
   "source": [
    "import numpy as numpy\n",
    "import pandas as pandas\n",
    "from bs4 import BeautifulSoup\n",
    "import re\n",
    "from urllib.parse import urljoin\n",
    "import requests\n",
    "print('setup complete')"
   ]
  },
  {
   "cell_type": "code",
   "execution_count": 29,
   "id": "enormous-learning",
   "metadata": {
    "ExecuteTime": {
     "end_time": "2021-04-12T14:57:56.407015Z",
     "start_time": "2021-04-12T14:57:50.992251Z"
    }
   },
   "outputs": [
    {
     "name": "stdout",
     "output_type": "stream",
     "text": [
      "['Harper Lee', 'George Orwell', 'J.K. Rowling', 'F. Scott Fitzgerald', 'George Orwell', 'J.R.R. Tolkien', 'Anne Frank', 'Antoine de Saint-Exupéry', 'Ray Bradbury', 'J.D. Salinger', 'C.S. Lewis', 'John Steinbeck', 'Gabriel García Márquez', 'Aldous Huxley', 'Margaret Mitchell', 'John Steinbeck', 'J.K. Rowling', 'Lois Lowry', 'William Golding', 'Kurt Vonnegut Jr.', 'Vladimir Nabokov', 'John Steinbeck', 'Margaret Atwood', 'Ken Kesey', 'J.R.R. Tolkien', 'Douglas Adams', 'Arthur Golden', 'Albert Camus', 'J.K. Rowling', 'E.B. White', 'C.S. Lewis', \"Madeleine L'Engle\", 'Ernest Hemingway', 'Orson Scott Card', 'Shel Silverstein', 'J.R.R. Tolkien', 'Sylvia Plath', 'J.R.R. Tolkien', 'Betty  Smith', 'Elie Wiesel', 'Richard  Adams', 'Paulo Coelho', 'L.M. Montgomery', 'Truman Capote', 'Dr. Seuss', 'Hermann Hesse', 'Ayn Rand', 'Alice Walker', 'Gabriel García Márquez', 'Barbara Kingsolver', 'Franz Kafka', 'Arthur Conan Doyle', 'Frances Hodgson Burnett', 'Milan Kundera', 'John Irving', 'Stephen King', 'Daphne du Maurier', 'Umberto Eco', 'Maurice Sendak', 'Dr. Seuss', 'Roald Dahl', 'Frank Herbert', 'Ken Follett', 'Mikhail Bulgakov', 'S.E. Hinton', 'Jack Kerouac', 'Douglas Adams', 'Ernest Hemingway', 'James Joyce', 'Erich Maria Remarque', 'Toni Morrison', 'Pearl S. Buck', 'John Kennedy Toole', 'Frank McCourt', 'Amy Tan', 'Ayn Rand', 'William Faulkner', 'Ernest Hemingway', 'John Irving', 'Laura Ingalls Wilder', 'Anthony Burgess', 'Zora Neale Hurston', 'Ernest Hemingway', 'Ralph Ellison', 'Wilson Rawls', 'Daniel Keyes', 'C.S. Lewis', 'Samuel Beckett', 'Larry McMurtry', \"Tim O'Brien\", 'Anita Diamant', 'William Styron', 'George R.R. Martin', 'Hunter S. Thompson', 'J.D. Salinger', 'Virginia Woolf', 'James Joyce', 'José Saramago', 'Kurt Vonnegut Jr.', 'A.A. Milne'] 100\n"
     ]
    }
   ],
   "source": [
    "\n",
    "url = requests.get(\"https://www.goodreads.com/list/show/6.Best_Books_of_the_20th_Century?page=1\")\n",
    "soup = BeautifulSoup(url.content, 'html.parser')\n",
    "\n",
    "author_list = []\n",
    "for i in soup.find_all('a', class_ = 'authorName'):\n",
    "    a = i.text\n",
    "    author_list.append(a)\n",
    "print(author_list, len(author_list))"
   ]
  },
  {
   "cell_type": "code",
   "execution_count": 35,
   "id": "heavy-pioneer",
   "metadata": {
    "ExecuteTime": {
     "end_time": "2021-04-12T15:04:46.668944Z",
     "start_time": "2021-04-12T15:04:46.628041Z"
    }
   },
   "outputs": [
    {
     "name": "stdout",
     "output_type": "stream",
     "text": [
      "['To Kill a Mockingbird', '1984', \"Harry Potter and the Sorcerer's Stone (Harry Potter #1)\", 'The Great Gatsby', 'Animal Farm', 'The Hobbit, or There and Back Again', 'The Diary of a Young Girl', 'The Little Prince', 'Fahrenheit 451', 'The Catcher in the Rye', 'The Lion, the Witch and the Wardrobe (Chronicles of Narnia, #1)', 'The Grapes of Wrath', 'One Hundred Years of Solitude', 'Brave New World', 'Gone with the Wind', 'Of Mice and Men', 'Harry Potter and the Prisoner of Azkaban (Harry Potter, #3)', 'The Giver (The Giver, #1)', 'Lord of the Flies', 'Slaughterhouse-Five', 'Lolita', 'East of Eden', \"The Handmaid's Tale (The Handmaid's Tale, #1)\", \"One Flew Over the Cuckoo's Nest\", 'The Fellowship of the Ring (The Lord of the Rings, #1)', \"The Ultimate Hitchhiker's Guide to the Galaxy (Hitchhiker's Guide to the Galaxy, #1-5)\", 'Memoirs of a Geisha', 'The Stranger', 'Harry Potter and the Chamber of Secrets (Harry Potter, #2)', \"Charlotte's Web\", 'The Chronicles of Narnia (Chronicles of Narnia, #1-7)', 'A Wrinkle in Time (Time Quintet, #1)', 'The Old Man and the Sea', \"Ender's Game (Ender's Saga, #1)\", 'The Giving Tree', 'The Return of the King (The Lord of the Rings, #3)', 'The Bell Jar', 'The Two Towers (The Lord of the Rings, #2)', 'A Tree Grows in Brooklyn', 'Night  (The Night Trilogy, #1)', 'Watership Down (Watership Down, #1)', 'The Alchemist', 'Anne of Green Gables (Anne of Green Gables, #1)', 'In Cold Blood', 'Green Eggs and Ham', 'Siddhartha', 'Atlas Shrugged', 'The Color Purple', 'Love in the Time of Cholera', 'The Poisonwood Bible', 'The Metamorphosis', 'The Complete Sherlock Holmes', 'The Secret Garden', 'The Unbearable Lightness of Being', 'A Prayer for Owen Meany', 'The Stand', 'Rebecca', 'The Name of the Rose', 'Where the Wild Things Are', 'The Lorax', 'Charlie and the Chocolate Factory (Charlie Bucket, #1)', 'Dune (Dune, #1)', 'The Pillars of the Earth (Kingsbridge, #1)', 'The Master and Margarita', 'The Outsiders', 'On the Road', \"The Hitchhiker's Guide to the Galaxy (Hitchhiker's Guide to the Galaxy, #1)\", 'The Sun Also Rises', 'Ulysses', 'All Quiet on the Western Front', 'Beloved', 'The Good Earth (House of Earth, #1)', 'A Confederacy of Dunces', \"Angela's Ashes (Frank McCourt, #1)\", 'The Joy Luck Club', 'The Fountainhead', 'The Sound and the Fury', 'For Whom the Bell Tolls', 'The World According to Garp', 'Little House on the Prairie (Little House, #3)', 'A Clockwork Orange', 'Their Eyes Were Watching God', 'A Farewell to Arms', 'Invisible Man', 'Where the Red Fern Grows', 'Flowers for Algernon', 'Mere Christianity', 'Waiting for Godot', 'Lonesome Dove (Lonesome Dove #1)', 'The Things They Carried', 'The Red Tent', \"Sophie's Choice\", 'A Game of Thrones (A Song of Ice and Fire, #1)', 'Fear and Loathing in Las Vegas', 'Franny and Zooey', 'To the Lighthouse', 'A Portrait of the Artist as a Young Man', 'Blindness (Blindness, #1)', \"Cat's Cradle\", 'Winnie-the-Pooh (Winnie-the-Pooh, #1)'] 100\n"
     ]
    }
   ],
   "source": [
    "title_list = []\n",
    "for i in soup.find_all('a', class_ = 'bookTitle'):\n",
    "    a = i.text\n",
    "    title_list.append(a)\n",
    "list_of_titles = [x.replace('\\n', '') for x in title_list]\n",
    "print(list_of_titles, len(list_of_titles))"
   ]
  },
  {
   "cell_type": "code",
   "execution_count": 39,
   "id": "martial-blink",
   "metadata": {
    "ExecuteTime": {
     "end_time": "2021-04-12T15:13:55.029957Z",
     "start_time": "2021-04-12T15:13:54.981913Z"
    }
   },
   "outputs": [],
   "source": [
    "#Extract rating particulars\n",
    "book_rating = []\n",
    "for i in soup.find_all(\"div\", {\"class\": \"uitext stacked\", \"id\": \"bookMeta\"}):\n",
    "    print(i)\n",
    "    rating_text = rating_divs[0].find_all(\"a\", {\"class\": \"gr-hyperlink\"})[0].text\n",
    "    book_rating.append(rating_text)\n"
   ]
  },
  {
   "cell_type": "code",
   "execution_count": null,
   "id": "integral-documentary",
   "metadata": {},
   "outputs": [],
   "source": []
  },
  {
   "cell_type": "code",
   "execution_count": null,
   "id": "stainless-disney",
   "metadata": {},
   "outputs": [],
   "source": [
    "href_link_list =[]\n",
    "for link in soup.find_all('a', class_='bookTitle') :\n",
    "    if link.has_attr('href'):\n",
    "        href_link_list.append(link.attrs['href'])\n",
    "\n",
    "print(href_link_list)\n",
    "len(href_link_list)"
   ]
  },
  {
   "cell_type": "code",
   "execution_count": null,
   "id": "treated-method",
   "metadata": {},
   "outputs": [],
   "source": [
    "for each_url in href_link_list:\n",
    "    url2 = requests.get(\"https://www.goodreads.com\" + str(each_url))\n",
    "    soup_detail = BeautifulSoup(url2.content, 'html.parser')\n"
   ]
  },
  {
   "cell_type": "code",
   "execution_count": 19,
   "id": "inappropriate-liberty",
   "metadata": {
    "ExecuteTime": {
     "end_time": "2021-04-12T14:22:18.678047Z",
     "start_time": "2021-04-12T14:13:27.137718Z"
    }
   },
   "outputs": [],
   "source": [
    "\n",
    "url = requests.get(\"https://www.goodreads.com/list/show/6.Best_Books_of_the_20th_Century?page=1\")\n",
    "soup = BeautifulSoup(url.content, 'html.parser')\n",
    "\n",
    "href_link_list =[]\n",
    "book_author = []\n",
    "book_title = []\n",
    "book_review = []\n",
    "book_rating = []\n",
    "book_avgrating = []\n",
    "book_pages = []\n",
    "book_publish_year = []\n",
    "book_series = []\n",
    "book_genres = []\n",
    "book_awards = []\n",
    "book_places = []\n",
    "\n",
    "for link in soup.find_all('a', class_='bookTitle') :\n",
    "    if link.has_attr('href'):\n",
    "        href_link_list.append(link.attrs['href'])\n",
    "\n",
    "for path in href_link_list:\n",
    "    url2 = requests.get(\"https://www.goodreads.com\" + path)\n",
    "    soup_detail = BeautifulSoup(url2.content, 'html.parser')\n",
    "       #Extract Author particulars\n",
    "    author_divs = soup_detail.find_all(\"div\", {\"class\":\"authorName__container\"})\n",
    "    author_text = author_divs[0].find_all('a')[0].text\n",
    "    book_author.append(author_text)\n",
    "    \n",
    "    "
   ]
  },
  {
   "cell_type": "code",
   "execution_count": 21,
   "id": "combined-dayton",
   "metadata": {
    "ExecuteTime": {
     "end_time": "2021-04-12T14:23:15.269891Z",
     "start_time": "2021-04-12T14:23:15.253936Z"
    }
   },
   "outputs": [
    {
     "name": "stdout",
     "output_type": "stream",
     "text": [
      "['Harper Lee', 'George Orwell', 'J.K. Rowling', 'F. Scott Fitzgerald', 'George Orwell', 'J.R.R. Tolkien', 'Anne Frank', 'Antoine de Saint-Exupéry', 'Ray Bradbury', 'J.D. Salinger', 'C.S. Lewis', 'John Steinbeck', 'Gabriel García Márquez', 'Aldous Huxley', 'Margaret Mitchell', 'John Steinbeck', 'J.K. Rowling', 'Lois Lowry', 'William Golding', 'Kurt Vonnegut Jr.', 'Vladimir Nabokov', 'John Steinbeck', 'Margaret Atwood', 'Ken Kesey', 'J.R.R. Tolkien', 'Douglas Adams', 'Arthur Golden', 'Albert Camus', 'J.K. Rowling', 'E.B. White', 'C.S. Lewis', \"Madeleine L'Engle\", 'Ernest Hemingway', 'Orson Scott Card', 'Shel Silverstein', 'J.R.R. Tolkien', 'Sylvia Plath', 'J.R.R. Tolkien', 'Betty  Smith', 'Elie Wiesel', 'Richard  Adams', 'Paulo Coelho', 'L.M. Montgomery', 'Truman Capote', 'Dr. Seuss', 'Hermann Hesse', 'Ayn Rand', 'Alice Walker', 'Gabriel García Márquez', 'Barbara Kingsolver', 'Franz Kafka', 'Arthur Conan Doyle', 'Frances Hodgson Burnett', 'Milan Kundera', 'John Irving', 'Stephen King', 'Daphne du Maurier', 'Umberto Eco', 'Maurice Sendak', 'Dr. Seuss', 'Roald Dahl', 'Frank Herbert', 'Ken Follett', 'Mikhail Bulgakov', 'S.E. Hinton', 'Jack Kerouac', 'Douglas Adams', 'Ernest Hemingway', 'James Joyce', 'Erich Maria Remarque', 'Toni Morrison', 'Pearl S. Buck', 'John Kennedy Toole', 'Frank McCourt', 'Amy Tan', 'Ayn Rand', 'William Faulkner', 'Ernest Hemingway', 'John Irving', 'Laura Ingalls Wilder', 'Anthony Burgess', 'Zora Neale Hurston', 'Ernest Hemingway', 'Ralph Ellison', 'Wilson Rawls', 'Daniel Keyes', 'C.S. Lewis', 'Samuel Beckett', 'Larry McMurtry', \"Tim O'Brien\", 'Anita Diamant', 'William Styron', 'George R.R. Martin', 'Hunter S. Thompson', 'J.D. Salinger', 'Virginia Woolf', 'James Joyce', 'José Saramago', 'Kurt Vonnegut Jr.', 'A.A. Milne']\n"
     ]
    },
    {
     "data": {
      "text/plain": [
       "100"
      ]
     },
     "execution_count": 21,
     "metadata": {},
     "output_type": "execute_result"
    }
   ],
   "source": [
    "print(book_author, len(book_author))\n"
   ]
  }
 ],
 "metadata": {
  "kernelspec": {
   "display_name": "Python 3",
   "language": "python",
   "name": "python3"
  },
  "language_info": {
   "codemirror_mode": {
    "name": "ipython",
    "version": 3
   },
   "file_extension": ".py",
   "mimetype": "text/x-python",
   "name": "python",
   "nbconvert_exporter": "python",
   "pygments_lexer": "ipython3",
   "version": "3.8.8"
  }
 },
 "nbformat": 4,
 "nbformat_minor": 5
}
