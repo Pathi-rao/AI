{
 "cells": [
  {
   "cell_type": "code",
   "execution_count": 1,
   "id": "inclusive-silence",
   "metadata": {
    "ExecuteTime": {
     "end_time": "2021-03-29T13:04:35.468432Z",
     "start_time": "2021-03-29T13:04:32.642889Z"
    }
   },
   "outputs": [],
   "source": [
    "#import the libraries\n",
    "\n",
    "from bs4 import BeautifulSoup\n",
    "import requests\n",
    "import numpy as np\n",
    "import pandas as pd\n",
    "import datetime\n",
    "from datetime import timedelta, date\n",
    "import re\n",
    "import matplotlib.pyplot as plt\n",
    "#from jupyterthemes import jtplot\n",
    "#jtplot.style()"
   ]
  },
  {
   "cell_type": "code",
   "execution_count": 2,
   "id": "regular-qualification",
   "metadata": {
    "ExecuteTime": {
     "end_time": "2021-03-29T13:04:36.625036Z",
     "start_time": "2021-03-29T13:04:35.470428Z"
    }
   },
   "outputs": [],
   "source": [
    "#Get the webpage and parse it as html\n",
    "\n",
    "page = requests.get(\"https://www.imdb.com/search/title/?genres=sci_fi&sort=user_rating,desc&title_type=feature&num_votes=25000,&pf_rd_m=A2FGELUUNOQJNL&pf_rd_p=5aab685f-35eb-40f3-95f7-c53f09d542c3&pf_rd_r=E40TDJEMENX3WJ81KT4Q&pf_rd_s=right-6&pf_rd_t=15506&pf_rd_i=top&ref_=chttp_gnr_17\")\n",
    "soup = BeautifulSoup(page.content, 'html.parser')\n",
    "#print(soup)"
   ]
  },
  {
   "cell_type": "code",
   "execution_count": 3,
   "id": "automated-shoot",
   "metadata": {
    "ExecuteTime": {
     "end_time": "2021-03-29T13:04:36.658920Z",
     "start_time": "2021-03-29T13:04:36.627004Z"
    }
   },
   "outputs": [
    {
     "name": "stdout",
     "output_type": "stream",
     "text": [
      "['Inception', 'Matrix', 'Das Imperium schlägt zurück', 'Interstellar', 'Krieg der Sterne', 'Prestige: Die Meister der Magie', 'Terminator 2: Tag der Abrechnung', 'Zurück in die Zukunft', 'Spider-Man: A New Universe', 'Avengers: Endgame', 'Avengers: Infinity War', 'WALL·E: Der Letzte räumt die Erde auf', 'Alien - Das unheimliche Wesen aus einer fremden Welt', 'Zack Snyder: Justice League', 'Vergiss mein nicht', 'Aliens - Die Rückkehr', 'Die Rückkehr der Jedi-Ritter', 'Uhrwerk Orange', '2001: Odyssee im Weltraum', 'Metropolis', 'V wie Vendetta', 'Stalker', 'Logan: The Wolverine', 'PK - Andere Sterne, Andere Sitten', 'Mad Max: Fury Road', 'Neon Genesis Evangelion - The End of Evangelion', 'Jurassic Park', 'Nausicaä - Prinzessin aus dem Tal der Winde', 'Das Ding aus einer anderen Welt', 'Der Blade Runner', 'Solaris', 'Der Marsianer: Rettet Mark Watney', 'Guardians of the Galaxy', 'Blade Runner 2049', 'Her', 'Deadpool', 'The Avengers', 'G.O.R.A.', 'Donnie Darko', 'Der Gigant aus dem All', '12 Monkeys', 'Ghost in the Shell', 'Akira', 'Das Schloss im Himmel', 'Terminator', 'Planet der Affen', 'Isle of Dogs - Ataris Reise', 'Thor: Tag der Entscheidung', 'Arrival', 'Star Wars - Episode VII: Das Erwachen der Macht']\n"
     ]
    }
   ],
   "source": [
    "#Get the movie names#\n",
    "\n",
    "all_movies = soup.find_all('div', class_= 'lister-item mode-advanced')\n",
    "fifty_movies = all_movies[0:50]\n",
    "\n",
    "movie_names = []\n",
    "for each_movie in fifty_movies:\n",
    "    movie_name = each_movie.h3.a.text\n",
    "    movie_names.append(movie_name)\n",
    "    \n",
    "print(movie_names)"
   ]
  },
  {
   "cell_type": "code",
   "execution_count": 4,
   "id": "collected-establishment",
   "metadata": {
    "ExecuteTime": {
     "end_time": "2021-03-29T13:04:36.687127Z",
     "start_time": "2021-03-29T13:04:36.660915Z"
    }
   },
   "outputs": [
    {
     "name": "stdout",
     "output_type": "stream",
     "text": [
      "['8.8', '8.7', '8.7', '8.6', '8.6', '8.5', '8.5', '8.5', '8.4', '8.4', '8.4', '8.4', '8.4', '8.3', '8.3', '8.3', '8.3', '8.3', '8.3', '8.3', '8.2', '8.2', '8.1', '8.1', '8.1', '8.1', '8.1', '8.1', '8.1', '8.1', '8.1', '8.0', '8.0', '8.0', '8.0', '8.0', '8.0', '8.0', '8.0', '8.0', '8.0', '8.0', '8.0', '8.0', '8.0', '8.0', '7.9', '7.9', '7.9', '7.9']\n"
     ]
    }
   ],
   "source": [
    "#Get the rating\n",
    "\n",
    "movie_rating = soup.find_all('div', class_ = 'inline-block ratings-imdb-rating')\n",
    "movie_rating_list = []\n",
    "for each_movie in movie_rating:\n",
    "    e = each_movie.text\n",
    "    movie_rating_list.append(e)\n",
    "\n",
    "movie_rating_string = ' '.join(movie_rating_list)  \n",
    "movie_rating = re.findall(\"[\\d][.][\\d]\", movie_rating_string)\n",
    "movie_rating = movie_rating[0:50]\n",
    "print(movie_rating)"
   ]
  },
  {
   "cell_type": "code",
   "execution_count": 5,
   "id": "republican-phrase",
   "metadata": {
    "ExecuteTime": {
     "end_time": "2021-03-29T13:04:36.723998Z",
     "start_time": "2021-03-29T13:04:36.688096Z"
    }
   },
   "outputs": [
    {
     "name": "stdout",
     "output_type": "stream",
     "text": [
      "['2010', '1999', '1980', '2014', '1977', '2006', '1991', '1985', '2018', '2019', '2018', '2008', '1979', '2021', '2004', '1986', '1983', '1971', '1968', '1927', '2005', '1979', '2017', '2014', '2015', '1997', '1993', '1984', '1982', '1982', '1972', '2015', '2014', '2017', '2013', '2016', '2012', '2004', '2001', '1999', '1995', '1995', '1988', '1986', '1984', '1968', '2018', '2017', '2016', '2015']\n"
     ]
    }
   ],
   "source": [
    "#Get the movie year\n",
    "\n",
    "year = soup.find_all('span', class_= 'lister-item-year text-muted unbold')\n",
    "\n",
    "movies_year_list = []\n",
    "for each_movie in year:\n",
    "    e = each_movie.text\n",
    "    movies_year_list.append(e)\n",
    "\n",
    "movie_year_string = ' '.join(movies_year_list)  \n",
    "movie_year = re.findall(\"[0-9]+\", movie_year_string)\n",
    "print(movie_year)                                    #cleaned movie year"
   ]
  },
  {
   "cell_type": "code",
   "execution_count": 6,
   "id": "comic-mirror",
   "metadata": {
    "ExecuteTime": {
     "end_time": "2021-03-29T13:04:36.748932Z",
     "start_time": "2021-03-29T13:04:36.726995Z"
    }
   },
   "outputs": [
    {
     "name": "stdout",
     "output_type": "stream",
     "text": [
      "['148', '136', '124', '169', '121', '130', '137', '116', '117', '181', '149', '98', '117', '242', '108', '137', '131', '136', '149', '153', '132', '162', '137', '153', '120', '87', '127', '117', '109', '117', '167', '144', '121', '164', '126', '108', '143', '127', '113', '86', '129', '83', '124', '125', '107', '112', '101', '130', '116', '138']\n"
     ]
    }
   ],
   "source": [
    "#Get the duration\n",
    "\n",
    "runtime = soup.find_all('span', class_ = 'runtime')\n",
    "\n",
    "movies_runtime_list = []\n",
    "for each_movie in runtime:\n",
    "    e = each_movie.text\n",
    "    movies_runtime_list.append(e)\n",
    "\n",
    "movie_runtime_string = ' '.join(movies_runtime_list)  \n",
    "movie_runtime = re.findall(\"[0-9]+\", movie_runtime_string)\n",
    "print(movie_runtime)                                        #cleaned movie runtime\n"
   ]
  },
  {
   "cell_type": "code",
   "execution_count": 10,
   "id": "compressed-leone",
   "metadata": {
    "ExecuteTime": {
     "end_time": "2021-03-29T13:05:04.817839Z",
     "start_time": "2021-03-29T13:05:04.778952Z"
    }
   },
   "outputs": [
    {
     "name": "stdout",
     "output_type": "stream",
     "text": [
      "['ChristopherNolan', 'LanaWachowski,LillyWachowski', 'IrvinKershner', 'ChristopherNolan', 'GeorgeLucas', 'ChristopherNolan', 'JamesCameron', 'RobertZemeckis', 'BobPersichetti,PeterRamsey,RodneyRothman', 'AnthonyRusso,JoeRusso', 'AnthonyRusso,JoeRusso', 'AndrewStanton', 'RidleyScott', 'ZackSnyder', 'MichelGondry', 'JamesCameron', 'RichardMarquand', 'StanleyKubrick', 'StanleyKubrick', 'FritzLang', 'JamesMcTeigue', 'AndreiTarkovsky', 'JamesMangold', 'RajkumarHirani', 'GeorgeMiller', 'HideakiAnno,KazuyaTsurumaki', 'StevenSpielberg', 'HayaoMiyazaki', 'JohnCarpenter', 'RidleyScott', 'AndreiTarkovsky', 'RidleyScott', 'JamesGunn', 'DenisVilleneuve', 'SpikeJonze', 'TimMiller', 'JossWhedon', 'ÖmerFarukSorak', 'RichardKelly', 'BradBird', 'TerryGilliam', 'MamoruOshii', 'KatsuhiroÔtomo', 'HayaoMiyazaki', 'JamesCameron', 'FranklinJ.Schaffner', 'WesAnderson', 'TaikaWaititi', 'DenisVilleneuve', 'J.J.Abrams']\n"
     ]
    }
   ],
   "source": [
    "#Get the actors and directors\n",
    "act_direc = soup.find_all('div',class_=\"lister-item-content\")\n",
    "\n",
    "#Actors\n",
    "list_of_directors = []\n",
    "list_of_actors = []\n",
    "for i in range(0,50):                        #as there are 50 movies per page, loop over them\n",
    "    names = act_direc[i].find_all('p')[2].text\n",
    "    names = names.split(\":\")\n",
    "    list_of_actors.append(names[ len(names) -1 ])      \n",
    "list(map(lambda x:x.strip(),list_of_actors))\n",
    "list_of_actors = [x.replace('\\n', '') for x in list_of_actors]\n",
    "\n",
    "#Directors\n",
    "for i in range(0,50):                        \n",
    "    names = act_direc[i].find_all('p')[2].text\n",
    "    names = names.split(\":\")\n",
    "    list_of_directors.append(names[1]) \n",
    "\n",
    "list_of_directors = [x.replace('\\n', '').replace('|', '').replace('Stars','').replace(' ','') for x in list_of_directors]  \n",
    "print(list_of_directors)\n",
    "#print(list_of_actors)"
   ]
  },
  {
   "cell_type": "code",
   "execution_count": 8,
   "id": "exclusive-begin",
   "metadata": {
    "ExecuteTime": {
     "end_time": "2021-03-29T13:04:36.795883Z",
     "start_time": "2021-03-29T13:04:36.779894Z"
    }
   },
   "outputs": [
    {
     "name": "stdout",
     "output_type": "stream",
     "text": [
      "['2,091,477 $292.58M', '1,694,329 $171.48M', '1,169,656 $290.48M', '1,535,923 $188.02M', '1,241,674 $322.74M', '1,203,488 $53.09M', '1,003,366 $204.84M', '1,070,166 $210.61M', '388,039 $190.24M', '844,363 $858.37M', '857,078 $678.82M', '1,009,836 $223.81M', '795,658 $78.90M', '218,682', '919,659 $34.40M', '657,929 $85.16M', '958,609 $309.13M', '764,271 $6.21M', '609,368 $56.95M', '161,460 $1.24M', '1,040,836 $70.51M', '118,760 $0.23M', '656,927 $226.28M', '164,778 $10.62M', '892,235 $154.06M', '40,313', '876,268 $402.45M', '153,094 $0.50M', '374,913 $13.78M', '699,774 $32.87M', '82,068', '768,175 $228.43M', '1,053,950 $333.18M', '470,557 $92.05M', '547,313 $25.57M', '912,528 $363.07M', '1,271,755 $623.28M', '57,636', '745,082 $1.48M', '173,544 $23.16M', '582,346 $57.14M', '130,664 $0.52M', '166,754 $0.55M', '151,807', '803,543 $38.40M', '166,110 $33.40M', '142,077 $32.02M', '601,124 $315.06M', '602,595 $100.55M', '866,340 $936.66M']\n",
      "\n",
      "['2,091,477', '1,694,329', '1,169,656', '1,535,923', '1,241,674', '1,203,488', '1,003,366', '1,070,166', '388,039', '844,363', '857,078', '1,009,836', '795,658', '218,682', '919,659', '657,929', '958,609', '764,271', '609,368', '161,460', '1,040,836', '118,760', '656,927', '164,778', '892,235', '40,313', '876,268', '153,094', '374,913', '699,774', '82,068', '768,175', '1,053,950', '470,557', '547,313', '912,528', '1,271,755', '57,636', '745,082', '173,544', '582,346', '130,664', '166,754', '151,807', '803,543', '166,110', '142,077', '601,124', '602,595', '866,340']\n"
     ]
    }
   ],
   "source": [
    "#Get the votes\n",
    "Total_votes = soup.find_all('p',class_=\"sort-num_votes-visible\")\n",
    "votes_gross =[]\n",
    "for i in Total_votes:\n",
    "    votes_gross.append(i.text)\n",
    "    list(map(lambda x:x.strip(),votes_gross))\n",
    "    votes_gross = [x.replace('\\n', '').replace('|','').replace('Votes:','').replace('Gross:','') for x in votes_gross]  \n",
    "\n",
    "\n",
    "#split each element in votes_gross and save as separate lists\n",
    "print(votes_gross)\n",
    "votes = []\n",
    "for i in range(0,50):\n",
    "    a = votes_gross[i].split()\n",
    "    votes.append(a[0])\n",
    "print( )\n",
    "print(votes)  \n",
    "#Make a if elif statement to check each element (lenght of element and make a condition and append it)\n"
   ]
  },
  {
   "cell_type": "code",
   "execution_count": 9,
   "id": "faced-wagon",
   "metadata": {
    "ExecuteTime": {
     "end_time": "2021-03-29T13:04:37.049537Z",
     "start_time": "2021-03-29T13:04:36.796848Z"
    }
   },
   "outputs": [
    {
     "ename": "IndexError",
     "evalue": "list index out of range",
     "output_type": "error",
     "traceback": [
      "\u001b[1;31m---------------------------------------------------------------------------\u001b[0m",
      "\u001b[1;31mIndexError\u001b[0m                                Traceback (most recent call last)",
      "\u001b[1;32m<ipython-input-9-69a4123e0081>\u001b[0m in \u001b[0;36m<module>\u001b[1;34m\u001b[0m\n\u001b[0;32m      3\u001b[0m \u001b[0mmetascore\u001b[0m \u001b[1;33m=\u001b[0m \u001b[1;33m[\u001b[0m\u001b[1;33m]\u001b[0m\u001b[1;33m\u001b[0m\u001b[1;33m\u001b[0m\u001b[0m\n\u001b[0;32m      4\u001b[0m \u001b[1;32mfor\u001b[0m \u001b[0mi\u001b[0m \u001b[1;32min\u001b[0m \u001b[0mrange\u001b[0m\u001b[1;33m(\u001b[0m\u001b[1;36m0\u001b[0m\u001b[1;33m,\u001b[0m\u001b[1;36m50\u001b[0m\u001b[1;33m)\u001b[0m\u001b[1;33m:\u001b[0m\u001b[1;33m\u001b[0m\u001b[1;33m\u001b[0m\u001b[0m\n\u001b[1;32m----> 5\u001b[1;33m     \u001b[0mm\u001b[0m \u001b[1;33m=\u001b[0m \u001b[0mscore\u001b[0m\u001b[1;33m[\u001b[0m\u001b[0mi\u001b[0m\u001b[1;33m]\u001b[0m\u001b[1;33m.\u001b[0m\u001b[0mfind\u001b[0m\u001b[1;33m(\u001b[0m\u001b[1;34m'span'\u001b[0m\u001b[1;33m)\u001b[0m\u001b[1;33m.\u001b[0m\u001b[0mtext\u001b[0m\u001b[1;33m\u001b[0m\u001b[1;33m\u001b[0m\u001b[0m\n\u001b[0m\u001b[0;32m      6\u001b[0m     \u001b[0mmetascore\u001b[0m\u001b[1;33m.\u001b[0m\u001b[0mappend\u001b[0m\u001b[1;33m(\u001b[0m\u001b[0mm\u001b[0m\u001b[1;33m)\u001b[0m\u001b[1;33m\u001b[0m\u001b[1;33m\u001b[0m\u001b[0m\n\u001b[0;32m      7\u001b[0m \u001b[0mmetascore\u001b[0m\u001b[1;33m\u001b[0m\u001b[1;33m\u001b[0m\u001b[0m\n",
      "\u001b[1;31mIndexError\u001b[0m: list index out of range"
     ]
    }
   ],
   "source": [
    "#Get the metascore\n",
    "score = soup.find_all('div',class_=\"inline-block ratings-metascore\")\n",
    "metascore = []\n",
    "for i in range(0,50):\n",
    "    m = score[i].find('span').text\n",
    "    metascore.append(m)\n",
    "metascore\n"
   ]
  },
  {
   "cell_type": "code",
   "execution_count": null,
   "id": "domestic-process",
   "metadata": {
    "ExecuteTime": {
     "end_time": "2021-03-29T13:04:37.051499Z",
     "start_time": "2021-03-29T13:04:32.668Z"
    },
    "scrolled": true
   },
   "outputs": [],
   "source": [
    "#create the dataframe\n",
    "\n",
    "df = pd.DataFrame({'Movie':movie_names, 'Rating':movie_rating, 'Year':movie_year,'Runtime':movie_runtime,\n",
    "                   'Votes':votes, 'Director':list_of_directors, 'Stars':list_of_actors})\n",
    "\n",
    "#df = pd.read_csv(\"IMDB_webscrapping.csv\")\n",
    "#df[\"Movie\"] = movie_names\n",
    "df.to_csv(\"IMDB_webscrapping.csv\", index=False)\n",
    "df\n",
    "\n",
    "#df.to_csv('Movies50_100.csv', index=False) #write the df to a csv file"
   ]
  }
 ],
 "metadata": {
  "kernelspec": {
   "display_name": "Python 3",
   "language": "python",
   "name": "python3"
  },
  "language_info": {
   "codemirror_mode": {
    "name": "ipython",
    "version": 3
   },
   "file_extension": ".py",
   "mimetype": "text/x-python",
   "name": "python",
   "nbconvert_exporter": "python",
   "pygments_lexer": "ipython3",
   "version": "3.8.8"
  }
 },
 "nbformat": 4,
 "nbformat_minor": 5
}
