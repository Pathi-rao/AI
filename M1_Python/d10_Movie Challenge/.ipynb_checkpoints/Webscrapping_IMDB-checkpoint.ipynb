{
 "cells": [
  {
   "cell_type": "code",
   "execution_count": 1,
   "id": "inclusive-silence",
   "metadata": {
    "ExecuteTime": {
     "end_time": "2021-04-11T18:27:45.784574Z",
     "start_time": "2021-04-11T18:27:43.986325Z"
    }
   },
   "outputs": [],
   "source": [
    "#import the libraries\n",
    "\n",
    "from bs4 import BeautifulSoup\n",
    "import requests\n",
    "import numpy as np\n",
    "import pandas as pd\n",
    "import datetime\n",
    "from datetime import timedelta, date\n",
    "import re\n",
    "import matplotlib.pyplot as plt\n",
    "#from jupyterthemes import jtplot\n",
    "#jtplot.style()"
   ]
  },
  {
   "cell_type": "code",
   "execution_count": 38,
   "id": "regular-qualification",
   "metadata": {
    "ExecuteTime": {
     "end_time": "2021-04-09T09:28:38.932217Z",
     "start_time": "2021-04-09T09:28:36.689115Z"
    }
   },
   "outputs": [],
   "source": [
    "#Get the webpage and parse it as html\n",
    "\n",
    "page = requests.get(\"https://www.imdb.com/search/title/?title_type=feature&num_votes=25000,&genres=sci-fi&sort=user_rating,desc&start=51&ref_=adv_nxt\")\n",
    "soup = BeautifulSoup(page.content, 'html.parser')\n",
    "#print(soup)"
   ]
  },
  {
   "cell_type": "code",
   "execution_count": 39,
   "id": "automated-shoot",
   "metadata": {
    "ExecuteTime": {
     "end_time": "2021-04-09T09:28:39.018265Z",
     "start_time": "2021-04-09T09:28:38.941226Z"
    }
   },
   "outputs": [
    {
     "name": "stdout",
     "output_type": "stream",
     "text": [
      "['X-Men: Zukunft ist Vergangenheit', 'Edge of Tomorrow - Live. Die. Repeat', 'Moon', 'District 9', 'Star Trek', 'The Man from Earth', 'Iron Man', 'Cowboy Bebop - Der Film', 'Children of Men', 'Brazil', 'King Kong und die weiße Frau', 'Star Wars: Rogue One', 'The First Avenger: Civil War', 'Baymax - Riesiges Robowabohu', 'Alles eine Frage der Zeit', 'Avatar - Aufbruch nach Pandora', 'Mr. Nobody', 'Serenity: Flucht in neue Welten', 'Gattaca', 'Zurück in die Zukunft II', 'Predator', 'Ghostbusters - Die Geisterjäger', 'E.T. - Der Außerirdische', 'Der phantastische Planet', 'Frankensteins Braut', 'Frankenstein', 'Deadpool 2', 'The Return of the First Avenger', 'Gravity', 'Star Trek Into Darkness', 'X-Men: Erste Entscheidung', 'Paprika', 'Das Mädchen, das durch die Zeit sprang', 'Ex Machina', 'Vampire Hunter D: Bloodlust', 'Virtual Nightmare - Open Your Eyes', 'Das fünfte Element', 'Star Trek II: Der Zorn des Khan', 'Die Invasion der Körperfresser', 'Der Tag, an dem die Erde stillstand', 'Der Unsichtbare', 'Guardians of the Galaxy Vol. 2', 'Die Unglaublichen 2', 'Planet der Affen: Revolution', 'Planet der Affen: Prevolution', 'Zombieland', 'Watchmen: Die Wächter', 'Butterfly Effect', '28 Tage später', 'Battle Royale']\n"
     ]
    }
   ],
   "source": [
    "#Get the movie names#\n",
    "\n",
    "all_movies = soup.find_all('div', class_= 'lister-item mode-advanced')\n",
    "fifty_movies = all_movies[0:50]\n",
    "\n",
    "movie_names = []\n",
    "for each_movie in fifty_movies:\n",
    "    movie_name = each_movie.h3.a.text\n",
    "    movie_names.append(movie_name)\n",
    "    \n",
    "print(movie_names)"
   ]
  },
  {
   "cell_type": "code",
   "execution_count": 40,
   "id": "collected-establishment",
   "metadata": {
    "ExecuteTime": {
     "end_time": "2021-04-09T09:28:39.095524Z",
     "start_time": "2021-04-09T09:28:39.025259Z"
    }
   },
   "outputs": [
    {
     "name": "stdout",
     "output_type": "stream",
     "text": [
      "['7.9', '7.9', '7.9', '7.9', '7.9', '7.9', '7.9', '7.9', '7.9', '7.9', '7.9', '7.8', '7.8', '7.8', '7.8', '7.8', '7.8', '7.8', '7.8', '7.8', '7.8', '7.8', '7.8', '7.8', '7.8', '7.8', '7.7', '7.7', '7.7', '7.7', '7.7', '7.7', '7.7', '7.7', '7.7', '7.7', '7.7', '7.7', '7.7', '7.7', '7.7', '7.6', '7.6', '7.6', '7.6', '7.6', '7.6', '7.6', '7.6', '7.6']\n"
     ]
    }
   ],
   "source": [
    "#Get the rating\n",
    "\n",
    "movie_rating = soup.find_all('div', class_ = 'inline-block ratings-imdb-rating')\n",
    "movie_rating_list = []\n",
    "for each_movie in movie_rating:\n",
    "    e = each_movie.text\n",
    "    movie_rating_list.append(e)\n",
    "\n",
    "movie_rating_string = ' '.join(movie_rating_list)  \n",
    "movie_rating = re.findall(\"[\\d][.][\\d]\", movie_rating_string)\n",
    "movie_rating = movie_rating[0:50]\n",
    "print(movie_rating)"
   ]
  },
  {
   "cell_type": "code",
   "execution_count": 41,
   "id": "republican-phrase",
   "metadata": {
    "ExecuteTime": {
     "end_time": "2021-04-09T09:28:39.196514Z",
     "start_time": "2021-04-09T09:28:39.103618Z"
    }
   },
   "outputs": [
    {
     "name": "stdout",
     "output_type": "stream",
     "text": [
      "['2014', '2014', '2009', '2009', '2009', '2007', '2008', '2001', '2006', '1985', '1933', '2016', '2016', '2014', '2013', '2009', '2009', '2005', '1997', '1989', '1987', '1984', '1982', '1973', '1935', '1931', '2018', '2014', '2013', '2013', '2011', '2006', '2006', '2014', '2000', '1997', '1997', '1982', '1956', '1951', '1933', '2017', '2018', '2014', '2011', '2009', '2009', '2004', '2002', '2000']\n"
     ]
    }
   ],
   "source": [
    "#Get the movie year\n",
    "\n",
    "year = soup.find_all('span', class_= 'lister-item-year text-muted unbold')\n",
    "\n",
    "movies_year_list = []\n",
    "for each_movie in year:\n",
    "    e = each_movie.text\n",
    "    movies_year_list.append(e)\n",
    "\n",
    "movie_year_string = ' '.join(movies_year_list)  \n",
    "movie_year = re.findall(\"[0-9]+\", movie_year_string)\n",
    "print(movie_year)                                    #cleaned movie year"
   ]
  },
  {
   "cell_type": "code",
   "execution_count": 42,
   "id": "comic-mirror",
   "metadata": {
    "ExecuteTime": {
     "end_time": "2021-04-09T09:28:39.289225Z",
     "start_time": "2021-04-09T09:28:39.201381Z"
    }
   },
   "outputs": [
    {
     "name": "stdout",
     "output_type": "stream",
     "text": [
      "['132', '113', '97', '112', '127', '87', '126', '115', '109', '132', '100', '133', '147', '102', '123', '162', '141', '119', '106', '108', '107', '105', '115', '72', '75', '70', '119', '136', '91', '132', '131', '90', '98', '108', '103', '119', '126', '113', '80', '85', '71', '136', '118', '130', '105', '88', '162', '113', '113', '114']\n"
     ]
    }
   ],
   "source": [
    "#Get the duration\n",
    "\n",
    "runtime = soup.find_all('span', class_ = 'runtime')\n",
    "\n",
    "movies_runtime_list = []\n",
    "for each_movie in runtime:\n",
    "    e = each_movie.text\n",
    "    movies_runtime_list.append(e)\n",
    "\n",
    "movie_runtime_string = ' '.join(movies_runtime_list)   \n",
    "movie_runtime = re.findall(\"[0-9]+\", movie_runtime_string)\n",
    "print(movie_runtime)                                        #cleaned movie runtime\n"
   ]
  },
  {
   "cell_type": "code",
   "execution_count": 43,
   "id": "compressed-leone",
   "metadata": {
    "ExecuteTime": {
     "end_time": "2021-04-09T09:28:39.393517Z",
     "start_time": "2021-04-09T09:28:39.296207Z"
    }
   },
   "outputs": [
    {
     "name": "stdout",
     "output_type": "stream",
     "text": [
      "['BryanSinger', 'DougLiman', 'DuncanJones', 'NeillBlomkamp', 'J.J.Abrams', 'RichardSchenkman', 'JonFavreau', \"Shin'ichirôWatanabe,TensaiOkamura,HiroyukiOkiura,YoshiyukiTakei\", 'AlfonsoCuarón', 'TerryGilliam', 'MerianC.Cooper,ErnestB.Schoedsack', 'GarethEdwards', 'AnthonyRusso,JoeRusso', 'DonHall,ChrisWilliams', 'RichardCurtis', 'JamesCameron', 'JacoVanDormael', 'JossWhedon', 'AndrewNiccol', 'RobertZemeckis', 'JohnMcTiernan', 'IvanReitman', 'StevenSpielberg', 'RenéLaloux', 'JamesWhale', 'JamesWhale', 'DavidLeitch', 'AnthonyRusso,JoeRusso', 'AlfonsoCuarón', 'J.J.Abrams', 'MatthewVaughn', 'SatoshiKon', 'MamoruHosoda', 'AlexGarland', 'YoshiakiKawajiri', 'AlejandroAmenábar', 'LucBesson', 'NicholasMeyer', 'DonSiegel', 'RobertWise', 'JamesWhale', 'JamesGunn', 'BradBird', 'MattReeves', 'RupertWyatt', 'RubenFleischer', 'ZackSnyder', 'EricBress,J.MackyeGruber', 'DannyBoyle', 'KinjiFukasaku']\n"
     ]
    }
   ],
   "source": [
    "#Get the actors and directors\n",
    "act_direc = soup.find_all('div',class_=\"lister-item-content\")\n",
    "\n",
    "#Actors\n",
    "list_of_directors = []\n",
    "list_of_actors = []\n",
    "for i in range(0,50):                        #as there are 50 movies per page, loop over them\n",
    "    names = act_direc[i].find_all('p')[2].text\n",
    "    names = names.split(\":\")\n",
    "    list_of_actors.append(names[ len(names) -1 ])      \n",
    "list(map(lambda x:x.strip(),list_of_actors))\n",
    "list_of_actors = [x.replace('\\n', '') for x in list_of_actors]\n",
    "\n",
    "#Directors\n",
    "for i in range(0,50):                        \n",
    "    names = act_direc[i].find_all('p')[2].text\n",
    "    names = names.split(\":\")\n",
    "    list_of_directors.append(names[1]) \n",
    "\n",
    "list_of_directors = [x.replace('\\n', '').replace('|', '').replace('Stars','').replace(' ','') for x in list_of_directors]  \n",
    "print(list_of_directors)\n",
    "#print(list_of_actors)"
   ]
  },
  {
   "cell_type": "code",
   "execution_count": 44,
   "id": "exclusive-begin",
   "metadata": {
    "ExecuteTime": {
     "end_time": "2021-04-09T09:28:39.463564Z",
     "start_time": "2021-04-09T09:28:39.400469Z"
    }
   },
   "outputs": [
    {
     "name": "stdout",
     "output_type": "stream",
     "text": [
      "['233.92', '100.21', '5.01', '115.65', '257.73', 'nan', '318.41', '1.00', '35.55', '9.93', '10.00', '532.18', '408.08', '222.53', '15.32', '760.51', '0.00', '25.51', '12.34', '118.50', '59.74', '238.63', '435.11', '0.19', '4.36', 'nan', '324.59', '259.77', '274.09', '228.78', '146.41', '0.88', 'nan', '25.44', '0.15', '0.37', '63.54', '78.91', 'nan', 'nan', 'nan', '389.81', '608.58', '208.55', '176.76', '75.59', '107.51', '57.94', '45.06', 'nan']\n",
      "['665,598', '606,296', '337,692', '641,900', '579,674', '175,632', '951,668', '43,385', '468,493', '188,934', '80,012', '563,108', '676,683', '415,473', '309,495', '1,128,084', '218,580', '284,719', '283,200', '486,680', '374,898', '358,788', '376,010', '26,121', '43,904', '65,932', '490,219', '747,734', '774,950', '465,156', '650,381', '72,676', '61,176', '479,571', '29,553', '64,549', '437,770', '113,602', '45,328', '76,626', '31,135', '580,658', '255,081', '414,123', '498,662', '523,862', '509,815', '454,673', '379,787', '170,289']\n"
     ]
    }
   ],
   "source": [
    "#Get the votes\n",
    "Total_votes = soup.find_all('p',class_=\"sort-num_votes-visible\")\n",
    "votes_gross =[]\n",
    "for i in Total_votes:\n",
    "    votes_gross.append(i.text)\n",
    "    list(map(lambda x:x.strip(),votes_gross))\n",
    "    votes_gross = [x.replace('\\n', '').replace('|','').replace('Votes:','').replace('Gross:','') for x in votes_gross]  \n",
    "\n",
    "#Separate votes and gross into separate lists(if somevalues are missing, replace it with Zero)\n",
    "votes = []\n",
    "gross = []\n",
    "\n",
    "for i in range(0,50):\n",
    "    splt = votes_gross[i].split()\n",
    "\n",
    "    if len(splt) == 2:       #the 2nd element is associated to gross\n",
    "        gross.append(splt[1])\n",
    "    else:\n",
    "        gross.append('nan')  #votes are available for all movies but gross is missing for some\n",
    "    votes.append(splt[0]) \n",
    "\n",
    "gross = [i.replace(\"M\",\"\").replace(\"$\",\"\") for i in gross] #Remove the $ and M from gross values\n",
    "print(gross)\n",
    "print(votes)"
   ]
  },
  {
   "cell_type": "code",
   "execution_count": 45,
   "id": "surprising-baltimore",
   "metadata": {
    "ExecuteTime": {
     "end_time": "2021-04-09T09:28:39.568332Z",
     "start_time": "2021-04-09T09:28:39.469245Z"
    }
   },
   "outputs": [
    {
     "data": {
      "text/plain": [
       "['75',\n",
       " '71',\n",
       " '67',\n",
       " '81',\n",
       " '82',\n",
       " 'nan',\n",
       " '79',\n",
       " '61',\n",
       " '84',\n",
       " '84',\n",
       " '90',\n",
       " '65',\n",
       " '75',\n",
       " '74',\n",
       " '55',\n",
       " '83',\n",
       " '63',\n",
       " '74',\n",
       " '64',\n",
       " '57',\n",
       " '45',\n",
       " '71',\n",
       " '91',\n",
       " '73',\n",
       " '95',\n",
       " '91',\n",
       " '66',\n",
       " '70',\n",
       " '96',\n",
       " '72',\n",
       " '65',\n",
       " '81',\n",
       " 'nan',\n",
       " '78',\n",
       " '62',\n",
       " 'nan',\n",
       " '52',\n",
       " '67',\n",
       " '92',\n",
       " 'nan',\n",
       " '87',\n",
       " '67',\n",
       " '80',\n",
       " '79',\n",
       " '68',\n",
       " '73',\n",
       " '56',\n",
       " '30',\n",
       " '73',\n",
       " '81']"
      ]
     },
     "execution_count": 45,
     "metadata": {},
     "output_type": "execute_result"
    }
   ],
   "source": [
    "# Getting metascore\n",
    "score = soup.find_all('div',class_=\"ratings-bar\")\n",
    "metascore = []\n",
    "for i in range(0,50):\n",
    "    meta = score[i].find_all('div', class_ = \"inline-block ratings-metascore\")\n",
    "    try:\n",
    "        m = meta[0].find('span').text\n",
    "        metascore.append(m)\n",
    "    except:\n",
    "        metascore.append(\"nan\")\n",
    "        \n",
    "score = str.maketrans('', '', ' ')\n",
    "score_list = [s.translate(score) for s in metascore]\n",
    "score_list\n",
    "#   The str.maketrans() static method is a helpful tool to produce the translation map; \n",
    "#   the first two arguments are empty strings because you are not replacing characters, only removing. \n",
    "#  The third string holds all characters you want to remove."
   ]
  },
  {
   "cell_type": "code",
   "execution_count": 46,
   "id": "domestic-process",
   "metadata": {
    "ExecuteTime": {
     "end_time": "2021-04-09T09:28:39.608542Z",
     "start_time": "2021-04-09T09:28:39.577352Z"
    },
    "scrolled": true
   },
   "outputs": [],
   "source": [
    "#create the dataframe\n",
    "\n",
    "df = pd.DataFrame({'Movie':movie_names, 'Rating':movie_rating, 'Release Year':movie_year,'Runtime':movie_runtime,\n",
    "                   'Metascore':score_list,'Votes':votes, 'Gross(Million $)':gross, 'Director':list_of_directors, 'Stars':list_of_actors})\n",
    "\n",
    "#df.to_csv(\"IMDB_first100.csv\", index=False)"
   ]
  },
  {
   "cell_type": "code",
   "execution_count": 77,
   "id": "optical-advance",
   "metadata": {
    "ExecuteTime": {
     "end_time": "2021-04-09T14:29:58.017395Z",
     "start_time": "2021-04-09T14:29:58.006425Z"
    }
   },
   "outputs": [
    {
     "data": {
      "text/plain": [
       "'\\nfile1 = open(\"IMDB_first50.csv\", \"a\")\\nfile2 = open(\"IMDB_first100.csv\", \"r\")\\n\\nfor line in file2:\\n    file1.write(line)\\n\\nfile1.close()\\nfile2.close()\\n'"
      ]
     },
     "execution_count": 77,
     "metadata": {},
     "output_type": "execute_result"
    }
   ],
   "source": [
    "#This cell write the movies from 50-100 into the first file make it as a one dataset\n",
    "\"\"\"\n",
    "file1 = open(\"IMDB_first50.csv\", \"a\")\n",
    "file2 = open(\"IMDB_first100.csv\", \"r\")\n",
    "\n",
    "for line in file2:\n",
    "    file1.write(line)\n",
    "\n",
    "file1.close()\n",
    "file2.close()\n",
    "\"\"\""
   ]
  },
  {
   "cell_type": "code",
   "execution_count": 75,
   "id": "traditional-azerbaijan",
   "metadata": {
    "ExecuteTime": {
     "end_time": "2021-04-09T14:28:05.273027Z",
     "start_time": "2021-04-09T14:28:05.249110Z"
    }
   },
   "outputs": [],
   "source": [
    "#cleaning the data\n",
    "imdb_df = pd.read_csv(\"IMDB_first50.csv\")\n",
    "\n",
    "final_df = imdb_df.dropna()        #drop all the nan values\n",
    "final_df = final_df.drop(67)       #drop the 67th row as it contains 0 value for gross\n",
    "\n",
    "final_df.reset_index(drop=True, inplace=True) #reset the index of DataFrame\n",
    "final_df.to_csv(\"IMDB_top100_Sci-Fi.csv\", index=False)"
   ]
  },
  {
   "cell_type": "code",
   "execution_count": 12,
   "id": "geographic-basic",
   "metadata": {
    "ExecuteTime": {
     "end_time": "2021-04-11T18:37:51.199317Z",
     "start_time": "2021-04-11T18:37:51.188348Z"
    }
   },
   "outputs": [],
   "source": [
    "#Update -- dropping the row since it is the header from previous file\n",
    "test = pd.read_csv(\"IMDB_top100_Sci-Fi.csv\")\n",
    "test_file = test.drop(42) \n",
    "test_file.reset_index(drop=True, inplace=True) #reset the index of DataFrame\n",
    "test_file.to_csv(\"IMDB_top100_SciFi.csv\", index=False)"
   ]
  }
 ],
 "metadata": {
  "kernelspec": {
   "display_name": "Python 3",
   "language": "python",
   "name": "python3"
  },
  "language_info": {
   "codemirror_mode": {
    "name": "ipython",
    "version": 3
   },
   "file_extension": ".py",
   "mimetype": "text/x-python",
   "name": "python",
   "nbconvert_exporter": "python",
   "pygments_lexer": "ipython3",
   "version": "3.8.8"
  }
 },
 "nbformat": 4,
 "nbformat_minor": 5
}
