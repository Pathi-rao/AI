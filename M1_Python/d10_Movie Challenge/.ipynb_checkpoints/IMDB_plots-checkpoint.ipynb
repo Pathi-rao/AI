{
 "cells": [
  {
   "cell_type": "code",
   "execution_count": 36,
   "id": "round-demand",
   "metadata": {
    "ExecuteTime": {
     "end_time": "2021-04-03T19:00:23.081068Z",
     "start_time": "2021-04-03T19:00:23.044588Z"
    }
   },
   "outputs": [
    {
     "name": "stdout",
     "output_type": "stream",
     "text": [
      "Setup Complete\n"
     ]
    }
   ],
   "source": [
    "#Do the necessary imports\n",
    "\n",
    "import pandas as pd\n",
    "pd.plotting.register_matplotlib_converters() #line0\n",
    "import matplotlib.pyplot as plt\n",
    "from matplotlib import ticker\n",
    "%matplotlib inline\n",
    "#line1\n",
    "import seaborn as sns\n",
    "print(\"Setup Complete\")"
   ]
  },
  {
   "cell_type": "markdown",
   "id": "close-money",
   "metadata": {},
   "source": [
    "[Why do we use line0 in above cell](https://stackoverflow.com/questions/61443261/what-is-the-use-of-pd-plotting-register-matplotlib-converters-in-pandas)\n",
    "\n",
    "[Why do we use line1 in above cell](https://stackoverflow.com/questions/43027980/purpose-of-matplotlib-inline)"
   ]
  },
  {
   "cell_type": "code",
   "execution_count": 23,
   "id": "light-halloween",
   "metadata": {
    "ExecuteTime": {
     "end_time": "2021-04-03T18:23:33.618084Z",
     "start_time": "2021-04-03T18:23:33.582118Z"
    }
   },
   "outputs": [
    {
     "name": "stdout",
     "output_type": "stream",
     "text": [
      "                            Movie  Rating  Year  Runtime  Metascore    Votes  \\\n",
      "0                       Inception     8.8  2010      148       74.0  2092467   \n",
      "1                          Matrix     8.7  1999      136       73.0  1695006   \n",
      "2     Das Imperium schlägt zurück     8.7  1980      124       82.0  1170074   \n",
      "3                    Interstellar     8.6  2014      169       74.0  1536883   \n",
      "4                Krieg der Sterne     8.6  1977      121       90.0  1242110   \n",
      "..                            ...     ...   ...      ...        ...      ...   \n",
      "95  Planet der Affen: Prevolution     7.6  2011      105       68.0   498335   \n",
      "96                     Zombieland     7.6  2009       88       73.0   523434   \n",
      "97          Watchmen: Die Wächter     7.6  2009      162       56.0   508733   \n",
      "98               Butterfly Effect     7.6  2004      113       30.0   454348   \n",
      "99                 28 Tage später     7.6  2002      113       73.0   379458   \n",
      "\n",
      "       Gross                      Director  \\\n",
      "0   $292.58M              ChristopherNolan   \n",
      "1   $171.48M  LanaWachowski,LillyWachowski   \n",
      "2   $290.48M                 IrvinKershner   \n",
      "3   $188.02M              ChristopherNolan   \n",
      "4   $322.74M                   GeorgeLucas   \n",
      "..       ...                           ...   \n",
      "95  $176.76M                   RupertWyatt   \n",
      "96   $75.59M                RubenFleischer   \n",
      "97  $107.51M                    ZackSnyder   \n",
      "98   $57.94M      EricBress,J.MackyeGruber   \n",
      "99   $45.06M                    DannyBoyle   \n",
      "\n",
      "                                                Stars  \n",
      "0   Leonardo DiCaprio, Joseph Gordon-Levitt, Ellio...  \n",
      "1   Keanu Reeves, Laurence Fishburne, Carrie-Anne ...  \n",
      "2   Mark Hamill, Harrison Ford, Carrie Fisher, Bil...  \n",
      "3   Matthew McConaughey, Anne Hathaway, Jessica Ch...  \n",
      "4   Mark Hamill, Harrison Ford, Carrie Fisher, Ale...  \n",
      "..                                                ...  \n",
      "95  James Franco, Andy Serkis, Freida Pinto, Karin...  \n",
      "96  Jesse Eisenberg, Emma Stone, Woody Harrelson, ...  \n",
      "97  Jackie Earle Haley, Patrick Wilson, Carla Gugi...  \n",
      "98  Ashton Kutcher, Amy Smart, Melora Walters, Eld...  \n",
      "99  Cillian Murphy, Naomie Harris, Christopher Ecc...  \n",
      "\n",
      "[100 rows x 9 columns]\n"
     ]
    }
   ],
   "source": [
    "#Import the file\n",
    "\n",
    "imdb_filepath = \"IMDB_webscrapping.csv\"\n",
    "imdb_data = pd.read_csv(imdb_filepath)\n",
    "print(imdb_data)"
   ]
  },
  {
   "cell_type": "code",
   "execution_count": 30,
   "id": "national-wrapping",
   "metadata": {
    "ExecuteTime": {
     "end_time": "2021-04-03T18:50:40.548173Z",
     "start_time": "2021-04-03T18:50:40.517472Z"
    }
   },
   "outputs": [
    {
     "name": "stderr",
     "output_type": "stream",
     "text": [
      "<ipython-input-30-c0e3ae6640af>:6: SettingWithCopyWarning: \n",
      "A value is trying to be set on a copy of a slice from a DataFrame.\n",
      "Try using .loc[row_indexer,col_indexer] = value instead\n",
      "\n",
      "See the caveats in the documentation: https://pandas.pydata.org/pandas-docs/stable/user_guide/indexing.html#returning-a-view-versus-a-copy\n",
      "  df[\"Gross\"] = df[\"Gross\"].str.replace(\"[$M]\",\"\")\n"
     ]
    },
    {
     "data": {
      "text/html": [
       "<div>\n",
       "<style scoped>\n",
       "    .dataframe tbody tr th:only-of-type {\n",
       "        vertical-align: middle;\n",
       "    }\n",
       "\n",
       "    .dataframe tbody tr th {\n",
       "        vertical-align: top;\n",
       "    }\n",
       "\n",
       "    .dataframe thead th {\n",
       "        text-align: right;\n",
       "    }\n",
       "</style>\n",
       "<table border=\"1\" class=\"dataframe\">\n",
       "  <thead>\n",
       "    <tr style=\"text-align: right;\">\n",
       "      <th></th>\n",
       "      <th>Movie</th>\n",
       "      <th>Rating</th>\n",
       "      <th>Year</th>\n",
       "      <th>Runtime</th>\n",
       "      <th>Metascore</th>\n",
       "      <th>Votes</th>\n",
       "      <th>Gross</th>\n",
       "      <th>Director</th>\n",
       "      <th>Stars</th>\n",
       "    </tr>\n",
       "  </thead>\n",
       "  <tbody>\n",
       "    <tr>\n",
       "      <th>0</th>\n",
       "      <td>Inception</td>\n",
       "      <td>8.8</td>\n",
       "      <td>2010</td>\n",
       "      <td>148</td>\n",
       "      <td>74.0</td>\n",
       "      <td>2092467</td>\n",
       "      <td>292.58</td>\n",
       "      <td>ChristopherNolan</td>\n",
       "      <td>Leonardo DiCaprio, Joseph Gordon-Levitt, Ellio...</td>\n",
       "    </tr>\n",
       "    <tr>\n",
       "      <th>1</th>\n",
       "      <td>Matrix</td>\n",
       "      <td>8.7</td>\n",
       "      <td>1999</td>\n",
       "      <td>136</td>\n",
       "      <td>73.0</td>\n",
       "      <td>1695006</td>\n",
       "      <td>171.48</td>\n",
       "      <td>LanaWachowski,LillyWachowski</td>\n",
       "      <td>Keanu Reeves, Laurence Fishburne, Carrie-Anne ...</td>\n",
       "    </tr>\n",
       "    <tr>\n",
       "      <th>2</th>\n",
       "      <td>Das Imperium schlägt zurück</td>\n",
       "      <td>8.7</td>\n",
       "      <td>1980</td>\n",
       "      <td>124</td>\n",
       "      <td>82.0</td>\n",
       "      <td>1170074</td>\n",
       "      <td>290.48</td>\n",
       "      <td>IrvinKershner</td>\n",
       "      <td>Mark Hamill, Harrison Ford, Carrie Fisher, Bil...</td>\n",
       "    </tr>\n",
       "    <tr>\n",
       "      <th>3</th>\n",
       "      <td>Interstellar</td>\n",
       "      <td>8.6</td>\n",
       "      <td>2014</td>\n",
       "      <td>169</td>\n",
       "      <td>74.0</td>\n",
       "      <td>1536883</td>\n",
       "      <td>188.02</td>\n",
       "      <td>ChristopherNolan</td>\n",
       "      <td>Matthew McConaughey, Anne Hathaway, Jessica Ch...</td>\n",
       "    </tr>\n",
       "    <tr>\n",
       "      <th>4</th>\n",
       "      <td>Krieg der Sterne</td>\n",
       "      <td>8.6</td>\n",
       "      <td>1977</td>\n",
       "      <td>121</td>\n",
       "      <td>90.0</td>\n",
       "      <td>1242110</td>\n",
       "      <td>322.74</td>\n",
       "      <td>GeorgeLucas</td>\n",
       "      <td>Mark Hamill, Harrison Ford, Carrie Fisher, Ale...</td>\n",
       "    </tr>\n",
       "    <tr>\n",
       "      <th>...</th>\n",
       "      <td>...</td>\n",
       "      <td>...</td>\n",
       "      <td>...</td>\n",
       "      <td>...</td>\n",
       "      <td>...</td>\n",
       "      <td>...</td>\n",
       "      <td>...</td>\n",
       "      <td>...</td>\n",
       "      <td>...</td>\n",
       "    </tr>\n",
       "    <tr>\n",
       "      <th>95</th>\n",
       "      <td>Planet der Affen: Prevolution</td>\n",
       "      <td>7.6</td>\n",
       "      <td>2011</td>\n",
       "      <td>105</td>\n",
       "      <td>68.0</td>\n",
       "      <td>498335</td>\n",
       "      <td>176.76</td>\n",
       "      <td>RupertWyatt</td>\n",
       "      <td>James Franco, Andy Serkis, Freida Pinto, Karin...</td>\n",
       "    </tr>\n",
       "    <tr>\n",
       "      <th>96</th>\n",
       "      <td>Zombieland</td>\n",
       "      <td>7.6</td>\n",
       "      <td>2009</td>\n",
       "      <td>88</td>\n",
       "      <td>73.0</td>\n",
       "      <td>523434</td>\n",
       "      <td>75.59</td>\n",
       "      <td>RubenFleischer</td>\n",
       "      <td>Jesse Eisenberg, Emma Stone, Woody Harrelson, ...</td>\n",
       "    </tr>\n",
       "    <tr>\n",
       "      <th>97</th>\n",
       "      <td>Watchmen: Die Wächter</td>\n",
       "      <td>7.6</td>\n",
       "      <td>2009</td>\n",
       "      <td>162</td>\n",
       "      <td>56.0</td>\n",
       "      <td>508733</td>\n",
       "      <td>107.51</td>\n",
       "      <td>ZackSnyder</td>\n",
       "      <td>Jackie Earle Haley, Patrick Wilson, Carla Gugi...</td>\n",
       "    </tr>\n",
       "    <tr>\n",
       "      <th>98</th>\n",
       "      <td>Butterfly Effect</td>\n",
       "      <td>7.6</td>\n",
       "      <td>2004</td>\n",
       "      <td>113</td>\n",
       "      <td>30.0</td>\n",
       "      <td>454348</td>\n",
       "      <td>57.94</td>\n",
       "      <td>EricBress,J.MackyeGruber</td>\n",
       "      <td>Ashton Kutcher, Amy Smart, Melora Walters, Eld...</td>\n",
       "    </tr>\n",
       "    <tr>\n",
       "      <th>99</th>\n",
       "      <td>28 Tage später</td>\n",
       "      <td>7.6</td>\n",
       "      <td>2002</td>\n",
       "      <td>113</td>\n",
       "      <td>73.0</td>\n",
       "      <td>379458</td>\n",
       "      <td>45.06</td>\n",
       "      <td>DannyBoyle</td>\n",
       "      <td>Cillian Murphy, Naomie Harris, Christopher Ecc...</td>\n",
       "    </tr>\n",
       "  </tbody>\n",
       "</table>\n",
       "<p>84 rows × 9 columns</p>\n",
       "</div>"
      ],
      "text/plain": [
       "                            Movie  Rating  Year  Runtime  Metascore    Votes  \\\n",
       "0                       Inception     8.8  2010      148       74.0  2092467   \n",
       "1                          Matrix     8.7  1999      136       73.0  1695006   \n",
       "2     Das Imperium schlägt zurück     8.7  1980      124       82.0  1170074   \n",
       "3                    Interstellar     8.6  2014      169       74.0  1536883   \n",
       "4                Krieg der Sterne     8.6  1977      121       90.0  1242110   \n",
       "..                            ...     ...   ...      ...        ...      ...   \n",
       "95  Planet der Affen: Prevolution     7.6  2011      105       68.0   498335   \n",
       "96                     Zombieland     7.6  2009       88       73.0   523434   \n",
       "97          Watchmen: Die Wächter     7.6  2009      162       56.0   508733   \n",
       "98               Butterfly Effect     7.6  2004      113       30.0   454348   \n",
       "99                 28 Tage später     7.6  2002      113       73.0   379458   \n",
       "\n",
       "     Gross                      Director  \\\n",
       "0   292.58              ChristopherNolan   \n",
       "1   171.48  LanaWachowski,LillyWachowski   \n",
       "2   290.48                 IrvinKershner   \n",
       "3   188.02              ChristopherNolan   \n",
       "4   322.74                   GeorgeLucas   \n",
       "..     ...                           ...   \n",
       "95  176.76                   RupertWyatt   \n",
       "96   75.59                RubenFleischer   \n",
       "97  107.51                    ZackSnyder   \n",
       "98   57.94      EricBress,J.MackyeGruber   \n",
       "99   45.06                    DannyBoyle   \n",
       "\n",
       "                                                Stars  \n",
       "0   Leonardo DiCaprio, Joseph Gordon-Levitt, Ellio...  \n",
       "1   Keanu Reeves, Laurence Fishburne, Carrie-Anne ...  \n",
       "2   Mark Hamill, Harrison Ford, Carrie Fisher, Bil...  \n",
       "3   Matthew McConaughey, Anne Hathaway, Jessica Ch...  \n",
       "4   Mark Hamill, Harrison Ford, Carrie Fisher, Ale...  \n",
       "..                                                ...  \n",
       "95  James Franco, Andy Serkis, Freida Pinto, Karin...  \n",
       "96  Jesse Eisenberg, Emma Stone, Woody Harrelson, ...  \n",
       "97  Jackie Earle Haley, Patrick Wilson, Carla Gugi...  \n",
       "98  Ashton Kutcher, Amy Smart, Melora Walters, Eld...  \n",
       "99  Cillian Murphy, Naomie Harris, Christopher Ecc...  \n",
       "\n",
       "[84 rows x 9 columns]"
      ]
     },
     "execution_count": 30,
     "metadata": {},
     "output_type": "execute_result"
    }
   ],
   "source": [
    "#Processing the data\n",
    "\n",
    "#df1 = imdb_data[imdb_data.isnull().any(axis=1)] #Search for null values and filter them separately\n",
    "df =  imdb_data.dropna()           #dropped all null values\n",
    "#print(len(df)) \n",
    "df[\"Gross\"] = df[\"Gross\"].str.replace(\"[$M]\",\"\") #filtering the Gross col. to make it numeric\n",
    "df"
   ]
  },
  {
   "cell_type": "code",
   "execution_count": 48,
   "id": "complicated-carolina",
   "metadata": {
    "ExecuteTime": {
     "end_time": "2021-04-03T19:18:51.477629Z",
     "start_time": "2021-04-03T19:18:50.811912Z"
    }
   },
   "outputs": [
    {
     "data": {
      "image/png": "[encoded data removed]",
      "text/plain": [
       "<Figure size 432x288 with 1 Axes>"
      ]
     },
     "metadata": {
      "needs_background": "light"
     },
     "output_type": "display_data"
    }
   ],
   "source": [
    "ax = sns.scatterplot(x=df['Rating'], y=df['Gross'])\n",
    "#ax.set_autoscaley_on(True)   \n",
    "ax.yaxis.set_major_locator(ticker.MultipleLocator(10))"
   ]
  },
  {
   "cell_type": "code",
   "execution_count": 58,
   "id": "ongoing-engineering",
   "metadata": {
    "ExecuteTime": {
     "end_time": "2021-04-03T20:17:22.810039Z",
     "start_time": "2021-04-03T20:17:19.066508Z"
    }
   },
   "outputs": [
    {
     "data": {
      "image/png": "[encoded data removed]",
      "text/plain": [
       "<Figure size 432x288 with 1 Axes>"
      ]
     },
     "metadata": {
      "needs_background": "light"
     },
     "output_type": "display_data"
    }
   ],
   "source": [
    "ax = sns.barplot(x=df['Runtime'], y=df['Gross'])"
   ]
  },
  {
   "cell_type": "code",
   "execution_count": 22,
   "id": "technological-thousand",
   "metadata": {
    "ExecuteTime": {
     "end_time": "2021-04-03T18:23:02.279490Z",
     "start_time": "2021-04-03T18:23:01.946131Z"
    }
   },
   "outputs": [
    {
     "name": "stderr",
     "output_type": "stream",
     "text": [
      "C:\\Users\\User\\anaconda3\\envs\\Strive\\lib\\site-packages\\seaborn\\distributions.py:2557: FutureWarning: `distplot` is a deprecated function and will be removed in a future version. Please adapt your code to use either `displot` (a figure-level function with similar flexibility) or `histplot` (an axes-level function for histograms).\n",
      "  warnings.warn(msg, FutureWarning)\n"
     ]
    },
    {
     "data": {
      "image/png": "[encoded data removed]",
      "text/plain": [
       "<Figure size 432x288 with 1 Axes>"
      ]
     },
     "metadata": {
      "needs_background": "light"
     },
     "output_type": "display_data"
    }
   ],
   "source": [
    "# Histogram \n",
    "hist_ = sns.distplot(a=imdb_data['Rating'], kde=False)\n",
    "#kde_ = sns.kdeplot(data=imdb_data['Rating'], shade=True) \n"
   ]
  }
 ],
 "metadata": {
  "kernelspec": {
   "display_name": "Python 3",
   "language": "python",
   "name": "python3"
  },
  "language_info": {
   "codemirror_mode": {
    "name": "ipython",
    "version": 3
   },
   "file_extension": ".py",
   "mimetype": "text/x-python",
   "name": "python",
   "nbconvert_exporter": "python",
   "pygments_lexer": "ipython3",
   "version": "3.8.8"
  }
 },
 "nbformat": 4,
 "nbformat_minor": 5
}
