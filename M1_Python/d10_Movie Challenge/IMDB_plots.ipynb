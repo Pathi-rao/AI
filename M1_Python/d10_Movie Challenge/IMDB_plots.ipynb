{
 "cells": [
  {
   "cell_type": "code",
   "execution_count": 90,
   "id": "round-demand",
   "metadata": {
    "ExecuteTime": {
     "end_time": "2021-04-04T17:24:41.760213Z",
     "start_time": "2021-04-04T17:24:41.736849Z"
    }
   },
   "outputs": [
    {
     "name": "stdout",
     "output_type": "stream",
     "text": [
      "Setup Complete\n"
     ]
    }
   ],
   "source": [
    "#Do the necessary imports\n",
    "\n",
    "import pandas as pd\n",
    "pd.plotting.register_matplotlib_converters() #line0\n",
    "import matplotlib.pyplot as plt\n",
    "from matplotlib import ticker\n",
    "%matplotlib inline\n",
    "#line1\n",
    "import seaborn as sns\n",
    "print(\"Setup Complete\")"
   ]
  },
  {
   "cell_type": "markdown",
   "id": "close-money",
   "metadata": {},
   "source": [
    "[Why do we use line0 in above cell](https://stackoverflow.com/questions/61443261/what-is-the-use-of-pd-plotting-register-matplotlib-converters-in-pandas)\n",
    "\n",
    "[Why do we use line1 in above cell](https://stackoverflow.com/questions/43027980/purpose-of-matplotlib-inline)"
   ]
  },
  {
   "cell_type": "code",
   "execution_count": 91,
   "id": "light-halloween",
   "metadata": {
    "ExecuteTime": {
     "end_time": "2021-04-04T17:24:44.021076Z",
     "start_time": "2021-04-04T17:24:43.995082Z"
    }
   },
   "outputs": [],
   "source": [
    "#Import the file\n",
    "\n",
    "imdb_filepath = \"IMDB_webscrapping.csv\"\n",
    "imdb_data = pd.read_csv(imdb_filepath)\n",
    "#print(imdb_data)"
   ]
  },
  {
   "cell_type": "code",
   "execution_count": 100,
   "id": "national-wrapping",
   "metadata": {
    "ExecuteTime": {
     "end_time": "2021-04-04T17:34:45.975394Z",
     "start_time": "2021-04-04T17:34:45.937487Z"
    },
    "scrolled": true
   },
   "outputs": [
    {
     "name": "stdout",
     "output_type": "stream",
     "text": [
      "                            Movie  Rating  Year  Runtime  Metascore    Votes  \\\n",
      "0                       Inception     8.8  2010      148       74.0  2092467   \n",
      "1                          Matrix     8.7  1999      136       73.0  1695006   \n",
      "2     Das Imperium schlägt zurück     8.7  1980      124       82.0  1170074   \n",
      "3                    Interstellar     8.6  2014      169       74.0  1536883   \n",
      "4                Krieg der Sterne     8.6  1977      121       90.0  1242110   \n",
      "..                            ...     ...   ...      ...        ...      ...   \n",
      "95  Planet der Affen: Prevolution     7.6  2011      105       68.0   498335   \n",
      "96                     Zombieland     7.6  2009       88       73.0   523434   \n",
      "97          Watchmen: Die Wächter     7.6  2009      162       56.0   508733   \n",
      "98               Butterfly Effect     7.6  2004      113       30.0   454348   \n",
      "99                 28 Tage später     7.6  2002      113       73.0   379458   \n",
      "\n",
      "     Gross                      Director  \\\n",
      "0   292.58              ChristopherNolan   \n",
      "1   171.48  LanaWachowski,LillyWachowski   \n",
      "2   290.48                 IrvinKershner   \n",
      "3   188.02              ChristopherNolan   \n",
      "4   322.74                   GeorgeLucas   \n",
      "..     ...                           ...   \n",
      "95  176.76                   RupertWyatt   \n",
      "96   75.59                RubenFleischer   \n",
      "97  107.51                    ZackSnyder   \n",
      "98   57.94      EricBress,J.MackyeGruber   \n",
      "99   45.06                    DannyBoyle   \n",
      "\n",
      "                                                Stars  \n",
      "0   Leonardo DiCaprio, Joseph Gordon-Levitt, Ellio...  \n",
      "1   Keanu Reeves, Laurence Fishburne, Carrie-Anne ...  \n",
      "2   Mark Hamill, Harrison Ford, Carrie Fisher, Bil...  \n",
      "3   Matthew McConaughey, Anne Hathaway, Jessica Ch...  \n",
      "4   Mark Hamill, Harrison Ford, Carrie Fisher, Ale...  \n",
      "..                                                ...  \n",
      "95  James Franco, Andy Serkis, Freida Pinto, Karin...  \n",
      "96  Jesse Eisenberg, Emma Stone, Woody Harrelson, ...  \n",
      "97  Jackie Earle Haley, Patrick Wilson, Carla Gugi...  \n",
      "98  Ashton Kutcher, Amy Smart, Melora Walters, Eld...  \n",
      "99  Cillian Murphy, Naomie Harris, Christopher Ecc...  \n",
      "\n",
      "[83 rows x 9 columns]\n"
     ]
    }
   ],
   "source": [
    "#Processing the data\n",
    "\n",
    "#df1 = imdb_data[imdb_data.isnull().any(axis=1)] #Search for null values and filter them separately\n",
    "\n",
    "imdb_data[\"Gross\"] = imdb_data[\"Gross\"].str.replace(\"[$M]\",\"\") #filtering the Gross col. to make it numeric\n",
    "#imdb_data[\"Gross\"] = imdb_data[\"Gross\"].str.replace(\"\",\"nan\")\n",
    "my_df =  imdb_data.dropna()           #dropped all null values\n",
    "my_df = my_df.drop(66)                #contains 0.00 gross\n",
    "print(my_df)"
   ]
  },
  {
   "cell_type": "code",
   "execution_count": null,
   "id": "imposed-sending",
   "metadata": {
    "ExecuteTime": {
     "end_time": "2021-04-04T17:08:48.666959Z",
     "start_time": "2021-04-04T17:08:44.957412Z"
    }
   },
   "outputs": [],
   "source": [
    "#my_df.Rating = my_df.Rating.astype(str)\n",
    "#my_df.sort_values('Gross',ascending= True, inplace = True)\n",
    "\n",
    "# plot\n",
    "#ax= plt.scatter(x= 'Rating',y='Gross', data=my_df) #Y axis is not ascending"
   ]
  },
  {
   "cell_type": "code",
   "execution_count": null,
   "id": "complicated-carolina",
   "metadata": {
    "ExecuteTime": {
     "end_time": "2021-04-04T17:12:53.981601Z",
     "start_time": "2021-04-04T17:12:53.381408Z"
    }
   },
   "outputs": [],
   "source": [
    "#\n",
    "#ax = sns.scatterplot(x=my_df['Rating'], y=my_df['Gross'])\n",
    "#ax.set_autoscaley_on(True)   \n",
    "#ax.yaxis.set_major_locator(ticker.MultipleLocator(10))"
   ]
  },
  {
   "cell_type": "code",
   "execution_count": 98,
   "id": "ongoing-engineering",
   "metadata": {
    "ExecuteTime": {
     "end_time": "2021-04-04T17:31:12.757812Z",
     "start_time": "2021-04-04T17:31:11.623402Z"
    }
   },
   "outputs": [
    {
     "data": {
      "image/png": "[encoded data removed]",
      "text/plain": [
       "<Figure size 432x288 with 1 Axes>"
      ]
     },
     "metadata": {
      "needs_background": "light"
     },
     "output_type": "display_data"
    }
   ],
   "source": [
    "ax = sns.barplot(x=my_df['Runtime'], y=my_df['Gross'])\n",
    "ax.yaxis.set_major_locator(ticker.MultipleLocator(10))"
   ]
  },
  {
   "cell_type": "code",
   "execution_count": 99,
   "id": "technological-thousand",
   "metadata": {
    "ExecuteTime": {
     "end_time": "2021-04-04T17:33:10.114537Z",
     "start_time": "2021-04-04T17:33:09.757169Z"
    }
   },
   "outputs": [
    {
     "name": "stderr",
     "output_type": "stream",
     "text": [
      "C:\\Users\\User\\anaconda3\\envs\\Strive\\lib\\site-packages\\seaborn\\distributions.py:2557: FutureWarning: `distplot` is a deprecated function and will be removed in a future version. Please adapt your code to use either `displot` (a figure-level function with similar flexibility) or `histplot` (an axes-level function for histograms).\n",
      "  warnings.warn(msg, FutureWarning)\n"
     ]
    },
    {
     "data": {
      "image/png": "[encoded data removed]",
      "text/plain": [
       "<Figure size 432x288 with 1 Axes>"
      ]
     },
     "metadata": {
      "needs_background": "light"
     },
     "output_type": "display_data"
    }
   ],
   "source": [
    "# Histogram \n",
    "hist_ = sns.distplot(a=imdb_data['Rating'], kde=False)\n",
    "#kde_ = sns.kdeplot(data=imdb_data['Rating'], shade=True) \n"
   ]
  }
 ],
 "metadata": {
  "kernelspec": {
   "display_name": "Python 3",
   "language": "python",
   "name": "python3"
  },
  "language_info": {
   "codemirror_mode": {
    "name": "ipython",
    "version": 3
   },
   "file_extension": ".py",
   "mimetype": "text/x-python",
   "name": "python",
   "nbconvert_exporter": "python",
   "pygments_lexer": "ipython3",
   "version": "3.8.8"
  }
 },
 "nbformat": 4,
 "nbformat_minor": 5
}
