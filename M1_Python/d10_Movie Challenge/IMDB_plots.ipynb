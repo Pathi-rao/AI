{
 "cells": [
  {
   "cell_type": "code",
   "execution_count": 6,
   "id": "round-demand",
   "metadata": {
    "ExecuteTime": {
     "end_time": "2021-04-09T14:33:38.200995Z",
     "start_time": "2021-04-09T14:33:38.172750Z"
    }
   },
   "outputs": [
    {
     "name": "stdout",
     "output_type": "stream",
     "text": [
      "Setup Complete\n"
     ]
    }
   ],
   "source": [
    "#Do the necessary imports\n",
    "\n",
    "import pandas as pd\n",
    "pd.plotting.register_matplotlib_converters() #line0\n",
    "import matplotlib.pyplot as plt\n",
    "from matplotlib import ticker\n",
    "%matplotlib inline\n",
    "#line1\n",
    "import seaborn as sns\n",
    "print(\"Setup Complete\")"
   ]
  },
  {
   "cell_type": "markdown",
   "id": "close-money",
   "metadata": {},
   "source": [
    "[Why do we use line0 in above cell](https://stackoverflow.com/questions/61443261/what-is-the-use-of-pd-plotting-register-matplotlib-converters-in-pandas)\n",
    "\n",
    "[Why do we use line1 in above cell](https://stackoverflow.com/questions/43027980/purpose-of-matplotlib-inline)"
   ]
  },
  {
   "cell_type": "code",
   "execution_count": 7,
   "id": "light-halloween",
   "metadata": {
    "ExecuteTime": {
     "end_time": "2021-04-09T14:33:40.863310Z",
     "start_time": "2021-04-09T14:33:40.843474Z"
    }
   },
   "outputs": [],
   "source": [
    "#Import the file\n",
    "\n",
    "imdb_filepath = \"IMDB_top100_Sci-Fi.csv\"\n",
    "imdb_data = pd.read_csv(imdb_filepath)\n",
    "#print(imdb_data)"
   ]
  },
  {
   "cell_type": "code",
   "execution_count": 8,
   "id": "national-wrapping",
   "metadata": {
    "ExecuteTime": {
     "end_time": "2021-04-09T14:33:49.178365Z",
     "start_time": "2021-04-09T14:33:49.150441Z"
    },
    "scrolled": true
   },
   "outputs": [
    {
     "data": {
      "text/html": [
       "<div>\n",
       "<style scoped>\n",
       "    .dataframe tbody tr th:only-of-type {\n",
       "        vertical-align: middle;\n",
       "    }\n",
       "\n",
       "    .dataframe tbody tr th {\n",
       "        vertical-align: top;\n",
       "    }\n",
       "\n",
       "    .dataframe thead th {\n",
       "        text-align: right;\n",
       "    }\n",
       "</style>\n",
       "<table border=\"1\" class=\"dataframe\">\n",
       "  <thead>\n",
       "    <tr style=\"text-align: right;\">\n",
       "      <th></th>\n",
       "      <th>Movie</th>\n",
       "      <th>Rating</th>\n",
       "      <th>Release Year</th>\n",
       "      <th>Runtime</th>\n",
       "      <th>Metascore</th>\n",
       "      <th>Votes</th>\n",
       "      <th>Gross(Million $)</th>\n",
       "      <th>Director</th>\n",
       "      <th>Stars</th>\n",
       "    </tr>\n",
       "  </thead>\n",
       "  <tbody>\n",
       "    <tr>\n",
       "      <th>0</th>\n",
       "      <td>Inception</td>\n",
       "      <td>8.8</td>\n",
       "      <td>2010</td>\n",
       "      <td>148</td>\n",
       "      <td>74</td>\n",
       "      <td>2,095,782</td>\n",
       "      <td>292.58</td>\n",
       "      <td>ChristopherNolan</td>\n",
       "      <td>Leonardo DiCaprio, Joseph Gordon-Levitt, Ellio...</td>\n",
       "    </tr>\n",
       "    <tr>\n",
       "      <th>1</th>\n",
       "      <td>Matrix</td>\n",
       "      <td>8.7</td>\n",
       "      <td>1999</td>\n",
       "      <td>136</td>\n",
       "      <td>73</td>\n",
       "      <td>1,697,398</td>\n",
       "      <td>171.48</td>\n",
       "      <td>LanaWachowski,LillyWachowski</td>\n",
       "      <td>Keanu Reeves, Laurence Fishburne, Carrie-Anne ...</td>\n",
       "    </tr>\n",
       "    <tr>\n",
       "      <th>2</th>\n",
       "      <td>Das Imperium schlägt zurück</td>\n",
       "      <td>8.7</td>\n",
       "      <td>1980</td>\n",
       "      <td>124</td>\n",
       "      <td>82</td>\n",
       "      <td>1,171,478</td>\n",
       "      <td>290.48</td>\n",
       "      <td>IrvinKershner</td>\n",
       "      <td>Mark Hamill, Harrison Ford, Carrie Fisher, Bil...</td>\n",
       "    </tr>\n",
       "    <tr>\n",
       "      <th>3</th>\n",
       "      <td>Interstellar</td>\n",
       "      <td>8.6</td>\n",
       "      <td>2014</td>\n",
       "      <td>169</td>\n",
       "      <td>74</td>\n",
       "      <td>1,540,132</td>\n",
       "      <td>188.02</td>\n",
       "      <td>ChristopherNolan</td>\n",
       "      <td>Matthew McConaughey, Anne Hathaway, Jessica Ch...</td>\n",
       "    </tr>\n",
       "    <tr>\n",
       "      <th>4</th>\n",
       "      <td>Krieg der Sterne</td>\n",
       "      <td>8.6</td>\n",
       "      <td>1977</td>\n",
       "      <td>121</td>\n",
       "      <td>90</td>\n",
       "      <td>1,243,483</td>\n",
       "      <td>322.74</td>\n",
       "      <td>GeorgeLucas</td>\n",
       "      <td>Mark Hamill, Harrison Ford, Carrie Fisher, Ale...</td>\n",
       "    </tr>\n",
       "    <tr>\n",
       "      <th>...</th>\n",
       "      <td>...</td>\n",
       "      <td>...</td>\n",
       "      <td>...</td>\n",
       "      <td>...</td>\n",
       "      <td>...</td>\n",
       "      <td>...</td>\n",
       "      <td>...</td>\n",
       "      <td>...</td>\n",
       "      <td>...</td>\n",
       "    </tr>\n",
       "    <tr>\n",
       "      <th>79</th>\n",
       "      <td>Planet der Affen: Prevolution</td>\n",
       "      <td>7.6</td>\n",
       "      <td>2011</td>\n",
       "      <td>105</td>\n",
       "      <td>68</td>\n",
       "      <td>498,662</td>\n",
       "      <td>176.76</td>\n",
       "      <td>RupertWyatt</td>\n",
       "      <td>James Franco, Andy Serkis, Freida Pinto, Karin...</td>\n",
       "    </tr>\n",
       "    <tr>\n",
       "      <th>80</th>\n",
       "      <td>Zombieland</td>\n",
       "      <td>7.6</td>\n",
       "      <td>2009</td>\n",
       "      <td>88</td>\n",
       "      <td>73</td>\n",
       "      <td>523,862</td>\n",
       "      <td>75.59</td>\n",
       "      <td>RubenFleischer</td>\n",
       "      <td>Jesse Eisenberg, Emma Stone, Woody Harrelson, ...</td>\n",
       "    </tr>\n",
       "    <tr>\n",
       "      <th>81</th>\n",
       "      <td>Watchmen: Die Wächter</td>\n",
       "      <td>7.6</td>\n",
       "      <td>2009</td>\n",
       "      <td>162</td>\n",
       "      <td>56</td>\n",
       "      <td>509,815</td>\n",
       "      <td>107.51</td>\n",
       "      <td>ZackSnyder</td>\n",
       "      <td>Jackie Earle Haley, Patrick Wilson, Carla Gugi...</td>\n",
       "    </tr>\n",
       "    <tr>\n",
       "      <th>82</th>\n",
       "      <td>Butterfly Effect</td>\n",
       "      <td>7.6</td>\n",
       "      <td>2004</td>\n",
       "      <td>113</td>\n",
       "      <td>30</td>\n",
       "      <td>454,673</td>\n",
       "      <td>57.94</td>\n",
       "      <td>EricBress,J.MackyeGruber</td>\n",
       "      <td>Ashton Kutcher, Amy Smart, Melora Walters, Eld...</td>\n",
       "    </tr>\n",
       "    <tr>\n",
       "      <th>83</th>\n",
       "      <td>28 Tage später</td>\n",
       "      <td>7.6</td>\n",
       "      <td>2002</td>\n",
       "      <td>113</td>\n",
       "      <td>73</td>\n",
       "      <td>379,787</td>\n",
       "      <td>45.06</td>\n",
       "      <td>DannyBoyle</td>\n",
       "      <td>Cillian Murphy, Naomie Harris, Christopher Ecc...</td>\n",
       "    </tr>\n",
       "  </tbody>\n",
       "</table>\n",
       "<p>84 rows × 9 columns</p>\n",
       "</div>"
      ],
      "text/plain": [
       "                            Movie Rating Release Year Runtime Metascore  \\\n",
       "0                       Inception    8.8         2010     148        74   \n",
       "1                          Matrix    8.7         1999     136        73   \n",
       "2     Das Imperium schlägt zurück    8.7         1980     124        82   \n",
       "3                    Interstellar    8.6         2014     169        74   \n",
       "4                Krieg der Sterne    8.6         1977     121        90   \n",
       "..                            ...    ...          ...     ...       ...   \n",
       "79  Planet der Affen: Prevolution    7.6         2011     105        68   \n",
       "80                     Zombieland    7.6         2009      88        73   \n",
       "81          Watchmen: Die Wächter    7.6         2009     162        56   \n",
       "82               Butterfly Effect    7.6         2004     113        30   \n",
       "83                 28 Tage später    7.6         2002     113        73   \n",
       "\n",
       "        Votes Gross(Million $)                      Director  \\\n",
       "0   2,095,782           292.58              ChristopherNolan   \n",
       "1   1,697,398           171.48  LanaWachowski,LillyWachowski   \n",
       "2   1,171,478           290.48                 IrvinKershner   \n",
       "3   1,540,132           188.02              ChristopherNolan   \n",
       "4   1,243,483           322.74                   GeorgeLucas   \n",
       "..        ...              ...                           ...   \n",
       "79    498,662           176.76                   RupertWyatt   \n",
       "80    523,862            75.59                RubenFleischer   \n",
       "81    509,815           107.51                    ZackSnyder   \n",
       "82    454,673            57.94      EricBress,J.MackyeGruber   \n",
       "83    379,787            45.06                    DannyBoyle   \n",
       "\n",
       "                                                Stars  \n",
       "0   Leonardo DiCaprio, Joseph Gordon-Levitt, Ellio...  \n",
       "1   Keanu Reeves, Laurence Fishburne, Carrie-Anne ...  \n",
       "2   Mark Hamill, Harrison Ford, Carrie Fisher, Bil...  \n",
       "3   Matthew McConaughey, Anne Hathaway, Jessica Ch...  \n",
       "4   Mark Hamill, Harrison Ford, Carrie Fisher, Ale...  \n",
       "..                                                ...  \n",
       "79  James Franco, Andy Serkis, Freida Pinto, Karin...  \n",
       "80  Jesse Eisenberg, Emma Stone, Woody Harrelson, ...  \n",
       "81  Jackie Earle Haley, Patrick Wilson, Carla Gugi...  \n",
       "82  Ashton Kutcher, Amy Smart, Melora Walters, Eld...  \n",
       "83  Cillian Murphy, Naomie Harris, Christopher Ecc...  \n",
       "\n",
       "[84 rows x 9 columns]"
      ]
     },
     "execution_count": 8,
     "metadata": {},
     "output_type": "execute_result"
    }
   ],
   "source": [
    "#Processing the data\n",
    "\n",
    "imdb_data"
   ]
  },
  {
   "cell_type": "code",
   "execution_count": 18,
   "id": "imposed-sending",
   "metadata": {
    "ExecuteTime": {
     "end_time": "2021-04-09T14:37:58.245777Z",
     "start_time": "2021-04-09T14:37:56.942936Z"
    }
   },
   "outputs": [
    {
     "data": {
      "image/png": "[encoded data removed]",
      "text/plain": [
       "<Figure size 432x288 with 1 Axes>"
      ]
     },
     "metadata": {
      "needs_background": "light"
     },
     "output_type": "display_data"
    }
   ],
   "source": [
    "imdb_data.Rating = imdb_data.Rating.astype(str)\n",
    "imdb_data.Gross = imdb_data['Gross(Million $)'].astype(str)\n",
    "imdb_data.sort_values(['Gross(Million $)'],ascending= True, inplace = True)\n",
    "x = imdb_data.Rating\n",
    "y = imdb_data.Gross\n",
    "# plot\n",
    "ax = plt.scatter(x,y)\n",
    "\n",
    "#ax.set_autoscaley_on(True)   \n",
    "#ax.yaxis.set_major_locator(ticker.MultipleLocator(10)) "
   ]
  },
  {
   "cell_type": "code",
   "execution_count": 19,
   "id": "complicated-carolina",
   "metadata": {
    "ExecuteTime": {
     "end_time": "2021-04-09T14:38:34.113136Z",
     "start_time": "2021-04-09T14:38:33.871762Z"
    }
   },
   "outputs": [
    {
     "name": "stderr",
     "output_type": "stream",
     "text": [
      "C:\\Users\\User\\anaconda3\\envs\\Strive\\lib\\site-packages\\seaborn\\_decorators.py:36: FutureWarning: Pass the following variables as keyword args: x, y. From version 0.12, the only valid positional argument will be `data`, and passing other arguments without an explicit keyword will result in an error or misinterpretation.\n",
      "  warnings.warn(\n"
     ]
    },
    {
     "data": {
      "image/png": "[encoded data removed]",
      "text/plain": [
       "<Figure size 432x288 with 1 Axes>"
      ]
     },
     "metadata": {
      "needs_background": "light"
     },
     "output_type": "display_data"
    }
   ],
   "source": [
    "#\n",
    "sns.scatterplot(x,y)\n",
    "\n",
    "ax = sns.scatterplot(x=imdb_data['Rating'], y=imdb_data['Gross(Million $)'])\n",
    "ax.set_autoscaley_on(True)   \n",
    "ax.yaxis.set_major_locator(ticker.MultipleLocator(10)) "
   ]
  },
  {
   "cell_type": "code",
   "execution_count": 98,
   "id": "ongoing-engineering",
   "metadata": {
    "ExecuteTime": {
     "end_time": "2021-04-04T17:31:12.757812Z",
     "start_time": "2021-04-04T17:31:11.623402Z"
    }
   },
   "outputs": [
    {
     "data": {
      "image/png": "[encoded data removed]",
      "text/plain": [
       "<Figure size 432x288 with 1 Axes>"
      ]
     },
     "metadata": {
      "needs_background": "light"
     },
     "output_type": "display_data"
    }
   ],
   "source": [
    "ax = sns.barplot(x=my_df['Runtime'], y=my_df['Gross'])\n",
    "ax.yaxis.set_major_locator(ticker.MultipleLocator(10))"
   ]
  },
  {
   "cell_type": "code",
   "execution_count": 99,
   "id": "technological-thousand",
   "metadata": {
    "ExecuteTime": {
     "end_time": "2021-04-04T17:33:10.114537Z",
     "start_time": "2021-04-04T17:33:09.757169Z"
    }
   },
   "outputs": [
    {
     "name": "stderr",
     "output_type": "stream",
     "text": [
      "C:\\Users\\User\\anaconda3\\envs\\Strive\\lib\\site-packages\\seaborn\\distributions.py:2557: FutureWarning: `distplot` is a deprecated function and will be removed in a future version. Please adapt your code to use either `displot` (a figure-level function with similar flexibility) or `histplot` (an axes-level function for histograms).\n",
      "  warnings.warn(msg, FutureWarning)\n"
     ]
    },
    {
     "data": {
      "image/png": "[encoded data removed]",
      "text/plain": [
       "<Figure size 432x288 with 1 Axes>"
      ]
     },
     "metadata": {
      "needs_background": "light"
     },
     "output_type": "display_data"
    }
   ],
   "source": [
    "# Histogram \n",
    "hist_ = sns.distplot(a=imdb_data['Rating'], kde=False)\n",
    "#kde_ = sns.kdeplot(data=imdb_data['Rating'], shade=True) \n"
   ]
  }
 ],
 "metadata": {
  "kernelspec": {
   "display_name": "Python 3",
   "language": "python",
   "name": "python3"
  },
  "language_info": {
   "codemirror_mode": {
    "name": "ipython",
    "version": 3
   },
   "file_extension": ".py",
   "mimetype": "text/x-python",
   "name": "python",
   "nbconvert_exporter": "python",
   "pygments_lexer": "ipython3",
   "version": "3.8.8"
  }
 },
 "nbformat": 4,
 "nbformat_minor": 5
}
