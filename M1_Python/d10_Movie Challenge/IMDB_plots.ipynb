{
 "cells": [
  {
   "cell_type": "code",
   "execution_count": 1,
   "id": "round-demand",
   "metadata": {
    "ExecuteTime": {
     "end_time": "2021-04-02T18:05:57.814713Z",
     "start_time": "2021-04-02T18:05:51.814583Z"
    }
   },
   "outputs": [
    {
     "name": "stdout",
     "output_type": "stream",
     "text": [
      "Setup Complete\n"
     ]
    }
   ],
   "source": [
    "#Do the necessary imports\n",
    "\n",
    "import pandas as pd\n",
    "pd.plotting.register_matplotlib_converters() #line0\n",
    "import matplotlib.pyplot as plt\n",
    "%matplotlib inline                           #line1\n",
    "import seaborn as sns\n",
    "print(\"Setup Complete\")"
   ]
  },
  {
   "cell_type": "markdown",
   "id": "bigger-token",
   "metadata": {},
   "source": [
    "[Why do we use line0 in above cell](https://stackoverflow.com/questions/61443261/what-is-the-use-of-pd-plotting-register-matplotlib-converters-in-pandas)\n",
    "\n",
    "[Why do we use line1 in above cell](https://stackoverflow.com/questions/43027980/purpose-of-matplotlib-inline)"
   ]
  },
  {
   "cell_type": "code",
   "execution_count": null,
   "id": "athletic-eleven",
   "metadata": {
    "ExecuteTime": {
     "end_time": "2021-04-02T18:27:36.218645Z",
     "start_time": "2021-04-02T18:27:36.169823Z"
    }
   },
   "outputs": [],
   "source": [
    "#Import the file\n",
    "\n",
    "imdb_filepath = \"IMDB_webscrapping.csv\"\n",
    "imdb_data = pd.read_csv(imdb_filepath)\n",
    "imdb_data.head()"
   ]
  },
  {
   "cell_type": "code",
   "execution_count": 11,
   "id": "nominated-following",
   "metadata": {
    "ExecuteTime": {
     "end_time": "2021-04-02T18:31:23.793836Z",
     "start_time": "2021-04-02T18:31:23.360419Z"
    }
   },
   "outputs": [
    {
     "data": {
      "text/plain": [
       "<AxesSubplot:xlabel='Rating', ylabel='Runtime'>"
      ]
     },
     "execution_count": 11,
     "metadata": {},
     "output_type": "execute_result"
    },
    {
     "data": {
      "image/png": "[encoded data removed]",
      "text/plain": [
       "<Figure size 432x288 with 1 Axes>"
      ]
     },
     "metadata": {
      "needs_background": "light"
     },
     "output_type": "display_data"
    }
   ],
   "source": [
    "sns.scatterplot(x=imdb_data['Rating'], y=imdb_data['Runtime'])\n",
    "#sns.regplot(x=imdb_data['Rating'], y=imdb_data['Runtime']) #plots a regression line"
   ]
  }
 ],
 "metadata": {
  "kernelspec": {
   "display_name": "Python 3",
   "language": "python",
   "name": "python3"
  },
  "language_info": {
   "codemirror_mode": {
    "name": "ipython",
    "version": 3
   },
   "file_extension": ".py",
   "mimetype": "text/x-python",
   "name": "python",
   "nbconvert_exporter": "python",
   "pygments_lexer": "ipython3",
   "version": "3.8.8"
  }
 },
 "nbformat": 4,
 "nbformat_minor": 5
}
