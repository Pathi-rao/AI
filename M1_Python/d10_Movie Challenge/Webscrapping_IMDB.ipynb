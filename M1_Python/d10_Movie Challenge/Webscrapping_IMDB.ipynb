{
 "cells": [
  {
   "cell_type": "code",
   "execution_count": 2,
   "id": "inclusive-silence",
   "metadata": {
    "ExecuteTime": {
     "end_time": "2021-03-31T15:40:39.971237Z",
     "start_time": "2021-03-31T15:40:39.956455Z"
    }
   },
   "outputs": [],
   "source": [
    "#import the libraries\n",
    "\n",
    "from bs4 import BeautifulSoup\n",
    "import requests\n",
    "import numpy as np\n",
    "import pandas as pd\n",
    "import datetime\n",
    "from datetime import timedelta, date\n",
    "import re\n",
    "import matplotlib.pyplot as plt\n",
    "#from jupyterthemes import jtplot\n",
    "#jtplot.style()"
   ]
  },
  {
   "cell_type": "code",
   "execution_count": 3,
   "id": "regular-qualification",
   "metadata": {
    "ExecuteTime": {
     "end_time": "2021-03-31T15:40:46.751164Z",
     "start_time": "2021-03-31T15:40:45.145863Z"
    }
   },
   "outputs": [],
   "source": [
    "#Get the webpage and parse it as html\n",
    "\n",
    "page = requests.get(\"https://www.imdb.com/search/title/?genres=sci_fi&sort=user_rating,desc&title_type=feature&num_votes=25000,&pf_rd_m=A2FGELUUNOQJNL&pf_rd_p=5aab685f-35eb-40f3-95f7-c53f09d542c3&pf_rd_r=E40TDJEMENX3WJ81KT4Q&pf_rd_s=right-6&pf_rd_t=15506&pf_rd_i=top&ref_=chttp_gnr_17\")\n",
    "soup = BeautifulSoup(page.content, 'html.parser')\n",
    "#print(soup)"
   ]
  },
  {
   "cell_type": "code",
   "execution_count": 5,
   "id": "automated-shoot",
   "metadata": {
    "ExecuteTime": {
     "end_time": "2021-03-30T06:35:05.362686Z",
     "start_time": "2021-03-30T06:35:05.302766Z"
    }
   },
   "outputs": [
    {
     "name": "stdout",
     "output_type": "stream",
     "text": [
      "['Inception', 'Matrix', 'Das Imperium schlägt zurück', 'Interstellar', 'Krieg der Sterne', 'Prestige: Die Meister der Magie', 'Terminator 2: Tag der Abrechnung', 'Zurück in die Zukunft', 'Spider-Man: A New Universe', 'Avengers: Endgame', 'Avengers: Infinity War', 'WALL·E: Der Letzte räumt die Erde auf', 'Alien - Das unheimliche Wesen aus einer fremden Welt', 'Zack Snyder: Justice League', 'Vergiss mein nicht', 'Aliens - Die Rückkehr', 'Die Rückkehr der Jedi-Ritter', 'Uhrwerk Orange', '2001: Odyssee im Weltraum', 'Metropolis', 'V wie Vendetta', 'Stalker', 'Logan: The Wolverine', 'PK - Andere Sterne, Andere Sitten', 'Mad Max: Fury Road', 'Neon Genesis Evangelion - The End of Evangelion', 'Jurassic Park', 'Nausicaä - Prinzessin aus dem Tal der Winde', 'Das Ding aus einer anderen Welt', 'Der Blade Runner', 'Solaris', 'Der Marsianer: Rettet Mark Watney', 'Guardians of the Galaxy', 'Blade Runner 2049', 'Her', 'Deadpool', 'The Avengers', 'G.O.R.A.', 'Donnie Darko', 'Der Gigant aus dem All', '12 Monkeys', 'Ghost in the Shell', 'Akira', 'Das Schloss im Himmel', 'Terminator', 'Planet der Affen', 'Isle of Dogs - Ataris Reise', 'Thor: Tag der Entscheidung', 'Arrival', 'Star Wars - Episode VII: Das Erwachen der Macht']\n"
     ]
    }
   ],
   "source": [
    "#Get the movie names#\n",
    "\n",
    "all_movies = soup.find_all('div', class_= 'lister-item mode-advanced')\n",
    "fifty_movies = all_movies[0:50]\n",
    "\n",
    "movie_names = []\n",
    "for each_movie in fifty_movies:\n",
    "    movie_name = each_movie.h3.a.text\n",
    "    movie_names.append(movie_name)\n",
    "    \n",
    "print(movie_names)"
   ]
  },
  {
   "cell_type": "code",
   "execution_count": 6,
   "id": "collected-establishment",
   "metadata": {
    "ExecuteTime": {
     "end_time": "2021-03-30T06:35:05.418141Z",
     "start_time": "2021-03-30T06:35:05.367577Z"
    }
   },
   "outputs": [
    {
     "name": "stdout",
     "output_type": "stream",
     "text": [
      "['8.8', '8.7', '8.7', '8.6', '8.6', '8.5', '8.5', '8.5', '8.4', '8.4', '8.4', '8.4', '8.4', '8.3', '8.3', '8.3', '8.3', '8.3', '8.3', '8.3', '8.2', '8.2', '8.1', '8.1', '8.1', '8.1', '8.1', '8.1', '8.1', '8.1', '8.1', '8.0', '8.0', '8.0', '8.0', '8.0', '8.0', '8.0', '8.0', '8.0', '8.0', '8.0', '8.0', '8.0', '8.0', '8.0', '7.9', '7.9', '7.9', '7.9']\n"
     ]
    }
   ],
   "source": [
    "#Get the rating\n",
    "\n",
    "movie_rating = soup.find_all('div', class_ = 'inline-block ratings-imdb-rating')\n",
    "movie_rating_list = []\n",
    "for each_movie in movie_rating:\n",
    "    e = each_movie.text\n",
    "    movie_rating_list.append(e)\n",
    "\n",
    "movie_rating_string = ' '.join(movie_rating_list)  \n",
    "movie_rating = re.findall(\"[\\d][.][\\d]\", movie_rating_string)\n",
    "movie_rating = movie_rating[0:50]\n",
    "print(movie_rating)"
   ]
  },
  {
   "cell_type": "code",
   "execution_count": 7,
   "id": "republican-phrase",
   "metadata": {
    "ExecuteTime": {
     "end_time": "2021-03-30T06:35:05.483459Z",
     "start_time": "2021-03-30T06:35:05.418141Z"
    }
   },
   "outputs": [
    {
     "name": "stdout",
     "output_type": "stream",
     "text": [
      "['2010', '1999', '1980', '2014', '1977', '2006', '1991', '1985', '2018', '2019', '2018', '2008', '1979', '2021', '2004', '1986', '1983', '1971', '1968', '1927', '2005', '1979', '2017', '2014', '2015', '1997', '1993', '1984', '1982', '1982', '1972', '2015', '2014', '2017', '2013', '2016', '2012', '2004', '2001', '1999', '1995', '1995', '1988', '1986', '1984', '1968', '2018', '2017', '2016', '2015']\n"
     ]
    }
   ],
   "source": [
    "#Get the movie year\n",
    "\n",
    "year = soup.find_all('span', class_= 'lister-item-year text-muted unbold')\n",
    "\n",
    "movies_year_list = []\n",
    "for each_movie in year:\n",
    "    e = each_movie.text\n",
    "    movies_year_list.append(e)\n",
    "\n",
    "movie_year_string = ' '.join(movies_year_list)  \n",
    "movie_year = re.findall(\"[0-9]+\", movie_year_string)\n",
    "print(movie_year)                                    #cleaned movie year"
   ]
  },
  {
   "cell_type": "code",
   "execution_count": 12,
   "id": "comic-mirror",
   "metadata": {
    "ExecuteTime": {
     "end_time": "2021-03-31T21:22:56.767430Z",
     "start_time": "2021-03-31T21:22:56.731559Z"
    }
   },
   "outputs": [
    {
     "name": "stdout",
     "output_type": "stream",
     "text": [
      "<class 'str'>\n",
      "['148', '136', '124', '169', '121', '130', '137', '116', '117', '181', '149', '98', '117', '108', '137', '131', '136', '149', '153', '242', '132', '162', '137', '153', '120', '87', '127', '117', '109', '117', '167', '144', '121', '164', '126', '108', '143', '127', '113', '86', '129', '83', '124', '125', '107', '112', '101', '130', '116', '138']\n"
     ]
    }
   ],
   "source": [
    "#Get the duration\n",
    "\n",
    "runtime = soup.find_all('span', class_ = 'runtime')\n",
    "\n",
    "movies_runtime_list = []\n",
    "for each_movie in runtime:\n",
    "    e = each_movie.text\n",
    "    movies_runtime_list.append(e)\n",
    "\n",
    "movie_runtime_string = ' '.join(movies_runtime_list)   \n",
    "movie_runtime = re.findall(\"[0-9]+\", movie_runtime_string)\n",
    "print(movie_runtime)                                        #cleaned movie runtime\n"
   ]
  },
  {
   "cell_type": "code",
   "execution_count": 9,
   "id": "compressed-leone",
   "metadata": {
    "ExecuteTime": {
     "end_time": "2021-03-30T06:35:05.655711Z",
     "start_time": "2021-03-30T06:35:05.566867Z"
    }
   },
   "outputs": [
    {
     "name": "stdout",
     "output_type": "stream",
     "text": [
      "['ChristopherNolan', 'LanaWachowski,LillyWachowski', 'IrvinKershner', 'ChristopherNolan', 'GeorgeLucas', 'ChristopherNolan', 'JamesCameron', 'RobertZemeckis', 'BobPersichetti,PeterRamsey,RodneyRothman', 'AnthonyRusso,JoeRusso', 'AnthonyRusso,JoeRusso', 'AndrewStanton', 'RidleyScott', 'ZackSnyder', 'MichelGondry', 'JamesCameron', 'RichardMarquand', 'StanleyKubrick', 'StanleyKubrick', 'FritzLang', 'JamesMcTeigue', 'AndreiTarkovsky', 'JamesMangold', 'RajkumarHirani', 'GeorgeMiller', 'HideakiAnno,KazuyaTsurumaki', 'StevenSpielberg', 'HayaoMiyazaki', 'JohnCarpenter', 'RidleyScott', 'AndreiTarkovsky', 'RidleyScott', 'JamesGunn', 'DenisVilleneuve', 'SpikeJonze', 'TimMiller', 'JossWhedon', 'ÖmerFarukSorak', 'RichardKelly', 'BradBird', 'TerryGilliam', 'MamoruOshii', 'KatsuhiroÔtomo', 'HayaoMiyazaki', 'JamesCameron', 'FranklinJ.Schaffner', 'WesAnderson', 'TaikaWaititi', 'DenisVilleneuve', 'J.J.Abrams']\n"
     ]
    }
   ],
   "source": [
    "#Get the actors and directors\n",
    "act_direc = soup.find_all('div',class_=\"lister-item-content\")\n",
    "\n",
    "#Actors\n",
    "list_of_directors = []\n",
    "list_of_actors = []\n",
    "for i in range(0,50):                        #as there are 50 movies per page, loop over them\n",
    "    names = act_direc[i].find_all('p')[2].text\n",
    "    names = names.split(\":\")\n",
    "    list_of_actors.append(names[ len(names) -1 ])      \n",
    "list(map(lambda x:x.strip(),list_of_actors))\n",
    "list_of_actors = [x.replace('\\n', '') for x in list_of_actors]\n",
    "\n",
    "#Directors\n",
    "for i in range(0,50):                        \n",
    "    names = act_direc[i].find_all('p')[2].text\n",
    "    names = names.split(\":\")\n",
    "    list_of_directors.append(names[1]) \n",
    "\n",
    "list_of_directors = [x.replace('\\n', '').replace('|', '').replace('Stars','').replace(' ','') for x in list_of_directors]  \n",
    "print(list_of_directors)\n",
    "#print(list_of_actors)"
   ]
  },
  {
   "cell_type": "code",
   "execution_count": 42,
   "id": "exclusive-begin",
   "metadata": {
    "ExecuteTime": {
     "end_time": "2021-03-30T07:10:05.666512Z",
     "start_time": "2021-03-30T07:10:05.630130Z"
    }
   },
   "outputs": [
    {
     "name": "stdout",
     "output_type": "stream",
     "text": [
      "['$292.58M', '$171.48M', '$290.48M', '$188.02M', '$322.74M', '$53.09M', '$204.84M', '$210.61M', '$190.24M', '$858.37M', '$678.82M', '$223.81M', '$78.90M', 0, '$34.40M', '$85.16M', '$309.13M', '$6.21M', '$56.95M', '$1.24M', '$70.51M', '$0.23M', '$226.28M', '$10.62M', '$154.06M', 0, '$402.45M', '$0.50M', '$13.78M', '$32.87M', 0, '$228.43M', '$333.18M', '$92.05M', '$25.57M', '$363.07M', '$623.28M', 0, '$1.48M', '$23.16M', '$57.14M', '$0.52M', '$0.55M', 0, '$38.40M', '$33.40M', '$32.02M', '$315.06M', '$100.55M', '$936.66M']\n",
      "['2,091,689', '1,694,481', '1,169,758', '1,536,130', '1,241,774', '1,203,625', '1,003,457', '1,070,294', '388,158', '844,690', '857,342', '1,009,933', '795,734', '221,202', '919,730', '657,980', '958,685', '764,315', '609,414', '161,475', '1,040,914', '118,776', '657,031', '164,797', '892,331', '40,338', '876,349', '153,120', '374,948', '699,842', '82,084', '768,248', '1,054,071', '470,670', '547,390', '912,633', '1,271,894', '57,642', '745,138', '173,560', '582,394', '130,682', '166,773', '151,827', '803,578', '166,123', '142,105', '601,281', '602,703', '866,385']\n"
     ]
    }
   ],
   "source": [
    "#Get the votes\n",
    "Total_votes = soup.find_all('p',class_=\"sort-num_votes-visible\")\n",
    "votes_gross =[]\n",
    "for i in Total_votes:\n",
    "    votes_gross.append(i.text)\n",
    "    list(map(lambda x:x.strip(),votes_gross))\n",
    "    votes_gross = [x.replace('\\n', '').replace('|','').replace('Votes:','').replace('Gross:','') for x in votes_gross]  \n",
    "\n",
    "#Separate votes and gross into separate lists(if somevalues are missing, replace it with Zero)\n",
    "votes = []\n",
    "gross = []\n",
    "\n",
    "for i in range(0,50):\n",
    "    splt = votes_gross[i].split()\n",
    "    if len(splt) == 2:\n",
    "        gross.append(splt[1])\n",
    "    else:\n",
    "        gross.append(0) \n",
    "    votes.append(splt[0]) \n",
    "    \n",
    "print(gross)\n",
    "print(votes)"
   ]
  },
  {
   "cell_type": "code",
   "execution_count": 58,
   "id": "faced-wagon",
   "metadata": {
    "ExecuteTime": {
     "end_time": "2021-03-31T21:52:17.636986Z",
     "start_time": "2021-03-31T21:52:17.621060Z"
    }
   },
   "outputs": [
    {
     "name": "stdout",
     "output_type": "stream",
     "text": [
      "['0', '0', '0', '0', '0', '0', '0', '0', '0', '0', '0', '0', '0', '0', '0', '0', '0', '0', '0', '0', '0', '0', '0', '0', '0', '0', '0', '0', '0', '0', '0', '0', '0', '0', '0', '0', '0', '0', '0', '0', '0', '0', '0', '0', '0', '0', '0', '0', '0', '0']\n"
     ]
    }
   ],
   "source": [
    "#Get the metascore\n",
    "score = soup.find_all('div',class_=\"ratings-bar\")\n",
    "metascore = []\n",
    "for i in range(0,50):\n",
    "    try:\n",
    "        meta = score.find_all('div', class_ = \"inline-block ratings-metascore\")\n",
    "        m = score[0].find('span').text\n",
    "        metascore.append(m)\n",
    "    except:\n",
    "        metascore.append('0')    \n",
    "print(metascore)"
   ]
  },
  {
   "cell_type": "code",
   "execution_count": 42,
   "id": "domestic-process",
   "metadata": {
    "ExecuteTime": {
     "end_time": "2021-03-31T21:45:23.863745Z",
     "start_time": "2021-03-31T21:45:23.835820Z"
    },
    "scrolled": true
   },
   "outputs": [
    {
     "ename": "NameError",
     "evalue": "name 'movie_names' is not defined",
     "output_type": "error",
     "traceback": [
      "\u001b[1;31m---------------------------------------------------------------------------\u001b[0m",
      "\u001b[1;31mNameError\u001b[0m                                 Traceback (most recent call last)",
      "\u001b[1;32m<ipython-input-42-d12c766ce61a>\u001b[0m in \u001b[0;36m<module>\u001b[1;34m\u001b[0m\n\u001b[0;32m      1\u001b[0m \u001b[1;31m#create the dataframe\u001b[0m\u001b[1;33m\u001b[0m\u001b[1;33m\u001b[0m\u001b[1;33m\u001b[0m\u001b[0m\n\u001b[0;32m      2\u001b[0m \u001b[1;33m\u001b[0m\u001b[0m\n\u001b[1;32m----> 3\u001b[1;33m df = pd.DataFrame({'Movie':movie_names, 'Rating':movie_rating, 'Year':movie_year,'Runtime':movie_runtime,\n\u001b[0m\u001b[0;32m      4\u001b[0m                    'Votes':votes, 'Gross':gross, 'Director':list_of_directors, 'Stars':list_of_actors})\n\u001b[0;32m      5\u001b[0m \u001b[1;33m\u001b[0m\u001b[0m\n",
      "\u001b[1;31mNameError\u001b[0m: name 'movie_names' is not defined"
     ]
    }
   ],
   "source": [
    "#create the dataframe\n",
    "\n",
    "df = pd.DataFrame({'Movie':movie_names, 'Rating':movie_rating, 'Year':movie_year,'Runtime':movie_runtime,\n",
    "                   'Votes':votes, 'Gross':gross, 'Director':list_of_directors, 'Stars':list_of_actors})\n",
    "\n",
    "#df = pd.read_csv(\"IMDB_webscrapping.csv\")\n",
    "#df[\"Movie\"] = movie_names\n",
    "df.to_csv(\"IMDB_webscrapping.csv\", index=False)\n",
    "df\n",
    "\n",
    "#df.to_csv('Movies50_100.csv', index=False) #write the df to a csv file"
   ]
  }
 ],
 "metadata": {
  "kernelspec": {
   "display_name": "Python 3",
   "language": "python",
   "name": "python3"
  },
  "language_info": {
   "codemirror_mode": {
    "name": "ipython",
    "version": 3
   },
   "file_extension": ".py",
   "mimetype": "text/x-python",
   "name": "python",
   "nbconvert_exporter": "python",
   "pygments_lexer": "ipython3",
   "version": "3.8.8"
  }
 },
 "nbformat": 4,
 "nbformat_minor": 5
}
