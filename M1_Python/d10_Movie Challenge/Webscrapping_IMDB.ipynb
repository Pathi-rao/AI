{
 "cells": [
  {
   "cell_type": "code",
   "execution_count": 1,
   "id": "inclusive-silence",
   "metadata": {
    "ExecuteTime": {
     "end_time": "2021-04-02T18:57:59.805839Z",
     "start_time": "2021-04-02T18:57:57.630162Z"
    }
   },
   "outputs": [],
   "source": [
    "#import the libraries\n",
    "\n",
    "from bs4 import BeautifulSoup\n",
    "import requests\n",
    "import numpy as np\n",
    "import pandas as pd\n",
    "import datetime\n",
    "from datetime import timedelta, date\n",
    "import re\n",
    "import matplotlib.pyplot as plt\n",
    "#from jupyterthemes import jtplot\n",
    "#jtplot.style()"
   ]
  },
  {
   "cell_type": "code",
   "execution_count": 2,
   "id": "regular-qualification",
   "metadata": {
    "ExecuteTime": {
     "end_time": "2021-04-02T18:58:03.778052Z",
     "start_time": "2021-04-02T18:58:01.822683Z"
    }
   },
   "outputs": [],
   "source": [
    "#Get the webpage and parse it as html\n",
    "\n",
    "page = requests.get(\"https://www.imdb.com/search/title/?title_type=feature&num_votes=25000,&genres=sci-fi&sort=user_rating,desc&start=51&ref_=adv_nxt\")\n",
    "soup = BeautifulSoup(page.content, 'html.parser')\n",
    "#print(soup)"
   ]
  },
  {
   "cell_type": "code",
   "execution_count": 3,
   "id": "automated-shoot",
   "metadata": {
    "ExecuteTime": {
     "end_time": "2021-04-02T18:58:06.885635Z",
     "start_time": "2021-04-02T18:58:06.818182Z"
    }
   },
   "outputs": [
    {
     "name": "stdout",
     "output_type": "stream",
     "text": [
      "['X-Men: Zukunft ist Vergangenheit', 'Edge of Tomorrow - Live. Die. Repeat', 'Moon', 'District 9', 'Star Trek', 'The Man from Earth', 'Iron Man', 'Cowboy Bebop - Der Film', 'Children of Men', 'Brazil', 'King Kong und die weiße Frau', 'Star Wars: Rogue One', 'The First Avenger: Civil War', 'Baymax - Riesiges Robowabohu', 'Alles eine Frage der Zeit', 'Avatar - Aufbruch nach Pandora', 'Mr. Nobody', 'Serenity: Flucht in neue Welten', 'Gattaca', 'Zurück in die Zukunft II', 'Predator', 'Ghostbusters - Die Geisterjäger', 'E.T. - Der Außerirdische', 'Der phantastische Planet', 'Frankensteins Braut', 'Frankenstein', 'Deadpool 2', 'The Return of the First Avenger', 'Gravity', 'Star Trek Into Darkness', 'X-Men: Erste Entscheidung', 'Paprika', 'Das Mädchen, das durch die Zeit sprang', 'Ex Machina', 'Vampire Hunter D: Bloodlust', 'Virtual Nightmare - Open Your Eyes', 'Das fünfte Element', 'Star Trek II: Der Zorn des Khan', 'Die Invasion der Körperfresser', 'Der Tag, an dem die Erde stillstand', 'Der Unsichtbare', 'Guardians of the Galaxy Vol. 2', 'Die Unglaublichen 2', 'Who Am I: Kein System ist sicher', 'Planet der Affen: Revolution', 'Planet der Affen: Prevolution', 'Zombieland', 'Watchmen: Die Wächter', 'Butterfly Effect', '28 Tage später']\n"
     ]
    }
   ],
   "source": [
    "#Get the movie names#\n",
    "\n",
    "all_movies = soup.find_all('div', class_= 'lister-item mode-advanced')\n",
    "fifty_movies = all_movies[0:50]\n",
    "\n",
    "movie_names = []\n",
    "for each_movie in fifty_movies:\n",
    "    movie_name = each_movie.h3.a.text\n",
    "    movie_names.append(movie_name)\n",
    "    \n",
    "print(movie_names)"
   ]
  },
  {
   "cell_type": "code",
   "execution_count": 4,
   "id": "collected-establishment",
   "metadata": {
    "ExecuteTime": {
     "end_time": "2021-04-02T18:58:10.563828Z",
     "start_time": "2021-04-02T18:58:10.520162Z"
    }
   },
   "outputs": [
    {
     "name": "stdout",
     "output_type": "stream",
     "text": [
      "['7.9', '7.9', '7.9', '7.9', '7.9', '7.9', '7.9', '7.9', '7.9', '7.9', '7.9', '7.8', '7.8', '7.8', '7.8', '7.8', '7.8', '7.8', '7.8', '7.8', '7.8', '7.8', '7.8', '7.8', '7.8', '7.8', '7.7', '7.7', '7.7', '7.7', '7.7', '7.7', '7.7', '7.7', '7.7', '7.7', '7.7', '7.7', '7.7', '7.7', '7.7', '7.6', '7.6', '7.6', '7.6', '7.6', '7.6', '7.6', '7.6', '7.6']\n"
     ]
    }
   ],
   "source": [
    "#Get the rating\n",
    "\n",
    "movie_rating = soup.find_all('div', class_ = 'inline-block ratings-imdb-rating')\n",
    "movie_rating_list = []\n",
    "for each_movie in movie_rating:\n",
    "    e = each_movie.text\n",
    "    movie_rating_list.append(e)\n",
    "\n",
    "movie_rating_string = ' '.join(movie_rating_list)  \n",
    "movie_rating = re.findall(\"[\\d][.][\\d]\", movie_rating_string)\n",
    "movie_rating = movie_rating[0:50]\n",
    "print(movie_rating)"
   ]
  },
  {
   "cell_type": "code",
   "execution_count": 5,
   "id": "republican-phrase",
   "metadata": {
    "ExecuteTime": {
     "end_time": "2021-04-02T18:58:16.034927Z",
     "start_time": "2021-04-02T18:58:15.972064Z"
    }
   },
   "outputs": [
    {
     "name": "stdout",
     "output_type": "stream",
     "text": [
      "['2014', '2014', '2009', '2009', '2009', '2007', '2008', '2001', '2006', '1985', '1933', '2016', '2016', '2014', '2013', '2009', '2009', '2005', '1997', '1989', '1987', '1984', '1982', '1973', '1935', '1931', '2018', '2014', '2013', '2013', '2011', '2006', '2006', '2014', '2000', '1997', '1997', '1982', '1956', '1951', '1933', '2017', '2018', '2014', '2014', '2011', '2009', '2009', '2004', '2002']\n"
     ]
    }
   ],
   "source": [
    "#Get the movie year\n",
    "\n",
    "year = soup.find_all('span', class_= 'lister-item-year text-muted unbold')\n",
    "\n",
    "movies_year_list = []\n",
    "for each_movie in year:\n",
    "    e = each_movie.text\n",
    "    movies_year_list.append(e)\n",
    "\n",
    "movie_year_string = ' '.join(movies_year_list)  \n",
    "movie_year = re.findall(\"[0-9]+\", movie_year_string)\n",
    "print(movie_year)                                    #cleaned movie year"
   ]
  },
  {
   "cell_type": "code",
   "execution_count": 6,
   "id": "comic-mirror",
   "metadata": {
    "ExecuteTime": {
     "end_time": "2021-04-02T18:58:19.614996Z",
     "start_time": "2021-04-02T18:58:19.565112Z"
    }
   },
   "outputs": [
    {
     "name": "stdout",
     "output_type": "stream",
     "text": [
      "['132', '113', '97', '112', '127', '87', '126', '115', '109', '132', '100', '133', '147', '102', '123', '162', '141', '119', '106', '108', '107', '105', '115', '72', '75', '70', '119', '136', '91', '132', '131', '90', '98', '108', '103', '119', '126', '113', '80', '85', '71', '136', '118', '102', '130', '105', '88', '162', '113', '113']\n"
     ]
    }
   ],
   "source": [
    "#Get the duration\n",
    "\n",
    "runtime = soup.find_all('span', class_ = 'runtime')\n",
    "\n",
    "movies_runtime_list = []\n",
    "for each_movie in runtime:\n",
    "    e = each_movie.text\n",
    "    movies_runtime_list.append(e)\n",
    "\n",
    "movie_runtime_string = ' '.join(movies_runtime_list)   \n",
    "movie_runtime = re.findall(\"[0-9]+\", movie_runtime_string)\n",
    "print(movie_runtime)                                        #cleaned movie runtime\n"
   ]
  },
  {
   "cell_type": "code",
   "execution_count": 7,
   "id": "compressed-leone",
   "metadata": {
    "ExecuteTime": {
     "end_time": "2021-04-02T18:58:23.987837Z",
     "start_time": "2021-04-02T18:58:23.906320Z"
    }
   },
   "outputs": [
    {
     "name": "stdout",
     "output_type": "stream",
     "text": [
      "['BryanSinger', 'DougLiman', 'DuncanJones', 'NeillBlomkamp', 'J.J.Abrams', 'RichardSchenkman', 'JonFavreau', \"Shin'ichirôWatanabe,TensaiOkamura,HiroyukiOkiura,YoshiyukiTakei\", 'AlfonsoCuarón', 'TerryGilliam', 'MerianC.Cooper,ErnestB.Schoedsack', 'GarethEdwards', 'AnthonyRusso,JoeRusso', 'DonHall,ChrisWilliams', 'RichardCurtis', 'JamesCameron', 'JacoVanDormael', 'JossWhedon', 'AndrewNiccol', 'RobertZemeckis', 'JohnMcTiernan', 'IvanReitman', 'StevenSpielberg', 'RenéLaloux', 'JamesWhale', 'JamesWhale', 'DavidLeitch', 'AnthonyRusso,JoeRusso', 'AlfonsoCuarón', 'J.J.Abrams', 'MatthewVaughn', 'SatoshiKon', 'MamoruHosoda', 'AlexGarland', 'YoshiakiKawajiri', 'AlejandroAmenábar', 'LucBesson', 'NicholasMeyer', 'DonSiegel', 'RobertWise', 'JamesWhale', 'JamesGunn', 'BradBird', 'BaranboOdar', 'MattReeves', 'RupertWyatt', 'RubenFleischer', 'ZackSnyder', 'EricBress,J.MackyeGruber', 'DannyBoyle']\n"
     ]
    }
   ],
   "source": [
    "#Get the actors and directors\n",
    "act_direc = soup.find_all('div',class_=\"lister-item-content\")\n",
    "\n",
    "#Actors\n",
    "list_of_directors = []\n",
    "list_of_actors = []\n",
    "for i in range(0,50):                        #as there are 50 movies per page, loop over them\n",
    "    names = act_direc[i].find_all('p')[2].text\n",
    "    names = names.split(\":\")\n",
    "    list_of_actors.append(names[ len(names) -1 ])      \n",
    "list(map(lambda x:x.strip(),list_of_actors))\n",
    "list_of_actors = [x.replace('\\n', '') for x in list_of_actors]\n",
    "\n",
    "#Directors\n",
    "for i in range(0,50):                        \n",
    "    names = act_direc[i].find_all('p')[2].text\n",
    "    names = names.split(\":\")\n",
    "    list_of_directors.append(names[1]) \n",
    "\n",
    "list_of_directors = [x.replace('\\n', '').replace('|', '').replace('Stars','').replace(' ','') for x in list_of_directors]  \n",
    "print(list_of_directors)\n",
    "#print(list_of_actors)"
   ]
  },
  {
   "cell_type": "code",
   "execution_count": 8,
   "id": "exclusive-begin",
   "metadata": {
    "ExecuteTime": {
     "end_time": "2021-04-02T18:58:27.938689Z",
     "start_time": "2021-04-02T18:58:27.874900Z"
    }
   },
   "outputs": [
    {
     "name": "stdout",
     "output_type": "stream",
     "text": [
      "['$233.92M', '$100.21M', '$5.01M', '$115.65M', '$257.73M', 'nan', '$318.41M', '$1.00M', '$35.55M', '$9.93M', '$10.00M', '$532.18M', '$408.08M', '$222.53M', '$15.32M', '$760.51M', '$0.00M', '$25.51M', '$12.34M', '$118.50M', '$59.74M', '$238.63M', '$435.11M', '$0.19M', '$4.36M', 'nan', '$324.59M', '$259.77M', '$274.09M', '$228.78M', '$146.41M', '$0.88M', 'nan', '$25.44M', '$0.15M', '$0.37M', '$63.54M', '$78.91M', 'nan', 'nan', 'nan', '$389.81M', '$608.58M', 'nan', '$208.55M', '$176.76M', '$75.59M', '$107.51M', '$57.94M', '$45.06M']\n",
      "['665,089', '605,666', '337,395', '641,538', '579,480', '175,468', '950,440', '43,338', '468,143', '188,794', '79,853', '562,391', '675,226', '415,015', '308,806', '1,127,195', '218,376', '284,572', '282,933', '486,159', '374,559', '358,440', '375,583', '26,033', '43,858', '65,863', '489,011', '746,442', '774,375', '464,976', '649,914', '72,519', '61,093', '479,024', '29,495', '64,496', '437,410', '113,506', '45,294', '76,596', '31,099', '579,496', '254,574', '50,346', '413,845', '498,335', '523,434', '508,733', '454,348', '379,458']\n"
     ]
    }
   ],
   "source": [
    "#Get the votes\n",
    "Total_votes = soup.find_all('p',class_=\"sort-num_votes-visible\")\n",
    "votes_gross =[]\n",
    "for i in Total_votes:\n",
    "    votes_gross.append(i.text)\n",
    "    list(map(lambda x:x.strip(),votes_gross))\n",
    "    votes_gross = [x.replace('\\n', '').replace('|','').replace('Votes:','').replace('Gross:','') for x in votes_gross]  \n",
    "\n",
    "#Separate votes and gross into separate lists(if somevalues are missing, replace it with Zero)\n",
    "votes = []\n",
    "gross = []\n",
    "\n",
    "for i in range(0,50):\n",
    "    splt = votes_gross[i].split()\n",
    "    if len(splt) == 2:\n",
    "        gross.append(splt[1])\n",
    "    else:\n",
    "        gross.append('nan') \n",
    "    votes.append(splt[0]) \n",
    "    \n",
    "print(gross)\n",
    "print(votes)"
   ]
  },
  {
   "cell_type": "code",
   "execution_count": 9,
   "id": "surprising-baltimore",
   "metadata": {
    "ExecuteTime": {
     "end_time": "2021-04-02T18:58:32.702867Z",
     "start_time": "2021-04-02T18:58:32.640065Z"
    }
   },
   "outputs": [
    {
     "data": {
      "text/plain": [
       "['75',\n",
       " '71',\n",
       " '67',\n",
       " '81',\n",
       " '82',\n",
       " 'nan',\n",
       " '79',\n",
       " '61',\n",
       " '84',\n",
       " '84',\n",
       " '90',\n",
       " '65',\n",
       " '75',\n",
       " '74',\n",
       " '55',\n",
       " '83',\n",
       " '63',\n",
       " '74',\n",
       " '64',\n",
       " '57',\n",
       " '45',\n",
       " '71',\n",
       " '91',\n",
       " '73',\n",
       " '95',\n",
       " '91',\n",
       " '66',\n",
       " '70',\n",
       " '96',\n",
       " '72',\n",
       " '65',\n",
       " '81',\n",
       " 'nan',\n",
       " '78',\n",
       " '62',\n",
       " 'nan',\n",
       " '52',\n",
       " '67',\n",
       " '92',\n",
       " 'nan',\n",
       " '87',\n",
       " '67',\n",
       " '80',\n",
       " 'nan',\n",
       " '79',\n",
       " '68',\n",
       " '73',\n",
       " '56',\n",
       " '30',\n",
       " '73']"
      ]
     },
     "execution_count": 9,
     "metadata": {},
     "output_type": "execute_result"
    }
   ],
   "source": [
    "# Getting metascore\n",
    "score = soup.find_all('div',class_=\"ratings-bar\")\n",
    "metascore = []\n",
    "for i in range(0,50):\n",
    "    meta = score[i].find_all('div', class_ = \"inline-block ratings-metascore\")\n",
    "    try:\n",
    "        m = meta[0].find('span').text\n",
    "        metascore.append(m)\n",
    "    except:\n",
    "        metascore.append(\"nan\")\n",
    "        \n",
    "score = str.maketrans('', '', ' ')\n",
    "score_list = [s.translate(score) for s in metascore]\n",
    "score_list\n",
    "#   The str.maketrans() static method is a helpful tool to produce the translation map; \n",
    "#   the first two arguments are empty strings because you are not replacing characters, only removing. \n",
    "#  The third string holds all characters you want to remove."
   ]
  },
  {
   "cell_type": "code",
   "execution_count": 27,
   "id": "domestic-process",
   "metadata": {
    "ExecuteTime": {
     "end_time": "2021-04-02T21:28:46.444631Z",
     "start_time": "2021-04-02T21:28:46.403990Z"
    },
    "scrolled": true
   },
   "outputs": [],
   "source": [
    "#create the dataframe\n",
    "\n",
    "df = pd.DataFrame({'Movie':movie_names, 'Rating':movie_rating, 'Year':movie_year,'Runtime':movie_runtime,\n",
    "                   'Metascore':score_list,'Votes':votes, 'Gross':gross, 'Director':list_of_directors, 'Stars':list_of_actors})\n",
    "\n",
    "df.to_csv(\"IMDB_webscrapping1.csv\", index=False)\n",
    "\n",
    "file1 = open(\"IMDB_webscrapping.csv\", \"a\")\n",
    "file2 = open(\"IMDB_webscrapping1.csv\", \"r\")\n",
    "\n",
    "for line in file2:\n",
    "    file1.write(line)\n",
    "\n",
    "file1.close()\n",
    "file2.close()\n"
   ]
  }
 ],
 "metadata": {
  "kernelspec": {
   "display_name": "Python 3",
   "language": "python",
   "name": "python3"
  },
  "language_info": {
   "codemirror_mode": {
    "name": "ipython",
    "version": 3
   },
   "file_extension": ".py",
   "mimetype": "text/x-python",
   "name": "python",
   "nbconvert_exporter": "python",
   "pygments_lexer": "ipython3",
   "version": "3.8.8"
  }
 },
 "nbformat": 4,
 "nbformat_minor": 5
}
