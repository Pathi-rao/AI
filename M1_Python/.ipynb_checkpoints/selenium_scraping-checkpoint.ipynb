{
 "cells": [
  {
   "cell_type": "code",
   "execution_count": 4,
   "id": "animal-empire",
   "metadata": {
    "ExecuteTime": {
     "end_time": "2021-05-14T06:40:01.104058Z",
     "start_time": "2021-05-14T06:39:49.682547Z"
    }
   },
   "outputs": [
    {
     "name": "stdout",
     "output_type": "stream",
     "text": [
      "100% Whey Gold Standard (908g) von Optimum Nutrition kaufen | Bodylab24 Shop\n"
     ]
    }
   ],
   "source": [
    "from selenium import webdriver\n",
    "\n",
    "path = \"C:\\Program Files (x86)\\chromedriver.exe\"\n",
    "\n",
    "driver = webdriver.Chrome(path)\n",
    "driver.get(\"https://www.bodylab24.de/100-whey-gold-standard-908g.html\")\n",
    "\n",
    "#driver.close() #closes the tab\n",
    "#driver.quit() #closes the browser\n",
    "print(driver.title)"
   ]
  },
  {
   "cell_type": "code",
   "execution_count": 3,
   "id": "pleasant-locking",
   "metadata": {
    "ExecuteTime": {
     "end_time": "2021-05-14T06:37:53.715610Z",
     "start_time": "2021-05-14T06:37:51.367736Z"
    }
   },
   "outputs": [],
   "source": []
  }
 ],
 "metadata": {
  "kernelspec": {
   "display_name": "Python 3",
   "language": "python",
   "name": "python3"
  },
  "language_info": {
   "codemirror_mode": {
    "name": "ipython",
    "version": 3
   },
   "file_extension": ".py",
   "mimetype": "text/x-python",
   "name": "python",
   "nbconvert_exporter": "python",
   "pygments_lexer": "ipython3",
   "version": "3.8.8"
  }
 },
 "nbformat": 4,
 "nbformat_minor": 5
}
