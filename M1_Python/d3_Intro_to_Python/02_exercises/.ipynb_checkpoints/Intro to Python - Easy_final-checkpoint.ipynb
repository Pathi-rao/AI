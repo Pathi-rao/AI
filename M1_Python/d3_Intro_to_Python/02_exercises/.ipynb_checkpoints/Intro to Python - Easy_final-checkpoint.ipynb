{
 "cells": [
  {
   "cell_type": "markdown",
   "metadata": {},
   "source": [
    "Here you have a collection of guided exercises for the first class on Python. <br>\n",
    "The exercises are divided by topic, following the topics reviewed during the theory session, and for each topic you have some mandatory exercises, and other optional exercises, which you are invited to do if you still have time after the mandatory exercises. <br>\n",
    "\n",
    "Remember that you have 5 hours to solve these exercises, after which we will review the most interesting exercises together. If you don't finish all the exercises, you can work on them tonightor tomorrow. \n",
    "\n",
    "At the end of the class, we will upload the code with the solutions of the exercises so that you can review them again if needed. If you still have not finished some exercises, try to do them first by yourself, before taking a look at the solutions: you are doing these exercises for yourself, so it is always the best to do them your way first, as it is the fastest way to learn!"
   ]
  },
  {
   "cell_type": "markdown",
   "metadata": {},
   "source": [
    "**Exercise 1.1:** The cover price of a book is 24.95 EUR, but bookstores get a 40 percent discount. Shipping costs 3 EUR for the first copy and 75 cents for each additional copy. **Calculate the total wholesale costs for 60 copies**. "
   ]
  },
  {
   "cell_type": "code",
   "execution_count": null,
   "metadata": {},
   "outputs": [],
   "source": [
    "#Your Code Here\n",
    "#Your Code Here\n",
    "Total_copies = 60\n",
    "price = 24.95\n",
    "\n",
    "discount = price * (40/100)                        # 40 percent discount\n",
    "discounted_price = price - discount\n",
    "\n",
    "shipping_for_one = 3                               # Shipping cost for first book\n",
    "shipping_for_rest = 0.75 * (Total_copies - 1)      # Shipping cost for the rest\n",
    "\n",
    "Total_shipping = shipping_for_one + shipping_for_rest\n",
    "Total_wholesale_cost = discounted_price * Total_copies + Total_shipping\n",
    "\n",
    "Total_wholesale_cost\n"
   ]
  },
  {
   "cell_type": "markdown",
   "metadata": {},
   "source": [
    "**Exercise 1.2:** When something is wrong with your code, Python will raise errors. Often these will be \"syntax errors\" that signal that something is wrong with the form of your code (e.g., the code in the previous exercise raised a `SyntaxError`). There are also \"runtime errors\", which signal that your code was in itself formally correct, but that something went wrong during the code's execution. A good example is the `ZeroDivisionError`, which indicates that you tried to divide a number by zero (which, as you may know, is not allowed). Try to make Python **raise such a `ZeroDivisionError`.**"
   ]
  },
  {
   "cell_type": "code",
   "execution_count": null,
   "metadata": {},
   "outputs": [],
   "source": [
    "#Your Code Here\n",
    "a = 1/0\n",
    "a\n"
   ]
  },
  {
   "cell_type": "markdown",
   "metadata": {},
   "source": [
    "**Exercise 5.1**: Create a countdown function that starts at a certain count, and counts down to zero. Instead of zero, print \"Blast off!\". Use a `for` loop. \n"
   ]
  },
  {
   "cell_type": "code",
   "execution_count": null,
   "metadata": {},
   "outputs": [],
   "source": [
    "# Countdown\n",
    "def countdown(x=int(input('Please enter a number'))):\n",
    "        for i in range(x,-1,-1): #Increment by -1 till -1 because we wa\n",
    "            if i!=0:\n",
    "                print(i)\n",
    "            elif i==0:\n",
    "                print(\"Blast off\")\n",
    "countdown()\n"
   ]
  },
  {
   "cell_type": "markdown",
   "metadata": {},
   "source": [
    "**Exercise 5.2:** Write and test three functions that return the largest, the smallest, and the number of dividables by 3 in a given collection of numbers. Use the algorithm described earlier in the Part 5 lecture :)"
   ]
  },
  {
   "cell_type": "code",
   "execution_count": 15,
   "metadata": {
    "ExecuteTime": {
     "end_time": "2021-03-17T15:30:48.529549Z",
     "start_time": "2021-03-17T15:30:48.501318Z"
    }
   },
   "outputs": [
    {
     "name": "stdout",
     "output_type": "stream",
     "text": [
      "100\n",
      "2\n",
      "4\n"
     ]
    }
   ],
   "source": [
    "# Your function\n",
    "a = [2, 4, 6, 12, 15, 99, 100]\n",
    "\n",
    "def function1(a):\n",
    "    print (max(a))\n",
    "    \n",
    "def function2(a):\n",
    "    print(min(a))\n",
    "    \n",
    "def function3(a):\n",
    "    count = 0\n",
    "    \n",
    "    for i in a:\n",
    "        if i%3 == 0:\n",
    "            count +=1\n",
    "    print(count)\n",
    "\n",
    "    \n",
    "function1(a)\n",
    "function2(a)\n",
    "function3(a)\n",
    "        \n",
    "    \n",
    "\n"
   ]
  },
  {
   "cell_type": "code",
   "execution_count": null,
   "metadata": {},
   "outputs": [],
   "source": []
  },
  {
   "cell_type": "code",
   "execution_count": null,
   "metadata": {},
   "outputs": [],
   "source": []
  }
 ],
 "metadata": {
  "kernelspec": {
   "display_name": "Python 3",
   "language": "python",
   "name": "python3"
  },
  "language_info": {
   "codemirror_mode": {
    "name": "ipython",
    "version": 3
   },
   "file_extension": ".py",
   "mimetype": "text/x-python",
   "name": "python",
   "nbconvert_exporter": "python",
   "pygments_lexer": "ipython3",
   "version": "3.8.8"
  }
 },
 "nbformat": 4,
 "nbformat_minor": 4
}
