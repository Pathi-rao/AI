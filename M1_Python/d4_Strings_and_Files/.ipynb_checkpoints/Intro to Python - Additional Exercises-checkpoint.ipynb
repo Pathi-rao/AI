{
 "cells": [
  {
   "cell_type": "markdown",
   "metadata": {},
   "source": [
    "**Exercise 2.2 (optional):** Write code that classifies a given amount of money (which you store in a variable `amount`), specified in cents, as greater monetary units. Your code lists the monetary equivalent in dollars (100 ct), quarters (25 ct), dimes (10 ct), nickels (5 ct), and pennies (1 ct). Your program should report the maximum number of dollars that fit in the amount, then the maximum number of quarters that fit in the remainder after you subtract the dollars, then the maximum number of dimes that fit in the remainder after you subtract the dollars and quarters, and so on for nickels and pennies. The result is that you express the amount as the minimum number of coins needed.  \n",
    "\n",
    "**Can you do it again? Would you change anything from the last time you had to do this?**"
   ]
  },
  {
   "cell_type": "code",
   "execution_count": 24,
   "metadata": {
    "ExecuteTime": {
     "end_time": "2021-03-20T18:33:14.351881Z",
     "start_time": "2021-03-20T18:33:14.327931Z"
    }
   },
   "outputs": [
    {
     "data": {
      "text/plain": [
       "{'dollar_count': 11,\n",
       " 'quarter_count': 2,\n",
       " 'dimes_count': 0,\n",
       " 'nickles_count': 1,\n",
       " 'pennies_count': 1}"
      ]
     },
     "execution_count": 24,
     "metadata": {},
     "output_type": "execute_result"
    }
   ],
   "source": [
    "# Your Code Here\n",
    "\n",
    "# Write your code in this cell:\n",
    "def cashier(Amount):\n",
    "    \n",
    "    cash_change = {}\n",
    "    \n",
    "    ''' \n",
    "        This time created a dict and appended the values simultaneaously unlike last time\n",
    "        where calculated values first and then assign each to a dict\n",
    "        \n",
    "        '''\n",
    "    \n",
    "    #Divide the input amount with dollars and subsequently remove it by remainder operator\n",
    "    cash_change['dollar_count'] = Amount // 100   \n",
    "    rem1 = Amount%100\n",
    "    \n",
    "    cash_change['quarter_count'] = rem1//25\n",
    "    rem2 = rem1%25\n",
    "    \n",
    "    cash_change['dimes_count'] = rem2//10\n",
    "    rem3 = rem2%10\n",
    "    \n",
    "    cash_change['nickles_count'] = rem3//5\n",
    "    rem4 = rem3%5\n",
    "    \n",
    "    cash_change['pennies_count'] = rem4//1\n",
    "    \n",
    "    return cash_change\n",
    "\n",
    "cashier(1156)"
   ]
  },
  {
   "cell_type": "markdown",
   "metadata": {},
   "source": [
    "**Exercise (optional)**: The factorial of a positive integer is that integer, multiplied by all positive integers that are lower (excluding zero). You write the factorial as the number with an exclamation mark after it. E.g., the factorial of 5 is `5! = 5 * 4 * 3 * 2 * 1 = 120`. Write a function that calculates the factorial of its (integer) parameter. Test your function for different parameter values, but do not use very large numbers as factorials grow exponentially. Hint: to do this with a `while` loop, you need at least one more variable."
   ]
  },
  {
   "cell_type": "code",
   "execution_count": 20,
   "metadata": {
    "ExecuteTime": {
     "end_time": "2021-03-20T18:23:07.198141Z",
     "start_time": "2021-03-20T18:23:05.338215Z"
    }
   },
   "outputs": [
    {
     "name": "stdout",
     "output_type": "stream",
     "text": [
      "Enter a number that you want to find factorial to: 5\n",
      "The factorial of 5 is: 120\n"
     ]
    }
   ],
   "source": [
    "# Factorial\n",
    "def factorial (number = int(input(\"Enter a number that you want to find factorial to: \"))):\n",
    "    \n",
    "    fact = 1\n",
    "    \n",
    "    for i in range(1, number+1):  #since python excludes last number, increment it by 1\n",
    "        fact = fact * i\n",
    "    print(f\"The factorial of {number} is: {fact}\" )\n",
    "\n",
    "factorial()"
   ]
  },
  {
   "cell_type": "markdown",
   "metadata": {},
   "source": [
    "**Exercise 5.1 (optional):** Write a function that prints a multiplication table for digits 1 to 10. A multiplication table for the numbers 1 to `num = 3` looks as follows:\n",
    "\n",
    "`. |  1  2  3`<br>\n",
    "`------------`<br>\n",
    "`1 |  1  2  3`<br>\n",
    "`2 |  2  4  6`<br>\n",
    "`3 |  3  6  9`\n",
    "\n",
    "So the labels on the rows are multiplied by the labels on the columns, and the result is shown in the cell that is on that row/column combination. "
   ]
  },
  {
   "cell_type": "code",
   "execution_count": null,
   "metadata": {},
   "outputs": [],
   "source": [
    "# Print multiplication table\n",
    "def print_multiplication_table(n):\n",
    "    \n",
    "    #Your Code Here\n",
    "        \n",
    "print_multiplication_table(3)"
   ]
  },
  {
   "cell_type": "markdown",
   "metadata": {},
   "source": [
    "**Exercise 5.2 (optional):** If you did the previous exercise with a `while` loop, then do it again with a `for` loop. If you did it with a `for` loop, then do it again with a `while` loop. If you did not use a loop at all, you should be ashamed of yourself."
   ]
  },
  {
   "cell_type": "code",
   "execution_count": null,
   "metadata": {},
   "outputs": [],
   "source": [
    "# Print multiplication table\n",
    "def print_multiplication_table(n):\n",
    "    \n",
    "    #Your Code Here\n",
    "\n",
    "print_multiplication_table(5)"
   ]
  },
  {
   "cell_type": "markdown",
   "metadata": {},
   "source": [
    "**Exercise 6.5 (optional):** Typical autocorrect functions are the following: \n",
    "1. if a word starts with two capitals, followed by a lower-case letter, the second capital is made lower case; \n",
    "2. if a sentence contains a word that is immediately followed by the same word, the second occurrence is removed; \n",
    "3. if a sentence starts with a lower-case letter, that letter is turned into a capital; \n",
    "4. if a word consists entirely of capitals, except for the first letter which is lower case, then the case of the letters in the word is reversed; and \n",
    "5. if the sentence contains the name of a day (in English) which does not start with a capital, the first letter is turned into a capital. \n",
    "\n",
    "Write a program that takes a sentence and makes these auto-corrections."
   ]
  },
  {
   "cell_type": "code",
   "execution_count": 32,
   "metadata": {
    "ExecuteTime": {
     "end_time": "2021-03-21T12:55:15.845119Z",
     "start_time": "2021-03-21T12:55:15.824003Z"
    }
   },
   "outputs": [
    {
     "name": "stdout",
     "output_type": "stream",
     "text": [
      "[A-Z]+[a-z]+[a-z]+$\n",
      "[A-Z]+[a-z]+[a-z]+$\n",
      "[A-Z]+[a-z]+[a-z]+$\n"
     ]
    }
   ],
   "source": [
    "# Autocorrect.\n",
    "sentence = \"as it turned out our chance meeting with REverend aRTHUR BElling was \\\n",
    "was to change our whole way of life, and every sunday we'd hurry along to St lOONY up the Cream BUn and Jam.\"\n",
    "\n",
    "import re\n",
    "\n",
    "sentence = sentence.split()\n",
    "\n",
    "for word in sentence:\n",
    "    pattern1 = '[A-Z]+[A-Z]+[a-z]+$' #create a pattern\n",
    "    \n",
    "    #search the pattern\n",
    "    if re.search(pattern1, word):\n",
    "        word = re.sub(r\"\")\n",
    "        \n",
    "        print (word) #to be continued\n",
    "    \n",
    "    \n",
    "    \n",
    "    \n",
    "    \n",
    "    \n"
   ]
  },
  {
   "cell_type": "markdown",
   "metadata": {},
   "source": [
    "### Exercise 11.3 (Optional)\n",
    "In this directory you find a file `blakepoems.txt`. Write a program that processes the contents of this file, line by line. It creates an output file in the current working directory called `blkpms.txt`, which has the same contents as `blakepoems.txt`, except that all the vowels are removed (case-insensitively). At the end, display how many characters you read, and how many characters you wrote. If you want to check the contents of `blkpms.txt`, you can either open it in a text editor, or display the first 10 lines or so at the end of your program."
   ]
  },
  {
   "cell_type": "code",
   "execution_count": null,
   "metadata": {},
   "outputs": [],
   "source": [
    "## Your Code Here"
   ]
  }
 ],
 "metadata": {
  "kernelspec": {
   "display_name": "Python 3",
   "language": "python",
   "name": "python3"
  },
  "language_info": {
   "codemirror_mode": {
    "name": "ipython",
    "version": 3
   },
   "file_extension": ".py",
   "mimetype": "text/x-python",
   "name": "python",
   "nbconvert_exporter": "python",
   "pygments_lexer": "ipython3",
   "version": "3.8.5"
  }
 },
 "nbformat": 4,
 "nbformat_minor": 2
}
