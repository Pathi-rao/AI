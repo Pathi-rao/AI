{
 "cells": [
  {
   "cell_type": "markdown",
   "metadata": {},
   "source": [
    "# Chapter 11 - Text Files"
   ]
  },
  {
   "cell_type": "markdown",
   "metadata": {},
   "source": [
    "---"
   ]
  },
  {
   "cell_type": "markdown",
   "metadata": {},
   "source": [
    "One of the most important uses of Python for data processing is the reading, changing, and writing of text files. Data is often stored in text files, because text files can be easily transferred between different programs. There are multiple standardized formats for text files, such as \"comma-separated values\" (CSV) files. Python supports particular text file formats through modules, some of which will be discussed later. This chapter focusses on opening, reading, writing, and closing of any text file, regardless of format. "
   ]
  },
  {
   "cell_type": "markdown",
   "metadata": {},
   "source": [
    "---"
   ]
  },
  {
   "cell_type": "markdown",
   "metadata": {},
   "source": [
    "## Flat text files"
   ]
  },
  {
   "cell_type": "markdown",
   "metadata": {},
   "source": [
    "When programmers refer to \"text files\" or \"flat text files\", they mean files in which all characters are meant to be read as regular characters, like you would type on a keyboard. For instance, Python program files are flat text files, as are HTML files. Word processor documents, however, are not flat text files, and neither are images. If you want to know whether a file is a text file or not, you can try to open it in a text editor (such as the editor for the IDLE environment, which comes with Python). If you see only readable text, the file is likely to be a text file. Otherwise, it is a so-called \"binary file\".\n",
    "\n",
    "Text files consist of lines of text. At the end of a line, there is a \"newline\" symbol, which in Python is the character \"`\\n`\". Different operating systems use slightly different ways of storing this character in a text file: some Windows programs store it as \"carriage return\", as well as \"line feed\" (\"`\\r\\n`\", sometimes thought as a leftover from old typewriters), while on Linux it is always stored as a single \"`\\n`\". As long as you access a file from Python as a regular text file, Python will convert the characters that it reads to the standard \"`\\n`\", and vice versa when it writes. So you do not usually need to worry about such differences (except when you need to transfer text files between operating systems).\n",
    "\n",
    "However; if you open a file in other editors, such as notepad, sometimes it does not properly understand the end-of-line characters, and shows everything on one line."
   ]
  },
  {
   "cell_type": "markdown",
   "metadata": {},
   "source": [
    "### File handles and pointers"
   ]
  },
  {
   "cell_type": "markdown",
   "metadata": {},
   "source": [
    "When you work with a file in a program, you have to open the file. Opening a file provides a so-called \"file handle\". A file handle can be seen as an access point to the file. It contains a \"pointer\" that indicates a particular place in the file. That pointer is used when you read from or write to the file. For instance, when you read from the file, it starts reading at the pointer, and moves the pointer forward in the file.\n",
    "\n",
    "When you open a file, the pointer is placed at a particular spot in the file, depending on how you opened the file. If you opened the file for reading only, the pointer is placed at the start of the file. The same is true when you open the file for both reading and writing. If you open the file for \"appending\" (i.e., to place new data at the file's end), the file pointer is positioned at the end of the file. Lastly, if you open a file for writing only, actually the file is completely emptied and the file pointer is placed at the start of the, now empty, file. To create a new file (i.e., a file with a name that does not exist yet), you open it for \"writing only\".\n",
    "\n",
    "After opening the file, the file handle is the only access point for the file. All actions you perform on the file, you perform as methods for the file handle.\n",
    "\n",
    "Note that any operating system only allows a limited number of files to be open simultaneously. Therefore you should close files that you no longer need to work with."
   ]
  },
  {
   "cell_type": "markdown",
   "metadata": {},
   "source": [
    "### Moving the file pointer"
   ]
  },
  {
   "cell_type": "markdown",
   "metadata": {},
   "source": [
    "The file pointer, that indicates where in a file you are working, is moved automatically. For instance, when you read 10 characters from a file, the file pointer indicates which is the first of those 10 characters, and, while reading, moves up 10 characters, so that its new position is 10 characters further in the file than before. When you deal with text files, the automatic movements of the file pointer are exactly what you want. You *can* position the file pointer manually using specific methods, but such methods are, in general, only used when dealing with binary files. "
   ]
  },
  {
   "cell_type": "markdown",
   "metadata": {},
   "source": [
    "### Buffering"
   ]
  },
  {
   "cell_type": "markdown",
   "metadata": {},
   "source": [
    "When you make changes to files, these often are not stored in the files immediately. Instead, the operating system \"buffers\" the changes in memory, and \"flushes\" the buffers to the actual files when it sees a need for that. You can force the flushing of the buffers by closing a file. Buffers are also flushed when your program ends normally.\n",
    "\n",
    "However, when your program crashes (for instance because of a runtime error), buffers might not be flushed, and your files will not be updated to the point where the crash took place. So you cannot take the file contents into account when trying to debug a program."
   ]
  },
  {
   "cell_type": "markdown",
   "metadata": {},
   "source": [
    "### File processing programs"
   ]
  },
  {
   "cell_type": "markdown",
   "metadata": {},
   "source": [
    "Most programs that deal with text files follow a process that, in a loop, reads contents of a file, processes those contents in some way, then writes the contents to another file. For instance, a program might read lines from a text file, and for each line sort the words, then write the sorted words to another text file. This is hardly any different from a program that asks the user the provide, in a loop, a line of text, then sorts the words in the line, and displays them using the `print()` function. \n",
    "\n",
    "However, it tends to be experienced as more complicated.\n",
    "\n",
    "When you provide input to a program manually, and see it displaying outputs, you always know more or less what lines of your code Python is processing, and you can make up tests on the fly. If you work with files, you have to prepare your files beforehand, then run the program and wait until it finishes before you can examine the contents of the output files. \n",
    "\n",
    "While working with files might give a sense of lack of control, during development of the program you can always include `print()` statements to get an insight in what the program is doing. For instance, when it reads a line, you can print that line, and when it writes a line, you can also print that line. That way, your insight in the inner workings of the program is no different regardless whether you use manual inputs and screen outputs, or file inputs and outputs."
   ]
  },
  {
   "cell_type": "markdown",
   "metadata": {},
   "source": [
    "---"
   ]
  },
  {
   "cell_type": "markdown",
   "metadata": {},
   "source": [
    "## Reading text files"
   ]
  },
  {
   "cell_type": "markdown",
   "metadata": {},
   "source": [
    "To read the contents of a file, you must first open it, then read the contents, then close it."
   ]
  },
  {
   "cell_type": "markdown",
   "metadata": {},
   "source": [
    "### Opening a file using `open()`"
   ]
  },
  {
   "cell_type": "markdown",
   "metadata": {},
   "source": [
    "To open a file, you use the `open()` function. \n",
    "\n",
    "The `open()` function gets two arguments, of which the second one is optional. The first argument is the name of the file. If the file is not in the current directory, you have to include the complete path to the file so that Python can find it. The second argument is the \"mode\". The mode indicates how you want to treat the file. The default mode (which is picked when you do not supply the second argument) is opening the file as a text file for reading only. How you set other modes is discussed later.\n",
    "\n",
    "The `open()` function returns a file handle, which you use for all the remaining functionalities.\n",
    "\n",
    "Rather than writing \"`<handle> = open( <filename> )`\", you will often see Python programs that write this as \"`open( <filename> ) as <handle>`\". These two ways of writing code are equivalent. I myself prefer the first, as that is the way it is done in most programming languages. However, the second method has an advantage that I discuss below, when talking about closing a file."
   ]
  },
  {
   "cell_type": "markdown",
   "metadata": {},
   "source": [
    "### Reading a file using `read()`"
   ]
  },
  {
   "cell_type": "markdown",
   "metadata": {},
   "source": [
    "The simplest way to read the contents of a file is using the `read()` method, without arguments, on the file handle. This returns a string that contains the complete contents of the file. `read()` can get an argument, but that's only used for binary files.\n",
    "\n",
    "Reading from a file moves the file pointer to right after the part of the file that was read. This means that if you use the `read()` method without arguments, the file pointer is moved to the end of the file. This entails that if you would try to `read()` from it a second time, nothing would be read, as there is nothing to be read after the spot where the file pointer is."
   ]
  },
  {
   "cell_type": "markdown",
   "metadata": {},
   "source": [
    "### Closing a file using `close()`"
   ]
  },
  {
   "cell_type": "markdown",
   "metadata": {},
   "source": [
    "To close a file, you use the `close()` method on the file handle. Every file that you open, you should close at some point in your program. This is especially true in these notebooks, as each notebook page is considered to be one complete program; this means that if you do not close a file, it remains open even after the bit of code that you executed ends.\n",
    "\n",
    "If everything that you need to do with a file is done in a single block, you can write this block as follows:\n",
    "\n",
    "    with open( <filename> ) as <handle>:\n",
    "        <statements>\n",
    "        \n",
    "This syntactic construction has the advantage that the file will be closed automatically after the block `<statements>` ends, so you do not need to include an explicit `close()` call. This construction is typically Python; you do not see it in many other programming languages."
   ]
  },
  {
   "cell_type": "markdown",
   "metadata": {},
   "source": [
    "### Displaying the contents of a file"
   ]
  },
  {
   "cell_type": "markdown",
   "metadata": {},
   "source": [
    "Now the first few functions and methods for dealing with text files have been introduced, I can show some code that reads the contents of a file."
   ]
  },
  {
   "cell_type": "code",
   "execution_count": 1,
   "metadata": {},
   "outputs": [
    {
     "name": "stdout",
     "output_type": "stream",
     "text": [
      "1609\n",
      "\n",
      "THE SONNETS\n",
      "\n",
      "by William Shakespeare\n",
      "\n",
      "\n",
      "\n",
      "                     1\n",
      "  From fairest creatures we desire increase,\n",
      "  That thereby beauty's rose might never die,\n",
      "  But as the riper should by time decease,\n",
      "  His tender heir might bear his memory:\n",
      "  But thou contracted to thine own bright eyes,\n",
      "  Feed'st thy light's flame with self-substantial fuel,\n",
      "  Making a famine where abundance lies,\n",
      "  Thy self thy foe, to thy sweet self too cruel:\n",
      "  Thou that art now the world's fresh ornament,\n",
      "  And only herald to the gaudy spring,\n",
      "  Within thine own bud buriest thy content,\n",
      "  And tender churl mak'st waste in niggarding:\n",
      "    Pity the world, or else this glutton be,\n",
      "    To eat the world's due, by the grave and thee.\n",
      "\n",
      "\n",
      "                     2\n",
      "  When forty winters shall besiege thy brow,\n",
      "  And dig deep trenches in thy beauty's field,\n",
      "  Thy youth's proud livery so gazed on now,\n",
      "  Will be a tattered weed of small worth held:\n",
      "  Then being asked, where all thy beauty lies,\n",
      "  Where all the treasure of thy lusty days;\n",
      "  To say within thine own deep sunken eyes,\n",
      "  Were an all-eating shame, and thriftless praise.\n",
      "  How much more praise deserved thy beauty's use,\n",
      "  If thou couldst answer 'This fair child of mine\n",
      "  Shall sum my count, and make my old excuse'\n",
      "  Proving his beauty by succession thine.\n",
      "    This were to be new made when thou art old,\n",
      "    And see thy blood warm when thou feel'st it cold.\n",
      "\n",
      "\n",
      "                     3\n",
      "  Look in thy glass and tell the face thou viewest,\n",
      "  Now is the time that face should form another,\n",
      "  Whose fresh repair if now thou not renewest,\n",
      "  Thou dost beguile the world, unbless some mother.\n",
      "  For where is she so fair whose uneared womb\n",
      "  Disdains the tillage of thy husbandry?\n",
      "  Or who is he so fond will be the tomb,\n",
      "  Of his self-love to stop posterity?\n",
      "  Thou art thy mother's glass and she in thee\n",
      "  Calls back the lovely April of her prime,\n",
      "  So thou through windows of thine age shalt see,\n",
      "  Despite of wrinkles this thy golden time.\n",
      "    But if thou live remembered not to be,\n",
      "    Die single and thine image dies with thee.\n",
      "\n",
      "\n",
      "                     4\n",
      "  Unthrifty loveliness why dost thou spend,\n",
      "  Upon thy self thy beauty's legacy?\n",
      "  Nature's bequest gives nothing but doth lend,\n",
      "  And being frank she lends to those are free:\n",
      "  Then beauteous niggard why dost thou abuse,\n",
      "  The bounteous largess given thee to give?\n",
      "  Profitless usurer why dost thou use\n",
      "  So great a sum of sums yet canst not live?\n",
      "  For having traffic with thy self alone,\n",
      "  Thou of thy self thy sweet self dost deceive,\n",
      "  Then how when nature calls thee to be gone,\n",
      "  What acceptable audit canst thou leave?\n",
      "    Thy unused beauty must be tombed with thee,\n",
      "    Which used lives th' executor to be.\n",
      "\n",
      "\n",
      "                     5\n",
      "  Those hours that with gentle work did frame\n",
      "  The lovely gaze where every eye doth dwell\n",
      "  Will play the tyrants to the very same,\n",
      "  And that unfair which fairly doth excel:\n",
      "  For never-resting time leads summer on\n",
      "  To hideous winter and confounds him there,\n",
      "  Sap checked with frost and lusty leaves quite gone,\n",
      "  Beauty o'er-snowed and bareness every where:\n",
      "  Then were not summer's distillation left\n",
      "  A liquid prisoner pent in walls of glass,\n",
      "  Beauty's effect with beauty were bereft,\n",
      "  Nor it nor no remembrance what it was.\n",
      "    But flowers distilled though they with winter meet,\n",
      "    Leese but their show, their substance still lives sweet.\n",
      "\n",
      "\n",
      "                     6\n",
      "  Then let not winter's ragged hand deface,\n",
      "  In thee thy summer ere thou be distilled:\n",
      "  Make sweet some vial; treasure thou some place,\n",
      "  With beauty's treasure ere it be self-killed:\n",
      "  That use is not forbidden usury,\n",
      "  Which happies those that pay the willing loan;\n",
      "  That's for thy self to breed another thee,\n",
      "  Or ten times happier be it ten for one,\n",
      "  Ten times thy self were happier than thou art,\n",
      "  If ten of thine ten times refigured thee:\n",
      "  Then what could death do if thou shouldst depart,\n",
      "  Leaving thee living in posterity?\n",
      "    Be not self-willed for thou art much too fair,\n",
      "    To be death's conquest and make worms thine heir.\n",
      "\n",
      "\n",
      "                     7\n",
      "  Lo in the orient when the gracious light\n",
      "  Lifts up his burning head, each under eye\n",
      "  Doth homage to his new-appearing sight,\n",
      "  Serving with looks his sacred majesty,\n",
      "  And having climbed the steep-up heavenly hill,\n",
      "  Resembling strong youth in his middle age,\n",
      "  Yet mortal looks adore his beauty still,\n",
      "  Attending on his golden pilgrimage:\n",
      "  But when from highmost pitch with weary car,\n",
      "  Like feeble age he reeleth from the day,\n",
      "  The eyes (fore duteous) now converted are\n",
      "  From his low tract and look another way:\n",
      "    So thou, thy self out-going in thy noon:\n",
      "    Unlooked on diest unless thou get a son.\n",
      "\n",
      "\n",
      "                     8\n",
      "  Music to hear, why hear'st thou music sadly?\n",
      "  Sweets with sweets war not, joy delights in joy:\n",
      "  Why lov'st thou that which thou receiv'st not gladly,\n",
      "  Or else receiv'st with pleasure thine annoy?\n",
      "  If the true concord of well-tuned sounds,\n",
      "  By unions married do offend thine ear,\n",
      "  They do but sweetly chide thee, who confounds\n",
      "  In singleness the parts that thou shouldst bear:\n",
      "  Mark how one string sweet husband to another,\n",
      "  Strikes each in each by mutual ordering;\n",
      "  Resembling sire, and child, and happy mother,\n",
      "  Who all in one, one pleasing note do sing:\n",
      "    Whose speechless song being many, seeming one,\n",
      "    Sings this to thee, 'Thou single wilt prove none'.\n",
      "\n",
      "\n",
      "                     9\n",
      "  Is it for fear to wet a widow's eye,\n",
      "  That thou consum'st thy self in single life?\n",
      "  Ah, if thou issueless shalt hap to die,\n",
      "  The world will wail thee like a makeless wife,\n",
      "  The world will be thy widow and still weep,\n",
      "  That thou no form of thee hast left behind,\n",
      "  When every private widow well may keep,\n",
      "  By children's eyes, her husband's shape in mind:\n",
      "  Look what an unthrift in the world doth spend\n",
      "  Shifts but his place, for still the world enjoys it;\n",
      "  But beauty's waste hath in the world an end,\n",
      "  And kept unused the user so destroys it:\n",
      "    No love toward others in that bosom sits\n",
      "    That on himself such murd'rous shame commits.\n",
      "\n",
      "\n",
      "                     10\n",
      "  For shame deny that thou bear'st love to any\n",
      "  Who for thy self art so unprovident.\n",
      "  Grant if thou wilt, thou art beloved of many,\n",
      "  But that thou none lov'st is most evident:\n",
      "  For thou art so possessed with murd'rous hate,\n",
      "  That 'gainst thy self thou stick'st not to conspire,\n",
      "  Seeking that beauteous roof to ruinate\n",
      "  Which to repair should be thy chief desire:\n",
      "  O change thy thought, that I may change my mind,\n",
      "  Shall hate be fairer lodged than gentle love?\n",
      "  Be as thy presence is gracious and kind,\n",
      "  Or to thy self at least kind-hearted prove,\n",
      "    Make thee another self for love of me,\n",
      "    That beauty still may live in thine or thee.\n",
      "\n"
     ]
    }
   ],
   "source": [
    "\n",
    "def display_contents_file(file_name):\n",
    "    #fp = open(file_name, \"r\")\n",
    "    with open( file_name ) as fp:\n",
    "        buffer = fp.read()\n",
    "    print( buffer )\n",
    "    \n",
    "display_contents_file(\"Shakespeare.txt\")"
   ]
  },
  {
   "cell_type": "code",
   "execution_count": 3,
   "metadata": {},
   "outputs": [
    {
     "name": "stdout",
     "output_type": "stream",
     "text": [
      "1609\n",
      "\n",
      "THE SONNETS\n",
      "\n",
      "by William Shakespeare\n",
      "\n",
      "\n",
      "\n",
      "                     1\n",
      "  From fairest creatures we desire increase,\n",
      "  That thereby beauty's rose might never die,\n",
      "  But as the riper should by time decease,\n",
      "  His tender heir might bear his memory:\n",
      "  But thou contracted to thine own bright eyes,\n",
      "  Feed'st thy light's flame with self-substantial fuel,\n",
      "  Making a famine where abundance lies,\n",
      "  Thy self thy foe, to thy sweet self too cruel:\n",
      "  Thou that art now the world's fresh ornament,\n",
      "  And only herald to the gaudy spring,\n",
      "  Within thine own bud buriest thy content,\n",
      "  And tender churl mak'st waste in niggarding:\n",
      "    Pity the world, or else this glutton be,\n",
      "    To eat the world's due, by the grave and thee.\n",
      "\n",
      "\n",
      "                     2\n",
      "  When forty winters shall besiege thy brow,\n",
      "  And dig deep trenches in thy beauty's field,\n",
      "  Thy youth's proud livery so gazed on now,\n",
      "  Will be a tattered weed of small worth held:\n",
      "  Then being asked, where all thy beauty lies,\n",
      "  Where all the treasure of thy lusty days;\n",
      "  To say within thine own deep sunken eyes,\n",
      "  Were an all-eating shame, and thriftless praise.\n",
      "  How much more praise deserved thy beauty's use,\n",
      "  If thou couldst answer 'This fair child of mine\n",
      "  Shall sum my count, and make my old excuse'\n",
      "  Proving his beauty by succession thine.\n",
      "    This were to be new made when thou art old,\n",
      "    And see thy blood warm when thou feel'st it cold.\n",
      "\n",
      "\n",
      "                     3\n",
      "  Look in thy glass and tell the face thou viewest,\n",
      "  Now is the time that face should form another,\n",
      "  Whose fresh repair if now thou not renewest,\n",
      "  Thou dost beguile the world, unbless some mother.\n",
      "  For where is she so fair whose uneared womb\n",
      "  Disdains the tillage of thy husbandry?\n",
      "  Or who is he so fond will be the tomb,\n",
      "  Of his self-love to stop posterity?\n",
      "  Thou art thy mother's glass and she in thee\n",
      "  Calls back the lovely April of her prime,\n",
      "  So thou through windows of thine age shalt see,\n",
      "  Despite of wrinkles this thy golden time.\n",
      "    But if thou live remembered not to be,\n",
      "    Die single and thine image dies with thee.\n",
      "\n",
      "\n",
      "                     4\n",
      "  Unthrifty loveliness why dost thou spend,\n",
      "  Upon thy self thy beauty's legacy?\n",
      "  Nature's bequest gives nothing but doth lend,\n",
      "  And being frank she lends to those are free:\n",
      "  Then beauteous niggard why dost thou abuse,\n",
      "  The bounteous largess given thee to give?\n",
      "  Profitless usurer why dost thou use\n",
      "  So great a sum of sums yet canst not live?\n",
      "  For having traffic with thy self alone,\n",
      "  Thou of thy self thy sweet self dost deceive,\n",
      "  Then how when nature calls thee to be gone,\n",
      "  What acceptable audit canst thou leave?\n",
      "    Thy unused beauty must be tombed with thee,\n",
      "    Which used lives th' executor to be.\n",
      "\n",
      "\n",
      "                     5\n",
      "  Those hours that with gentle work did frame\n",
      "  The lovely gaze where every eye doth dwell\n",
      "  Will play the tyrants to the very same,\n",
      "  And that unfair which fairly doth excel:\n",
      "  For never-resting time leads summer on\n",
      "  To hideous winter and confounds him there,\n",
      "  Sap checked with frost and lusty leaves quite gone,\n",
      "  Beauty o'er-snowed and bareness every where:\n",
      "  Then were not summer's distillation left\n",
      "  A liquid prisoner pent in walls of glass,\n",
      "  Beauty's effect with beauty were bereft,\n",
      "  Nor it nor no remembrance what it was.\n",
      "    But flowers distilled though they with winter meet,\n",
      "    Leese but their show, their substance still lives sweet.\n",
      "\n",
      "\n",
      "                     6\n",
      "  Then let not winter's ragged hand deface,\n",
      "  In thee thy summer ere thou be distilled:\n",
      "  Make sweet some vial; treasure thou some place,\n",
      "  With beauty's treasure ere it be self-killed:\n",
      "  That use is not forbidden usury,\n",
      "  Which happies those that pay the willing loan;\n",
      "  That's for thy self to breed another thee,\n",
      "  Or ten times happier be it ten for one,\n",
      "  Ten times thy self were happier than thou art,\n",
      "  If ten of thine ten times refigured thee:\n",
      "  Then what could death do if thou shouldst depart,\n",
      "  Leaving thee living in posterity?\n",
      "    Be not self-willed for thou art much too fair,\n",
      "    To be death's conquest and make worms thine heir.\n",
      "\n",
      "\n",
      "                     7\n",
      "  Lo in the orient when the gracious light\n",
      "  Lifts up his burning head, each under eye\n",
      "  Doth homage to his new-appearing sight,\n",
      "  Serving with looks his sacred majesty,\n",
      "  And having climbed the steep-up heavenly hill,\n",
      "  Resembling strong youth in his middle age,\n",
      "  Yet mortal looks adore his beauty still,\n",
      "  Attending on his golden pilgrimage:\n",
      "  But when from highmost pitch with weary car,\n",
      "  Like feeble age he reeleth from the day,\n",
      "  The eyes (fore duteous) now converted are\n",
      "  From his low tract and look another way:\n",
      "    So thou, thy self out-going in thy noon:\n",
      "    Unlooked on diest unless thou get a son.\n",
      "\n",
      "\n",
      "                     8\n",
      "  Music to hear, why hear'st thou music sadly?\n",
      "  Sweets with sweets war not, joy delights in joy:\n",
      "  Why lov'st thou that which thou receiv'st not gladly,\n",
      "  Or else receiv'st with pleasure thine annoy?\n",
      "  If the true concord of well-tuned sounds,\n",
      "  By unions married do offend thine ear,\n",
      "  They do but sweetly chide thee, who confounds\n",
      "  In singleness the parts that thou shouldst bear:\n",
      "  Mark how one string sweet husband to another,\n",
      "  Strikes each in each by mutual ordering;\n",
      "  Resembling sire, and child, and happy mother,\n",
      "  Who all in one, one pleasing note do sing:\n",
      "    Whose speechless song being many, seeming one,\n",
      "    Sings this to thee, 'Thou single wilt prove none'.\n",
      "\n",
      "\n",
      "                     9\n",
      "  Is it for fear to wet a widow's eye,\n",
      "  That thou consum'st thy self in single life?\n",
      "  Ah, if thou issueless shalt hap to die,\n",
      "  The world will wail thee like a makeless wife,\n",
      "  The world will be thy widow and still weep,\n",
      "  That thou no form of thee hast left behind,\n",
      "  When every private widow well may keep,\n",
      "  By children's eyes, her husband's shape in mind:\n",
      "  Look what an unthrift in the world doth spend\n",
      "  Shifts but his place, for still the world enjoys it;\n",
      "  But beauty's waste hath in the world an end,\n",
      "  And kept unused the user so destroys it:\n",
      "    No love toward others in that bosom sits\n",
      "    That on himself such murd'rous shame commits.\n",
      "\n",
      "\n",
      "                     10\n",
      "  For shame deny that thou bear'st love to any\n",
      "  Who for thy self art so unprovident.\n",
      "  Grant if thou wilt, thou art beloved of many,\n",
      "  But that thou none lov'st is most evident:\n",
      "  For thou art so possessed with murd'rous hate,\n",
      "  That 'gainst thy self thou stick'st not to conspire,\n",
      "  Seeking that beauteous roof to ruinate\n",
      "  Which to repair should be thy chief desire:\n",
      "  O change thy thought, that I may change my mind,\n",
      "  Shall hate be fairer lodged than gentle love?\n",
      "  Be as thy presence is gracious and kind,\n",
      "  Or to thy self at least kind-hearted prove,\n",
      "    Make thee another self for love of me,\n",
      "    That beauty still may live in thine or thee.\n",
      "\n"
     ]
    }
   ],
   "source": [
    "\n",
    "def display_contents_file(file_name):\n",
    "    fp = open(file_name, \"r\")\n",
    "    #with open( file_name ) as fp:\n",
    "    buffer = fp.read()\n",
    "    print( buffer )\n",
    "    fp.close()\n",
    "display_contents_file(\"Shakespeare.txt\")"
   ]
  },
  {
   "cell_type": "code",
   "execution_count": 4,
   "metadata": {},
   "outputs": [
    {
     "name": "stdout",
     "output_type": "stream",
     "text": [
      "1609\n",
      "\n",
      "\n",
      "\n",
      "THE SONNETS\n",
      "\n",
      "\n",
      "\n",
      "by William Shakespeare\n",
      "\n",
      "\n",
      "\n",
      "\n",
      "\n",
      "\n",
      "\n",
      "                     1\n",
      "\n",
      "  From fairest creatures we desire increase,\n",
      "\n",
      "  That thereby beauty's rose might never die,\n",
      "\n",
      "  But as the riper should by time decease,\n",
      "\n",
      "  His tender heir might bear his memory:\n",
      "\n",
      "  But thou contracted to thine own bright eyes,\n",
      "\n",
      "  Feed'st thy light's flame with self-substantial fuel,\n",
      "\n",
      "  Making a famine where abundance lies,\n",
      "\n",
      "  Thy self thy foe, to thy sweet self too cruel:\n",
      "\n",
      "  Thou that art now the world's fresh ornament,\n",
      "\n",
      "  And only herald to the gaudy spring,\n",
      "\n",
      "  Within thine own bud buriest thy content,\n",
      "\n",
      "  And tender churl mak'st waste in niggarding:\n",
      "\n",
      "    Pity the world, or else this glutton be,\n",
      "\n",
      "    To eat the world's due, by the grave and thee.\n",
      "\n",
      "\n",
      "\n",
      "\n",
      "\n",
      "                     2\n",
      "\n",
      "  When forty winters shall besiege thy brow,\n",
      "\n",
      "  And dig deep trenches in thy beauty's field,\n",
      "\n",
      "  Thy youth's proud livery so gazed on now,\n",
      "\n",
      "  Will be a tattered weed of small worth held:\n",
      "\n",
      "  Then being asked, where all thy beauty lies,\n",
      "\n",
      "  Where all the treasure of thy lusty days;\n",
      "\n",
      "  To say within thine own deep sunken eyes,\n",
      "\n",
      "  Were an all-eating shame, and thriftless praise.\n",
      "\n",
      "  How much more praise deserved thy beauty's use,\n",
      "\n",
      "  If thou couldst answer 'This fair child of mine\n",
      "\n",
      "  Shall sum my count, and make my old excuse'\n",
      "\n",
      "  Proving his beauty by succession thine.\n",
      "\n",
      "    This were to be new made when thou art old,\n",
      "\n",
      "    And see thy blood warm when thou feel'st it cold.\n",
      "\n",
      "\n",
      "\n",
      "\n",
      "\n",
      "                     3\n",
      "\n",
      "  Look in thy glass and tell the face thou viewest,\n",
      "\n",
      "  Now is the time that face should form another,\n",
      "\n",
      "  Whose fresh repair if now thou not renewest,\n",
      "\n",
      "  Thou dost beguile the world, unbless some mother.\n",
      "\n",
      "  For where is she so fair whose uneared womb\n",
      "\n",
      "  Disdains the tillage of thy husbandry?\n",
      "\n",
      "  Or who is he so fond will be the tomb,\n",
      "\n",
      "  Of his self-love to stop posterity?\n",
      "\n",
      "  Thou art thy mother's glass and she in thee\n",
      "\n",
      "  Calls back the lovely April of her prime,\n",
      "\n",
      "  So thou through windows of thine age shalt see,\n",
      "\n",
      "  Despite of wrinkles this thy golden time.\n",
      "\n",
      "    But if thou live remembered not to be,\n",
      "\n",
      "    Die single and thine image dies with thee.\n",
      "\n",
      "\n",
      "\n",
      "\n",
      "\n",
      "                     4\n",
      "\n",
      "  Unthrifty loveliness why dost thou spend,\n",
      "\n",
      "  Upon thy self thy beauty's legacy?\n",
      "\n",
      "  Nature's bequest gives nothing but doth lend,\n",
      "\n",
      "  And being frank she lends to those are free:\n",
      "\n",
      "  Then beauteous niggard why dost thou abuse,\n",
      "\n",
      "  The bounteous largess given thee to give?\n",
      "\n",
      "  Profitless usurer why dost thou use\n",
      "\n",
      "  So great a sum of sums yet canst not live?\n",
      "\n",
      "  For having traffic with thy self alone,\n",
      "\n",
      "  Thou of thy self thy sweet self dost deceive,\n",
      "\n",
      "  Then how when nature calls thee to be gone,\n",
      "\n",
      "  What acceptable audit canst thou leave?\n",
      "\n",
      "    Thy unused beauty must be tombed with thee,\n",
      "\n",
      "    Which used lives th' executor to be.\n",
      "\n",
      "\n",
      "\n",
      "\n",
      "\n",
      "                     5\n",
      "\n",
      "  Those hours that with gentle work did frame\n",
      "\n",
      "  The lovely gaze where every eye doth dwell\n",
      "\n",
      "  Will play the tyrants to the very same,\n",
      "\n",
      "  And that unfair which fairly doth excel:\n",
      "\n",
      "  For never-resting time leads summer on\n",
      "\n",
      "  To hideous winter and confounds him there,\n",
      "\n",
      "  Sap checked with frost and lusty leaves quite gone,\n",
      "\n",
      "  Beauty o'er-snowed and bareness every where:\n",
      "\n",
      "  Then were not summer's distillation left\n",
      "\n",
      "  A liquid prisoner pent in walls of glass,\n",
      "\n",
      "  Beauty's effect with beauty were bereft,\n",
      "\n",
      "  Nor it nor no remembrance what it was.\n",
      "\n",
      "    But flowers distilled though they with winter meet,\n",
      "\n",
      "    Leese but their show, their substance still lives sweet.\n",
      "\n",
      "\n",
      "\n",
      "\n",
      "\n",
      "                     6\n",
      "\n",
      "  Then let not winter's ragged hand deface,\n",
      "\n",
      "  In thee thy summer ere thou be distilled:\n",
      "\n",
      "  Make sweet some vial; treasure thou some place,\n",
      "\n",
      "  With beauty's treasure ere it be self-killed:\n",
      "\n",
      "  That use is not forbidden usury,\n",
      "\n",
      "  Which happies those that pay the willing loan;\n",
      "\n",
      "  That's for thy self to breed another thee,\n",
      "\n",
      "  Or ten times happier be it ten for one,\n",
      "\n",
      "  Ten times thy self were happier than thou art,\n",
      "\n",
      "  If ten of thine ten times refigured thee:\n",
      "\n",
      "  Then what could death do if thou shouldst depart,\n",
      "\n",
      "  Leaving thee living in posterity?\n",
      "\n",
      "    Be not self-willed for thou art much too fair,\n",
      "\n",
      "    To be death's conquest and make worms thine heir.\n",
      "\n",
      "\n",
      "\n",
      "\n",
      "\n",
      "                     7\n",
      "\n",
      "  Lo in the orient when the gracious light\n",
      "\n",
      "  Lifts up his burning head, each under eye\n",
      "\n",
      "  Doth homage to his new-appearing sight,\n",
      "\n",
      "  Serving with looks his sacred majesty,\n",
      "\n",
      "  And having climbed the steep-up heavenly hill,\n",
      "\n",
      "  Resembling strong youth in his middle age,\n",
      "\n",
      "  Yet mortal looks adore his beauty still,\n",
      "\n",
      "  Attending on his golden pilgrimage:\n",
      "\n",
      "  But when from highmost pitch with weary car,\n",
      "\n",
      "  Like feeble age he reeleth from the day,\n",
      "\n",
      "  The eyes (fore duteous) now converted are\n",
      "\n",
      "  From his low tract and look another way:\n",
      "\n",
      "    So thou, thy self out-going in thy noon:\n",
      "\n",
      "    Unlooked on diest unless thou get a son.\n",
      "\n",
      "\n",
      "\n",
      "\n",
      "\n",
      "                     8\n",
      "\n",
      "  Music to hear, why hear'st thou music sadly?\n",
      "\n",
      "  Sweets with sweets war not, joy delights in joy:\n",
      "\n",
      "  Why lov'st thou that which thou receiv'st not gladly,\n",
      "\n",
      "  Or else receiv'st with pleasure thine annoy?\n",
      "\n",
      "  If the true concord of well-tuned sounds,\n",
      "\n",
      "  By unions married do offend thine ear,\n",
      "\n",
      "  They do but sweetly chide thee, who confounds\n",
      "\n",
      "  In singleness the parts that thou shouldst bear:\n",
      "\n",
      "  Mark how one string sweet husband to another,\n",
      "\n",
      "  Strikes each in each by mutual ordering;\n",
      "\n",
      "  Resembling sire, and child, and happy mother,\n",
      "\n",
      "  Who all in one, one pleasing note do sing:\n",
      "\n",
      "    Whose speechless song being many, seeming one,\n",
      "\n",
      "    Sings this to thee, 'Thou single wilt prove none'.\n",
      "\n",
      "\n",
      "\n",
      "\n",
      "\n",
      "                     9\n",
      "\n",
      "  Is it for fear to wet a widow's eye,\n",
      "\n",
      "  That thou consum'st thy self in single life?\n",
      "\n",
      "  Ah, if thou issueless shalt hap to die,\n",
      "\n",
      "  The world will wail thee like a makeless wife,\n",
      "\n",
      "  The world will be thy widow and still weep,\n",
      "\n",
      "  That thou no form of thee hast left behind,\n",
      "\n",
      "  When every private widow well may keep,\n",
      "\n",
      "  By children's eyes, her husband's shape in mind:\n",
      "\n",
      "  Look what an unthrift in the world doth spend\n",
      "\n",
      "  Shifts but his place, for still the world enjoys it;\n",
      "\n",
      "  But beauty's waste hath in the world an end,\n",
      "\n",
      "  And kept unused the user so destroys it:\n",
      "\n",
      "    No love toward others in that bosom sits\n",
      "\n",
      "    That on himself such murd'rous shame commits.\n",
      "\n",
      "\n",
      "\n",
      "\n",
      "\n",
      "                     10\n",
      "\n",
      "  For shame deny that thou bear'st love to any\n",
      "\n",
      "  Who for thy self art so unprovident.\n",
      "\n",
      "  Grant if thou wilt, thou art beloved of many,\n",
      "\n",
      "  But that thou none lov'st is most evident:\n",
      "\n",
      "  For thou art so possessed with murd'rous hate,\n",
      "\n",
      "  That 'gainst thy self thou stick'st not to conspire,\n",
      "\n",
      "  Seeking that beauteous roof to ruinate\n",
      "\n",
      "  Which to repair should be thy chief desire:\n",
      "\n",
      "  O change thy thought, that I may change my mind,\n",
      "\n",
      "  Shall hate be fairer lodged than gentle love?\n",
      "\n",
      "  Be as thy presence is gracious and kind,\n",
      "\n",
      "  Or to thy self at least kind-hearted prove,\n",
      "\n",
      "    Make thee another self for love of me,\n",
      "\n",
      "    That beauty still may live in thine or thee.\n",
      "\n",
      "['1609\\n', '\\n', 'THE SONNETS\\n', '\\n', 'by William Shakespeare\\n', '\\n', '\\n', '\\n', '                     1\\n', '  From fairest creatures we desire increase,\\n', \"  That thereby beauty's rose might never die,\\n\", '  But as the riper should by time decease,\\n', '  His tender heir might bear his memory:\\n', '  But thou contracted to thine own bright eyes,\\n', \"  Feed'st thy light's flame with self-substantial fuel,\\n\", '  Making a famine where abundance lies,\\n', '  Thy self thy foe, to thy sweet self too cruel:\\n', \"  Thou that art now the world's fresh ornament,\\n\", '  And only herald to the gaudy spring,\\n', '  Within thine own bud buriest thy content,\\n', \"  And tender churl mak'st waste in niggarding:\\n\", '    Pity the world, or else this glutton be,\\n', \"    To eat the world's due, by the grave and thee.\\n\", '\\n', '\\n', '                     2\\n', '  When forty winters shall besiege thy brow,\\n', \"  And dig deep trenches in thy beauty's field,\\n\", \"  Thy youth's proud livery so gazed on now,\\n\", '  Will be a tattered weed of small worth held:\\n', '  Then being asked, where all thy beauty lies,\\n', '  Where all the treasure of thy lusty days;\\n', '  To say within thine own deep sunken eyes,\\n', '  Were an all-eating shame, and thriftless praise.\\n', \"  How much more praise deserved thy beauty's use,\\n\", \"  If thou couldst answer 'This fair child of mine\\n\", \"  Shall sum my count, and make my old excuse'\\n\", '  Proving his beauty by succession thine.\\n', '    This were to be new made when thou art old,\\n', \"    And see thy blood warm when thou feel'st it cold.\\n\", '\\n', '\\n', '                     3\\n', '  Look in thy glass and tell the face thou viewest,\\n', '  Now is the time that face should form another,\\n', '  Whose fresh repair if now thou not renewest,\\n', '  Thou dost beguile the world, unbless some mother.\\n', '  For where is she so fair whose uneared womb\\n', '  Disdains the tillage of thy husbandry?\\n', '  Or who is he so fond will be the tomb,\\n', '  Of his self-love to stop posterity?\\n', \"  Thou art thy mother's glass and she in thee\\n\", '  Calls back the lovely April of her prime,\\n', '  So thou through windows of thine age shalt see,\\n', '  Despite of wrinkles this thy golden time.\\n', '    But if thou live remembered not to be,\\n', '    Die single and thine image dies with thee.\\n', '\\n', '\\n', '                     4\\n', '  Unthrifty loveliness why dost thou spend,\\n', \"  Upon thy self thy beauty's legacy?\\n\", \"  Nature's bequest gives nothing but doth lend,\\n\", '  And being frank she lends to those are free:\\n', '  Then beauteous niggard why dost thou abuse,\\n', '  The bounteous largess given thee to give?\\n', '  Profitless usurer why dost thou use\\n', '  So great a sum of sums yet canst not live?\\n', '  For having traffic with thy self alone,\\n', '  Thou of thy self thy sweet self dost deceive,\\n', '  Then how when nature calls thee to be gone,\\n', '  What acceptable audit canst thou leave?\\n', '    Thy unused beauty must be tombed with thee,\\n', \"    Which used lives th' executor to be.\\n\", '\\n', '\\n', '                     5\\n', '  Those hours that with gentle work did frame\\n', '  The lovely gaze where every eye doth dwell\\n', '  Will play the tyrants to the very same,\\n', '  And that unfair which fairly doth excel:\\n', '  For never-resting time leads summer on\\n', '  To hideous winter and confounds him there,\\n', '  Sap checked with frost and lusty leaves quite gone,\\n', \"  Beauty o'er-snowed and bareness every where:\\n\", \"  Then were not summer's distillation left\\n\", '  A liquid prisoner pent in walls of glass,\\n', \"  Beauty's effect with beauty were bereft,\\n\", '  Nor it nor no remembrance what it was.\\n', '    But flowers distilled though they with winter meet,\\n', '    Leese but their show, their substance still lives sweet.\\n', '\\n', '\\n', '                     6\\n', \"  Then let not winter's ragged hand deface,\\n\", '  In thee thy summer ere thou be distilled:\\n', '  Make sweet some vial; treasure thou some place,\\n', \"  With beauty's treasure ere it be self-killed:\\n\", '  That use is not forbidden usury,\\n', '  Which happies those that pay the willing loan;\\n', \"  That's for thy self to breed another thee,\\n\", '  Or ten times happier be it ten for one,\\n', '  Ten times thy self were happier than thou art,\\n', '  If ten of thine ten times refigured thee:\\n', '  Then what could death do if thou shouldst depart,\\n', '  Leaving thee living in posterity?\\n', '    Be not self-willed for thou art much too fair,\\n', \"    To be death's conquest and make worms thine heir.\\n\", '\\n', '\\n', '                     7\\n', '  Lo in the orient when the gracious light\\n', '  Lifts up his burning head, each under eye\\n', '  Doth homage to his new-appearing sight,\\n', '  Serving with looks his sacred majesty,\\n', '  And having climbed the steep-up heavenly hill,\\n', '  Resembling strong youth in his middle age,\\n', '  Yet mortal looks adore his beauty still,\\n', '  Attending on his golden pilgrimage:\\n', '  But when from highmost pitch with weary car,\\n', '  Like feeble age he reeleth from the day,\\n', '  The eyes (fore duteous) now converted are\\n', '  From his low tract and look another way:\\n', '    So thou, thy self out-going in thy noon:\\n', '    Unlooked on diest unless thou get a son.\\n', '\\n', '\\n', '                     8\\n', \"  Music to hear, why hear'st thou music sadly?\\n\", '  Sweets with sweets war not, joy delights in joy:\\n', \"  Why lov'st thou that which thou receiv'st not gladly,\\n\", \"  Or else receiv'st with pleasure thine annoy?\\n\", '  If the true concord of well-tuned sounds,\\n', '  By unions married do offend thine ear,\\n', '  They do but sweetly chide thee, who confounds\\n', '  In singleness the parts that thou shouldst bear:\\n', '  Mark how one string sweet husband to another,\\n', '  Strikes each in each by mutual ordering;\\n', '  Resembling sire, and child, and happy mother,\\n', '  Who all in one, one pleasing note do sing:\\n', '    Whose speechless song being many, seeming one,\\n', \"    Sings this to thee, 'Thou single wilt prove none'.\\n\", '\\n', '\\n', '                     9\\n', \"  Is it for fear to wet a widow's eye,\\n\", \"  That thou consum'st thy self in single life?\\n\", '  Ah, if thou issueless shalt hap to die,\\n', '  The world will wail thee like a makeless wife,\\n', '  The world will be thy widow and still weep,\\n', '  That thou no form of thee hast left behind,\\n', '  When every private widow well may keep,\\n', \"  By children's eyes, her husband's shape in mind:\\n\", '  Look what an unthrift in the world doth spend\\n', '  Shifts but his place, for still the world enjoys it;\\n', \"  But beauty's waste hath in the world an end,\\n\", '  And kept unused the user so destroys it:\\n', '    No love toward others in that bosom sits\\n', \"    That on himself such murd'rous shame commits.\\n\", '\\n', '\\n', '                     10\\n', \"  For shame deny that thou bear'st love to any\\n\", '  Who for thy self art so unprovident.\\n', '  Grant if thou wilt, thou art beloved of many,\\n', \"  But that thou none lov'st is most evident:\\n\", \"  For thou art so possessed with murd'rous hate,\\n\", \"  That 'gainst thy self thou stick'st not to conspire,\\n\", '  Seeking that beauteous roof to ruinate\\n', '  Which to repair should be thy chief desire:\\n', '  O change thy thought, that I may change my mind,\\n', '  Shall hate be fairer lodged than gentle love?\\n', '  Be as thy presence is gracious and kind,\\n', '  Or to thy self at least kind-hearted prove,\\n', '    Make thee another self for love of me,\\n', '    That beauty still may live in thine or thee.\\n']\n"
     ]
    }
   ],
   "source": [
    "def display_contents_file(file_name):\n",
    "    #with open( file_name ) as fp:\n",
    "    fp = open(file_name, \"r\")\n",
    "    buffer = fp.readlines()\n",
    "    for line in buffer:\n",
    "        print(line)\n",
    "    print(buffer)\n",
    "    fp.close()\n",
    "    \n",
    "display_contents_file(\"Shakespeare.txt\")"
   ]
  },
  {
   "cell_type": "markdown",
   "metadata": {},
   "source": [
    "### Reading lines using `readline()`"
   ]
  },
  {
   "cell_type": "markdown",
   "metadata": {},
   "source": [
    "To read a text file line by line, you can use the `readline()` method. The `readline()` method reads characters starting at the file pointer up to and including the next newline character, and returns them as a string. You can recognize that you have reached the end of the file by the fact that no characters are read anymore, i.e., the string that is returned is empty."
   ]
  },
  {
   "cell_type": "code",
   "execution_count": 5,
   "metadata": {},
   "outputs": [
    {
     "name": "stdout",
     "output_type": "stream",
     "text": [
      "['1609\\n', '\\n', 'THE SONNETS\\n', '\\n', 'by William Shakespeare\\n', '\\n', '\\n', '\\n', '                     1\\n', '  From fairest creatures we desire increase,\\n', \"  That thereby beauty's rose might never die,\\n\", '  But as the riper should by time decease,\\n', '  His tender heir might bear his memory:\\n', '  But thou contracted to thine own bright eyes,\\n', \"  Feed'st thy light's flame with self-substantial fuel,\\n\", '  Making a famine where abundance lies,\\n', '  Thy self thy foe, to thy sweet self too cruel:\\n', \"  Thou that art now the world's fresh ornament,\\n\", '  And only herald to the gaudy spring,\\n', '  Within thine own bud buriest thy content,\\n', \"  And tender churl mak'st waste in niggarding:\\n\", '    Pity the world, or else this glutton be,\\n', \"    To eat the world's due, by the grave and thee.\\n\", '\\n', '\\n', '                     2\\n', '  When forty winters shall besiege thy brow,\\n', \"  And dig deep trenches in thy beauty's field,\\n\", \"  Thy youth's proud livery so gazed on now,\\n\", '  Will be a tattered weed of small worth held:\\n', '  Then being asked, where all thy beauty lies,\\n', '  Where all the treasure of thy lusty days;\\n', '  To say within thine own deep sunken eyes,\\n', '  Were an all-eating shame, and thriftless praise.\\n', \"  How much more praise deserved thy beauty's use,\\n\", \"  If thou couldst answer 'This fair child of mine\\n\", \"  Shall sum my count, and make my old excuse'\\n\", '  Proving his beauty by succession thine.\\n', '    This were to be new made when thou art old,\\n', \"    And see thy blood warm when thou feel'st it cold.\\n\", '\\n', '\\n', '                     3\\n', '  Look in thy glass and tell the face thou viewest,\\n', '  Now is the time that face should form another,\\n', '  Whose fresh repair if now thou not renewest,\\n', '  Thou dost beguile the world, unbless some mother.\\n', '  For where is she so fair whose uneared womb\\n', '  Disdains the tillage of thy husbandry?\\n', '  Or who is he so fond will be the tomb,\\n', '  Of his self-love to stop posterity?\\n', \"  Thou art thy mother's glass and she in thee\\n\", '  Calls back the lovely April of her prime,\\n', '  So thou through windows of thine age shalt see,\\n', '  Despite of wrinkles this thy golden time.\\n', '    But if thou live remembered not to be,\\n', '    Die single and thine image dies with thee.\\n', '\\n', '\\n', '                     4\\n', '  Unthrifty loveliness why dost thou spend,\\n', \"  Upon thy self thy beauty's legacy?\\n\", \"  Nature's bequest gives nothing but doth lend,\\n\", '  And being frank she lends to those are free:\\n', '  Then beauteous niggard why dost thou abuse,\\n', '  The bounteous largess given thee to give?\\n', '  Profitless usurer why dost thou use\\n', '  So great a sum of sums yet canst not live?\\n', '  For having traffic with thy self alone,\\n', '  Thou of thy self thy sweet self dost deceive,\\n', '  Then how when nature calls thee to be gone,\\n', '  What acceptable audit canst thou leave?\\n', '    Thy unused beauty must be tombed with thee,\\n', \"    Which used lives th' executor to be.\\n\", '\\n', '\\n', '                     5\\n', '  Those hours that with gentle work did frame\\n', '  The lovely gaze where every eye doth dwell\\n', '  Will play the tyrants to the very same,\\n', '  And that unfair which fairly doth excel:\\n', '  For never-resting time leads summer on\\n', '  To hideous winter and confounds him there,\\n', '  Sap checked with frost and lusty leaves quite gone,\\n', \"  Beauty o'er-snowed and bareness every where:\\n\", \"  Then were not summer's distillation left\\n\", '  A liquid prisoner pent in walls of glass,\\n', \"  Beauty's effect with beauty were bereft,\\n\", '  Nor it nor no remembrance what it was.\\n', '    But flowers distilled though they with winter meet,\\n', '    Leese but their show, their substance still lives sweet.\\n', '\\n', '\\n', '                     6\\n', \"  Then let not winter's ragged hand deface,\\n\", '  In thee thy summer ere thou be distilled:\\n', '  Make sweet some vial; treasure thou some place,\\n', \"  With beauty's treasure ere it be self-killed:\\n\", '  That use is not forbidden usury,\\n', '  Which happies those that pay the willing loan;\\n', \"  That's for thy self to breed another thee,\\n\", '  Or ten times happier be it ten for one,\\n', '  Ten times thy self were happier than thou art,\\n', '  If ten of thine ten times refigured thee:\\n', '  Then what could death do if thou shouldst depart,\\n', '  Leaving thee living in posterity?\\n', '    Be not self-willed for thou art much too fair,\\n', \"    To be death's conquest and make worms thine heir.\\n\", '\\n', '\\n', '                     7\\n', '  Lo in the orient when the gracious light\\n', '  Lifts up his burning head, each under eye\\n', '  Doth homage to his new-appearing sight,\\n', '  Serving with looks his sacred majesty,\\n', '  And having climbed the steep-up heavenly hill,\\n', '  Resembling strong youth in his middle age,\\n', '  Yet mortal looks adore his beauty still,\\n', '  Attending on his golden pilgrimage:\\n', '  But when from highmost pitch with weary car,\\n', '  Like feeble age he reeleth from the day,\\n', '  The eyes (fore duteous) now converted are\\n', '  From his low tract and look another way:\\n', '    So thou, thy self out-going in thy noon:\\n', '    Unlooked on diest unless thou get a son.\\n', '\\n', '\\n', '                     8\\n', \"  Music to hear, why hear'st thou music sadly?\\n\", '  Sweets with sweets war not, joy delights in joy:\\n', \"  Why lov'st thou that which thou receiv'st not gladly,\\n\", \"  Or else receiv'st with pleasure thine annoy?\\n\", '  If the true concord of well-tuned sounds,\\n', '  By unions married do offend thine ear,\\n', '  They do but sweetly chide thee, who confounds\\n', '  In singleness the parts that thou shouldst bear:\\n', '  Mark how one string sweet husband to another,\\n', '  Strikes each in each by mutual ordering;\\n', '  Resembling sire, and child, and happy mother,\\n', '  Who all in one, one pleasing note do sing:\\n', '    Whose speechless song being many, seeming one,\\n', \"    Sings this to thee, 'Thou single wilt prove none'.\\n\", '\\n', '\\n', '                     9\\n', \"  Is it for fear to wet a widow's eye,\\n\", \"  That thou consum'st thy self in single life?\\n\", '  Ah, if thou issueless shalt hap to die,\\n', '  The world will wail thee like a makeless wife,\\n', '  The world will be thy widow and still weep,\\n', '  That thou no form of thee hast left behind,\\n', '  When every private widow well may keep,\\n', \"  By children's eyes, her husband's shape in mind:\\n\", '  Look what an unthrift in the world doth spend\\n', '  Shifts but his place, for still the world enjoys it;\\n', \"  But beauty's waste hath in the world an end,\\n\", '  And kept unused the user so destroys it:\\n', '    No love toward others in that bosom sits\\n', \"    That on himself such murd'rous shame commits.\\n\", '\\n', '\\n', '                     10\\n', \"  For shame deny that thou bear'st love to any\\n\", '  Who for thy self art so unprovident.\\n', '  Grant if thou wilt, thou art beloved of many,\\n', \"  But that thou none lov'st is most evident:\\n\", \"  For thou art so possessed with murd'rous hate,\\n\", \"  That 'gainst thy self thou stick'st not to conspire,\\n\", '  Seeking that beauteous roof to ruinate\\n', '  Which to repair should be thy chief desire:\\n', '  O change thy thought, that I may change my mind,\\n', '  Shall hate be fairer lodged than gentle love?\\n', '  Be as thy presence is gracious and kind,\\n', '  Or to thy self at least kind-hearted prove,\\n', '    Make thee another self for love of me,\\n', '    That beauty still may live in thine or thee.\\n']\n"
     ]
    }
   ],
   "source": [
    "def display_contents_file2(file_name):\n",
    "    fp = open( file_name , \"r\")\n",
    "    buffer = fp.readlines()\n",
    "    print(buffer)\n",
    "   # for line in buffer:\n",
    "    #    print (line)\n",
    "    #fp.close()\n",
    "    \n",
    "display_contents_file2(\"Shakespeare.txt\")"
   ]
  },
  {
   "cell_type": "code",
   "execution_count": 6,
   "metadata": {},
   "outputs": [
    {
     "name": "stdout",
     "output_type": "stream",
     "text": [
      "1609\n",
      "\n",
      "\n",
      "\n",
      "THE SONNETS\n",
      "\n",
      "\n",
      "\n",
      "by William Shakespeare\n",
      "\n",
      "\n",
      "\n",
      "\n",
      "\n",
      "\n",
      "\n",
      "                     1\n",
      "\n",
      "  From fairest creatures we desire increase,\n",
      "\n",
      "  That thereby beauty's rose might never die,\n",
      "\n",
      "  But as the riper should by time decease,\n",
      "\n",
      "  His tender heir might bear his memory:\n",
      "\n",
      "  But thou contracted to thine own bright eyes,\n",
      "\n",
      "  Feed'st thy light's flame with self-substantial fuel,\n",
      "\n",
      "  Making a famine where abundance lies,\n",
      "\n",
      "  Thy self thy foe, to thy sweet self too cruel:\n",
      "\n",
      "  Thou that art now the world's fresh ornament,\n",
      "\n",
      "  And only herald to the gaudy spring,\n",
      "\n",
      "  Within thine own bud buriest thy content,\n",
      "\n",
      "  And tender churl mak'st waste in niggarding:\n",
      "\n",
      "    Pity the world, or else this glutton be,\n",
      "\n",
      "    To eat the world's due, by the grave and thee.\n",
      "\n",
      "\n",
      "\n",
      "\n",
      "\n",
      "                     2\n",
      "\n",
      "  When forty winters shall besiege thy brow,\n",
      "\n",
      "  And dig deep trenches in thy beauty's field,\n",
      "\n",
      "  Thy youth's proud livery so gazed on now,\n",
      "\n",
      "  Will be a tattered weed of small worth held:\n",
      "\n",
      "  Then being asked, where all thy beauty lies,\n",
      "\n",
      "  Where all the treasure of thy lusty days;\n",
      "\n",
      "  To say within thine own deep sunken eyes,\n",
      "\n",
      "  Were an all-eating shame, and thriftless praise.\n",
      "\n",
      "  How much more praise deserved thy beauty's use,\n",
      "\n",
      "  If thou couldst answer 'This fair child of mine\n",
      "\n",
      "  Shall sum my count, and make my old excuse'\n",
      "\n",
      "  Proving his beauty by succession thine.\n",
      "\n",
      "    This were to be new made when thou art old,\n",
      "\n",
      "    And see thy blood warm when thou feel'st it cold.\n",
      "\n",
      "\n",
      "\n",
      "\n",
      "\n",
      "                     3\n",
      "\n",
      "  Look in thy glass and tell the face thou viewest,\n",
      "\n",
      "  Now is the time that face should form another,\n",
      "\n",
      "  Whose fresh repair if now thou not renewest,\n",
      "\n",
      "  Thou dost beguile the world, unbless some mother.\n",
      "\n",
      "  For where is she so fair whose uneared womb\n",
      "\n",
      "  Disdains the tillage of thy husbandry?\n",
      "\n",
      "  Or who is he so fond will be the tomb,\n",
      "\n",
      "  Of his self-love to stop posterity?\n",
      "\n",
      "  Thou art thy mother's glass and she in thee\n",
      "\n",
      "  Calls back the lovely April of her prime,\n",
      "\n",
      "  So thou through windows of thine age shalt see,\n",
      "\n",
      "  Despite of wrinkles this thy golden time.\n",
      "\n",
      "    But if thou live remembered not to be,\n",
      "\n",
      "    Die single and thine image dies with thee.\n",
      "\n",
      "\n",
      "\n",
      "\n",
      "\n",
      "                     4\n",
      "\n",
      "  Unthrifty loveliness why dost thou spend,\n",
      "\n",
      "  Upon thy self thy beauty's legacy?\n",
      "\n",
      "  Nature's bequest gives nothing but doth lend,\n",
      "\n",
      "  And being frank she lends to those are free:\n",
      "\n",
      "  Then beauteous niggard why dost thou abuse,\n",
      "\n",
      "  The bounteous largess given thee to give?\n",
      "\n",
      "  Profitless usurer why dost thou use\n",
      "\n",
      "  So great a sum of sums yet canst not live?\n",
      "\n",
      "  For having traffic with thy self alone,\n",
      "\n",
      "  Thou of thy self thy sweet self dost deceive,\n",
      "\n",
      "  Then how when nature calls thee to be gone,\n",
      "\n",
      "  What acceptable audit canst thou leave?\n",
      "\n",
      "    Thy unused beauty must be tombed with thee,\n",
      "\n",
      "    Which used lives th' executor to be.\n",
      "\n",
      "\n",
      "\n",
      "\n",
      "\n",
      "                     5\n",
      "\n",
      "  Those hours that with gentle work did frame\n",
      "\n",
      "  The lovely gaze where every eye doth dwell\n",
      "\n",
      "  Will play the tyrants to the very same,\n",
      "\n",
      "  And that unfair which fairly doth excel:\n",
      "\n",
      "  For never-resting time leads summer on\n",
      "\n",
      "  To hideous winter and confounds him there,\n",
      "\n",
      "  Sap checked with frost and lusty leaves quite gone,\n",
      "\n",
      "  Beauty o'er-snowed and bareness every where:\n",
      "\n",
      "  Then were not summer's distillation left\n",
      "\n",
      "  A liquid prisoner pent in walls of glass,\n",
      "\n",
      "  Beauty's effect with beauty were bereft,\n",
      "\n",
      "  Nor it nor no remembrance what it was.\n",
      "\n",
      "    But flowers distilled though they with winter meet,\n",
      "\n",
      "    Leese but their show, their substance still lives sweet.\n",
      "\n",
      "\n",
      "\n",
      "\n",
      "\n",
      "                     6\n",
      "\n",
      "  Then let not winter's ragged hand deface,\n",
      "\n",
      "  In thee thy summer ere thou be distilled:\n",
      "\n",
      "  Make sweet some vial; treasure thou some place,\n",
      "\n",
      "  With beauty's treasure ere it be self-killed:\n",
      "\n",
      "  That use is not forbidden usury,\n",
      "\n",
      "  Which happies those that pay the willing loan;\n",
      "\n",
      "  That's for thy self to breed another thee,\n",
      "\n",
      "  Or ten times happier be it ten for one,\n",
      "\n",
      "  Ten times thy self were happier than thou art,\n",
      "\n",
      "  If ten of thine ten times refigured thee:\n",
      "\n",
      "  Then what could death do if thou shouldst depart,\n",
      "\n",
      "  Leaving thee living in posterity?\n",
      "\n",
      "    Be not self-willed for thou art much too fair,\n",
      "\n",
      "    To be death's conquest and make worms thine heir.\n",
      "\n",
      "\n",
      "\n",
      "\n",
      "\n",
      "                     7\n",
      "\n",
      "  Lo in the orient when the gracious light\n",
      "\n",
      "  Lifts up his burning head, each under eye\n",
      "\n",
      "  Doth homage to his new-appearing sight,\n",
      "\n",
      "  Serving with looks his sacred majesty,\n",
      "\n",
      "  And having climbed the steep-up heavenly hill,\n",
      "\n",
      "  Resembling strong youth in his middle age,\n",
      "\n",
      "  Yet mortal looks adore his beauty still,\n",
      "\n",
      "  Attending on his golden pilgrimage:\n",
      "\n",
      "  But when from highmost pitch with weary car,\n",
      "\n",
      "  Like feeble age he reeleth from the day,\n",
      "\n",
      "  The eyes (fore duteous) now converted are\n",
      "\n",
      "  From his low tract and look another way:\n",
      "\n",
      "    So thou, thy self out-going in thy noon:\n",
      "\n",
      "    Unlooked on diest unless thou get a son.\n",
      "\n",
      "\n",
      "\n",
      "\n",
      "\n",
      "                     8\n",
      "\n",
      "  Music to hear, why hear'st thou music sadly?\n",
      "\n",
      "  Sweets with sweets war not, joy delights in joy:\n",
      "\n",
      "  Why lov'st thou that which thou receiv'st not gladly,\n",
      "\n",
      "  Or else receiv'st with pleasure thine annoy?\n",
      "\n",
      "  If the true concord of well-tuned sounds,\n",
      "\n",
      "  By unions married do offend thine ear,\n",
      "\n",
      "  They do but sweetly chide thee, who confounds\n",
      "\n",
      "  In singleness the parts that thou shouldst bear:\n",
      "\n",
      "  Mark how one string sweet husband to another,\n",
      "\n",
      "  Strikes each in each by mutual ordering;\n",
      "\n",
      "  Resembling sire, and child, and happy mother,\n",
      "\n",
      "  Who all in one, one pleasing note do sing:\n",
      "\n",
      "    Whose speechless song being many, seeming one,\n",
      "\n",
      "    Sings this to thee, 'Thou single wilt prove none'.\n",
      "\n",
      "\n",
      "\n",
      "\n",
      "\n",
      "                     9\n",
      "\n",
      "  Is it for fear to wet a widow's eye,\n",
      "\n",
      "  That thou consum'st thy self in single life?\n",
      "\n",
      "  Ah, if thou issueless shalt hap to die,\n",
      "\n",
      "  The world will wail thee like a makeless wife,\n",
      "\n",
      "  The world will be thy widow and still weep,\n",
      "\n",
      "  That thou no form of thee hast left behind,\n",
      "\n",
      "  When every private widow well may keep,\n",
      "\n",
      "  By children's eyes, her husband's shape in mind:\n",
      "\n",
      "  Look what an unthrift in the world doth spend\n",
      "\n",
      "  Shifts but his place, for still the world enjoys it;\n",
      "\n",
      "  But beauty's waste hath in the world an end,\n",
      "\n",
      "  And kept unused the user so destroys it:\n",
      "\n",
      "    No love toward others in that bosom sits\n",
      "\n",
      "    That on himself such murd'rous shame commits.\n",
      "\n",
      "\n",
      "\n",
      "\n",
      "\n",
      "                     10\n",
      "\n",
      "  For shame deny that thou bear'st love to any\n",
      "\n",
      "  Who for thy self art so unprovident.\n",
      "\n",
      "  Grant if thou wilt, thou art beloved of many,\n",
      "\n",
      "  But that thou none lov'st is most evident:\n",
      "\n",
      "  For thou art so possessed with murd'rous hate,\n",
      "\n",
      "  That 'gainst thy self thou stick'st not to conspire,\n",
      "\n",
      "  Seeking that beauteous roof to ruinate\n",
      "\n",
      "  Which to repair should be thy chief desire:\n",
      "\n",
      "  O change thy thought, that I may change my mind,\n",
      "\n",
      "  Shall hate be fairer lodged than gentle love?\n",
      "\n",
      "  Be as thy presence is gracious and kind,\n",
      "\n",
      "  Or to thy self at least kind-hearted prove,\n",
      "\n",
      "    Make thee another self for love of me,\n",
      "\n",
      "    That beauty still may live in thine or thee.\n",
      "\n"
     ]
    }
   ],
   "source": [
    "def display_contents_file2(file_name):\n",
    "    fp = open( file_name )\n",
    "    while True:\n",
    "        buffer = fp.readline()             \n",
    "        if buffer == \"\":\n",
    "            break     \n",
    "        print( buffer )\n",
    "    fp.close()\n",
    "display_contents_file2(\"Shakespeare.txt\")"
   ]
  },
  {
   "cell_type": "code",
   "execution_count": 7,
   "metadata": {},
   "outputs": [
    {
     "name": "stdout",
     "output_type": "stream",
     "text": [
      "1609\n",
      "\n"
     ]
    }
   ],
   "source": [
    "fp = open(\"Shakespeare.txt\", \"r\")                                       \n",
    "list_ = fp.readline()\n",
    "print (list_)\n",
    "#for line in line:\n",
    " #   print(line)\n",
    "\n",
    "#print(fp.readline())\n",
    "fp.close ()"
   ]
  },
  {
   "cell_type": "markdown",
   "metadata": {},
   "source": [
    "Notice that the output of the code above has an empty line between each of the lines displayed. Where is that extra line coming from? Think about it.\n",
    "\n",
    "The extra line is there because the `readline()` method returns a string of the characters read, up to and *including* the newline character. So when the `buffer` is printed, it prints a newline character too. And since the `print()` function *also* moves to a new line after it is executed, there is an empty line printed after each line of text."
   ]
  },
  {
   "cell_type": "markdown",
   "metadata": {},
   "source": [
    "A collary to the `readline()` method is the `readlines()` method. `readlines()` reads all the lines in the file, and returns them as a list of strings. The strings include the newline characters."
   ]
  },
  {
   "cell_type": "markdown",
   "metadata": {},
   "source": [
    "### When to use which file-reading method"
   ]
  },
  {
   "cell_type": "markdown",
   "metadata": {},
   "source": [
    "Both the `read()` and `readlines()` method read a whole file at once. Obviously, for small files this is acceptable, but for long files you might not have enough memory to store the file contents efficiently. In such circumstances (or when you do not know the file size), you should read a file line by line with the `readline()` method.\n",
    "\n",
    "It is often a good idea, during code development, to process only the first few lines of a file. That way you limit the amount of time that the program needs to process a file, and limit its output, which makes debugging easier. For instance, the code below process the first 10 lines of one of the longer files."
   ]
  },
  {
   "cell_type": "code",
   "execution_count": 10,
   "metadata": {},
   "outputs": [
    {
     "name": "stdout",
     "output_type": "stream",
     "text": [
      "1609\n",
      "\n",
      "THE SONNETS\n",
      "\n",
      "by William Shakespeare\n",
      "\n",
      "\n",
      "\n",
      "                     1\n",
      "  From fairest creatures we desire increase,\n"
     ]
    }
   ],
   "source": [
    "def display_contents_file4(file_name):\n",
    "    fp = open(file_name)\n",
    "    count = 0\n",
    "    while count < 10:\n",
    "        buffer = fp.readline()\n",
    "        if buffer == \"\":\n",
    "            break\n",
    "        print( buffer, end=\"\" )\n",
    "        count += 1\n",
    "    fp.close()\n",
    "    \n",
    "display_contents_file4( \"Shakespeare.txt\")"
   ]
  },
  {
   "cell_type": "markdown",
   "metadata": {},
   "source": [
    "Once the program is finished and debugged, I can remove the references to `count` and change the loop to `while True`, to process the whole file.\n",
    "\n",
    "**Exercise**: Start by copying the code above in the code block below. Then adapt it to count how often the word \"from\" (with any capitalization) occurs in the text as a whole. Print only the number of occurrences of that word. If you do it correctly, you find the answer is 14 (it occurs 3 times in the first 20 lines)."
   ]
  },
  {
   "cell_type": "code",
   "execution_count": 11,
   "metadata": {},
   "outputs": [
    {
     "name": "stdout",
     "output_type": "stream",
     "text": [
      "2\n"
     ]
    }
   ],
   "source": [
    "def display_contents_file4(file_name):\n",
    "    #Your Code Here\n",
    "    \n",
    "display_contents_file4( \"Shakespeare.txt\")"
   ]
  },
  {
   "cell_type": "markdown",
   "metadata": {},
   "source": []
  },
  {
   "cell_type": "markdown",
   "metadata": {},
   "source": [
    "## `os.path` methods"
   ]
  },
  {
   "cell_type": "markdown",
   "metadata": {},
   "source": [
    "At this point you know everything you need to handle text files in Python. However, there are several handy functions that make your life easier when dealing with files. These are collected in the `os.path` module. As per usual, I am not going to list all of them, but I will list the ones that you will use the most.\n",
    "\n",
    "In these functions, the term \"path\" refers to a filename or a directory name, complete with parent directories (and drive letter). The parent directories (and drive letter) do not *need* to be there explicitly, but even if they are not, implicitly they still are as each file and each directory is located in a particular place in the file system."
   ]
  },
  {
   "cell_type": "markdown",
   "metadata": {},
   "source": [
    "### `exists()`"
   ]
  },
  {
   "cell_type": "markdown",
   "metadata": {},
   "source": [
    "The function `exists()` gets a path as argument, and returns `True` if that path exists, and `False` if it does not."
   ]
  },
  {
   "cell_type": "code",
   "execution_count": 21,
   "metadata": {},
   "outputs": [
    {
     "name": "stdout",
     "output_type": "stream",
     "text": [
      "Shakespeare.txt exists\n",
      "TorresMapfre.txt does not exist\n"
     ]
    },
    {
     "data": {
      "text/plain": [
       "True"
      ]
     },
     "execution_count": 21,
     "metadata": {},
     "output_type": "execute_result"
    }
   ],
   "source": [
    "from os.path import exists\n",
    "\n",
    "def check_if_path_exists(file_name):\n",
    "    if exists(file_name ):\n",
    "        return( file_name + \" exists\" )\n",
    "    else:\n",
    "        return( file_name + \" does not exist\" )\n",
    "\n",
    "print(check_if_path_exists(\"Shakespeare.txt\"))\n",
    "print(check_if_path_exists(\"TorresMapfre.txt\"))\n",
    "\n",
    "exists(\"Shakespeare.txt\")"
   ]
  },
  {
   "cell_type": "markdown",
   "metadata": {},
   "source": [
    "### `isfile()`"
   ]
  },
  {
   "cell_type": "markdown",
   "metadata": {},
   "source": [
    "`isfile()` tests if the path that is supplied as argument is a file. If it is, it returns `True`. If it is not, it returns `False`. If the path does not exist, the function also returns `False`."
   ]
  },
  {
   "cell_type": "code",
   "execution_count": 22,
   "metadata": {},
   "outputs": [
    {
     "name": "stdout",
     "output_type": "stream",
     "text": [
      "Shakespeare.txt is a file\n"
     ]
    }
   ],
   "source": [
    "from os.path import isfile\n",
    "\n",
    "def check_if_file_exists(file_name):\n",
    "    if isfile( file_name ):\n",
    "        return( file_name + \" is a file\" )\n",
    "    else:\n",
    "        return( file_name + \" is not a file\" )\n",
    "    \n",
    "print(check_if_file_exists(\"Shakespeare.txt\"))"
   ]
  },
  {
   "cell_type": "markdown",
   "metadata": {},
   "source": [
    "### `isdir()`"
   ]
  },
  {
   "cell_type": "markdown",
   "metadata": {},
   "source": [
    "`isdir()` tests if the path that is supplied as argument is a directory. If it is, it returns `True`. If it is not, it returns `False`. If the path does not exist, the function also returns `False`."
   ]
  },
  {
   "cell_type": "code",
   "execution_count": 24,
   "metadata": {},
   "outputs": [
    {
     "name": "stdout",
     "output_type": "stream",
     "text": [
      "Shakespeare.txt is not a directory\n"
     ]
    }
   ],
   "source": [
    "from os.path import isdir\n",
    "\n",
    "def check_if_path_is_dir(file_name):\n",
    "    if isdir( file_name):\n",
    "        print( file_name + \" Sheakspeare is a directory\" )\n",
    "    else:\n",
    "        print(file_name + \" is not a directory\" )\n",
    "check_if_path_is_dir(\"Shakespeare.txt\")"
   ]
  },
  {
   "cell_type": "markdown",
   "metadata": {},
   "source": [
    "### `basename()`"
   ]
  },
  {
   "cell_type": "markdown",
   "metadata": {},
   "source": [
    "`basename()` extracts the filename from a path, and returns it. "
   ]
  },
  {
   "cell_type": "code",
   "execution_count": 27,
   "metadata": {},
   "outputs": [
    {
     "name": "stdout",
     "output_type": "stream",
     "text": [
      "readme.txt\n"
     ]
    }
   ],
   "source": [
    "from os.path import basename\n",
    "\n",
    "print( basename( \"/System/Home/readme.txt\" ) )"
   ]
  },
  {
   "cell_type": "markdown",
   "metadata": {},
   "source": [
    "### `dirname()`"
   ]
  },
  {
   "cell_type": "markdown",
   "metadata": {},
   "source": [
    "`dirname()` extracts the directory name from a path, and returns it."
   ]
  },
  {
   "cell_type": "code",
   "execution_count": 28,
   "metadata": {},
   "outputs": [
    {
     "name": "stdout",
     "output_type": "stream",
     "text": [
      "/System/Home\n"
     ]
    }
   ],
   "source": [
    "from os.path import dirname\n",
    "\n",
    "print( dirname( \"/System/Home/readme.txt\" ) )"
   ]
  },
  {
   "cell_type": "markdown",
   "metadata": {},
   "source": [
    "### `getsize()`"
   ]
  },
  {
   "cell_type": "markdown",
   "metadata": {},
   "source": [
    "`getsize()` gets the size of the file that is supplied as argument, and returns it as an integer. The file must exist, otherwise you get a runtime error."
   ]
  },
  {
   "cell_type": "code",
   "execution_count": 30,
   "metadata": {},
   "outputs": [
    {
     "name": "stdout",
     "output_type": "stream",
     "text": [
      "29\n"
     ]
    }
   ],
   "source": [
    "from os.path import getsize\n",
    "\n",
    "numbytes = getsize( \"Shakespeare.txt\" )\n",
    "print( numbytes )"
   ]
  },
  {
   "cell_type": "markdown",
   "metadata": {},
   "source": [
    "---"
   ]
  },
  {
   "cell_type": "markdown",
   "metadata": {},
   "source": [
    "## File encoding"
   ]
  },
  {
   "cell_type": "markdown",
   "metadata": {},
   "source": [
    "Text files use an \"encoding\", i.e., a system that prescribes how characters in the files are supposed to be interpreted. This encoding may differ between operating systems. You can see the preferred encoding that your system uses with a call to `sys.getfilesystemencoding()`."
   ]
  },
  {
   "cell_type": "code",
   "execution_count": 48,
   "metadata": {},
   "outputs": [
    {
     "name": "stdout",
     "output_type": "stream",
     "text": [
      "ascii\n"
     ]
    }
   ],
   "source": [
    "from sys import getfilesystemencoding\n",
    "\n",
    "print( getfilesystemencoding() )"
   ]
  },
  {
   "cell_type": "markdown",
   "metadata": {},
   "source": [
    "If you read a text file which uses a different encoding than your file system prefers, you may get a `UnicodeDecodeError`. Whether or not you get this error for a particular file, is related to your operating system. An annoying consequence of that is that when you port Python code that reads a file to another system, a file that could be read by your code previously may cause your code to crash after the port.\n",
    "\n",
    "An easy way to get around this problem is by adding an extra parameter when opening a file, which indicates the encoding mechanism that you want to use when reading the file. You do this by adding a parameter \"`encoding=<encodingname>`\", where `<encodingname>` is a string that can have a variety of values, for which some typical ones are:\n",
    "\n",
    "    ascii       7-bits encoding, supports characters with values in the range 00-7F\n",
    "    latin-1     8-bits encoding, supports characters with values in the range 00-FF\n",
    "    mbcs        2-byte encoding, that is currently getting replaced by UTF-8\n",
    "    utf-8       variable bytes encoding\n",
    "\n",
    "Typically, text files are created with `ascii` or `latin-1` encoding. Since `ascii` is incorporated in `latin-1`, you can safely open any text file by specifying `latin-1` as encoding. It is possible that for the characters beyond the `ascii` range, you get different characters than the person who created the file wanted you to see -- that depends on the encoding mechanism that your file system uses. But at least the `UnicodeDecodeError` is avoided.\n",
    "\n",
    "Note that while `utf-8` supports a much wider range of characters than `latin-1`, you may still get the `UnicodeDecodeError` when you read a text file that uses `latin-1` encoding on a system that uses `utf-8` encoding, as `utf-8` has no corresponding characters with values in the range 80-FF.\n"
   ]
  },
  {
   "cell_type": "markdown",
   "metadata": {},
   "source": [
    "**Exercise**: If you change the encoding mechanism for this file to `utf-8`, it will enforce the `UnicodeDecodeError` as it contains characters with numbers in the range 80-FF. Try this.\n",
    "\n",
    "If you want to see which special characters are supported with values in the range 80-FF on your system, run the code below. The numerical value of a character in the table can be derived by calculating `16*row+col`, whereby `row` and `col` are the hexadecimal row and column number, respectively. I do not display the characters in the range 80-9F, as these are normally not filled in."
   ]
  },
  {
   "cell_type": "code",
   "execution_count": 31,
   "metadata": {},
   "outputs": [
    {
     "name": "stdout",
     "output_type": "stream",
     "text": [
      " 0 1 2 3 4 5 6 7 8 9 A B C D E F\n",
      "A   ¡ ¢ £ ¤ ¥ ¦ § ¨ © ª « ¬ ­ ® ¯\n",
      "B ° ± ² ³ ´ µ ¶ · ¸ ¹ º » ¼ ½ ¾ ¿\n",
      "C À Á Â Ã Ä Å Æ Ç È É Ê Ë Ì Í Î Ï\n",
      "D Ð Ñ Ò Ó Ô Õ Ö × Ø Ù Ú Û Ü Ý Þ ß\n",
      "E à á â ã ä å æ ç è é ê ë ì í î ï\n",
      "F ð ñ ò ó ô õ ö ÷ ø ù ú û ü ý þ ÿ\n"
     ]
    }
   ],
   "source": [
    "#Your Code Here"
   ]
  },
  {
   "cell_type": "markdown",
   "metadata": {},
   "source": [
    "---"
   ]
  },
  {
   "cell_type": "markdown",
   "metadata": {},
   "source": [
    "## What you learned"
   ]
  },
  {
   "cell_type": "markdown",
   "metadata": {},
   "source": [
    "In this chapter, you learned about:\n",
    "\n",
    "- Text files\n",
    "- File pointers\n",
    "- Opening and closing files with `open()` and `close()`\n",
    "- Reading files with `read()`, `readline()`, and `readlines()`\n",
    "- Writing files with `write()` and `writelines()`\n",
    "- Appending to files\n",
    "- `os.path` methods `exists()`, `isfile()`, `isdir()`, `join()`, `basename()`, `dirname()`, and `getsize()`\n",
    "- Dealing with text files with different encoding mechanisms"
   ]
  },
  {
   "cell_type": "markdown",
   "metadata": {},
   "source": [
    "---"
   ]
  },
  {
   "cell_type": "markdown",
   "metadata": {},
   "source": [
    "## Exercises"
   ]
  },
  {
   "cell_type": "markdown",
   "metadata": {},
   "source": [
    "### Exercise 11.1"
   ]
  },
  {
   "cell_type": "markdown",
   "metadata": {},
   "source": [
    "Write a program that reads the contents of the file \"`blakepoems.txt`\", splits it into words (where everything that is not a letter is considered a word boundary), and case-insensitively builds a dictionary that stores for every word how often it occurs in the text. Then print all the words with their quantities in alphabetical order."
   ]
  },
  {
   "cell_type": "code",
   "execution_count": 49,
   "metadata": {
    "ExecuteTime": {
     "end_time": "2021-03-18T18:57:21.176412Z",
     "start_time": "2021-03-18T18:57:21.155007Z"
    }
   },
   "outputs": [
    {
     "ename": "FileNotFoundError",
     "evalue": "[Errno 2] No such file or directory: 'blakepoems.txt'",
     "output_type": "error",
     "traceback": [
      "\u001b[1;31m---------------------------------------------------------------------------\u001b[0m",
      "\u001b[1;31mFileNotFoundError\u001b[0m                         Traceback (most recent call last)",
      "\u001b[1;32m<ipython-input-49-4fd0d00cb92b>\u001b[0m in \u001b[0;36m<module>\u001b[1;34m\u001b[0m\n\u001b[0;32m      1\u001b[0m \u001b[1;31m# Counting words in blakepoems.txt.\u001b[0m\u001b[1;33m\u001b[0m\u001b[1;33m\u001b[0m\u001b[1;33m\u001b[0m\u001b[0m\n\u001b[1;32m----> 2\u001b[1;33m \u001b[0mfp\u001b[0m \u001b[1;33m=\u001b[0m \u001b[0mopen\u001b[0m\u001b[1;33m(\u001b[0m \u001b[1;34m\"blakepoems.txt\"\u001b[0m\u001b[1;33m)\u001b[0m\u001b[1;33m\u001b[0m\u001b[1;33m\u001b[0m\u001b[0m\n\u001b[0m",
      "\u001b[1;31mFileNotFoundError\u001b[0m: [Errno 2] No such file or directory: 'blakepoems.txt'"
     ]
    }
   ],
   "source": [
    "# Counting words in blakepoems.txt.\n",
    "\n",
    "import os\n",
    "\n",
    "parent_dir = os.getcwd()\n",
    "child_dir = os.path.join(parent_dir, \"text-files\")\n",
    "fname = os.path.join(child_dir, \"Shakespeare.txt\")\n",
    "\n",
    "with open(fname,'r') as K:\n",
    "    words = K.readlines()\n",
    "    words = (word.rstrip() for word in words)\n",
    "    \n",
    "    \n"
   ]
  },
  {
   "cell_type": "markdown",
   "metadata": {},
   "source": [
    "### Exercise 11.2"
   ]
  },
  {
   "cell_type": "markdown",
   "metadata": {},
   "source": [
    "Do the same thing as you did for the previous exercise, but now process the text line by line. This is something that you would have to do if you had to process a very long text (as it is the case)."
   ]
  },
  {
   "cell_type": "code",
   "execution_count": 2,
   "metadata": {
    "ExecuteTime": {
     "end_time": "2021-03-19T14:10:41.210928Z",
     "start_time": "2021-03-19T14:10:40.972567Z"
    }
   },
   "outputs": [
    {
     "name": "stdout",
     "output_type": "stream",
     "text": [
      "{'&': 17, '(grave': 1, '--': 9, '1780': 1, '1789': 1, 'a': 127, 'a-sleeping': 1, 'about': 1, 'abroad': 1, 'abstract': 1, 'ache': 1, 'admired': 1, 'adona': 1, 'afar': 1, 'affright': 1, 'after': 2, 'again': 1, 'again;': 2, 'against': 1, 'age': 2, 'aged': 1, 'agree': 1, 'ah': 7, 'air': 6, 'airy': 1, 'alas': 1, 'albions': 1, 'ale': 1, 'alehouse': 1, 'all': 39, 'allay': 1, 'alone': 1, 'altar': 1, 'always': 1, 'am': 15, 'am;': 1, 'ambush': 1, 'among': 8, 'an': 21, 'ancient': 3, 'and': 348, 'angel': 8, 'angel-guarded': 1, 'angels': 2, 'angry': 2, 'annoy': 1, 'another': 4, 'anothers': 4, 'answer': 2, 'answerd': 3, 'answered': 2, 'anvil': 1, 'anxious': 1, 'any': 3, 'appall': 1, 'appals': 1, 'apparel': 1, 'appear': 2, 'appeared': 1, 'appears': 1, 'appendix': 1, 'apple': 1, 'are': 25, 'arise': 7, 'arise;': 2, 'arm': 2, 'armed': 4, 'arms': 1, 'arose': 1, 'around': 5, 'arrow': 1, 'arrows': 1, 'art': 6, 'artful': 1, 'as': 16, 'ask': 2, 'asleep': 2, 'aspire': 2, 'astonishd': 1, 'at': 7, 'author': 1, 'away': 22, 'away;': 2, 'awoke': 1, 'babe': 2, 'babes': 2, 'back': 3, 'bags': 2, 'baits': 1, 'balmy': 1, 'ban': 1, 'band': 1, 'bands': 1, 'bandy': 1, 'bane': 1, 'bank': 1, 'bar': 1, 'bard': 2, 'bare': 2, 'barrel': 1, 'be': 24, 'be;': 1, 'beadles': 1, 'beams': 3, 'bear': 5, 'bearing': 1, 'bears': 1, 'beast': 1, 'beasts': 2, 'beat': 1, 'beauty': 5, 'became': 2, 'because': 5, 'become': 1, 'becomes': 2, 'bed': 8, 'been': 2, 'beetle': 1, 'beetles': 1, 'befall': 2, 'before': 6, 'before;': 1, 'began': 3, 'beguile': 2, 'beguiled': 2, 'beguiles': 1, 'beheld': 1, 'behind': 1, 'behold': 1, 'bells': 2, 'beneath': 2, 'benighted': 1, 'bereaved': 1, 'beside': 4, 'besides': 2, 'best': 1, 'betray': 1, 'bid': 1, 'bind': 2, 'binding': 1, 'binds': 1, 'birch': 1, 'bird': 2, 'birds': 13, 'birth': 1, 'black': 8, 'blackening': 1, 'bladder': 1, 'blade': 1, 'blake': 3, 'blakes': 1, 'blasts': 2, 'bleak': 1, 'bleating': 1, 'bless': 3, 'blessing': 2, 'blights': 1, 'blind': 1, 'blood': 1, 'blossom': 4, 'blossoms': 3, 'blown': 3, 'blue': 1, 'blushed': 1, 'bodies': 1, 'bondage': 1, 'bones': 2, 'book': 6, 'bore': 6, 'bore;': 1, 'born': 3, 'bosom': 4, 'both': 6, 'bound': 3, 'bow': 1, 'bowd': 2, 'bowed': 1, 'bower': 2, 'bowl': 1, 'boy': 11, 'boys': 2, 'brain': 2, 'break': 2, 'breast': 5, 'breath': 2, 'breathed': 1, 'breathing': 1, 'briars': 1, 'bright': 12, 'bright;': 3, 'brings': 1, 'brook': 1, 'brooks': 1, 'brothers': 2, 'brought': 1, 'brows': 1, 'bruisd': 1, 'brush': 1, 'brushed': 1, 'brushes': 1, 'bud': 1, 'buds': 2, 'builds': 2, 'built': 1, 'burned': 2, 'burning': 3, 'burnt': 1, 'bush': 1, 'but': 38, 'butterfly': 1, 'by': 23, 'by;': 1, 'cage': 1, 'call': 4, 'calld': 1, 'called': 2, 'calling': 1, 'calls': 2, 'came': 8, 'came;': 1, 'can': 27, 'cannot': 6, 'canst': 4, 'care': 10, 'care;': 1, 'cares': 1, 'caterpillar': 1, 'cattles': 1, 'caverns': 1, 'caves': 2, 'ceasd': 1, 'ceasing': 1, 'chain': 3, 'chained': 1, 'changed': 1, 'chapel': 2, 'charge': 2, 'chartered': 2, 'chase': 1, 'chaste': 1, 'cheer': 2, 'cheerful': 1, 'cherish': 2, 'cherishd': 1, 'cherries': 1, 'child': 17, 'child;': 1, 'children': 12, 'chimney': 1, 'chimney-sweeper': 1, 'chimney-sweepers': 1, 'chimneys': 1, 'chorus': 1, 'church': 6, 'clasp': 1, 'clay': 4, 'clean': 1, 'clear': 1, 'clime': 3, 'clod': 3, 'close': 2, 'closed': 1, 'clothed': 2, 'clothes': 1, 'clothing': 2, 'cloud': 15, 'clouds': 3, 'coat': 1, 'cock': 1, 'coffins': 2, 'coined': 1, 'cold': 6, 'cold;': 1, 'come': 11, 'comfort': 1, 'companies': 1, 'company': 1, 'compelled': 1, 'complain': 2, 'complaind': 1, 'complainest': 1, 'consumed': 1, 'contagious': 1, 'control': 1, 'conveyed': 1, 'couches': 1, 'couching': 1, 'could': 6, 'countest': 1, 'court': 1, 'covered': 3, 'cow': 1, 'cradle': 2, 'crave': 1, 'creation': 1, 'creations': 1, 'cried': 1, 'cries': 1, 'crime': 1, 'crimson': 1, 'crops': 1, 'crow': 1, 'crown': 3, 'cruel': 2, 'cruelty': 3, 'crumbs': 1, 'cry': 7, 'crying': 1, 'curb': 1, 'curled': 1, 'curse': 1, 'curtain': 1, 'curtains': 1, 'dacre': 1, 'dale': 3, 'dame': 1, 'dance': 2, 'dangerous': 1, 'dank': 1, 'dare': 4, 'dark': 7, 'darkening': 1, 'darkness': 2, 'daughter': 1, 'daughters': 1, 'day': 19, 'days': 4, 'dead': 1, 'dead;': 1, 'deadly': 1, 'dear': 2, 'dear;': 1, 'death': 5, 'death;': 1, 'deceit': 1, 'deceitful': 1, 'deep': 8, 'deep)': 1, 'deeps': 1, 'delight': 14, 'delights': 1, 'dell': 1, 'den': 1, 'descend': 2, 'descended': 1, 'descending': 2, 'desert': 5, 'deserts': 1, 'desire': 2, 'desires': 1, 'despair': 2, 'despite': 1, 'destroy': 3, 'destruction': 1, 'devil': 1, 'dew': 2, 'dew;': 2, 'dews': 2, 'dewy': 3, 'dick': 1, 'did': 12, 'didst': 3, 'die': 1, 'died': 1, 'died;': 1, 'dimpling': 1, 'disguise': 1, 'dismal': 2, 'dismay': 2, 'disputes': 1, 'distant': 2, 'distress': 2, 'divine': 5, 'divine;': 1, 'do': 9, 'does': 18, 'dolors': 1, 'dome': 1, 'done': 2, 'done;': 1, 'door': 2, 'door;': 1, 'dost': 5, 'doth': 7, 'doubt': 1, 'dovelike': 2, 'doves': 1, 'down': 20, 'draw': 1, 'drawn': 1, 'dread': 5, 'dreadful': 1, 'dream': 4, 'dreams': 3, 'dreamt': 1, 'drear': 1, 'dreary': 1, 'dress': 4, 'dried': 1, 'drink': 4, 'drive': 2, 'driven': 2, 'drives': 1, 'droop': 1, 'drooping': 1, 'drop': 1, 'dropped': 1, 'duty': 1, 'dwell': 3, 'dwelling': 1, 'each': 5, 'eagle': 1, 'ear': 2, 'ears': 2, 'earth': 9, 'earths': 1, 'ease': 2, 'east': 1, 'eat': 1, 'echoed': 1, 'echoing': 3, 'else': 2, 'emergd': 1, 'emily': 1, 'emmet': 1, 'end': 2, 'endless': 1, 'english': 2, 'engraved': 1, 'enter': 3, 'enterd': 1, 'eternal': 4, 'evening': 5, 'ever': 4, 'every': 17, 'everything': 1, 'evil': 1, 'ewes': 1, 'exhald': 1, 'experience': 3, 'eye': 5, 'eyed': 1, 'eyelids': 1, 'eyes': 9, 'face': 9, 'face;': 3, 'faces': 1, 'fade': 5, 'fades': 3, 'faint': 1, 'fair': 1, 'fall': 2, 'fallen': 3, 'falling': 1, 'falls': 1, 'false': 1, 'famished': 1, 'fancied': 1, 'farewell': 1, 'fast': 1, 'fasting': 1, 'father': 20, 'fathers': 2, 'fear': 11, 'fearest': 1, 'fearful': 2, 'fears': 5, 'fed': 2, 'feed': 4, 'feel': 3, 'feet': 5, 'fen': 1, 'fibrous': 1, 'fields': 2, 'fiend': 2, 'fierce': 1, 'fiery': 1, 'fighting': 1, 'filled': 6, 'find': 4, 'fire': 3, 'fire-breathing': 1, 'fixd': 1, 'flame': 1, 'fled': 5, 'fled;': 1, 'flesh': 1, 'flew': 2, 'flies': 1, 'flocks': 2, 'floor': 1, 'flourish': 1, 'flow': 3, 'flowed': 1, 'flower': 5, 'flowers': 9, 'flute': 1, 'fly': 7, 'foe': 3, 'fold': 2, 'folk': 1, 'follow': 3, 'followed': 1, 'folly': 1, 'fondness': 1, 'food': 4, 'foot': 2, 'for': 32, 'forest': 1, 'forests': 1, 'forge': 1, 'forged': 1, 'forget': 1, 'forgot': 1, 'forlorn': 1, 'form': 8, 'former': 1, 'forth': 2, 'found': 3, 'fountains': 1, 'frame': 2, 'free': 5, 'free;': 1, 'freeze': 1, 'fresh': 1, 'friend': 1, 'from': 32, 'frowning': 2, 'fruit': 1, 'fruitful': 1, 'fruits': 2, 'full': 1, 'furnace': 2, 'further': 1, 'future': 2, 'futurity': 1, 'gambolled': 1, 'garden': 7, 'garments': 1, 'gates': 2, 'gather': 1, 'gave': 3, 'generation': 1, 'gentle': 5, 'gently': 1, 'gifts': 1, 'gilded': 1, 'girl': 4, 'girls': 2, 'give': 3, 'given': 3, 'gives': 4, 'giving': 1, 'glad': 1, 'glass': 1, 'glee': 1, 'glistening': 1, 'glittering': 1, 'glitters': 1, 'glow-worm': 1, 'go': 8, 'god': 11, 'gods': 1, 'goes': 1, 'going': 1, 'gold': 6, 'golden': 8, 'gone': 6, 'good': 1, 'gorge': 1, 'got': 1, 'gowns': 1, 'graces': 1, 'grasp': 1, 'grass': 7, 'grasshopper': 1, 'grave': 2, 'graves': 2, 'graze': 1, 'great': 2, 'greater': 1, 'green': 16, 'grew': 1, 'grey': 2, 'grey-headed': 1, 'grief': 4, 'griefs': 1, 'groan': 1, 'groaned': 1, 'ground': 5, 'grove': 3, 'grow': 2, 'growl': 1, 'grows': 1, 'guard': 1, 'guarded': 1, 'guardians': 1, 'ha': 4, 'had': 7, 'hair': 6, 'hairs': 1, 'hallowed': 1, 'hammer': 1, 'hand': 9, 'hands': 3, 'hapless': 1, 'happy': 19, 'har': 4, 'harlots': 1, 'harm': 2, 'harmonious': 1, 'has': 5, 'hath': 1, 'have': 17, 'he': 54, 'head': 13, 'heads': 1, 'health': 1, 'healthy': 1, 'hear': 16, 'heard': 11, 'heard;': 1, 'hearing': 1, 'hears': 4, 'heart': 9, 'heart-broke': 1, 'hearts': 1, 'heat': 5, 'heath': 2, 'heathen': 1, 'heaven': 7, 'heavenly': 1, 'heavens': 3, 'heavy': 2, 'hed': 2, 'heedful': 1, 'hell': 1, 'hells': 1, 'helpless': 4, 'her': 34, 'here': 2, 'hid': 2, 'hide': 1, 'hie': 1, 'high': 3, 'hill': 2, 'hills': 2, 'him': 11, 'himself': 1, 'his': 57, 'hither': 1, 'hoar;': 1, 'hoarse': 1, 'hoary': 1, 'hollow': 3, 'holy': 13, 'home': 4, 'honey': 1, 'honey;': 1, 'horn': 2, 'horses': 1, 'hour': 1, 'hour;': 1, 'house': 1, 'hover': 3, 'hovering': 1, 'how': 14, 'howl': 2, 'howling': 1, 'hum': 1, 'hum;': 1, 'human': 16, 'humble': 4, 'humid': 1, 'humility': 1, 'hunger': 1, 'hungry': 1, 'huntsman': 1, 'hush': 1, 'i': 125, 'if': 17, 'ii': 1, 'iii': 1, 'ill': 4, 'image': 8, 'immortal': 3, 'impressd': 1, 'in': 141, 'included': 1, 'increase': 1, 'indeed': 1, 'indignant': 1, 'infant': 12, 'infants': 7, 'infixes': 1, 'inhaling': 1, 'inherit': 1, 'injury': 1, 'innocence': 3, 'innocent': 4, 'into': 5, 'introduction': 2, 'invisible': 1, 'iron': 2, 'is': 52, 'it': 27, 'it;': 1, 'its': 15, 'itself': 7, 'iv': 1, 'ive': 1, 'jack': 1, 'jealous': 1, 'jealousy': 3, 'jesus': 1, 'jew': 1, 'joe': 1, 'john': 1, 'join': 1, 'journey': 1, 'joy': 24, 'joy;': 1, 'joys': 3, 'judge': 1, 'just': 1, 'keep': 3, 'key': 1, 'kind': 1, 'kindled': 1, 'king': 1, 'kingly': 1, 'kiss': 2, 'kissed': 3, 'kisses': 2, 'knee;': 1, 'kneels': 1, 'knew': 4, 'knits': 1, 'know': 10, 'knowst': 1, 'laid': 1, 'lamb': 14, 'lambs': 6, 'lamentation': 1, 'lamentations': 1, 'land': 5, 'lap': 1, 'laps': 1, 'lapsed': 1, 'lark': 1, 'laugh': 6, 'laughed': 1, 'laughing': 5, 'laughs': 2, 'lay': 9, 'lay;': 1, 'lead': 1, 'leaf': 1, 'leaf;': 1, 'lean': 1, 'leaped': 1, 'leaping': 1, 'leapt': 1, 'learn': 1, 'learnd': 1, 'learnings': 1, 'leave': 2, 'leaves': 2, 'led': 6, 'left': 1, 'leopards': 1, 'lest': 1, 'let': 7, 'lick': 2, 'licks': 1, 'lie': 2, 'lies': 1, 'life': 7, 'lifes': 1, 'lifted': 1, 'light': 11, 'like': 35, 'lilly': 1, 'lillys': 2, 'lily': 5, 'limbs': 1, 'linkd': 1, 'lion': 3, 'lioness': 1, 'lions': 2, 'listning': 2, 'little': 45, 'livd': 1, 'live': 6, 'livelong': 2, 'lively': 1, 'lives': 2, 'lo': 1, 'locked': 1, 'locks': 1, 'london': 2, 'lonely': 3, 'long': 1, 'look': 5, 'lookst': 1, 'loosed': 1, 'loss': 1, 'lost': 8, 'lot': 2, 'lotus': 1, 'loud': 1, 'louder': 1, 'love': 29, 'loved': 1, 'lovely': 4, 'loves': 3, 'loving': 1, 'lowly': 3, 'lurch': 1, 'luvah': 1, 'lyca': 8, 'lycas': 1, 'made': 6, 'maid': 6, 'maid;': 1, 'maiden': 4, 'make': 5, 'maker': 4, 'making': 2, 'man': 6, 'manacles': 1, 'mane': 3, 'manna': 1, 'many': 7, 'mark': 1, 'marks': 2, 'marriage-hearse': 1, 'mary': 1, 'mass': 1, 'matron': 1, 'may': 6, 'maze;': 1, 'me': 33, 'me;': 1, 'mead;': 1, 'meadows': 1, 'mean': 1, 'meanest': 1, 'meek': 1, 'meek;': 1, 'meekin': 1, 'meekness': 1, 'meet': 3, 'mellowing': 1, 'melts': 1, 'men': 4, 'mercy': 8, 'merrily': 7, 'merry': 9, 'met': 1, 'methought': 1, 'metres': 1, 'midnight': 1, 'midst': 1, 'might': 2, 'mighty': 1, 'mild': 7, 'milk': 1, 'milked': 1, 'milky': 2, 'mind': 4, 'mind-forged': 1, 'mine': 2, 'mire': 1, 'misery': 2, 'mistress': 1, 'mne': 1, 'moan': 3, 'moans': 3, 'modest': 4, 'mole': 1, 'moon': 2, 'moony': 1, 'more': 8, 'more;': 1, 'morn': 8, 'morning': 10, 'mortal': 4, 'most': 3, 'mother': 17, 'mothers': 4, 'motto': 1, 'mould': 1, 'mouth': 1, 'mouths': 1, 'move': 1, 'multitude': 1, 'multitudes': 2, 'music': 1, 'must': 3, 'mute': 1, 'mutual': 1, 'my': 83, 'mystery': 3, 'naked': 5, 'name': 4, 'name;': 1, 'narrow': 1, 'nature': 1, 'near': 6, 'neck': 1, 'neck;': 1, 'ned': 1, 'need': 1, 'neer': 1, 'nest': 4, 'never': 17, 'new': 1, 'new-born': 3, 'next': 1, 'nibbled': 1, 'nigh': 2, 'night': 27, 'night;': 1, 'nightingale': 1, 'nights': 1, 'nipped': 1, 'no': 18, 'noise': 1, 'noise;': 1, 'none': 3, 'noonday': 1, 'nor': 15, 'northern': 1, 'nostril': 1, 'nostrils': 1, 'not': 37, 'note': 1, 'notes': 2, 'nothing': 2, 'nought': 1, 'nourish': 1, 'now': 7, 'numerous': 1, 'nuptial': 1, 'nurses': 2, 'nuts': 1, 'o': 13, 'oak': 1, 'oer': 12, 'of': 146, 'off': 1, 'offered': 1, 'oft': 1, 'oh': 11, 'oil': 2, 'old': 6, 'on': 44, 'ona': 1, 'once': 4, 'one': 4, 'ones': 3, 'only': 3, 'opened': 1, 'opening': 1, 'or': 21, 'ore': 1, 'others': 1, 'our': 22, 'ourselves': 1, 'out': 5, 'outstretched': 1, 'outworn': 1, 'over': 8, 'own': 4, 'page': 1, 'painted': 1, 'pair': 1, 'palace': 1, 'palace-walls': 1, 'pale': 5, 'paleness': 1, 'parents': 4, 'parson': 1, 'parsons': 1, 'part': 2, 'parting': 1, 'partner': 1, 'pass': 2, 'passed': 1, 'past': 1, 'pathless': 1, 'pauls': 1, 'peace': 9, 'peaceful': 1, 'pearly': 1, 'pebble': 2, 'pen': 1, 'pensive': 1, 'perches': 1, 'perfume': 1, 'perplex': 1, 'picks': 1, 'pined': 1, 'pipe': 3, 'pipe;': 1, 'piped': 2, 'piper': 2, 'piping': 3, 'pit': 2, 'piteous': 1, 'pity': 9, 'pitying': 5, 'place': 2, 'plagues': 1, 'plain': 1, 'plants': 1, 'play': 8, 'play;': 1, 'pleasant': 5, 'please': 2, 'plot': 1, 'plough': 1, 'plowman': 1, 'pluckd': 1, 'poems': 1, 'pointed': 1, 'poison': 2, 'pole': 1, 'pole;': 1, 'ponder': 1, 'ponder;': 1, 'poor': 4, 'porter': 1, 'possible': 1, 'pour': 2, 'pouring': 1, 'pours': 1, 'poverty': 2, 'praise': 2, 'pray': 3, 'prays': 2, 'preach': 1, 'present': 1, 'presse': 1, 'pretty': 8, 'prey': 2, 'prey;': 1, 'pride': 1, 'priest': 2, 'priestly': 1, 'priests': 1, 'prime': 1, 'printer': 1, 'prisoned': 1, 'prophetic': 1, 'pull': 1, 'punish': 1, 'purify': 1, 'put': 2, 'puts': 1, 'quarrel': 1, 'queen': 5, 'quiet': 1, 'radiance': 1, 'rain': 1, 'raisd': 1, 'raise': 1, 'raised': 1, 'raising': 1, 'raptures': 1, 'raven': 1, 'read': 2, 'reading': 1, 'ready': 2, 'reason': 2, 'receive': 2, 'reclind': 1, 'red': 1, 'reduced': 1, 'reed': 1, 'reflection': 1, 'regale': 1, 'rejoice': 3, 'rejoicing': 1, 'relief': 1, 'remains;': 1, 'removed': 1, 'renew': 2, 'replied': 1, 'reply;': 1, 'rest': 3, 'restless': 1, 'return': 4, 'revives': 1, 'rich': 1, 'ring': 1, 'rise': 4, 'risen': 1, 'rises': 1, 'rising': 4, 'river': 3, 'robin': 2, 'rod': 1, 'roof': 1, 'root': 1, 'roots': 2, 'rose': 9, 'rosy': 1, 'round': 9, 'rounds': 1, 'ruby': 1, 'ruddy': 2, 'run': 1, 'runs': 2, 'rural': 1, 'rush': 1, 'rushes': 1, 'said': 7, 'said;': 1, 'saild': 1, 'same': 1, 'sang': 2, 'sat': 4, 'saw': 7, 'say': 6, 'say--': 1, 'saying': 3, 'says;': 1, 'scarce': 1, 'scarcely': 1, 'scatter': 1, 'scatters': 1, 'scene': 1, 'school': 1, 'schoolboy': 1, 'sea': 1, 'sealed': 1, 'search': 1, 'seat': 1, 'seated': 1, 'seats': 1, 'secresy': 1, 'secret': 2, 'secrets': 1, 'see': 16, 'seek': 6, 'seeketh': 2, 'seeking': 2, 'seemed': 1, 'seen': 5, 'seen;': 1, 'sees': 1, 'sees;': 1, 'seest': 1, 'seize': 1, 'seized': 1, 'self': 1, 'self-deceiving': 1, 'selfish': 4, 'senseless': 1, 'sentence': 1, 'seraphim': 1, 'set': 2, 'sets': 1, 'seven': 3, 'sexes': 2, 'shade': 6, 'shadows': 2, 'shady': 1, 'shakes': 1, 'shall': 19, 'shalt': 2, 'shame': 1, 'share': 1, 'shaved;': 1, 'she': 15, 'sheep': 4, 'shepherd': 2, 'shepherds': 1, 'shewd': 1, 'shields': 1, 'shine': 5, 'shine;': 1, 'shining': 3, 'shirt': 1, 'shook': 1, 'shore': 3, 'should': 6, 'shoulder': 1, 'shoulders': 1, 'shouted': 1, 'shower': 1, 'showring': 1, 'shriek': 2, 'shrine': 1, 'shrouded': 1, 'shut': 1, 'sick': 2, 'sickness': 1, 'sigh': 5, 'sighing': 1, 'sighs': 2, 'sight': 1, 'sight;': 1, 'silence': 1, 'silent': 8, 'silver': 3, 'sinews': 1, 'sing': 11, 'singing': 1, 'sings': 1, 'sisters': 1, 'sit': 12, 'sits': 2, 'sittest': 1, 'sitting': 2, 'skies': 3, 'skies;': 1, 'sky': 2, 'sky--': 1, 'skylark': 2, 'sleep': 19, 'sleep;': 2, 'sleeping': 5, 'sleeping;': 1, 'slender': 1, 'slept': 1, 'slumber': 1, 'slumbrous': 1, 'small': 5, 'small;': 2, 'smell': 1, 'smelling': 1, 'smells': 1, 'smild': 1, 'smile': 8, 'smiled': 2, 'smiles': 10, 'smiles;': 1, 'smiling': 1, 'snare': 1, 'snow': 4, 'so': 21, 'sobbing': 2, 'soft': 5, 'softest': 2, 'sold': 1, 'soldiers': 1, 'some': 2, 'somebody': 1, 'son': 1, 'song': 10, 'songs': 7, 'soon': 5, 'soot': 2, 'sore;': 1, 'sorrow': 9, 'sorrows': 3, 'sought': 3, 'soul': 2, 'souls': 2, 'sound': 1, 'sound;': 1, 'southern': 2, 'sow': 1, 'sower': 1, 'space': 1, 'sparrow': 1, 'speak': 4, 'spears': 2, 'spend': 2, 'spirit': 2, 'spoil': 1, 'sport': 2, 'sports': 2, 'sprang': 1, 'spray': 1, 'spread': 1, 'spreads': 3, 'spring': 6, 'spring;': 2, 'springing': 1, 'springs': 3, 'stain': 1, 'staind': 1, 'stalked': 1, 'stand': 2, 'standing': 1, 'stands': 1, 'star': 1, 'starry': 3, 'stars': 1, 'started': 1, 'starved': 1, 'stays;': 1, 'steed': 1, 'steeds': 1, 'steps': 1, 'still': 1, 'stole': 1, 'stony': 1, 'stood': 2, 'stord': 1, 'storm': 1, 'strangers': 1, 'stray': 1, 'strays': 1, 'stream': 2, 'streams': 1, 'street': 1, 'streets': 1, 'strength': 1, 'stripped': 2, 'striving': 1, 'stroke': 1, 'struggling': 1, 'stumble': 1, 'such': 6, 'sulk': 1, 'summer': 4, 'summers': 4, 'sun': 10, 'sun;': 1, 'sunburnt': 1, 'sunflower': 3, 'sunned': 1, 'sunny': 2, 'surprise;': 1, 'susan': 1, 'swaddling-bands': 1, 'sweep': 1, 'sweeper': 1, 'sweepers': 1, 'sweet': 28, 'sweeter': 1, 'sweetest': 1, 'swell': 1, 'swift': 1, 'symmetry': 2, 'table': 1, 'taen': 1, 'taints': 1, 'take': 3, 'takes': 1, 'tames': 1, 'tangle': 1, 'tangled': 1, 'taught': 2, 'tear': 6, 'tears': 11, 'tears;': 1, 'teazing': 1, 'tell': 6, 'ten-thousand': 1, 'tend': 1, 'tender': 9, 'tenfold': 1, 'tent': 3, 'terrific': 1, 'terror': 3, 'terrors': 1, 'terzah': 1, 'thames': 2, 'than': 1, 'thankfulness': 1, 'that': 39, 'the': 439, 'thee': 41, 'thee;': 1, 'their': 34, 'thel': 15, 'thels': 1, 'them': 8, 'then': 30, 'there': 11, 'therefore': 2, 'theres': 1, 'these': 6, 'they': 44, 'thickest': 1, 'thine': 2, 'thing': 5, 'think': 4, 'thirst': 1, 'this': 16, 'thistles': 1, 'thorn': 2, 'thorns': 3, 'those': 1, 'thou': 35, 'though': 2, 'thought': 5, 'thoughtless': 2, 'thousand': 1, 'thousands': 2, 'threat': 1, 'threatning': 1, 'threw': 1, 'thro': 2, 'throne': 2, 'through': 7, 'thrush': 1, 'thunderings': 1, 'thursday': 3, 'thus': 4, 'thy': 31, 'tiger': 5, 'tigers': 3, 'till': 15, 'time': 4, 'times': 1, 'tired': 4, 'tis': 1, 'to': 111, 'told': 5, 'tom': 6, 'tombstones': 1, 'tongue': 4, 'too': 3, 'took': 2, 'town': 1, 'trace;': 1, 'traced': 1, 'transient': 1, 'travel-worn': 1, 'travellers': 1, 'tree': 7, 'tree;': 3, 'trees': 1, 'trembling': 6, 'trodden': 1, 'troubled': 1, 'truth': 1, 'turk': 1, 'turn': 2, 'turned': 2, 'turning': 1, 'turns': 1, 'twas': 1, 'twist': 1, 'twists': 1, 'two': 4, 'under': 4, 'underneath': 3, 'unhinderd': 1, 'united': 1, 'unknown;': 1, 'unrest': 1, 'unseen': 2, 'up': 6, 'upon': 14, 'us': 5, 'use': 2, 'used': 2, 'usurous': 1, 'utter': 1, 'vagabond': 1, 'vain': 5, 'vain;': 1, 'vale': 1, 'vales': 9, 'valley': 4, 'valleys': 4, 'vanish': 3, 'vanishd': 1, 'vapour': 1, 'veil': 1, 'veiled': 1, 'venerates': 1, 'verdant': 1, 'very': 3, 'viewd': 1, 'viewed': 2, 'virgin': 9, 'virgins': 1, 'virtues': 1, 'vision': 1, 'visit': 1, 'visited': 1, 'voice': 16, 'voiceless': 1, 'voices': 3, 'wailing': 1, 'waiting': 1, 'wake;': 1, 'walk': 3, 'walked': 2, 'walketh': 1, 'walking': 3, 'walks': 1, 'wandered': 3, 'wanderer': 1, 'wanderers': 1, 'wandering': 1, 'wands': 1, 'want': 2, 'warbled': 1, 'warbling': 2, 'warm': 2, 'warm;': 1, 'was': 30, 'wash': 1, 'washed': 1, 'waste;': 1, 'wasted': 1, 'watching': 1, 'watchman': 1, 'water': 3, 'watered': 2, 'waters': 2, 'watery': 2, 'watry': 2, 'waves': 1, 'way': 2, 'ways': 3, 'ways;': 1, 'we': 14, 'weak': 4, 'weakness': 2, 'weary': 5, 'weave': 2, 'wed': 3, 'weed': 1, 'weep': 23, 'weep;': 1, 'weeping': 14, 'weigh': 1, 'welcome': 4, 'well': 2, 'well;': 1, 'went': 4, 'wept': 9, 'were': 10, 'west': 1, 'wet': 1, 'what': 26, 'whateer': 1, 'when': 28, 'where': 25, 'whereer': 2, 'which': 1, 'while': 13, 'while;': 1, 'whirlpool': 1, 'whisperings': 1, 'white': 12, 'who': 18, 'whose': 1, 'why': 15, 'wide': 1, 'wight': 1, 'wild': 9, 'wildered': 1, 'wiles': 1, 'wilful': 1, 'will': 3, 'william': 2, 'willm': 1, 'wilt': 3, 'wind': 2, 'wind;': 1, 'winds': 1, 'wine': 1, 'wing': 2, 'wings': 3, 'winter': 3, 'winters': 2, 'wipd': 1, 'wiped': 1, 'wiping': 2, 'wisdom': 1, 'wise': 1, 'wish': 2, 'wishes': 1, 'wit': 1, 'with': 66, 'within': 1, 'without': 2, 'witless': 1, 'woe': 7, 'woe-begone': 1, 'woe;': 1, 'woes': 1, 'wolly': 1, 'wolves': 1, 'wolvish': 1, 'woman': 1, 'women': 1, 'wondering': 1, 'woods': 1, 'wool;': 1, 'word': 1, 'work': 3, 'world': 1, 'worlds': 1, 'worm': 9, 'worms': 3, 'worn': 2, 'would': 5, 'wrapped': 1, 'wrath': 4, 'wren': 1, 'writ': 1, 'write': 1, 'written': 1, 'wrote': 1, 'year': 5, 'yet': 5, 'you': 9, 'you;': 1, 'young': 1, 'youngest': 1, 'your': 11, 'youth': 7, 'youth-time': 1, 'youthful': 4, 'zeal': 1}\n"
     ]
    }
   ],
   "source": [
    "# Counting words line by line.\n",
    "\n",
    "import os\n",
    "\n",
    "parent_dir = os.getcwd()\n",
    "child_dir = os.path.join(parent_dir, \"text-files\")\n",
    "fname = os.path.join(child_dir, \"blakepoems.txt\")\n",
    "\n",
    "\n",
    "my_dict ={}\n",
    "count = 0\n",
    "with open(fname,'r') as K:\n",
    "    words = K.readlines()\n",
    "\n",
    "        \n",
    "    words = ' '.join([str(elem) for elem in words])\n",
    "    words = words.lower().replace(\"\\n\",\"\").replace(\"[\",\"\").replace(\"]\",\"\").replace(\",\",\"\").replace(\"!\",\"\").replace(\"'\",\"\").replace(\"?\",\"\").replace(\":\",\"\").replace(\".\",\"\").replace(\"\\\"\",\"\")\n",
    "    words = words.split()\n",
    "    \n",
    "    #How to replace \" using replace() without making it a docstring.\n",
    "\n",
    "#print(text.split()) #Splits the text based on space\n",
    "#print(text.strip()) #Strips the text of special characters?\n",
    "\n",
    "    #print(words)\n",
    "    \n",
    "    for word in words:               #If each word not in my_dict, then count it and append it to dict\n",
    "        if word not in my_dict:\n",
    "            count = words.count(word)\n",
    "            my_dict[word] = count\n",
    "            \n",
    "    my_sorted_dict = sorted(my_dict.items())\n",
    "    my_new_dict = dict(my_sorted_dict)  \n",
    "    \n",
    "    print(my_new_dict)\n",
    "\n",
    "\n",
    "\n",
    "\n",
    "\n",
    "        "
   ]
  },
  {
   "cell_type": "markdown",
   "metadata": {},
   "source": [
    "---"
   ]
  }
 ],
 "metadata": {
  "kernelspec": {
   "display_name": "Python 3",
   "language": "python",
   "name": "python3"
  },
  "language_info": {
   "codemirror_mode": {
    "name": "ipython",
    "version": 3
   },
   "file_extension": ".py",
   "mimetype": "text/x-python",
   "name": "python",
   "nbconvert_exporter": "python",
   "pygments_lexer": "ipython3",
   "version": "3.8.5"
  }
 },
 "nbformat": 4,
 "nbformat_minor": 1
}
