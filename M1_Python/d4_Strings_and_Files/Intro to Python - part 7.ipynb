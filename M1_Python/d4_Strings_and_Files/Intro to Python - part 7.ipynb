{
 "cells": [
  {
   "cell_type": "markdown",
   "metadata": {},
   "source": [
    "# Chapter 11 - Text Files"
   ]
  },
  {
   "cell_type": "markdown",
   "metadata": {},
   "source": [
    "---"
   ]
  },
  {
   "cell_type": "markdown",
   "metadata": {},
   "source": [
    "One of the most important uses of Python for data processing is the reading, changing, and writing of text files. Data is often stored in text files, because text files can be easily transferred between different programs. There are multiple standardized formats for text files, such as \"comma-separated values\" (CSV) files. Python supports particular text file formats through modules, some of which will be discussed later. This chapter focusses on opening, reading, writing, and closing of any text file, regardless of format. "
   ]
  },
  {
   "cell_type": "markdown",
   "metadata": {},
   "source": [
    "---"
   ]
  },
  {
   "cell_type": "markdown",
   "metadata": {},
   "source": [
    "## Flat text files"
   ]
  },
  {
   "cell_type": "markdown",
   "metadata": {},
   "source": [
    "When programmers refer to \"text files\" or \"flat text files\", they mean files in which all characters are meant to be read as regular characters, like you would type on a keyboard. For instance, Python program files are flat text files, as are HTML files. Word processor documents, however, are not flat text files, and neither are images. If you want to know whether a file is a text file or not, you can try to open it in a text editor (such as the editor for the IDLE environment, which comes with Python). If you see only readable text, the file is likely to be a text file. Otherwise, it is a so-called \"binary file\".\n",
    "\n",
    "Text files consist of lines of text. At the end of a line, there is a \"newline\" symbol, which in Python is the character \"`\\n`\". Different operating systems use slightly different ways of storing this character in a text file: some Windows programs store it as \"carriage return\", as well as \"line feed\" (\"`\\r\\n`\", sometimes thought as a leftover from old typewriters), while on Linux it is always stored as a single \"`\\n`\". As long as you access a file from Python as a regular text file, Python will convert the characters that it reads to the standard \"`\\n`\", and vice versa when it writes. So you do not usually need to worry about such differences (except when you need to transfer text files between operating systems).\n",
    "\n",
    "However; if you open a file in other editors, such as notepad, sometimes it does not properly understand the end-of-line characters, and shows everything on one line."
   ]
  },
  {
   "cell_type": "markdown",
   "metadata": {},
   "source": [
    "### File handles and pointers"
   ]
  },
  {
   "cell_type": "markdown",
   "metadata": {},
   "source": [
    "When you work with a file in a program, you have to open the file. Opening a file provides a so-called \"file handle\". A file handle can be seen as an access point to the file. It contains a \"pointer\" that indicates a particular place in the file. That pointer is used when you read from or write to the file. For instance, when you read from the file, it starts reading at the pointer, and moves the pointer forward in the file.\n",
    "\n",
    "When you open a file, the pointer is placed at a particular spot in the file, depending on how you opened the file. If you opened the file for reading only, the pointer is placed at the start of the file. The same is true when you open the file for both reading and writing. If you open the file for \"appending\" (i.e., to place new data at the file's end), the file pointer is positioned at the end of the file. Lastly, if you open a file for writing only, actually the file is completely emptied and the file pointer is placed at the start of the, now empty, file. To create a new file (i.e., a file with a name that does not exist yet), you open it for \"writing only\".\n",
    "\n",
    "After opening the file, the file handle is the only access point for the file. All actions you perform on the file, you perform as methods for the file handle.\n",
    "\n",
    "Note that any operating system only allows a limited number of files to be open simultaneously. Therefore you should close files that you no longer need to work with."
   ]
  },
  {
   "cell_type": "markdown",
   "metadata": {},
   "source": [
    "### Moving the file pointer"
   ]
  },
  {
   "cell_type": "markdown",
   "metadata": {},
   "source": [
    "The file pointer, that indicates where in a file you are working, is moved automatically. For instance, when you read 10 characters from a file, the file pointer indicates which is the first of those 10 characters, and, while reading, moves up 10 characters, so that its new position is 10 characters further in the file than before. When you deal with text files, the automatic movements of the file pointer are exactly what you want. You *can* position the file pointer manually using specific methods, but such methods are, in general, only used when dealing with binary files. "
   ]
  },
  {
   "cell_type": "markdown",
   "metadata": {},
   "source": [
    "### Buffering"
   ]
  },
  {
   "cell_type": "markdown",
   "metadata": {},
   "source": [
    "When you make changes to files, these often are not stored in the files immediately. Instead, the operating system \"buffers\" the changes in memory, and \"flushes\" the buffers to the actual files when it sees a need for that. You can force the flushing of the buffers by closing a file. Buffers are also flushed when your program ends normally.\n",
    "\n",
    "However, when your program crashes (for instance because of a runtime error), buffers might not be flushed, and your files will not be updated to the point where the crash took place. So you cannot take the file contents into account when trying to debug a program."
   ]
  },
  {
   "cell_type": "markdown",
   "metadata": {},
   "source": [
    "### File processing programs"
   ]
  },
  {
   "cell_type": "markdown",
   "metadata": {},
   "source": [
    "Most programs that deal with text files follow a process that, in a loop, reads contents of a file, processes those contents in some way, then writes the contents to another file. For instance, a program might read lines from a text file, and for each line sort the words, then write the sorted words to another text file. This is hardly any different from a program that asks the user the provide, in a loop, a line of text, then sorts the words in the line, and displays them using the `print()` function. \n",
    "\n",
    "However, it tends to be experienced as more complicated.\n",
    "\n",
    "When you provide input to a program manually, and see it displaying outputs, you always know more or less what lines of your code Python is processing, and you can make up tests on the fly. If you work with files, you have to prepare your files beforehand, then run the program and wait until it finishes before you can examine the contents of the output files. \n",
    "\n",
    "While working with files might give a sense of lack of control, during development of the program you can always include `print()` statements to get an insight in what the program is doing. For instance, when it reads a line, you can print that line, and when it writes a line, you can also print that line. That way, your insight in the inner workings of the program is no different regardless whether you use manual inputs and screen outputs, or file inputs and outputs."
   ]
  },
  {
   "cell_type": "markdown",
   "metadata": {},
   "source": [
    "---"
   ]
  },
  {
   "cell_type": "markdown",
   "metadata": {},
   "source": [
    "## Reading text files"
   ]
  },
  {
   "cell_type": "markdown",
   "metadata": {},
   "source": [
    "To read the contents of a file, you must first open it, then read the contents, then close it."
   ]
  },
  {
   "cell_type": "markdown",
   "metadata": {},
   "source": [
    "### Opening a file using `open()`"
   ]
  },
  {
   "cell_type": "markdown",
   "metadata": {},
   "source": [
    "To open a file, you use the `open()` function. \n",
    "\n",
    "The `open()` function gets two arguments, of which the second one is optional. The first argument is the name of the file. If the file is not in the current directory, you have to include the complete path to the file so that Python can find it. The second argument is the \"mode\". The mode indicates how you want to treat the file. The default mode (which is picked when you do not supply the second argument) is opening the file as a text file for reading only. How you set other modes is discussed later.\n",
    "\n",
    "The `open()` function returns a file handle, which you use for all the remaining functionalities.\n",
    "\n",
    "Rather than writing \"`<handle> = open( <filename> )`\", you will often see Python programs that write this as \"`open( <filename> ) as <handle>`\". These two ways of writing code are equivalent. I myself prefer the first, as that is the way it is done in most programming languages. However, the second method has an advantage that I discuss below, when talking about closing a file."
   ]
  },
  {
   "cell_type": "markdown",
   "metadata": {},
   "source": [
    "### Reading a file using `read()`"
   ]
  },
  {
   "cell_type": "markdown",
   "metadata": {},
   "source": [
    "The simplest way to read the contents of a file is using the `read()` method, without arguments, on the file handle. This returns a string that contains the complete contents of the file. `read()` can get an argument, but that's only used for binary files.\n",
    "\n",
    "Reading from a file moves the file pointer to right after the part of the file that was read. This means that if you use the `read()` method without arguments, the file pointer is moved to the end of the file. This entails that if you would try to `read()` from it a second time, nothing would be read, as there is nothing to be read after the spot where the file pointer is."
   ]
  },
  {
   "cell_type": "markdown",
   "metadata": {},
   "source": [
    "### Closing a file using `close()`"
   ]
  },
  {
   "cell_type": "markdown",
   "metadata": {},
   "source": [
    "To close a file, you use the `close()` method on the file handle. Every file that you open, you should close at some point in your program. This is especially true in these notebooks, as each notebook page is considered to be one complete program; this means that if you do not close a file, it remains open even after the bit of code that you executed ends.\n",
    "\n",
    "If everything that you need to do with a file is done in a single block, you can write this block as follows:\n",
    "\n",
    "    with open( <filename> ) as <handle>:\n",
    "        <statements>\n",
    "        \n",
    "This syntactic construction has the advantage that the file will be closed automatically after the block `<statements>` ends, so you do not need to include an explicit `close()` call. This construction is typically Python; you do not see it in many other programming languages."
   ]
  },
  {
   "cell_type": "markdown",
   "metadata": {},
   "source": [
    "### Displaying the contents of a file"
   ]
  },
  {
   "cell_type": "markdown",
   "metadata": {},
   "source": [
    "Now the first few functions and methods for dealing with text files have been introduced, I can show some code that reads the contents of a file."
   ]
  },
  {
   "cell_type": "code",
   "execution_count": 1,
   "metadata": {},
   "outputs": [
    {
     "name": "stdout",
     "output_type": "stream",
     "text": [
      "1609\n",
      "\n",
      "THE SONNETS\n",
      "\n",
      "by William Shakespeare\n",
      "\n",
      "\n",
      "\n",
      "                     1\n",
      "  From fairest creatures we desire increase,\n",
      "  That thereby beauty's rose might never die,\n",
      "  But as the riper should by time decease,\n",
      "  His tender heir might bear his memory:\n",
      "  But thou contracted to thine own bright eyes,\n",
      "  Feed'st thy light's flame with self-substantial fuel,\n",
      "  Making a famine where abundance lies,\n",
      "  Thy self thy foe, to thy sweet self too cruel:\n",
      "  Thou that art now the world's fresh ornament,\n",
      "  And only herald to the gaudy spring,\n",
      "  Within thine own bud buriest thy content,\n",
      "  And tender churl mak'st waste in niggarding:\n",
      "    Pity the world, or else this glutton be,\n",
      "    To eat the world's due, by the grave and thee.\n",
      "\n",
      "\n",
      "                     2\n",
      "  When forty winters shall besiege thy brow,\n",
      "  And dig deep trenches in thy beauty's field,\n",
      "  Thy youth's proud livery so gazed on now,\n",
      "  Will be a tattered weed of small worth held:\n",
      "  Then being asked, where all thy beauty lies,\n",
      "  Where all the treasure of thy lusty days;\n",
      "  To say within thine own deep sunken eyes,\n",
      "  Were an all-eating shame, and thriftless praise.\n",
      "  How much more praise deserved thy beauty's use,\n",
      "  If thou couldst answer 'This fair child of mine\n",
      "  Shall sum my count, and make my old excuse'\n",
      "  Proving his beauty by succession thine.\n",
      "    This were to be new made when thou art old,\n",
      "    And see thy blood warm when thou feel'st it cold.\n",
      "\n",
      "\n",
      "                     3\n",
      "  Look in thy glass and tell the face thou viewest,\n",
      "  Now is the time that face should form another,\n",
      "  Whose fresh repair if now thou not renewest,\n",
      "  Thou dost beguile the world, unbless some mother.\n",
      "  For where is she so fair whose uneared womb\n",
      "  Disdains the tillage of thy husbandry?\n",
      "  Or who is he so fond will be the tomb,\n",
      "  Of his self-love to stop posterity?\n",
      "  Thou art thy mother's glass and she in thee\n",
      "  Calls back the lovely April of her prime,\n",
      "  So thou through windows of thine age shalt see,\n",
      "  Despite of wrinkles this thy golden time.\n",
      "    But if thou live remembered not to be,\n",
      "    Die single and thine image dies with thee.\n",
      "\n",
      "\n",
      "                     4\n",
      "  Unthrifty loveliness why dost thou spend,\n",
      "  Upon thy self thy beauty's legacy?\n",
      "  Nature's bequest gives nothing but doth lend,\n",
      "  And being frank she lends to those are free:\n",
      "  Then beauteous niggard why dost thou abuse,\n",
      "  The bounteous largess given thee to give?\n",
      "  Profitless usurer why dost thou use\n",
      "  So great a sum of sums yet canst not live?\n",
      "  For having traffic with thy self alone,\n",
      "  Thou of thy self thy sweet self dost deceive,\n",
      "  Then how when nature calls thee to be gone,\n",
      "  What acceptable audit canst thou leave?\n",
      "    Thy unused beauty must be tombed with thee,\n",
      "    Which used lives th' executor to be.\n",
      "\n",
      "\n",
      "                     5\n",
      "  Those hours that with gentle work did frame\n",
      "  The lovely gaze where every eye doth dwell\n",
      "  Will play the tyrants to the very same,\n",
      "  And that unfair which fairly doth excel:\n",
      "  For never-resting time leads summer on\n",
      "  To hideous winter and confounds him there,\n",
      "  Sap checked with frost and lusty leaves quite gone,\n",
      "  Beauty o'er-snowed and bareness every where:\n",
      "  Then were not summer's distillation left\n",
      "  A liquid prisoner pent in walls of glass,\n",
      "  Beauty's effect with beauty were bereft,\n",
      "  Nor it nor no remembrance what it was.\n",
      "    But flowers distilled though they with winter meet,\n",
      "    Leese but their show, their substance still lives sweet.\n",
      "\n",
      "\n",
      "                     6\n",
      "  Then let not winter's ragged hand deface,\n",
      "  In thee thy summer ere thou be distilled:\n",
      "  Make sweet some vial; treasure thou some place,\n",
      "  With beauty's treasure ere it be self-killed:\n",
      "  That use is not forbidden usury,\n",
      "  Which happies those that pay the willing loan;\n",
      "  That's for thy self to breed another thee,\n",
      "  Or ten times happier be it ten for one,\n",
      "  Ten times thy self were happier than thou art,\n",
      "  If ten of thine ten times refigured thee:\n",
      "  Then what could death do if thou shouldst depart,\n",
      "  Leaving thee living in posterity?\n",
      "    Be not self-willed for thou art much too fair,\n",
      "    To be death's conquest and make worms thine heir.\n",
      "\n",
      "\n",
      "                     7\n",
      "  Lo in the orient when the gracious light\n",
      "  Lifts up his burning head, each under eye\n",
      "  Doth homage to his new-appearing sight,\n",
      "  Serving with looks his sacred majesty,\n",
      "  And having climbed the steep-up heavenly hill,\n",
      "  Resembling strong youth in his middle age,\n",
      "  Yet mortal looks adore his beauty still,\n",
      "  Attending on his golden pilgrimage:\n",
      "  But when from highmost pitch with weary car,\n",
      "  Like feeble age he reeleth from the day,\n",
      "  The eyes (fore duteous) now converted are\n",
      "  From his low tract and look another way:\n",
      "    So thou, thy self out-going in thy noon:\n",
      "    Unlooked on diest unless thou get a son.\n",
      "\n",
      "\n",
      "                     8\n",
      "  Music to hear, why hear'st thou music sadly?\n",
      "  Sweets with sweets war not, joy delights in joy:\n",
      "  Why lov'st thou that which thou receiv'st not gladly,\n",
      "  Or else receiv'st with pleasure thine annoy?\n",
      "  If the true concord of well-tuned sounds,\n",
      "  By unions married do offend thine ear,\n",
      "  They do but sweetly chide thee, who confounds\n",
      "  In singleness the parts that thou shouldst bear:\n",
      "  Mark how one string sweet husband to another,\n",
      "  Strikes each in each by mutual ordering;\n",
      "  Resembling sire, and child, and happy mother,\n",
      "  Who all in one, one pleasing note do sing:\n",
      "    Whose speechless song being many, seeming one,\n",
      "    Sings this to thee, 'Thou single wilt prove none'.\n",
      "\n",
      "\n",
      "                     9\n",
      "  Is it for fear to wet a widow's eye,\n",
      "  That thou consum'st thy self in single life?\n",
      "  Ah, if thou issueless shalt hap to die,\n",
      "  The world will wail thee like a makeless wife,\n",
      "  The world will be thy widow and still weep,\n",
      "  That thou no form of thee hast left behind,\n",
      "  When every private widow well may keep,\n",
      "  By children's eyes, her husband's shape in mind:\n",
      "  Look what an unthrift in the world doth spend\n",
      "  Shifts but his place, for still the world enjoys it;\n",
      "  But beauty's waste hath in the world an end,\n",
      "  And kept unused the user so destroys it:\n",
      "    No love toward others in that bosom sits\n",
      "    That on himself such murd'rous shame commits.\n",
      "\n",
      "\n",
      "                     10\n",
      "  For shame deny that thou bear'st love to any\n",
      "  Who for thy self art so unprovident.\n",
      "  Grant if thou wilt, thou art beloved of many,\n",
      "  But that thou none lov'st is most evident:\n",
      "  For thou art so possessed with murd'rous hate,\n",
      "  That 'gainst thy self thou stick'st not to conspire,\n",
      "  Seeking that beauteous roof to ruinate\n",
      "  Which to repair should be thy chief desire:\n",
      "  O change thy thought, that I may change my mind,\n",
      "  Shall hate be fairer lodged than gentle love?\n",
      "  Be as thy presence is gracious and kind,\n",
      "  Or to thy self at least kind-hearted prove,\n",
      "    Make thee another self for love of me,\n",
      "    That beauty still may live in thine or thee.\n",
      "\n"
     ]
    }
   ],
   "source": [
    "\n",
    "def display_contents_file(file_name):\n",
    "    #fp = open(file_name, \"r\")\n",
    "    with open( file_name ) as fp:\n",
    "        buffer = fp.read()\n",
    "    print( buffer )\n",
    "    \n",
    "display_contents_file(\"Shakespeare.txt\")"
   ]
  },
  {
   "cell_type": "code",
   "execution_count": 3,
   "metadata": {},
   "outputs": [
    {
     "name": "stdout",
     "output_type": "stream",
     "text": [
      "1609\n",
      "\n",
      "THE SONNETS\n",
      "\n",
      "by William Shakespeare\n",
      "\n",
      "\n",
      "\n",
      "                     1\n",
      "  From fairest creatures we desire increase,\n",
      "  That thereby beauty's rose might never die,\n",
      "  But as the riper should by time decease,\n",
      "  His tender heir might bear his memory:\n",
      "  But thou contracted to thine own bright eyes,\n",
      "  Feed'st thy light's flame with self-substantial fuel,\n",
      "  Making a famine where abundance lies,\n",
      "  Thy self thy foe, to thy sweet self too cruel:\n",
      "  Thou that art now the world's fresh ornament,\n",
      "  And only herald to the gaudy spring,\n",
      "  Within thine own bud buriest thy content,\n",
      "  And tender churl mak'st waste in niggarding:\n",
      "    Pity the world, or else this glutton be,\n",
      "    To eat the world's due, by the grave and thee.\n",
      "\n",
      "\n",
      "                     2\n",
      "  When forty winters shall besiege thy brow,\n",
      "  And dig deep trenches in thy beauty's field,\n",
      "  Thy youth's proud livery so gazed on now,\n",
      "  Will be a tattered weed of small worth held:\n",
      "  Then being asked, where all thy beauty lies,\n",
      "  Where all the treasure of thy lusty days;\n",
      "  To say within thine own deep sunken eyes,\n",
      "  Were an all-eating shame, and thriftless praise.\n",
      "  How much more praise deserved thy beauty's use,\n",
      "  If thou couldst answer 'This fair child of mine\n",
      "  Shall sum my count, and make my old excuse'\n",
      "  Proving his beauty by succession thine.\n",
      "    This were to be new made when thou art old,\n",
      "    And see thy blood warm when thou feel'st it cold.\n",
      "\n",
      "\n",
      "                     3\n",
      "  Look in thy glass and tell the face thou viewest,\n",
      "  Now is the time that face should form another,\n",
      "  Whose fresh repair if now thou not renewest,\n",
      "  Thou dost beguile the world, unbless some mother.\n",
      "  For where is she so fair whose uneared womb\n",
      "  Disdains the tillage of thy husbandry?\n",
      "  Or who is he so fond will be the tomb,\n",
      "  Of his self-love to stop posterity?\n",
      "  Thou art thy mother's glass and she in thee\n",
      "  Calls back the lovely April of her prime,\n",
      "  So thou through windows of thine age shalt see,\n",
      "  Despite of wrinkles this thy golden time.\n",
      "    But if thou live remembered not to be,\n",
      "    Die single and thine image dies with thee.\n",
      "\n",
      "\n",
      "                     4\n",
      "  Unthrifty loveliness why dost thou spend,\n",
      "  Upon thy self thy beauty's legacy?\n",
      "  Nature's bequest gives nothing but doth lend,\n",
      "  And being frank she lends to those are free:\n",
      "  Then beauteous niggard why dost thou abuse,\n",
      "  The bounteous largess given thee to give?\n",
      "  Profitless usurer why dost thou use\n",
      "  So great a sum of sums yet canst not live?\n",
      "  For having traffic with thy self alone,\n",
      "  Thou of thy self thy sweet self dost deceive,\n",
      "  Then how when nature calls thee to be gone,\n",
      "  What acceptable audit canst thou leave?\n",
      "    Thy unused beauty must be tombed with thee,\n",
      "    Which used lives th' executor to be.\n",
      "\n",
      "\n",
      "                     5\n",
      "  Those hours that with gentle work did frame\n",
      "  The lovely gaze where every eye doth dwell\n",
      "  Will play the tyrants to the very same,\n",
      "  And that unfair which fairly doth excel:\n",
      "  For never-resting time leads summer on\n",
      "  To hideous winter and confounds him there,\n",
      "  Sap checked with frost and lusty leaves quite gone,\n",
      "  Beauty o'er-snowed and bareness every where:\n",
      "  Then were not summer's distillation left\n",
      "  A liquid prisoner pent in walls of glass,\n",
      "  Beauty's effect with beauty were bereft,\n",
      "  Nor it nor no remembrance what it was.\n",
      "    But flowers distilled though they with winter meet,\n",
      "    Leese but their show, their substance still lives sweet.\n",
      "\n",
      "\n",
      "                     6\n",
      "  Then let not winter's ragged hand deface,\n",
      "  In thee thy summer ere thou be distilled:\n",
      "  Make sweet some vial; treasure thou some place,\n",
      "  With beauty's treasure ere it be self-killed:\n",
      "  That use is not forbidden usury,\n",
      "  Which happies those that pay the willing loan;\n",
      "  That's for thy self to breed another thee,\n",
      "  Or ten times happier be it ten for one,\n",
      "  Ten times thy self were happier than thou art,\n",
      "  If ten of thine ten times refigured thee:\n",
      "  Then what could death do if thou shouldst depart,\n",
      "  Leaving thee living in posterity?\n",
      "    Be not self-willed for thou art much too fair,\n",
      "    To be death's conquest and make worms thine heir.\n",
      "\n",
      "\n",
      "                     7\n",
      "  Lo in the orient when the gracious light\n",
      "  Lifts up his burning head, each under eye\n",
      "  Doth homage to his new-appearing sight,\n",
      "  Serving with looks his sacred majesty,\n",
      "  And having climbed the steep-up heavenly hill,\n",
      "  Resembling strong youth in his middle age,\n",
      "  Yet mortal looks adore his beauty still,\n",
      "  Attending on his golden pilgrimage:\n",
      "  But when from highmost pitch with weary car,\n",
      "  Like feeble age he reeleth from the day,\n",
      "  The eyes (fore duteous) now converted are\n",
      "  From his low tract and look another way:\n",
      "    So thou, thy self out-going in thy noon:\n",
      "    Unlooked on diest unless thou get a son.\n",
      "\n",
      "\n",
      "                     8\n",
      "  Music to hear, why hear'st thou music sadly?\n",
      "  Sweets with sweets war not, joy delights in joy:\n",
      "  Why lov'st thou that which thou receiv'st not gladly,\n",
      "  Or else receiv'st with pleasure thine annoy?\n",
      "  If the true concord of well-tuned sounds,\n",
      "  By unions married do offend thine ear,\n",
      "  They do but sweetly chide thee, who confounds\n",
      "  In singleness the parts that thou shouldst bear:\n",
      "  Mark how one string sweet husband to another,\n",
      "  Strikes each in each by mutual ordering;\n",
      "  Resembling sire, and child, and happy mother,\n",
      "  Who all in one, one pleasing note do sing:\n",
      "    Whose speechless song being many, seeming one,\n",
      "    Sings this to thee, 'Thou single wilt prove none'.\n",
      "\n",
      "\n",
      "                     9\n",
      "  Is it for fear to wet a widow's eye,\n",
      "  That thou consum'st thy self in single life?\n",
      "  Ah, if thou issueless shalt hap to die,\n",
      "  The world will wail thee like a makeless wife,\n",
      "  The world will be thy widow and still weep,\n",
      "  That thou no form of thee hast left behind,\n",
      "  When every private widow well may keep,\n",
      "  By children's eyes, her husband's shape in mind:\n",
      "  Look what an unthrift in the world doth spend\n",
      "  Shifts but his place, for still the world enjoys it;\n",
      "  But beauty's waste hath in the world an end,\n",
      "  And kept unused the user so destroys it:\n",
      "    No love toward others in that bosom sits\n",
      "    That on himself such murd'rous shame commits.\n",
      "\n",
      "\n",
      "                     10\n",
      "  For shame deny that thou bear'st love to any\n",
      "  Who for thy self art so unprovident.\n",
      "  Grant if thou wilt, thou art beloved of many,\n",
      "  But that thou none lov'st is most evident:\n",
      "  For thou art so possessed with murd'rous hate,\n",
      "  That 'gainst thy self thou stick'st not to conspire,\n",
      "  Seeking that beauteous roof to ruinate\n",
      "  Which to repair should be thy chief desire:\n",
      "  O change thy thought, that I may change my mind,\n",
      "  Shall hate be fairer lodged than gentle love?\n",
      "  Be as thy presence is gracious and kind,\n",
      "  Or to thy self at least kind-hearted prove,\n",
      "    Make thee another self for love of me,\n",
      "    That beauty still may live in thine or thee.\n",
      "\n"
     ]
    }
   ],
   "source": [
    "\n",
    "def display_contents_file(file_name):\n",
    "    fp = open(file_name, \"r\")\n",
    "    #with open( file_name ) as fp:\n",
    "    buffer = fp.read()\n",
    "    print( buffer )\n",
    "    fp.close()\n",
    "display_contents_file(\"Shakespeare.txt\")"
   ]
  },
  {
   "cell_type": "code",
   "execution_count": 4,
   "metadata": {},
   "outputs": [
    {
     "name": "stdout",
     "output_type": "stream",
     "text": [
      "1609\n",
      "\n",
      "\n",
      "\n",
      "THE SONNETS\n",
      "\n",
      "\n",
      "\n",
      "by William Shakespeare\n",
      "\n",
      "\n",
      "\n",
      "\n",
      "\n",
      "\n",
      "\n",
      "                     1\n",
      "\n",
      "  From fairest creatures we desire increase,\n",
      "\n",
      "  That thereby beauty's rose might never die,\n",
      "\n",
      "  But as the riper should by time decease,\n",
      "\n",
      "  His tender heir might bear his memory:\n",
      "\n",
      "  But thou contracted to thine own bright eyes,\n",
      "\n",
      "  Feed'st thy light's flame with self-substantial fuel,\n",
      "\n",
      "  Making a famine where abundance lies,\n",
      "\n",
      "  Thy self thy foe, to thy sweet self too cruel:\n",
      "\n",
      "  Thou that art now the world's fresh ornament,\n",
      "\n",
      "  And only herald to the gaudy spring,\n",
      "\n",
      "  Within thine own bud buriest thy content,\n",
      "\n",
      "  And tender churl mak'st waste in niggarding:\n",
      "\n",
      "    Pity the world, or else this glutton be,\n",
      "\n",
      "    To eat the world's due, by the grave and thee.\n",
      "\n",
      "\n",
      "\n",
      "\n",
      "\n",
      "                     2\n",
      "\n",
      "  When forty winters shall besiege thy brow,\n",
      "\n",
      "  And dig deep trenches in thy beauty's field,\n",
      "\n",
      "  Thy youth's proud livery so gazed on now,\n",
      "\n",
      "  Will be a tattered weed of small worth held:\n",
      "\n",
      "  Then being asked, where all thy beauty lies,\n",
      "\n",
      "  Where all the treasure of thy lusty days;\n",
      "\n",
      "  To say within thine own deep sunken eyes,\n",
      "\n",
      "  Were an all-eating shame, and thriftless praise.\n",
      "\n",
      "  How much more praise deserved thy beauty's use,\n",
      "\n",
      "  If thou couldst answer 'This fair child of mine\n",
      "\n",
      "  Shall sum my count, and make my old excuse'\n",
      "\n",
      "  Proving his beauty by succession thine.\n",
      "\n",
      "    This were to be new made when thou art old,\n",
      "\n",
      "    And see thy blood warm when thou feel'st it cold.\n",
      "\n",
      "\n",
      "\n",
      "\n",
      "\n",
      "                     3\n",
      "\n",
      "  Look in thy glass and tell the face thou viewest,\n",
      "\n",
      "  Now is the time that face should form another,\n",
      "\n",
      "  Whose fresh repair if now thou not renewest,\n",
      "\n",
      "  Thou dost beguile the world, unbless some mother.\n",
      "\n",
      "  For where is she so fair whose uneared womb\n",
      "\n",
      "  Disdains the tillage of thy husbandry?\n",
      "\n",
      "  Or who is he so fond will be the tomb,\n",
      "\n",
      "  Of his self-love to stop posterity?\n",
      "\n",
      "  Thou art thy mother's glass and she in thee\n",
      "\n",
      "  Calls back the lovely April of her prime,\n",
      "\n",
      "  So thou through windows of thine age shalt see,\n",
      "\n",
      "  Despite of wrinkles this thy golden time.\n",
      "\n",
      "    But if thou live remembered not to be,\n",
      "\n",
      "    Die single and thine image dies with thee.\n",
      "\n",
      "\n",
      "\n",
      "\n",
      "\n",
      "                     4\n",
      "\n",
      "  Unthrifty loveliness why dost thou spend,\n",
      "\n",
      "  Upon thy self thy beauty's legacy?\n",
      "\n",
      "  Nature's bequest gives nothing but doth lend,\n",
      "\n",
      "  And being frank she lends to those are free:\n",
      "\n",
      "  Then beauteous niggard why dost thou abuse,\n",
      "\n",
      "  The bounteous largess given thee to give?\n",
      "\n",
      "  Profitless usurer why dost thou use\n",
      "\n",
      "  So great a sum of sums yet canst not live?\n",
      "\n",
      "  For having traffic with thy self alone,\n",
      "\n",
      "  Thou of thy self thy sweet self dost deceive,\n",
      "\n",
      "  Then how when nature calls thee to be gone,\n",
      "\n",
      "  What acceptable audit canst thou leave?\n",
      "\n",
      "    Thy unused beauty must be tombed with thee,\n",
      "\n",
      "    Which used lives th' executor to be.\n",
      "\n",
      "\n",
      "\n",
      "\n",
      "\n",
      "                     5\n",
      "\n",
      "  Those hours that with gentle work did frame\n",
      "\n",
      "  The lovely gaze where every eye doth dwell\n",
      "\n",
      "  Will play the tyrants to the very same,\n",
      "\n",
      "  And that unfair which fairly doth excel:\n",
      "\n",
      "  For never-resting time leads summer on\n",
      "\n",
      "  To hideous winter and confounds him there,\n",
      "\n",
      "  Sap checked with frost and lusty leaves quite gone,\n",
      "\n",
      "  Beauty o'er-snowed and bareness every where:\n",
      "\n",
      "  Then were not summer's distillation left\n",
      "\n",
      "  A liquid prisoner pent in walls of glass,\n",
      "\n",
      "  Beauty's effect with beauty were bereft,\n",
      "\n",
      "  Nor it nor no remembrance what it was.\n",
      "\n",
      "    But flowers distilled though they with winter meet,\n",
      "\n",
      "    Leese but their show, their substance still lives sweet.\n",
      "\n",
      "\n",
      "\n",
      "\n",
      "\n",
      "                     6\n",
      "\n",
      "  Then let not winter's ragged hand deface,\n",
      "\n",
      "  In thee thy summer ere thou be distilled:\n",
      "\n",
      "  Make sweet some vial; treasure thou some place,\n",
      "\n",
      "  With beauty's treasure ere it be self-killed:\n",
      "\n",
      "  That use is not forbidden usury,\n",
      "\n",
      "  Which happies those that pay the willing loan;\n",
      "\n",
      "  That's for thy self to breed another thee,\n",
      "\n",
      "  Or ten times happier be it ten for one,\n",
      "\n",
      "  Ten times thy self were happier than thou art,\n",
      "\n",
      "  If ten of thine ten times refigured thee:\n",
      "\n",
      "  Then what could death do if thou shouldst depart,\n",
      "\n",
      "  Leaving thee living in posterity?\n",
      "\n",
      "    Be not self-willed for thou art much too fair,\n",
      "\n",
      "    To be death's conquest and make worms thine heir.\n",
      "\n",
      "\n",
      "\n",
      "\n",
      "\n",
      "                     7\n",
      "\n",
      "  Lo in the orient when the gracious light\n",
      "\n",
      "  Lifts up his burning head, each under eye\n",
      "\n",
      "  Doth homage to his new-appearing sight,\n",
      "\n",
      "  Serving with looks his sacred majesty,\n",
      "\n",
      "  And having climbed the steep-up heavenly hill,\n",
      "\n",
      "  Resembling strong youth in his middle age,\n",
      "\n",
      "  Yet mortal looks adore his beauty still,\n",
      "\n",
      "  Attending on his golden pilgrimage:\n",
      "\n",
      "  But when from highmost pitch with weary car,\n",
      "\n",
      "  Like feeble age he reeleth from the day,\n",
      "\n",
      "  The eyes (fore duteous) now converted are\n",
      "\n",
      "  From his low tract and look another way:\n",
      "\n",
      "    So thou, thy self out-going in thy noon:\n",
      "\n",
      "    Unlooked on diest unless thou get a son.\n",
      "\n",
      "\n",
      "\n",
      "\n",
      "\n",
      "                     8\n",
      "\n",
      "  Music to hear, why hear'st thou music sadly?\n",
      "\n",
      "  Sweets with sweets war not, joy delights in joy:\n",
      "\n",
      "  Why lov'st thou that which thou receiv'st not gladly,\n",
      "\n",
      "  Or else receiv'st with pleasure thine annoy?\n",
      "\n",
      "  If the true concord of well-tuned sounds,\n",
      "\n",
      "  By unions married do offend thine ear,\n",
      "\n",
      "  They do but sweetly chide thee, who confounds\n",
      "\n",
      "  In singleness the parts that thou shouldst bear:\n",
      "\n",
      "  Mark how one string sweet husband to another,\n",
      "\n",
      "  Strikes each in each by mutual ordering;\n",
      "\n",
      "  Resembling sire, and child, and happy mother,\n",
      "\n",
      "  Who all in one, one pleasing note do sing:\n",
      "\n",
      "    Whose speechless song being many, seeming one,\n",
      "\n",
      "    Sings this to thee, 'Thou single wilt prove none'.\n",
      "\n",
      "\n",
      "\n",
      "\n",
      "\n",
      "                     9\n",
      "\n",
      "  Is it for fear to wet a widow's eye,\n",
      "\n",
      "  That thou consum'st thy self in single life?\n",
      "\n",
      "  Ah, if thou issueless shalt hap to die,\n",
      "\n",
      "  The world will wail thee like a makeless wife,\n",
      "\n",
      "  The world will be thy widow and still weep,\n",
      "\n",
      "  That thou no form of thee hast left behind,\n",
      "\n",
      "  When every private widow well may keep,\n",
      "\n",
      "  By children's eyes, her husband's shape in mind:\n",
      "\n",
      "  Look what an unthrift in the world doth spend\n",
      "\n",
      "  Shifts but his place, for still the world enjoys it;\n",
      "\n",
      "  But beauty's waste hath in the world an end,\n",
      "\n",
      "  And kept unused the user so destroys it:\n",
      "\n",
      "    No love toward others in that bosom sits\n",
      "\n",
      "    That on himself such murd'rous shame commits.\n",
      "\n",
      "\n",
      "\n",
      "\n",
      "\n",
      "                     10\n",
      "\n",
      "  For shame deny that thou bear'st love to any\n",
      "\n",
      "  Who for thy self art so unprovident.\n",
      "\n",
      "  Grant if thou wilt, thou art beloved of many,\n",
      "\n",
      "  But that thou none lov'st is most evident:\n",
      "\n",
      "  For thou art so possessed with murd'rous hate,\n",
      "\n",
      "  That 'gainst thy self thou stick'st not to conspire,\n",
      "\n",
      "  Seeking that beauteous roof to ruinate\n",
      "\n",
      "  Which to repair should be thy chief desire:\n",
      "\n",
      "  O change thy thought, that I may change my mind,\n",
      "\n",
      "  Shall hate be fairer lodged than gentle love?\n",
      "\n",
      "  Be as thy presence is gracious and kind,\n",
      "\n",
      "  Or to thy self at least kind-hearted prove,\n",
      "\n",
      "    Make thee another self for love of me,\n",
      "\n",
      "    That beauty still may live in thine or thee.\n",
      "\n",
      "['1609\\n', '\\n', 'THE SONNETS\\n', '\\n', 'by William Shakespeare\\n', '\\n', '\\n', '\\n', '                     1\\n', '  From fairest creatures we desire increase,\\n', \"  That thereby beauty's rose might never die,\\n\", '  But as the riper should by time decease,\\n', '  His tender heir might bear his memory:\\n', '  But thou contracted to thine own bright eyes,\\n', \"  Feed'st thy light's flame with self-substantial fuel,\\n\", '  Making a famine where abundance lies,\\n', '  Thy self thy foe, to thy sweet self too cruel:\\n', \"  Thou that art now the world's fresh ornament,\\n\", '  And only herald to the gaudy spring,\\n', '  Within thine own bud buriest thy content,\\n', \"  And tender churl mak'st waste in niggarding:\\n\", '    Pity the world, or else this glutton be,\\n', \"    To eat the world's due, by the grave and thee.\\n\", '\\n', '\\n', '                     2\\n', '  When forty winters shall besiege thy brow,\\n', \"  And dig deep trenches in thy beauty's field,\\n\", \"  Thy youth's proud livery so gazed on now,\\n\", '  Will be a tattered weed of small worth held:\\n', '  Then being asked, where all thy beauty lies,\\n', '  Where all the treasure of thy lusty days;\\n', '  To say within thine own deep sunken eyes,\\n', '  Were an all-eating shame, and thriftless praise.\\n', \"  How much more praise deserved thy beauty's use,\\n\", \"  If thou couldst answer 'This fair child of mine\\n\", \"  Shall sum my count, and make my old excuse'\\n\", '  Proving his beauty by succession thine.\\n', '    This were to be new made when thou art old,\\n', \"    And see thy blood warm when thou feel'st it cold.\\n\", '\\n', '\\n', '                     3\\n', '  Look in thy glass and tell the face thou viewest,\\n', '  Now is the time that face should form another,\\n', '  Whose fresh repair if now thou not renewest,\\n', '  Thou dost beguile the world, unbless some mother.\\n', '  For where is she so fair whose uneared womb\\n', '  Disdains the tillage of thy husbandry?\\n', '  Or who is he so fond will be the tomb,\\n', '  Of his self-love to stop posterity?\\n', \"  Thou art thy mother's glass and she in thee\\n\", '  Calls back the lovely April of her prime,\\n', '  So thou through windows of thine age shalt see,\\n', '  Despite of wrinkles this thy golden time.\\n', '    But if thou live remembered not to be,\\n', '    Die single and thine image dies with thee.\\n', '\\n', '\\n', '                     4\\n', '  Unthrifty loveliness why dost thou spend,\\n', \"  Upon thy self thy beauty's legacy?\\n\", \"  Nature's bequest gives nothing but doth lend,\\n\", '  And being frank she lends to those are free:\\n', '  Then beauteous niggard why dost thou abuse,\\n', '  The bounteous largess given thee to give?\\n', '  Profitless usurer why dost thou use\\n', '  So great a sum of sums yet canst not live?\\n', '  For having traffic with thy self alone,\\n', '  Thou of thy self thy sweet self dost deceive,\\n', '  Then how when nature calls thee to be gone,\\n', '  What acceptable audit canst thou leave?\\n', '    Thy unused beauty must be tombed with thee,\\n', \"    Which used lives th' executor to be.\\n\", '\\n', '\\n', '                     5\\n', '  Those hours that with gentle work did frame\\n', '  The lovely gaze where every eye doth dwell\\n', '  Will play the tyrants to the very same,\\n', '  And that unfair which fairly doth excel:\\n', '  For never-resting time leads summer on\\n', '  To hideous winter and confounds him there,\\n', '  Sap checked with frost and lusty leaves quite gone,\\n', \"  Beauty o'er-snowed and bareness every where:\\n\", \"  Then were not summer's distillation left\\n\", '  A liquid prisoner pent in walls of glass,\\n', \"  Beauty's effect with beauty were bereft,\\n\", '  Nor it nor no remembrance what it was.\\n', '    But flowers distilled though they with winter meet,\\n', '    Leese but their show, their substance still lives sweet.\\n', '\\n', '\\n', '                     6\\n', \"  Then let not winter's ragged hand deface,\\n\", '  In thee thy summer ere thou be distilled:\\n', '  Make sweet some vial; treasure thou some place,\\n', \"  With beauty's treasure ere it be self-killed:\\n\", '  That use is not forbidden usury,\\n', '  Which happies those that pay the willing loan;\\n', \"  That's for thy self to breed another thee,\\n\", '  Or ten times happier be it ten for one,\\n', '  Ten times thy self were happier than thou art,\\n', '  If ten of thine ten times refigured thee:\\n', '  Then what could death do if thou shouldst depart,\\n', '  Leaving thee living in posterity?\\n', '    Be not self-willed for thou art much too fair,\\n', \"    To be death's conquest and make worms thine heir.\\n\", '\\n', '\\n', '                     7\\n', '  Lo in the orient when the gracious light\\n', '  Lifts up his burning head, each under eye\\n', '  Doth homage to his new-appearing sight,\\n', '  Serving with looks his sacred majesty,\\n', '  And having climbed the steep-up heavenly hill,\\n', '  Resembling strong youth in his middle age,\\n', '  Yet mortal looks adore his beauty still,\\n', '  Attending on his golden pilgrimage:\\n', '  But when from highmost pitch with weary car,\\n', '  Like feeble age he reeleth from the day,\\n', '  The eyes (fore duteous) now converted are\\n', '  From his low tract and look another way:\\n', '    So thou, thy self out-going in thy noon:\\n', '    Unlooked on diest unless thou get a son.\\n', '\\n', '\\n', '                     8\\n', \"  Music to hear, why hear'st thou music sadly?\\n\", '  Sweets with sweets war not, joy delights in joy:\\n', \"  Why lov'st thou that which thou receiv'st not gladly,\\n\", \"  Or else receiv'st with pleasure thine annoy?\\n\", '  If the true concord of well-tuned sounds,\\n', '  By unions married do offend thine ear,\\n', '  They do but sweetly chide thee, who confounds\\n', '  In singleness the parts that thou shouldst bear:\\n', '  Mark how one string sweet husband to another,\\n', '  Strikes each in each by mutual ordering;\\n', '  Resembling sire, and child, and happy mother,\\n', '  Who all in one, one pleasing note do sing:\\n', '    Whose speechless song being many, seeming one,\\n', \"    Sings this to thee, 'Thou single wilt prove none'.\\n\", '\\n', '\\n', '                     9\\n', \"  Is it for fear to wet a widow's eye,\\n\", \"  That thou consum'st thy self in single life?\\n\", '  Ah, if thou issueless shalt hap to die,\\n', '  The world will wail thee like a makeless wife,\\n', '  The world will be thy widow and still weep,\\n', '  That thou no form of thee hast left behind,\\n', '  When every private widow well may keep,\\n', \"  By children's eyes, her husband's shape in mind:\\n\", '  Look what an unthrift in the world doth spend\\n', '  Shifts but his place, for still the world enjoys it;\\n', \"  But beauty's waste hath in the world an end,\\n\", '  And kept unused the user so destroys it:\\n', '    No love toward others in that bosom sits\\n', \"    That on himself such murd'rous shame commits.\\n\", '\\n', '\\n', '                     10\\n', \"  For shame deny that thou bear'st love to any\\n\", '  Who for thy self art so unprovident.\\n', '  Grant if thou wilt, thou art beloved of many,\\n', \"  But that thou none lov'st is most evident:\\n\", \"  For thou art so possessed with murd'rous hate,\\n\", \"  That 'gainst thy self thou stick'st not to conspire,\\n\", '  Seeking that beauteous roof to ruinate\\n', '  Which to repair should be thy chief desire:\\n', '  O change thy thought, that I may change my mind,\\n', '  Shall hate be fairer lodged than gentle love?\\n', '  Be as thy presence is gracious and kind,\\n', '  Or to thy self at least kind-hearted prove,\\n', '    Make thee another self for love of me,\\n', '    That beauty still may live in thine or thee.\\n']\n"
     ]
    }
   ],
   "source": [
    "def display_contents_file(file_name):\n",
    "    #with open( file_name ) as fp:\n",
    "    fp = open(file_name, \"r\")\n",
    "    buffer = fp.readlines()\n",
    "    for line in buffer:\n",
    "        print(line)\n",
    "    print(buffer)\n",
    "    fp.close()\n",
    "    \n",
    "display_contents_file(\"Shakespeare.txt\")"
   ]
  },
  {
   "cell_type": "markdown",
   "metadata": {},
   "source": [
    "### Reading lines using `readline()`"
   ]
  },
  {
   "cell_type": "markdown",
   "metadata": {},
   "source": [
    "To read a text file line by line, you can use the `readline()` method. The `readline()` method reads characters starting at the file pointer up to and including the next newline character, and returns them as a string. You can recognize that you have reached the end of the file by the fact that no characters are read anymore, i.e., the string that is returned is empty."
   ]
  },
  {
   "cell_type": "code",
   "execution_count": 5,
   "metadata": {},
   "outputs": [
    {
     "name": "stdout",
     "output_type": "stream",
     "text": [
      "['1609\\n', '\\n', 'THE SONNETS\\n', '\\n', 'by William Shakespeare\\n', '\\n', '\\n', '\\n', '                     1\\n', '  From fairest creatures we desire increase,\\n', \"  That thereby beauty's rose might never die,\\n\", '  But as the riper should by time decease,\\n', '  His tender heir might bear his memory:\\n', '  But thou contracted to thine own bright eyes,\\n', \"  Feed'st thy light's flame with self-substantial fuel,\\n\", '  Making a famine where abundance lies,\\n', '  Thy self thy foe, to thy sweet self too cruel:\\n', \"  Thou that art now the world's fresh ornament,\\n\", '  And only herald to the gaudy spring,\\n', '  Within thine own bud buriest thy content,\\n', \"  And tender churl mak'st waste in niggarding:\\n\", '    Pity the world, or else this glutton be,\\n', \"    To eat the world's due, by the grave and thee.\\n\", '\\n', '\\n', '                     2\\n', '  When forty winters shall besiege thy brow,\\n', \"  And dig deep trenches in thy beauty's field,\\n\", \"  Thy youth's proud livery so gazed on now,\\n\", '  Will be a tattered weed of small worth held:\\n', '  Then being asked, where all thy beauty lies,\\n', '  Where all the treasure of thy lusty days;\\n', '  To say within thine own deep sunken eyes,\\n', '  Were an all-eating shame, and thriftless praise.\\n', \"  How much more praise deserved thy beauty's use,\\n\", \"  If thou couldst answer 'This fair child of mine\\n\", \"  Shall sum my count, and make my old excuse'\\n\", '  Proving his beauty by succession thine.\\n', '    This were to be new made when thou art old,\\n', \"    And see thy blood warm when thou feel'st it cold.\\n\", '\\n', '\\n', '                     3\\n', '  Look in thy glass and tell the face thou viewest,\\n', '  Now is the time that face should form another,\\n', '  Whose fresh repair if now thou not renewest,\\n', '  Thou dost beguile the world, unbless some mother.\\n', '  For where is she so fair whose uneared womb\\n', '  Disdains the tillage of thy husbandry?\\n', '  Or who is he so fond will be the tomb,\\n', '  Of his self-love to stop posterity?\\n', \"  Thou art thy mother's glass and she in thee\\n\", '  Calls back the lovely April of her prime,\\n', '  So thou through windows of thine age shalt see,\\n', '  Despite of wrinkles this thy golden time.\\n', '    But if thou live remembered not to be,\\n', '    Die single and thine image dies with thee.\\n', '\\n', '\\n', '                     4\\n', '  Unthrifty loveliness why dost thou spend,\\n', \"  Upon thy self thy beauty's legacy?\\n\", \"  Nature's bequest gives nothing but doth lend,\\n\", '  And being frank she lends to those are free:\\n', '  Then beauteous niggard why dost thou abuse,\\n', '  The bounteous largess given thee to give?\\n', '  Profitless usurer why dost thou use\\n', '  So great a sum of sums yet canst not live?\\n', '  For having traffic with thy self alone,\\n', '  Thou of thy self thy sweet self dost deceive,\\n', '  Then how when nature calls thee to be gone,\\n', '  What acceptable audit canst thou leave?\\n', '    Thy unused beauty must be tombed with thee,\\n', \"    Which used lives th' executor to be.\\n\", '\\n', '\\n', '                     5\\n', '  Those hours that with gentle work did frame\\n', '  The lovely gaze where every eye doth dwell\\n', '  Will play the tyrants to the very same,\\n', '  And that unfair which fairly doth excel:\\n', '  For never-resting time leads summer on\\n', '  To hideous winter and confounds him there,\\n', '  Sap checked with frost and lusty leaves quite gone,\\n', \"  Beauty o'er-snowed and bareness every where:\\n\", \"  Then were not summer's distillation left\\n\", '  A liquid prisoner pent in walls of glass,\\n', \"  Beauty's effect with beauty were bereft,\\n\", '  Nor it nor no remembrance what it was.\\n', '    But flowers distilled though they with winter meet,\\n', '    Leese but their show, their substance still lives sweet.\\n', '\\n', '\\n', '                     6\\n', \"  Then let not winter's ragged hand deface,\\n\", '  In thee thy summer ere thou be distilled:\\n', '  Make sweet some vial; treasure thou some place,\\n', \"  With beauty's treasure ere it be self-killed:\\n\", '  That use is not forbidden usury,\\n', '  Which happies those that pay the willing loan;\\n', \"  That's for thy self to breed another thee,\\n\", '  Or ten times happier be it ten for one,\\n', '  Ten times thy self were happier than thou art,\\n', '  If ten of thine ten times refigured thee:\\n', '  Then what could death do if thou shouldst depart,\\n', '  Leaving thee living in posterity?\\n', '    Be not self-willed for thou art much too fair,\\n', \"    To be death's conquest and make worms thine heir.\\n\", '\\n', '\\n', '                     7\\n', '  Lo in the orient when the gracious light\\n', '  Lifts up his burning head, each under eye\\n', '  Doth homage to his new-appearing sight,\\n', '  Serving with looks his sacred majesty,\\n', '  And having climbed the steep-up heavenly hill,\\n', '  Resembling strong youth in his middle age,\\n', '  Yet mortal looks adore his beauty still,\\n', '  Attending on his golden pilgrimage:\\n', '  But when from highmost pitch with weary car,\\n', '  Like feeble age he reeleth from the day,\\n', '  The eyes (fore duteous) now converted are\\n', '  From his low tract and look another way:\\n', '    So thou, thy self out-going in thy noon:\\n', '    Unlooked on diest unless thou get a son.\\n', '\\n', '\\n', '                     8\\n', \"  Music to hear, why hear'st thou music sadly?\\n\", '  Sweets with sweets war not, joy delights in joy:\\n', \"  Why lov'st thou that which thou receiv'st not gladly,\\n\", \"  Or else receiv'st with pleasure thine annoy?\\n\", '  If the true concord of well-tuned sounds,\\n', '  By unions married do offend thine ear,\\n', '  They do but sweetly chide thee, who confounds\\n', '  In singleness the parts that thou shouldst bear:\\n', '  Mark how one string sweet husband to another,\\n', '  Strikes each in each by mutual ordering;\\n', '  Resembling sire, and child, and happy mother,\\n', '  Who all in one, one pleasing note do sing:\\n', '    Whose speechless song being many, seeming one,\\n', \"    Sings this to thee, 'Thou single wilt prove none'.\\n\", '\\n', '\\n', '                     9\\n', \"  Is it for fear to wet a widow's eye,\\n\", \"  That thou consum'st thy self in single life?\\n\", '  Ah, if thou issueless shalt hap to die,\\n', '  The world will wail thee like a makeless wife,\\n', '  The world will be thy widow and still weep,\\n', '  That thou no form of thee hast left behind,\\n', '  When every private widow well may keep,\\n', \"  By children's eyes, her husband's shape in mind:\\n\", '  Look what an unthrift in the world doth spend\\n', '  Shifts but his place, for still the world enjoys it;\\n', \"  But beauty's waste hath in the world an end,\\n\", '  And kept unused the user so destroys it:\\n', '    No love toward others in that bosom sits\\n', \"    That on himself such murd'rous shame commits.\\n\", '\\n', '\\n', '                     10\\n', \"  For shame deny that thou bear'st love to any\\n\", '  Who for thy self art so unprovident.\\n', '  Grant if thou wilt, thou art beloved of many,\\n', \"  But that thou none lov'st is most evident:\\n\", \"  For thou art so possessed with murd'rous hate,\\n\", \"  That 'gainst thy self thou stick'st not to conspire,\\n\", '  Seeking that beauteous roof to ruinate\\n', '  Which to repair should be thy chief desire:\\n', '  O change thy thought, that I may change my mind,\\n', '  Shall hate be fairer lodged than gentle love?\\n', '  Be as thy presence is gracious and kind,\\n', '  Or to thy self at least kind-hearted prove,\\n', '    Make thee another self for love of me,\\n', '    That beauty still may live in thine or thee.\\n']\n"
     ]
    }
   ],
   "source": [
    "def display_contents_file2(file_name):\n",
    "    fp = open( file_name , \"r\")\n",
    "    buffer = fp.readlines()\n",
    "    print(buffer)\n",
    "   # for line in buffer:\n",
    "    #    print (line)\n",
    "    #fp.close()\n",
    "    \n",
    "display_contents_file2(\"Shakespeare.txt\")"
   ]
  },
  {
   "cell_type": "code",
   "execution_count": 6,
   "metadata": {},
   "outputs": [
    {
     "name": "stdout",
     "output_type": "stream",
     "text": [
      "1609\n",
      "\n",
      "\n",
      "\n",
      "THE SONNETS\n",
      "\n",
      "\n",
      "\n",
      "by William Shakespeare\n",
      "\n",
      "\n",
      "\n",
      "\n",
      "\n",
      "\n",
      "\n",
      "                     1\n",
      "\n",
      "  From fairest creatures we desire increase,\n",
      "\n",
      "  That thereby beauty's rose might never die,\n",
      "\n",
      "  But as the riper should by time decease,\n",
      "\n",
      "  His tender heir might bear his memory:\n",
      "\n",
      "  But thou contracted to thine own bright eyes,\n",
      "\n",
      "  Feed'st thy light's flame with self-substantial fuel,\n",
      "\n",
      "  Making a famine where abundance lies,\n",
      "\n",
      "  Thy self thy foe, to thy sweet self too cruel:\n",
      "\n",
      "  Thou that art now the world's fresh ornament,\n",
      "\n",
      "  And only herald to the gaudy spring,\n",
      "\n",
      "  Within thine own bud buriest thy content,\n",
      "\n",
      "  And tender churl mak'st waste in niggarding:\n",
      "\n",
      "    Pity the world, or else this glutton be,\n",
      "\n",
      "    To eat the world's due, by the grave and thee.\n",
      "\n",
      "\n",
      "\n",
      "\n",
      "\n",
      "                     2\n",
      "\n",
      "  When forty winters shall besiege thy brow,\n",
      "\n",
      "  And dig deep trenches in thy beauty's field,\n",
      "\n",
      "  Thy youth's proud livery so gazed on now,\n",
      "\n",
      "  Will be a tattered weed of small worth held:\n",
      "\n",
      "  Then being asked, where all thy beauty lies,\n",
      "\n",
      "  Where all the treasure of thy lusty days;\n",
      "\n",
      "  To say within thine own deep sunken eyes,\n",
      "\n",
      "  Were an all-eating shame, and thriftless praise.\n",
      "\n",
      "  How much more praise deserved thy beauty's use,\n",
      "\n",
      "  If thou couldst answer 'This fair child of mine\n",
      "\n",
      "  Shall sum my count, and make my old excuse'\n",
      "\n",
      "  Proving his beauty by succession thine.\n",
      "\n",
      "    This were to be new made when thou art old,\n",
      "\n",
      "    And see thy blood warm when thou feel'st it cold.\n",
      "\n",
      "\n",
      "\n",
      "\n",
      "\n",
      "                     3\n",
      "\n",
      "  Look in thy glass and tell the face thou viewest,\n",
      "\n",
      "  Now is the time that face should form another,\n",
      "\n",
      "  Whose fresh repair if now thou not renewest,\n",
      "\n",
      "  Thou dost beguile the world, unbless some mother.\n",
      "\n",
      "  For where is she so fair whose uneared womb\n",
      "\n",
      "  Disdains the tillage of thy husbandry?\n",
      "\n",
      "  Or who is he so fond will be the tomb,\n",
      "\n",
      "  Of his self-love to stop posterity?\n",
      "\n",
      "  Thou art thy mother's glass and she in thee\n",
      "\n",
      "  Calls back the lovely April of her prime,\n",
      "\n",
      "  So thou through windows of thine age shalt see,\n",
      "\n",
      "  Despite of wrinkles this thy golden time.\n",
      "\n",
      "    But if thou live remembered not to be,\n",
      "\n",
      "    Die single and thine image dies with thee.\n",
      "\n",
      "\n",
      "\n",
      "\n",
      "\n",
      "                     4\n",
      "\n",
      "  Unthrifty loveliness why dost thou spend,\n",
      "\n",
      "  Upon thy self thy beauty's legacy?\n",
      "\n",
      "  Nature's bequest gives nothing but doth lend,\n",
      "\n",
      "  And being frank she lends to those are free:\n",
      "\n",
      "  Then beauteous niggard why dost thou abuse,\n",
      "\n",
      "  The bounteous largess given thee to give?\n",
      "\n",
      "  Profitless usurer why dost thou use\n",
      "\n",
      "  So great a sum of sums yet canst not live?\n",
      "\n",
      "  For having traffic with thy self alone,\n",
      "\n",
      "  Thou of thy self thy sweet self dost deceive,\n",
      "\n",
      "  Then how when nature calls thee to be gone,\n",
      "\n",
      "  What acceptable audit canst thou leave?\n",
      "\n",
      "    Thy unused beauty must be tombed with thee,\n",
      "\n",
      "    Which used lives th' executor to be.\n",
      "\n",
      "\n",
      "\n",
      "\n",
      "\n",
      "                     5\n",
      "\n",
      "  Those hours that with gentle work did frame\n",
      "\n",
      "  The lovely gaze where every eye doth dwell\n",
      "\n",
      "  Will play the tyrants to the very same,\n",
      "\n",
      "  And that unfair which fairly doth excel:\n",
      "\n",
      "  For never-resting time leads summer on\n",
      "\n",
      "  To hideous winter and confounds him there,\n",
      "\n",
      "  Sap checked with frost and lusty leaves quite gone,\n",
      "\n",
      "  Beauty o'er-snowed and bareness every where:\n",
      "\n",
      "  Then were not summer's distillation left\n",
      "\n",
      "  A liquid prisoner pent in walls of glass,\n",
      "\n",
      "  Beauty's effect with beauty were bereft,\n",
      "\n",
      "  Nor it nor no remembrance what it was.\n",
      "\n",
      "    But flowers distilled though they with winter meet,\n",
      "\n",
      "    Leese but their show, their substance still lives sweet.\n",
      "\n",
      "\n",
      "\n",
      "\n",
      "\n",
      "                     6\n",
      "\n",
      "  Then let not winter's ragged hand deface,\n",
      "\n",
      "  In thee thy summer ere thou be distilled:\n",
      "\n",
      "  Make sweet some vial; treasure thou some place,\n",
      "\n",
      "  With beauty's treasure ere it be self-killed:\n",
      "\n",
      "  That use is not forbidden usury,\n",
      "\n",
      "  Which happies those that pay the willing loan;\n",
      "\n",
      "  That's for thy self to breed another thee,\n",
      "\n",
      "  Or ten times happier be it ten for one,\n",
      "\n",
      "  Ten times thy self were happier than thou art,\n",
      "\n",
      "  If ten of thine ten times refigured thee:\n",
      "\n",
      "  Then what could death do if thou shouldst depart,\n",
      "\n",
      "  Leaving thee living in posterity?\n",
      "\n",
      "    Be not self-willed for thou art much too fair,\n",
      "\n",
      "    To be death's conquest and make worms thine heir.\n",
      "\n",
      "\n",
      "\n",
      "\n",
      "\n",
      "                     7\n",
      "\n",
      "  Lo in the orient when the gracious light\n",
      "\n",
      "  Lifts up his burning head, each under eye\n",
      "\n",
      "  Doth homage to his new-appearing sight,\n",
      "\n",
      "  Serving with looks his sacred majesty,\n",
      "\n",
      "  And having climbed the steep-up heavenly hill,\n",
      "\n",
      "  Resembling strong youth in his middle age,\n",
      "\n",
      "  Yet mortal looks adore his beauty still,\n",
      "\n",
      "  Attending on his golden pilgrimage:\n",
      "\n",
      "  But when from highmost pitch with weary car,\n",
      "\n",
      "  Like feeble age he reeleth from the day,\n",
      "\n",
      "  The eyes (fore duteous) now converted are\n",
      "\n",
      "  From his low tract and look another way:\n",
      "\n",
      "    So thou, thy self out-going in thy noon:\n",
      "\n",
      "    Unlooked on diest unless thou get a son.\n",
      "\n",
      "\n",
      "\n",
      "\n",
      "\n",
      "                     8\n",
      "\n",
      "  Music to hear, why hear'st thou music sadly?\n",
      "\n",
      "  Sweets with sweets war not, joy delights in joy:\n",
      "\n",
      "  Why lov'st thou that which thou receiv'st not gladly,\n",
      "\n",
      "  Or else receiv'st with pleasure thine annoy?\n",
      "\n",
      "  If the true concord of well-tuned sounds,\n",
      "\n",
      "  By unions married do offend thine ear,\n",
      "\n",
      "  They do but sweetly chide thee, who confounds\n",
      "\n",
      "  In singleness the parts that thou shouldst bear:\n",
      "\n",
      "  Mark how one string sweet husband to another,\n",
      "\n",
      "  Strikes each in each by mutual ordering;\n",
      "\n",
      "  Resembling sire, and child, and happy mother,\n",
      "\n",
      "  Who all in one, one pleasing note do sing:\n",
      "\n",
      "    Whose speechless song being many, seeming one,\n",
      "\n",
      "    Sings this to thee, 'Thou single wilt prove none'.\n",
      "\n",
      "\n",
      "\n",
      "\n",
      "\n",
      "                     9\n",
      "\n",
      "  Is it for fear to wet a widow's eye,\n",
      "\n",
      "  That thou consum'st thy self in single life?\n",
      "\n",
      "  Ah, if thou issueless shalt hap to die,\n",
      "\n",
      "  The world will wail thee like a makeless wife,\n",
      "\n",
      "  The world will be thy widow and still weep,\n",
      "\n",
      "  That thou no form of thee hast left behind,\n",
      "\n",
      "  When every private widow well may keep,\n",
      "\n",
      "  By children's eyes, her husband's shape in mind:\n",
      "\n",
      "  Look what an unthrift in the world doth spend\n",
      "\n",
      "  Shifts but his place, for still the world enjoys it;\n",
      "\n",
      "  But beauty's waste hath in the world an end,\n",
      "\n",
      "  And kept unused the user so destroys it:\n",
      "\n",
      "    No love toward others in that bosom sits\n",
      "\n",
      "    That on himself such murd'rous shame commits.\n",
      "\n",
      "\n",
      "\n",
      "\n",
      "\n",
      "                     10\n",
      "\n",
      "  For shame deny that thou bear'st love to any\n",
      "\n",
      "  Who for thy self art so unprovident.\n",
      "\n",
      "  Grant if thou wilt, thou art beloved of many,\n",
      "\n",
      "  But that thou none lov'st is most evident:\n",
      "\n",
      "  For thou art so possessed with murd'rous hate,\n",
      "\n",
      "  That 'gainst thy self thou stick'st not to conspire,\n",
      "\n",
      "  Seeking that beauteous roof to ruinate\n",
      "\n",
      "  Which to repair should be thy chief desire:\n",
      "\n",
      "  O change thy thought, that I may change my mind,\n",
      "\n",
      "  Shall hate be fairer lodged than gentle love?\n",
      "\n",
      "  Be as thy presence is gracious and kind,\n",
      "\n",
      "  Or to thy self at least kind-hearted prove,\n",
      "\n",
      "    Make thee another self for love of me,\n",
      "\n",
      "    That beauty still may live in thine or thee.\n",
      "\n"
     ]
    }
   ],
   "source": [
    "def display_contents_file2(file_name):\n",
    "    fp = open( file_name )\n",
    "    while True:\n",
    "        buffer = fp.readline()             \n",
    "        if buffer == \"\":\n",
    "            break     \n",
    "        print( buffer )\n",
    "    fp.close()\n",
    "display_contents_file2(\"Shakespeare.txt\")"
   ]
  },
  {
   "cell_type": "code",
   "execution_count": 7,
   "metadata": {},
   "outputs": [
    {
     "name": "stdout",
     "output_type": "stream",
     "text": [
      "1609\n",
      "\n"
     ]
    }
   ],
   "source": [
    "fp = open(\"Shakespeare.txt\", \"r\")                                       \n",
    "list_ = fp.readline()\n",
    "print (list_)\n",
    "#for line in line:\n",
    " #   print(line)\n",
    "\n",
    "#print(fp.readline())\n",
    "fp.close ()"
   ]
  },
  {
   "cell_type": "markdown",
   "metadata": {},
   "source": [
    "Notice that the output of the code above has an empty line between each of the lines displayed. Where is that extra line coming from? Think about it.\n",
    "\n",
    "The extra line is there because the `readline()` method returns a string of the characters read, up to and *including* the newline character. So when the `buffer` is printed, it prints a newline character too. And since the `print()` function *also* moves to a new line after it is executed, there is an empty line printed after each line of text."
   ]
  },
  {
   "cell_type": "markdown",
   "metadata": {},
   "source": [
    "A collary to the `readline()` method is the `readlines()` method. `readlines()` reads all the lines in the file, and returns them as a list of strings. The strings include the newline characters."
   ]
  },
  {
   "cell_type": "markdown",
   "metadata": {},
   "source": [
    "### When to use which file-reading method"
   ]
  },
  {
   "cell_type": "markdown",
   "metadata": {},
   "source": [
    "Both the `read()` and `readlines()` method read a whole file at once. Obviously, for small files this is acceptable, but for long files you might not have enough memory to store the file contents efficiently. In such circumstances (or when you do not know the file size), you should read a file line by line with the `readline()` method.\n",
    "\n",
    "It is often a good idea, during code development, to process only the first few lines of a file. That way you limit the amount of time that the program needs to process a file, and limit its output, which makes debugging easier. For instance, the code below process the first 10 lines of one of the longer files."
   ]
  },
  {
   "cell_type": "code",
   "execution_count": 10,
   "metadata": {},
   "outputs": [
    {
     "name": "stdout",
     "output_type": "stream",
     "text": [
      "1609\n",
      "\n",
      "THE SONNETS\n",
      "\n",
      "by William Shakespeare\n",
      "\n",
      "\n",
      "\n",
      "                     1\n",
      "  From fairest creatures we desire increase,\n"
     ]
    }
   ],
   "source": [
    "def display_contents_file4(file_name):\n",
    "    fp = open(file_name)\n",
    "    count = 0\n",
    "    while count < 10:\n",
    "        buffer = fp.readline()\n",
    "        if buffer == \"\":\n",
    "            break\n",
    "        print( buffer, end=\"\" )\n",
    "        count += 1\n",
    "    fp.close()\n",
    "    \n",
    "display_contents_file4( \"Shakespeare.txt\")"
   ]
  },
  {
   "cell_type": "markdown",
   "metadata": {},
   "source": [
    "Once the program is finished and debugged, I can remove the references to `count` and change the loop to `while True`, to process the whole file.\n",
    "\n",
    "**Exercise**: Start by copying the code above in the code block below. Then adapt it to count how often the word \"from\" (with any capitalization) occurs in the text as a whole. Print only the number of occurrences of that word. If you do it correctly, you find the answer is 14 (it occurs 3 times in the first 20 lines)."
   ]
  },
  {
   "cell_type": "code",
   "execution_count": 11,
   "metadata": {},
   "outputs": [
    {
     "name": "stdout",
     "output_type": "stream",
     "text": [
      "2\n"
     ]
    }
   ],
   "source": [
    "def display_contents_file4(file_name):\n",
    "    #Your Code Here\n",
    "    \n",
    "display_contents_file4( \"Shakespeare.txt\")"
   ]
  },
  {
   "cell_type": "markdown",
   "metadata": {},
   "source": []
  },
  {
   "cell_type": "markdown",
   "metadata": {},
   "source": [
    "## `os.path` methods"
   ]
  },
  {
   "cell_type": "markdown",
   "metadata": {},
   "source": [
    "At this point you know everything you need to handle text files in Python. However, there are several handy functions that make your life easier when dealing with files. These are collected in the `os.path` module. As per usual, I am not going to list all of them, but I will list the ones that you will use the most.\n",
    "\n",
    "In these functions, the term \"path\" refers to a filename or a directory name, complete with parent directories (and drive letter). The parent directories (and drive letter) do not *need* to be there explicitly, but even if they are not, implicitly they still are as each file and each directory is located in a particular place in the file system."
   ]
  },
  {
   "cell_type": "markdown",
   "metadata": {},
   "source": [
    "### `exists()`"
   ]
  },
  {
   "cell_type": "markdown",
   "metadata": {},
   "source": [
    "The function `exists()` gets a path as argument, and returns `True` if that path exists, and `False` if it does not."
   ]
  },
  {
   "cell_type": "code",
   "execution_count": 21,
   "metadata": {},
   "outputs": [
    {
     "name": "stdout",
     "output_type": "stream",
     "text": [
      "Shakespeare.txt exists\n",
      "TorresMapfre.txt does not exist\n"
     ]
    },
    {
     "data": {
      "text/plain": [
       "True"
      ]
     },
     "execution_count": 21,
     "metadata": {},
     "output_type": "execute_result"
    }
   ],
   "source": [
    "from os.path import exists\n",
    "\n",
    "def check_if_path_exists(file_name):\n",
    "    if exists(file_name ):\n",
    "        return( file_name + \" exists\" )\n",
    "    else:\n",
    "        return( file_name + \" does not exist\" )\n",
    "\n",
    "print(check_if_path_exists(\"Shakespeare.txt\"))\n",
    "print(check_if_path_exists(\"TorresMapfre.txt\"))\n",
    "\n",
    "exists(\"Shakespeare.txt\")"
   ]
  },
  {
   "cell_type": "markdown",
   "metadata": {},
   "source": [
    "### `isfile()`"
   ]
  },
  {
   "cell_type": "markdown",
   "metadata": {},
   "source": [
    "`isfile()` tests if the path that is supplied as argument is a file. If it is, it returns `True`. If it is not, it returns `False`. If the path does not exist, the function also returns `False`."
   ]
  },
  {
   "cell_type": "code",
   "execution_count": 22,
   "metadata": {},
   "outputs": [
    {
     "name": "stdout",
     "output_type": "stream",
     "text": [
      "Shakespeare.txt is a file\n"
     ]
    }
   ],
   "source": [
    "from os.path import isfile\n",
    "\n",
    "def check_if_file_exists(file_name):\n",
    "    if isfile( file_name ):\n",
    "        return( file_name + \" is a file\" )\n",
    "    else:\n",
    "        return( file_name + \" is not a file\" )\n",
    "    \n",
    "print(check_if_file_exists(\"Shakespeare.txt\"))"
   ]
  },
  {
   "cell_type": "markdown",
   "metadata": {},
   "source": [
    "### `isdir()`"
   ]
  },
  {
   "cell_type": "markdown",
   "metadata": {},
   "source": [
    "`isdir()` tests if the path that is supplied as argument is a directory. If it is, it returns `True`. If it is not, it returns `False`. If the path does not exist, the function also returns `False`."
   ]
  },
  {
   "cell_type": "code",
   "execution_count": 24,
   "metadata": {},
   "outputs": [
    {
     "name": "stdout",
     "output_type": "stream",
     "text": [
      "Shakespeare.txt is not a directory\n"
     ]
    }
   ],
   "source": [
    "from os.path import isdir\n",
    "\n",
    "def check_if_path_is_dir(file_name):\n",
    "    if isdir( file_name):\n",
    "        print( file_name + \" Sheakspeare is a directory\" )\n",
    "    else:\n",
    "        print(file_name + \" is not a directory\" )\n",
    "check_if_path_is_dir(\"Shakespeare.txt\")"
   ]
  },
  {
   "cell_type": "markdown",
   "metadata": {},
   "source": [
    "### `basename()`"
   ]
  },
  {
   "cell_type": "markdown",
   "metadata": {},
   "source": [
    "`basename()` extracts the filename from a path, and returns it. "
   ]
  },
  {
   "cell_type": "code",
   "execution_count": 27,
   "metadata": {},
   "outputs": [
    {
     "name": "stdout",
     "output_type": "stream",
     "text": [
      "readme.txt\n"
     ]
    }
   ],
   "source": [
    "from os.path import basename\n",
    "\n",
    "print( basename( \"/System/Home/readme.txt\" ) )"
   ]
  },
  {
   "cell_type": "markdown",
   "metadata": {},
   "source": [
    "### `dirname()`"
   ]
  },
  {
   "cell_type": "markdown",
   "metadata": {},
   "source": [
    "`dirname()` extracts the directory name from a path, and returns it."
   ]
  },
  {
   "cell_type": "code",
   "execution_count": 28,
   "metadata": {},
   "outputs": [
    {
     "name": "stdout",
     "output_type": "stream",
     "text": [
      "/System/Home\n"
     ]
    }
   ],
   "source": [
    "from os.path import dirname\n",
    "\n",
    "print( dirname( \"/System/Home/readme.txt\" ) )"
   ]
  },
  {
   "cell_type": "markdown",
   "metadata": {},
   "source": [
    "### `getsize()`"
   ]
  },
  {
   "cell_type": "markdown",
   "metadata": {},
   "source": [
    "`getsize()` gets the size of the file that is supplied as argument, and returns it as an integer. The file must exist, otherwise you get a runtime error."
   ]
  },
  {
   "cell_type": "code",
   "execution_count": 30,
   "metadata": {},
   "outputs": [
    {
     "name": "stdout",
     "output_type": "stream",
     "text": [
      "29\n"
     ]
    }
   ],
   "source": [
    "from os.path import getsize\n",
    "\n",
    "numbytes = getsize( \"Shakespeare.txt\" )\n",
    "print( numbytes )"
   ]
  },
  {
   "cell_type": "markdown",
   "metadata": {},
   "source": [
    "---"
   ]
  },
  {
   "cell_type": "markdown",
   "metadata": {},
   "source": [
    "## File encoding"
   ]
  },
  {
   "cell_type": "markdown",
   "metadata": {},
   "source": [
    "Text files use an \"encoding\", i.e., a system that prescribes how characters in the files are supposed to be interpreted. This encoding may differ between operating systems. You can see the preferred encoding that your system uses with a call to `sys.getfilesystemencoding()`."
   ]
  },
  {
   "cell_type": "code",
   "execution_count": 48,
   "metadata": {},
   "outputs": [
    {
     "name": "stdout",
     "output_type": "stream",
     "text": [
      "ascii\n"
     ]
    }
   ],
   "source": [
    "from sys import getfilesystemencoding\n",
    "\n",
    "print( getfilesystemencoding() )"
   ]
  },
  {
   "cell_type": "markdown",
   "metadata": {},
   "source": [
    "If you read a text file which uses a different encoding than your file system prefers, you may get a `UnicodeDecodeError`. Whether or not you get this error for a particular file, is related to your operating system. An annoying consequence of that is that when you port Python code that reads a file to another system, a file that could be read by your code previously may cause your code to crash after the port.\n",
    "\n",
    "An easy way to get around this problem is by adding an extra parameter when opening a file, which indicates the encoding mechanism that you want to use when reading the file. You do this by adding a parameter \"`encoding=<encodingname>`\", where `<encodingname>` is a string that can have a variety of values, for which some typical ones are:\n",
    "\n",
    "    ascii       7-bits encoding, supports characters with values in the range 00-7F\n",
    "    latin-1     8-bits encoding, supports characters with values in the range 00-FF\n",
    "    mbcs        2-byte encoding, that is currently getting replaced by UTF-8\n",
    "    utf-8       variable bytes encoding\n",
    "\n",
    "Typically, text files are created with `ascii` or `latin-1` encoding. Since `ascii` is incorporated in `latin-1`, you can safely open any text file by specifying `latin-1` as encoding. It is possible that for the characters beyond the `ascii` range, you get different characters than the person who created the file wanted you to see -- that depends on the encoding mechanism that your file system uses. But at least the `UnicodeDecodeError` is avoided.\n",
    "\n",
    "Note that while `utf-8` supports a much wider range of characters than `latin-1`, you may still get the `UnicodeDecodeError` when you read a text file that uses `latin-1` encoding on a system that uses `utf-8` encoding, as `utf-8` has no corresponding characters with values in the range 80-FF.\n"
   ]
  },
  {
   "cell_type": "markdown",
   "metadata": {},
   "source": [
    "**Exercise**: If you change the encoding mechanism for this file to `utf-8`, it will enforce the `UnicodeDecodeError` as it contains characters with numbers in the range 80-FF. Try this.\n",
    "\n",
    "If you want to see which special characters are supported with values in the range 80-FF on your system, run the code below. The numerical value of a character in the table can be derived by calculating `16*row+col`, whereby `row` and `col` are the hexadecimal row and column number, respectively. I do not display the characters in the range 80-9F, as these are normally not filled in."
   ]
  },
  {
   "cell_type": "code",
   "execution_count": 31,
   "metadata": {},
   "outputs": [
    {
     "name": "stdout",
     "output_type": "stream",
     "text": [
      " 0 1 2 3 4 5 6 7 8 9 A B C D E F\n",
      "A   ¡ ¢ £ ¤ ¥ ¦ § ¨ © ª « ¬ ­ ® ¯\n",
      "B ° ± ² ³ ´ µ ¶ · ¸ ¹ º » ¼ ½ ¾ ¿\n",
      "C À Á Â Ã Ä Å Æ Ç È É Ê Ë Ì Í Î Ï\n",
      "D Ð Ñ Ò Ó Ô Õ Ö × Ø Ù Ú Û Ü Ý Þ ß\n",
      "E à á â ã ä å æ ç è é ê ë ì í î ï\n",
      "F ð ñ ò ó ô õ ö ÷ ø ù ú û ü ý þ ÿ\n"
     ]
    }
   ],
   "source": [
    "#Your Code Here"
   ]
  },
  {
   "cell_type": "markdown",
   "metadata": {},
   "source": [
    "---"
   ]
  },
  {
   "cell_type": "markdown",
   "metadata": {},
   "source": [
    "## What you learned"
   ]
  },
  {
   "cell_type": "markdown",
   "metadata": {},
   "source": [
    "In this chapter, you learned about:\n",
    "\n",
    "- Text files\n",
    "- File pointers\n",
    "- Opening and closing files with `open()` and `close()`\n",
    "- Reading files with `read()`, `readline()`, and `readlines()`\n",
    "- Writing files with `write()` and `writelines()`\n",
    "- Appending to files\n",
    "- `os.path` methods `exists()`, `isfile()`, `isdir()`, `join()`, `basename()`, `dirname()`, and `getsize()`\n",
    "- Dealing with text files with different encoding mechanisms"
   ]
  },
  {
   "cell_type": "markdown",
   "metadata": {},
   "source": [
    "---"
   ]
  },
  {
   "cell_type": "markdown",
   "metadata": {},
   "source": [
    "## Exercises"
   ]
  },
  {
   "cell_type": "markdown",
   "metadata": {},
   "source": [
    "### Exercise 11.1"
   ]
  },
  {
   "cell_type": "markdown",
   "metadata": {},
   "source": [
    "Write a program that reads the contents of the file \"`blakepoems.txt`\", splits it into words (where everything that is not a letter is considered a word boundary), and case-insensitively builds a dictionary that stores for every word how often it occurs in the text. Then print all the words with their quantities in alphabetical order."
   ]
  },
  {
   "cell_type": "code",
   "execution_count": 49,
   "metadata": {
    "ExecuteTime": {
     "end_time": "2021-03-18T18:57:21.176412Z",
     "start_time": "2021-03-18T18:57:21.155007Z"
    }
   },
   "outputs": [
    {
     "ename": "FileNotFoundError",
     "evalue": "[Errno 2] No such file or directory: 'blakepoems.txt'",
     "output_type": "error",
     "traceback": [
      "\u001b[1;31m---------------------------------------------------------------------------\u001b[0m",
      "\u001b[1;31mFileNotFoundError\u001b[0m                         Traceback (most recent call last)",
      "\u001b[1;32m<ipython-input-49-4fd0d00cb92b>\u001b[0m in \u001b[0;36m<module>\u001b[1;34m\u001b[0m\n\u001b[0;32m      1\u001b[0m \u001b[1;31m# Counting words in blakepoems.txt.\u001b[0m\u001b[1;33m\u001b[0m\u001b[1;33m\u001b[0m\u001b[1;33m\u001b[0m\u001b[0m\n\u001b[1;32m----> 2\u001b[1;33m \u001b[0mfp\u001b[0m \u001b[1;33m=\u001b[0m \u001b[0mopen\u001b[0m\u001b[1;33m(\u001b[0m \u001b[1;34m\"blakepoems.txt\"\u001b[0m\u001b[1;33m)\u001b[0m\u001b[1;33m\u001b[0m\u001b[1;33m\u001b[0m\u001b[0m\n\u001b[0m",
      "\u001b[1;31mFileNotFoundError\u001b[0m: [Errno 2] No such file or directory: 'blakepoems.txt'"
     ]
    }
   ],
   "source": [
    "# Counting words in blakepoems.txt.\n",
    "\n",
    "import os\n",
    "\n",
    "parent_dir = os.getcwd()\n",
    "child_dir = os.path.join(parent_dir, \"text-files\")\n",
    "fname = os.path.join(child_dir, \"Shakespeare.txt\")\n",
    "\n",
    "with open(fname,'r') as K:\n",
    "    words = K.readlines()\n",
    "    words = (word.rstrip() for word in words)\n",
    "    \n",
    "    \n"
   ]
  },
  {
   "cell_type": "markdown",
   "metadata": {},
   "source": [
    "### Exercise 11.2"
   ]
  },
  {
   "cell_type": "markdown",
   "metadata": {},
   "source": [
    "Do the same thing as you did for the previous exercise, but now process the text line by line. This is something that you would have to do if you had to process a very long text (as it is the case)."
   ]
  },
  {
   "cell_type": "code",
   "execution_count": 163,
   "metadata": {
    "ExecuteTime": {
     "end_time": "2021-03-18T22:35:41.680406Z",
     "start_time": "2021-03-18T22:35:41.275327Z"
    }
   },
   "outputs": [
    {
     "name": "stdout",
     "output_type": "stream",
     "text": [
      "['poems', 'by', 'william', 'blake', '1789', 'you', 'can', 'do', 'this', 'songs', 'of', 'innocence', 'and', 'of', 'experience', 'and', 'the', 'book', 'of', 'thel', 'songs', 'of', 'innocence', 'introduction', 'piping', 'down', 'the', 'valleys', 'wild', 'piping', 'songs', 'of', 'pleasant', 'glee', 'on', 'a', 'cloud', 'i', 'saw', 'a', 'child', 'and', 'he', 'laughing', 'said', 'to', 'me', '\"pipe', 'a', 'song', 'about', 'a', 'lamb\"', 'so', 'i', 'piped', 'with', 'merry', 'cheer', '\"piper', 'pipe', 'that', 'song', 'again;\"', 'so', 'i', 'piped', 'he', 'wept', 'to', 'hear', '\"drop', 'thy', 'pipe', 'thy', 'happy', 'pipe;', 'sing', 'thy', 'songs', 'of', 'happy', 'cheer\"', 'so', 'i', 'sang', 'the', 'same', 'again', 'while', 'he', 'wept', 'with', 'joy', 'to', 'hear', '\"piper', 'sit', 'thee', 'down', 'and', 'write', 'in', 'a', 'book', 'that', 'all', 'may', 'read\"', 'so', 'he', 'vanishd', 'from', 'my', 'sight;', 'and', 'i', 'pluckd', 'a', 'hollow', 'reed', 'and', 'i', 'made', 'a', 'rural', 'pen', 'and', 'i', 'staind', 'the', 'water', 'clear', 'and', 'i', 'wrote', 'my', 'happy', 'songs', 'every', 'child', 'may', 'joy', 'to', 'hear', 'the', 'shepherd', 'how', 'sweet', 'is', 'the', 'shepherds', 'sweet', 'lot', 'from', 'the', 'morn', 'to', 'the', 'evening', 'he', 'stays;', 'he', 'shall', 'follow', 'his', 'sheep', 'all', 'the', 'day', 'and', 'his', 'tongue', 'shall', 'be', 'filled', 'with', 'praise', 'for', 'he', 'hears', 'the', 'lambs', 'innocent', 'call', 'and', 'he', 'hears', 'the', 'ewes', 'tender', 'reply;', 'he', 'is', 'watching', 'while', 'they', 'are', 'in', 'peace', 'for', 'they', 'know', 'when', 'their', 'shepherd', 'is', 'nigh', 'the', 'echoing', 'green', 'the', 'sun', 'does', 'arise', 'and', 'make', 'happy', 'the', 'skies;', 'the', 'merry', 'bells', 'ring', 'to', 'welcome', 'the', 'spring;', 'the', 'skylark', 'and', 'thrush', 'the', 'birds', 'of', 'the', 'bush', 'sing', 'louder', 'around', 'to', 'the', 'bells', 'cheerful', 'sound;', 'while', 'our', 'sports', 'shall', 'be', 'seen', 'on', 'the', 'echoing', 'green', 'old', 'john', 'with', 'white', 'hair', 'does', 'laugh', 'away', 'care', 'sitting', 'under', 'the', 'oak', 'among', 'the', 'old', 'folk', 'they', 'laugh', 'at', 'our', 'play', 'and', 'soon', 'they', 'all', 'say', '\"such', 'such', 'were', 'the', 'joys', 'when', 'we', 'all', '--', 'girls', 'and', 'boys', '--', 'in', 'our', 'youth-time', 'were', 'seen', 'on', 'the', 'echoing', 'green\"', 'till', 'the', 'little', 'ones', 'weary', 'no', 'more', 'can', 'be', 'merry', 'the', 'sun', 'does', 'descend', 'and', 'our', 'sports', 'have', 'an', 'end', 'round', 'the', 'laps', 'of', 'their', 'mothers', 'many', 'sisters', 'and', 'brothers', 'like', 'birds', 'in', 'their', 'nest', 'are', 'ready', 'for', 'rest', 'and', 'sport', 'no', 'more', 'seen', 'on', 'the', 'darkening', 'green', 'the', 'lamb', 'little', 'lamb', 'who', 'make', 'thee', 'dost', 'thou', 'know', 'who', 'made', 'thee', 'gave', 'thee', 'life', 'and', 'bid', 'thee', 'feed', 'by', 'the', 'stream', 'and', 'oer', 'the', 'mead;', 'gave', 'thee', 'clothing', 'of', 'delight', 'softest', 'clothing', 'wolly', 'bright;', 'gave', 'thee', 'such', 'a', 'tender', 'voice', 'making', 'all', 'the', 'vales', 'rejoice', 'little', 'lamb', 'who', 'made', 'thee', 'dost', 'thou', 'know', 'who', 'made', 'thee', 'little', 'lamb', 'ill', 'tell', 'thee;', 'little', 'lamb', 'ill', 'tell', 'thee', 'he', 'is', 'called', 'by', 'thy', 'name', 'for', 'he', 'calls', 'himself', 'a', 'lamb', 'he', 'is', 'meek', 'and', 'he', 'is', 'mild', 'he', 'became', 'a', 'little', 'child', 'i', 'a', 'child', 'and', 'thou', 'a', 'lamb', 'we', 'are', 'called', 'by', 'his', 'name', 'little', 'lamb', 'god', 'bless', 'thee', 'little', 'lamb', 'god', 'bless', 'thee', 'the', 'little', 'black', 'boy', 'my', 'mother', 'bore', 'me', 'in', 'the', 'southern', 'wild', 'and', 'i', 'am', 'black', 'but', 'oh', 'my', 'soul', 'is', 'white', 'white', 'as', 'an', 'angel', 'is', 'the', 'english', 'child', 'but', 'i', 'am', 'black', 'as', 'if', 'bereaved', 'of', 'light', 'my', 'mother', 'taught', 'me', 'underneath', 'a', 'tree', 'and', 'sitting', 'down', 'before', 'the', 'heat', 'of', 'day', 'she', 'took', 'me', 'on', 'her', 'lap', 'and', 'kissed', 'me', 'and', 'pointed', 'to', 'the', 'east', 'began', 'to', 'say', '\"look', 'on', 'the', 'rising', 'sun', 'there', 'god', 'does', 'live', 'and', 'gives', 'his', 'light', 'and', 'gives', 'his', 'heat', 'away', 'and', 'flowers', 'and', 'trees', 'and', 'beasts', 'and', 'men', 'receive', 'comfort', 'in', 'morning', 'joy', 'in', 'the', 'noonday', '\"and', 'we', 'are', 'put', 'on', 'earth', 'a', 'little', 'space', 'that', 'we', 'may', 'learn', 'to', 'bear', 'the', 'beams', 'of', 'love', 'and', 'these', 'black', 'bodies', 'and', 'this', 'sunburnt', 'face', 'is', 'but', 'a', 'cloud', 'and', 'like', 'a', 'shady', 'grove', '\"for', 'when', 'our', 'souls', 'have', 'learnd', 'the', 'heat', 'to', 'bear', 'the', 'cloud', 'will', 'vanish', 'we', 'shall', 'hear', 'his', 'voice', 'saying', 'come', 'out', 'from', 'the', 'grove', 'my', 'love', 'and', 'care', 'and', 'round', 'my', 'golden', 'tent', 'like', 'lambs', 'rejoice\"', 'thus', 'did', 'my', 'mother', 'say', 'and', 'kissed', 'me;', 'and', 'thus', 'i', 'say', 'to', 'little', 'english', 'boy', 'when', 'i', 'from', 'black', 'and', 'he', 'from', 'white', 'cloud', 'free', 'and', 'round', 'the', 'tent', 'of', 'god', 'like', 'lambs', 'we', 'joy', 'ill', 'shade', 'him', 'from', 'the', 'heat', 'till', 'he', 'can', 'bear', 'to', 'lean', 'in', 'joy', 'upon', 'our', 'fathers', 'knee;', 'and', 'then', 'ill', 'stand', 'and', 'stroke', 'his', 'silver', 'hair', 'and', 'be', 'like', 'him', 'and', 'he', 'will', 'then', 'love', 'me', 'the', 'blossom', 'merry', 'merry', 'sparrow', 'under', 'leaves', 'so', 'green', 'a', 'happy', 'blossom', 'sees', 'you', 'swift', 'as', 'arrow', 'seek', 'your', 'cradle', 'narrow', 'near', 'my', 'bosom', 'pretty', 'pretty', 'robin', 'under', 'leaves', 'so', 'green', 'a', 'happy', 'blossom', 'hears', 'you', 'sobbing', 'sobbing', 'pretty', 'pretty', 'robin', 'near', 'my', 'bosom', 'the', 'chimney-sweeper', 'when', 'my', 'mother', 'died', 'i', 'was', 'very', 'young', 'and', 'my', 'father', 'sold', 'me', 'while', 'yet', 'my', 'tongue', 'could', 'scarcely', 'cry', '\"weep', 'weep', 'weep', 'weep\"', 'so', 'your', 'chimneys', 'i', 'sweep', 'and', 'in', 'soot', 'i', 'sleep', 'theres', 'little', 'tom', 'dacre', 'who', 'cried', 'when', 'his', 'head', 'that', 'curled', 'like', 'a', 'lambs', 'back', 'was', 'shaved;', 'so', 'i', 'said', '\"hush', 'tom', 'never', 'mind', 'it', 'for', 'when', 'your', 'heads', 'bare', 'you', 'know', 'that', 'the', 'soot', 'cannot', 'spoil', 'your', 'white', 'hair\"', 'and', 'so', 'he', 'was', 'quiet', 'and', 'that', 'very', 'night', 'as', 'tom', 'was', 'a-sleeping', 'he', 'had', 'such', 'a', 'sight', '--', 'that', 'thousands', 'of', 'sweepers', 'dick', 'joe', 'ned', 'and', 'jack', 'were', 'all', 'of', 'them', 'locked', 'up', 'in', 'coffins', 'of', 'black', 'and', 'by', 'came', 'an', 'angel', 'who', 'had', 'a', 'bright', 'key', 'and', 'he', 'opened', 'the', 'coffins', 'and', 'let', 'them', 'all', 'free;', 'then', 'down', 'a', 'green', 'plain', 'leaping', 'laughing', 'they', 'run', 'and', 'wash', 'in', 'a', 'river', 'and', 'shine', 'in', 'the', 'sun', 'then', 'naked', 'and', 'white', 'all', 'their', 'bags', 'left', 'behind', 'they', 'rise', 'upon', 'clouds', 'and', 'sport', 'in', 'the', 'wind;', 'and', 'the', 'angel', 'told', 'tom', 'if', 'hed', 'be', 'a', 'good', 'boy', 'hed', 'have', 'god', 'for', 'his', 'father', 'and', 'never', 'want', 'joy', 'and', 'so', 'tom', 'awoke', 'and', 'we', 'rose', 'in', 'the', 'dark', 'and', 'got', 'with', 'our', 'bags', 'and', 'our', 'brushes', 'to', 'work', 'though', 'the', 'morning', 'was', 'cold', 'tom', 'was', 'happy', 'and', 'warm', 'so', 'if', 'all', 'do', 'their', 'duty', 'they', 'need', 'not', 'fear', 'harm', 'the', 'little', 'boy', 'lost', '\"father', 'father', 'where', 'are', 'you', 'going', 'oh', 'do', 'not', 'walk', 'so', 'fast', 'speak', 'father', 'speak', 'to', 'you', 'little', 'boy', 'or', 'else', 'i', 'shall', 'be', 'lost\"', 'the', 'night', 'was', 'dark', 'no', 'father', 'was', 'there', 'the', 'child', 'was', 'wet', 'with', 'dew;', 'the', 'mire', 'was', 'deep', 'and', 'the', 'child', 'did', 'weep', 'and', 'away', 'the', 'vapour', 'flew', 'the', 'little', 'boy', 'found', 'the', 'little', 'boy', 'lost', 'in', 'the', 'lonely', 'fen', 'led', 'by', 'the', 'wandering', 'light', 'began', 'to', 'cry', 'but', 'god', 'ever', 'nigh', 'appeared', 'like', 'his', 'father', 'in', 'white', 'he', 'kissed', 'the', 'child', 'and', 'by', 'the', 'hand', 'led', 'and', 'to', 'his', 'mother', 'brought', 'who', 'in', 'sorrow', 'pale', 'through', 'the', 'lonely', 'dale', 'the', 'little', 'boy', 'weeping', 'sought', 'laughing', 'song', 'when', 'the', 'green', 'woods', 'laugh', 'with', 'the', 'voice', 'of', 'joy', 'and', 'the', 'dimpling', 'stream', 'runs', 'laughing', 'by;', 'when', 'the', 'air', 'does', 'laugh', 'with', 'our', 'merry', 'wit', 'and', 'the', 'green', 'hill', 'laughs', 'with', 'the', 'noise', 'of', 'it;', 'when', 'the', 'meadows', 'laugh', 'with', 'lively', 'green', 'and', 'the', 'grasshopper', 'laughs', 'in', 'the', 'merry', 'scene', 'when', 'mary', 'and', 'susan', 'and', 'emily', 'with', 'their', 'sweet', 'round', 'mouths', 'sing', '\"ha', 'ha', 'he\"', 'when', 'the', 'painted', 'birds', 'laugh', 'in', 'the', 'shade', 'where', 'our', 'table', 'with', 'cherries', 'and', 'nuts', 'is', 'spread', 'come', 'live', 'and', 'be', 'merry', 'and', 'join', 'with', 'me', 'to', 'sing', 'the', 'sweet', 'chorus', 'of', '\"ha', 'ha', 'he\"', 'a', 'song', 'sweet', 'dreams', 'form', 'a', 'shade', 'oer', 'my', 'lovely', 'infants', 'head', 'sweet', 'dreams', 'of', 'pleasant', 'streams', 'by', 'happy', 'silent', 'moony', 'beams', 'sweet', 'sleep', 'with', 'soft', 'down', 'weave', 'thy', 'brows', 'an', 'infant', 'crown', 'sweet', 'sleep', 'angel', 'mild', 'hover', 'oer', 'my', 'happy', 'child', 'sweet', 'smiles', 'in', 'the', 'night', 'hover', 'over', 'my', 'delight', 'sweet', 'smiles', 'mothers', 'smile', 'all', 'the', 'livelong', 'night', 'beguile', 'sweet', 'moans', 'dovelike', 'sighs', 'chase', 'not', 'slumber', 'from', 'thine', 'eyes', 'sweet', 'moan', 'sweeter', 'smile', 'all', 'the', 'dovelike', 'moans', 'beguile', 'sleep', 'sleep', 'happy', 'child', 'all', 'creation', 'slept', 'and', 'smiled', 'sleep', 'sleep', 'happy', 'sleep', 'while', 'oer', 'thee', 'doth', 'mother', 'weep', 'sweet', 'babe', 'in', 'thy', 'face', 'holy', 'image', 'i', 'can', 'trace;', 'sweet', 'babe', 'once', 'like', 'thee', 'thy', 'maker', 'lay', 'and', 'wept', 'for', 'me', 'wept', 'for', 'me', 'for', 'thee', 'for', 'all', 'when', 'he', 'was', 'an', 'infant', 'small', 'thou', 'his', 'image', 'ever', 'see', 'heavenly', 'face', 'that', 'smiles', 'on', 'thee', 'smiles', 'on', 'thee', 'on', 'me', 'on', 'all', 'who', 'became', 'an', 'infant', 'small;', 'infant', 'smiles', 'are', 'his', 'own', 'smiles;', 'heaven', 'and', 'earth', 'to', 'peace', 'beguiles', 'divine', 'image', 'to', 'mercy', 'pity', 'peace', 'and', 'love', 'all', 'pray', 'in', 'their', 'distress', 'and', 'to', 'these', 'virtues', 'of', 'delight', 'return', 'their', 'thankfulness', 'for', 'mercy', 'pity', 'peace', 'and', 'love', 'is', 'god', 'our', 'father', 'dear;', 'and', 'mercy', 'pity', 'peace', 'and', 'love', 'is', 'man', 'his', 'child', 'and', 'care', 'for', 'mercy', 'has', 'a', 'human', 'heart', 'pity', 'a', 'human', 'face;', 'and', 'love', 'the', 'human', 'form', 'divine;', 'and', 'peace', 'the', 'human', 'dress', 'then', 'every', 'man', 'of', 'every', 'clime', 'that', 'prays', 'in', 'his', 'distress', 'prays', 'to', 'the', 'human', 'form', 'divine', 'love', 'mercy', 'pity', 'peace', 'and', 'all', 'must', 'love', 'the', 'human', 'form', 'in', 'heathen', 'turk', 'or', 'jew', 'where', 'mercy', 'love', 'and', 'pity', 'dwell', 'there', 'god', 'is', 'dwelling', 'too', 'holy', 'thursday', 'twas', 'on', 'a', 'holy', 'thursday', 'their', 'innocent', 'faces', 'clean', 'came', 'children', 'walking', 'two', 'and', 'two', 'in', 'read', 'and', 'blue', 'and', 'green', 'grey-headed', 'beadles', 'walked', 'before', 'with', 'wands', 'as', 'white', 'as', 'snow', 'till', 'into', 'the', 'high', 'dome', 'of', 'pauls', 'they', 'like', 'thames', 'waters', 'flow', 'oh', 'what', 'a', 'multitude', 'they', 'seemed', 'these', 'flowers', 'of', 'london', 'town', 'seated', 'in', 'companies', 'they', 'sit', 'with', 'radiance', 'all', 'their', 'own', 'the', 'hum', 'of', 'multitudes', 'was', 'there', 'but', 'multitudes', 'of', 'lambs', 'thousands', 'of', 'little', 'boys', 'and', 'girls', 'raising', 'their', 'innocent', 'hands', 'now', 'like', 'a', 'mighty', 'wild', 'they', 'raise', 'to', 'heaven', 'the', 'voice', 'of', 'song', 'or', 'like', 'harmonious', 'thunderings', 'the', 'seats', 'of', 'heaven', 'among', 'beneath', 'them', 'sit', 'the', 'aged', 'man', 'wise', 'guardians', 'of', 'the', 'poor', 'then', 'cherish', 'pity', 'lest', 'you', 'drive', 'an', 'angel', 'from', 'your', 'door', 'night', 'the', 'sun', 'descending', 'in', 'the', 'west', 'the', 'evening', 'star', 'does', 'shine;', 'the', 'birds', 'are', 'silent', 'in', 'their', 'nest', 'and', 'i', 'must', 'seek', 'for', 'mine', 'the', 'moon', 'like', 'a', 'flower', 'in', 'heavens', 'high', 'bower', 'with', 'silent', 'delight', 'sits', 'and', 'smiles', 'on', 'the', 'night', 'farewell', 'green', 'fields', 'and', 'happy', 'grove', 'where', 'flocks', 'have', 'taen', 'delight', 'where', 'lambs', 'have', 'nibbled', 'silent', 'move', 'the', 'feet', 'of', 'angels', 'bright;', 'unseen', 'they', 'pour', 'blessing', 'and', 'joy', 'without', 'ceasing', 'on', 'each', 'bud', 'and', 'blossom', 'and', 'each', 'sleeping', 'bosom', 'they', 'look', 'in', 'every', 'thoughtless', 'nest', 'where', 'birds', 'are', 'covered', 'warm;', 'they', 'visit', 'caves', 'of', 'every', 'beast', 'to', 'keep', 'them', 'all', 'from', 'harm', 'if', 'they', 'see', 'any', 'weeping', 'that', 'should', 'have', 'been', 'sleeping', 'they', 'pour', 'sleep', 'on', 'their', 'head', 'and', 'sit', 'down', 'by', 'their', 'bed', 'when', 'wolves', 'and', 'tigers', 'howl', 'for', 'prey', 'they', 'pitying', 'stand', 'and', 'weep;', 'seeking', 'to', 'drive', 'their', 'thirst', 'away', 'and', 'keep', 'them', 'from', 'the', 'sheep', 'but', 'if', 'they', 'rush', 'dreadful', 'the', 'angels', 'most', 'heedful', 'receive', 'each', 'mild', 'spirit', 'new', 'worlds', 'to', 'inherit', 'and', 'there', 'the', 'lions', 'ruddy', 'eyes', 'shall', 'flow', 'with', 'tears', 'of', 'gold', 'and', 'pitying', 'the', 'tender', 'cries', 'and', 'walking', 'round', 'the', 'fold', 'saying', '\"wrath', 'by', 'his', 'meekness', 'and', 'by', 'his', 'health', 'sickness', 'are', 'driven', 'away', 'from', 'our', 'immortal', 'day', '\"and', 'now', 'beside', 'thee', 'bleating', 'lamb', 'i', 'can', 'lie', 'down', 'and', 'sleep', 'or', 'think', 'on', 'him', 'who', 'bore', 'thy', 'name', 'graze', 'after', 'thee', 'and', 'weep', 'for', 'washed', 'in', 'lifes', 'river', 'my', 'bright', 'mane', 'for', 'ever', 'shall', 'shine', 'like', 'the', 'gold', 'as', 'i', 'guard', 'oer', 'the', 'fold\"', 'spring', 'sound', 'the', 'flute', 'now', 'its', 'mute', 'birds', 'delight', 'day', 'and', 'night', 'nightingale', 'in', 'the', 'dale', 'lark', 'in', 'sky--', 'merrily', 'merrily', 'merrily', 'to', 'welcome', 'in', 'the', 'year', 'little', 'boy', 'full', 'of', 'joy;', 'little', 'girl', 'sweet', 'and', 'small;', 'cock', 'does', 'crow', 'so', 'do', 'you;', 'merry', 'voice', 'infant', 'noise;', 'merrily', 'merrily', 'to', 'welcome', 'in', 'the', 'year', 'little', 'lamb', 'here', 'i', 'am;', 'come', 'and', 'lick', 'my', 'white', 'neck;', 'let', 'me', 'pull', 'your', 'soft', 'wool;', 'let', 'me', 'kiss', 'your', 'soft', 'face;', 'merrily', 'merrily', 'to', 'welcome', 'in', 'the', 'year', 'nurses', 'song', 'when', 'the', 'voices', 'of', 'children', 'are', 'heard', 'on', 'the', 'green', 'and', 'laughing', 'is', 'heard', 'on', 'the', 'hill', 'my', 'heart', 'is', 'at', 'rest', 'within', 'my', 'breast', 'and', 'everything', 'else', 'is', 'still', '\"then', 'come', 'home', 'my', 'children', 'the', 'sun', 'is', 'gone', 'down', 'and', 'the', 'dews', 'of', 'night', 'arise;', 'come', 'come', 'leave', 'off', 'play', 'and', 'let', 'us', 'away', 'till', 'the', 'morning', 'appears', 'in', 'the', 'skies\"', '\"no', 'no', 'let', 'us', 'play', 'for', 'it', 'is', 'yet', 'day', 'and', 'we', 'cannot', 'go', 'to', 'sleep;', 'besides', 'in', 'the', 'sky', 'the', 'little', 'birds', 'fly', 'and', 'the', 'hills', 'are', 'all', 'covered', 'with', 'sheep\"', '\"well', 'well', 'go', 'and', 'play', 'till', 'the', 'light', 'fades', 'away', 'and', 'then', 'go', 'home', 'to', 'bed\"', 'the', 'little', 'ones', 'leaped', 'and', 'shouted', 'and', 'laughed', 'and', 'all', 'the', 'hills', 'echoed', 'infant', 'joy', '\"i', 'have', 'no', 'name;', 'i', 'am', 'but', 'two', 'days', 'old\"', 'what', 'shall', 'i', 'call', 'thee', '\"i', 'happy', 'am', 'joy', 'is', 'my', 'name\"', 'sweet', 'joy', 'befall', 'thee', 'pretty', 'joy', 'sweet', 'joy', 'but', 'two', 'days', 'old', 'sweet', 'joy', 'i', 'call', 'thee', 'thou', 'dost', 'smile', 'i', 'sing', 'the', 'while;', 'sweet', 'joy', 'befall', 'thee', 'a', 'dream', 'once', 'a', 'dream', 'did', 'weave', 'a', 'shade', 'oer', 'my', 'angel-guarded', 'bed', 'that', 'an', 'emmet', 'lost', 'its', 'way', 'where', 'on', 'grass', 'methought', 'i', 'lay', 'troubled', 'wildered', 'and', 'forlorn', 'dark', 'benighted', 'travel-worn', 'over', 'many', 'a', 'tangle', 'spray', 'all', 'heart-broke', 'i', 'heard', 'her', 'say', '\"oh', 'my', 'children', 'do', 'they', 'cry', 'do', 'they', 'hear', 'their', 'father', 'sigh', 'now', 'they', 'look', 'abroad', 'to', 'see', 'now', 'return', 'and', 'weep', 'for', 'me\"', 'pitying', 'i', 'dropped', 'a', 'tear', 'but', 'i', 'saw', 'a', 'glow-worm', 'near', 'who', 'replied', '\"what', 'wailing', 'wight', 'calls', 'the', 'watchman', 'of', 'the', 'night', '\"i', 'am', 'set', 'to', 'light', 'the', 'ground', 'while', 'the', 'beetle', 'goes', 'his', 'round', 'follow', 'now', 'the', 'beetles', 'hum;', 'little', 'wanderer', 'hie', 'thee', 'home\"', 'on', 'anothers', 'sorrow', 'can', 'i', 'see', 'anothers', 'woe', 'and', 'not', 'be', 'in', 'sorrow', 'too', 'can', 'i', 'see', 'anothers', 'grief', 'and', 'not', 'seek', 'for', 'kind', 'relief', 'can', 'i', 'see', 'a', 'falling', 'tear', 'and', 'not', 'feel', 'my', 'sorrows', 'share', 'can', 'a', 'father', 'see', 'his', 'child', 'weep', 'nor', 'be', 'with', 'sorrow', 'filled', 'can', 'a', 'mother', 'sit', 'and', 'hear', 'an', 'infant', 'groan', 'an', 'infant', 'fear', 'no', 'no', 'never', 'can', 'it', 'be', 'never', 'never', 'can', 'it', 'be', 'and', 'can', 'he', 'who', 'smiles', 'on', 'all', 'hear', 'the', 'wren', 'with', 'sorrows', 'small', 'hear', 'the', 'small', 'birds', 'grief', 'and', 'care', 'hear', 'the', 'woes', 'that', 'infants', 'bear', '--', 'and', 'not', 'sit', 'beside', 'the', 'next', 'pouring', 'pity', 'in', 'their', 'breast', 'and', 'not', 'sit', 'the', 'cradle', 'near', 'weeping', 'tear', 'on', 'infants', 'tear', 'and', 'not', 'sit', 'both', 'night', 'and', 'day', 'wiping', 'all', 'our', 'tears', 'away', 'oh', 'no', 'never', 'can', 'it', 'be', 'never', 'never', 'can', 'it', 'be', 'he', 'doth', 'give', 'his', 'joy', 'to', 'all', 'he', 'becomes', 'an', 'infant', 'small', 'he', 'becomes', 'a', 'man', 'of', 'woe', 'he', 'doth', 'feel', 'the', 'sorrow', 'too', 'think', 'not', 'thou', 'canst', 'sigh', 'a', 'sigh', 'and', 'thy', 'maker', 'is', 'not', 'by', 'think', 'not', 'thou', 'canst', 'weep', 'a', 'tear', 'and', 'thy', 'maker', 'is', 'not', 'year', 'oh', 'he', 'gives', 'to', 'us', 'his', 'joy', 'that', 'our', 'grief', 'he', 'may', 'destroy', 'till', 'our', 'grief', 'is', 'fled', 'an', 'gone', 'he', 'doth', 'sit', 'by', 'us', 'and', 'moan', 'songs', 'of', 'experience', 'introduction', 'hear', 'the', 'voice', 'of', 'the', 'bard', 'who', 'present', 'past', 'and', 'future', 'sees;', 'whose', 'ears', 'have', 'heard', 'the', 'holy', 'word', 'that', 'walked', 'among', 'the', 'ancient', 'tree;', 'calling', 'the', 'lapsed', 'soul', 'and', 'weeping', 'in', 'the', 'evening', 'dew;', 'that', 'might', 'control', 'the', 'starry', 'pole', 'and', 'fallen', 'fallen', 'light', 'renew', '\"o', 'earth', 'o', 'earth', 'return', 'arise', 'from', 'out', 'the', 'dewy', 'grass', 'night', 'is', 'worn', 'and', 'the', 'morn', 'rises', 'from', 'the', 'slumbrous', 'mass', '\"turn', 'away', 'no', 'more;', 'why', 'wilt', 'thou', 'turn', 'away', 'the', 'starry', 'floor', 'the', 'watery', 'shore', 'are', 'given', 'thee', 'till', 'the', 'break', 'of', 'day\"', 'earths', 'answer', 'earth', 'raised', 'up', 'her', 'head', 'from', 'the', 'darkness', 'dread', 'and', 'drear', 'her', 'light', 'fled', 'stony', 'dread', 'and', 'her', 'locks', 'covered', 'with', 'grey', 'despair', '\"prisoned', 'on', 'watery', 'shore', 'starry', 'jealousy', 'does', 'keep', 'my', 'den', 'cold', 'and', 'hoar;', 'weeping', 'ore', 'i', 'hear', 'the', 'father', 'of', 'the', 'ancient', 'men', '\"selfish', 'father', 'of', 'men', 'cruel', 'jealous', 'selfish', 'fear', 'can', 'delight', 'chained', 'in', 'night', 'the', 'virgins', 'of', 'youth', 'and', 'morning', 'bear', '\"does', 'spring', 'hide', 'its', 'joy', 'when', 'buds', 'and', 'blossoms', 'grow', 'does', 'the', 'sower', 'sow', 'by', 'night', 'or', 'the', 'plowman', 'in', 'darkness', 'plough', '\"break', 'this', 'heavy', 'chain', 'that', 'does', 'freeze', 'my', 'bones', 'around', 'selfish', 'vain', 'eternal', 'bane', 'that', 'free', 'love', 'with', 'bondage', 'bound\"', 'the', 'clod', 'and', 'the', 'pebble', '\"love', 'seeketh', 'not', 'itself', 'to', 'please', 'nor', 'for', 'itself', 'hath', 'any', 'care', 'but', 'for', 'another', 'gives', 'it', 'ease', 'and', 'builds', 'a', 'heaven', 'in', 'hells', 'despair\"', 'so', 'sang', 'a', 'little', 'clod', 'of', 'clay', 'trodden', 'with', 'the', 'cattles', 'feet', 'but', 'a', 'pebble', 'of', 'the', 'brook', 'warbled', 'out', 'these', 'metres', 'meet', '\"love', 'seeketh', 'only', 'self', 'to', 'please', 'to', 'bind', 'another', 'to', 'its', 'delight', 'joys', 'in', 'anothers', 'loss', 'of', 'ease', 'and', 'builds', 'a', 'hell', 'in', 'heavens', 'despite\"', 'holy', 'thursday', 'is', 'this', 'a', 'holy', 'thing', 'to', 'see', 'in', 'a', 'rich', 'and', 'fruitful', 'land', '--', 'babes', 'reduced', 'to', 'misery', 'fed', 'with', 'cold', 'and', 'usurous', 'hand', 'is', 'that', 'trembling', 'cry', 'a', 'song', 'can', 'it', 'be', 'a', 'song', 'of', 'joy', 'and', 'so', 'many', 'children', 'poor', 'it', 'is', 'a', 'land', 'of', 'poverty', 'and', 'their', 'son', 'does', 'never', 'shine', 'and', 'their', 'fields', 'are', 'bleak', 'and', 'bare', 'and', 'their', 'ways', 'are', 'filled', 'with', 'thorns', 'it', 'is', 'eternal', 'winter', 'there', 'for', 'whereer', 'the', 'sun', 'does', 'shine', 'and', 'whereer', 'the', 'rain', 'does', 'fall', 'babes', 'should', 'never', 'hunger', 'there', 'nor', 'poverty', 'the', 'mind', 'appall', 'the', 'little', 'girl', 'lost', 'in', 'futurity', 'i', 'prophetic', 'see', 'that', 'the', 'earth', 'from', 'sleep', '(grave', 'the', 'sentence', 'deep)', 'shall', 'arise', 'and', 'seek', 'for', 'her', 'maker', 'meek;', 'and', 'the', 'desert', 'wild', 'become', 'a', 'garden', 'mild', 'in', 'the', 'southern', 'clime', 'where', 'the', 'summers', 'prime', 'never', 'fades', 'away', 'lovely', 'lyca', 'lay', 'seven', 'summers', 'old', 'lovely', 'lyca', 'told', 'she', 'had', 'wandered', 'long', 'hearing', 'wild', 'birds', 'song', '\"sweet', 'sleep', 'come', 'to', 'me', 'underneath', 'this', 'tree;', 'do', 'father', 'mother', 'weep', 'where', 'can', 'lyca', 'sleep', '\"lost', 'in', 'desert', 'wild', 'is', 'your', 'little', 'child', 'how', 'can', 'lyca', 'sleep', 'if', 'her', 'mother', 'weep', '\"if', 'her', 'heart', 'does', 'ache', 'then', 'let', 'lyca', 'wake;', 'if', 'my', 'mother', 'sleep', 'lyca', 'shall', 'not', 'weep', '\"frowning', 'frowning', 'night', 'oer', 'this', 'desert', 'bright', 'let', 'thy', 'moon', 'arise', 'while', 'i', 'close', 'my', 'eyes\"', 'sleeping', 'lyca', 'lay', 'while', 'the', 'beasts', 'of', 'prey', 'come', 'from', 'caverns', 'deep', 'viewed', 'the', 'maid', 'asleep', 'the', 'kingly', 'lion', 'stood', 'and', 'the', 'virgin', 'viewed', 'then', 'he', 'gambolled', 'round', 'oer', 'the', 'hallowed', 'ground', 'leopards', 'tigers', 'play', 'round', 'her', 'as', 'she', 'lay;', 'while', 'the', 'lion', 'old', 'bowed', 'his', 'mane', 'of', 'gold', 'and', 'her', 'breast', 'did', 'lick', 'and', 'upon', 'her', 'neck', 'from', 'his', 'eyes', 'of', 'flame', 'ruby', 'tears', 'there', 'came;', 'while', 'the', 'lioness', 'loosed', 'her', 'slender', 'dress', 'and', 'naked', 'they', 'conveyed', 'to', 'caves', 'the', 'sleeping', 'maid', 'the', 'little', 'girl', 'found', 'all', 'the', 'night', 'in', 'woe', 'lycas', 'parents', 'go', 'over', 'valleys', 'deep', 'while', 'the', 'deserts', 'weep', 'tired', 'and', 'woe-begone', 'hoarse', 'with', 'making', 'moan', 'arm', 'in', 'arm', 'seven', 'days', 'they', 'traced', 'the', 'desert', 'ways', 'seven', 'nights', 'they', 'sleep', 'among', 'shadows', 'deep', 'and', 'dream', 'they', 'see', 'their', 'child', 'starved', 'in', 'desert', 'wild', 'pale', 'through', 'pathless', 'ways', 'the', 'fancied', 'image', 'strays', 'famished', 'weeping', 'weak', 'with', 'hollow', 'piteous', 'shriek', 'rising', 'from', 'unrest', 'the', 'trembling', 'woman', 'presse', 'with', 'feet', 'of', 'weary', 'woe;', 'she', 'could', 'no', 'further', 'go', 'in', 'his', 'arms', 'he', 'bore', 'her', 'armed', 'with', 'sorrow', 'sore;', 'till', 'before', 'their', 'way', 'a', 'couching', 'lion', 'lay', 'turning', 'back', 'was', 'vain', 'soon', 'his', 'heavy', 'mane', 'bore', 'them', 'to', 'the', 'ground', 'then', 'he', 'stalked', 'around', 'smelling', 'to', 'his', 'prey;', 'but', 'their', 'fears', 'allay', 'when', 'he', 'licks', 'their', 'hands', 'and', 'silent', 'by', 'them', 'stands', 'they', 'look', 'upon', 'his', 'eyes', 'filled', 'with', 'deep', 'surprise;', 'and', 'wondering', 'behold', 'a', 'spirit', 'armed', 'in', 'gold', 'on', 'his', 'head', 'a', 'crown', 'on', 'his', 'shoulders', 'down', 'flowed', 'his', 'golden', 'hair', 'gone', 'was', 'all', 'their', 'care', '\"follow', 'me\"', 'he', 'said;', '\"weep', 'not', 'for', 'the', 'maid;', 'in', 'my', 'palace', 'deep', 'lyca', 'lies', 'asleep\"', 'then', 'they', 'followed', 'where', 'the', 'vision', 'led', 'and', 'saw', 'their', 'sleeping', 'child', 'among', 'tigers', 'wild', 'to', 'this', 'day', 'they', 'dwell', 'in', 'a', 'lonely', 'dell', 'nor', 'fear', 'the', 'wolvish', 'howl', 'nor', 'the', 'lions', 'growl', 'the', 'chimney', 'sweeper', 'a', 'little', 'black', 'thing', 'in', 'the', 'snow', 'crying', '\"weep', 'weep\"', 'in', 'notes', 'of', 'woe', '\"where', 'are', 'thy', 'father', 'and', 'mother', 'say\"--', '\"they', 'are', 'both', 'gone', 'up', 'to', 'the', 'church', 'to', 'pray', '\"because', 'i', 'was', 'happy', 'upon', 'the', 'heath', 'and', 'smiled', 'among', 'the', 'winters', 'snow', 'they', 'clothed', 'me', 'in', 'the', 'clothes', 'of', 'death', 'and', 'taught', 'me', 'to', 'sing', 'the', 'notes', 'of', 'woe', '\"and', 'because', 'i', 'am', 'happy', 'and', 'dance', 'and', 'sing', 'they', 'think', 'they', 'have', 'done', 'me', 'no', 'injury', 'and', 'are', 'gone', 'to', 'praise', 'god', 'and', 'his', 'priest', 'and', 'king', 'who', 'make', 'up', 'a', 'heaven', 'of', 'our', 'misery\"', 'nurses', 'song', 'when', 'voices', 'of', 'children', 'are', 'heard', 'on', 'the', 'green', 'and', 'whisperings', 'are', 'in', 'the', 'dale', 'the', 'days', 'of', 'my', 'youth', 'rise', 'fresh', 'in', 'my', 'mind', 'my', 'face', 'turns', 'green', 'and', 'pale', 'then', 'come', 'home', 'my', 'children', 'the', 'sun', 'is', 'gone', 'down', 'and', 'the', 'dews', 'of', 'night', 'arise;', 'your', 'spring', 'and', 'your', 'day', 'are', 'wasted', 'in', 'play', 'and', 'your', 'winter', 'and', 'night', 'in', 'disguise', 'the', 'sick', 'rose', 'o', 'rose', 'thou', 'art', 'sick', 'the', 'invisible', 'worm', 'that', 'flies', 'in', 'the', 'night', 'in', 'the', 'howling', 'storm', 'has', 'found', 'out', 'thy', 'bed', 'of', 'crimson', 'joy', 'and', 'his', 'dark', 'secret', 'love', 'does', 'thy', 'life', 'destroy', 'the', 'fly', 'little', 'fly', 'thy', 'summers', 'play', 'my', 'thoughtless', 'hand', 'has', 'brushed', 'away', 'am', 'not', 'i', 'a', 'fly', 'like', 'thee', 'or', 'art', 'not', 'thou', 'a', 'man', 'like', 'me', 'for', 'i', 'dance', 'and', 'drink', 'and', 'sing', 'till', 'some', 'blind', 'hand', 'shall', 'brush', 'my', 'wing', 'if', 'thought', 'is', 'life', 'and', 'strength', 'and', 'breath', 'and', 'the', 'want', 'of', 'thought', 'is', 'death;', 'then', 'am', 'i', 'a', 'happy', 'fly', 'if', 'i', 'live', 'or', 'if', 'i', 'die', 'the', 'angel', 'i', 'dreamt', 'a', 'dream', 'what', 'can', 'it', 'mean', 'and', 'that', 'i', 'was', 'a', 'maiden', 'queen', 'guarded', 'by', 'an', 'angel', 'mild', 'witless', 'woe', 'was', 'neer', 'beguiled', 'and', 'i', 'wept', 'both', 'night', 'and', 'day', 'and', 'he', 'wiped', 'my', 'tears', 'away;', 'and', 'i', 'wept', 'both', 'day', 'and', 'night', 'and', 'hid', 'from', 'him', 'my', 'hearts', 'delight', 'so', 'he', 'took', 'his', 'wings', 'and', 'fled;', 'then', 'the', 'morn', 'blushed', 'rosy', 'red', 'i', 'dried', 'my', 'tears', 'and', 'armed', 'my', 'fears', 'with', 'ten-thousand', 'shields', 'and', 'spears', 'soon', 'my', 'angel', 'came', 'again;', 'i', 'was', 'armed', 'he', 'came', 'in', 'vain;', 'for', 'the', 'time', 'of', 'youth', 'was', 'fled', 'and', 'grey', 'hairs', 'were', 'on', 'my', 'head', 'the', 'tiger', 'tiger', 'tiger', 'burning', 'bright', 'in', 'the', 'forest', 'of', 'the', 'night', 'what', 'immortal', 'hand', 'or', 'eye', 'could', 'frame', 'thy', 'fearful', 'symmetry', 'in', 'what', 'distant', 'deeps', 'or', 'skies', 'burnt', 'the', 'fire', 'of', 'thine', 'eyes', 'on', 'what', 'wings', 'dare', 'he', 'aspire', 'what', 'the', 'hand', 'dare', 'seize', 'the', 'fire', 'and', 'what', 'shoulder', 'and', 'what', 'art', 'could', 'twist', 'the', 'sinews', 'of', 'thy', 'heart', 'and', 'when', 'thy', 'heart', 'began', 'to', 'beat', 'what', 'dread', 'hand', 'and', 'what', 'dread', 'feet', 'what', 'the', 'hammer', 'what', 'the', 'chain', 'in', 'what', 'furnace', 'was', 'thy', 'brain', 'what', 'the', 'anvil', 'what', 'dread', 'grasp', 'dare', 'its', 'deadly', 'terrors', 'clasp', 'when', 'the', 'stars', 'threw', 'down', 'their', 'spears', 'and', 'watered', 'heaven', 'with', 'their', 'tears', 'did', 'he', 'smile', 'his', 'work', 'to', 'see', 'did', 'he', 'who', 'made', 'the', 'lamb', 'make', 'thee', 'tiger', 'tiger', 'burning', 'bright', 'in', 'the', 'forests', 'of', 'the', 'night', 'what', 'immortal', 'hand', 'or', 'eye', 'dare', 'frame', 'thy', 'fearful', 'symmetry', 'my', 'pretty', 'rose', 'tree', 'a', 'flower', 'was', 'offered', 'to', 'me', 'such', 'a', 'flower', 'as', 'may', 'never', 'bore;', 'but', 'i', 'said', '\"ive', 'a', 'pretty', 'rose', 'tree\"', 'and', 'i', 'passed', 'the', 'sweet', 'flower', 'oer', 'then', 'i', 'went', 'to', 'my', 'pretty', 'rose', 'tree', 'to', 'tend', 'her', 'by', 'day', 'and', 'by', 'night;', 'but', 'my', 'rose', 'turned', 'away', 'with', 'jealousy', 'and', 'her', 'thorns', 'were', 'my', 'only', 'delight', 'ah', 'sunflower', 'ah', 'sunflower', 'weary', 'of', 'time', 'who', 'countest', 'the', 'steps', 'of', 'the', 'sun;', 'seeking', 'after', 'that', 'sweet', 'golden', 'clime', 'where', 'the', 'travellers', 'journey', 'is', 'done;', 'where', 'the', 'youth', 'pined', 'away', 'with', 'desire', 'and', 'the', 'pale', 'virgin', 'shrouded', 'in', 'snow', 'arise', 'from', 'their', 'graves', 'and', 'aspire', 'where', 'my', 'sunflower', 'wishes', 'to', 'go', 'the', 'lily', 'the', 'modest', 'rose', 'puts', 'forth', 'a', 'thorn', 'the', 'humble', 'sheep', 'a', 'threatning', 'horn', 'while', 'the', 'lily', 'white', 'shall', 'in', 'love', 'delight', 'nor', 'a', 'thorn', 'nor', 'a', 'threat', 'stain', 'her', 'beauty', 'bright', 'the', 'garden', 'of', 'love', 'i', 'laid', 'me', 'down', 'upon', 'a', 'bank', 'where', 'love', 'lay', 'sleeping;', 'i', 'heard', 'among', 'the', 'rushes', 'dank', 'weeping', 'weeping', 'then', 'i', 'went', 'to', 'the', 'heath', 'and', 'the', 'wild', 'to', 'the', 'thistles', 'and', 'thorns', 'of', 'the', 'waste;', 'and', 'they', 'told', 'me', 'how', 'they', 'were', 'beguiled', 'driven', 'out', 'and', 'compelled', 'to', 'the', 'chaste', 'i', 'went', 'to', 'the', 'garden', 'of', 'love', 'and', 'saw', 'what', 'i', 'never', 'had', 'seen;', 'a', 'chapel', 'was', 'built', 'in', 'the', 'midst', 'where', 'i', 'used', 'to', 'play', 'on', 'the', 'green', 'and', 'the', 'gates', 'of', 'this', 'chapel', 'were', 'shut', 'and', '\"thou', 'shalt', 'not\"', 'writ', 'over', 'the', 'door;', 'so', 'i', 'turned', 'to', 'the', 'garden', 'of', 'love', 'that', 'so', 'many', 'sweet', 'flowers', 'bore', 'and', 'i', 'saw', 'it', 'was', 'filled', 'with', 'graves', 'and', 'tombstones', 'where', 'flowers', 'should', 'be;', 'and', 'priests', 'in', 'black', 'gowns', 'were', 'walking', 'their', 'rounds', 'and', 'binding', 'with', 'briars', 'my', 'joys', 'and', 'desires', 'the', 'little', 'vagabond', 'dear', 'mother', 'dear', 'mother', 'the', 'church', 'is', 'cold;', 'but', 'the', 'alehouse', 'is', 'healthy', 'and', 'pleasant', 'and', 'warm', 'besides', 'i', 'can', 'tell', 'where', 'i', 'am', 'used', 'well;', 'the', 'poor', 'parsons', 'with', 'wind', 'like', 'a', 'blown', 'bladder', 'swell', 'but', 'if', 'at', 'the', 'church', 'they', 'would', 'give', 'us', 'some', 'ale', 'and', 'a', 'pleasant', 'fire', 'our', 'souls', 'to', 'regale', 'wed', 'sing', 'and', 'wed', 'pray', 'all', 'the', 'livelong', 'day', 'nor', 'ever', 'once', 'wish', 'from', 'the', 'church', 'to', 'stray', 'then', 'the', 'parson', 'might', 'preach', 'and', 'drink', 'and', 'sing', 'and', 'wed', 'be', 'as', 'happy', 'as', 'birds', 'in', 'the', 'spring;', 'and', 'modest', 'dame', 'lurch', 'who', 'is', 'always', 'at', 'church', 'would', 'not', 'have', 'bandy', 'children', 'nor', 'fasting', 'nor', 'birch', 'and', 'god', 'like', 'a', 'father', 'rejoicing', 'to', 'see', 'his', 'children', 'as', 'pleasant', 'and', 'happy', 'as', 'he', 'would', 'have', 'no', 'more', 'quarrel', 'with', 'the', 'devil', 'or', 'the', 'barrel', 'but', 'kiss', 'him', 'and', 'give', 'him', 'both', 'drink', 'and', 'apparel', 'london', 'i', 'wandered', 'through', 'each', 'chartered', 'street', 'near', 'where', 'the', 'chartered', 'thames', 'does', 'flow', 'a', 'mark', 'in', 'every', 'face', 'i', 'meet', 'marks', 'of', 'weakness', 'marks', 'of', 'woe', 'in', 'every', 'cry', 'of', 'every', 'man', 'in', 'every', 'infants', 'cry', 'of', 'fear', 'in', 'every', 'voice', 'in', 'every', 'ban', 'the', 'mind-forged', 'manacles', 'i', 'hear', 'how', 'the', 'chimney-sweepers', 'cry', 'every', 'blackening', 'church', 'appals', 'and', 'the', 'hapless', 'soldiers', 'sigh', 'runs', 'in', 'blood', 'down', 'palace-walls', 'but', 'most', 'through', 'midnight', 'streets', 'i', 'hear', 'how', 'the', 'youthful', 'harlots', 'curse', 'blasts', 'the', 'new-born', 'infants', 'tear', 'and', 'blights', 'with', 'plagues', 'the', 'marriage-hearse', 'the', 'human', 'abstract', 'pity', 'would', 'be', 'no', 'more', 'if', 'we', 'did', 'not', 'make', 'somebody', 'poor', 'and', 'mercy', 'no', 'more', 'could', 'be', 'if', 'all', 'were', 'as', 'happy', 'as', 'we', 'and', 'mutual', 'fear', 'brings', 'peace', 'till', 'the', 'selfish', 'loves', 'increase', 'then', 'cruelty', 'knits', 'a', 'snare', 'and', 'spreads', 'his', 'baits', 'with', 'care', 'he', 'sits', 'down', 'with', 'his', 'holy', 'fears', 'and', 'waters', 'the', 'ground', 'with', 'tears;', 'then', 'humility', 'takes', 'its', 'root', 'underneath', 'his', 'foot', 'soon', 'spreads', 'the', 'dismal', 'shade', 'of', 'mystery', 'over', 'his', 'head', 'and', 'the', 'caterpillar', 'and', 'fly', 'feed', 'on', 'the', 'mystery', 'and', 'it', 'bears', 'the', 'fruit', 'of', 'deceit', 'ruddy', 'and', 'sweet', 'to', 'eat', 'and', 'the', 'raven', 'his', 'nest', 'has', 'made', 'in', 'its', 'thickest', 'shade', 'the', 'gods', 'of', 'the', 'earth', 'and', 'sea', 'sought', 'through', 'nature', 'to', 'find', 'this', 'tree', 'but', 'their', 'search', 'was', 'all', 'in', 'vain', 'there', 'grows', 'one', 'in', 'the', 'human', 'brain', 'infant', 'sorrow', 'my', 'mother', 'groaned', 'my', 'father', 'wept', 'into', 'the', 'dangerous', 'world', 'i', 'leapt', 'helpless', 'naked', 'piping', 'loud', 'like', 'a', 'fiend', 'hid', 'in', 'a', 'cloud', 'struggling', 'in', 'my', 'fathers', 'hands', 'striving', 'against', 'my', 'swaddling-bands', 'bound', 'and', 'weary', 'i', 'thought', 'best', 'to', 'sulk', 'upon', 'my', 'mothers', 'breast', 'a', 'poison', 'tree', 'i', 'was', 'angry', 'with', 'my', 'friend', 'i', 'told', 'my', 'wrath', 'my', 'wrath', 'did', 'end', 'i', 'was', 'angry', 'with', 'my', 'foe', 'i', 'told', 'it', 'not', 'my', 'wrath', 'did', 'grow', 'and', 'i', 'watered', 'it', 'in', 'fears', 'night', 'and', 'morning', 'with', 'my', 'tears', 'and', 'i', 'sunned', 'it', 'with', 'smiles', 'and', 'with', 'soft', 'deceitful', 'wiles', 'and', 'it', 'grew', 'both', 'day', 'and', 'night', 'till', 'it', 'bore', 'an', 'apple', 'bright', 'and', 'my', 'foe', 'beheld', 'it', 'shine', 'and', 'he', 'knew', 'that', 'it', 'was', 'mine', '--', 'and', 'into', 'my', 'garden', 'stole', 'when', 'the', 'night', 'had', 'veiled', 'the', 'pole;', 'in', 'the', 'morning', 'glad', 'i', 'see', 'my', 'foe', 'outstretched', 'beneath', 'the', 'tree', 'a', 'little', 'boy', 'lost', '\"nought', 'loves', 'another', 'as', 'itself', 'nor', 'venerates', 'another', 'so', 'nor', 'is', 'it', 'possible', 'to', 'thought', 'a', 'greater', 'than', 'itself', 'to', 'know', '\"and', 'father', 'how', 'can', 'i', 'love', 'you', 'or', 'any', 'of', 'my', 'brothers', 'more', 'i', 'love', 'you', 'like', 'the', 'little', 'bird', 'that', 'picks', 'up', 'crumbs', 'around', 'the', 'door\"', 'the', 'priest', 'sat', 'by', 'and', 'heard', 'the', 'child;', 'in', 'trembling', 'zeal', 'he', 'seized', 'his', 'hair', 'he', 'led', 'him', 'by', 'his', 'little', 'coat', 'and', 'all', 'admired', 'the', 'priestly', 'care', 'and', 'standing', 'on', 'the', 'altar', 'high', '\"lo', 'what', 'a', 'fiend', 'is', 'here', 'said', 'he', '\"one', 'who', 'sets', 'reason', 'up', 'for', 'judge', 'of', 'our', 'most', 'holy', 'mystery\"', 'the', 'weeping', 'child', 'could', 'not', 'be', 'heard', 'the', 'weeping', 'parents', 'wept', 'in', 'vain', 'they', 'stripped', 'him', 'to', 'his', 'little', 'shirt', 'and', 'bound', 'him', 'in', 'an', 'iron', 'chain', 'and', 'burned', 'him', 'in', 'a', 'holy', 'place', 'where', 'many', 'had', 'been', 'burned', 'before;', 'the', 'weeping', 'parents', 'wept', 'in', 'vain', 'are', 'such', 'thing', 'done', 'on', 'albions', 'shore', 'a', 'little', 'girl', 'lost', 'children', 'of', 'the', 'future', 'age', 'reading', 'this', 'indignant', 'page', 'know', 'that', 'in', 'a', 'former', 'time', 'love', 'sweet', 'love', 'was', 'thought', 'a', 'crime', 'in', 'the', 'age', 'of', 'gold', 'free', 'from', 'winters', 'cold', 'youth', 'and', 'maiden', 'bright', 'to', 'the', 'holy', 'light', 'naked', 'in', 'the', 'sunny', 'beams', 'delight', 'once', 'a', 'youthful', 'pair', 'filled', 'with', 'softest', 'care', 'met', 'in', 'garden', 'bright', 'where', 'the', 'holy', 'light', 'had', 'just', 'removed', 'the', 'curtains', 'of', 'the', 'night', 'then', 'in', 'rising', 'day', 'on', 'the', 'grass', 'they', 'play;', 'parents', 'were', 'afar', 'strangers', 'came', 'not', 'near', 'and', 'the', 'maiden', 'soon', 'forgot', 'her', 'fear', 'tired', 'with', 'kisses', 'sweet', 'they', 'agree', 'to', 'meet', 'when', 'the', 'silent', 'sleep', 'waves', 'oer', 'heavens', 'deep', 'and', 'the', 'weary', 'tired', 'wanderers', 'weep', 'to', 'her', 'father', 'white', 'came', 'the', 'maiden', 'bright;', 'but', 'his', 'loving', 'look', 'like', 'the', 'holy', 'book', 'all', 'her', 'tender', 'limbs', 'with', 'terror', 'shook', '\"ona', 'pale', 'and', 'weak', 'to', 'thy', 'father', 'speak', 'oh', 'the', 'trembling', 'fear', 'oh', 'the', 'dismal', 'care', 'that', 'shakes', 'the', 'blossoms', 'of', 'my', 'hoary', 'hair\"', 'the', 'schoolboy', 'i', 'love', 'to', 'rise', 'on', 'a', 'summer', 'morn', 'when', 'birds', 'are', 'singing', 'on', 'every', 'tree;', 'the', 'distant', 'huntsman', 'winds', 'his', 'horn', 'and', 'the', 'skylark', 'sings', 'with', 'me', 'oh', 'what', 'sweet', 'company', 'but', 'to', 'go', 'to', 'school', 'in', 'a', 'summer', 'morn', '--', 'oh', 'it', 'drives', 'all', 'joy', 'away', 'under', 'a', 'cruel', 'eye', 'outworn', 'the', 'little', 'ones', 'spend', 'the', 'day', 'in', 'sighing', 'and', 'dismay', 'ah', 'then', 'at', 'times', 'i', 'drooping', 'sit', 'and', 'spend', 'many', 'an', 'anxious', 'hour;', 'nor', 'in', 'my', 'book', 'can', 'i', 'take', 'delight', 'nor', 'sit', 'in', 'learnings', 'bower', 'worn', 'through', 'with', 'the', 'dreary', 'shower', 'how', 'can', 'the', 'bird', 'that', 'is', 'born', 'for', 'joy', 'sit', 'in', 'a', 'cage', 'and', 'sing', 'how', 'can', 'a', 'child', 'when', 'fears', 'annoy', 'but', 'droop', 'his', 'tender', 'wing', 'and', 'forget', 'his', 'youthful', 'spring', 'oh', 'father', 'and', 'mother', 'if', 'buds', 'are', 'nipped', 'and', 'blossoms', 'blown', 'away;', 'and', 'if', 'the', 'tender', 'plants', 'are', 'stripped', 'of', 'their', 'joy', 'in', 'the', 'springing', 'day', 'by', 'sorrow', 'and', 'cares', 'dismay', '--', 'how', 'shall', 'the', 'summer', 'arise', 'in', 'joy', 'or', 'the', 'summer', 'fruits', 'appear', 'or', 'how', 'shall', 'we', 'gather', 'what', 'griefs', 'destroy', 'or', 'bless', 'the', 'mellowing', 'year', 'when', 'the', 'blasts', 'of', 'winter', 'appear', 'to', 'terzah', 'whateer', 'is', 'born', 'of', 'mortal', 'birth', 'must', 'be', 'consumed', 'with', 'the', 'earth', 'to', 'rise', 'from', 'generation', 'free', 'then', 'what', 'have', 'i', 'to', 'do', 'with', 'thee', 'the', 'sexes', 'sprang', 'from', 'shame', 'and', 'pride', 'blown', 'in', 'the', 'morn', 'in', 'evening', 'died;', 'but', 'mercy', 'changed', 'death', 'into', 'sleep;', 'the', 'sexes', 'rose', 'to', 'work', 'and', 'weep', 'thou', 'mother', 'of', 'my', 'mortal', 'part', 'with', 'cruelty', 'didst', 'mould', 'my', 'heart', 'and', 'with', 'false', 'self-deceiving', 'tears', 'didst', 'bind', 'my', 'nostrils', 'eyes', 'and', 'ears', 'didst', 'close', 'my', 'tongue', 'in', 'senseless', 'clay', 'and', 'me', 'to', 'mortal', 'life', 'betray', 'the', 'death', 'of', 'jesus', 'set', 'me', 'free', 'then', 'what', 'have', 'i', 'to', 'do', 'with', 'thee', 'the', 'voice', 'of', 'the', 'ancient', 'bard', 'youth', 'of', 'delight', 'come', 'hither', 'and', 'see', 'the', 'opening', 'morn', 'image', 'of', 'truth', 'new-born', 'doubt', 'is', 'fled', 'and', 'clouds', 'of', 'reason', 'dark', 'disputes', 'and', 'artful', 'teazing', 'folly', 'is', 'an', 'endless', 'maze;', 'tangled', 'roots', 'perplex', 'her', 'ways;', 'how', 'many', 'have', 'fallen', 'there', 'they', 'stumble', 'all', 'night', 'over', 'bones', 'of', 'the', 'dead;', 'and', 'feel', '--', 'they', 'know', 'not', 'what', 'but', 'care;', 'and', 'wish', 'to', 'lead', 'others', 'when', 'they', 'should', 'be', 'led', 'appendix', 'a', 'divine', 'image', 'cruelty', 'has', 'a', 'human', 'heart', 'and', 'jealousy', 'a', 'human', 'face;', 'terror', 'the', 'human', 'form', 'divine', 'and', 'secresy', 'the', 'human', 'dress', 'the', 'human', 'dress', 'is', 'forged', 'iron', 'the', 'human', 'form', 'a', 'fiery', 'forge', 'the', 'human', 'face', 'a', 'furnace', 'sealed', 'the', 'human', 'heart', 'its', 'hungry', 'gorge', 'note', 'though', 'written', 'and', 'engraved', 'by', 'blake', '\"a', 'divine', 'image\"', 'was', 'never', 'included', 'in', 'the', 'songs', 'of', 'innocence', 'and', 'of', 'experience', 'william', 'blakes', 'the', 'book', 'of', 'thel', 'thels', 'motto', 'does', 'the', 'eagle', 'know', 'what', 'is', 'in', 'the', 'pit', 'or', 'wilt', 'thou', 'go', 'ask', 'the', 'mole', 'can', 'wisdom', 'be', 'put', 'in', 'a', 'silver', 'rod', 'or', 'love', 'in', 'a', 'golden', 'bowl', 'the', 'book', 'of', 'thel', 'the', 'author', '&', 'printer', 'willm', 'blake', '1780', 'thel', 'i', 'the', 'daughters', 'of', 'mne', 'seraphim', 'led', 'round', 'their', 'sunny', 'flocks', 'all', 'but', 'the', 'youngest', 'she', 'in', 'paleness', 'sought', 'the', 'secret', 'air', 'to', 'fade', 'away', 'like', 'morning', 'beauty', 'from', 'her', 'mortal', 'day', 'down', 'by', 'the', 'river', 'of', 'adona', 'her', 'soft', 'voice', 'is', 'heard;', 'and', 'thus', 'her', 'gentle', 'lamentation', 'falls', 'like', 'morning', 'dew', 'o', 'life', 'of', 'this', 'our', 'spring', 'why', 'fades', 'the', 'lotus', 'of', 'the', 'water', 'why', 'fade', 'these', 'children', 'of', 'the', 'spring', 'born', 'but', 'to', 'smile', '&', 'fall', 'ah', 'thel', 'is', 'like', 'a', 'watry', 'bow', 'and', 'like', 'a', 'parting', 'cloud', 'like', 'a', 'reflection', 'in', 'a', 'glass', 'like', 'shadows', 'in', 'the', 'water', 'like', 'dreams', 'of', 'infants', 'like', 'a', 'smile', 'upon', 'an', 'infants', 'face', 'like', 'the', 'doves', 'voice', 'like', 'transient', 'day', 'like', 'music', 'in', 'the', 'air', 'ah', 'gentle', 'may', 'i', 'lay', 'me', 'down', 'and', 'gentle', 'rest', 'my', 'head', 'and', 'gentle', 'sleep', 'the', 'sleep', 'of', 'death', 'and', 'gently', 'hear', 'the', 'voice', 'of', 'him', 'that', 'walketh', 'in', 'the', 'garden', 'in', 'the', 'evening', 'time', 'the', 'lilly', 'of', 'the', 'valley', 'breathing', 'in', 'the', 'humble', 'grass', 'answerd', 'the', 'lovely', 'maid', 'and', 'said', 'i', 'am', 'a', 'watry', 'weed', 'and', 'i', 'am', 'very', 'small', 'and', 'love', 'to', 'dwell', 'in', 'lowly', 'vales', 'so', 'weak', 'the', 'gilded', 'butterfly', 'scarce', 'perches', 'on', 'my', 'head', 'yet', 'i', 'am', 'visited', 'from', 'heaven', 'and', 'he', 'that', 'smiles', 'on', 'all', 'walks', 'in', 'the', 'valley', 'and', 'each', 'morn', 'over', 'me', 'spreads', 'his', 'hand', 'saying', 'rejoice', 'thou', 'humble', 'grass', 'thou', 'new-born', 'lily', 'flower', 'thou', 'gentle', 'maid', 'of', 'silent', 'valleys', 'and', 'of', 'modest', 'brooks', 'for', 'thou', 'shall', 'be', 'clothed', 'in', 'light', 'and', 'fed', 'with', 'morning', 'manna', 'till', 'summers', 'heat', 'melts', 'thee', 'beside', 'the', 'fountains', 'and', 'the', 'springs', 'to', 'flourish', 'in', 'eternal', 'vales', 'they', 'why', 'should', 'thel', 'complain', 'why', 'should', 'the', 'mistress', 'of', 'the', 'vales', 'of', 'har', 'utter', 'a', 'sigh', 'she', 'ceasd', '&', 'smild', 'in', 'tears', 'then', 'sat', 'down', 'in', 'her', 'silver', 'shrine', 'thel', 'answerd', 'o', 'thou', 'little', 'virgin', 'of', 'the', 'peaceful', 'valley', 'giving', 'to', 'those', 'that', 'cannot', 'crave', 'the', 'voiceless', 'the', 'oer', 'tired', 'the', 'breath', 'doth', 'nourish', 'the', 'innocent', 'lamb', 'he', 'smells', 'the', 'milky', 'garments', 'he', 'crops', 'thy', 'flowers', 'while', 'thou', 'sittest', 'smiling', 'in', 'his', 'face', 'wiping', 'his', 'mild', 'and', 'meekin', 'mouth', 'from', 'all', 'contagious', 'taints', 'thy', 'wine', 'doth', 'purify', 'the', 'golden', 'honey;', 'thy', 'perfume', 'which', 'thou', 'dost', 'scatter', 'on', 'every', 'little', 'blade', 'of', 'grass', 'that', 'springs', 'revives', 'the', 'milked', 'cow', '&', 'tames', 'the', 'fire-breathing', 'steed', 'but', 'thel', 'is', 'like', 'a', 'faint', 'cloud', 'kindled', 'at', 'the', 'rising', 'sun', 'i', 'vanish', 'from', 'my', 'pearly', 'throne', 'and', 'who', 'shall', 'find', 'my', 'place', 'queen', 'of', 'the', 'vales', 'the', 'lily', 'answered', 'ask', 'the', 'tender', 'cloud', 'and', 'it', 'shall', 'tell', 'thee', 'why', 'it', 'glitters', 'in', 'the', 'morning', 'sky', 'and', 'why', 'it', 'scatters', 'its', 'bright', 'beauty', 'thro', 'the', 'humid', 'air', 'descend', 'o', 'little', 'cloud', '&', 'hover', 'before', 'the', 'eyes', 'of', 'thel', 'the', 'cloud', 'descended', 'and', 'the', 'lily', 'bowd', 'her', 'modest', 'head', 'and', 'went', 'to', 'mind', 'her', 'numerous', 'charge', 'among', 'the', 'verdant', 'grass', 'ii', 'o', 'little', 'cloud', 'the', 'virgin', 'said', 'i', 'charge', 'thee', 'to', 'tell', 'me', 'why', 'thou', 'complainest', 'now', 'when', 'in', 'one', 'hour', 'thou', 'fade', 'away', 'then', 'we', 'shall', 'seek', 'thee', 'but', 'not', 'find', 'ah', 'thel', 'is', 'like', 'to', 'thee', 'i', 'pass', 'away', 'yet', 'i', 'complain', 'and', 'no', 'one', 'hears', 'my', 'voice', 'the', 'cloud', 'then', 'shewd', 'his', 'golden', 'head', '&', 'his', 'bright', 'form', 'emergd', 'hovering', 'and', 'glittering', 'on', 'the', 'air', 'before', 'the', 'face', 'of', 'thel', 'o', 'virgin', 'knowst', 'thou', 'not', 'our', 'steeds', 'drink', 'of', 'the', 'golden', 'springs', 'where', 'luvah', 'doth', 'renew', 'his', 'horses', 'lookst', 'thou', 'on', 'my', 'youth', 'and', 'fearest', 'thou', 'because', 'i', 'vanish', 'and', 'am', 'seen', 'no', 'more', 'nothing', 'remains;', 'o', 'maid', 'i', 'tell', 'thee', 'when', 'i', 'pass', 'away', 'it', 'is', 'to', 'tenfold', 'life', 'to', 'love', 'to', 'peace', 'and', 'raptures', 'holy', 'unseen', 'descending', 'weigh', 'my', 'light', 'wings', 'upon', 'balmy', 'flowers', 'and', 'court', 'the', 'fair', 'eyed', 'dew', 'to', 'take', 'me', 'to', 'her', 'shining', 'tent', 'the', 'weeping', 'virgin', 'trembling', 'kneels', 'before', 'the', 'risen', 'sun', 'till', 'we', 'arise', 'linkd', 'in', 'a', 'golden', 'band', 'and', 'never', 'part', 'but', 'walk', 'united', 'bearing', 'food', 'to', 'all', 'our', 'tender', 'flowers', 'dost', 'thou', 'o', 'little', 'cloud', 'i', 'fear', 'that', 'i', 'am', 'not', 'like', 'thee', 'for', 'i', 'walk', 'through', 'the', 'vales', 'of', 'har', 'and', 'smell', 'the', 'sweetest', 'flowers', 'but', 'i', 'feed', 'not', 'the', 'little', 'flowers', 'i', 'hear', 'the', 'warbling', 'birds', 'but', 'i', 'feed', 'not', 'the', 'warbling', 'birds', 'they', 'fly', 'and', 'seek', 'their', 'food', 'but', 'thel', 'delights', 'in', 'these', 'no', 'more', 'because', 'i', 'fade', 'away', 'and', 'all', 'shall', 'say', 'without', 'a', 'use', 'this', 'shining', 'women', 'livd', 'or', 'did', 'she', 'only', 'live', 'to', 'be', 'at', 'death', 'the', 'food', 'of', 'worms', 'the', 'cloud', 'reclind', 'upon', 'his', 'airy', 'throne', 'and', 'answerd', 'thus', 'then', 'if', 'thou', 'art', 'the', 'food', 'of', 'worms', 'o', 'virgin', 'of', 'the', 'skies', 'how', 'great', 'thy', 'use', 'how', 'great', 'thy', 'blessing', 'every', 'thing', 'that', 'lives', 'lives', 'not', 'alone', 'nor', 'or', 'itself', 'fear', 'not', 'and', 'i', 'will', 'call', 'the', 'weak', 'worm', 'from', 'its', 'lowly', 'bed', 'and', 'thou', 'shalt', 'hear', 'its', 'voice', 'come', 'forth', 'worm', 'and', 'the', 'silent', 'valley', 'to', 'thy', 'pensive', 'queen', 'the', 'helpless', 'worm', 'arose', 'and', 'sat', 'upon', 'the', 'lillys', 'leaf', 'and', 'the', 'bright', 'cloud', 'saild', 'on', 'to', 'find', 'his', 'partner', 'in', 'the', 'vale', 'iii', 'then', 'thel', 'astonishd', 'viewd', 'the', 'worm', 'upon', 'its', 'dewy', 'bed', 'art', 'thou', 'a', 'worm', 'image', 'of', 'weakness', 'art', 'thou', 'but', 'a', 'worm', 'i', 'see', 'thee', 'like', 'an', 'infant', 'wrapped', 'in', 'the', 'lillys', 'leaf;', 'ah', 'weep', 'not', 'little', 'voice', 'thou', 'canst', 'not', 'speak', 'but', 'thou', 'canst', 'weep', 'is', 'this', 'a', 'worm', 'i', 'see', 'they', 'lay', 'helpless', '&', 'naked', 'weeping', 'and', 'none', 'to', 'answer', 'none', 'to', 'cherish', 'thee', 'with', 'mothers', 'smiles', 'the', 'clod', 'of', 'clay', 'heard', 'the', 'worms', 'voice', '&', 'raisd', 'her', 'pitying', 'head', 'she', 'bowd', 'over', 'the', 'weeping', 'infant', 'and', 'her', 'life', 'exhald', 'in', 'milky', 'fondness', 'then', 'on', 'thel', 'she', 'fixd', 'her', 'humble', 'eyes', 'o', 'beauty', 'of', 'the', 'vales', 'of', 'har', 'we', 'live', 'not', 'for', 'ourselves', 'thou', 'seest', 'me', 'the', 'meanest', 'thing', 'and', 'so', 'i', 'am', 'indeed', 'my', 'bosom', 'of', 'itself', 'is', 'cold', 'and', 'of', 'itself', 'is', 'dark', 'but', 'he', 'that', 'loves', 'the', 'lowly', 'pours', 'his', 'oil', 'upon', 'my', 'head', 'and', 'kisses', 'me', 'and', 'binds', 'his', 'nuptial', 'bands', 'around', 'my', 'breast', 'and', 'says;', 'thou', 'mother', 'of', 'my', 'children', 'i', 'have', 'loved', 'thee', 'and', 'i', 'have', 'given', 'thee', 'a', 'crown', 'that', 'none', 'can', 'take', 'away', 'but', 'how', 'this', 'is', 'sweet', 'maid', 'i', 'know', 'not', 'and', 'i', 'cannot', 'know', 'i', 'ponder', 'and', 'i', 'cannot', 'ponder;', 'yet', 'i', 'live', 'and', 'love', 'the', 'daughter', 'of', 'beauty', 'wipd', 'her', 'pitying', 'tears', 'with', 'her', 'white', 'veil', 'and', 'said', 'alas', 'i', 'knew', 'not', 'this', 'and', 'therefore', 'did', 'i', 'weep', 'that', 'god', 'would', 'love', 'a', 'worm', 'i', 'knew', 'and', 'punish', 'the', 'evil', 'foot', 'that', 'wilful', 'bruisd', 'its', 'helpless', 'form', 'but', 'that', 'he', 'cherishd', 'it', 'with', 'milk', 'and', 'oil', 'i', 'never', 'knew', 'and', 'therefore', 'did', 'i', 'weep', 'and', 'i', 'complaind', 'in', 'the', 'mild', 'air', 'because', 'i', 'fade', 'away', 'and', 'lay', 'me', 'down', 'in', 'thy', 'cold', 'bed', 'and', 'leave', 'my', 'shining', 'lot', 'queen', 'of', 'the', 'vales', 'the', 'matron', 'clay', 'answered', 'i', 'heard', 'thy', 'sighs', 'and', 'all', 'thy', 'moans', 'flew', 'oer', 'my', 'roof', 'but', 'i', 'have', 'calld', 'them', 'down', 'wilt', 'thou', 'o', 'queen', 'enter', 'my', 'house', 'tis', 'given', 'thee', 'to', 'enter', 'and', 'to', 'return', 'fear', 'nothing', 'enter', 'with', 'thy', 'virgin', 'feet', 'iv', 'the', 'eternal', 'gates', 'terrific', 'porter', 'lifted', 'the', 'northern', 'bar', 'thel', 'enterd', 'in', '&', 'saw', 'the', 'secrets', 'of', 'the', 'land', 'unknown;', 'she', 'saw', 'the', 'couches', 'of', 'the', 'dead', '&', 'where', 'the', 'fibrous', 'roots', 'of', 'every', 'heart', 'on', 'earth', 'infixes', 'deep', 'its', 'restless', 'twists', 'a', 'land', 'of', 'sorrows', '&', 'of', 'tears', 'where', 'never', 'smile', 'was', 'seen', 'she', 'wandered', 'in', 'the', 'land', 'of', 'clouds', 'thro', 'valleys', 'dark', 'listning', 'dolors', '&', 'lamentations', 'waiting', 'oft', 'beside', 'the', 'dewy', 'grave', 'she', 'stood', 'in', 'silence', 'listning', 'to', 'the', 'voices', 'of', 'the', 'ground', 'till', 'to', 'her', 'own', 'grave', 'plot', 'she', 'came', '&', 'there', 'she', 'sat', 'down', 'and', 'heard', 'this', 'voice', 'of', 'sorrow', 'breathed', 'from', 'the', 'hollow', 'pit', 'why', 'cannot', 'the', 'ear', 'be', 'closed', 'to', 'its', 'own', 'destruction', 'or', 'the', 'glistening', 'eye', 'to', 'the', 'poison', 'of', 'a', 'smile', 'why', 'are', 'eyelids', 'stord', 'with', 'arrows', 'ready', 'drawn', 'where', 'a', 'thousand', 'fighting', 'men', 'in', 'ambush', 'lie', 'or', 'an', 'eye', 'of', 'gifts', '&', 'graces', 'showring', 'fruits', '&', 'coined', 'gold', 'why', 'a', 'tongue', 'impressd', 'with', 'honey', 'from', 'every', 'wind', 'why', 'an', 'ear', 'a', 'whirlpool', 'fierce', 'to', 'draw', 'creations', 'in', 'why', 'a', 'nostril', 'wide', 'inhaling', 'terror', 'trembling', '&', 'affright', 'why', 'a', 'tender', 'curb', 'upon', 'the', 'youthful', 'burning', 'boy', 'why', 'a', 'little', 'curtain', 'of', 'flesh', 'on', 'the', 'bed', 'of', 'our', 'desire', 'the', 'virgin', 'started', 'from', 'her', 'seat', '&', 'with', 'a', 'shriek', 'fled', 'back', 'unhinderd', 'till', 'she', 'came', 'into', 'the', 'vales', 'of', 'har']\n"
     ]
    }
   ],
   "source": [
    "# Counting words line by line.\n",
    "\n",
    "import os\n",
    "\n",
    "parent_dir = os.getcwd()\n",
    "child_dir = os.path.join(parent_dir, \"text-files\")\n",
    "fname = os.path.join(child_dir, \"blakepoems.txt\")\n",
    "\n",
    "\n",
    "my_dict ={}\n",
    "count = 0\n",
    "with open(fname,'r') as K:\n",
    "    words = K.readlines()\n",
    "\n",
    "        \n",
    "    words = ' '.join([str(elem) for elem in words])\n",
    "    words = words.lower().replace(\"\\n\",\"\").replace(\"[\",\"\").replace(\"]\",\"\").replace(\",\",\"\").replace(\"!\",\"\").replace(\"'\",\"\").replace(\"?\",\"\").replace(\":\",\"\").replace(\".\",\"\") \n",
    "    words = words.split()\n",
    "    \n",
    "    print(words)\n",
    "    \n",
    "    for word in words:               #If each word not in my_dict, then count it and append it to dict\n",
    "        if word not in my_dict:\n",
    "            count = words.count(word)\n",
    "            my_dict[word] = count\n",
    "            \n",
    "    my_sorted_dict = sorted(my_dict.items())\n",
    "    my_new_dict = dict(my_sorted_dict)  \n",
    "    \n",
    "    #print(my_new_dict)\n",
    "\n",
    "\n",
    "\n",
    "\n",
    "\n",
    "        "
   ]
  },
  {
   "cell_type": "markdown",
   "metadata": {},
   "source": [
    "---"
   ]
  }
 ],
 "metadata": {
  "kernelspec": {
   "display_name": "Python 3",
   "language": "python",
   "name": "python3"
  },
  "language_info": {
   "codemirror_mode": {
    "name": "ipython",
    "version": 3
   },
   "file_extension": ".py",
   "mimetype": "text/x-python",
   "name": "python",
   "nbconvert_exporter": "python",
   "pygments_lexer": "ipython3",
   "version": "3.8.8"
  }
 },
 "nbformat": 4,
 "nbformat_minor": 1
}
