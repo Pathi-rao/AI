{
 "cells": [
  {
   "cell_type": "code",
   "execution_count": 1,
   "id": "6715edcc",
   "metadata": {
    "ExecuteTime": {
     "end_time": "2021-06-18T14:13:12.321189Z",
     "start_time": "2021-06-18T14:13:11.266356Z"
    }
   },
   "outputs": [],
   "source": [
    "import numpy as np\n",
    "import cv2\n",
    "import matplotlib.pyplot as plt"
   ]
  },
  {
   "cell_type": "code",
   "execution_count": 2,
   "id": "727b13be",
   "metadata": {
    "ExecuteTime": {
     "end_time": "2021-06-18T14:13:12.336666Z",
     "start_time": "2021-06-18T14:13:12.326056Z"
    }
   },
   "outputs": [],
   "source": [
    "#helper function\n",
    "def imshow(img):\n",
    "    plt.figure(figsize=(10,7))\n",
    "    plt.imshow(img, cmap='gray')"
   ]
  },
  {
   "cell_type": "code",
   "execution_count": 7,
   "id": "ed2c5165",
   "metadata": {
    "ExecuteTime": {
     "end_time": "2021-06-18T14:15:23.481090Z",
     "start_time": "2021-06-18T14:15:07.965574Z"
    }
   },
   "outputs": [],
   "source": [
    "#the video must be in the same folder as this file\n",
    "\n",
    "def lane_detecter(input_video):\n",
    "    \n",
    "    cap = cv2.VideoCapture(input_video) \n",
    "    \n",
    "    #Intial checkup for video\n",
    "    if not cap.isOpened():\n",
    "        print(\"Cannot open video\")\n",
    "        exit()\n",
    "    while True:\n",
    "        \n",
    "        ret, frame = cap.read()\n",
    "        \n",
    "        if not ret:\n",
    "            print(\"Can't receive frame. Exiting ...\")\n",
    "            break\n",
    "        blurred = cv2.GaussianBlur(frame, (3, 3), 1)\n",
    "        gray_image = cv2.cvtColor(blurred, cv2.COLOR_BGR2GRAY)\n",
    "        inv_gray_image = ~gray_image\n",
    "\n",
    "        thresh_hold_image = cv2.adaptiveThreshold(inv_gray_image, 200, cv2.ADAPTIVE_THRESH_MEAN_C, cv2.THRESH_BINARY_INV, 7, 10)\n",
    "        closed = cv2.morphologyEx(thresh_hold_image, cv2.MORPH_OPEN, (3,3))\n",
    "\n",
    "        dilated = cv2.dilate(closed, (3,3), iterations=1) \n",
    "        cannyed = cv2.Canny(dilated, 30, 100)\n",
    "        \n",
    "        #cannyed_crop = cannyed[:, 280:750]\n",
    "        \n",
    "        height, width = cannyed.shape[0], cannyed.shape[1]\n",
    "\n",
    "        roi_vert = [(0, height),(width/2.1, height/2.1),(width, height)]\n",
    "        \n",
    "        def roi_mask(img, points):\n",
    "            mask = np.zeros_like(img)\n",
    "            match_mask_color = 255\n",
    "            cv2.fillPoly(mask, points, match_mask_color)\n",
    "            masked_image = cv2.bitwise_and(img, mask)\n",
    "            return masked_image\n",
    "        \n",
    "        \n",
    "        roi_image = roi_mask(cannyed, np.array([roi_vert], np.int32))\n",
    "        \n",
    "        lines = cv2.HoughLinesP(roi_image, rho = 1, theta = np.pi / 60, threshold = 21, \n",
    "                                lines = np.array([]), minLineLength = 21, maxLineGap = 233)\n",
    "        \n",
    "        \n",
    "        img_copy = frame.copy()\n",
    "        line_image = np.zeros((img_copy.shape[0], img_copy.shape[1], img_copy.shape[2]), dtype=np.uint8)\n",
    "    \n",
    "        for line in lines:\n",
    "            for x1, y1, x2, y2 in line:\n",
    "                cv2.line(line_image, (x1, y1), (x2, y2), (0, 255, 0), 5)\n",
    "    \n",
    "        img_copy = cv2.addWeighted(img_copy, 0.8,line_image, 1, 0)\n",
    "        \n",
    "        \n",
    "        cv2.imshow('lane_detector', img_copy)\n",
    "        #cv2.imshow('lane_detector', roi_image)\n",
    "        \n",
    "        cv2.waitKey(30)\n",
    "        if cv2.waitKey(1) == ord('q'):\n",
    "            break\n",
    "            \n",
    "    # When everything done, release the capture\n",
    "    cap.release()\n",
    "    cv2.destroyAllWindows()\n",
    "    \n",
    "    \n",
    "lane_detecter('solidWhiteRight.mp4')"
   ]
  }
 ],
 "metadata": {
  "kernelspec": {
   "display_name": "Python 3",
   "language": "python",
   "name": "python3"
  },
  "language_info": {
   "codemirror_mode": {
    "name": "ipython",
    "version": 3
   },
   "file_extension": ".py",
   "mimetype": "text/x-python",
   "name": "python",
   "nbconvert_exporter": "python",
   "pygments_lexer": "ipython3",
   "version": "3.8.10"
  }
 },
 "nbformat": 4,
 "nbformat_minor": 5
}
