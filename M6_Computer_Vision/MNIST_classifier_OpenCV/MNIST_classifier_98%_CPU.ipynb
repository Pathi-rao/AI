{
  "nbformat": 4,
  "nbformat_minor": 0,
  "metadata": {
    "interpreter": {
      "hash": "7da0dff66cc1656971d6da80a6d455a6736937c6f28b91b322b223214c78ae6d"
    },
    "kernelspec": {
      "display_name": "Python 3.8.10 64-bit ('minicyborg': conda)",
      "name": "python3"
    },
    "language_info": {
      "codemirror_mode": {
        "name": "ipython",
        "version": 3
      },
      "file_extension": ".py",
      "mimetype": "text/x-python",
      "name": "python",
      "nbconvert_exporter": "python",
      "pygments_lexer": "ipython3",
      "version": "3.8.10"
    },
    "orig_nbformat": 2,
    "colab": {
      "name": "MNIST_classifier_98%CPU.ipynb",
      "provenance": [],
      "collapsed_sections": []
    },
    "widgets": {
      "application/vnd.jupyter.widget-state+json": {
        "38cafaa0a0e64f61bfc918a058ea5365": {
          "model_module": "@jupyter-widgets/controls",
          "model_name": "HBoxModel",
          "state": {
            "_view_name": "HBoxView",
            "_dom_classes": [],
            "_model_name": "HBoxModel",
            "_view_module": "@jupyter-widgets/controls",
            "_model_module_version": "1.5.0",
            "_view_count": null,
            "_view_module_version": "1.5.0",
            "box_style": "",
            "layout": "IPY_MODEL_9e3dbc52b187438caf784c8459567a5d",
            "_model_module": "@jupyter-widgets/controls",
            "children": [
              "IPY_MODEL_3dcc1094ed8d4064bbdf4fd15e4cf4ba",
              "IPY_MODEL_d1c35c59d6994c59a7e8a98f25e6b613"
            ]
          }
        },
        "9e3dbc52b187438caf784c8459567a5d": {
          "model_module": "@jupyter-widgets/base",
          "model_name": "LayoutModel",
          "state": {
            "_view_name": "LayoutView",
            "grid_template_rows": null,
            "right": null,
            "justify_content": null,
            "_view_module": "@jupyter-widgets/base",
            "overflow": null,
            "_model_module_version": "1.2.0",
            "_view_count": null,
            "flex_flow": null,
            "width": null,
            "min_width": null,
            "border": null,
            "align_items": null,
            "bottom": null,
            "_model_module": "@jupyter-widgets/base",
            "top": null,
            "grid_column": null,
            "overflow_y": null,
            "overflow_x": null,
            "grid_auto_flow": null,
            "grid_area": null,
            "grid_template_columns": null,
            "flex": null,
            "_model_name": "LayoutModel",
            "justify_items": null,
            "grid_row": null,
            "max_height": null,
            "align_content": null,
            "visibility": null,
            "align_self": null,
            "height": null,
            "min_height": null,
            "padding": null,
            "grid_auto_rows": null,
            "grid_gap": null,
            "max_width": null,
            "order": null,
            "_view_module_version": "1.2.0",
            "grid_template_areas": null,
            "object_position": null,
            "object_fit": null,
            "grid_auto_columns": null,
            "margin": null,
            "display": null,
            "left": null
          }
        },
        "3dcc1094ed8d4064bbdf4fd15e4cf4ba": {
          "model_module": "@jupyter-widgets/controls",
          "model_name": "FloatProgressModel",
          "state": {
            "_view_name": "ProgressView",
            "style": "IPY_MODEL_e71750a4cbc1402b95b34f9b9bcce779",
            "_dom_classes": [],
            "description": "",
            "_model_name": "FloatProgressModel",
            "bar_style": "success",
            "max": 9912422,
            "_view_module": "@jupyter-widgets/controls",
            "_model_module_version": "1.5.0",
            "value": 9912422,
            "_view_count": null,
            "_view_module_version": "1.5.0",
            "orientation": "horizontal",
            "min": 0,
            "description_tooltip": null,
            "_model_module": "@jupyter-widgets/controls",
            "layout": "IPY_MODEL_bf78aefcab66481faecdee21f2e3075f"
          }
        },
        "d1c35c59d6994c59a7e8a98f25e6b613": {
          "model_module": "@jupyter-widgets/controls",
          "model_name": "HTMLModel",
          "state": {
            "_view_name": "HTMLView",
            "style": "IPY_MODEL_c64651f28b23423992a046466df0b040",
            "_dom_classes": [],
            "description": "",
            "_model_name": "HTMLModel",
            "placeholder": "​",
            "_view_module": "@jupyter-widgets/controls",
            "_model_module_version": "1.5.0",
            "value": " 9913344/? [00:05&lt;00:00, 1746886.24it/s]",
            "_view_count": null,
            "_view_module_version": "1.5.0",
            "description_tooltip": null,
            "_model_module": "@jupyter-widgets/controls",
            "layout": "IPY_MODEL_5677d91b6689497faba89a8d58918ec0"
          }
        },
        "e71750a4cbc1402b95b34f9b9bcce779": {
          "model_module": "@jupyter-widgets/controls",
          "model_name": "ProgressStyleModel",
          "state": {
            "_view_name": "StyleView",
            "_model_name": "ProgressStyleModel",
            "description_width": "initial",
            "_view_module": "@jupyter-widgets/base",
            "_model_module_version": "1.5.0",
            "_view_count": null,
            "_view_module_version": "1.2.0",
            "bar_color": null,
            "_model_module": "@jupyter-widgets/controls"
          }
        },
        "bf78aefcab66481faecdee21f2e3075f": {
          "model_module": "@jupyter-widgets/base",
          "model_name": "LayoutModel",
          "state": {
            "_view_name": "LayoutView",
            "grid_template_rows": null,
            "right": null,
            "justify_content": null,
            "_view_module": "@jupyter-widgets/base",
            "overflow": null,
            "_model_module_version": "1.2.0",
            "_view_count": null,
            "flex_flow": null,
            "width": null,
            "min_width": null,
            "border": null,
            "align_items": null,
            "bottom": null,
            "_model_module": "@jupyter-widgets/base",
            "top": null,
            "grid_column": null,
            "overflow_y": null,
            "overflow_x": null,
            "grid_auto_flow": null,
            "grid_area": null,
            "grid_template_columns": null,
            "flex": null,
            "_model_name": "LayoutModel",
            "justify_items": null,
            "grid_row": null,
            "max_height": null,
            "align_content": null,
            "visibility": null,
            "align_self": null,
            "height": null,
            "min_height": null,
            "padding": null,
            "grid_auto_rows": null,
            "grid_gap": null,
            "max_width": null,
            "order": null,
            "_view_module_version": "1.2.0",
            "grid_template_areas": null,
            "object_position": null,
            "object_fit": null,
            "grid_auto_columns": null,
            "margin": null,
            "display": null,
            "left": null
          }
        },
        "c64651f28b23423992a046466df0b040": {
          "model_module": "@jupyter-widgets/controls",
          "model_name": "DescriptionStyleModel",
          "state": {
            "_view_name": "StyleView",
            "_model_name": "DescriptionStyleModel",
            "description_width": "",
            "_view_module": "@jupyter-widgets/base",
            "_model_module_version": "1.5.0",
            "_view_count": null,
            "_view_module_version": "1.2.0",
            "_model_module": "@jupyter-widgets/controls"
          }
        },
        "5677d91b6689497faba89a8d58918ec0": {
          "model_module": "@jupyter-widgets/base",
          "model_name": "LayoutModel",
          "state": {
            "_view_name": "LayoutView",
            "grid_template_rows": null,
            "right": null,
            "justify_content": null,
            "_view_module": "@jupyter-widgets/base",
            "overflow": null,
            "_model_module_version": "1.2.0",
            "_view_count": null,
            "flex_flow": null,
            "width": null,
            "min_width": null,
            "border": null,
            "align_items": null,
            "bottom": null,
            "_model_module": "@jupyter-widgets/base",
            "top": null,
            "grid_column": null,
            "overflow_y": null,
            "overflow_x": null,
            "grid_auto_flow": null,
            "grid_area": null,
            "grid_template_columns": null,
            "flex": null,
            "_model_name": "LayoutModel",
            "justify_items": null,
            "grid_row": null,
            "max_height": null,
            "align_content": null,
            "visibility": null,
            "align_self": null,
            "height": null,
            "min_height": null,
            "padding": null,
            "grid_auto_rows": null,
            "grid_gap": null,
            "max_width": null,
            "order": null,
            "_view_module_version": "1.2.0",
            "grid_template_areas": null,
            "object_position": null,
            "object_fit": null,
            "grid_auto_columns": null,
            "margin": null,
            "display": null,
            "left": null
          }
        },
        "7126bffa503c4142864505c86a1bedac": {
          "model_module": "@jupyter-widgets/controls",
          "model_name": "HBoxModel",
          "state": {
            "_view_name": "HBoxView",
            "_dom_classes": [],
            "_model_name": "HBoxModel",
            "_view_module": "@jupyter-widgets/controls",
            "_model_module_version": "1.5.0",
            "_view_count": null,
            "_view_module_version": "1.5.0",
            "box_style": "",
            "layout": "IPY_MODEL_ada8c3b6fbb34c0fad9bd79d1b049fec",
            "_model_module": "@jupyter-widgets/controls",
            "children": [
              "IPY_MODEL_9f5004b2ed404f87808077b56f592215",
              "IPY_MODEL_5f32709b9d7b445b81ef853d10238b93"
            ]
          }
        },
        "ada8c3b6fbb34c0fad9bd79d1b049fec": {
          "model_module": "@jupyter-widgets/base",
          "model_name": "LayoutModel",
          "state": {
            "_view_name": "LayoutView",
            "grid_template_rows": null,
            "right": null,
            "justify_content": null,
            "_view_module": "@jupyter-widgets/base",
            "overflow": null,
            "_model_module_version": "1.2.0",
            "_view_count": null,
            "flex_flow": null,
            "width": null,
            "min_width": null,
            "border": null,
            "align_items": null,
            "bottom": null,
            "_model_module": "@jupyter-widgets/base",
            "top": null,
            "grid_column": null,
            "overflow_y": null,
            "overflow_x": null,
            "grid_auto_flow": null,
            "grid_area": null,
            "grid_template_columns": null,
            "flex": null,
            "_model_name": "LayoutModel",
            "justify_items": null,
            "grid_row": null,
            "max_height": null,
            "align_content": null,
            "visibility": null,
            "align_self": null,
            "height": null,
            "min_height": null,
            "padding": null,
            "grid_auto_rows": null,
            "grid_gap": null,
            "max_width": null,
            "order": null,
            "_view_module_version": "1.2.0",
            "grid_template_areas": null,
            "object_position": null,
            "object_fit": null,
            "grid_auto_columns": null,
            "margin": null,
            "display": null,
            "left": null
          }
        },
        "9f5004b2ed404f87808077b56f592215": {
          "model_module": "@jupyter-widgets/controls",
          "model_name": "FloatProgressModel",
          "state": {
            "_view_name": "ProgressView",
            "style": "IPY_MODEL_1444d9d011c14321a8ed7692faf1508e",
            "_dom_classes": [],
            "description": "",
            "_model_name": "FloatProgressModel",
            "bar_style": "success",
            "max": 28881,
            "_view_module": "@jupyter-widgets/controls",
            "_model_module_version": "1.5.0",
            "value": 28881,
            "_view_count": null,
            "_view_module_version": "1.5.0",
            "orientation": "horizontal",
            "min": 0,
            "description_tooltip": null,
            "_model_module": "@jupyter-widgets/controls",
            "layout": "IPY_MODEL_50ff0be77de54640af7badb7ca109587"
          }
        },
        "5f32709b9d7b445b81ef853d10238b93": {
          "model_module": "@jupyter-widgets/controls",
          "model_name": "HTMLModel",
          "state": {
            "_view_name": "HTMLView",
            "style": "IPY_MODEL_a777138d651b4da7bb078426655e4a42",
            "_dom_classes": [],
            "description": "",
            "_model_name": "HTMLModel",
            "placeholder": "​",
            "_view_module": "@jupyter-widgets/controls",
            "_model_module_version": "1.5.0",
            "value": " 29696/? [00:00&lt;00:00, 53651.87it/s]",
            "_view_count": null,
            "_view_module_version": "1.5.0",
            "description_tooltip": null,
            "_model_module": "@jupyter-widgets/controls",
            "layout": "IPY_MODEL_3ad8139d5b194fbea3e32fe72de4403d"
          }
        },
        "1444d9d011c14321a8ed7692faf1508e": {
          "model_module": "@jupyter-widgets/controls",
          "model_name": "ProgressStyleModel",
          "state": {
            "_view_name": "StyleView",
            "_model_name": "ProgressStyleModel",
            "description_width": "initial",
            "_view_module": "@jupyter-widgets/base",
            "_model_module_version": "1.5.0",
            "_view_count": null,
            "_view_module_version": "1.2.0",
            "bar_color": null,
            "_model_module": "@jupyter-widgets/controls"
          }
        },
        "50ff0be77de54640af7badb7ca109587": {
          "model_module": "@jupyter-widgets/base",
          "model_name": "LayoutModel",
          "state": {
            "_view_name": "LayoutView",
            "grid_template_rows": null,
            "right": null,
            "justify_content": null,
            "_view_module": "@jupyter-widgets/base",
            "overflow": null,
            "_model_module_version": "1.2.0",
            "_view_count": null,
            "flex_flow": null,
            "width": null,
            "min_width": null,
            "border": null,
            "align_items": null,
            "bottom": null,
            "_model_module": "@jupyter-widgets/base",
            "top": null,
            "grid_column": null,
            "overflow_y": null,
            "overflow_x": null,
            "grid_auto_flow": null,
            "grid_area": null,
            "grid_template_columns": null,
            "flex": null,
            "_model_name": "LayoutModel",
            "justify_items": null,
            "grid_row": null,
            "max_height": null,
            "align_content": null,
            "visibility": null,
            "align_self": null,
            "height": null,
            "min_height": null,
            "padding": null,
            "grid_auto_rows": null,
            "grid_gap": null,
            "max_width": null,
            "order": null,
            "_view_module_version": "1.2.0",
            "grid_template_areas": null,
            "object_position": null,
            "object_fit": null,
            "grid_auto_columns": null,
            "margin": null,
            "display": null,
            "left": null
          }
        },
        "a777138d651b4da7bb078426655e4a42": {
          "model_module": "@jupyter-widgets/controls",
          "model_name": "DescriptionStyleModel",
          "state": {
            "_view_name": "StyleView",
            "_model_name": "DescriptionStyleModel",
            "description_width": "",
            "_view_module": "@jupyter-widgets/base",
            "_model_module_version": "1.5.0",
            "_view_count": null,
            "_view_module_version": "1.2.0",
            "_model_module": "@jupyter-widgets/controls"
          }
        },
        "3ad8139d5b194fbea3e32fe72de4403d": {
          "model_module": "@jupyter-widgets/base",
          "model_name": "LayoutModel",
          "state": {
            "_view_name": "LayoutView",
            "grid_template_rows": null,
            "right": null,
            "justify_content": null,
            "_view_module": "@jupyter-widgets/base",
            "overflow": null,
            "_model_module_version": "1.2.0",
            "_view_count": null,
            "flex_flow": null,
            "width": null,
            "min_width": null,
            "border": null,
            "align_items": null,
            "bottom": null,
            "_model_module": "@jupyter-widgets/base",
            "top": null,
            "grid_column": null,
            "overflow_y": null,
            "overflow_x": null,
            "grid_auto_flow": null,
            "grid_area": null,
            "grid_template_columns": null,
            "flex": null,
            "_model_name": "LayoutModel",
            "justify_items": null,
            "grid_row": null,
            "max_height": null,
            "align_content": null,
            "visibility": null,
            "align_self": null,
            "height": null,
            "min_height": null,
            "padding": null,
            "grid_auto_rows": null,
            "grid_gap": null,
            "max_width": null,
            "order": null,
            "_view_module_version": "1.2.0",
            "grid_template_areas": null,
            "object_position": null,
            "object_fit": null,
            "grid_auto_columns": null,
            "margin": null,
            "display": null,
            "left": null
          }
        },
        "0a27dbe4b70945729a79e5dcf4d20300": {
          "model_module": "@jupyter-widgets/controls",
          "model_name": "HBoxModel",
          "state": {
            "_view_name": "HBoxView",
            "_dom_classes": [],
            "_model_name": "HBoxModel",
            "_view_module": "@jupyter-widgets/controls",
            "_model_module_version": "1.5.0",
            "_view_count": null,
            "_view_module_version": "1.5.0",
            "box_style": "",
            "layout": "IPY_MODEL_1dda9aba0421421a82824669e46ce033",
            "_model_module": "@jupyter-widgets/controls",
            "children": [
              "IPY_MODEL_389e91f24a214f62b97cbe084add7fc4",
              "IPY_MODEL_bb148308d3954c91a9f49a2edc4ac9ec"
            ]
          }
        },
        "1dda9aba0421421a82824669e46ce033": {
          "model_module": "@jupyter-widgets/base",
          "model_name": "LayoutModel",
          "state": {
            "_view_name": "LayoutView",
            "grid_template_rows": null,
            "right": null,
            "justify_content": null,
            "_view_module": "@jupyter-widgets/base",
            "overflow": null,
            "_model_module_version": "1.2.0",
            "_view_count": null,
            "flex_flow": null,
            "width": null,
            "min_width": null,
            "border": null,
            "align_items": null,
            "bottom": null,
            "_model_module": "@jupyter-widgets/base",
            "top": null,
            "grid_column": null,
            "overflow_y": null,
            "overflow_x": null,
            "grid_auto_flow": null,
            "grid_area": null,
            "grid_template_columns": null,
            "flex": null,
            "_model_name": "LayoutModel",
            "justify_items": null,
            "grid_row": null,
            "max_height": null,
            "align_content": null,
            "visibility": null,
            "align_self": null,
            "height": null,
            "min_height": null,
            "padding": null,
            "grid_auto_rows": null,
            "grid_gap": null,
            "max_width": null,
            "order": null,
            "_view_module_version": "1.2.0",
            "grid_template_areas": null,
            "object_position": null,
            "object_fit": null,
            "grid_auto_columns": null,
            "margin": null,
            "display": null,
            "left": null
          }
        },
        "389e91f24a214f62b97cbe084add7fc4": {
          "model_module": "@jupyter-widgets/controls",
          "model_name": "FloatProgressModel",
          "state": {
            "_view_name": "ProgressView",
            "style": "IPY_MODEL_508adfa99611426d985455efa9efbec4",
            "_dom_classes": [],
            "description": "",
            "_model_name": "FloatProgressModel",
            "bar_style": "success",
            "max": 1648877,
            "_view_module": "@jupyter-widgets/controls",
            "_model_module_version": "1.5.0",
            "value": 1648877,
            "_view_count": null,
            "_view_module_version": "1.5.0",
            "orientation": "horizontal",
            "min": 0,
            "description_tooltip": null,
            "_model_module": "@jupyter-widgets/controls",
            "layout": "IPY_MODEL_f942d21f03d54664b444cd2b32d5fa66"
          }
        },
        "bb148308d3954c91a9f49a2edc4ac9ec": {
          "model_module": "@jupyter-widgets/controls",
          "model_name": "HTMLModel",
          "state": {
            "_view_name": "HTMLView",
            "style": "IPY_MODEL_59237d2281a645f3a6b06b15f042488a",
            "_dom_classes": [],
            "description": "",
            "_model_name": "HTMLModel",
            "placeholder": "​",
            "_view_module": "@jupyter-widgets/controls",
            "_model_module_version": "1.5.0",
            "value": " 1649664/? [00:02&lt;00:00, 805656.22it/s]",
            "_view_count": null,
            "_view_module_version": "1.5.0",
            "description_tooltip": null,
            "_model_module": "@jupyter-widgets/controls",
            "layout": "IPY_MODEL_0f4f797a9cb8477f94909fa4ab249ddf"
          }
        },
        "508adfa99611426d985455efa9efbec4": {
          "model_module": "@jupyter-widgets/controls",
          "model_name": "ProgressStyleModel",
          "state": {
            "_view_name": "StyleView",
            "_model_name": "ProgressStyleModel",
            "description_width": "initial",
            "_view_module": "@jupyter-widgets/base",
            "_model_module_version": "1.5.0",
            "_view_count": null,
            "_view_module_version": "1.2.0",
            "bar_color": null,
            "_model_module": "@jupyter-widgets/controls"
          }
        },
        "f942d21f03d54664b444cd2b32d5fa66": {
          "model_module": "@jupyter-widgets/base",
          "model_name": "LayoutModel",
          "state": {
            "_view_name": "LayoutView",
            "grid_template_rows": null,
            "right": null,
            "justify_content": null,
            "_view_module": "@jupyter-widgets/base",
            "overflow": null,
            "_model_module_version": "1.2.0",
            "_view_count": null,
            "flex_flow": null,
            "width": null,
            "min_width": null,
            "border": null,
            "align_items": null,
            "bottom": null,
            "_model_module": "@jupyter-widgets/base",
            "top": null,
            "grid_column": null,
            "overflow_y": null,
            "overflow_x": null,
            "grid_auto_flow": null,
            "grid_area": null,
            "grid_template_columns": null,
            "flex": null,
            "_model_name": "LayoutModel",
            "justify_items": null,
            "grid_row": null,
            "max_height": null,
            "align_content": null,
            "visibility": null,
            "align_self": null,
            "height": null,
            "min_height": null,
            "padding": null,
            "grid_auto_rows": null,
            "grid_gap": null,
            "max_width": null,
            "order": null,
            "_view_module_version": "1.2.0",
            "grid_template_areas": null,
            "object_position": null,
            "object_fit": null,
            "grid_auto_columns": null,
            "margin": null,
            "display": null,
            "left": null
          }
        },
        "59237d2281a645f3a6b06b15f042488a": {
          "model_module": "@jupyter-widgets/controls",
          "model_name": "DescriptionStyleModel",
          "state": {
            "_view_name": "StyleView",
            "_model_name": "DescriptionStyleModel",
            "description_width": "",
            "_view_module": "@jupyter-widgets/base",
            "_model_module_version": "1.5.0",
            "_view_count": null,
            "_view_module_version": "1.2.0",
            "_model_module": "@jupyter-widgets/controls"
          }
        },
        "0f4f797a9cb8477f94909fa4ab249ddf": {
          "model_module": "@jupyter-widgets/base",
          "model_name": "LayoutModel",
          "state": {
            "_view_name": "LayoutView",
            "grid_template_rows": null,
            "right": null,
            "justify_content": null,
            "_view_module": "@jupyter-widgets/base",
            "overflow": null,
            "_model_module_version": "1.2.0",
            "_view_count": null,
            "flex_flow": null,
            "width": null,
            "min_width": null,
            "border": null,
            "align_items": null,
            "bottom": null,
            "_model_module": "@jupyter-widgets/base",
            "top": null,
            "grid_column": null,
            "overflow_y": null,
            "overflow_x": null,
            "grid_auto_flow": null,
            "grid_area": null,
            "grid_template_columns": null,
            "flex": null,
            "_model_name": "LayoutModel",
            "justify_items": null,
            "grid_row": null,
            "max_height": null,
            "align_content": null,
            "visibility": null,
            "align_self": null,
            "height": null,
            "min_height": null,
            "padding": null,
            "grid_auto_rows": null,
            "grid_gap": null,
            "max_width": null,
            "order": null,
            "_view_module_version": "1.2.0",
            "grid_template_areas": null,
            "object_position": null,
            "object_fit": null,
            "grid_auto_columns": null,
            "margin": null,
            "display": null,
            "left": null
          }
        },
        "a657c20ca186462f92b94d54591f99fe": {
          "model_module": "@jupyter-widgets/controls",
          "model_name": "HBoxModel",
          "state": {
            "_view_name": "HBoxView",
            "_dom_classes": [],
            "_model_name": "HBoxModel",
            "_view_module": "@jupyter-widgets/controls",
            "_model_module_version": "1.5.0",
            "_view_count": null,
            "_view_module_version": "1.5.0",
            "box_style": "",
            "layout": "IPY_MODEL_964f6b8ed26e4aea91dc0bbd2be62300",
            "_model_module": "@jupyter-widgets/controls",
            "children": [
              "IPY_MODEL_efdcd01000954b6b9519f774940fc170",
              "IPY_MODEL_10dd152f8b534ee88569810901f8c4df"
            ]
          }
        },
        "964f6b8ed26e4aea91dc0bbd2be62300": {
          "model_module": "@jupyter-widgets/base",
          "model_name": "LayoutModel",
          "state": {
            "_view_name": "LayoutView",
            "grid_template_rows": null,
            "right": null,
            "justify_content": null,
            "_view_module": "@jupyter-widgets/base",
            "overflow": null,
            "_model_module_version": "1.2.0",
            "_view_count": null,
            "flex_flow": null,
            "width": null,
            "min_width": null,
            "border": null,
            "align_items": null,
            "bottom": null,
            "_model_module": "@jupyter-widgets/base",
            "top": null,
            "grid_column": null,
            "overflow_y": null,
            "overflow_x": null,
            "grid_auto_flow": null,
            "grid_area": null,
            "grid_template_columns": null,
            "flex": null,
            "_model_name": "LayoutModel",
            "justify_items": null,
            "grid_row": null,
            "max_height": null,
            "align_content": null,
            "visibility": null,
            "align_self": null,
            "height": null,
            "min_height": null,
            "padding": null,
            "grid_auto_rows": null,
            "grid_gap": null,
            "max_width": null,
            "order": null,
            "_view_module_version": "1.2.0",
            "grid_template_areas": null,
            "object_position": null,
            "object_fit": null,
            "grid_auto_columns": null,
            "margin": null,
            "display": null,
            "left": null
          }
        },
        "efdcd01000954b6b9519f774940fc170": {
          "model_module": "@jupyter-widgets/controls",
          "model_name": "FloatProgressModel",
          "state": {
            "_view_name": "ProgressView",
            "style": "IPY_MODEL_651bfaea91cd48039ab60f12a27af271",
            "_dom_classes": [],
            "description": "",
            "_model_name": "FloatProgressModel",
            "bar_style": "success",
            "max": 4542,
            "_view_module": "@jupyter-widgets/controls",
            "_model_module_version": "1.5.0",
            "value": 4542,
            "_view_count": null,
            "_view_module_version": "1.5.0",
            "orientation": "horizontal",
            "min": 0,
            "description_tooltip": null,
            "_model_module": "@jupyter-widgets/controls",
            "layout": "IPY_MODEL_56077ae354ec445194f2e5fbf20af398"
          }
        },
        "10dd152f8b534ee88569810901f8c4df": {
          "model_module": "@jupyter-widgets/controls",
          "model_name": "HTMLModel",
          "state": {
            "_view_name": "HTMLView",
            "style": "IPY_MODEL_d067afcdf78541e1aeb383ee86cb6fdd",
            "_dom_classes": [],
            "description": "",
            "_model_name": "HTMLModel",
            "placeholder": "​",
            "_view_module": "@jupyter-widgets/controls",
            "_model_module_version": "1.5.0",
            "value": " 5120/? [00:00&lt;00:00, 10460.74it/s]",
            "_view_count": null,
            "_view_module_version": "1.5.0",
            "description_tooltip": null,
            "_model_module": "@jupyter-widgets/controls",
            "layout": "IPY_MODEL_9bad6e4a79904f55a6771e26f30a852d"
          }
        },
        "651bfaea91cd48039ab60f12a27af271": {
          "model_module": "@jupyter-widgets/controls",
          "model_name": "ProgressStyleModel",
          "state": {
            "_view_name": "StyleView",
            "_model_name": "ProgressStyleModel",
            "description_width": "initial",
            "_view_module": "@jupyter-widgets/base",
            "_model_module_version": "1.5.0",
            "_view_count": null,
            "_view_module_version": "1.2.0",
            "bar_color": null,
            "_model_module": "@jupyter-widgets/controls"
          }
        },
        "56077ae354ec445194f2e5fbf20af398": {
          "model_module": "@jupyter-widgets/base",
          "model_name": "LayoutModel",
          "state": {
            "_view_name": "LayoutView",
            "grid_template_rows": null,
            "right": null,
            "justify_content": null,
            "_view_module": "@jupyter-widgets/base",
            "overflow": null,
            "_model_module_version": "1.2.0",
            "_view_count": null,
            "flex_flow": null,
            "width": null,
            "min_width": null,
            "border": null,
            "align_items": null,
            "bottom": null,
            "_model_module": "@jupyter-widgets/base",
            "top": null,
            "grid_column": null,
            "overflow_y": null,
            "overflow_x": null,
            "grid_auto_flow": null,
            "grid_area": null,
            "grid_template_columns": null,
            "flex": null,
            "_model_name": "LayoutModel",
            "justify_items": null,
            "grid_row": null,
            "max_height": null,
            "align_content": null,
            "visibility": null,
            "align_self": null,
            "height": null,
            "min_height": null,
            "padding": null,
            "grid_auto_rows": null,
            "grid_gap": null,
            "max_width": null,
            "order": null,
            "_view_module_version": "1.2.0",
            "grid_template_areas": null,
            "object_position": null,
            "object_fit": null,
            "grid_auto_columns": null,
            "margin": null,
            "display": null,
            "left": null
          }
        },
        "d067afcdf78541e1aeb383ee86cb6fdd": {
          "model_module": "@jupyter-widgets/controls",
          "model_name": "DescriptionStyleModel",
          "state": {
            "_view_name": "StyleView",
            "_model_name": "DescriptionStyleModel",
            "description_width": "",
            "_view_module": "@jupyter-widgets/base",
            "_model_module_version": "1.5.0",
            "_view_count": null,
            "_view_module_version": "1.2.0",
            "_model_module": "@jupyter-widgets/controls"
          }
        },
        "9bad6e4a79904f55a6771e26f30a852d": {
          "model_module": "@jupyter-widgets/base",
          "model_name": "LayoutModel",
          "state": {
            "_view_name": "LayoutView",
            "grid_template_rows": null,
            "right": null,
            "justify_content": null,
            "_view_module": "@jupyter-widgets/base",
            "overflow": null,
            "_model_module_version": "1.2.0",
            "_view_count": null,
            "flex_flow": null,
            "width": null,
            "min_width": null,
            "border": null,
            "align_items": null,
            "bottom": null,
            "_model_module": "@jupyter-widgets/base",
            "top": null,
            "grid_column": null,
            "overflow_y": null,
            "overflow_x": null,
            "grid_auto_flow": null,
            "grid_area": null,
            "grid_template_columns": null,
            "flex": null,
            "_model_name": "LayoutModel",
            "justify_items": null,
            "grid_row": null,
            "max_height": null,
            "align_content": null,
            "visibility": null,
            "align_self": null,
            "height": null,
            "min_height": null,
            "padding": null,
            "grid_auto_rows": null,
            "grid_gap": null,
            "max_width": null,
            "order": null,
            "_view_module_version": "1.2.0",
            "grid_template_areas": null,
            "object_position": null,
            "object_fit": null,
            "grid_auto_columns": null,
            "margin": null,
            "display": null,
            "left": null
          }
        }
      }
    }
  },
  "cells": [
    {
      "cell_type": "code",
      "metadata": {
        "id": "SU7w6OYjA0Py"
      },
      "source": [
        "%matplotlib inline\n",
        "%config InlineBackend.figure_format = 'retina'\n",
        "\n",
        "from collections import OrderedDict\n",
        "\n",
        "import numpy as np\n",
        "import matplotlib.pyplot as plt\n",
        "import time\n",
        "\n",
        "import torch\n",
        "from torch import nn\n",
        "from torch import optim\n",
        "import torch.nn.functional as F\n",
        "\n",
        "from torchvision import datasets, transforms"
      ],
      "execution_count": 1,
      "outputs": []
    },
    {
      "cell_type": "code",
      "metadata": {
        "id": "vPqLfNY0A0P1"
      },
      "source": [
        "\n",
        "def view_classify(img, ps):\n",
        "\n",
        "    ps = ps.data.numpy().squeeze()\n",
        "\n",
        "    fig, (ax1, ax2) = plt.subplots(figsize=(6,9), ncols=2)\n",
        "    ax1.imshow(img.resize_(1, 28, 28).numpy().squeeze())\n",
        "    ax1.axis('off')\n",
        "    ax2.barh(np.arange(10), ps)\n",
        "    ax2.set_aspect(0.1)\n",
        "    ax2.set_yticks(np.arange(10))\n",
        "    ax2.set_yticklabels(np.arange(10))\n",
        "    ax2.set_title('Class Probability')\n",
        "    ax2.set_xlim(0, 1.1)"
      ],
      "execution_count": 2,
      "outputs": []
    },
    {
      "cell_type": "code",
      "metadata": {
        "colab": {
          "base_uri": "https://localhost:8080/",
          "height": 859,
          "referenced_widgets": [
            "38cafaa0a0e64f61bfc918a058ea5365",
            "9e3dbc52b187438caf784c8459567a5d",
            "3dcc1094ed8d4064bbdf4fd15e4cf4ba",
            "d1c35c59d6994c59a7e8a98f25e6b613",
            "e71750a4cbc1402b95b34f9b9bcce779",
            "bf78aefcab66481faecdee21f2e3075f",
            "c64651f28b23423992a046466df0b040",
            "5677d91b6689497faba89a8d58918ec0",
            "7126bffa503c4142864505c86a1bedac",
            "ada8c3b6fbb34c0fad9bd79d1b049fec",
            "9f5004b2ed404f87808077b56f592215",
            "5f32709b9d7b445b81ef853d10238b93",
            "1444d9d011c14321a8ed7692faf1508e",
            "50ff0be77de54640af7badb7ca109587",
            "a777138d651b4da7bb078426655e4a42",
            "3ad8139d5b194fbea3e32fe72de4403d",
            "0a27dbe4b70945729a79e5dcf4d20300",
            "1dda9aba0421421a82824669e46ce033",
            "389e91f24a214f62b97cbe084add7fc4",
            "bb148308d3954c91a9f49a2edc4ac9ec",
            "508adfa99611426d985455efa9efbec4",
            "f942d21f03d54664b444cd2b32d5fa66",
            "59237d2281a645f3a6b06b15f042488a",
            "0f4f797a9cb8477f94909fa4ab249ddf",
            "a657c20ca186462f92b94d54591f99fe",
            "964f6b8ed26e4aea91dc0bbd2be62300",
            "efdcd01000954b6b9519f774940fc170",
            "10dd152f8b534ee88569810901f8c4df",
            "651bfaea91cd48039ab60f12a27af271",
            "56077ae354ec445194f2e5fbf20af398",
            "d067afcdf78541e1aeb383ee86cb6fdd",
            "9bad6e4a79904f55a6771e26f30a852d"
          ]
        },
        "id": "qn7cqTFHA0P1",
        "outputId": "fc62b8a5-ff84-4c2e-d181-df579826081e"
      },
      "source": [
        "transform = transforms.Compose([transforms.ToTensor(), transforms.Normalize((0.5), (0.5)) ])\n",
        "\n",
        "# Download and load the training data\n",
        "trainset    = datasets.MNIST('MNIST_data/', download=True, train=True, transform=transform)\n",
        "trainloader = torch.utils.data.DataLoader(trainset, batch_size=32, shuffle=True)\n",
        "\n",
        "# Download and load the test data\n",
        "testset    = datasets.MNIST('MNIST_data/', download=True, train=False, transform=transform)\n",
        "testloader = torch.utils.data.DataLoader(testset, batch_size=32, shuffle=True)"
      ],
      "execution_count": 3,
      "outputs": [
        {
          "output_type": "stream",
          "text": [
            "Downloading http://yann.lecun.com/exdb/mnist/train-images-idx3-ubyte.gz\n",
            "Failed to download (trying next):\n",
            "HTTP Error 503: Service Unavailable\n",
            "\n",
            "Downloading https://ossci-datasets.s3.amazonaws.com/mnist/train-images-idx3-ubyte.gz\n",
            "Downloading https://ossci-datasets.s3.amazonaws.com/mnist/train-images-idx3-ubyte.gz to MNIST_data/MNIST/raw/train-images-idx3-ubyte.gz\n"
          ],
          "name": "stdout"
        },
        {
          "output_type": "display_data",
          "data": {
            "application/vnd.jupyter.widget-view+json": {
              "model_id": "38cafaa0a0e64f61bfc918a058ea5365",
              "version_minor": 0,
              "version_major": 2
            },
            "text/plain": [
              "HBox(children=(FloatProgress(value=0.0, max=9912422.0), HTML(value='')))"
            ]
          },
          "metadata": {
            "tags": []
          }
        },
        {
          "output_type": "stream",
          "text": [
            "\n",
            "Extracting MNIST_data/MNIST/raw/train-images-idx3-ubyte.gz to MNIST_data/MNIST/raw\n",
            "\n",
            "Downloading http://yann.lecun.com/exdb/mnist/train-labels-idx1-ubyte.gz\n",
            "Failed to download (trying next):\n",
            "HTTP Error 503: Service Unavailable\n",
            "\n",
            "Downloading https://ossci-datasets.s3.amazonaws.com/mnist/train-labels-idx1-ubyte.gz\n",
            "Downloading https://ossci-datasets.s3.amazonaws.com/mnist/train-labels-idx1-ubyte.gz to MNIST_data/MNIST/raw/train-labels-idx1-ubyte.gz\n"
          ],
          "name": "stdout"
        },
        {
          "output_type": "display_data",
          "data": {
            "application/vnd.jupyter.widget-view+json": {
              "model_id": "7126bffa503c4142864505c86a1bedac",
              "version_minor": 0,
              "version_major": 2
            },
            "text/plain": [
              "HBox(children=(FloatProgress(value=0.0, max=28881.0), HTML(value='')))"
            ]
          },
          "metadata": {
            "tags": []
          }
        },
        {
          "output_type": "stream",
          "text": [
            "\n",
            "Extracting MNIST_data/MNIST/raw/train-labels-idx1-ubyte.gz to MNIST_data/MNIST/raw\n",
            "\n",
            "Downloading http://yann.lecun.com/exdb/mnist/t10k-images-idx3-ubyte.gz\n",
            "Failed to download (trying next):\n",
            "HTTP Error 503: Service Unavailable\n",
            "\n",
            "Downloading https://ossci-datasets.s3.amazonaws.com/mnist/t10k-images-idx3-ubyte.gz\n",
            "Downloading https://ossci-datasets.s3.amazonaws.com/mnist/t10k-images-idx3-ubyte.gz to MNIST_data/MNIST/raw/t10k-images-idx3-ubyte.gz\n"
          ],
          "name": "stdout"
        },
        {
          "output_type": "display_data",
          "data": {
            "application/vnd.jupyter.widget-view+json": {
              "model_id": "0a27dbe4b70945729a79e5dcf4d20300",
              "version_minor": 0,
              "version_major": 2
            },
            "text/plain": [
              "HBox(children=(FloatProgress(value=0.0, max=1648877.0), HTML(value='')))"
            ]
          },
          "metadata": {
            "tags": []
          }
        },
        {
          "output_type": "stream",
          "text": [
            "\n",
            "Extracting MNIST_data/MNIST/raw/t10k-images-idx3-ubyte.gz to MNIST_data/MNIST/raw\n",
            "\n",
            "Downloading http://yann.lecun.com/exdb/mnist/t10k-labels-idx1-ubyte.gz\n",
            "Failed to download (trying next):\n",
            "HTTP Error 503: Service Unavailable\n",
            "\n",
            "Downloading https://ossci-datasets.s3.amazonaws.com/mnist/t10k-labels-idx1-ubyte.gz\n",
            "Downloading https://ossci-datasets.s3.amazonaws.com/mnist/t10k-labels-idx1-ubyte.gz to MNIST_data/MNIST/raw/t10k-labels-idx1-ubyte.gz\n"
          ],
          "name": "stdout"
        },
        {
          "output_type": "display_data",
          "data": {
            "application/vnd.jupyter.widget-view+json": {
              "model_id": "a657c20ca186462f92b94d54591f99fe",
              "version_minor": 0,
              "version_major": 2
            },
            "text/plain": [
              "HBox(children=(FloatProgress(value=0.0, max=4542.0), HTML(value='')))"
            ]
          },
          "metadata": {
            "tags": []
          }
        },
        {
          "output_type": "stream",
          "text": [
            "\n",
            "Extracting MNIST_data/MNIST/raw/t10k-labels-idx1-ubyte.gz to MNIST_data/MNIST/raw\n",
            "\n",
            "Processing...\n"
          ],
          "name": "stdout"
        },
        {
          "output_type": "stream",
          "text": [
            "/usr/local/lib/python3.7/dist-packages/torchvision/datasets/mnist.py:502: UserWarning: The given NumPy array is not writeable, and PyTorch does not support non-writeable tensors. This means you can write to the underlying (supposedly non-writeable) NumPy array using the tensor. You may want to copy the array to protect its data or make it writeable before converting it to a tensor. This type of warning will be suppressed for the rest of this program. (Triggered internally at  /pytorch/torch/csrc/utils/tensor_numpy.cpp:143.)\n",
            "  return torch.from_numpy(parsed.astype(m[2], copy=False)).view(*s)\n"
          ],
          "name": "stderr"
        },
        {
          "output_type": "stream",
          "text": [
            "Done!\n"
          ],
          "name": "stdout"
        }
      ]
    },
    {
      "cell_type": "code",
      "metadata": {
        "id": "rXXeas0HA0P2"
      },
      "source": [
        "dataiter = iter(trainloader)\n",
        "images, labels = dataiter.next()"
      ],
      "execution_count": 4,
      "outputs": []
    },
    {
      "cell_type": "code",
      "metadata": {
        "colab": {
          "base_uri": "https://localhost:8080/",
          "height": 265
        },
        "id": "yIibyhUxA0P2",
        "outputId": "6fc21780-62cd-4dfb-dfd6-3cbbe19ec465"
      },
      "source": [
        "plt.imshow(images[1].numpy().squeeze(), cmap='Greys_r');"
      ],
      "execution_count": 5,
      "outputs": [
        {
          "output_type": "display_data",
          "data": {
            "image/png": "[encoded data removed]",
            "text/plain": [
              "<Figure size 432x288 with 1 Axes>"
            ]
          },
          "metadata": {
            "tags": [],
            "image/png": {
              "width": 251,
              "height": 248
            },
            "needs_background": "light"
          }
        }
      ]
    },
    {
      "cell_type": "code",
      "metadata": {
        "colab": {
          "base_uri": "https://localhost:8080/"
        },
        "id": "1FDd8F_EA0P4",
        "outputId": "c32199b8-f19d-4230-915b-5befe262c1bf"
      },
      "source": [
        "images.shape"
      ],
      "execution_count": 6,
      "outputs": [
        {
          "output_type": "execute_result",
          "data": {
            "text/plain": [
              "torch.Size([32, 1, 28, 28])"
            ]
          },
          "metadata": {
            "tags": []
          },
          "execution_count": 6
        }
      ]
    },
    {
      "cell_type": "code",
      "metadata": {
        "id": "LIsqyyawA0P4"
      },
      "source": [
        "class Net(nn.Module):\n",
        "    def __init__(self):\n",
        "        super(Net,self).__init__()\n",
        "\n",
        "        self.layer1 = nn.Sequential(\n",
        "            nn.Conv2d(1,16,5),\n",
        "            nn.BatchNorm2d(16),\n",
        "            nn.ReLU(inplace=True),\n",
        "            nn.MaxPool2d(2))\n",
        "        self.layer2 = nn.Sequential(\n",
        "            nn.Conv2d(16,32,5),\n",
        "            #nn.BatchNorm2d(32),\n",
        "            nn.ReLU(inplace=True),\n",
        "            nn.MaxPool2d(2))\n",
        "\n",
        "        self.fc = nn.Sequential(\n",
        "            nn.Linear(32 *4 *4,128),\n",
        "            nn.ReLU(inplace =True),\n",
        "            nn.Linear(128,64),\n",
        "            nn.ReLU(inplace=True),\n",
        "            nn.Linear(64,32),\n",
        "            nn.Linear(32,10))\n",
        "    \n",
        "    def forward(self,x):\n",
        "        x = self.layer1(x)\n",
        "        x = self.layer2(x)\n",
        "        #x = self.layer3(x)\n",
        "        x = x.view(x.size(0), -1)\n",
        "        x = self.fc(x)\n",
        "        #x = F.softmax(x, dim=1)\n",
        "\n",
        "        return x\n",
        "\n",
        "model = Net()\n"
      ],
      "execution_count": 7,
      "outputs": []
    },
    {
      "cell_type": "code",
      "metadata": {
        "id": "wA1vj0yLA0P5"
      },
      "source": [
        "images, labels = next(iter(trainloader))\n",
        "y = images.resize_(images.shape[0], 1, 28,28)\n",
        "ps = model.forward(y)"
      ],
      "execution_count": 8,
      "outputs": []
    },
    {
      "cell_type": "code",
      "metadata": {
        "colab": {
          "base_uri": "https://localhost:8080/"
        },
        "id": "8_WGc262A0P5",
        "outputId": "20e045cb-6c05-4062-9e2a-34f9cfa2f36c"
      },
      "source": [
        "criterion = nn.CrossEntropyLoss()\n",
        "optimizer = optim.SGD(model.parameters(), lr=0.01)\n",
        "#if torch.cuda.is_available():\n",
        " #   model = model.cuda()\n",
        " #   criterion = criterion.cuda()\n",
        "print(model)"
      ],
      "execution_count": 9,
      "outputs": [
        {
          "output_type": "stream",
          "text": [
            "Net(\n",
            "  (layer1): Sequential(\n",
            "    (0): Conv2d(1, 16, kernel_size=(5, 5), stride=(1, 1))\n",
            "    (1): BatchNorm2d(16, eps=1e-05, momentum=0.1, affine=True, track_running_stats=True)\n",
            "    (2): ReLU(inplace=True)\n",
            "    (3): MaxPool2d(kernel_size=2, stride=2, padding=0, dilation=1, ceil_mode=False)\n",
            "  )\n",
            "  (layer2): Sequential(\n",
            "    (0): Conv2d(16, 32, kernel_size=(5, 5), stride=(1, 1))\n",
            "    (1): ReLU(inplace=True)\n",
            "    (2): MaxPool2d(kernel_size=2, stride=2, padding=0, dilation=1, ceil_mode=False)\n",
            "  )\n",
            "  (fc): Sequential(\n",
            "    (0): Linear(in_features=512, out_features=128, bias=True)\n",
            "    (1): ReLU(inplace=True)\n",
            "    (2): Linear(in_features=128, out_features=64, bias=True)\n",
            "    (3): ReLU(inplace=True)\n",
            "    (4): Linear(in_features=64, out_features=32, bias=True)\n",
            "    (5): Linear(in_features=32, out_features=10, bias=True)\n",
            "  )\n",
            ")\n"
          ],
          "name": "stdout"
        }
      ]
    },
    {
      "cell_type": "code",
      "metadata": {
        "colab": {
          "base_uri": "https://localhost:8080/"
        },
        "id": "qEogHvbKA0P6",
        "outputId": "e470411f-c821-49b3-8631-cf62831d052f"
      },
      "source": [
        "train_loss = []\n",
        "val_loss = []\n",
        "\n",
        "epochs = 5\n",
        "print_every = 50\n",
        "\n",
        "optimizer = optim.SGD(model.parameters(), lr=0.1)\n",
        "for e in range(epochs):\n",
        "    running_loss = 0\n",
        "    total = 0\n",
        "    correct = 0\n",
        "    print(f\"Epoch: {e+1}/{epochs}\")\n",
        "\n",
        "    model.train()\n",
        "    for i, (images, labels) in enumerate(iter(trainloader)):\n",
        "\n",
        "        # Flatten MNIST images into a 784 long vector\n",
        "        images.resize_(images.size()[0], 1,28,28)\n",
        "        \n",
        "        optimizer.zero_grad()\n",
        "        \n",
        "        output = model.forward(images)   # 1) Forward pass\n",
        "        loss = criterion(output, labels) # 2) Compute loss\n",
        "        loss.backward()                  # 3) Backward pass\n",
        "        optimizer.step()                 # 4) Update model\n",
        "        \n",
        "        running_loss += loss.item()\n",
        "        \n",
        "        if i % print_every == 0:\n",
        "            print(f\"\\tIteration: {i}\\t Loss: {running_loss/print_every:.4f}\")\n",
        "            running_loss = 0\n",
        "        \n",
        "\n",
        "    model.eval()\n",
        "    with torch.no_grad():\n",
        "        for i, (images, labels) in enumerate(iter(testloader)):\n",
        "            images.resize_(images.size()[0], 1,28,28)\n",
        "            outputs = model(images)\n",
        "            _, predicted = torch.max(outputs.data, 1)\n",
        "            total += labels.size(0)\n",
        "            correct += (predicted == labels).sum().item()\n",
        "\n",
        "    print('Accuracy of the network: %d %%' % (\n",
        "        100 * correct / total))"
      ],
      "execution_count": 10,
      "outputs": [
        {
          "output_type": "stream",
          "text": [
            "Epoch: 1/5\n",
            "\tIteration: 0\t Loss: 0.0459\n",
            "\tIteration: 50\t Loss: 2.1370\n",
            "\tIteration: 100\t Loss: 1.0524\n",
            "\tIteration: 150\t Loss: 0.4403\n",
            "\tIteration: 200\t Loss: 0.3132\n",
            "\tIteration: 250\t Loss: 0.2158\n",
            "\tIteration: 300\t Loss: 0.1983\n",
            "\tIteration: 350\t Loss: 0.1628\n",
            "\tIteration: 400\t Loss: 0.1867\n",
            "\tIteration: 450\t Loss: 0.1346\n",
            "\tIteration: 500\t Loss: 0.1393\n",
            "\tIteration: 550\t Loss: 0.1181\n",
            "\tIteration: 600\t Loss: 0.1134\n",
            "\tIteration: 650\t Loss: 0.1143\n",
            "\tIteration: 700\t Loss: 0.1503\n",
            "\tIteration: 750\t Loss: 0.0916\n",
            "\tIteration: 800\t Loss: 0.1355\n",
            "\tIteration: 850\t Loss: 0.1268\n",
            "\tIteration: 900\t Loss: 0.0550\n",
            "\tIteration: 950\t Loss: 0.0990\n",
            "\tIteration: 1000\t Loss: 0.0758\n",
            "\tIteration: 1050\t Loss: 0.0803\n",
            "\tIteration: 1100\t Loss: 0.0859\n",
            "\tIteration: 1150\t Loss: 0.0850\n",
            "\tIteration: 1200\t Loss: 0.0997\n",
            "\tIteration: 1250\t Loss: 0.0593\n",
            "\tIteration: 1300\t Loss: 0.1048\n",
            "\tIteration: 1350\t Loss: 0.0865\n",
            "\tIteration: 1400\t Loss: 0.0721\n",
            "\tIteration: 1450\t Loss: 0.0669\n",
            "\tIteration: 1500\t Loss: 0.0688\n",
            "\tIteration: 1550\t Loss: 0.0742\n",
            "\tIteration: 1600\t Loss: 0.0714\n",
            "\tIteration: 1650\t Loss: 0.0593\n",
            "\tIteration: 1700\t Loss: 0.0596\n",
            "\tIteration: 1750\t Loss: 0.0735\n",
            "\tIteration: 1800\t Loss: 0.0695\n",
            "\tIteration: 1850\t Loss: 0.0608\n",
            "Accuracy of the network: 97 %\n",
            "Epoch: 2/5\n",
            "\tIteration: 0\t Loss: 0.0007\n",
            "\tIteration: 50\t Loss: 0.0424\n",
            "\tIteration: 100\t Loss: 0.0538\n",
            "\tIteration: 150\t Loss: 0.0639\n",
            "\tIteration: 200\t Loss: 0.0518\n",
            "\tIteration: 250\t Loss: 0.0450\n",
            "\tIteration: 300\t Loss: 0.0549\n",
            "\tIteration: 350\t Loss: 0.0604\n",
            "\tIteration: 400\t Loss: 0.0552\n",
            "\tIteration: 450\t Loss: 0.0448\n",
            "\tIteration: 500\t Loss: 0.0780\n",
            "\tIteration: 550\t Loss: 0.0589\n",
            "\tIteration: 600\t Loss: 0.0484\n",
            "\tIteration: 650\t Loss: 0.0498\n",
            "\tIteration: 700\t Loss: 0.0409\n",
            "\tIteration: 750\t Loss: 0.0498\n",
            "\tIteration: 800\t Loss: 0.0581\n",
            "\tIteration: 850\t Loss: 0.0409\n",
            "\tIteration: 900\t Loss: 0.0318\n",
            "\tIteration: 950\t Loss: 0.0431\n",
            "\tIteration: 1000\t Loss: 0.0443\n",
            "\tIteration: 1050\t Loss: 0.0518\n",
            "\tIteration: 1100\t Loss: 0.0367\n",
            "\tIteration: 1150\t Loss: 0.0595\n",
            "\tIteration: 1200\t Loss: 0.0842\n",
            "\tIteration: 1250\t Loss: 0.0617\n",
            "\tIteration: 1300\t Loss: 0.0428\n",
            "\tIteration: 1350\t Loss: 0.0631\n",
            "\tIteration: 1400\t Loss: 0.0340\n",
            "\tIteration: 1450\t Loss: 0.0323\n",
            "\tIteration: 1500\t Loss: 0.0426\n",
            "\tIteration: 1550\t Loss: 0.0495\n",
            "\tIteration: 1600\t Loss: 0.0418\n",
            "\tIteration: 1650\t Loss: 0.0481\n",
            "\tIteration: 1700\t Loss: 0.0361\n",
            "\tIteration: 1750\t Loss: 0.0299\n",
            "\tIteration: 1800\t Loss: 0.0501\n",
            "\tIteration: 1850\t Loss: 0.0480\n",
            "Accuracy of the network: 98 %\n",
            "Epoch: 3/5\n",
            "\tIteration: 0\t Loss: 0.0001\n",
            "\tIteration: 50\t Loss: 0.0199\n",
            "\tIteration: 100\t Loss: 0.0434\n",
            "\tIteration: 150\t Loss: 0.0314\n",
            "\tIteration: 200\t Loss: 0.0260\n",
            "\tIteration: 250\t Loss: 0.0353\n",
            "\tIteration: 300\t Loss: 0.0187\n",
            "\tIteration: 350\t Loss: 0.0241\n",
            "\tIteration: 400\t Loss: 0.0179\n",
            "\tIteration: 450\t Loss: 0.0362\n",
            "\tIteration: 500\t Loss: 0.0378\n",
            "\tIteration: 550\t Loss: 0.0468\n",
            "\tIteration: 600\t Loss: 0.0350\n",
            "\tIteration: 650\t Loss: 0.0236\n",
            "\tIteration: 700\t Loss: 0.0254\n",
            "\tIteration: 750\t Loss: 0.0340\n",
            "\tIteration: 800\t Loss: 0.0390\n",
            "\tIteration: 850\t Loss: 0.0510\n",
            "\tIteration: 900\t Loss: 0.0467\n",
            "\tIteration: 950\t Loss: 0.0268\n",
            "\tIteration: 1000\t Loss: 0.0341\n",
            "\tIteration: 1050\t Loss: 0.0297\n",
            "\tIteration: 1100\t Loss: 0.0482\n",
            "\tIteration: 1150\t Loss: 0.0369\n",
            "\tIteration: 1200\t Loss: 0.0278\n",
            "\tIteration: 1250\t Loss: 0.0397\n",
            "\tIteration: 1300\t Loss: 0.0242\n",
            "\tIteration: 1350\t Loss: 0.0602\n",
            "\tIteration: 1400\t Loss: 0.0303\n",
            "\tIteration: 1450\t Loss: 0.0385\n",
            "\tIteration: 1500\t Loss: 0.0413\n",
            "\tIteration: 1550\t Loss: 0.0471\n",
            "\tIteration: 1600\t Loss: 0.0356\n",
            "\tIteration: 1650\t Loss: 0.0317\n",
            "\tIteration: 1700\t Loss: 0.0295\n",
            "\tIteration: 1750\t Loss: 0.0288\n",
            "\tIteration: 1800\t Loss: 0.0315\n",
            "\tIteration: 1850\t Loss: 0.0253\n",
            "Accuracy of the network: 98 %\n",
            "Epoch: 4/5\n",
            "\tIteration: 0\t Loss: 0.0043\n",
            "\tIteration: 50\t Loss: 0.0242\n",
            "\tIteration: 100\t Loss: 0.0332\n",
            "\tIteration: 150\t Loss: 0.0208\n",
            "\tIteration: 200\t Loss: 0.0296\n",
            "\tIteration: 250\t Loss: 0.0145\n",
            "\tIteration: 300\t Loss: 0.0212\n",
            "\tIteration: 350\t Loss: 0.0202\n",
            "\tIteration: 400\t Loss: 0.0208\n",
            "\tIteration: 450\t Loss: 0.0144\n",
            "\tIteration: 500\t Loss: 0.0276\n",
            "\tIteration: 550\t Loss: 0.0258\n",
            "\tIteration: 600\t Loss: 0.0340\n",
            "\tIteration: 650\t Loss: 0.0178\n",
            "\tIteration: 700\t Loss: 0.0279\n",
            "\tIteration: 750\t Loss: 0.0287\n",
            "\tIteration: 800\t Loss: 0.0242\n",
            "\tIteration: 850\t Loss: 0.0244\n",
            "\tIteration: 900\t Loss: 0.0315\n",
            "\tIteration: 950\t Loss: 0.0262\n",
            "\tIteration: 1000\t Loss: 0.0322\n",
            "\tIteration: 1050\t Loss: 0.0263\n",
            "\tIteration: 1100\t Loss: 0.0350\n",
            "\tIteration: 1150\t Loss: 0.0258\n",
            "\tIteration: 1200\t Loss: 0.0253\n",
            "\tIteration: 1250\t Loss: 0.0199\n",
            "\tIteration: 1300\t Loss: 0.0128\n",
            "\tIteration: 1350\t Loss: 0.0180\n",
            "\tIteration: 1400\t Loss: 0.0190\n",
            "\tIteration: 1450\t Loss: 0.0283\n",
            "\tIteration: 1500\t Loss: 0.0164\n",
            "\tIteration: 1550\t Loss: 0.0178\n",
            "\tIteration: 1600\t Loss: 0.0357\n",
            "\tIteration: 1650\t Loss: 0.0398\n",
            "\tIteration: 1700\t Loss: 0.0288\n",
            "\tIteration: 1750\t Loss: 0.0207\n",
            "\tIteration: 1800\t Loss: 0.0283\n",
            "\tIteration: 1850\t Loss: 0.0215\n",
            "Accuracy of the network: 99 %\n",
            "Epoch: 5/5\n",
            "\tIteration: 0\t Loss: 0.0000\n",
            "\tIteration: 50\t Loss: 0.0121\n",
            "\tIteration: 100\t Loss: 0.0103\n",
            "\tIteration: 150\t Loss: 0.0033\n",
            "\tIteration: 200\t Loss: 0.0170\n",
            "\tIteration: 250\t Loss: 0.0141\n",
            "\tIteration: 300\t Loss: 0.0167\n",
            "\tIteration: 350\t Loss: 0.0128\n",
            "\tIteration: 400\t Loss: 0.0332\n",
            "\tIteration: 450\t Loss: 0.0370\n",
            "\tIteration: 500\t Loss: 0.0203\n",
            "\tIteration: 550\t Loss: 0.0238\n",
            "\tIteration: 600\t Loss: 0.0189\n",
            "\tIteration: 650\t Loss: 0.0251\n",
            "\tIteration: 700\t Loss: 0.0122\n",
            "\tIteration: 750\t Loss: 0.0151\n",
            "\tIteration: 800\t Loss: 0.0078\n",
            "\tIteration: 850\t Loss: 0.0089\n",
            "\tIteration: 900\t Loss: 0.0184\n",
            "\tIteration: 950\t Loss: 0.0129\n",
            "\tIteration: 1000\t Loss: 0.0307\n",
            "\tIteration: 1050\t Loss: 0.0173\n",
            "\tIteration: 1100\t Loss: 0.0420\n",
            "\tIteration: 1150\t Loss: 0.0215\n",
            "\tIteration: 1200\t Loss: 0.0195\n",
            "\tIteration: 1250\t Loss: 0.0189\n",
            "\tIteration: 1300\t Loss: 0.0256\n",
            "\tIteration: 1350\t Loss: 0.0347\n",
            "\tIteration: 1400\t Loss: 0.0106\n",
            "\tIteration: 1450\t Loss: 0.0218\n",
            "\tIteration: 1500\t Loss: 0.0247\n",
            "\tIteration: 1550\t Loss: 0.0392\n",
            "\tIteration: 1600\t Loss: 0.0206\n",
            "\tIteration: 1650\t Loss: 0.0189\n",
            "\tIteration: 1700\t Loss: 0.0141\n",
            "\tIteration: 1750\t Loss: 0.0274\n",
            "\tIteration: 1800\t Loss: 0.0212\n",
            "\tIteration: 1850\t Loss: 0.0134\n",
            "Accuracy of the network: 98 %\n"
          ],
          "name": "stdout"
        }
      ]
    },
    {
      "cell_type": "code",
      "metadata": {
        "colab": {
          "base_uri": "https://localhost:8080/"
        },
        "id": "tUUNY_piA0P6",
        "outputId": "d8451075-7506-4fed-ccee-dba26282ea42"
      },
      "source": [
        "images, labels = next(iter(testloader))\n",
        "y =images.resize_(images.shape[0],1, 28,28)\n",
        "\n",
        "ps = F.softmax(model.forward(y),dim=1)\n",
        "ps[0,:].shape\n",
        "#pred = torch.exp(ps)\n"
      ],
      "execution_count": 11,
      "outputs": [
        {
          "output_type": "execute_result",
          "data": {
            "text/plain": [
              "torch.Size([10])"
            ]
          },
          "metadata": {
            "tags": []
          },
          "execution_count": 11
        }
      ]
    },
    {
      "cell_type": "code",
      "metadata": {
        "colab": {
          "base_uri": "https://localhost:8080/"
        },
        "id": "XIYYNxpLA0P7",
        "outputId": "e2058071-0601-4b10-966a-528ebcc205f9"
      },
      "source": [
        "y[0].view(1, 28, 28).shape"
      ],
      "execution_count": 12,
      "outputs": [
        {
          "output_type": "execute_result",
          "data": {
            "text/plain": [
              "torch.Size([1, 28, 28])"
            ]
          },
          "metadata": {
            "tags": []
          },
          "execution_count": 12
        }
      ]
    },
    {
      "cell_type": "code",
      "metadata": {
        "colab": {
          "base_uri": "https://localhost:8080/",
          "height": 212
        },
        "id": "oU7cfl5xA0P7",
        "outputId": "d6a62728-18b8-4134-9a65-f62a0a2dc7f6"
      },
      "source": [
        "view_classify(y[0].view(1, 28, 28), ps[0])"
      ],
      "execution_count": 17,
      "outputs": [
        {
          "output_type": "display_data",
          "data": {
            "image/png": "[encoded data removed]",
            "text/plain": [
              "<Figure size 432x648 with 2 Axes>"
            ]
          },
          "metadata": {
            "tags": [],
            "image/png": {
              "width": 349,
              "height": 195
            },
            "needs_background": "light"
          }
        }
      ]
    },
    {
      "cell_type": "code",
      "metadata": {
        "colab": {
          "base_uri": "https://localhost:8080/"
        },
        "id": "7wVYQFW-Cx5v",
        "outputId": "2d980650-792b-49e6-f3c3-ae4098392c70"
      },
      "source": [
        "ps[0]"
      ],
      "execution_count": 19,
      "outputs": [
        {
          "output_type": "execute_result",
          "data": {
            "text/plain": [
              "tensor([2.2602e-12, 1.0388e-12, 1.8422e-14, 7.2470e-08, 9.7477e-12, 1.0000e+00,\n",
              "        6.4372e-10, 2.8632e-13, 1.2269e-09, 6.8196e-09],\n",
              "       grad_fn=<SelectBackward>)"
            ]
          },
          "metadata": {
            "tags": []
          },
          "execution_count": 19
        }
      ]
    },
    {
      "cell_type": "code",
      "metadata": {
        "colab": {
          "base_uri": "https://localhost:8080/"
        },
        "id": "zCtki1o_A0P7",
        "outputId": "92944b21-55b8-4e72-fa66-aa35911d5d6f"
      },
      "source": [
        "ps[0].argmax()"
      ],
      "execution_count": 18,
      "outputs": [
        {
          "output_type": "execute_result",
          "data": {
            "text/plain": [
              "tensor(5)"
            ]
          },
          "metadata": {
            "tags": []
          },
          "execution_count": 18
        }
      ]
    }
  ]
}