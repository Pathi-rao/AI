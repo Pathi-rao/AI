{
 "cells": [
  {
   "cell_type": "code",
   "execution_count": 2,
   "id": "6418c9d4",
   "metadata": {
    "ExecuteTime": {
     "end_time": "2021-06-18T07:55:27.850085Z",
     "start_time": "2021-06-18T07:55:23.534119Z"
    }
   },
   "outputs": [],
   "source": [
    "import numpy as np\n",
    "import cv2"
   ]
  },
  {
   "cell_type": "code",
   "execution_count": 6,
   "id": "a164798c",
   "metadata": {
    "ExecuteTime": {
     "end_time": "2021-06-18T08:11:49.403288Z",
     "start_time": "2021-06-18T08:11:39.149665Z"
    }
   },
   "outputs": [],
   "source": [
    "cap = cv2.VideoCapture('solidWhiteRight.mp4')\n",
    "\n",
    "if not cap.isOpened():\n",
    "        print(\"Cannot open video\")\n",
    "        exit()\n",
    "while True:\n",
    "    ret, frame = cap.read()\n",
    "    \n",
    "    if not ret:\n",
    "        print(\"Can't receive frame. Exiting ...\")\n",
    "        break\n",
    "    \n",
    "    gray_frame = cv2.cvtColor(frame, cv2.COLOR_BGR2GRAY)\n",
    "    test_frame = ~gray_frame\n",
    "    \n",
    "    cv2.imshow('video',gray_frame)\n",
    "    cv2.imshow('video',test_frame)\n",
    "    \n",
    "    key = cv2.waitKey(30)\n",
    "    if cv2.waitKey(1) == ord('q'):\n",
    "        break\n",
    "            \n",
    "            \n",
    "cap.release()\n",
    "cv2.destroyAllWindows()"
   ]
  }
 ],
 "metadata": {
  "kernelspec": {
   "display_name": "Python 3",
   "language": "python",
   "name": "python3"
  },
  "language_info": {
   "codemirror_mode": {
    "name": "ipython",
    "version": 3
   },
   "file_extension": ".py",
   "mimetype": "text/x-python",
   "name": "python",
   "nbconvert_exporter": "python",
   "pygments_lexer": "ipython3",
   "version": "3.8.10"
  }
 },
 "nbformat": 4,
 "nbformat_minor": 5
}
