{
 "cells": [
  {
   "cell_type": "code",
   "execution_count": null,
   "metadata": {},
   "outputs": [],
   "source": [
    "# find edges\n",
    "\n",
    "canny = cv2.Canny(blur_rgb_img, 100, 200)\n",
    "plt.imshow(canny, cmap='gray')"
   ]
  },
  {
   "cell_type": "code",
   "execution_count": null,
   "metadata": {},
   "outputs": [],
   "source": [
    "#brightening and darkening images\n",
    "\n",
    "pixel_values = np.ones(rgb_img.shape, dtype='uint8')*50\n",
    "bright_img = cv2.subtract(rgb_img,pixel_values) # add brighter // subtract darker\n",
    "imshow(bright_img)"
   ]
  },
  {
   "cell_type": "code",
   "execution_count": null,
   "metadata": {},
   "outputs": [],
   "source": [
    "#Keyboard callbacks\n",
    "\n",
    "count = 0\n",
    "\n",
    "cap = cv2.VideoCapture(1)\n",
    "key = 0 \n",
    "\n",
    "img = np.ones(rgb_img.shape, dtype='uint8')\n",
    "while(True):\n",
    "    ret , frame = cap.read()\n",
    "    \n",
    "    if(key == ord('q')):\n",
    "        break\n",
    "    \n",
    "    if(key == ord('i') or key == ord('I')):\n",
    "        count += 1\n",
    "        img = frame.copy()\n",
    "        cv2.putText(img, f'Count + 1 = {count}',(200,200),cv2.FONT_HERSHEY_COMPLEX,1,(0,255,0),3)\n",
    "    \n",
    "    if(key == ord('d') or key == ord('D')):\n",
    "        count -= 1\n",
    "        img = frame.copy()\n",
    "        cv2.putText(img, f'Count - 1 = {count}',(200,200),cv2.FONT_HERSHEY_COMPLEX,1,(0,255,0),3)\n",
    "    \n",
    "    cv2.imshow('Image', img)\n",
    "                \n",
    "    key = cv2.waitKey(1)\n",
    "        \n",
    "cap.realease()\n",
    "cv2.destroyAllWindows()\n",
    "cv2.waitKey(1)"
   ]
  },
  {
   "cell_type": "code",
   "execution_count": null,
   "metadata": {},
   "outputs": [],
   "source": [
    "#threshold images\n",
    "\n",
    "gray = cv2.cvtColor(rgb_img, cv2.COLOR_BGR2GRAY)\n",
    "ret , thresh_img= cv2.threshold(gray, 128, 255, cv2.THRESH_BINARY)\n",
    "#plt.imshow(thresh_img, cmap= 'gray')\n",
    "\n",
    "#canny after threshold to improve\n",
    "\n",
    "edges = cv2.Canny(thresh_img,200,255)\n",
    "plt.imshow(edges, cmap = 'gray')"
   ]
  },
  {
   "cell_type": "code",
   "execution_count": null,
   "metadata": {},
   "outputs": [],
   "source": [
    "#Trackbars\n",
    "\n",
    "threshold_value = 128\n",
    "threshold_type = cv2.THRESH_BINARY\n",
    "\n",
    "threshold_types = [cv2.THRESH_BINARY, cv2.THRESH_BINARY_INV, cv2.THRESH_TOZERO,\n",
    "                  cv2.THRESH_TOZERO_INV, cv2.THRESH_TRUNC]\n",
    "\n",
    "window_name = 'threshold'\n",
    "\n",
    "img = rgb_img.copy()\n",
    "gray_img = cv2.cvtColor(img, cv2.COLOR_BGR2GRAY)\n",
    "\n",
    "cv2.namedWindow(window_name, cv2.WINDOW_AUTOSIZE)\n",
    "\n",
    "def change_threshold_value(val):\n",
    "    threshold_value = val\n",
    "    ret, thresh = cv2.threshold(gray_img, threshold_value, 255, threshold_type)\n",
    "    cv2.imshow(window_name,thresh)\n",
    "    \n",
    "\n",
    "def change_threshold_type(val):\n",
    "    threshold_type = threshold_types[val]\n",
    "    ret, thresh = cv2.threshold(gray_img, threshold_value, 255, threshold_type)\n",
    "    cv2.imshow(window_name,thresh)\n",
    "\n",
    "cv2.createTrackbar('Threshold Value', window_name, threshold_value, 255, change_threshold_value)\n",
    "cv2.createTrackbar('Threshold Type', window_name, threshold_type, 4, change_threshold_type)\n",
    "\n",
    "\n",
    "cv2.imshow(window_name,gray_img)\n",
    "cv2.waitKey()\n",
    "cv2.destroyAllWindows()\n",
    "cv2.waitKey(1)"
   ]
  },
  {
   "cell_type": "code",
   "execution_count": null,
   "metadata": {},
   "outputs": [],
   "source": [
    "#Mouse callbacks\n",
    "\n",
    "\n",
    "window_name = 'mouse callbacks'\n",
    "\n",
    "img = rgb_img.copy()\n",
    "cv2.namedWindow(window_name)\n",
    "\n",
    "\n",
    "def draw_square(action, x, y, flags, userdata):\n",
    "    if(action == cv2.EVENT_LBUTTONUP):\n",
    "        cv2.rectangle(userdata, (x,y), (x+50,y+50), (0,255,0), -1)\n",
    "        cv2.imshow(window_name, userdata)\n",
    "\n",
    "    if(action == cv2.EVENT_RBUTTONUP):\n",
    "        cv2.rectangle(userdata, (x,y), (x+50,y+50), (255,0,0), -1)\n",
    "        cv2.imshow(window_name, userdata)\n",
    "        \n",
    "cv2.setMouseCallback(window_name, draw_square, img)\n",
    "\n",
    "cv2.imshow(window_name,img)\n",
    "cv2.waitKey()\n",
    "cv2.destroyAllWindows()\n",
    "cv2.waitKey(1)"
   ]
  }
 ],
 "metadata": {
  "kernelspec": {
   "display_name": "Python 3",
   "language": "python",
   "name": "python3"
  },
  "language_info": {
   "codemirror_mode": {
    "name": "ipython",
    "version": 3
   },
   "file_extension": ".py",
   "mimetype": "text/x-python",
   "name": "python",
   "nbconvert_exporter": "python",
   "pygments_lexer": "ipython3",
   "version": "3.8.10"
  }
 },
 "nbformat": 4,
 "nbformat_minor": 2
}
