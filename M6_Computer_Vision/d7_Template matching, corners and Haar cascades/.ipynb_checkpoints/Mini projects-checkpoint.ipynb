{
 "cells": [
  {
   "cell_type": "markdown",
   "metadata": {},
   "source": [
    "# Mini projects\n",
    "\n",
    "You can do the projects in any order, just choose the ones that you like the most"
   ]
  },
  {
   "cell_type": "code",
   "execution_count": 4,
   "metadata": {
    "ExecuteTime": {
     "end_time": "2021-06-16T13:05:05.459148Z",
     "start_time": "2021-06-16T13:05:00.616830Z"
    }
   },
   "outputs": [],
   "source": [
    "import cv2\n",
    "import numpy as np"
   ]
  },
  {
   "cell_type": "markdown",
   "metadata": {
    "heading_collapsed": true
   },
   "source": [
    "### Cars detector"
   ]
  },
  {
   "cell_type": "markdown",
   "metadata": {
    "hidden": true
   },
   "source": [
    "1. Create a classifier to detect cars in an image\n",
    "1. If at least one car was detected write Car Detected (in Green) on top of the image, otherwise write No car detected (in Red)\n",
    "1. Save the image to disk\n",
    "1. Show the image result inside the notebook\n",
    "1. Make it work with a video\n",
    "1. Put a bounding box around the cars detected\n",
    "1. Get a higher resolution video and extract the car plates and save them to disk"
   ]
  },
  {
   "cell_type": "code",
   "execution_count": 11,
   "metadata": {
    "ExecuteTime": {
     "end_time": "2021-06-16T13:08:36.349441Z",
     "start_time": "2021-06-16T13:08:33.359821Z"
    }
   },
   "outputs": [],
   "source": [
    "def car_detecter(input_video):\n",
    "    \n",
    "    cap = cv2.VideoCapture(input_video) \n",
    "    \n",
    "    #Intial checkup for camera\n",
    "    if not cap.isOpened():\n",
    "        print(\"Cannot open video\")\n",
    "        exit()\n",
    "    while True:\n",
    "        ret, frame = cap.read()\n",
    "        if not ret:\n",
    "            print(\"Can't receive frame (stream end?). Exiting ...\")\n",
    "            break\n",
    "    \n",
    "        # Our operations on the frame come here\n",
    "        gray_img = cv2.cvtColor(frame, cv2.COLOR_BGR2GRAY)\n",
    "        car_classifier = cv2.CascadeClassifier('Haarcascades/haarcascade_car.xml')\n",
    "    \n",
    "        cars_detect = car_classifier.detectMultiScale(gray_img)\n",
    "        #Detects objects of different sizes in the input image. The detected objects are returned \n",
    "        #as a list of rectangles\n",
    "    \n",
    "        if cars_detect is None: # we can also use, if len(face_detect) == 0\n",
    "                print('No Faces found')\n",
    "        else:\n",
    "            for x,y,w,h in cars_detect:\n",
    "                cv2.rectangle(frame, (x,y), (x+w,y+h), (0,255,0), 2)\n",
    "                #implement face counter for each detected face\n",
    "                for each_car in range(len(cars_detect)):\n",
    "                    cv2.putText(frame, 'Car  '+str(each_car), (x, y-5), cv2.FONT_HERSHEY_SIMPLEX, 0.4, (0,255,0), 1)\n",
    "                    cv2.putText(frame, \"Number of cars detected: \" + str(cars_detect.shape[0]), (0, frame.shape[0]-600), cv2.FONT_HERSHEY_TRIPLEX, 0.5, (255,0,0), 1)    \n",
    "    \n",
    "        # Display the resulting frame\n",
    "        cv2.imshow('Car_detector', frame)\n",
    "        if cv2.waitKey(1) == ord('q'):\n",
    "            break\n",
    "            \n",
    "    # When everything done, release the capture\n",
    "    cap.release()\n",
    "    cv2.destroyAllWindows()\n",
    "    \n",
    "car_detecter('videos/cars.mp4')"
   ]
  },
  {
   "cell_type": "code",
   "execution_count": 13,
   "metadata": {
    "ExecuteTime": {
     "end_time": "2021-06-16T13:10:12.047055Z",
     "start_time": "2021-06-16T13:09:40.927732Z"
    }
   },
   "outputs": [
    {
     "name": "stdout",
     "output_type": "stream",
     "text": [
      "Can't receive frame (stream end?). Exiting ...\n"
     ]
    }
   ],
   "source": [
    "car_detecter('videos/video1.avi')"
   ]
  },
  {
   "cell_type": "markdown",
   "metadata": {},
   "source": [
    "### Sudoku Solver"
   ]
  },
  {
   "cell_type": "markdown",
   "metadata": {},
   "source": [
    "1. Create function that given an image of a Sudoku game crops and extracts each cell \n",
    "1. Extract the number from each cropped cell (if blank extract it as 0)\n",
    "1. Place the extracted numbers in an array (each block of 9 numbers is one array)\n",
    "1. Apply the sudoku solver to the array to get the solution\n",
    "1. Write the solution numbers in the cells"
   ]
  },
  {
   "cell_type": "code",
   "execution_count": null,
   "metadata": {
    "ExecuteTime": {
     "end_time": "2021-06-15T11:22:58.804936Z",
     "start_time": "2021-06-15T11:22:58.778010Z"
    }
   },
   "outputs": [],
   "source": [
    "\n"
   ]
  }
 ],
 "metadata": {
  "kernelspec": {
   "display_name": "Python 3",
   "language": "python",
   "name": "python3"
  },
  "language_info": {
   "codemirror_mode": {
    "name": "ipython",
    "version": 3
   },
   "file_extension": ".py",
   "mimetype": "text/x-python",
   "name": "python",
   "nbconvert_exporter": "python",
   "pygments_lexer": "ipython3",
   "version": "3.8.10"
  }
 },
 "nbformat": 4,
 "nbformat_minor": 2
}
