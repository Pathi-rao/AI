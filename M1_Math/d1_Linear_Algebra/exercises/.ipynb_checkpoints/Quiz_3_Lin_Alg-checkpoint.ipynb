{
 "cells": [
  {
   "cell_type": "markdown",
   "metadata": {},
   "source": [
    "## Linear Algebra Quiz #3\n",
    "\n",
    "![title](./img/3_0.jpeg)\n",
    "\n",
    "We strongly suggest working with numpy :)"
   ]
  },
  {
   "cell_type": "code",
   "execution_count": 1,
   "metadata": {
    "ExecuteTime": {
     "end_time": "2021-03-29T14:51:51.864509Z",
     "start_time": "2021-03-29T14:51:51.762555Z"
    }
   },
   "outputs": [],
   "source": [
    "#Do your imports here\n",
    "import numpy as np\n",
    "\n",
    "\n",
    "''' This exercise is being solved as you read this. Thanks \n",
    "  '''"
   ]
  },
  {
   "cell_type": "markdown",
   "metadata": {},
   "source": [
    "![title](./img/3_2.png)\n",
    "![title](./img/3_3.png)\n",
    "Create a program that can output\n",
    "\n",
    "- What is the value of element c23​ of Matrix C where C=A x B ?\n",
    "- What is the value of element c23​ of Matrix C where C=B x A ?"
   ]
  },
  {
   "cell_type": "code",
   "execution_count": null,
   "metadata": {},
   "outputs": [],
   "source": [
    "# okay numpy is great but... how would you inverse a matrix by hand?\n",
    "\n",
    "# To find it hand, we need to find the determinent a.k.a det of that matrix. Do a element subtraction\n",
    "# within the matrix and then divide it by the det.\n",
    "\n",
    "\n",
    "def inverse_matrix(A):\n",
    "    return \"\""
   ]
  },
  {
   "cell_type": "markdown",
   "metadata": {},
   "source": [
    "![title](./img/3_1.png)\n",
    "Create a program that can output\n",
    "\n",
    "- What is the value of the ijth element if i = 2 and j=3?\n",
    "- What is the value of the ijth element if i = 3 and j=1?"
   ]
  },
  {
   "cell_type": "code",
   "execution_count": null,
   "metadata": {},
   "outputs": [],
   "source": [
    "# Just answer using code --> easy stuff!\n",
    "\n",
    "# Harder\n",
    "# Can you build a matrix solver that can do output the result given n matrices and a sequence of operations such as [add subtract multiply transpose?]\n",
    "#Some ideas on valid operations: Multiplication Addition Subtraction Inverstion Transposed. "
   ]
  },
  {
   "cell_type": "markdown",
   "metadata": {},
   "source": [
    "![title](./img/3_3.png)\n",
    "Create a program that can output\n",
    "- How many rows will C have?\n",
    "- How many columns will C have?\n",
    "- What will be the value of c13​?"
   ]
  },
  {
   "cell_type": "code",
   "execution_count": null,
   "metadata": {},
   "outputs": [],
   "source": []
  }
 ],
 "metadata": {
  "kernelspec": {
   "display_name": "Python 3",
   "language": "python",
   "name": "python3"
  },
  "language_info": {
   "codemirror_mode": {
    "name": "ipython",
    "version": 3
   },
   "file_extension": ".py",
   "mimetype": "text/x-python",
   "name": "python",
   "nbconvert_exporter": "python",
   "pygments_lexer": "ipython3",
   "version": "3.8.8"
  }
 },
 "nbformat": 4,
 "nbformat_minor": 2
}
